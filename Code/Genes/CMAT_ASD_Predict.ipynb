{
 "cells": [
  {
   "cell_type": "code",
   "execution_count": 1,
   "id": "84dfc6cd-bc08-4456-88d7-2ab79d23791c",
   "metadata": {},
   "outputs": [],
   "source": [
    "import pandas as pd\n",
    "from sklearn import linear_model\n",
    "import numpy as np\n",
    "from matplotlib import pyplot as plt\n",
    "import ants\n",
    "import os\n",
    "from tqdm import tqdm\n",
    "import statistics\n",
    "import statsmodels.api as sm"
   ]
  },
  {
   "cell_type": "code",
   "execution_count": 2,
   "id": "df0dffee-c43b-4608-afdc-2ef000bbf2ef",
   "metadata": {},
   "outputs": [
    {
     "name": "stdout",
     "output_type": "stream",
     "text": [
      "[Errno 2] No such file or directory: '../Data/Genemaps'\n",
      "/mmfs1/data/pijarj/BC-ORG-Data/Code/Genes\n"
     ]
    }
   ],
   "source": [
    "cd ../Data/Genemaps"
   ]
  },
  {
   "cell_type": "code",
   "execution_count": 3,
   "id": "b59a5600-34cc-409e-a93e-1e85b6e6bb7c",
   "metadata": {},
   "outputs": [
    {
     "data": {
      "text/html": [
       "<div>\n",
       "<style scoped>\n",
       "    .dataframe tbody tr th:only-of-type {\n",
       "        vertical-align: middle;\n",
       "    }\n",
       "\n",
       "    .dataframe tbody tr th {\n",
       "        vertical-align: top;\n",
       "    }\n",
       "\n",
       "    .dataframe thead th {\n",
       "        text-align: right;\n",
       "    }\n",
       "</style>\n",
       "<table border=\"1\" class=\"dataframe\">\n",
       "  <thead>\n",
       "    <tr style=\"text-align: right;\">\n",
       "      <th></th>\n",
       "      <th>ados_total</th>\n",
       "      <th>ados_comm</th>\n",
       "      <th>ados_social</th>\n",
       "      <th>ados_rrb</th>\n",
       "    </tr>\n",
       "  </thead>\n",
       "  <tbody>\n",
       "    <tr>\n",
       "      <th>0</th>\n",
       "      <td>18.0</td>\n",
       "      <td>6.0</td>\n",
       "      <td>12.0</td>\n",
       "      <td>2.0</td>\n",
       "    </tr>\n",
       "    <tr>\n",
       "      <th>1</th>\n",
       "      <td>NaN</td>\n",
       "      <td>NaN</td>\n",
       "      <td>NaN</td>\n",
       "      <td>NaN</td>\n",
       "    </tr>\n",
       "    <tr>\n",
       "      <th>2</th>\n",
       "      <td>13.0</td>\n",
       "      <td>4.0</td>\n",
       "      <td>9.0</td>\n",
       "      <td>NaN</td>\n",
       "    </tr>\n",
       "    <tr>\n",
       "      <th>3</th>\n",
       "      <td>12.0</td>\n",
       "      <td>4.0</td>\n",
       "      <td>8.0</td>\n",
       "      <td>2.0</td>\n",
       "    </tr>\n",
       "    <tr>\n",
       "      <th>4</th>\n",
       "      <td>16.0</td>\n",
       "      <td>5.0</td>\n",
       "      <td>11.0</td>\n",
       "      <td>3.0</td>\n",
       "    </tr>\n",
       "    <tr>\n",
       "      <th>...</th>\n",
       "      <td>...</td>\n",
       "      <td>...</td>\n",
       "      <td>...</td>\n",
       "      <td>...</td>\n",
       "    </tr>\n",
       "    <tr>\n",
       "      <th>694</th>\n",
       "      <td>NaN</td>\n",
       "      <td>NaN</td>\n",
       "      <td>NaN</td>\n",
       "      <td>NaN</td>\n",
       "    </tr>\n",
       "    <tr>\n",
       "      <th>695</th>\n",
       "      <td>NaN</td>\n",
       "      <td>NaN</td>\n",
       "      <td>NaN</td>\n",
       "      <td>NaN</td>\n",
       "    </tr>\n",
       "    <tr>\n",
       "      <th>696</th>\n",
       "      <td>13.0</td>\n",
       "      <td>4.0</td>\n",
       "      <td>9.0</td>\n",
       "      <td>2.0</td>\n",
       "    </tr>\n",
       "    <tr>\n",
       "      <th>697</th>\n",
       "      <td>8.0</td>\n",
       "      <td>2.0</td>\n",
       "      <td>6.0</td>\n",
       "      <td>2.0</td>\n",
       "    </tr>\n",
       "    <tr>\n",
       "      <th>698</th>\n",
       "      <td>NaN</td>\n",
       "      <td>NaN</td>\n",
       "      <td>NaN</td>\n",
       "      <td>NaN</td>\n",
       "    </tr>\n",
       "  </tbody>\n",
       "</table>\n",
       "<p>699 rows × 4 columns</p>\n",
       "</div>"
      ],
      "text/plain": [
       "     ados_total  ados_comm  ados_social  ados_rrb\n",
       "0          18.0        6.0         12.0       2.0\n",
       "1           NaN        NaN          NaN       NaN\n",
       "2          13.0        4.0          9.0       NaN\n",
       "3          12.0        4.0          8.0       2.0\n",
       "4          16.0        5.0         11.0       3.0\n",
       "..          ...        ...          ...       ...\n",
       "694         NaN        NaN          NaN       NaN\n",
       "695         NaN        NaN          NaN       NaN\n",
       "696        13.0        4.0          9.0       2.0\n",
       "697         8.0        2.0          6.0       2.0\n",
       "698         NaN        NaN          NaN       NaN\n",
       "\n",
       "[699 rows x 4 columns]"
      ]
     },
     "execution_count": 3,
     "metadata": {},
     "output_type": "execute_result"
    }
   ],
   "source": [
    "#read in symptom patient data and slice out important columns\n",
    "df = pd.read_csv('/mmfs1/data/pijarj/Data4Julianna/df_patients_S699.csv')\n",
    "df.columns\n",
    "df[['ados_total', 'ados_comm', 'ados_social', 'ados_rrb']]"
   ]
  },
  {
   "cell_type": "code",
   "execution_count": 4,
   "id": "6ae75e5e-db86-4057-b9ee-c41714b3d7dd",
   "metadata": {},
   "outputs": [
    {
     "data": {
      "text/plain": [
       "(699, 51, 51)"
      ]
     },
     "execution_count": 4,
     "metadata": {},
     "output_type": "execute_result"
    }
   ],
   "source": [
    "#load in cmat data\n",
    "diffmat = np.load('/mmfs1/data/pijarj/Data4Julianna/recon_asd_mu.npz')\n",
    "diffmat = diffmat['data']\n",
    "diffmat.shape"
   ]
  },
  {
   "cell_type": "code",
   "execution_count": 5,
   "id": "3b317003-25e2-4b80-91e0-e1bd7f69c821",
   "metadata": {},
   "outputs": [],
   "source": [
    "atlas = ants.image_read('../../YeoAtlas/Atlas_parc-7n_2mm.nii')"
   ]
  },
  {
   "cell_type": "code",
   "execution_count": 6,
   "id": "9ec07489-c5a3-42ed-bcb2-a6afc13bd09b",
   "metadata": {},
   "outputs": [],
   "source": [
    "genemaps = [file for file in os.listdir() if file.endswith('.nii.gz')]\n",
    "genemaps.sort()"
   ]
  },
  {
   "cell_type": "code",
   "execution_count": 7,
   "id": "9b4d86db-bafd-407e-a87a-4a3afd322b1d",
   "metadata": {},
   "outputs": [
    {
     "name": "stdout",
     "output_type": "stream",
     "text": [
      "699\n",
      "0\n"
     ]
    },
    {
     "data": {
      "text/plain": [
       "array([], shape=(0, 699), dtype=float64)"
      ]
     },
     "execution_count": 7,
     "metadata": {},
     "output_type": "execute_result"
    }
   ],
   "source": [
    "nsubjects = 699\n",
    "ngenes = len(genemaps)\n",
    "print(nsubjects)\n",
    "print(ngenes)\n",
    "\n",
    "gene_fmri_corr = np.zeros((ngenes,nsubjects))\n",
    "gene_fmri_corr"
   ]
  },
  {
   "cell_type": "code",
   "execution_count": 8,
   "id": "6247aabf-a002-4995-b9ee-99fb1a7c35c1",
   "metadata": {},
   "outputs": [
    {
     "name": "stderr",
     "output_type": "stream",
     "text": [
      "0it [00:00, ?it/s]\n"
     ]
    }
   ],
   "source": [
    "for g in tqdm(range(ngenes)):\n",
    "    gene_im = ants.image_read(genemaps[g])\n",
    "    gene_flat = gene_im.numpy().flatten()\n",
    "    atlas_flat = atlas.numpy().flatten()\n",
    "    roi_expression = np.array([gene_flat[atlas_flat==roi].mean() for roi in np.arange(1,52)])\n",
    "    gene_sim = np.zeros((51,51))\n",
    "    for i in range(51):\n",
    "        for j in range(51):\n",
    "            gene_sim[i,j] = abs(roi_expression[i]-roi_expression[j])\n",
    "\n",
    "    triu = np.triu_indices(51,k=1)\n",
    "    gene_vec = gene_sim[triu]\n",
    "\n",
    "    for s in range(nsubjects):\n",
    "        subject_diffmat = diffmat[s,:,:] # correlation matrices for one subject\n",
    "        fmri_vec = subject_diffmat[triu]\n",
    "        data = np.corrcoef(gene_vec,fmri_vec)[0,1]\n",
    "        gene_fmri_corr[g,s] = data"
   ]
  },
  {
   "cell_type": "code",
   "execution_count": 9,
   "id": "ae74f603-27bd-4b40-924b-8b439fdb9fa1",
   "metadata": {},
   "outputs": [
    {
     "name": "stderr",
     "output_type": "stream",
     "text": [
      "<ipython-input-9-3b6dc5dc04f6>:2: UserWarning:\n",
      "\n",
      "Attempting to set identical bottom == top == -0.5 results in singular transformations; automatically expanding.\n",
      "\n"
     ]
    },
    {
     "data": {
      "text/plain": [
       "<matplotlib.image.AxesImage at 0x1554d6da11c0>"
      ]
     },
     "execution_count": 9,
     "metadata": {},
     "output_type": "execute_result"
    },
    {
     "data": {
      "image/png": "[encoded data removed]",
      "text/plain": [
       "<Figure size 1080x720 with 1 Axes>"
      ]
     },
     "metadata": {
      "needs_background": "light"
     },
     "output_type": "display_data"
    }
   ],
   "source": [
    "plt.figure(figsize=(15,10))\n",
    "plt.imshow(gene_fmri_corr)"
   ]
  },
  {
   "cell_type": "code",
   "execution_count": 10,
   "id": "aa326db3-b263-403c-bcfb-02609c5ebfdd",
   "metadata": {},
   "outputs": [
    {
     "ename": "ValueError",
     "evalue": "Found array with 0 feature(s) (shape=(429, 0)) while a minimum of 1 is required.",
     "output_type": "error",
     "traceback": [
      "\u001b[0;31m---------------------------------------------------------------------------\u001b[0m",
      "\u001b[0;31mValueError\u001b[0m                                Traceback (most recent call last)",
      "\u001b[0;32m<ipython-input-10-1aa1222caaec>\u001b[0m in \u001b[0;36m<module>\u001b[0;34m\u001b[0m\n\u001b[1;32m      7\u001b[0m \u001b[0mX_use_total\u001b[0m \u001b[0;34m=\u001b[0m \u001b[0mX_use_total\u001b[0m\u001b[0;34m.\u001b[0m\u001b[0mtranspose\u001b[0m\u001b[0;34m(\u001b[0m\u001b[0;34m)\u001b[0m\u001b[0;34m\u001b[0m\u001b[0;34m\u001b[0m\u001b[0m\n\u001b[1;32m      8\u001b[0m \u001b[0mregression_total\u001b[0m \u001b[0;34m=\u001b[0m  \u001b[0mlinear_model\u001b[0m\u001b[0;34m.\u001b[0m\u001b[0mLinearRegression\u001b[0m\u001b[0;34m(\u001b[0m\u001b[0mnormalize\u001b[0m\u001b[0;34m=\u001b[0m\u001b[0;32mTrue\u001b[0m\u001b[0;34m)\u001b[0m\u001b[0;34m\u001b[0m\u001b[0;34m\u001b[0m\u001b[0m\n\u001b[0;32m----> 9\u001b[0;31m \u001b[0mlinear_regression_total\u001b[0m \u001b[0;34m=\u001b[0m \u001b[0mregression_total\u001b[0m\u001b[0;34m.\u001b[0m\u001b[0mfit\u001b[0m\u001b[0;34m(\u001b[0m\u001b[0mX_use_total\u001b[0m\u001b[0;34m,\u001b[0m\u001b[0mY_use_total\u001b[0m\u001b[0;34m)\u001b[0m\u001b[0;34m\u001b[0m\u001b[0;34m\u001b[0m\u001b[0m\n\u001b[0m\u001b[1;32m     10\u001b[0m \u001b[0mY_use_hat_total\u001b[0m \u001b[0;34m=\u001b[0m \u001b[0mlinear_regression_total\u001b[0m\u001b[0;34m.\u001b[0m\u001b[0mpredict\u001b[0m\u001b[0;34m(\u001b[0m\u001b[0mX_use_total\u001b[0m\u001b[0;34m)\u001b[0m\u001b[0;34m\u001b[0m\u001b[0;34m\u001b[0m\u001b[0m\n",
      "\u001b[0;32m~/anaconda3/lib/python3.8/site-packages/sklearn/linear_model/_base.py\u001b[0m in \u001b[0;36mfit\u001b[0;34m(self, X, y, sample_weight)\u001b[0m\n\u001b[1;32m    516\u001b[0m         \u001b[0maccept_sparse\u001b[0m \u001b[0;34m=\u001b[0m \u001b[0;32mFalse\u001b[0m \u001b[0;32mif\u001b[0m \u001b[0mself\u001b[0m\u001b[0;34m.\u001b[0m\u001b[0mpositive\u001b[0m \u001b[0;32melse\u001b[0m \u001b[0;34m[\u001b[0m\u001b[0;34m'csr'\u001b[0m\u001b[0;34m,\u001b[0m \u001b[0;34m'csc'\u001b[0m\u001b[0;34m,\u001b[0m \u001b[0;34m'coo'\u001b[0m\u001b[0;34m]\u001b[0m\u001b[0;34m\u001b[0m\u001b[0;34m\u001b[0m\u001b[0m\n\u001b[1;32m    517\u001b[0m \u001b[0;34m\u001b[0m\u001b[0m\n\u001b[0;32m--> 518\u001b[0;31m         X, y = self._validate_data(X, y, accept_sparse=accept_sparse,\n\u001b[0m\u001b[1;32m    519\u001b[0m                                    y_numeric=True, multi_output=True)\n\u001b[1;32m    520\u001b[0m \u001b[0;34m\u001b[0m\u001b[0m\n",
      "\u001b[0;32m~/anaconda3/lib/python3.8/site-packages/sklearn/base.py\u001b[0m in \u001b[0;36m_validate_data\u001b[0;34m(self, X, y, reset, validate_separately, **check_params)\u001b[0m\n\u001b[1;32m    431\u001b[0m                 \u001b[0my\u001b[0m \u001b[0;34m=\u001b[0m \u001b[0mcheck_array\u001b[0m\u001b[0;34m(\u001b[0m\u001b[0my\u001b[0m\u001b[0;34m,\u001b[0m \u001b[0;34m**\u001b[0m\u001b[0mcheck_y_params\u001b[0m\u001b[0;34m)\u001b[0m\u001b[0;34m\u001b[0m\u001b[0;34m\u001b[0m\u001b[0m\n\u001b[1;32m    432\u001b[0m             \u001b[0;32melse\u001b[0m\u001b[0;34m:\u001b[0m\u001b[0;34m\u001b[0m\u001b[0;34m\u001b[0m\u001b[0m\n\u001b[0;32m--> 433\u001b[0;31m                 \u001b[0mX\u001b[0m\u001b[0;34m,\u001b[0m \u001b[0my\u001b[0m \u001b[0;34m=\u001b[0m \u001b[0mcheck_X_y\u001b[0m\u001b[0;34m(\u001b[0m\u001b[0mX\u001b[0m\u001b[0;34m,\u001b[0m \u001b[0my\u001b[0m\u001b[0;34m,\u001b[0m \u001b[0;34m**\u001b[0m\u001b[0mcheck_params\u001b[0m\u001b[0;34m)\u001b[0m\u001b[0;34m\u001b[0m\u001b[0;34m\u001b[0m\u001b[0m\n\u001b[0m\u001b[1;32m    434\u001b[0m             \u001b[0mout\u001b[0m \u001b[0;34m=\u001b[0m \u001b[0mX\u001b[0m\u001b[0;34m,\u001b[0m \u001b[0my\u001b[0m\u001b[0;34m\u001b[0m\u001b[0;34m\u001b[0m\u001b[0m\n\u001b[1;32m    435\u001b[0m \u001b[0;34m\u001b[0m\u001b[0m\n",
      "\u001b[0;32m~/anaconda3/lib/python3.8/site-packages/sklearn/utils/validation.py\u001b[0m in \u001b[0;36minner_f\u001b[0;34m(*args, **kwargs)\u001b[0m\n\u001b[1;32m     61\u001b[0m             \u001b[0mextra_args\u001b[0m \u001b[0;34m=\u001b[0m \u001b[0mlen\u001b[0m\u001b[0;34m(\u001b[0m\u001b[0margs\u001b[0m\u001b[0;34m)\u001b[0m \u001b[0;34m-\u001b[0m \u001b[0mlen\u001b[0m\u001b[0;34m(\u001b[0m\u001b[0mall_args\u001b[0m\u001b[0;34m)\u001b[0m\u001b[0;34m\u001b[0m\u001b[0;34m\u001b[0m\u001b[0m\n\u001b[1;32m     62\u001b[0m             \u001b[0;32mif\u001b[0m \u001b[0mextra_args\u001b[0m \u001b[0;34m<=\u001b[0m \u001b[0;36m0\u001b[0m\u001b[0;34m:\u001b[0m\u001b[0;34m\u001b[0m\u001b[0;34m\u001b[0m\u001b[0m\n\u001b[0;32m---> 63\u001b[0;31m                 \u001b[0;32mreturn\u001b[0m \u001b[0mf\u001b[0m\u001b[0;34m(\u001b[0m\u001b[0;34m*\u001b[0m\u001b[0margs\u001b[0m\u001b[0;34m,\u001b[0m \u001b[0;34m**\u001b[0m\u001b[0mkwargs\u001b[0m\u001b[0;34m)\u001b[0m\u001b[0;34m\u001b[0m\u001b[0;34m\u001b[0m\u001b[0m\n\u001b[0m\u001b[1;32m     64\u001b[0m \u001b[0;34m\u001b[0m\u001b[0m\n\u001b[1;32m     65\u001b[0m             \u001b[0;31m# extra_args > 0\u001b[0m\u001b[0;34m\u001b[0m\u001b[0;34m\u001b[0m\u001b[0;34m\u001b[0m\u001b[0m\n",
      "\u001b[0;32m~/anaconda3/lib/python3.8/site-packages/sklearn/utils/validation.py\u001b[0m in \u001b[0;36mcheck_X_y\u001b[0;34m(X, y, accept_sparse, accept_large_sparse, dtype, order, copy, force_all_finite, ensure_2d, allow_nd, multi_output, ensure_min_samples, ensure_min_features, y_numeric, estimator)\u001b[0m\n\u001b[1;32m    812\u001b[0m         \u001b[0;32mraise\u001b[0m \u001b[0mValueError\u001b[0m\u001b[0;34m(\u001b[0m\u001b[0;34m\"y cannot be None\"\u001b[0m\u001b[0;34m)\u001b[0m\u001b[0;34m\u001b[0m\u001b[0;34m\u001b[0m\u001b[0m\n\u001b[1;32m    813\u001b[0m \u001b[0;34m\u001b[0m\u001b[0m\n\u001b[0;32m--> 814\u001b[0;31m     X = check_array(X, accept_sparse=accept_sparse,\n\u001b[0m\u001b[1;32m    815\u001b[0m                     \u001b[0maccept_large_sparse\u001b[0m\u001b[0;34m=\u001b[0m\u001b[0maccept_large_sparse\u001b[0m\u001b[0;34m,\u001b[0m\u001b[0;34m\u001b[0m\u001b[0;34m\u001b[0m\u001b[0m\n\u001b[1;32m    816\u001b[0m                     \u001b[0mdtype\u001b[0m\u001b[0;34m=\u001b[0m\u001b[0mdtype\u001b[0m\u001b[0;34m,\u001b[0m \u001b[0morder\u001b[0m\u001b[0;34m=\u001b[0m\u001b[0morder\u001b[0m\u001b[0;34m,\u001b[0m \u001b[0mcopy\u001b[0m\u001b[0;34m=\u001b[0m\u001b[0mcopy\u001b[0m\u001b[0;34m,\u001b[0m\u001b[0;34m\u001b[0m\u001b[0;34m\u001b[0m\u001b[0m\n",
      "\u001b[0;32m~/anaconda3/lib/python3.8/site-packages/sklearn/utils/validation.py\u001b[0m in \u001b[0;36minner_f\u001b[0;34m(*args, **kwargs)\u001b[0m\n\u001b[1;32m     61\u001b[0m             \u001b[0mextra_args\u001b[0m \u001b[0;34m=\u001b[0m \u001b[0mlen\u001b[0m\u001b[0;34m(\u001b[0m\u001b[0margs\u001b[0m\u001b[0;34m)\u001b[0m \u001b[0;34m-\u001b[0m \u001b[0mlen\u001b[0m\u001b[0;34m(\u001b[0m\u001b[0mall_args\u001b[0m\u001b[0;34m)\u001b[0m\u001b[0;34m\u001b[0m\u001b[0;34m\u001b[0m\u001b[0m\n\u001b[1;32m     62\u001b[0m             \u001b[0;32mif\u001b[0m \u001b[0mextra_args\u001b[0m \u001b[0;34m<=\u001b[0m \u001b[0;36m0\u001b[0m\u001b[0;34m:\u001b[0m\u001b[0;34m\u001b[0m\u001b[0;34m\u001b[0m\u001b[0m\n\u001b[0;32m---> 63\u001b[0;31m                 \u001b[0;32mreturn\u001b[0m \u001b[0mf\u001b[0m\u001b[0;34m(\u001b[0m\u001b[0;34m*\u001b[0m\u001b[0margs\u001b[0m\u001b[0;34m,\u001b[0m \u001b[0;34m**\u001b[0m\u001b[0mkwargs\u001b[0m\u001b[0;34m)\u001b[0m\u001b[0;34m\u001b[0m\u001b[0;34m\u001b[0m\u001b[0m\n\u001b[0m\u001b[1;32m     64\u001b[0m \u001b[0;34m\u001b[0m\u001b[0m\n\u001b[1;32m     65\u001b[0m             \u001b[0;31m# extra_args > 0\u001b[0m\u001b[0;34m\u001b[0m\u001b[0;34m\u001b[0m\u001b[0;34m\u001b[0m\u001b[0m\n",
      "\u001b[0;32m~/anaconda3/lib/python3.8/site-packages/sklearn/utils/validation.py\u001b[0m in \u001b[0;36mcheck_array\u001b[0;34m(array, accept_sparse, accept_large_sparse, dtype, order, copy, force_all_finite, ensure_2d, allow_nd, ensure_min_samples, ensure_min_features, estimator)\u001b[0m\n\u001b[1;32m    675\u001b[0m         \u001b[0mn_features\u001b[0m \u001b[0;34m=\u001b[0m \u001b[0marray\u001b[0m\u001b[0;34m.\u001b[0m\u001b[0mshape\u001b[0m\u001b[0;34m[\u001b[0m\u001b[0;36m1\u001b[0m\u001b[0;34m]\u001b[0m\u001b[0;34m\u001b[0m\u001b[0;34m\u001b[0m\u001b[0m\n\u001b[1;32m    676\u001b[0m         \u001b[0;32mif\u001b[0m \u001b[0mn_features\u001b[0m \u001b[0;34m<\u001b[0m \u001b[0mensure_min_features\u001b[0m\u001b[0;34m:\u001b[0m\u001b[0;34m\u001b[0m\u001b[0;34m\u001b[0m\u001b[0m\n\u001b[0;32m--> 677\u001b[0;31m             raise ValueError(\"Found array with %d feature(s) (shape=%s) while\"\n\u001b[0m\u001b[1;32m    678\u001b[0m                              \u001b[0;34m\" a minimum of %d is required%s.\"\u001b[0m\u001b[0;34m\u001b[0m\u001b[0;34m\u001b[0m\u001b[0m\n\u001b[1;32m    679\u001b[0m                              % (n_features, array.shape, ensure_min_features,\n",
      "\u001b[0;31mValueError\u001b[0m: Found array with 0 feature(s) (shape=(429, 0)) while a minimum of 1 is required."
     ]
    }
   ],
   "source": [
    "col_id = 0\n",
    "Y_total = df[['ados_total', 'ados_comm', 'ados_social', 'ados_rrb']].values\n",
    "column_total = (['ados_total', 'ados_comm', 'ados_social', 'ados_rrb'][col_id])\n",
    "good_subjects_total = ~np.isnan(Y_total)[:,col_id]\n",
    "Y_use_total = Y_total[good_subjects_total,col_id] \n",
    "X_use_total = gene_fmri_corr[:,good_subjects_total]\n",
    "X_use_total = X_use_total.transpose()\n",
    "regression_total =  linear_model.LinearRegression(normalize=True)\n",
    "linear_regression_total = regression_total.fit(X_use_total,Y_use_total) \n",
    "Y_use_hat_total = linear_regression_total.predict(X_use_total)"
   ]
  },
  {
   "cell_type": "code",
   "execution_count": null,
   "id": "880016fb-283e-4424-9f58-034954d98a74",
   "metadata": {},
   "outputs": [],
   "source": [
    "#scatter plot for ados_total\n",
    "plt.scatter(Y_use_total,Y_use_hat_total,color='mediumaquamarine')\n",
    "plt.title('ADOS TOTAL')\n",
    "plt.xlabel('Actual Score')\n",
    "plt.ylabel('Predicted Score')\n",
    "plt.show()"
   ]
  },
  {
   "cell_type": "code",
   "execution_count": null,
   "id": "8ec8e313-d52a-42f0-92be-3119c2d34118",
   "metadata": {},
   "outputs": [],
   "source": [
    "col_id = 1\n",
    "Y_comm = df[['ados_total', 'ados_comm', 'ados_social', 'ados_rrb']].values\n",
    "column_comm = (['ados_total', 'ados_comm', 'ados_social', 'ados_rrb'][col_id])\n",
    "good_subjects_comm = ~np.isnan(Y_comm)[:,col_id]\n",
    "Y_use_comm = Y_comm[good_subjects_comm,col_id] \n",
    "X_use_comm = gene_fmri_corr[:,good_subjects_comm]\n",
    "X_use_comm = X_use_comm.transpose()\n",
    "regression_comm =  linear_model.LinearRegression(normalize=True)\n",
    "linear_regression_comm = regression_comm.fit(X_use_comm,Y_use_comm) \n",
    "Y_use_hat_comm = linear_regression_comm.predict(X_use_comm)"
   ]
  },
  {
   "cell_type": "code",
   "execution_count": null,
   "id": "91b8d1cd-342c-40d1-a8b5-086ca94328a5",
   "metadata": {},
   "outputs": [],
   "source": [
    "#scatter plot for ados_comm\n",
    "plt.scatter(Y_use_comm,Y_use_hat_comm,color='cornflowerblue')\n",
    "plt.title('ADOS COMM')\n",
    "plt.xlabel('Actual Score')\n",
    "plt.ylabel('Predicted Score')\n",
    "plt.show()"
   ]
  },
  {
   "cell_type": "code",
   "execution_count": null,
   "id": "04227bfd-44c6-4e7e-9b3f-50f3a48faaf3",
   "metadata": {},
   "outputs": [],
   "source": [
    "col_id = 2\n",
    "Y_social = df[['ados_total', 'ados_comm', 'ados_social', 'ados_rrb']].values\n",
    "column_social = (['ados_total', 'ados_comm', 'ados_social', 'ados_rrb'][col_id])\n",
    "good_subjects_social = ~np.isnan(Y_social)[:,col_id]\n",
    "Y_use_social = Y_social[good_subjects_social,col_id] \n",
    "X_use_social = gene_fmri_corr[:,good_subjects_social]\n",
    "X_use_social = X_use_social.transpose()\n",
    "regression_social =  linear_model.LinearRegression(normalize=True)\n",
    "linear_regression_social = regression_social.fit(X_use_social,Y_use_social) \n",
    "Y_use_hat_social = linear_regression_social.predict(X_use_social)"
   ]
  },
  {
   "cell_type": "code",
   "execution_count": null,
   "id": "49e589ae-d66e-4b0f-bdcd-a919c0c2bd78",
   "metadata": {},
   "outputs": [],
   "source": [
    "#scatter plot for ados_social\n",
    "plt.scatter(Y_use_social,Y_use_hat_social,color='mediumvioletred')\n",
    "plt.title('ADOS SOCIAL')\n",
    "plt.xlabel('Actual Score')\n",
    "plt.ylabel('Predicted Score')\n",
    "plt.show()"
   ]
  },
  {
   "cell_type": "code",
   "execution_count": null,
   "id": "5260e344-94e6-4b3b-81d7-e3918d8e87e2",
   "metadata": {},
   "outputs": [],
   "source": [
    "col_id = 3\n",
    "Y_rrb = df[['ados_total', 'ados_comm', 'ados_social', 'ados_rrb']].values\n",
    "column_rrb = (['ados_total', 'ados_comm', 'ados_social', 'ados_rrb'][col_id])\n",
    "good_subjects_rrb = ~np.isnan(Y_rrb)[:,col_id]\n",
    "Y_use_rrb = Y_rrb[good_subjects_rrb,col_id] \n",
    "X_use_rrb = gene_fmri_corr[:,good_subjects_rrb]\n",
    "X_use_rrb = X_use_rrb.transpose()\n",
    "regression_rrb =  linear_model.LinearRegression(normalize=True)\n",
    "linear_regression_rrb = regression_rrb.fit(X_use_rrb,Y_use_rrb) \n",
    "Y_use_hat_rrb = linear_regression_rrb.predict(X_use_rrb)"
   ]
  },
  {
   "cell_type": "code",
   "execution_count": null,
   "id": "183e3043-e539-454d-baab-381f99385ad9",
   "metadata": {},
   "outputs": [],
   "source": [
    "#scatter plot for ados_rrb\n",
    "plt.scatter(Y_use_rrb,Y_use_hat_rrb,color='rebeccapurple')\n",
    "plt.title('ADOS RRB')\n",
    "plt.xlabel('Actual Score')\n",
    "plt.ylabel('Predicted Score')\n",
    "plt.show()"
   ]
  },
  {
   "cell_type": "code",
   "execution_count": null,
   "id": "ff392d80-4af3-43bd-a07d-3a5421cda6ca",
   "metadata": {},
   "outputs": [],
   "source": [
    "#variance explained for ados_total\n",
    "from sklearn.metrics import explained_variance_score\n",
    "total = explained_variance_score(Y_use_total,Y_use_hat_total)*100\n",
    "print(total)"
   ]
  },
  {
   "cell_type": "code",
   "execution_count": null,
   "id": "e527a4da-4582-4232-82b2-dd0c0ce9b66d",
   "metadata": {},
   "outputs": [],
   "source": [
    "#variance explained for ados_comm\n",
    "from sklearn.metrics import explained_variance_score\n",
    "comm = explained_variance_score(Y_use_comm,Y_use_hat_comm)*100\n",
    "print(comm)"
   ]
  },
  {
   "cell_type": "code",
   "execution_count": null,
   "id": "b934717e-da82-46ca-b316-5a58533f41af",
   "metadata": {},
   "outputs": [],
   "source": [
    "#variance explained for ados_social\n",
    "from sklearn.metrics import explained_variance_score\n",
    "social = explained_variance_score(Y_use_social,Y_use_hat_social)*100\n",
    "print(social)"
   ]
  },
  {
   "cell_type": "code",
   "execution_count": null,
   "id": "057b6390-3a83-4a27-a5bd-1fb3a0dbcce2",
   "metadata": {},
   "outputs": [],
   "source": [
    "#variance explained for ados_rrb\n",
    "from sklearn.metrics import explained_variance_score\n",
    "rrb = explained_variance_score(Y_use_rrb,Y_use_hat_rrb)*100\n",
    "print(rrb)"
   ]
  },
  {
   "cell_type": "code",
   "execution_count": null,
   "id": "b7b0c9a7-cae8-4b74-b036-8f1b1534a633",
   "metadata": {},
   "outputs": [],
   "source": [
    "fig = plt.figure(figsize=(15,5))\n",
    "ax = fig.add_axes([0,0,1,1])\n",
    "ados_label = ['ados_total','ados_social','ados_comm','ados_rrb']\n",
    "var_explained = total, comm, social, rrb\n",
    "plt.bar(ados_label,var_explained,color='steelblue')\n",
    "plt.title('ADOS Variance Explained',color='darkslateblue')\n",
    "plt.ylabel('Percent Variance Explained',color='darkslateblue')\n",
    "plt.xlabel('Symptom',color='darkslateblue')"
   ]
  },
  {
   "cell_type": "code",
   "execution_count": null,
   "id": "44d24324-dbbc-4a05-99db-9ace6918ba9c",
   "metadata": {},
   "outputs": [],
   "source": [
    "#variance explained of denoised vs not denoised\n",
    "fig = plt.figure(figsize=(15,5))\n",
    "ax = fig.add_axes([0,0,1,1])\n",
    "ados_label = ['ados_total','ados_social','ados_comm','ados_rrb']\n",
    "x_axis = np.arange(len(ados_label))\n",
    "\n",
    "#not denoised is asd_mu\n",
    "not_denoised = var_explained\n",
    "\n",
    "#denoised is diffmat\n",
    "denoised = [2.651116934212927,1.369006035359288,4.331740939194462,2.0557265540216085]\n",
    "\n",
    "#plot bar graph\n",
    "plt.bar(x_axis-0.2,not_denoised,0.4,label='Not Denoised (asd_mu)',color='palegreen')\n",
    "plt.bar(x_axis+0.2,denoised,0.4,label='Denoised (diffmat)',color='forestgreen')\n",
    "plt.title('ADOS Variance Explained In Not Denoised vs Denoised',color='darkgreen')\n",
    "plt.xticks(x_axis, ados_label,color='darkgreen')\n",
    "plt.xlabel('Symptom',color='darkgreen')\n",
    "plt.ylabel('Percent Variance Explained',color='darkgreen')\n",
    "plt.legend()\n",
    "plt.show()"
   ]
  },
  {
   "cell_type": "code",
   "execution_count": null,
   "id": "324fc988-932f-4e12-a611-d1ef9d1a79aa",
   "metadata": {},
   "outputs": [],
   "source": [
    "#correlation coefficents for ados_total\n",
    "coefficient_total = regression_total.coef_\n",
    "labels = ['NLGN4Y', 'POGZ', 'FMR1', 'CNTNAP2', 'NLGN3','NLGN4X', 'MECP2', 'MET', 'OXTR', 'RELN','SHANK3', 'SLC6A4', 'NRXN1']\n",
    "print(column_total)\n",
    "print()\n",
    "for i in range(0,13):\n",
    "    print(f'{labels[i]},{coefficient_total[i]}')"
   ]
  },
  {
   "cell_type": "code",
   "execution_count": null,
   "id": "b183f751-6009-42ea-95b6-67a946996218",
   "metadata": {},
   "outputs": [],
   "source": [
    "#correlation coefficents for ados_comm\n",
    "coefficient_comm = regression_comm.coef_\n",
    "labels = ['NLGN4Y', 'POGZ', 'FMR1', 'CNTNAP2', 'NLGN3','NLGN4X', 'MECP2', 'MET', 'OXTR', 'RELN','SHANK3', 'SLC6A4', 'NRXN1']\n",
    "print(column_comm)\n",
    "print()\n",
    "for i in range(0,13):\n",
    "    print(f'{labels[i]},{coefficient_comm[i]}')"
   ]
  },
  {
   "cell_type": "code",
   "execution_count": null,
   "id": "586655b4-30de-4e71-9ba7-25f312247975",
   "metadata": {},
   "outputs": [],
   "source": [
    "#correlation coefficents for ados_social\n",
    "coefficient_social = regression_social.coef_\n",
    "labels = ['NLGN4Y', 'POGZ', 'FMR1', 'CNTNAP2', 'NLGN3','NLGN4X', 'MECP2', 'MET', 'OXTR', 'RELN','SHANK3', 'SLC6A4', 'NRXN1']\n",
    "print(column_social)\n",
    "print()\n",
    "for i in range(0,13):\n",
    "    print(f'{labels[i]},{coefficient_social[i]}')"
   ]
  },
  {
   "cell_type": "code",
   "execution_count": null,
   "id": "d70cc477-c228-4c10-8433-11acc91f7bf5",
   "metadata": {},
   "outputs": [],
   "source": [
    "#correlation coefficents for ados_rrb\n",
    "coefficient_rrb = regression_rrb.coef_\n",
    "labels = ['NLGN4Y', 'POGZ', 'FMR1', 'CNTNAP2', 'NLGN3','NLGN4X', 'MECP2', 'MET', 'OXTR', 'RELN','SHANK3', 'SLC6A4', 'NRXN1']\n",
    "print(column_rrb)\n",
    "print()\n",
    "for i in range(0,13):\n",
    "    print(f'{labels[i]},{coefficient_rrb[i]}')"
   ]
  },
  {
   "cell_type": "code",
   "execution_count": null,
   "id": "778d955e-feff-41b1-a905-65c39310deb8",
   "metadata": {},
   "outputs": [],
   "source": [
    "fig = plt.figure(figsize=(15,5))\n",
    "ax = fig.add_axes([0,0,1,1])\n",
    "plt.bar(labels,coefficient_total,color='lightseagreen')\n",
    "plt.title('Gene Correlation Coefficients for ADOS TOTAL',color='teal')\n",
    "plt.ylabel('Correlation Coefficient',color='teal')\n",
    "plt.xlabel('Gene',color='teal')\n",
    "plt.show()"
   ]
  },
  {
   "cell_type": "code",
   "execution_count": null,
   "id": "3c861b91-500e-41ba-a994-1ef2e472209d",
   "metadata": {},
   "outputs": [],
   "source": [
    "fig = plt.figure(figsize=(15,5))\n",
    "ax = fig.add_axes([0,0,1,1])\n",
    "plt.bar(labels,coefficient_comm,color='blueviolet')\n",
    "plt.title('Gene Correlation Coefficients for ADOS COMM',color='indigo')\n",
    "plt.ylabel('Correlation Coefficient',color='indigo')\n",
    "plt.xlabel('Gene',color='indigo')\n",
    "plt.show()"
   ]
  },
  {
   "cell_type": "code",
   "execution_count": null,
   "id": "7792ec5e-32c3-4955-91eb-d438b64974d3",
   "metadata": {},
   "outputs": [],
   "source": [
    "fig = plt.figure(figsize=(15,5))\n",
    "ax = fig.add_axes([0,0,1,1])\n",
    "plt.bar(labels,coefficient_social,color='orchid')\n",
    "plt.title('Gene Correlation Coefficients for ADOS SOCIAL',color='darkmagenta')\n",
    "plt.ylabel('Correlation Coefficient',color='darkmagenta')\n",
    "plt.xlabel('Gene',color='darkmagenta')\n",
    "plt.show()"
   ]
  },
  {
   "cell_type": "code",
   "execution_count": null,
   "id": "5a86a417-78c5-46c6-a153-309902eede00",
   "metadata": {},
   "outputs": [],
   "source": [
    "fig = plt.figure(figsize=(15,5))\n",
    "ax = fig.add_axes([0,0,1,1])\n",
    "plt.bar(labels,coefficient_rrb,color='goldenrod')\n",
    "plt.title('Gene Correlation Coefficients for ADOS RRB',color='peru')\n",
    "plt.ylabel('Correlation Coefficient',color='peru')\n",
    "plt.xlabel('Gene',color='peru')\n",
    "plt.show()"
   ]
  },
  {
   "cell_type": "code",
   "execution_count": null,
   "id": "da6fa14e-294c-43c2-a315-401f7c6d420e",
   "metadata": {},
   "outputs": [],
   "source": [
    "#significance of coefficients for ados_total\n",
    "print('ADOS_TOTAL')\n",
    "X_total = X_use_total.copy()\n",
    "Y_total = Y_use_total.copy()\n",
    "X_total = sm.add_constant(X_total)\n",
    "print(X_total.shape)\n",
    "print(Y_total.shape)\n",
    "\n",
    "est_total = sm.OLS(Y_total, X_total)\n",
    "est2_total = est_total.fit()\n",
    "print(est2_total.summary())"
   ]
  },
  {
   "cell_type": "code",
   "execution_count": null,
   "id": "fb294752-d8c8-426c-8584-1d870fb3dda1",
   "metadata": {},
   "outputs": [],
   "source": [
    "def plot_errorbar_from_table(est2_total,labels):\n",
    "    coef_total = est2_total.params[1::]\n",
    "    ci_total = est2_total.conf_int()[1::,:]\n",
    "    ci_rel_total = abs(np.vstack((coef_total,coef_total)).transpose() - ci_total)\n",
    "    ci_rel_total = ci_rel_total.transpose()\n",
    "    xs_total = np.arange(len(coef_total))\n",
    "\n",
    "    plt.figure(figsize=(15,5))\n",
    "    plt.bar(xs_total,coef_total,color='bisque')\n",
    "    plt.errorbar(xs_total,coef_total,ci_rel_total,fmt='r ',capsize=10,ecolor='orangered')\n",
    "    plt.xticks(xs_total,labels=labels);"
   ]
  },
  {
   "cell_type": "code",
   "execution_count": null,
   "id": "392442a9-36a7-48a1-94f5-0696bbc860ea",
   "metadata": {},
   "outputs": [],
   "source": [
    "plot_errorbar_from_table(est2_total,labels)\n",
    "plt.title('Coefficient with Errorbar For ADOS_TOTAL',color='orangered')\n",
    "plt.ylabel('Correlation Coefficient',color='orangered')\n",
    "plt.xlabel('Gene',color='orangered')"
   ]
  },
  {
   "cell_type": "code",
   "execution_count": null,
   "id": "e40a2ecd-1386-4679-9b78-7313fabc4bf2",
   "metadata": {},
   "outputs": [],
   "source": [
    "#significance of coefficients for ados_comm\n",
    "print('ADOS_COMM')\n",
    "X_comm = X_use_comm.copy()\n",
    "Y_comm = Y_use_comm.copy()\n",
    "X_comm = sm.add_constant(X_comm)\n",
    "\n",
    "est_comm = sm.OLS(Y_comm, X_comm)\n",
    "est2_comm = est_comm.fit()\n",
    "print(est2_comm.summary())"
   ]
  },
  {
   "cell_type": "code",
   "execution_count": null,
   "id": "d3def491-3292-4e7d-adf5-6f969b2345c4",
   "metadata": {},
   "outputs": [],
   "source": [
    "def plot_errorbar_from_table(est2_comm,labels):\n",
    "    coef_comm = est2_comm.params[1::]\n",
    "    ci_comm = est2_comm.conf_int()[1::,:]\n",
    "    ci_rel_comm = abs(np.vstack((coef_comm,coef_comm)).transpose() - ci_comm)\n",
    "    ci_rel_comm = ci_rel_comm.transpose()\n",
    "    xs_comm = np.arange(len(coef_comm))\n",
    "\n",
    "    plt.figure(figsize=(15,5))\n",
    "    plt.bar(xs_comm,coef_comm,color='powderblue')\n",
    "    plt.errorbar(xs_comm,coef_comm,ci_rel_comm,fmt='r ',capsize=10,ecolor='slateblue')\n",
    "    plt.xticks(xs_comm,labels=labels);"
   ]
  },
  {
   "cell_type": "code",
   "execution_count": null,
   "id": "3592d8cc-f081-4a86-aab6-7d36c0a8d2c3",
   "metadata": {},
   "outputs": [],
   "source": [
    "plot_errorbar_from_table(est2_comm,labels)\n",
    "plt.title('Coefficient with Errorbar For ADOS_COMM',color='slateblue')\n",
    "plt.ylabel('Correlation Coefficient',color='slateblue')\n",
    "plt.xlabel('Gene',color='slateblue')"
   ]
  },
  {
   "cell_type": "code",
   "execution_count": null,
   "id": "916f5c2b-7b48-489e-86db-47d4645d46be",
   "metadata": {},
   "outputs": [],
   "source": [
    "#significance of coefficients for ados_social\n",
    "print('ADOS_SOCIAL')\n",
    "X_social = X_use_social.copy()\n",
    "Y_social = Y_use_social.copy()\n",
    "X_social = sm.add_constant(X_social)\n",
    "\n",
    "est_social = sm.OLS(Y_social, X_social)\n",
    "est2_social = est.fit()\n",
    "print(est2_social.summary())"
   ]
  },
  {
   "cell_type": "code",
   "execution_count": null,
   "id": "db14c4a7-1dcd-4233-bc51-271e6dc7ae73",
   "metadata": {},
   "outputs": [],
   "source": [
    "def plot_errorbar_from_table(est2_social,labels):\n",
    "    coef_social = est2_social.params[1::]\n",
    "    ci_social = est2_social.conf_int()[1::,:]\n",
    "    ci_rel_social = abs(np.vstack((coef_social,coef_social)).transpose() - ci_social)\n",
    "    ci_rel_social = ci_rel_social.transpose()\n",
    "    xs_social = np.arange(len(coef_social))\n",
    "\n",
    "    plt.figure(figsize=(15,5))\n",
    "    plt.bar(xs_social,coef_social,color='thistle')\n",
    "    plt.errorbar(xs_social,coef_social,ci_rel_social,fmt='r ',capsize=10,ecolor='rebeccapurple')\n",
    "    plt.xticks(xs_social,labels=labels);"
   ]
  },
  {
   "cell_type": "code",
   "execution_count": null,
   "id": "720f17d2-2f15-48e6-8811-5646b628519b",
   "metadata": {},
   "outputs": [],
   "source": [
    "plot_errorbar_from_table(est2_social,labels)\n",
    "plt.title('Coefficient with Errorbar For ADOS_SOCIAL',color='rebeccapurple')\n",
    "plt.ylabel('Correlation Coefficient',color='rebeccapurple')\n",
    "plt.xlabel('Gene',color='rebeccapurple')"
   ]
  },
  {
   "cell_type": "code",
   "execution_count": null,
   "id": "05baaad8-28f5-42c9-8774-dddcc1c7ae7e",
   "metadata": {},
   "outputs": [],
   "source": [
    "#significance of coefficients for ados_rrb\n",
    "print('ADOS_RRB')\n",
    "X_rrb = X_use_rrb.copy()\n",
    "Y_rrb = Y_use_rrb.copy()\n",
    "X_rrb = sm.add_constant(X_rrb)\n",
    "\n",
    "est_rrb = sm.OLS(Y_rrb, X_rrb)\n",
    "est2_rrb = est.fit()\n",
    "print(est2_rrb.summary())"
   ]
  },
  {
   "cell_type": "code",
   "execution_count": null,
   "id": "62d7f946-ce57-4fee-a37e-02b2499138be",
   "metadata": {},
   "outputs": [],
   "source": [
    "def plot_errorbar_from_table(est2_rrb,labels):\n",
    "    coef_rrb = est2_rrb.params[1::]\n",
    "    ci_rrb = est2_rrb.conf_int()[1::,:]\n",
    "    ci_rel_rrb = abs(np.vstack((coef_rrb,coef_rrb)).transpose() - ci_rrb)\n",
    "    ci_rel_rrb = ci_rel_rrb.transpose()\n",
    "    xs_rrb = np.arange(len(coef_rrb))\n",
    "\n",
    "    plt.figure(figsize=(15,5))\n",
    "    plt.bar(xs_rrb,coef_rrb,color='lightpink')\n",
    "    plt.errorbar(xs_rrb,coef_rrb,ci_rel_rrb,fmt='r ',capsize=10,ecolor='crimson')\n",
    "    plt.xticks(xs_rrb,labels=labels);"
   ]
  },
  {
   "cell_type": "code",
   "execution_count": null,
   "id": "ec6c4a35-1938-4242-96c2-14271b3757b9",
   "metadata": {},
   "outputs": [],
   "source": [
    "plot_errorbar_from_table(est2_rrb,labels)\n",
    "plt.title('Coefficient with Errorbar For ADOS_RRB',color='crimson')\n",
    "plt.ylabel('Correlation Coefficient',color='crimson')\n",
    "plt.xlabel('Gene',color='crimson')"
   ]
  },
  {
   "cell_type": "code",
   "execution_count": null,
   "id": "ac911486-675a-4c77-8581-9321247e3280",
   "metadata": {},
   "outputs": [],
   "source": [
    "# REFERENCE \n",
    "a = np.array([5,5,5])\n",
    "l = np.array([1,1,1])\n",
    "h = np.array([6,6,6])\n",
    "se = np.vstack((l,h))\n",
    "se\n",
    "\n",
    "xs = [0,1,2]\n",
    "plt.bar(xs,a)\n",
    "plt.errorbar(xs,a,abs(se-a),fmt='r ')"
   ]
  },
  {
   "cell_type": "code",
   "execution_count": null,
   "id": "890ea931-159a-47c4-8411-39bf85bc3ec1",
   "metadata": {},
   "outputs": [],
   "source": []
  },
  {
   "cell_type": "code",
   "execution_count": null,
   "id": "0ac26451-9281-47c9-9bd9-e71e037d3fb9",
   "metadata": {},
   "outputs": [],
   "source": []
  }
 ],
 "metadata": {
  "kernelspec": {
   "display_name": "Python 3",
   "language": "python",
   "name": "python3"
  },
  "language_info": {
   "codemirror_mode": {
    "name": "ipython",
    "version": 3
   },
   "file_extension": ".py",
   "mimetype": "text/x-python",
   "name": "python",
   "nbconvert_exporter": "python",
   "pygments_lexer": "ipython3",
   "version": "3.8.8"
  }
 },
 "nbformat": 4,
 "nbformat_minor": 5
}
