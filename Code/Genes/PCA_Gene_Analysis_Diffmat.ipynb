{
 "cells": [
  {
   "cell_type": "code",
   "execution_count": 1,
   "id": "cbd09a2d-08a5-4554-8ac8-7bc0f261d744",
   "metadata": {},
   "outputs": [],
   "source": [
    "import pandas as pd\n",
    "from sklearn import linear_model\n",
    "import numpy as np\n",
    "from matplotlib import pyplot as plt\n",
    "import ants\n",
    "import os\n",
    "from tqdm import tqdm\n",
    "import statistics\n",
    "import statsmodels.api as sm"
   ]
  },
  {
   "cell_type": "code",
   "execution_count": 2,
   "id": "805fc42c-836e-4edd-913d-8d51d88dd0db",
   "metadata": {},
   "outputs": [
    {
     "name": "stdout",
     "output_type": "stream",
     "text": [
      "/mmfs1/data/pijarj/BC-ORG-Data/Data/Genemaps/Significant_Genes\n"
     ]
    }
   ],
   "source": [
    "cd ../../Data/Genemaps/Significant_Genes"
   ]
  },
  {
   "cell_type": "code",
   "execution_count": 19,
   "id": "aaf48aaf-690e-45a4-a862-63618e3b259a",
   "metadata": {},
   "outputs": [
    {
     "data": {
      "text/html": [
       "<div>\n",
       "<style scoped>\n",
       "    .dataframe tbody tr th:only-of-type {\n",
       "        vertical-align: middle;\n",
       "    }\n",
       "\n",
       "    .dataframe tbody tr th {\n",
       "        vertical-align: top;\n",
       "    }\n",
       "\n",
       "    .dataframe thead th {\n",
       "        text-align: right;\n",
       "    }\n",
       "</style>\n",
       "<table border=\"1\" class=\"dataframe\">\n",
       "  <thead>\n",
       "    <tr style=\"text-align: right;\">\n",
       "      <th></th>\n",
       "      <th>ados_total</th>\n",
       "      <th>ados_comm</th>\n",
       "      <th>ados_social</th>\n",
       "      <th>ados_rrb</th>\n",
       "    </tr>\n",
       "  </thead>\n",
       "  <tbody>\n",
       "    <tr>\n",
       "      <th>0</th>\n",
       "      <td>18.0</td>\n",
       "      <td>6.0</td>\n",
       "      <td>12.0</td>\n",
       "      <td>2.0</td>\n",
       "    </tr>\n",
       "    <tr>\n",
       "      <th>1</th>\n",
       "      <td>NaN</td>\n",
       "      <td>NaN</td>\n",
       "      <td>NaN</td>\n",
       "      <td>NaN</td>\n",
       "    </tr>\n",
       "    <tr>\n",
       "      <th>2</th>\n",
       "      <td>13.0</td>\n",
       "      <td>4.0</td>\n",
       "      <td>9.0</td>\n",
       "      <td>NaN</td>\n",
       "    </tr>\n",
       "    <tr>\n",
       "      <th>3</th>\n",
       "      <td>12.0</td>\n",
       "      <td>4.0</td>\n",
       "      <td>8.0</td>\n",
       "      <td>2.0</td>\n",
       "    </tr>\n",
       "    <tr>\n",
       "      <th>4</th>\n",
       "      <td>16.0</td>\n",
       "      <td>5.0</td>\n",
       "      <td>11.0</td>\n",
       "      <td>3.0</td>\n",
       "    </tr>\n",
       "    <tr>\n",
       "      <th>...</th>\n",
       "      <td>...</td>\n",
       "      <td>...</td>\n",
       "      <td>...</td>\n",
       "      <td>...</td>\n",
       "    </tr>\n",
       "    <tr>\n",
       "      <th>694</th>\n",
       "      <td>NaN</td>\n",
       "      <td>NaN</td>\n",
       "      <td>NaN</td>\n",
       "      <td>NaN</td>\n",
       "    </tr>\n",
       "    <tr>\n",
       "      <th>695</th>\n",
       "      <td>NaN</td>\n",
       "      <td>NaN</td>\n",
       "      <td>NaN</td>\n",
       "      <td>NaN</td>\n",
       "    </tr>\n",
       "    <tr>\n",
       "      <th>696</th>\n",
       "      <td>13.0</td>\n",
       "      <td>4.0</td>\n",
       "      <td>9.0</td>\n",
       "      <td>2.0</td>\n",
       "    </tr>\n",
       "    <tr>\n",
       "      <th>697</th>\n",
       "      <td>8.0</td>\n",
       "      <td>2.0</td>\n",
       "      <td>6.0</td>\n",
       "      <td>2.0</td>\n",
       "    </tr>\n",
       "    <tr>\n",
       "      <th>698</th>\n",
       "      <td>NaN</td>\n",
       "      <td>NaN</td>\n",
       "      <td>NaN</td>\n",
       "      <td>NaN</td>\n",
       "    </tr>\n",
       "  </tbody>\n",
       "</table>\n",
       "<p>699 rows × 4 columns</p>\n",
       "</div>"
      ],
      "text/plain": [
       "     ados_total  ados_comm  ados_social  ados_rrb\n",
       "0          18.0        6.0         12.0       2.0\n",
       "1           NaN        NaN          NaN       NaN\n",
       "2          13.0        4.0          9.0       NaN\n",
       "3          12.0        4.0          8.0       2.0\n",
       "4          16.0        5.0         11.0       3.0\n",
       "..          ...        ...          ...       ...\n",
       "694         NaN        NaN          NaN       NaN\n",
       "695         NaN        NaN          NaN       NaN\n",
       "696        13.0        4.0          9.0       2.0\n",
       "697         8.0        2.0          6.0       2.0\n",
       "698         NaN        NaN          NaN       NaN\n",
       "\n",
       "[699 rows x 4 columns]"
      ]
     },
     "execution_count": 19,
     "metadata": {},
     "output_type": "execute_result"
    }
   ],
   "source": [
    "#read in symptom patient data and slice out important columns\n",
    "df = pd.read_csv('/mmfs1/data/pijarj/Data4Julianna/df_patients_S699.csv')\n",
    "df.columns\n",
    "df[['ados_total', 'ados_comm', 'ados_social', 'ados_rrb']]"
   ]
  },
  {
   "cell_type": "code",
   "execution_count": 20,
   "id": "a13b2f43-ca4b-459a-b738-c320d0fdeb24",
   "metadata": {},
   "outputs": [
    {
     "data": {
      "text/plain": [
       "(699, 51, 51)"
      ]
     },
     "execution_count": 20,
     "metadata": {},
     "output_type": "execute_result"
    }
   ],
   "source": [
    "#load in diffmat data\n",
    "atlas = ants.image_read('/mmfs1/data/pijarj/BC-ORG-Data/YeoAtlas/Atlas_parc-7n_2mm.nii')\n",
    "diffmat = np.load('/mmfs1/data/pijarj/Data4Julianna/recon_asd_diffmats.npz')\n",
    "diffmat = diffmat['data']\n",
    "diffmat.shape"
   ]
  },
  {
   "cell_type": "code",
   "execution_count": 21,
   "id": "8125770b-510c-4652-b63c-f1cec16e1f19",
   "metadata": {},
   "outputs": [],
   "source": [
    "genemaps = [file for file in os.listdir() if file.endswith('.nii.gz')]\n",
    "genemaps.sort()"
   ]
  },
  {
   "cell_type": "code",
   "execution_count": 22,
   "id": "23b7ff7f-59ab-497c-b3b5-73dfced92e44",
   "metadata": {},
   "outputs": [
    {
     "name": "stdout",
     "output_type": "stream",
     "text": [
      "699\n",
      "22\n"
     ]
    },
    {
     "data": {
      "text/plain": [
       "array([[0., 0., 0., ..., 0., 0., 0.],\n",
       "       [0., 0., 0., ..., 0., 0., 0.],\n",
       "       [0., 0., 0., ..., 0., 0., 0.],\n",
       "       ...,\n",
       "       [0., 0., 0., ..., 0., 0., 0.],\n",
       "       [0., 0., 0., ..., 0., 0., 0.],\n",
       "       [0., 0., 0., ..., 0., 0., 0.]])"
      ]
     },
     "execution_count": 22,
     "metadata": {},
     "output_type": "execute_result"
    }
   ],
   "source": [
    "nsubjects = 699\n",
    "ngenes = len(genemaps)\n",
    "print(nsubjects)\n",
    "print(ngenes)\n",
    "\n",
    "gene_fmri_corr = np.zeros((ngenes,nsubjects))\n",
    "gene_fmri_corr"
   ]
  },
  {
   "cell_type": "code",
   "execution_count": 23,
   "id": "5c7963ad-3c24-4da5-9d0e-b0340dbecb5f",
   "metadata": {},
   "outputs": [
    {
     "name": "stderr",
     "output_type": "stream",
     "text": [
      "100%|██████████| 22/22 [00:02<00:00, 10.45it/s]\n"
     ]
    }
   ],
   "source": [
    "for g in tqdm(range(ngenes)):\n",
    "    gene_im = ants.image_read(genemaps[g])\n",
    "    gene_flat = gene_im.numpy().flatten()\n",
    "    atlas_flat = atlas.numpy().flatten()\n",
    "    roi_expression = np.array([gene_flat[atlas_flat==roi].mean() for roi in np.arange(1,52)])\n",
    "    gene_sim = np.zeros((51,51))\n",
    "    for i in range(51):\n",
    "        for j in range(51):\n",
    "            gene_sim[i,j] = abs(roi_expression[i]-roi_expression[j])\n",
    "\n",
    "    triu = np.triu_indices(51,k=1)\n",
    "    gene_vec = gene_sim[triu]\n",
    "\n",
    "    for s in range(nsubjects):\n",
    "        subject_diffmat = diffmat[s,:,:] # correlation matrices for one subject\n",
    "        fmri_vec = subject_diffmat[triu]\n",
    "        data = np.corrcoef(gene_vec,fmri_vec)[0,1]\n",
    "        gene_fmri_corr[g,s] = data"
   ]
  },
  {
   "cell_type": "code",
   "execution_count": 24,
   "id": "5eda3fa6-d74b-4fe7-a825-26e8b70d6368",
   "metadata": {},
   "outputs": [
    {
     "data": {
      "text/plain": [
       "(22, 699)"
      ]
     },
     "execution_count": 24,
     "metadata": {},
     "output_type": "execute_result"
    },
    {
     "data": {
      "image/png": "[encoded data removed]",
      "text/plain": [
       "<Figure size 1080x720 with 1 Axes>"
      ]
     },
     "metadata": {
      "needs_background": "light"
     },
     "output_type": "display_data"
    }
   ],
   "source": [
    "plt.figure(figsize=(15,10))\n",
    "plt.imshow(gene_fmri_corr)\n",
    "gene_fmri_corr.shape"
   ]
  },
  {
   "cell_type": "code",
   "execution_count": 25,
   "id": "9f3973be-53b2-4ce9-bc7a-18e8a320bc7f",
   "metadata": {},
   "outputs": [],
   "source": [
    "from sklearn.decomposition import PCA\n",
    "pca = PCA(n_components=10)\n",
    "principalComponents = pca.fit_transform(gene_fmri_corr.transpose())\n",
    "gene_fmri_corr_PCA = principalComponents"
   ]
  },
  {
   "cell_type": "code",
   "execution_count": 26,
   "id": "1975d978-716f-431d-aac6-d48b324c96b1",
   "metadata": {},
   "outputs": [
    {
     "data": {
      "text/plain": [
       "(699, 10)"
      ]
     },
     "execution_count": 26,
     "metadata": {},
     "output_type": "execute_result"
    }
   ],
   "source": [
    "principalComponents.shape"
   ]
  },
  {
   "cell_type": "code",
   "execution_count": 27,
   "id": "f560fabb-2540-4cb5-b3bb-b45a3748aa3d",
   "metadata": {},
   "outputs": [
    {
     "data": {
      "text/plain": [
       "(699, 10)"
      ]
     },
     "execution_count": 27,
     "metadata": {},
     "output_type": "execute_result"
    }
   ],
   "source": [
    "gene_fmri_corr_PCA.shape"
   ]
  },
  {
   "cell_type": "code",
   "execution_count": null,
   "id": "ce15d8ef-3fc2-49d9-876d-8e979b415a9d",
   "metadata": {},
   "outputs": [],
   "source": []
  }
 ],
 "metadata": {
  "kernelspec": {
   "display_name": "Python 3",
   "language": "python",
   "name": "python3"
  },
  "language_info": {
   "codemirror_mode": {
    "name": "ipython",
    "version": 3
   },
   "file_extension": ".py",
   "mimetype": "text/x-python",
   "name": "python",
   "nbconvert_exporter": "python",
   "pygments_lexer": "ipython3",
   "version": "3.8.8"
  }
 },
 "nbformat": 4,
 "nbformat_minor": 5
}
