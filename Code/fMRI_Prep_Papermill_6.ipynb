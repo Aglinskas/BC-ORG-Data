{
 "cells": [
  {
   "cell_type": "code",
   "execution_count": 1,
   "id": "405e308f-bd88-4d9a-a9da-52afcaf08a67",
   "metadata": {
    "execution": {
     "iopub.execute_input": "2022-08-10T16:25:37.720509Z",
     "iopub.status.busy": "2022-08-10T16:25:37.720124Z",
     "iopub.status.idle": "2022-08-10T16:25:37.854210Z",
     "shell.execute_reply": "2022-08-10T16:25:37.853869Z"
    },
    "papermill": {
     "duration": 0.146396,
     "end_time": "2022-08-10T16:25:37.854307",
     "exception": false,
     "start_time": "2022-08-10T16:25:37.707911",
     "status": "completed"
    },
    "tags": []
   },
   "outputs": [
    {
     "name": "stdout",
     "output_type": "stream",
     "text": [
      "Wed Aug 10 12:25:37 EDT 2022\r\n"
     ]
    }
   ],
   "source": [
    "!date"
   ]
  },
  {
   "cell_type": "code",
   "execution_count": 2,
   "id": "81b8d8b0-e400-4313-866f-bc4456cc5901",
   "metadata": {
    "execution": {
     "iopub.execute_input": "2022-08-10T16:25:37.881691Z",
     "iopub.status.busy": "2022-08-10T16:25:37.881359Z",
     "iopub.status.idle": "2022-08-10T16:25:37.883083Z",
     "shell.execute_reply": "2022-08-10T16:25:37.883355Z"
    },
    "papermill": {
     "duration": 0.017651,
     "end_time": "2022-08-10T16:25:37.883439",
     "exception": false,
     "start_time": "2022-08-10T16:25:37.865788",
     "status": "completed"
    },
    "tags": []
   },
   "outputs": [
    {
     "data": {
      "text/plain": [
       "'/mmfs1/data/pijarj/BC-ORG-Data/Code'"
      ]
     },
     "execution_count": 2,
     "metadata": {},
     "output_type": "execute_result"
    }
   ],
   "source": [
    "pwd"
   ]
  },
  {
   "cell_type": "code",
   "execution_count": 3,
   "id": "d015a7b7-3a67-45a8-923b-b82322b37522",
   "metadata": {
    "execution": {
     "iopub.execute_input": "2022-08-10T16:25:37.904602Z",
     "iopub.status.busy": "2022-08-10T16:25:37.904272Z",
     "iopub.status.idle": "2022-08-10T16:25:37.908002Z",
     "shell.execute_reply": "2022-08-10T16:25:37.907719Z"
    },
    "papermill": {
     "duration": 0.015183,
     "end_time": "2022-08-10T16:25:37.908069",
     "exception": false,
     "start_time": "2022-08-10T16:25:37.892886",
     "status": "completed"
    },
    "tags": []
   },
   "outputs": [
    {
     "name": "stdout",
     "output_type": "stream",
     "text": [
      "/mmfs1/data/pijarj/BC-ORG-Data/Data\n"
     ]
    }
   ],
   "source": [
    "cd ../Data"
   ]
  },
  {
   "cell_type": "code",
   "execution_count": 4,
   "id": "d5a45cf0-6591-4ac8-ad7a-10ccc30e4b2b",
   "metadata": {
    "execution": {
     "iopub.execute_input": "2022-08-10T16:25:37.930011Z",
     "iopub.status.busy": "2022-08-10T16:25:37.929659Z",
     "iopub.status.idle": "2022-08-10T16:26:01.442036Z",
     "shell.execute_reply": "2022-08-10T16:26:01.442313Z"
    },
    "papermill": {
     "duration": 23.524725,
     "end_time": "2022-08-10T16:26:01.442422",
     "exception": false,
     "start_time": "2022-08-10T16:25:37.917697",
     "status": "completed"
    },
    "tags": []
   },
   "outputs": [
    {
     "name": "stdout",
     "output_type": "stream",
     "text": [
      "CPU times: user 1.65 s, sys: 800 ms, total: 2.45 s\n",
      "Wall time: 23.5 s\n"
     ]
    }
   ],
   "source": [
    "%%time\n",
    "import pandas as pd\n",
    "import os\n",
    "import shutil\n",
    "import numpy as np\n",
    "from tqdm import tqdm\n",
    "import ants\n",
    "import nibabel as nib"
   ]
  },
  {
   "cell_type": "code",
   "execution_count": 5,
   "id": "426f3691-550a-4fef-8c3b-b3e3ec5d7188",
   "metadata": {
    "execution": {
     "iopub.execute_input": "2022-08-10T16:26:01.465669Z",
     "iopub.status.busy": "2022-08-10T16:26:01.465328Z",
     "iopub.status.idle": "2022-08-10T16:26:03.604056Z",
     "shell.execute_reply": "2022-08-10T16:26:03.603737Z"
    },
    "papermill": {
     "duration": 2.151324,
     "end_time": "2022-08-10T16:26:03.604144",
     "exception": false,
     "start_time": "2022-08-10T16:26:01.452820",
     "status": "completed"
    },
    "tags": []
   },
   "outputs": [],
   "source": [
    "#make txt file into csv\n",
    "read_file = pd.read_csv ('/mmfs1/data/pijarj/NDAR_BoldAnat10/image03.txt',delimiter='\\t',low_memory=False)\n",
    "read_file.to_csv ('/mmfs1/data/pijarj/BC-ORG-Data/Data/image03.csv', index=0)"
   ]
  },
  {
   "cell_type": "code",
   "execution_count": null,
   "id": "fc43eaa4-2e70-4c3a-8fea-ad6af88da935",
   "metadata": {
    "papermill": {
     "duration": 0.010278,
     "end_time": "2022-08-10T16:26:03.626490",
     "exception": false,
     "start_time": "2022-08-10T16:26:03.616212",
     "status": "completed"
    },
    "tags": []
   },
   "outputs": [],
   "source": []
  },
  {
   "cell_type": "code",
   "execution_count": 6,
   "id": "0469c9e0-ddf5-4a1d-b3e2-4cfa9c439717",
   "metadata": {
    "execution": {
     "iopub.execute_input": "2022-08-10T16:26:03.651548Z",
     "iopub.status.busy": "2022-08-10T16:26:03.651195Z",
     "iopub.status.idle": "2022-08-10T16:26:04.603317Z",
     "shell.execute_reply": "2022-08-10T16:26:04.603598Z"
    },
    "papermill": {
     "duration": 0.967202,
     "end_time": "2022-08-10T16:26:04.603709",
     "exception": false,
     "start_time": "2022-08-10T16:26:03.636507",
     "status": "completed"
    },
    "tags": []
   },
   "outputs": [
    {
     "name": "stdout",
     "output_type": "stream",
     "text": [
      "2342\n",
      "../Data/DS2342.csv\n",
      "192\n",
      "91\n"
     ]
    }
   ],
   "source": [
    "#slice general csv into dataset\n",
    "\n",
    "# Drops non nii or nii.gz types\n",
    "df = pd.read_csv('image03.csv',low_memory=False)\n",
    "df = df.iloc[1::] # First row is just another index, let's drop it\n",
    "df['image_file'] = df['image_file'].astype(str) # convert entries to strings (so nan become 'nan')\n",
    "\n",
    "df['is_nii_gz'] = [str(file).endswith('.nii.gz') for file in df['image_file'].values]\n",
    "df['is_nii'] = [str(file).endswith('.nii') for file in df['image_file'].values]\n",
    "\n",
    "# only keep the niftis \n",
    "df = df.iloc[df['is_nii_gz'].values + df['is_nii'].values] #\n",
    "\n",
    "#study_name = 'Biomarkers of Developmental Trajectories and Treatment in ASD'\n",
    "study_name = 'Cognitive and Neural Flexibility in Autism'\n",
    "#study_name = 'Multimodal Imaging of Early Neural Signature in Autism Spectrum Disorder'\n",
    "#study_name = 'Functional Anatomic Studies of Self-Affect:  A Multimodal Approach'\n",
    "#study_name = 'A Longitudinal MRI Study of Infants at Risk for Autism (ACE 2)'\n",
    "#study_name = 'Intrinsic Brain Architecture of Young Children with Autism While Awake and Asleep'\n",
    "#study_name = 'Using complex video stimuli to elucidate atypical brain functioning in ASD'\n",
    "#study_name = 'Minimally Verbal ASD: From Basic Mechanisms to Innovative Interventions'\n",
    "study_df = df[df['collection_title']==study_name]\n",
    "\n",
    "if len(study_df)==0:\n",
    "    print('no usable scans')\n",
    "else:\n",
    "    col_id = study_df['collection_id'].values[0]\n",
    "    print(col_id)\n",
    "    study_df.to_csv(f'../Data/DS{col_id}.csv')\n",
    "    print(f'../Data/DS{col_id}.csv')\n",
    "    print(len(study_df))\n",
    "    print(len(study_df['subjectkey'].unique()))"
   ]
  },
  {
   "cell_type": "code",
   "execution_count": 7,
   "id": "e1092b5a-fa16-4b51-ab56-78d8093b7261",
   "metadata": {
    "execution": {
     "iopub.execute_input": "2022-08-10T16:26:04.628958Z",
     "iopub.status.busy": "2022-08-10T16:26:04.628601Z",
     "iopub.status.idle": "2022-08-10T16:26:04.632686Z",
     "shell.execute_reply": "2022-08-10T16:26:04.632369Z"
    },
    "papermill": {
     "duration": 0.018248,
     "end_time": "2022-08-10T16:26:04.632763",
     "exception": false,
     "start_time": "2022-08-10T16:26:04.614515",
     "status": "completed"
    },
    "tags": []
   },
   "outputs": [
    {
     "name": "stdout",
     "output_type": "stream",
     "text": [
      "/mmfs1/data/pijarj\n"
     ]
    }
   ],
   "source": [
    "cd ../../"
   ]
  },
  {
   "cell_type": "code",
   "execution_count": 8,
   "id": "6a48fce4-27e2-4111-9343-1e51764ee384",
   "metadata": {
    "execution": {
     "iopub.execute_input": "2022-08-10T16:26:04.675432Z",
     "iopub.status.busy": "2022-08-10T16:26:04.656423Z",
     "iopub.status.idle": "2022-08-10T16:26:04.836964Z",
     "shell.execute_reply": "2022-08-10T16:26:04.836670Z"
    },
    "papermill": {
     "duration": 0.193177,
     "end_time": "2022-08-10T16:26:04.837049",
     "exception": false,
     "start_time": "2022-08-10T16:26:04.643872",
     "status": "completed"
    },
    "tags": []
   },
   "outputs": [
    {
     "name": "stdout",
     "output_type": "stream",
     "text": [
      "mkdir: cannot create directory ‘ds-2342’: File exists\r\n"
     ]
    }
   ],
   "source": [
    "mkdir 'ds-{col_id}'"
   ]
  },
  {
   "cell_type": "code",
   "execution_count": 9,
   "id": "1a446499-f84c-4ab6-b911-e273878a7e99",
   "metadata": {
    "execution": {
     "iopub.execute_input": "2022-08-10T16:26:04.861738Z",
     "iopub.status.busy": "2022-08-10T16:26:04.861406Z",
     "iopub.status.idle": "2022-08-10T16:26:04.863938Z",
     "shell.execute_reply": "2022-08-10T16:26:04.863654Z"
    },
    "papermill": {
     "duration": 0.015824,
     "end_time": "2022-08-10T16:26:04.864007",
     "exception": false,
     "start_time": "2022-08-10T16:26:04.848183",
     "status": "completed"
    },
    "tags": []
   },
   "outputs": [
    {
     "name": "stdout",
     "output_type": "stream",
     "text": [
      "/mmfs1/data/pijarj/BC-ORG-Data/Data\n"
     ]
    }
   ],
   "source": [
    "cd ~/BC-ORG-Data/Data"
   ]
  },
  {
   "cell_type": "code",
   "execution_count": 10,
   "id": "5447613b-25b6-4def-ade6-0e181f36ee22",
   "metadata": {
    "execution": {
     "iopub.execute_input": "2022-08-10T16:26:04.888165Z",
     "iopub.status.busy": "2022-08-10T16:26:04.887834Z",
     "iopub.status.idle": "2022-08-10T16:26:04.889242Z",
     "shell.execute_reply": "2022-08-10T16:26:04.889508Z"
    },
    "papermill": {
     "duration": 0.014462,
     "end_time": "2022-08-10T16:26:04.889589",
     "exception": false,
     "start_time": "2022-08-10T16:26:04.875127",
     "status": "completed"
    },
    "tags": []
   },
   "outputs": [],
   "source": [
    "# df = pd.read_csv(f'../Data/DS{col_id}.csv')\n",
    "# df['is_nii_gz'] = [file.endswith('.nii.gz') for file in df['image_file'].values]\n",
    "# df = df[df['is_nii_gz']]"
   ]
  },
  {
   "cell_type": "code",
   "execution_count": 11,
   "id": "61a988b0-1e30-4608-89d7-4dd961495785",
   "metadata": {
    "execution": {
     "iopub.execute_input": "2022-08-10T16:26:04.914160Z",
     "iopub.status.busy": "2022-08-10T16:26:04.913832Z",
     "iopub.status.idle": "2022-08-10T16:26:04.915367Z",
     "shell.execute_reply": "2022-08-10T16:26:04.915064Z"
    },
    "papermill": {
     "duration": 0.014912,
     "end_time": "2022-08-10T16:26:04.915436",
     "exception": false,
     "start_time": "2022-08-10T16:26:04.900524",
     "status": "completed"
    },
    "tags": []
   },
   "outputs": [],
   "source": [
    "def safe_mkdir(path):\n",
    "    if not os.path.exists(path):\n",
    "        os.mkdir(path)\n",
    "    else:\n",
    "        pass"
   ]
  },
  {
   "cell_type": "code",
   "execution_count": 12,
   "id": "eea4b3e3-2269-4f81-bb82-dde328f30cbd",
   "metadata": {
    "execution": {
     "iopub.execute_input": "2022-08-10T16:26:04.940264Z",
     "iopub.status.busy": "2022-08-10T16:26:04.939937Z",
     "iopub.status.idle": "2022-08-10T16:26:04.941257Z",
     "shell.execute_reply": "2022-08-10T16:26:04.941525Z"
    },
    "papermill": {
     "duration": 0.014944,
     "end_time": "2022-08-10T16:26:04.941605",
     "exception": false,
     "start_time": "2022-08-10T16:26:04.926661",
     "status": "completed"
    },
    "tags": []
   },
   "outputs": [],
   "source": [
    "def write_json(data,filepath):\n",
    "    import json\n",
    "    with open(filepath, 'w') as outfile:\n",
    "        json.dump(data, outfile)"
   ]
  },
  {
   "cell_type": "code",
   "execution_count": 13,
   "id": "7f4796b3-d375-41cd-bfc1-6391d5e48dcb",
   "metadata": {
    "execution": {
     "iopub.execute_input": "2022-08-10T16:26:04.967363Z",
     "iopub.status.busy": "2022-08-10T16:26:04.967017Z",
     "iopub.status.idle": "2022-08-10T16:26:04.969047Z",
     "shell.execute_reply": "2022-08-10T16:26:04.968763Z"
    },
    "papermill": {
     "duration": 0.01631,
     "end_time": "2022-08-10T16:26:04.969113",
     "exception": false,
     "start_time": "2022-08-10T16:26:04.952803",
     "status": "completed"
    },
    "tags": []
   },
   "outputs": [
    {
     "name": "stdout",
     "output_type": "stream",
     "text": [
      "91 unique subjects\n"
     ]
    }
   ],
   "source": [
    "#check for unique subjects with both func and anat\n",
    "#study_df = pd.read_csv(f'../Data/DS{col_id}.csv')\n",
    "study_subjects = np.unique(study_df['subjectkey'].values)\n",
    "nsubjects = len(study_subjects)\n",
    "print(f'{nsubjects} unique subjects')\n",
    "def check_has_anat_and_epi(sub):\n",
    "    sub_df = study_df.iloc[study_df['subjectkey'].values==sub]\n",
    "    fmri_idx = sub_df['scan_type'].values=='fMRI'\n",
    "    #anat_idx = sub_df['scan_type'].values in ['MR structural (T1)','MR structural (MPRAGE)']\n",
    "    anat_idx = sub_df['scan_type'].isin(['MR structural (T1)','MR structural (MPRAGE)']).values\n",
    "    return fmri_idx.sum()>0 and anat_idx.sum()>0"
   ]
  },
  {
   "cell_type": "code",
   "execution_count": 14,
   "id": "2035f839-2694-49e7-a475-a8c30721435f",
   "metadata": {
    "execution": {
     "iopub.execute_input": "2022-08-10T16:26:04.994419Z",
     "iopub.status.busy": "2022-08-10T16:26:04.994082Z",
     "iopub.status.idle": "2022-08-10T16:26:04.995340Z",
     "shell.execute_reply": "2022-08-10T16:26:04.995609Z"
    },
    "papermill": {
     "duration": 0.014977,
     "end_time": "2022-08-10T16:26:04.995689",
     "exception": false,
     "start_time": "2022-08-10T16:26:04.980712",
     "status": "completed"
    },
    "tags": []
   },
   "outputs": [],
   "source": [
    "ndar_root = '/mmfs1/data/pijarj/NDAR_BoldAnat10/' \n",
    "bids_root = '/mmfs1/data/pijarj/'"
   ]
  },
  {
   "cell_type": "code",
   "execution_count": 15,
   "id": "48b98356-f752-40ff-8f51-d17ab31022fb",
   "metadata": {
    "execution": {
     "iopub.execute_input": "2022-08-10T16:26:05.026736Z",
     "iopub.status.busy": "2022-08-10T16:26:05.026405Z",
     "iopub.status.idle": "2022-08-10T16:26:05.054707Z",
     "shell.execute_reply": "2022-08-10T16:26:05.054432Z"
    },
    "papermill": {
     "duration": 0.04764,
     "end_time": "2022-08-10T16:26:05.054779",
     "exception": false,
     "start_time": "2022-08-10T16:26:05.007139",
     "status": "completed"
    },
    "tags": []
   },
   "outputs": [],
   "source": [
    "has_anat_and_epi = np.array([check_has_anat_and_epi(s) for s in study_subjects])"
   ]
  },
  {
   "cell_type": "code",
   "execution_count": 16,
   "id": "71c8f2e6-e1c8-44ed-a64c-e11997bc3f87",
   "metadata": {
    "execution": {
     "iopub.execute_input": "2022-08-10T16:26:05.080360Z",
     "iopub.status.busy": "2022-08-10T16:26:05.080024Z",
     "iopub.status.idle": "2022-08-10T16:26:05.081772Z",
     "shell.execute_reply": "2022-08-10T16:26:05.081487Z"
    },
    "papermill": {
     "duration": 0.015363,
     "end_time": "2022-08-10T16:26:05.081839",
     "exception": false,
     "start_time": "2022-08-10T16:26:05.066476",
     "status": "completed"
    },
    "tags": []
   },
   "outputs": [
    {
     "name": "stdout",
     "output_type": "stream",
     "text": [
      "85 subjects with anat + fmri\n"
     ]
    }
   ],
   "source": [
    "#find subjects with anat and func\n",
    "use_subjects = study_subjects[has_anat_and_epi]\n",
    "nsubjects = len(use_subjects)\n",
    "print(f'{nsubjects} subjects with anat + fmri')"
   ]
  },
  {
   "cell_type": "code",
   "execution_count": 17,
   "id": "8eb2a4bc-46e6-4393-9c5b-6ff1624738cb",
   "metadata": {
    "execution": {
     "iopub.execute_input": "2022-08-10T16:26:05.108251Z",
     "iopub.status.busy": "2022-08-10T16:26:05.107916Z",
     "iopub.status.idle": "2022-08-10T16:26:05.195847Z",
     "shell.execute_reply": "2022-08-10T16:26:05.195519Z"
    },
    "papermill": {
     "duration": 0.102237,
     "end_time": "2022-08-10T16:26:05.195915",
     "exception": false,
     "start_time": "2022-08-10T16:26:05.093678",
     "status": "completed"
    },
    "tags": []
   },
   "outputs": [
    {
     "name": "stderr",
     "output_type": "stream",
     "text": [
      "\r",
      "  0%|                                                                                                                                 | 0/85 [00:00<?, ?it/s]"
     ]
    },
    {
     "name": "stderr",
     "output_type": "stream",
     "text": [
      "\r",
      "100%|██████████████████████████████████████████████████████████████████████████████████████████████████████████████████████| 85/85 [00:00<00:00, 1022.88it/s]"
     ]
    },
    {
     "name": "stderr",
     "output_type": "stream",
     "text": [
      "\n"
     ]
    }
   ],
   "source": [
    "# MAKE THE BIDS DIRECTORY\n",
    "safe_mkdir(os.path.join(bids_root,f'DS{col_id}.csv'))\n",
    "for s in tqdm(range(1,nsubjects+1)):\n",
    "    safe_mkdir(os.path.join(bids_root,f'ds-{col_id}',f'sub-{s:03d}'))\n",
    "    safe_mkdir(os.path.join(bids_root,f'ds-{col_id}',f'sub-{s:03d}','func'))\n",
    "    safe_mkdir(os.path.join(bids_root,f'ds-{col_id}',f'sub-{s:03d}','anat'))"
   ]
  },
  {
   "cell_type": "code",
   "execution_count": 18,
   "id": "302de894-5238-4f49-88b8-51c7f4a92bbd",
   "metadata": {
    "execution": {
     "iopub.execute_input": "2022-08-10T16:26:05.224604Z",
     "iopub.status.busy": "2022-08-10T16:26:05.224244Z",
     "iopub.status.idle": "2022-08-10T16:26:05.398787Z",
     "shell.execute_reply": "2022-08-10T16:26:05.398486Z"
    },
    "papermill": {
     "duration": 0.190215,
     "end_time": "2022-08-10T16:26:05.398855",
     "exception": false,
     "start_time": "2022-08-10T16:26:05.208640",
     "status": "completed"
    },
    "tags": []
   },
   "outputs": [
    {
     "name": "stderr",
     "output_type": "stream",
     "text": [
      "\r",
      "  0%|                                                                                                                                | 0/192 [00:00<?, ?it/s]"
     ]
    },
    {
     "name": "stderr",
     "output_type": "stream",
     "text": [
      "\r",
      " 50%|███████████████████████████████████████████████████████████                                                           | 96/192 [00:00<00:00, 953.57it/s]"
     ]
    },
    {
     "name": "stderr",
     "output_type": "stream",
     "text": [
      "\r",
      "100%|████████████████████████████████████████████████████████████████████████████████████████████████████████████████████| 192/192 [00:00<00:00, 1119.18it/s]"
     ]
    },
    {
     "name": "stderr",
     "output_type": "stream",
     "text": [
      "\n"
     ]
    }
   ],
   "source": [
    "#making local paths column\n",
    "#df = pd.read_csv(f'DS{col_id}.csv')\n",
    "n = len(study_df)\n",
    "#root = './image03/'\n",
    "root = os.path.expanduser('~/NDAR_BoldAnat10/image03/')\n",
    "local_paths = list()\n",
    "for i in tqdm(range(n)):\n",
    "    s3_path = study_df['image_file'].values[i]\n",
    "    splits = s3_path.split('/')[4::]\n",
    "    relative = '/'.join(splits)\n",
    "    local_path = os.path.join(root,relative)\n",
    "    assert os.path.exists(os.path.join(root,relative))\n",
    "    local_paths.append(local_path)\n",
    "study_df['local_paths'] = local_paths"
   ]
  },
  {
   "cell_type": "code",
   "execution_count": null,
   "id": "01238176-b218-4188-a4c5-ca98b57e4be1",
   "metadata": {
    "papermill": {
     "duration": 0.014417,
     "end_time": "2022-08-10T16:26:05.426301",
     "exception": false,
     "start_time": "2022-08-10T16:26:05.411884",
     "status": "completed"
    },
    "tags": []
   },
   "outputs": [],
   "source": []
  },
  {
   "cell_type": "code",
   "execution_count": null,
   "id": "248eaae7-0115-4ba1-b44d-fd0ba9600c69",
   "metadata": {
    "papermill": {
     "duration": 0.012754,
     "end_time": "2022-08-10T16:26:05.452527",
     "exception": false,
     "start_time": "2022-08-10T16:26:05.439773",
     "status": "completed"
    },
    "tags": []
   },
   "outputs": [],
   "source": []
  },
  {
   "cell_type": "code",
   "execution_count": 19,
   "id": "df7f6da3-ef3a-40b5-badc-17ccda8368eb",
   "metadata": {
    "execution": {
     "iopub.execute_input": "2022-08-10T16:26:05.483382Z",
     "iopub.status.busy": "2022-08-10T16:26:05.483021Z"
    },
    "papermill": {
     "duration": 852.016663,
     "end_time": "2022-08-10T16:40:17.482177",
     "exception": false,
     "start_time": "2022-08-10T16:26:05.465514",
     "status": "completed"
    },
    "tags": []
   },
   "outputs": [
    {
     "name": "stderr",
     "output_type": "stream",
     "text": [
      "\r",
      "  0%|                                                                                                                                 | 0/85 [00:00<?, ?it/s]"
     ]
    },
    {
     "name": "stderr",
     "output_type": "stream",
     "text": [
      "\r",
      "  1%|█▍                                                                                                                       | 1/85 [00:18<25:35, 18.27s/it]"
     ]
    },
    {
     "name": "stderr",
     "output_type": "stream",
     "text": [
      "\r",
      "  2%|██▊                                                                                                                      | 2/85 [00:41<29:21, 21.22s/it]"
     ]
    },
    {
     "name": "stderr",
     "output_type": "stream",
     "text": [
      "\r",
      "  4%|████▎                                                                                                                    | 3/85 [00:57<25:52, 18.93s/it]"
     ]
    },
    {
     "name": "stderr",
     "output_type": "stream",
     "text": [
      "\r",
      "  5%|█████▋                                                                                                                   | 4/85 [01:18<26:39, 19.75s/it]"
     ]
    },
    {
     "name": "stderr",
     "output_type": "stream",
     "text": [
      "\r",
      "  6%|███████                                                                                                                  | 5/85 [01:39<26:59, 20.25s/it]"
     ]
    },
    {
     "name": "stderr",
     "output_type": "stream",
     "text": [
      "\r",
      "  7%|████████▌                                                                                                                | 6/85 [02:02<27:34, 20.95s/it]"
     ]
    },
    {
     "name": "stderr",
     "output_type": "stream",
     "text": [
      "\r",
      "  8%|█████████▉                                                                                                               | 7/85 [02:23<27:25, 21.10s/it]"
     ]
    },
    {
     "name": "stderr",
     "output_type": "stream",
     "text": [
      "\r",
      "  9%|███████████▍                                                                                                             | 8/85 [02:44<27:09, 21.17s/it]"
     ]
    },
    {
     "name": "stderr",
     "output_type": "stream",
     "text": [
      "\r",
      " 11%|████████████▊                                                                                                            | 9/85 [03:06<27:02, 21.35s/it]"
     ]
    },
    {
     "name": "stderr",
     "output_type": "stream",
     "text": [
      "\r",
      " 12%|██████████████                                                                                                          | 10/85 [03:26<26:14, 20.99s/it]"
     ]
    },
    {
     "name": "stderr",
     "output_type": "stream",
     "text": [
      "\r",
      " 13%|███████████████▌                                                                                                        | 11/85 [03:48<26:12, 21.25s/it]"
     ]
    },
    {
     "name": "stderr",
     "output_type": "stream",
     "text": [
      "\r",
      " 14%|████████████████▉                                                                                                       | 12/85 [04:10<26:08, 21.48s/it]"
     ]
    },
    {
     "name": "stderr",
     "output_type": "stream",
     "text": [
      "\r",
      " 15%|██████████████████▎                                                                                                     | 13/85 [04:32<25:56, 21.61s/it]"
     ]
    },
    {
     "name": "stderr",
     "output_type": "stream",
     "text": [
      "\r",
      " 16%|███████████████████▊                                                                                                    | 14/85 [04:54<25:29, 21.54s/it]"
     ]
    },
    {
     "name": "stderr",
     "output_type": "stream",
     "text": [
      "\r",
      " 18%|█████████████████████▏                                                                                                  | 15/85 [05:16<25:24, 21.78s/it]"
     ]
    },
    {
     "name": "stderr",
     "output_type": "stream",
     "text": [
      "\r",
      " 19%|██████████████████████▌                                                                                                 | 16/85 [05:38<25:03, 21.79s/it]"
     ]
    },
    {
     "name": "stderr",
     "output_type": "stream",
     "text": [
      "\r",
      " 20%|████████████████████████                                                                                                | 17/85 [05:59<24:38, 21.74s/it]"
     ]
    },
    {
     "name": "stderr",
     "output_type": "stream",
     "text": [
      "\r",
      " 21%|█████████████████████████▍                                                                                              | 18/85 [06:23<25:05, 22.46s/it]"
     ]
    },
    {
     "name": "stderr",
     "output_type": "stream",
     "text": [
      "\r",
      " 22%|██████████████████████████▊                                                                                             | 19/85 [07:03<30:21, 27.60s/it]"
     ]
    },
    {
     "name": "stderr",
     "output_type": "stream",
     "text": [
      "\r",
      " 24%|████████████████████████████▏                                                                                           | 20/85 [07:14<24:36, 22.71s/it]"
     ]
    },
    {
     "name": "stderr",
     "output_type": "stream",
     "text": [
      "\r",
      " 25%|█████████████████████████████▋                                                                                          | 21/85 [07:37<24:14, 22.73s/it]"
     ]
    },
    {
     "name": "stderr",
     "output_type": "stream",
     "text": [
      "\r",
      " 26%|███████████████████████████████                                                                                         | 22/85 [07:58<23:23, 22.28s/it]"
     ]
    },
    {
     "name": "stderr",
     "output_type": "stream",
     "text": [
      "\r",
      " 27%|████████████████████████████████▍                                                                                       | 23/85 [08:09<19:24, 18.78s/it]"
     ]
    },
    {
     "name": "stderr",
     "output_type": "stream",
     "text": [
      "\r",
      " 28%|█████████████████████████████████▉                                                                                      | 24/85 [08:23<17:46, 17.49s/it]"
     ]
    },
    {
     "name": "stderr",
     "output_type": "stream",
     "text": [
      "\r",
      " 29%|███████████████████████████████████▎                                                                                    | 25/85 [08:45<18:37, 18.63s/it]"
     ]
    },
    {
     "name": "stderr",
     "output_type": "stream",
     "text": [
      "\r",
      " 31%|████████████████████████████████████▋                                                                                   | 26/85 [09:08<19:45, 20.09s/it]"
     ]
    },
    {
     "name": "stderr",
     "output_type": "stream",
     "text": [
      "\r",
      " 32%|██████████████████████████████████████                                                                                  | 27/85 [09:29<19:33, 20.24s/it]"
     ]
    },
    {
     "name": "stderr",
     "output_type": "stream",
     "text": [
      "\r",
      " 33%|███████████████████████████████████████▌                                                                                | 28/85 [09:51<19:55, 20.97s/it]"
     ]
    },
    {
     "name": "stderr",
     "output_type": "stream",
     "text": [
      "\r",
      " 34%|████████████████████████████████████████▉                                                                               | 29/85 [10:12<19:30, 20.90s/it]"
     ]
    },
    {
     "name": "stderr",
     "output_type": "stream",
     "text": [
      "\r",
      " 35%|██████████████████████████████████████████▎                                                                             | 30/85 [10:33<19:13, 20.97s/it]"
     ]
    },
    {
     "name": "stderr",
     "output_type": "stream",
     "text": [
      "\r",
      " 36%|███████████████████████████████████████████▊                                                                            | 31/85 [10:40<14:55, 16.58s/it]"
     ]
    },
    {
     "name": "stderr",
     "output_type": "stream",
     "text": [
      "\r",
      " 38%|█████████████████████████████████████████████▏                                                                          | 32/85 [11:04<16:40, 18.87s/it]"
     ]
    },
    {
     "name": "stderr",
     "output_type": "stream",
     "text": [
      "\r",
      " 39%|██████████████████████████████████████████████▌                                                                         | 33/85 [11:29<17:55, 20.69s/it]"
     ]
    },
    {
     "name": "stderr",
     "output_type": "stream",
     "text": [
      "\r",
      " 40%|████████████████████████████████████████████████                                                                        | 34/85 [11:49<17:33, 20.66s/it]"
     ]
    },
    {
     "name": "stderr",
     "output_type": "stream",
     "text": [
      "\r",
      " 41%|█████████████████████████████████████████████████▍                                                                      | 35/85 [12:11<17:26, 20.93s/it]"
     ]
    },
    {
     "name": "stderr",
     "output_type": "stream",
     "text": [
      "\r",
      " 42%|██████████████████████████████████████████████████▊                                                                     | 36/85 [12:33<17:23, 21.30s/it]"
     ]
    },
    {
     "name": "stderr",
     "output_type": "stream",
     "text": [
      "\r",
      " 44%|████████████████████████████████████████████████████▏                                                                   | 37/85 [12:56<17:19, 21.65s/it]"
     ]
    },
    {
     "name": "stderr",
     "output_type": "stream",
     "text": [
      "\r",
      " 45%|█████████████████████████████████████████████████████▋                                                                  | 38/85 [13:16<16:43, 21.35s/it]"
     ]
    },
    {
     "name": "stderr",
     "output_type": "stream",
     "text": [
      "\r",
      " 46%|███████████████████████████████████████████████████████                                                                 | 39/85 [13:27<13:49, 18.03s/it]"
     ]
    },
    {
     "name": "stderr",
     "output_type": "stream",
     "text": [
      "\r",
      " 47%|████████████████████████████████████████████████████████▍                                                               | 40/85 [13:48<14:22, 19.16s/it]"
     ]
    },
    {
     "name": "stderr",
     "output_type": "stream",
     "text": [
      "\r",
      " 48%|█████████████████████████████████████████████████████████▉                                                              | 41/85 [14:08<14:04, 19.20s/it]"
     ]
    }
   ],
   "source": [
    "for s in tqdm(range(0,nsubjects)):\n",
    "    sub = use_subjects[s]\n",
    "    sub_df = study_df.iloc[study_df['subjectkey'].values==sub]\n",
    "    fmri_idx = sub_df['scan_type'].values=='fMRI'\n",
    "#    anat_idx = sub_df['scan_type'].values=='MR structural (T1)'\n",
    "    anat_idx = sub_df['scan_type'].isin(['MR structural (T1)','MR structural (MPRAGE)']).values\n",
    "\n",
    "    epi_fn = sub_df.iloc[fmri_idx]['local_paths'].values[0]\n",
    "    anat_fn = sub_df.iloc[anat_idx]['local_paths'].values[0]\n",
    "\n",
    "#     #epi_path = os.path.join(ndar_root,epi_fn[1::])\n",
    "#     #anat_path = os.path.join(ndar_root,anat_fn[1::])\n",
    "    \n",
    "    epi_path = os.path.join(ndar_root,epi_fn)\n",
    "    anat_path = os.path.join(ndar_root,anat_fn)\n",
    "\n",
    "    \n",
    "#     # AA: Is this a problem? we're reading in .nii or .nii.gz but saving as .nii.gz always\n",
    "    epi_dest = os.path.join(bids_root,f'ds-{col_id}',f'sub-{s+1:03d}','func',f'sub-{s+1:03d}_task-rest_bold.nii.gz')\n",
    "    anat_dest = os.path.join(bids_root,f'ds-{col_id}',f'sub-{s+1:03d}','anat',f'sub-{s+1:03d}_T1w.nii.gz')\n",
    "\n",
    "    t1 = ants.image_read(anat_path) \n",
    "    bold = ants.image_read(epi_path)\n",
    "\n",
    "    t1.to_filename(anat_dest)\n",
    "    bold.to_filename(epi_dest)\n",
    "\n",
    "#     bold_json = {\"RepetitionTime\" : bold.spacing[-1],\n",
    "#                 \"TaskName\" : 'rest'}\n",
    "#     write_json(bold_json,epi_dest.replace('.nii.gz','.json')) \n",
    "#     im = nib.load(epi_dest)\n",
    "#     header = im.header.copy()\n",
    "#     header.set_xyzt_units(xyz='mm', t='sec')\n",
    "#     nib.nifti1.Nifti1Image(im.get_fdata(), None, header=header).to_filename(epi_dest)\n",
    "#     assert nib.load(epi_dest).header.get_xyzt_units()==('mm', 'sec'),'timing missing from header'"
   ]
  },
  {
   "cell_type": "code",
   "execution_count": null,
   "id": "5ba92b96-8e5d-4759-9513-081ba1d509c0",
   "metadata": {
    "papermill": {
     "duration": null,
     "end_time": null,
     "exception": null,
     "start_time": null,
     "status": "completed"
    },
    "tags": []
   },
   "outputs": [],
   "source": [
    "import json\n",
    "data = {\n",
    "    \"Name\" : study_df[\"collection_title\"].values[0] ,\n",
    "    \"RepetitionTime\": 2.0,\n",
    "    \"SliceTiming\" : 2.0 ,\n",
    "    \"TaskName\" : \"taskrest\" ,\n",
    "    \"BIDSVersion\" : \"20.2.0\"}\n",
    "json_string = json.dumps(data)\n",
    "print(json_string)\n",
    "with open(os.path.join(bids_root,f'ds-{col_id}','dataset_description.json'), 'w') as outfile:\n",
    "    json.dump(json_string, outfile)"
   ]
  },
  {
   "cell_type": "code",
   "execution_count": null,
   "id": "6d76d336-1609-4ca5-a0ed-1470b07245be",
   "metadata": {
    "papermill": {
     "duration": null,
     "end_time": null,
     "exception": null,
     "start_time": null,
     "status": "completed"
    },
    "tags": []
   },
   "outputs": [],
   "source": [
    "pwd"
   ]
  },
  {
   "cell_type": "code",
   "execution_count": null,
   "id": "d7b92eb0-9900-4b05-893e-9ad9c4b1c560",
   "metadata": {
    "papermill": {
     "duration": null,
     "end_time": null,
     "exception": null,
     "start_time": null,
     "status": "completed"
    },
    "tags": []
   },
   "outputs": [],
   "source": []
  },
  {
   "cell_type": "code",
   "execution_count": null,
   "id": "83de9449-777c-4a48-a543-d19e84e83ce5",
   "metadata": {
    "papermill": {
     "duration": null,
     "end_time": null,
     "exception": null,
     "start_time": null,
     "status": "completed"
    },
    "tags": []
   },
   "outputs": [],
   "source": []
  }
 ],
 "metadata": {
  "kernelspec": {
   "display_name": "Python 3",
   "language": "python",
   "name": "python3"
  },
  "language_info": {
   "codemirror_mode": {
    "name": "ipython",
    "version": 3
   },
   "file_extension": ".py",
   "mimetype": "text/x-python",
   "name": "python",
   "nbconvert_exporter": "python",
   "pygments_lexer": "ipython3",
   "version": "3.8.8"
  },
  "papermill": {
   "default_parameters": {},
   "duration": 881.865936,
   "end_time": "2022-08-10T16:40:17.920677",
   "environment_variables": {},
   "exception": null,
   "input_path": "fMRI_Prep_Tutorial.ipynb",
   "output_path": "fMRI_Prep_Papermill_6.ipynb",
   "parameters": {},
   "start_time": "2022-08-10T16:25:36.054741",
   "version": "2.3.4"
  }
 },
 "nbformat": 4,
 "nbformat_minor": 5
}