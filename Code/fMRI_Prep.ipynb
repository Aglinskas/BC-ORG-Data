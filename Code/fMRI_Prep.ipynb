{
 "cells": [
  {
   "cell_type": "code",
   "execution_count": null,
   "id": "d5a45cf0-6591-4ac8-ad7a-10ccc30e4b2b",
   "metadata": {},
   "outputs": [],
   "source": [
    "module load singularity/\n",
    "singularity run --cleanenv fmriprep.simg ds-2026/ds-2026 fmriprep_out participant --participant-label sub-000 --skip_bids_validation"
   ]
  },
  {
   "cell_type": "code",
   "execution_count": null,
   "id": "9bd69a58-1c7d-4239-b204-a16f0ca0715e",
   "metadata": {},
   "outputs": [],
   "source": []
  },
  {
   "cell_type": "code",
   "execution_count": 1,
   "id": "eec7f169-4765-4216-be56-cf3834c05bce",
   "metadata": {},
   "outputs": [
    {
     "data": {
      "text/plain": [
       "'/mmfs1/data/pijarj/BC-ORG-Data/Code'"
      ]
     },
     "execution_count": 1,
     "metadata": {},
     "output_type": "execute_result"
    }
   ],
   "source": [
    "pwd"
   ]
  },
  {
   "cell_type": "code",
   "execution_count": 2,
   "id": "eed17d7a-1e1d-491b-b6bf-aa08518ca7f7",
   "metadata": {},
   "outputs": [
    {
     "name": "stdout",
     "output_type": "stream",
     "text": [
      "/mmfs1/data/pijarj\n"
     ]
    }
   ],
   "source": [
    "cd ../../"
   ]
  },
  {
   "cell_type": "code",
   "execution_count": 3,
   "id": "571bd0ee-4fa9-4f9d-b3c3-821d57e670f8",
   "metadata": {},
   "outputs": [
    {
     "name": "stdout",
     "output_type": "stream",
     "text": [
      "/mmfs1/data/pijarj/ds-2026/ds-2026/sub-000/func\n"
     ]
    }
   ],
   "source": [
    "cd ds-2026/ds-2026/sub-000/func"
   ]
  },
  {
   "cell_type": "code",
   "execution_count": null,
   "id": "23647a9e-7f6b-46df-8b7d-fdfb16dcbde7",
   "metadata": {},
   "outputs": [],
   "source": [
    "gzip filename"
   ]
  },
  {
   "cell_type": "code",
   "execution_count": 1,
   "id": "1f3a0042-7144-4672-814d-ede7fca50a61",
   "metadata": {},
   "outputs": [
    {
     "data": {
      "text/plain": [
       "'/mmfs1/data/pijarj/BC-ORG-Data/Code'"
      ]
     },
     "execution_count": 1,
     "metadata": {},
     "output_type": "execute_result"
    }
   ],
   "source": [
    "pwd"
   ]
  },
  {
   "cell_type": "code",
   "execution_count": 2,
   "id": "fed0d570-bf2f-40ef-9506-2a1ab1b25e1a",
   "metadata": {},
   "outputs": [
    {
     "name": "stdout",
     "output_type": "stream",
     "text": [
      "/mmfs1/data/pijarj\n"
     ]
    }
   ],
   "source": [
    "cd ../../"
   ]
  },
  {
   "cell_type": "code",
   "execution_count": 3,
   "id": "46fc3424-7201-4ecb-974b-83d6f3438295",
   "metadata": {},
   "outputs": [
    {
     "name": "stdout",
     "output_type": "stream",
     "text": [
      "/mmfs1/data/pijarj/fmri_prep_out\n"
     ]
    }
   ],
   "source": [
    "cd fmri_prep_out"
   ]
  },
  {
   "cell_type": "code",
   "execution_count": 7,
   "id": "a873a285-a069-4cb0-8172-34d58c71390f",
   "metadata": {},
   "outputs": [
    {
     "name": "stdout",
     "output_type": "stream",
     "text": [
      "/mmfs1/data/pijarj\n"
     ]
    }
   ],
   "source": [
    "cd ../"
   ]
  },
  {
   "cell_type": "code",
   "execution_count": 8,
   "id": "ba160268-68e5-4b11-bb98-d8d21daba2d1",
   "metadata": {},
   "outputs": [
    {
     "name": "stdout",
     "output_type": "stream",
     "text": [
      "\u001b[0m\u001b[38;5;33mAglinskas\u001b[0m/                         \u001b[38;5;33mds-2155\u001b[0m/             fs_licence.txt\n",
      "\u001b[38;5;33manaconda3\u001b[0m/                         \u001b[38;5;33mds-2155-v1\u001b[0m/          \u001b[38;5;33mndar_fmri\u001b[0m/\n",
      "Anaconda3-2021.05-Linux-x86_64.sh  ExampleofCopy.ipynb  \u001b[38;5;9mNIFTI4D.tar.gz\u001b[0m\n",
      "\u001b[38;5;33mBC-ORG-Data\u001b[0m/                       \u001b[38;5;33mfmri_prep_out\u001b[0m/       \u001b[38;5;33mplay\u001b[0m/\n",
      "\u001b[38;5;33mds-2026\u001b[0m/                           \u001b[38;5;40mfmriprep.simg\u001b[0m*       \u001b[38;5;33mwork\u001b[0m/\n"
     ]
    }
   ],
   "source": [
    "ls"
   ]
  },
  {
   "cell_type": "code",
   "execution_count": 10,
   "id": "e846fe6d-59fc-4a1a-8903-f070ebb4b442",
   "metadata": {},
   "outputs": [],
   "source": [
    "mkdir fmriprep_out"
   ]
  },
  {
   "cell_type": "code",
   "execution_count": 11,
   "id": "8ed58f2c-84fa-4bc2-8753-bb0ce224f540",
   "metadata": {},
   "outputs": [
    {
     "name": "stdout",
     "output_type": "stream",
     "text": [
      "/mmfs1/data/pijarj/fmriprep_out\n"
     ]
    }
   ],
   "source": [
    "cd fmriprep_out"
   ]
  },
  {
   "cell_type": "code",
   "execution_count": 12,
   "id": "8e4f6b0b-b19e-44eb-95cf-5d840fba43ed",
   "metadata": {},
   "outputs": [],
   "source": [
    "mkdir fmriprep"
   ]
  },
  {
   "cell_type": "code",
   "execution_count": 13,
   "id": "14e32394-734e-4621-bf21-308cb696be93",
   "metadata": {},
   "outputs": [
    {
     "name": "stdout",
     "output_type": "stream",
     "text": [
      "/mmfs1/data/pijarj/fmriprep_out/fmriprep\n"
     ]
    }
   ],
   "source": [
    "cd fmriprep"
   ]
  },
  {
   "cell_type": "code",
   "execution_count": 14,
   "id": "406772cd-e3f4-4845-a6b3-91c6f22e0aed",
   "metadata": {},
   "outputs": [],
   "source": [
    "mkdir logs"
   ]
  },
  {
   "cell_type": "code",
   "execution_count": 1,
   "id": "c9e4ddc2-ae18-4abf-8571-f0a61741c4d8",
   "metadata": {},
   "outputs": [
    {
     "name": "stdout",
     "output_type": "stream",
     "text": [
      "74\n"
     ]
    }
   ],
   "source": [
    "#ds-2358\n",
    "study_name = 'Neural networks for attention to internal and external sensory cues in ASD'\n",
    "print(len(study_name))"
   ]
  },
  {
   "cell_type": "code",
   "execution_count": 2,
   "id": "c57015b0-5c7b-4243-bad7-680cd7d6534f",
   "metadata": {},
   "outputs": [
    {
     "name": "stdout",
     "output_type": "stream",
     "text": [
      "58\n"
     ]
    }
   ],
   "source": [
    "#ds-2075\n",
    "study_name = 'Mapping Thalamocortical Networks Across Development in ASD'\n",
    "print(len(study_name))"
   ]
  },
  {
   "cell_type": "code",
   "execution_count": 3,
   "id": "1365219f-1d31-4ff5-a31d-cba7ea558acd",
   "metadata": {},
   "outputs": [
    {
     "name": "stdout",
     "output_type": "stream",
     "text": [
      "51\n"
     ]
    }
   ],
   "source": [
    "#ds-2286\n",
    "study_name = 'FMRI and EEG Approaches to the resting state in ASD'\n",
    "print(len(study_name))"
   ]
  },
  {
   "cell_type": "code",
   "execution_count": null,
   "id": "94766263-7b4f-4610-881b-42ba4177010b",
   "metadata": {},
   "outputs": [],
   "source": []
  }
 ],
 "metadata": {
  "kernelspec": {
   "display_name": "Python 3",
   "language": "python",
   "name": "python3"
  },
  "language_info": {
   "codemirror_mode": {
    "name": "ipython",
    "version": 3
   },
   "file_extension": ".py",
   "mimetype": "text/x-python",
   "name": "python",
   "nbconvert_exporter": "python",
   "pygments_lexer": "ipython3",
   "version": "3.8.8"
  }
 },
 "nbformat": 4,
 "nbformat_minor": 5
}
