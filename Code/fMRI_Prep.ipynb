{
 "cells": [
  {
   "cell_type": "code",
   "execution_count": 2,
   "id": "d5a45cf0-6591-4ac8-ad7a-10ccc30e4b2b",
   "metadata": {},
   "outputs": [
    {
     "data": {
      "text/plain": [
       "'/mmfs1/data'"
      ]
     },
     "execution_count": 2,
     "metadata": {},
     "output_type": "execute_result"
    }
   ],
   "source": [
    "pwd"
   ]
  },
  {
   "cell_type": "code",
   "execution_count": 3,
   "id": "9bd69a58-1c7d-4239-b204-a16f0ca0715e",
   "metadata": {},
   "outputs": [
    {
     "name": "stdout",
     "output_type": "stream",
     "text": [
      "/mmfs1/data/pijarj\n"
     ]
    }
   ],
   "source": [
    "cd pijarj"
   ]
  },
  {
   "cell_type": "code",
   "execution_count": 6,
   "id": "eec7f169-4765-4216-be56-cf3834c05bce",
   "metadata": {},
   "outputs": [
    {
     "ename": "SyntaxError",
     "evalue": "invalid syntax (<ipython-input-6-372cb352b14c>, line 1)",
     "output_type": "error",
     "traceback": [
      "\u001b[0;36m  File \u001b[0;32m\"<ipython-input-6-372cb352b14c>\"\u001b[0;36m, line \u001b[0;32m1\u001b[0m\n\u001b[0;31m    singularity run --bind /data/pijarj/scratch:/scratch --cleanenv fmriprep.simg mmfs1/data/pijarj/ds-2026/ds-2026/sub-000/func mmfs1/data/pijarj/ds-2026/ds-2026/sub-000/func participant --participant-label sub-000 --fs-no-reconall --task-id 'rest' --fs-license-file fs_licence.txt\u001b[0m\n\u001b[0m                ^\u001b[0m\n\u001b[0;31mSyntaxError\u001b[0m\u001b[0;31m:\u001b[0m invalid syntax\n"
     ]
    }
   ],
   "source": [
    "singularity run --bind /data/pijarj/scratch:/scratch --cleanenv fmriprep.simg mmfs1/data/pijarj/ds-2026/ds-2026/sub-000/func mmfs1/data/pijarj/ds-2026/ds-2026/sub-000/func participant --participant-label sub-000 --fs-no-reconall --task-id 'rest' --fs-license-file fs_licence.txt"
   ]
  },
  {
   "cell_type": "code",
   "execution_count": 8,
   "id": "eed17d7a-1e1d-491b-b6bf-aa08518ca7f7",
   "metadata": {},
   "outputs": [
    {
     "data": {
      "text/plain": [
       "'/mmfs1/data/pijarj'"
      ]
     },
     "execution_count": 8,
     "metadata": {},
     "output_type": "execute_result"
    }
   ],
   "source": [
    "pwd"
   ]
  },
  {
   "cell_type": "code",
   "execution_count": 35,
   "id": "571bd0ee-4fa9-4f9d-b3c3-821d57e670f8",
   "metadata": {},
   "outputs": [
    {
     "ename": "SyntaxError",
     "evalue": "invalid syntax (<ipython-input-35-316db9783191>, line 18)",
     "output_type": "error",
     "traceback": [
      "\u001b[0;36m  File \u001b[0;32m\"<ipython-input-35-316db9783191>\"\u001b[0;36m, line \u001b[0;32m18\u001b[0m\n\u001b[0;31m    singularity run --bind /data/<pijarj>/scratch:/scratch --cleanenv <fmriprep.simg> <mmfs1/data/pijarj/ds-2026/ds-2026/sub-000/func> <mmfs1/data/pijarj/ds-2026/ds-2026/sub-000/func> participant --participant-label <sub-000> --fs-no-reconall --task-id 'rest' --fs-license-file fs_licence.txt\u001b[0m\n\u001b[0m                ^\u001b[0m\n\u001b[0;31mSyntaxError\u001b[0m\u001b[0;31m:\u001b[0m invalid syntax\n"
     ]
    }
   ],
   "source": [
    "#Creating the Script\n",
    "#User inputs:\n",
    "bids_root_dir=mmfs1/data/pijarj/ds-2026/ds-2026/func\n",
    "subj=0o000\n",
    "nthreads=4\n",
    "mem=20 \n",
    "container=singularity #docker or singularity\n",
    "\n",
    "#Convert virtual memory from gb to mb\n",
    "#mem=`echo \"${mem//[!0-9]/}\"` #remove gb at end\n",
    "#mem_mb=`echo $(((mem*1000)-5000))` #reduce some memory for buffer space during pre-processing\n",
    "\n",
    "#export TEMPLATEFLOW_HOME=$HOME/.cache/templateflow\n",
    "FS_LICENSE=mmfs1/data/pijarj/fs_license.txt\n",
    "\n",
    "#Run fmriprep\n",
    "if container == singularity:\n",
    "    singularity run --bind /data/<pijarj>/scratch:/scratch --cleanenv <fmriprep.simg> <mmfs1/data/pijarj/ds-2026/ds-2026/sub-000/func> <mmfs1/data/pijarj/ds-2026/ds-2026/sub-000/func participant --participant-label sub-000 --fs-no-reconall --task-id 'rest' --fs-license-file fs_licence.txt\n",
    "#    singularity run -B mmfs1/data/pijarj/.cache/templateflow:/opt/templateflow mmfs1/data/pijarj/fmriprep.simg \\\n",
    " #   $bids_root_dir $bids_root_dir \\\n",
    "  #  participant \\\n",
    "   # --participant-label $subj \\\n",
    "    #--skip-bids-validation \\\n",
    "#    --md-only-boilerplate \\\n",
    " #   --fs-license-file $mmfs1/data/pijarj/fs_license.txt \\\n",
    "  #  --fs-no-reconall \\\n",
    "   # --output-spaces MNI152NLin2009cAsym:res-2 \\\n",
    "    #--nthreads $nthreads \\\n",
    "    #--stop-on-first-crash \\\n",
    "    #--mem_mb $mem_mb \\\n",
    "else\n",
    "    fmriprep-docker $bids_root_dir $bids_root_dir \\\n",
    "    participant \\\n",
    "    --participant-label $subj \\\n",
    "    --skip-bids-validation \\\n",
    "    --md-only-boilerplate \\\n",
    "    --fs-license-file $mmfs1/data/pijarj/fs_license.txt \\\n",
    "    --fs-no-reconall \\\n",
    "    --output-spaces MNI152NLin2009cAsym:res-2 \\\n",
    "    --nthreads $nthreads \\\n",
    "    --stop-on-first-crash \\\n",
    "    --mem_mb $mem_mb\n",
    "\n",
    "singularity run --cleanenv fmriprep.simg \\\n",
    "    path/to/data/dir path/to/output/dir \\\n",
    "    participant \\\n",
    "    --participant-label label"
   ]
  },
  {
   "cell_type": "code",
   "execution_count": null,
   "id": "23647a9e-7f6b-46df-8b7d-fdfb16dcbde7",
   "metadata": {},
   "outputs": [],
   "source": []
  },
  {
   "cell_type": "code",
   "execution_count": null,
   "id": "1f3a0042-7144-4672-814d-ede7fca50a61",
   "metadata": {},
   "outputs": [],
   "source": []
  },
  {
   "cell_type": "code",
   "execution_count": null,
   "id": "c21fa100-081c-44f7-b73b-121936027b52",
   "metadata": {},
   "outputs": [],
   "source": []
  },
  {
   "cell_type": "code",
   "execution_count": null,
   "id": "74c9513e-1bf9-42db-8d95-29b42037ca05",
   "metadata": {},
   "outputs": [],
   "source": []
  },
  {
   "cell_type": "code",
   "execution_count": null,
   "id": "85c3d13b-5c4f-4ba5-a194-18584fc41843",
   "metadata": {},
   "outputs": [],
   "source": []
  }
 ],
 "metadata": {
  "kernelspec": {
   "display_name": "Python 3",
   "language": "python",
   "name": "python3"
  },
  "language_info": {
   "codemirror_mode": {
    "name": "ipython",
    "version": 3
   },
   "file_extension": ".py",
   "mimetype": "text/x-python",
   "name": "python",
   "nbconvert_exporter": "python",
   "pygments_lexer": "ipython3",
   "version": "3.8.8"
  }
 },
 "nbformat": 4,
 "nbformat_minor": 5
}
