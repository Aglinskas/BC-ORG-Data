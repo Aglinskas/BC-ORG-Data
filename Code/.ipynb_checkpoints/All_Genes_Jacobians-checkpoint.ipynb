{
 "cells": [
  {
   "cell_type": "code",
   "execution_count": 1,
   "id": "00fe8474-1725-4480-adc6-d9d67d87f80d",
   "metadata": {},
   "outputs": [],
   "source": [
    "import pandas as pd\n",
    "from sklearn import linear_model\n",
    "import numpy as np\n",
    "from matplotlib import pyplot as plt\n",
    "import ants\n",
    "import os\n",
    "from tqdm import tqdm\n",
    "import statistics\n",
    "import statsmodels.api as sm\n",
    "import shutil"
   ]
  },
  {
   "cell_type": "code",
   "execution_count": 2,
   "id": "900949a3-92af-476b-9210-204407410caf",
   "metadata": {},
   "outputs": [
    {
     "name": "stdout",
     "output_type": "stream",
     "text": [
      "/mmfs1/data/pijarj/BC-ORG-Data/Data/Genemaps\n"
     ]
    }
   ],
   "source": [
    "cd ../Data/Genemaps"
   ]
  },
  {
   "cell_type": "code",
   "execution_count": 3,
   "id": "0b4e04ad-5277-42a1-8a91-4f5dbc938f07",
   "metadata": {},
   "outputs": [
    {
     "name": "stdout",
     "output_type": "stream",
     "text": [
      "(982, 90)\n",
      "(470, 90)\n"
     ]
    }
   ],
   "source": [
    "#Load in data\n",
    "atlas = ants.image_read('../../YeoAtlas/Atlas_parc-7n_2mm.nii')\n",
    "df = pd.read_csv('/mmfs1/data/pijarj/jacobians/ABIDE_legend_S982.csv')\n",
    "patients = df['DxGroup'].values==1\n",
    "df_asd = df.iloc[patients]\n",
    "print(df.shape)\n",
    "print(df_asd.shape)"
   ]
  },
  {
   "cell_type": "code",
   "execution_count": 4,
   "id": "205ec05d-d0a3-4066-8f32-16b47ddd6f66",
   "metadata": {},
   "outputs": [
    {
     "data": {
      "text/html": [
       "<div>\n",
       "<style scoped>\n",
       "    .dataframe tbody tr th:only-of-type {\n",
       "        vertical-align: middle;\n",
       "    }\n",
       "\n",
       "    .dataframe tbody tr th {\n",
       "        vertical-align: top;\n",
       "    }\n",
       "\n",
       "    .dataframe thead th {\n",
       "        text-align: right;\n",
       "    }\n",
       "</style>\n",
       "<table border=\"1\" class=\"dataframe\">\n",
       "  <thead>\n",
       "    <tr style=\"text-align: right;\">\n",
       "      <th></th>\n",
       "      <th>ADOS_Comm</th>\n",
       "      <th>ADOS_Module</th>\n",
       "      <th>ADOS_Social</th>\n",
       "      <th>ADOS_StBeh</th>\n",
       "      <th>ADOS_Total</th>\n",
       "    </tr>\n",
       "  </thead>\n",
       "  <tbody>\n",
       "    <tr>\n",
       "      <th>0</th>\n",
       "      <td>NaN</td>\n",
       "      <td>NaN</td>\n",
       "      <td>NaN</td>\n",
       "      <td>NaN</td>\n",
       "      <td>NaN</td>\n",
       "    </tr>\n",
       "    <tr>\n",
       "      <th>2</th>\n",
       "      <td>NaN</td>\n",
       "      <td>NaN</td>\n",
       "      <td>NaN</td>\n",
       "      <td>NaN</td>\n",
       "      <td>NaN</td>\n",
       "    </tr>\n",
       "    <tr>\n",
       "      <th>4</th>\n",
       "      <td>NaN</td>\n",
       "      <td>NaN</td>\n",
       "      <td>NaN</td>\n",
       "      <td>NaN</td>\n",
       "      <td>NaN</td>\n",
       "    </tr>\n",
       "    <tr>\n",
       "      <th>7</th>\n",
       "      <td>NaN</td>\n",
       "      <td>NaN</td>\n",
       "      <td>NaN</td>\n",
       "      <td>NaN</td>\n",
       "      <td>NaN</td>\n",
       "    </tr>\n",
       "    <tr>\n",
       "      <th>8</th>\n",
       "      <td>NaN</td>\n",
       "      <td>NaN</td>\n",
       "      <td>NaN</td>\n",
       "      <td>NaN</td>\n",
       "      <td>NaN</td>\n",
       "    </tr>\n",
       "    <tr>\n",
       "      <th>...</th>\n",
       "      <td>...</td>\n",
       "      <td>...</td>\n",
       "      <td>...</td>\n",
       "      <td>...</td>\n",
       "      <td>...</td>\n",
       "    </tr>\n",
       "    <tr>\n",
       "      <th>975</th>\n",
       "      <td>3.0</td>\n",
       "      <td>3.0</td>\n",
       "      <td>7.0</td>\n",
       "      <td>2.0</td>\n",
       "      <td>10.0</td>\n",
       "    </tr>\n",
       "    <tr>\n",
       "      <th>976</th>\n",
       "      <td>4.0</td>\n",
       "      <td>3.0</td>\n",
       "      <td>12.0</td>\n",
       "      <td>6.0</td>\n",
       "      <td>16.0</td>\n",
       "    </tr>\n",
       "    <tr>\n",
       "      <th>978</th>\n",
       "      <td>3.0</td>\n",
       "      <td>3.0</td>\n",
       "      <td>6.0</td>\n",
       "      <td>2.0</td>\n",
       "      <td>9.0</td>\n",
       "    </tr>\n",
       "    <tr>\n",
       "      <th>980</th>\n",
       "      <td>2.0</td>\n",
       "      <td>3.0</td>\n",
       "      <td>5.0</td>\n",
       "      <td>1.0</td>\n",
       "      <td>7.0</td>\n",
       "    </tr>\n",
       "    <tr>\n",
       "      <th>981</th>\n",
       "      <td>2.0</td>\n",
       "      <td>3.0</td>\n",
       "      <td>8.0</td>\n",
       "      <td>0.0</td>\n",
       "      <td>10.0</td>\n",
       "    </tr>\n",
       "  </tbody>\n",
       "</table>\n",
       "<p>470 rows × 5 columns</p>\n",
       "</div>"
      ],
      "text/plain": [
       "     ADOS_Comm  ADOS_Module  ADOS_Social  ADOS_StBeh  ADOS_Total\n",
       "0          NaN          NaN          NaN         NaN         NaN\n",
       "2          NaN          NaN          NaN         NaN         NaN\n",
       "4          NaN          NaN          NaN         NaN         NaN\n",
       "7          NaN          NaN          NaN         NaN         NaN\n",
       "8          NaN          NaN          NaN         NaN         NaN\n",
       "..         ...          ...          ...         ...         ...\n",
       "975        3.0          3.0          7.0         2.0        10.0\n",
       "976        4.0          3.0         12.0         6.0        16.0\n",
       "978        3.0          3.0          6.0         2.0         9.0\n",
       "980        2.0          3.0          5.0         1.0         7.0\n",
       "981        2.0          3.0          8.0         0.0        10.0\n",
       "\n",
       "[470 rows x 5 columns]"
      ]
     },
     "execution_count": 4,
     "metadata": {},
     "output_type": "execute_result"
    }
   ],
   "source": [
    "df_asd.columns\n",
    "df_asd[['ADOS_Comm', 'ADOS_Module', 'ADOS_Social','ADOS_StBeh', 'ADOS_Total']]"
   ]
  },
  {
   "cell_type": "code",
   "execution_count": 5,
   "id": "78ecb3c7-b476-48cc-9597-dfe8d7365ccf",
   "metadata": {},
   "outputs": [
    {
     "data": {
      "text/html": [
       "<div>\n",
       "<style scoped>\n",
       "    .dataframe tbody tr th:only-of-type {\n",
       "        vertical-align: middle;\n",
       "    }\n",
       "\n",
       "    .dataframe tbody tr th {\n",
       "        vertical-align: top;\n",
       "    }\n",
       "\n",
       "    .dataframe thead th {\n",
       "        text-align: right;\n",
       "    }\n",
       "</style>\n",
       "<table border=\"1\" class=\"dataframe\">\n",
       "  <thead>\n",
       "    <tr style=\"text-align: right;\">\n",
       "      <th></th>\n",
       "      <th>ADOS_Comm</th>\n",
       "      <th>ADOS_Module</th>\n",
       "      <th>ADOS_Social</th>\n",
       "      <th>ADOS_StBeh</th>\n",
       "      <th>ADOS_Total</th>\n",
       "    </tr>\n",
       "  </thead>\n",
       "  <tbody>\n",
       "    <tr>\n",
       "      <th>0</th>\n",
       "      <td>NaN</td>\n",
       "      <td>NaN</td>\n",
       "      <td>NaN</td>\n",
       "      <td>NaN</td>\n",
       "      <td>NaN</td>\n",
       "    </tr>\n",
       "    <tr>\n",
       "      <th>1</th>\n",
       "      <td>NaN</td>\n",
       "      <td>NaN</td>\n",
       "      <td>NaN</td>\n",
       "      <td>NaN</td>\n",
       "      <td>NaN</td>\n",
       "    </tr>\n",
       "    <tr>\n",
       "      <th>2</th>\n",
       "      <td>NaN</td>\n",
       "      <td>NaN</td>\n",
       "      <td>NaN</td>\n",
       "      <td>NaN</td>\n",
       "      <td>NaN</td>\n",
       "    </tr>\n",
       "    <tr>\n",
       "      <th>3</th>\n",
       "      <td>NaN</td>\n",
       "      <td>NaN</td>\n",
       "      <td>NaN</td>\n",
       "      <td>NaN</td>\n",
       "      <td>NaN</td>\n",
       "    </tr>\n",
       "    <tr>\n",
       "      <th>4</th>\n",
       "      <td>NaN</td>\n",
       "      <td>NaN</td>\n",
       "      <td>NaN</td>\n",
       "      <td>NaN</td>\n",
       "      <td>NaN</td>\n",
       "    </tr>\n",
       "    <tr>\n",
       "      <th>...</th>\n",
       "      <td>...</td>\n",
       "      <td>...</td>\n",
       "      <td>...</td>\n",
       "      <td>...</td>\n",
       "      <td>...</td>\n",
       "    </tr>\n",
       "    <tr>\n",
       "      <th>977</th>\n",
       "      <td>NaN</td>\n",
       "      <td>NaN</td>\n",
       "      <td>NaN</td>\n",
       "      <td>NaN</td>\n",
       "      <td>NaN</td>\n",
       "    </tr>\n",
       "    <tr>\n",
       "      <th>978</th>\n",
       "      <td>3.0</td>\n",
       "      <td>3.0</td>\n",
       "      <td>6.0</td>\n",
       "      <td>2.0</td>\n",
       "      <td>9.0</td>\n",
       "    </tr>\n",
       "    <tr>\n",
       "      <th>979</th>\n",
       "      <td>NaN</td>\n",
       "      <td>NaN</td>\n",
       "      <td>NaN</td>\n",
       "      <td>NaN</td>\n",
       "      <td>NaN</td>\n",
       "    </tr>\n",
       "    <tr>\n",
       "      <th>980</th>\n",
       "      <td>2.0</td>\n",
       "      <td>3.0</td>\n",
       "      <td>5.0</td>\n",
       "      <td>1.0</td>\n",
       "      <td>7.0</td>\n",
       "    </tr>\n",
       "    <tr>\n",
       "      <th>981</th>\n",
       "      <td>2.0</td>\n",
       "      <td>3.0</td>\n",
       "      <td>8.0</td>\n",
       "      <td>0.0</td>\n",
       "      <td>10.0</td>\n",
       "    </tr>\n",
       "  </tbody>\n",
       "</table>\n",
       "<p>982 rows × 5 columns</p>\n",
       "</div>"
      ],
      "text/plain": [
       "     ADOS_Comm  ADOS_Module  ADOS_Social  ADOS_StBeh  ADOS_Total\n",
       "0          NaN          NaN          NaN         NaN         NaN\n",
       "1          NaN          NaN          NaN         NaN         NaN\n",
       "2          NaN          NaN          NaN         NaN         NaN\n",
       "3          NaN          NaN          NaN         NaN         NaN\n",
       "4          NaN          NaN          NaN         NaN         NaN\n",
       "..         ...          ...          ...         ...         ...\n",
       "977        NaN          NaN          NaN         NaN         NaN\n",
       "978        3.0          3.0          6.0         2.0         9.0\n",
       "979        NaN          NaN          NaN         NaN         NaN\n",
       "980        2.0          3.0          5.0         1.0         7.0\n",
       "981        2.0          3.0          8.0         0.0        10.0\n",
       "\n",
       "[982 rows x 5 columns]"
      ]
     },
     "execution_count": 5,
     "metadata": {},
     "output_type": "execute_result"
    }
   ],
   "source": [
    "df.columns\n",
    "df[['ADOS_Comm', 'ADOS_Module', 'ADOS_Social','ADOS_StBeh', 'ADOS_Total']]"
   ]
  },
  {
   "cell_type": "code",
   "execution_count": 6,
   "id": "8e32735c-10a6-46a8-89da-349a481007b5",
   "metadata": {},
   "outputs": [],
   "source": [
    "genemaps = [file for file in os.listdir() if file.endswith('.nii.gz')]\n",
    "genemaps.sort()"
   ]
  },
  {
   "cell_type": "code",
   "execution_count": 7,
   "id": "4f49064f-740d-46bf-9e68-0035aa54e07b",
   "metadata": {},
   "outputs": [
    {
     "name": "stdout",
     "output_type": "stream",
     "text": [
      "470\n",
      "34\n"
     ]
    },
    {
     "data": {
      "text/plain": [
       "array([[0., 0., 0., ..., 0., 0., 0.],\n",
       "       [0., 0., 0., ..., 0., 0., 0.],\n",
       "       [0., 0., 0., ..., 0., 0., 0.],\n",
       "       ...,\n",
       "       [0., 0., 0., ..., 0., 0., 0.],\n",
       "       [0., 0., 0., ..., 0., 0., 0.],\n",
       "       [0., 0., 0., ..., 0., 0., 0.]])"
      ]
     },
     "execution_count": 7,
     "metadata": {},
     "output_type": "execute_result"
    }
   ],
   "source": [
    "nsubjects = 470\n",
    "ngenes = len(genemaps)\n",
    "print(nsubjects)\n",
    "print(ngenes)\n",
    "\n",
    "gene_jacobian_corr = np.zeros((ngenes,nsubjects))\n",
    "gene_jacobian_corr"
   ]
  },
  {
   "cell_type": "code",
   "execution_count": 8,
   "id": "66354d36-d2b8-4368-8372-fcf6edb6fb5f",
   "metadata": {},
   "outputs": [
    {
     "name": "stderr",
     "output_type": "stream",
     "text": [
      "100%|██████████| 34/34 [00:04<00:00,  7.38it/s]\n"
     ]
    }
   ],
   "source": [
    "#resample all gene maps to be 64x64x64\n",
    "for gene in tqdm(range(ngenes)):\n",
    "    gene_name = str(genemaps[gene])\n",
    "    resample_root = f'/mmfs1/data/pijarj/BC-ORG-Data/Data/Genemaps/Resampled_Genes/resampled_{gene_name}'\n",
    "    gn = ants.image_read(genemaps[gene])\n",
    "    gn_small = ants.resample_image(gn,resample_params=(64,64,64),use_voxels=True)\n",
    "    gn_small.to_file(resample_root)"
   ]
  },
  {
   "cell_type": "code",
   "execution_count": 9,
   "id": "a9bac03d-5611-4844-b55f-7b129d739986",
   "metadata": {},
   "outputs": [],
   "source": [
    "# One way to store brain scans in an array\n",
    "# jacobian_arrays = []\n",
    "# for subject in range(5):\n",
    "#     jacobian_array = ants.image_read(jacobians[subject]).numpy()\n",
    "#     jacobian_arrays.append(jacobian_array)\n",
    "    \n",
    "# jacobian_arrays_numpy = np.array(jacobian_arrays)\n",
    "# jacobian_arrays_numpy.shape"
   ]
  },
  {
   "cell_type": "code",
   "execution_count": 10,
   "id": "ec0c7e4b-84eb-4f9e-ba10-ce6db7c9f0b3",
   "metadata": {},
   "outputs": [
    {
     "name": "stdout",
     "output_type": "stream",
     "text": [
      "/mmfs1/data/pijarj/BC-ORG-Data/Data/Genemaps/Resampled_Genes\n"
     ]
    }
   ],
   "source": [
    "cd Resampled_Genes"
   ]
  },
  {
   "cell_type": "code",
   "execution_count": 17,
   "id": "f9dc2222-6a09-49a1-88d8-7d75232dd9eb",
   "metadata": {},
   "outputs": [
    {
     "name": "stderr",
     "output_type": "stream",
     "text": [
      "100%|██████████| 34/34 [00:00<00:00, 211.22it/s]\n"
     ]
    }
   ],
   "source": [
    "#flatten genemaps, find indices with values, truncate jn and gn to get correlation\n",
    "truncated_root = f'/mmfs1/data/pijarj/BC-ORG-Data/Data/Genemaps/Resampled_Genes/truncated_{gene_name}'\n",
    "for gene in tqdm(range(ngenes)):\n",
    "    gene_indices = gn_small.numpy().flatten() > .1\n",
    "    gn_truncated = gn_small.numpy().flatten()[gene_indices]\n",
    "    np.save(truncated_root,gn_truncated)"
   ]
  },
  {
   "cell_type": "code",
   "execution_count": 16,
   "id": "9a57afb7-3c93-49a3-90fb-e56259282455",
   "metadata": {},
   "outputs": [
    {
     "name": "stdout",
     "output_type": "stream",
     "text": [
      "/mmfs1/data/pijarj/BC-ORG-Data/jacobians/normed_Js\n"
     ]
    }
   ],
   "source": [
    "cd /mmfs1/data/pijarj/BC-ORG-Data/jacobians/normed_Js"
   ]
  },
  {
   "cell_type": "code",
   "execution_count": 17,
   "id": "2153e363-4187-493b-b3c5-eb64a57abac9",
   "metadata": {},
   "outputs": [],
   "source": [
    "jacobians = [file for file in os.listdir() if file.endswith('.nii')]\n",
    "jacobians.sort()\n",
    "njacobians = len(jacobians)"
   ]
  },
  {
   "cell_type": "code",
   "execution_count": 18,
   "id": "fdb0c60e-85a1-4282-afc5-7512eda3818d",
   "metadata": {},
   "outputs": [
    {
     "name": "stderr",
     "output_type": "stream",
     "text": [
      "100%|██████████| 470/470 [00:14<00:00, 31.79it/s]\n"
     ]
    },
    {
     "data": {
      "text/plain": [
       "(470, 64, 64, 64)"
      ]
     },
     "execution_count": 18,
     "metadata": {},
     "output_type": "execute_result"
    }
   ],
   "source": [
    "# load in Jacobian data store in an array (470x64x64x64)\n",
    "jacobian_arrays_numpy = np.zeros((nsubjects,64,64,64))\n",
    "for subject in tqdm(range(nsubjects)):\n",
    "    jacobian_array = ants.image_read(jacobians[subject]).numpy()\n",
    "    jacobian_arrays_numpy[subject,:,:,:] = jacobian_array\n",
    "\n",
    "jacobian_arrays_numpy.shape"
   ]
  },
  {
   "cell_type": "code",
   "execution_count": 19,
   "id": "057743dc-b749-4e29-bf0b-c471570bcf10",
   "metadata": {},
   "outputs": [
    {
     "name": "stderr",
     "output_type": "stream",
     "text": [
      "100%|██████████| 470/470 [00:03<00:00, 143.51it/s]\n"
     ]
    }
   ],
   "source": [
    "for j in tqdm(range(njacobians)):\n",
    "    jn = ants.image_read(jacobians[j])\n",
    "    jn_flat = jn.numpy().flatten()\n",
    "    atlas_flat = atlas.numpy().flatten()\n",
    "    jn_truncated = jn_flat[gene_indices]\n",
    "    #load in jacobian, index with gene indicies to get jn_truncated, correlate jn and gn to get value for gene_jacobian_corr\n",
    "    #loop through genes and jacobians, nested for loop for each gene and each jacobian\n",
    "    #last line is gene_jacobian_corr[gene_indicies]=correlation"
   ]
  },
  {
   "cell_type": "code",
   "execution_count": 91,
   "id": "0126b9e0-798d-4450-8cff-c171dc56c7a6",
   "metadata": {},
   "outputs": [],
   "source": [
    "correlation = np.corrcoef(gn_truncated,jn_truncated)[0,1]\n",
    "gene_jacobian_corr[gene,j] = correlation"
   ]
  },
  {
   "cell_type": "code",
   "execution_count": 92,
   "id": "149a3e23-54f2-43a8-83c8-49e9d29466fe",
   "metadata": {},
   "outputs": [
    {
     "data": {
      "text/plain": [
       "(34, 470)"
      ]
     },
     "execution_count": 92,
     "metadata": {},
     "output_type": "execute_result"
    },
    {
     "data": {
      "image/png": "[encoded data removed]",
      "text/plain": [
       "<Figure size 1080x720 with 1 Axes>"
      ]
     },
     "metadata": {
      "needs_background": "light"
     },
     "output_type": "display_data"
    }
   ],
   "source": [
    "# We want to arrive at this step, but with correlations betweeen Jacobians and Genes (instead of correlations between diffmats and Genes)\n",
    "plt.figure(figsize=(15,10))\n",
    "plt.imshow(gene_jacobian_corr)\n",
    "gene_jacobian_corr.shape"
   ]
  },
  {
   "cell_type": "code",
   "execution_count": null,
   "id": "a4c9894a-a474-4f41-9ba9-7b58e39b9417",
   "metadata": {},
   "outputs": [],
   "source": [
    "# This is the biggest new change - generating new gene_jacobian_corr\n",
    "# Steps\n",
    "# for each jacobian map (Jn)\n",
    "# and for each genemap (Gn)\n",
    "# flatten the jacobian map\n",
    "# flatten the gene map\n",
    "# find indices where Gn has values (gene_indices)\n",
    "# truncate Jn and Gn with gene_indices (Jn_truncated, gn_truncated)\n",
    "# correlate Jn_truncated and  gn_truncated to obtain gene_jacobian_correlation\n",
    "# put in inside the gene_jacobian_corr variables gene_jacobian_corr[i,j] = gene_jacobian_correlation"
   ]
  },
  {
   "cell_type": "markdown",
   "id": "5c87ccf5-4297-4ca2-b202-cb050fa00549",
   "metadata": {},
   "source": [
    "## AFTER LINE, CODE STAYS THE SAME"
   ]
  },
  {
   "cell_type": "code",
   "execution_count": 95,
   "id": "49168087-2472-4516-93f5-e053146b48b3",
   "metadata": {},
   "outputs": [],
   "source": [
    "col_id = 0\n",
    "Y_comm = df_asd[['ADOS_Comm', 'ADOS_Module', 'ADOS_Social','ADOS_StBeh', 'ADOS_Total']].values\n",
    "column_comm = (['ADOS_Comm', 'ADOS_Module', 'ADOS_Social','ADOS_StBeh', 'ADOS_Total'][col_id])\n",
    "good_subjects_comm = ~np.isnan(Y_comm)[:,col_id]\n",
    "Y_use_comm = Y_comm[good_subjects_comm,col_id] \n",
    "X_use_comm = gene_jacobian_corr[:,good_subjects_comm]\n",
    "X_use_comm = X_use_comm.transpose()\n",
    "regression_comm =  linear_model.LinearRegression(normalize=True)\n",
    "linear_regression_comm = regression_comm.fit(X_use_comm,Y_use_comm) \n",
    "Y_use_hat_comm = linear_regression_comm.predict(X_use_comm)"
   ]
  },
  {
   "cell_type": "code",
   "execution_count": 96,
   "id": "58a0e259-83b5-42a1-bf03-2597824e0d23",
   "metadata": {},
   "outputs": [
    {
     "data": {
      "image/png": "[encoded data removed]",
      "text/plain": [
       "<Figure size 432x288 with 1 Axes>"
      ]
     },
     "metadata": {
      "needs_background": "light"
     },
     "output_type": "display_data"
    }
   ],
   "source": [
    "#scatter plot for ados_comm\n",
    "plt.scatter(Y_use_comm,Y_use_hat_comm,color='violet')\n",
    "plt.title('ADOS COMM')\n",
    "plt.xlabel('Actual Score')\n",
    "plt.ylabel('Predicted Score')\n",
    "plt.show()"
   ]
  },
  {
   "cell_type": "code",
   "execution_count": 97,
   "id": "0b0c1a76-5763-4da9-b9ec-6c55a890d756",
   "metadata": {},
   "outputs": [],
   "source": [
    "col_id = 1\n",
    "Y_module = df_asd[['ADOS_Comm', 'ADOS_Module', 'ADOS_Social','ADOS_StBeh', 'ADOS_Total']].values\n",
    "column_module = (['ADOS_Comm', 'ADOS_Module', 'ADOS_Social','ADOS_StBeh', 'ADOS_Total'][col_id])\n",
    "good_subjects_module = ~np.isnan(Y_module)[:,col_id]\n",
    "Y_use_module = Y_module[good_subjects_module,col_id] \n",
    "X_use_module = gene_jacobian_corr[:,good_subjects_module]\n",
    "X_use_module = X_use_module.transpose()\n",
    "regression_module =  linear_model.LinearRegression(normalize=True)\n",
    "linear_regression_module = regression_module.fit(X_use_module,Y_use_module) \n",
    "Y_use_hat_module = linear_regression_module.predict(X_use_module)"
   ]
  },
  {
   "cell_type": "code",
   "execution_count": 98,
   "id": "09da6ddc-e912-4f0f-98b6-ab3c2a189212",
   "metadata": {},
   "outputs": [
    {
     "data": {
      "image/png": "[encoded data removed]",
      "text/plain": [
       "<Figure size 432x288 with 1 Axes>"
      ]
     },
     "metadata": {
      "needs_background": "light"
     },
     "output_type": "display_data"
    }
   ],
   "source": [
    "#scatter plot for ados_module\n",
    "plt.scatter(Y_use_module,Y_use_hat_module,color='peru')\n",
    "plt.title('ADOS Module')\n",
    "plt.xlabel('Actual Score')\n",
    "plt.ylabel('Predicted Score')\n",
    "plt.show()"
   ]
  },
  {
   "cell_type": "code",
   "execution_count": 99,
   "id": "5b0e5f55-a614-414c-b2cc-1d60cc64b9a5",
   "metadata": {},
   "outputs": [],
   "source": [
    "col_id = 2\n",
    "Y_social = df_asd[['ADOS_Comm', 'ADOS_Module', 'ADOS_Social','ADOS_StBeh', 'ADOS_Total']].values\n",
    "column_social = (['ADOS_Comm', 'ADOS_Module', 'ADOS_Social','ADOS_StBeh', 'ADOS_Total'][col_id])\n",
    "good_subjects_social = ~np.isnan(Y_social)[:,col_id]\n",
    "Y_use_social = Y_social[good_subjects_social,col_id] \n",
    "X_use_social = gene_jacobian_corr[:,good_subjects_social]\n",
    "X_use_social = X_use_social.transpose()\n",
    "regression_social =  linear_model.LinearRegression(normalize=True)\n",
    "linear_regression_social = regression_social.fit(X_use_social,Y_use_social) \n",
    "Y_use_hat_social = linear_regression_social.predict(X_use_social)"
   ]
  },
  {
   "cell_type": "code",
   "execution_count": 100,
   "id": "754720d6-cf9f-47c5-b892-823a86ae7f41",
   "metadata": {},
   "outputs": [
    {
     "data": {
      "image/png": "[encoded data removed]",
      "text/plain": [
       "<Figure size 432x288 with 1 Axes>"
      ]
     },
     "metadata": {
      "needs_background": "light"
     },
     "output_type": "display_data"
    }
   ],
   "source": [
    "#scatter plot for ados_social\n",
    "plt.scatter(Y_use_social,Y_use_hat_social,color='mediumblue')\n",
    "plt.title('ADOS SOCIAL')\n",
    "plt.xlabel('Actual Score')\n",
    "plt.ylabel('Predicted Score')\n",
    "plt.show()"
   ]
  },
  {
   "cell_type": "code",
   "execution_count": 101,
   "id": "96ca4a02-4853-41fb-9237-030309953178",
   "metadata": {},
   "outputs": [],
   "source": [
    "col_id = 3\n",
    "Y_stbeh = df_asd[['ADOS_Comm', 'ADOS_Module', 'ADOS_Social','ADOS_StBeh', 'ADOS_Total']].values\n",
    "column_stbeh = (['ADOS_Comm', 'ADOS_Module', 'ADOS_Social','ADOS_StBeh', 'ADOS_Total'][col_id])\n",
    "good_subjects_stbeh = ~np.isnan(Y_stbeh)[:,col_id]\n",
    "Y_use_stbeh = Y_stbeh[good_subjects_stbeh,col_id] \n",
    "X_use_stbeh = gene_jacobian_corr[:,good_subjects_stbeh]\n",
    "X_use_stbeh = X_use_stbeh.transpose()\n",
    "regression_stbeh =  linear_model.LinearRegression(normalize=True)\n",
    "linear_regression_stbeh = regression_stbeh.fit(X_use_stbeh,Y_use_stbeh) \n",
    "Y_use_hat_stbeh = linear_regression_stbeh.predict(X_use_stbeh)"
   ]
  },
  {
   "cell_type": "code",
   "execution_count": 102,
   "id": "c95e4c05-c542-47c2-ab03-fb6bb6abc8de",
   "metadata": {},
   "outputs": [
    {
     "data": {
      "image/png": "[encoded data removed]",
      "text/plain": [
       "<Figure size 432x288 with 1 Axes>"
      ]
     },
     "metadata": {
      "needs_background": "light"
     },
     "output_type": "display_data"
    }
   ],
   "source": [
    "#scatter plot for ados_stbeh\n",
    "plt.scatter(Y_use_stbeh,Y_use_hat_stbeh,color='forestgreen')\n",
    "plt.title('ADOS STBEH')\n",
    "plt.xlabel('Actual Score')\n",
    "plt.ylabel('Predicted Score')\n",
    "plt.show()"
   ]
  },
  {
   "cell_type": "code",
   "execution_count": 103,
   "id": "00a6f17e-78a0-4c0e-b267-3d1484e1a1ee",
   "metadata": {},
   "outputs": [],
   "source": [
    "col_id = 4\n",
    "Y_total = df_asd[['ADOS_Comm', 'ADOS_Module', 'ADOS_Social','ADOS_StBeh', 'ADOS_Total']].values\n",
    "column_total = (['ADOS_Comm', 'ADOS_Module', 'ADOS_Social','ADOS_StBeh', 'ADOS_Total'][col_id])\n",
    "good_subjects_total = ~np.isnan(Y_total)[:,col_id]\n",
    "Y_use_total = Y_total[good_subjects_total,col_id] \n",
    "X_use_total = gene_jacobian_corr[:,good_subjects_total]\n",
    "X_use_total = X_use_total.transpose()\n",
    "regression_total =  linear_model.LinearRegression(normalize=True)\n",
    "linear_regression_total = regression_total.fit(X_use_total,Y_use_total) \n",
    "Y_use_hat_total = linear_regression_total.predict(X_use_total)"
   ]
  },
  {
   "cell_type": "code",
   "execution_count": 104,
   "id": "92ecebe8-bc07-4a19-a36e-95bc968451dd",
   "metadata": {},
   "outputs": [
    {
     "data": {
      "image/png": "[encoded data removed]",
      "text/plain": [
       "<Figure size 432x288 with 1 Axes>"
      ]
     },
     "metadata": {
      "needs_background": "light"
     },
     "output_type": "display_data"
    }
   ],
   "source": [
    "#scatter plot for ados_total\n",
    "plt.scatter(Y_use_stbeh,Y_use_hat_stbeh,color='forestgreen')\n",
    "plt.title('ADOS TOTAL')\n",
    "plt.xlabel('Actual Score')\n",
    "plt.ylabel('Predicted Score')\n",
    "plt.show()"
   ]
  },
  {
   "cell_type": "code",
   "execution_count": 105,
   "id": "d87085c3-e111-4365-9630-c5af48579da7",
   "metadata": {},
   "outputs": [
    {
     "name": "stdout",
     "output_type": "stream",
     "text": [
      "0.40034558226063055\n"
     ]
    }
   ],
   "source": [
    "#variance explained for ados_comm\n",
    "from sklearn.metrics import explained_variance_score\n",
    "comm = explained_variance_score(Y_use_comm,Y_use_hat_comm)*100\n",
    "print(comm)"
   ]
  },
  {
   "cell_type": "code",
   "execution_count": 106,
   "id": "7f63f6f3-66b5-4ea5-bd43-a3e33cba0c42",
   "metadata": {},
   "outputs": [
    {
     "name": "stdout",
     "output_type": "stream",
     "text": [
      "0.13454128549350575\n"
     ]
    }
   ],
   "source": [
    "#variance explained for ados_module\n",
    "from sklearn.metrics import explained_variance_score\n",
    "module = explained_variance_score(Y_use_module,Y_use_hat_module)*100\n",
    "print(module)"
   ]
  },
  {
   "cell_type": "code",
   "execution_count": 107,
   "id": "19c7e45d-12f9-46a9-8d17-bd5e95b4580d",
   "metadata": {},
   "outputs": [
    {
     "name": "stdout",
     "output_type": "stream",
     "text": [
      "0.0008017702791796033\n"
     ]
    }
   ],
   "source": [
    "#variance explained for ados_social\n",
    "from sklearn.metrics import explained_variance_score\n",
    "social = explained_variance_score(Y_use_social,Y_use_hat_social)*100\n",
    "print(social)"
   ]
  },
  {
   "cell_type": "code",
   "execution_count": 108,
   "id": "c5853ca0-c1ef-47eb-88bf-07b9952ea657",
   "metadata": {},
   "outputs": [
    {
     "name": "stdout",
     "output_type": "stream",
     "text": [
      "0.634946086566357\n"
     ]
    }
   ],
   "source": [
    "#variance explained for ados_stbeh\n",
    "from sklearn.metrics import explained_variance_score\n",
    "stbeh = explained_variance_score(Y_use_stbeh,Y_use_hat_stbeh)*100\n",
    "print(stbeh)"
   ]
  },
  {
   "cell_type": "code",
   "execution_count": 109,
   "id": "c59d61d2-543d-414b-b53a-c3470598efc0",
   "metadata": {},
   "outputs": [
    {
     "name": "stdout",
     "output_type": "stream",
     "text": [
      "0.07089066666441379\n"
     ]
    }
   ],
   "source": [
    "#variance explained for ados_total\n",
    "from sklearn.metrics import explained_variance_score\n",
    "total = explained_variance_score(Y_use_total,Y_use_hat_total)*100\n",
    "print(total)"
   ]
  },
  {
   "cell_type": "code",
   "execution_count": 110,
   "id": "baabd482-ac27-4925-ac09-91f958fd2b41",
   "metadata": {},
   "outputs": [
    {
     "data": {
      "text/plain": [
       "Text(0.5, 0, 'Symptom')"
      ]
     },
     "execution_count": 110,
     "metadata": {},
     "output_type": "execute_result"
    },
    {
     "data": {
      "image/png": "[encoded data removed]",
      "text/plain": [
       "<Figure size 1080x360 with 1 Axes>"
      ]
     },
     "metadata": {
      "needs_background": "light"
     },
     "output_type": "display_data"
    }
   ],
   "source": [
    "fig = plt.figure(figsize=(15,5))\n",
    "ax = fig.add_axes([0,0,1,1])\n",
    "ados_label = ['ADOS_Comm', 'ADOS_Module', 'ADOS_Social','ADOS_StBeh', 'ADOS_Total']\n",
    "var_explained = comm, module, social, stbeh, total\n",
    "plt.bar(ados_label,var_explained,color='plum')\n",
    "plt.title('ADOS Variance Explained',color='darkorchid')\n",
    "plt.ylabel('Percent Variance Explained',color='darkorchid')\n",
    "plt.xlabel('Symptom',color='darkorchid')"
   ]
  },
  {
   "cell_type": "code",
   "execution_count": 112,
   "id": "2fdf8ff0-c216-4de0-b515-fa21ca6fc5b4",
   "metadata": {},
   "outputs": [
    {
     "name": "stdout",
     "output_type": "stream",
     "text": [
      "ADOS_Comm\n",
      "\n",
      "CDIPT,5.927838680382302e-19\n",
      "CORO1A,0.0\n",
      "ATXN2L,0.0\n",
      "ZG16,0.0\n",
      "ALDOA,0.0\n",
      "CYFIP1,0.0\n",
      "QPRT,0.0\n",
      "SH2B1,0.0\n",
      "SEZ6L2,0.0\n",
      "LAT,0.0\n",
      "KIF22,0.0\n",
      "MAZ,0.0\n",
      "ATP2A1,0.0\n",
      "PPP4C,0.0\n",
      "GDPD3,0.0\n",
      "MAPK3,0.0\n",
      "RABEP2,0.0\n",
      "NIPA2,0.0\n",
      "YPEL3,0.0\n",
      "SPNS1,0.0\n",
      "NFATC2IP,0.0\n",
      "SPN,0.0\n",
      "TUFM,0.0\n",
      "PRRT2,0.0\n",
      "TUBGCP5,0.0\n",
      "NIPA1,0.0\n",
      "TMEM219,0.0\n",
      "DOC2A,0.0\n",
      "HIRIP3,0.0\n",
      "KCTD13,0.0\n",
      "ASPHD1,0.0\n",
      "TAOK2,0.0\n",
      "CD19,0.0\n",
      "MVP,-52.148850732581074\n"
     ]
    }
   ],
   "source": [
    "#correlation coefficents for ados_comm\n",
    "labels = ['CDIPT','CORO1A','ATXN2L','ZG16','ALDOA','CYFIP1','QPRT','SH2B1','SEZ6L2','LAT','KIF22','MAZ','ATP2A1','PPP4C','GDPD3','MAPK3','RABEP2','NIPA2','YPEL3','SPNS1','NFATC2IP','SPN','TUFM','PRRT2','TUBGCP5','NIPA1','TMEM219','DOC2A','HIRIP3','KCTD13','ASPHD1','TAOK2','CD19','MVP']\n",
    "coefficient_comm = regression_comm.coef_\n",
    "print(column_comm)\n",
    "print()\n",
    "for i in range(0,ngenes):\n",
    "    print(f'{labels[i]},{coefficient_comm[i]}')"
   ]
  },
  {
   "cell_type": "code",
   "execution_count": 113,
   "id": "65a769f3-4f6d-41de-9150-3df588f8a7db",
   "metadata": {},
   "outputs": [
    {
     "data": {
      "image/png": "[encoded data removed]",
      "text/plain": [
       "<Figure size 1080x360 with 1 Axes>"
      ]
     },
     "metadata": {
      "needs_background": "light"
     },
     "output_type": "display_data"
    }
   ],
   "source": [
    "fig = plt.figure(figsize=(15,5))\n",
    "ax = fig.add_axes([0,0,1,1])\n",
    "plt.bar(labels,coefficient_comm,color='teal')\n",
    "plt.title('Gene Correlation Coefficients for ADOS COMM',color='darkolivegreen')\n",
    "plt.ylabel('Correlation Coefficient',color='darkolivegreen')\n",
    "plt.xlabel('Gene',color='darkolivegreen')\n",
    "plt.show()"
   ]
  },
  {
   "cell_type": "code",
   "execution_count": 114,
   "id": "c8ae55e4-a931-44cb-8abf-c8ae51d095b9",
   "metadata": {},
   "outputs": [
    {
     "name": "stdout",
     "output_type": "stream",
     "text": [
      "ADOS_Module\n",
      "\n",
      "CDIPT,1.0313738177102511e-19\n",
      "CORO1A,0.0\n",
      "ATXN2L,0.0\n",
      "ZG16,0.0\n",
      "ALDOA,0.0\n",
      "CYFIP1,0.0\n",
      "QPRT,0.0\n",
      "SH2B1,0.0\n",
      "SEZ6L2,0.0\n",
      "LAT,0.0\n",
      "KIF22,0.0\n",
      "MAZ,0.0\n",
      "ATP2A1,0.0\n",
      "PPP4C,0.0\n",
      "GDPD3,0.0\n",
      "MAPK3,0.0\n",
      "RABEP2,0.0\n",
      "NIPA2,0.0\n",
      "YPEL3,0.0\n",
      "SPNS1,0.0\n",
      "NFATC2IP,0.0\n",
      "SPN,0.0\n",
      "TUFM,0.0\n",
      "PRRT2,0.0\n",
      "TUBGCP5,0.0\n",
      "NIPA1,0.0\n",
      "TMEM219,0.0\n",
      "DOC2A,0.0\n",
      "HIRIP3,0.0\n",
      "KCTD13,0.0\n",
      "ASPHD1,0.0\n",
      "TAOK2,0.0\n",
      "CD19,0.0\n",
      "MVP,-10.682195826629926\n"
     ]
    }
   ],
   "source": [
    "#correlation coefficents for ados_module\n",
    "coefficient_module = regression_module.coef_\n",
    "print(column_module)\n",
    "print()\n",
    "for i in range(0,ngenes):\n",
    "    print(f'{labels[i]},{coefficient_module[i]}')"
   ]
  },
  {
   "cell_type": "code",
   "execution_count": 115,
   "id": "1cdc6f13-5ed2-4f8c-b6fe-435d315e1ba0",
   "metadata": {},
   "outputs": [
    {
     "data": {
      "image/png": "[encoded data removed]",
      "text/plain": [
       "<Figure size 1080x360 with 1 Axes>"
      ]
     },
     "metadata": {
      "needs_background": "light"
     },
     "output_type": "display_data"
    }
   ],
   "source": [
    "fig = plt.figure(figsize=(15,5))\n",
    "ax = fig.add_axes([0,0,1,1])\n",
    "plt.bar(labels,coefficient_module,color='teal')\n",
    "plt.title('Gene Correlation Coefficients for ADOS MODULE',color='darkolivegreen')\n",
    "plt.ylabel('Correlation Coefficient',color='darkolivegreen')\n",
    "plt.xlabel('Gene',color='darkolivegreen')\n",
    "plt.show()"
   ]
  },
  {
   "cell_type": "code",
   "execution_count": 116,
   "id": "7642b772-4700-4e75-943f-e541f787e6b7",
   "metadata": {},
   "outputs": [
    {
     "name": "stdout",
     "output_type": "stream",
     "text": [
      "ADOS_Social\n",
      "\n",
      "CDIPT,4.7709079634617766e-20\n",
      "CORO1A,-2.7755575615628914e-17\n",
      "ATXN2L,0.0\n",
      "ZG16,0.0\n",
      "ALDOA,0.0\n",
      "CYFIP1,0.0\n",
      "QPRT,0.0\n",
      "SH2B1,0.0\n",
      "SEZ6L2,0.0\n",
      "LAT,0.0\n",
      "KIF22,0.0\n",
      "MAZ,0.0\n",
      "ATP2A1,0.0\n",
      "PPP4C,0.0\n",
      "GDPD3,0.0\n",
      "MAPK3,0.0\n",
      "RABEP2,0.0\n",
      "NIPA2,0.0\n",
      "YPEL3,0.0\n",
      "SPNS1,0.0\n",
      "NFATC2IP,0.0\n",
      "SPN,0.0\n",
      "TUFM,0.0\n",
      "PRRT2,0.0\n",
      "TUBGCP5,0.0\n",
      "NIPA1,0.0\n",
      "TMEM219,0.0\n",
      "DOC2A,0.0\n",
      "HIRIP3,0.0\n",
      "KCTD13,0.0\n",
      "ASPHD1,0.0\n",
      "TAOK2,0.0\n",
      "CD19,0.0\n",
      "MVP,-4.209301614364334\n"
     ]
    }
   ],
   "source": [
    "#correlation coefficents for ados_social\n",
    "coefficient_social = regression_social.coef_\n",
    "print(column_social)\n",
    "print()\n",
    "for i in range(0,ngenes):\n",
    "    print(f'{labels[i]},{coefficient_social[i]}')"
   ]
  },
  {
   "cell_type": "code",
   "execution_count": 117,
   "id": "7da07e58-06d7-40d9-bc8c-5d6e78d90eab",
   "metadata": {},
   "outputs": [
    {
     "data": {
      "image/png": "[encoded data removed]",
      "text/plain": [
       "<Figure size 1080x360 with 1 Axes>"
      ]
     },
     "metadata": {
      "needs_background": "light"
     },
     "output_type": "display_data"
    }
   ],
   "source": [
    "fig = plt.figure(figsize=(15,5))\n",
    "ax = fig.add_axes([0,0,1,1])\n",
    "plt.bar(labels,coefficient_social,color='mediumvioletred')\n",
    "plt.title('Gene Correlation Coefficients for ADOS SOCIAL',color='darkmagenta')\n",
    "plt.ylabel('Correlation Coefficient',color='darkmagenta')\n",
    "plt.xlabel('Gene',color='darkmagenta')\n",
    "plt.show()"
   ]
  },
  {
   "cell_type": "code",
   "execution_count": 118,
   "id": "240278e3-bbf4-4d93-9fb7-9a85d5aadfd2",
   "metadata": {},
   "outputs": [
    {
     "name": "stdout",
     "output_type": "stream",
     "text": [
      "ADOS_StBeh\n",
      "\n",
      "CDIPT,8.353368486209235e-19\n",
      "CORO1A,-4.440892098500626e-16\n",
      "ATXN2L,0.0\n",
      "ZG16,0.0\n",
      "ALDOA,0.0\n",
      "CYFIP1,0.0\n",
      "QPRT,0.0\n",
      "SH2B1,0.0\n",
      "SEZ6L2,0.0\n",
      "LAT,0.0\n",
      "KIF22,0.0\n",
      "MAZ,0.0\n",
      "ATP2A1,0.0\n",
      "PPP4C,0.0\n",
      "GDPD3,0.0\n",
      "MAPK3,0.0\n",
      "RABEP2,0.0\n",
      "NIPA2,0.0\n",
      "YPEL3,0.0\n",
      "SPNS1,0.0\n",
      "NFATC2IP,0.0\n",
      "SPN,0.0\n",
      "TUFM,0.0\n",
      "PRRT2,0.0\n",
      "TUBGCP5,0.0\n",
      "NIPA1,0.0\n",
      "TMEM219,0.0\n",
      "DOC2A,0.0\n",
      "HIRIP3,0.0\n",
      "KCTD13,0.0\n",
      "ASPHD1,0.0\n",
      "TAOK2,0.0\n",
      "CD19,0.0\n",
      "MVP,-60.883171154575585\n"
     ]
    }
   ],
   "source": [
    "#correlation coefficents for ados_stbeh\n",
    "coefficient_stbeh = regression_stbeh.coef_\n",
    "print(column_stbeh)\n",
    "print()\n",
    "for i in range(0,ngenes):\n",
    "    print(f'{labels[i]},{coefficient_stbeh[i]}')"
   ]
  },
  {
   "cell_type": "code",
   "execution_count": 119,
   "id": "5d85bda3-525a-425b-ac43-5b656bba9ce7",
   "metadata": {},
   "outputs": [
    {
     "data": {
      "image/png": "[encoded data removed]",
      "text/plain": [
       "<Figure size 1080x360 with 1 Axes>"
      ]
     },
     "metadata": {
      "needs_background": "light"
     },
     "output_type": "display_data"
    }
   ],
   "source": [
    "fig = plt.figure(figsize=(15,5))\n",
    "ax = fig.add_axes([0,0,1,1])\n",
    "plt.bar(labels,coefficient_stbeh,color='mediumpurple')\n",
    "plt.title('Gene Correlation Coefficients for ADOS STBEH',color='darkviolet')\n",
    "plt.ylabel('Correlation Coefficient',color='darkviolet')\n",
    "plt.xlabel('Gene',color='darkviolet')\n",
    "plt.show()"
   ]
  },
  {
   "cell_type": "code",
   "execution_count": 123,
   "id": "2375fe42-9e9f-49d0-9162-d490b008d591",
   "metadata": {},
   "outputs": [
    {
     "name": "stdout",
     "output_type": "stream",
     "text": [
      "ADOS_Total\n",
      "\n",
      "CDIPT,5.968391538265237e-19\n",
      "TXNRD2,2.220446049250313e-16\n",
      "CORO1A,0.0\n",
      "ATXN2L,0.0\n",
      "USP41,0.0\n",
      "COMT,0.0\n",
      "CLDN4,0.0\n",
      "CLDN3,0.0\n",
      "CRKL,0.0\n",
      "ZG16,0.0\n",
      "ELN,0.0\n",
      "EN2,0.0\n",
      "ALDOA,0.0\n",
      "NLGN4Y,0.0\n",
      "POGZ,0.0\n",
      "CYFIP1,0.0\n",
      "FMO5,0.0\n",
      "FMR1,0.0\n",
      "QPRT,0.0\n",
      "TSSK2,0.0\n",
      "SH2B1,0.0\n",
      "CNTNAP2,0.0\n",
      "DGCR5,0.0\n",
      "SEZ6L2,0.0\n",
      "TBL2,0.0\n",
      "TRMT2A,0.0\n",
      "LAT,0.0\n",
      "GJA5,0.0\n",
      "GJA8,0.0\n",
      "GP1BB,0.0\n",
      "GSC2,0.0\n",
      "GTF2I,0.0\n",
      "ZDHHC8,0.0\n",
      "SERPIND1,-56.321388608225384\n"
     ]
    }
   ],
   "source": [
    "#correlation coefficents for ados_total\n",
    "coefficient_total = regression_total.coef_\n",
    "labels = ['CDIPT','TXNRD2','CORO1A','ATXN2L','USP41','COMT','CLDN4','CLDN3','CRKL','ZG16','ELN','EN2','ALDOA','NLGN4Y','POGZ','CYFIP1','FMO5','FMR1','QPRT','TSSK2','SH2B1','CNTNAP2','DGCR5','SEZ6L2','TBL2','TRMT2A','LAT','GJA5','GJA8','GP1BB','GSC2','GTF2I','ZDHHC8','SERPIND1','MLXIPL','ACP6','GPR89B','MED15','TREM2','NLGN3','DGCR8','GNB1L','IL6','NLGN4X','CHD8','KIF22','LIMK1','MAZ','MRPL40','RTN4R','MECP2','ARVCF','MET','ATP2A1','OXTR','PPP4C','GDPD3','PRKAB2','MAPK3','RABEP2','PRODH','RELN','NIPA2','ABHD11','YPEL3','SPNS1','DNAJC30','RANBP1','KLHL22','NFATC2IP','RFC2','SHANK3','DGCR6L','SCARF2','BCL9','SGSH','SLC6A4','SLC7A4','SLC25A1','SPN','CDKL5','STX1A','SYN2','TBX1','CLDN5','TUFM','HIRA','UFD1L','EIF4H','CLIP2','LAT2','ZNF74','PRRT2','WBSCR22','TUBGCP5','NIPA1','TMEM219','C22orf39','WBSCR28','AIFM3','WBSCR27','VPS37D','LZTR1','CLTCL1','CDC45','FZ9D','DOC2A','FKBP6','HIRIP3','BAZ1B','P2RX6','KCTD13','ASPHD1','BCL7B','SNAP29','TAOK2','NRXN1','CD19','CHD1L','GTFIRD1','MVP','DGCR2']\n",
    "print(column_total)\n",
    "print()\n",
    "for i in range(0,ngenes):\n",
    "    print(f'{labels[i]},{coefficient_total[i]}')"
   ]
  },
  {
   "cell_type": "code",
   "execution_count": 124,
   "id": "2693f2c4-1f26-4e71-9333-cd083b9bccb5",
   "metadata": {},
   "outputs": [
    {
     "ename": "ValueError",
     "evalue": "shape mismatch: objects cannot be broadcast to a single shape",
     "output_type": "error",
     "traceback": [
      "\u001b[0;31m---------------------------------------------------------------------------\u001b[0m",
      "\u001b[0;31mValueError\u001b[0m                                Traceback (most recent call last)",
      "\u001b[0;32m<ipython-input-124-5340093b7343>\u001b[0m in \u001b[0;36m<module>\u001b[0;34m\u001b[0m\n\u001b[1;32m      1\u001b[0m \u001b[0mfig\u001b[0m \u001b[0;34m=\u001b[0m \u001b[0mplt\u001b[0m\u001b[0;34m.\u001b[0m\u001b[0mfigure\u001b[0m\u001b[0;34m(\u001b[0m\u001b[0mfigsize\u001b[0m\u001b[0;34m=\u001b[0m\u001b[0;34m(\u001b[0m\u001b[0;36m15\u001b[0m\u001b[0;34m,\u001b[0m\u001b[0;36m5\u001b[0m\u001b[0;34m)\u001b[0m\u001b[0;34m)\u001b[0m\u001b[0;34m\u001b[0m\u001b[0;34m\u001b[0m\u001b[0m\n\u001b[1;32m      2\u001b[0m \u001b[0max\u001b[0m \u001b[0;34m=\u001b[0m \u001b[0mfig\u001b[0m\u001b[0;34m.\u001b[0m\u001b[0madd_axes\u001b[0m\u001b[0;34m(\u001b[0m\u001b[0;34m[\u001b[0m\u001b[0;36m0\u001b[0m\u001b[0;34m,\u001b[0m\u001b[0;36m0\u001b[0m\u001b[0;34m,\u001b[0m\u001b[0;36m1\u001b[0m\u001b[0;34m,\u001b[0m\u001b[0;36m1\u001b[0m\u001b[0;34m]\u001b[0m\u001b[0;34m)\u001b[0m\u001b[0;34m\u001b[0m\u001b[0;34m\u001b[0m\u001b[0m\n\u001b[0;32m----> 3\u001b[0;31m \u001b[0mplt\u001b[0m\u001b[0;34m.\u001b[0m\u001b[0mbar\u001b[0m\u001b[0;34m(\u001b[0m\u001b[0mlabels\u001b[0m\u001b[0;34m,\u001b[0m\u001b[0mcoefficient_total\u001b[0m\u001b[0;34m,\u001b[0m\u001b[0mcolor\u001b[0m\u001b[0;34m=\u001b[0m\u001b[0;34m'navy'\u001b[0m\u001b[0;34m)\u001b[0m\u001b[0;34m\u001b[0m\u001b[0;34m\u001b[0m\u001b[0m\n\u001b[0m\u001b[1;32m      4\u001b[0m \u001b[0mplt\u001b[0m\u001b[0;34m.\u001b[0m\u001b[0mtitle\u001b[0m\u001b[0;34m(\u001b[0m\u001b[0;34m'Gene Correlation Coefficients for ADOS TOTAL'\u001b[0m\u001b[0;34m,\u001b[0m\u001b[0mcolor\u001b[0m\u001b[0;34m=\u001b[0m\u001b[0;34m'darkblue'\u001b[0m\u001b[0;34m)\u001b[0m\u001b[0;34m\u001b[0m\u001b[0;34m\u001b[0m\u001b[0m\n\u001b[1;32m      5\u001b[0m \u001b[0mplt\u001b[0m\u001b[0;34m.\u001b[0m\u001b[0mylabel\u001b[0m\u001b[0;34m(\u001b[0m\u001b[0;34m'Correlation Coefficient'\u001b[0m\u001b[0;34m,\u001b[0m\u001b[0mcolor\u001b[0m\u001b[0;34m=\u001b[0m\u001b[0;34m'darkblue'\u001b[0m\u001b[0;34m)\u001b[0m\u001b[0;34m\u001b[0m\u001b[0;34m\u001b[0m\u001b[0m\n",
      "\u001b[0;32m~/anaconda3/lib/python3.8/site-packages/matplotlib/pyplot.py\u001b[0m in \u001b[0;36mbar\u001b[0;34m(x, height, width, bottom, align, data, **kwargs)\u001b[0m\n\u001b[1;32m   2485\u001b[0m         \u001b[0mx\u001b[0m\u001b[0;34m,\u001b[0m \u001b[0mheight\u001b[0m\u001b[0;34m,\u001b[0m \u001b[0mwidth\u001b[0m\u001b[0;34m=\u001b[0m\u001b[0;36m0.8\u001b[0m\u001b[0;34m,\u001b[0m \u001b[0mbottom\u001b[0m\u001b[0;34m=\u001b[0m\u001b[0;32mNone\u001b[0m\u001b[0;34m,\u001b[0m \u001b[0;34m*\u001b[0m\u001b[0;34m,\u001b[0m \u001b[0malign\u001b[0m\u001b[0;34m=\u001b[0m\u001b[0;34m'center'\u001b[0m\u001b[0;34m,\u001b[0m\u001b[0;34m\u001b[0m\u001b[0;34m\u001b[0m\u001b[0m\n\u001b[1;32m   2486\u001b[0m         data=None, **kwargs):\n\u001b[0;32m-> 2487\u001b[0;31m     return gca().bar(\n\u001b[0m\u001b[1;32m   2488\u001b[0m         \u001b[0mx\u001b[0m\u001b[0;34m,\u001b[0m \u001b[0mheight\u001b[0m\u001b[0;34m,\u001b[0m \u001b[0mwidth\u001b[0m\u001b[0;34m=\u001b[0m\u001b[0mwidth\u001b[0m\u001b[0;34m,\u001b[0m \u001b[0mbottom\u001b[0m\u001b[0;34m=\u001b[0m\u001b[0mbottom\u001b[0m\u001b[0;34m,\u001b[0m \u001b[0malign\u001b[0m\u001b[0;34m=\u001b[0m\u001b[0malign\u001b[0m\u001b[0;34m,\u001b[0m\u001b[0;34m\u001b[0m\u001b[0;34m\u001b[0m\u001b[0m\n\u001b[1;32m   2489\u001b[0m         **({\"data\": data} if data is not None else {}), **kwargs)\n",
      "\u001b[0;32m~/anaconda3/lib/python3.8/site-packages/matplotlib/__init__.py\u001b[0m in \u001b[0;36minner\u001b[0;34m(ax, data, *args, **kwargs)\u001b[0m\n\u001b[1;32m   1445\u001b[0m     \u001b[0;32mdef\u001b[0m \u001b[0minner\u001b[0m\u001b[0;34m(\u001b[0m\u001b[0max\u001b[0m\u001b[0;34m,\u001b[0m \u001b[0;34m*\u001b[0m\u001b[0margs\u001b[0m\u001b[0;34m,\u001b[0m \u001b[0mdata\u001b[0m\u001b[0;34m=\u001b[0m\u001b[0;32mNone\u001b[0m\u001b[0;34m,\u001b[0m \u001b[0;34m**\u001b[0m\u001b[0mkwargs\u001b[0m\u001b[0;34m)\u001b[0m\u001b[0;34m:\u001b[0m\u001b[0;34m\u001b[0m\u001b[0;34m\u001b[0m\u001b[0m\n\u001b[1;32m   1446\u001b[0m         \u001b[0;32mif\u001b[0m \u001b[0mdata\u001b[0m \u001b[0;32mis\u001b[0m \u001b[0;32mNone\u001b[0m\u001b[0;34m:\u001b[0m\u001b[0;34m\u001b[0m\u001b[0;34m\u001b[0m\u001b[0m\n\u001b[0;32m-> 1447\u001b[0;31m             \u001b[0;32mreturn\u001b[0m \u001b[0mfunc\u001b[0m\u001b[0;34m(\u001b[0m\u001b[0max\u001b[0m\u001b[0;34m,\u001b[0m \u001b[0;34m*\u001b[0m\u001b[0mmap\u001b[0m\u001b[0;34m(\u001b[0m\u001b[0msanitize_sequence\u001b[0m\u001b[0;34m,\u001b[0m \u001b[0margs\u001b[0m\u001b[0;34m)\u001b[0m\u001b[0;34m,\u001b[0m \u001b[0;34m**\u001b[0m\u001b[0mkwargs\u001b[0m\u001b[0;34m)\u001b[0m\u001b[0;34m\u001b[0m\u001b[0;34m\u001b[0m\u001b[0m\n\u001b[0m\u001b[1;32m   1448\u001b[0m \u001b[0;34m\u001b[0m\u001b[0m\n\u001b[1;32m   1449\u001b[0m         \u001b[0mbound\u001b[0m \u001b[0;34m=\u001b[0m \u001b[0mnew_sig\u001b[0m\u001b[0;34m.\u001b[0m\u001b[0mbind\u001b[0m\u001b[0;34m(\u001b[0m\u001b[0max\u001b[0m\u001b[0;34m,\u001b[0m \u001b[0;34m*\u001b[0m\u001b[0margs\u001b[0m\u001b[0;34m,\u001b[0m \u001b[0;34m**\u001b[0m\u001b[0mkwargs\u001b[0m\u001b[0;34m)\u001b[0m\u001b[0;34m\u001b[0m\u001b[0;34m\u001b[0m\u001b[0m\n",
      "\u001b[0;32m~/anaconda3/lib/python3.8/site-packages/matplotlib/axes/_axes.py\u001b[0m in \u001b[0;36mbar\u001b[0;34m(self, x, height, width, bottom, align, **kwargs)\u001b[0m\n\u001b[1;32m   2428\u001b[0m                 \u001b[0myerr\u001b[0m \u001b[0;34m=\u001b[0m \u001b[0mself\u001b[0m\u001b[0;34m.\u001b[0m\u001b[0m_convert_dx\u001b[0m\u001b[0;34m(\u001b[0m\u001b[0myerr\u001b[0m\u001b[0;34m,\u001b[0m \u001b[0my0\u001b[0m\u001b[0;34m,\u001b[0m \u001b[0my\u001b[0m\u001b[0;34m,\u001b[0m \u001b[0mself\u001b[0m\u001b[0;34m.\u001b[0m\u001b[0mconvert_yunits\u001b[0m\u001b[0;34m)\u001b[0m\u001b[0;34m\u001b[0m\u001b[0;34m\u001b[0m\u001b[0m\n\u001b[1;32m   2429\u001b[0m \u001b[0;34m\u001b[0m\u001b[0m\n\u001b[0;32m-> 2430\u001b[0;31m         x, height, width, y, linewidth = np.broadcast_arrays(\n\u001b[0m\u001b[1;32m   2431\u001b[0m             \u001b[0;31m# Make args iterable too.\u001b[0m\u001b[0;34m\u001b[0m\u001b[0;34m\u001b[0m\u001b[0;34m\u001b[0m\u001b[0m\n\u001b[1;32m   2432\u001b[0m             np.atleast_1d(x), height, width, y, linewidth)\n",
      "\u001b[0;32m<__array_function__ internals>\u001b[0m in \u001b[0;36mbroadcast_arrays\u001b[0;34m(*args, **kwargs)\u001b[0m\n",
      "\u001b[0;32m~/anaconda3/lib/python3.8/site-packages/numpy/lib/stride_tricks.py\u001b[0m in \u001b[0;36mbroadcast_arrays\u001b[0;34m(subok, *args)\u001b[0m\n\u001b[1;32m    536\u001b[0m     \u001b[0margs\u001b[0m \u001b[0;34m=\u001b[0m \u001b[0;34m[\u001b[0m\u001b[0mnp\u001b[0m\u001b[0;34m.\u001b[0m\u001b[0marray\u001b[0m\u001b[0;34m(\u001b[0m\u001b[0m_m\u001b[0m\u001b[0;34m,\u001b[0m \u001b[0mcopy\u001b[0m\u001b[0;34m=\u001b[0m\u001b[0;32mFalse\u001b[0m\u001b[0;34m,\u001b[0m \u001b[0msubok\u001b[0m\u001b[0;34m=\u001b[0m\u001b[0msubok\u001b[0m\u001b[0;34m)\u001b[0m \u001b[0;32mfor\u001b[0m \u001b[0m_m\u001b[0m \u001b[0;32min\u001b[0m \u001b[0margs\u001b[0m\u001b[0;34m]\u001b[0m\u001b[0;34m\u001b[0m\u001b[0;34m\u001b[0m\u001b[0m\n\u001b[1;32m    537\u001b[0m \u001b[0;34m\u001b[0m\u001b[0m\n\u001b[0;32m--> 538\u001b[0;31m     \u001b[0mshape\u001b[0m \u001b[0;34m=\u001b[0m \u001b[0m_broadcast_shape\u001b[0m\u001b[0;34m(\u001b[0m\u001b[0;34m*\u001b[0m\u001b[0margs\u001b[0m\u001b[0;34m)\u001b[0m\u001b[0;34m\u001b[0m\u001b[0;34m\u001b[0m\u001b[0m\n\u001b[0m\u001b[1;32m    539\u001b[0m \u001b[0;34m\u001b[0m\u001b[0m\n\u001b[1;32m    540\u001b[0m     \u001b[0;32mif\u001b[0m \u001b[0mall\u001b[0m\u001b[0;34m(\u001b[0m\u001b[0marray\u001b[0m\u001b[0;34m.\u001b[0m\u001b[0mshape\u001b[0m \u001b[0;34m==\u001b[0m \u001b[0mshape\u001b[0m \u001b[0;32mfor\u001b[0m \u001b[0marray\u001b[0m \u001b[0;32min\u001b[0m \u001b[0margs\u001b[0m\u001b[0;34m)\u001b[0m\u001b[0;34m:\u001b[0m\u001b[0;34m\u001b[0m\u001b[0;34m\u001b[0m\u001b[0m\n",
      "\u001b[0;32m~/anaconda3/lib/python3.8/site-packages/numpy/lib/stride_tricks.py\u001b[0m in \u001b[0;36m_broadcast_shape\u001b[0;34m(*args)\u001b[0m\n\u001b[1;32m    418\u001b[0m     \u001b[0;31m# use the old-iterator because np.nditer does not handle size 0 arrays\u001b[0m\u001b[0;34m\u001b[0m\u001b[0;34m\u001b[0m\u001b[0;34m\u001b[0m\u001b[0m\n\u001b[1;32m    419\u001b[0m     \u001b[0;31m# consistently\u001b[0m\u001b[0;34m\u001b[0m\u001b[0;34m\u001b[0m\u001b[0;34m\u001b[0m\u001b[0m\n\u001b[0;32m--> 420\u001b[0;31m     \u001b[0mb\u001b[0m \u001b[0;34m=\u001b[0m \u001b[0mnp\u001b[0m\u001b[0;34m.\u001b[0m\u001b[0mbroadcast\u001b[0m\u001b[0;34m(\u001b[0m\u001b[0;34m*\u001b[0m\u001b[0margs\u001b[0m\u001b[0;34m[\u001b[0m\u001b[0;34m:\u001b[0m\u001b[0;36m32\u001b[0m\u001b[0;34m]\u001b[0m\u001b[0;34m)\u001b[0m\u001b[0;34m\u001b[0m\u001b[0;34m\u001b[0m\u001b[0m\n\u001b[0m\u001b[1;32m    421\u001b[0m     \u001b[0;31m# unfortunately, it cannot handle 32 or more arguments directly\u001b[0m\u001b[0;34m\u001b[0m\u001b[0;34m\u001b[0m\u001b[0;34m\u001b[0m\u001b[0m\n\u001b[1;32m    422\u001b[0m     \u001b[0;32mfor\u001b[0m \u001b[0mpos\u001b[0m \u001b[0;32min\u001b[0m \u001b[0mrange\u001b[0m\u001b[0;34m(\u001b[0m\u001b[0;36m32\u001b[0m\u001b[0;34m,\u001b[0m \u001b[0mlen\u001b[0m\u001b[0;34m(\u001b[0m\u001b[0margs\u001b[0m\u001b[0;34m)\u001b[0m\u001b[0;34m,\u001b[0m \u001b[0;36m31\u001b[0m\u001b[0;34m)\u001b[0m\u001b[0;34m:\u001b[0m\u001b[0;34m\u001b[0m\u001b[0;34m\u001b[0m\u001b[0m\n",
      "\u001b[0;31mValueError\u001b[0m: shape mismatch: objects cannot be broadcast to a single shape"
     ]
    },
    {
     "data": {
      "image/png": "[encoded data removed]",
      "text/plain": [
       "<Figure size 1080x360 with 1 Axes>"
      ]
     },
     "metadata": {
      "needs_background": "light"
     },
     "output_type": "display_data"
    }
   ],
   "source": [
    "fig = plt.figure(figsize=(15,5))\n",
    "ax = fig.add_axes([0,0,1,1])\n",
    "plt.bar(labels,coefficient_total,color='navy')\n",
    "plt.title('Gene Correlation Coefficients for ADOS TOTAL',color='darkblue')\n",
    "plt.ylabel('Correlation Coefficient',color='darkblue')\n",
    "plt.xlabel('Gene',color='darkblue')\n",
    "plt.show()"
   ]
  },
  {
   "cell_type": "code",
   "execution_count": 125,
   "id": "e508e204-969b-45a6-8cf7-4d825e51d0ee",
   "metadata": {},
   "outputs": [
    {
     "name": "stdout",
     "output_type": "stream",
     "text": [
      "ADOS_COMM\n",
      "                            OLS Regression Results                            \n",
      "==============================================================================\n",
      "Dep. Variable:                      y   R-squared:                       0.004\n",
      "Model:                            OLS   Adj. R-squared:                  0.001\n",
      "Method:                 Least Squares   F-statistic:                     1.375\n",
      "Date:                Sat, 11 Feb 2023   Prob (F-statistic):              0.242\n",
      "Time:                        15:09:19   Log-Likelihood:                -641.02\n",
      "No. Observations:                 344   AIC:                             1286.\n",
      "Df Residuals:                     342   BIC:                             1294.\n",
      "Df Model:                           1                                         \n",
      "Covariance Type:            nonrobust                                         \n",
      "==============================================================================\n",
      "                 coef    std err          t      P>|t|      [0.025      0.975]\n",
      "------------------------------------------------------------------------------\n",
      "const          3.8367      0.084     45.425      0.000       3.671       4.003\n",
      "x1                  0          0        nan        nan           0           0\n",
      "x2                  0          0        nan        nan           0           0\n",
      "x3                  0          0        nan        nan           0           0\n",
      "x4                  0          0        nan        nan           0           0\n",
      "x5                  0          0        nan        nan           0           0\n",
      "x6                  0          0        nan        nan           0           0\n",
      "x7                  0          0        nan        nan           0           0\n",
      "x8                  0          0        nan        nan           0           0\n",
      "x9                  0          0        nan        nan           0           0\n",
      "x10                 0          0        nan        nan           0           0\n",
      "x11                 0          0        nan        nan           0           0\n",
      "x12                 0          0        nan        nan           0           0\n",
      "x13                 0          0        nan        nan           0           0\n",
      "x14                 0          0        nan        nan           0           0\n",
      "x15                 0          0        nan        nan           0           0\n",
      "x16                 0          0        nan        nan           0           0\n",
      "x17                 0          0        nan        nan           0           0\n",
      "x18                 0          0        nan        nan           0           0\n",
      "x19                 0          0        nan        nan           0           0\n",
      "x20                 0          0        nan        nan           0           0\n",
      "x21                 0          0        nan        nan           0           0\n",
      "x22                 0          0        nan        nan           0           0\n",
      "x23                 0          0        nan        nan           0           0\n",
      "x24                 0          0        nan        nan           0           0\n",
      "x25                 0          0        nan        nan           0           0\n",
      "x26                 0          0        nan        nan           0           0\n",
      "x27                 0          0        nan        nan           0           0\n",
      "x28                 0          0        nan        nan           0           0\n",
      "x29                 0          0        nan        nan           0           0\n",
      "x30                 0          0        nan        nan           0           0\n",
      "x31                 0          0        nan        nan           0           0\n",
      "x32                 0          0        nan        nan           0           0\n",
      "x33                 0          0        nan        nan           0           0\n",
      "x34          -52.1489     44.478     -1.172      0.242    -139.633      35.336\n",
      "==============================================================================\n",
      "Omnibus:                        2.216   Durbin-Watson:                   1.860\n",
      "Prob(Omnibus):                  0.330   Jarque-Bera (JB):                2.087\n",
      "Skew:                           0.116   Prob(JB):                        0.352\n",
      "Kurtosis:                       2.697   Cond. No.                     1.00e+16\n",
      "==============================================================================\n",
      "\n",
      "Notes:\n",
      "[1] Standard Errors assume that the covariance matrix of the errors is correctly specified.\n",
      "[2] The smallest eigenvalue is 3.43e-30. This might indicate that there are\n",
      "strong multicollinearity problems or that the design matrix is singular.\n"
     ]
    }
   ],
   "source": [
    "#significance of coefficients for ados_comm\n",
    "print('ADOS_COMM')\n",
    "X_comm = X_use_comm.copy()\n",
    "Y_comm = Y_use_comm.copy()\n",
    "X_comm = sm.add_constant(X_comm)\n",
    "\n",
    "est_comm = sm.OLS(Y_comm, X_comm)\n",
    "est2_comm = est_comm.fit()\n",
    "print(est2_comm.summary())"
   ]
  },
  {
   "cell_type": "code",
   "execution_count": 126,
   "id": "0cd11cfd-2602-465c-af40-2e935009d0aa",
   "metadata": {},
   "outputs": [],
   "source": [
    "def plot_errorbar_from_table(est2_comm,labels):\n",
    "    coef_comm = est2_comm.params[1::]\n",
    "    ci_comm = est2_comm.conf_int()[1::,:]\n",
    "    ci_rel_comm = abs(np.vstack((coef_comm,coef_comm)).transpose() - ci_comm)\n",
    "    ci_rel_comm = ci_rel_comm.transpose()\n",
    "    xs_comm = np.arange(len(coef_comm))\n",
    "\n",
    "    plt.figure(figsize=(50,20))\n",
    "    plt.bar(xs_comm,coef_comm,color='tan')\n",
    "    plt.errorbar(xs_comm,coef_comm,ci_rel_comm,fmt='r ',capsize=10,ecolor='saddlebrown')\n",
    "    plt.xticks(xs_comm,labels=labels);"
   ]
  },
  {
   "cell_type": "code",
   "execution_count": 127,
   "id": "307e248f-713a-4470-81d2-925430d1abbd",
   "metadata": {},
   "outputs": [
    {
     "ename": "ValueError",
     "evalue": "The number of FixedLocator locations (34), usually from a call to set_ticks, does not match the number of ticklabels (122).",
     "output_type": "error",
     "traceback": [
      "\u001b[0;31m---------------------------------------------------------------------------\u001b[0m",
      "\u001b[0;31mValueError\u001b[0m                                Traceback (most recent call last)",
      "\u001b[0;32m<ipython-input-127-9a39eef6d492>\u001b[0m in \u001b[0;36m<module>\u001b[0;34m\u001b[0m\n\u001b[0;32m----> 1\u001b[0;31m \u001b[0mplot_errorbar_from_table\u001b[0m\u001b[0;34m(\u001b[0m\u001b[0mest2_comm\u001b[0m\u001b[0;34m,\u001b[0m\u001b[0mlabels\u001b[0m\u001b[0;34m)\u001b[0m\u001b[0;34m\u001b[0m\u001b[0;34m\u001b[0m\u001b[0m\n\u001b[0m\u001b[1;32m      2\u001b[0m \u001b[0mplt\u001b[0m\u001b[0;34m.\u001b[0m\u001b[0mtitle\u001b[0m\u001b[0;34m(\u001b[0m\u001b[0;34m'Coefficient with Errorbar For ADOS_COMM'\u001b[0m\u001b[0;34m,\u001b[0m\u001b[0mcolor\u001b[0m\u001b[0;34m=\u001b[0m\u001b[0;34m'saddlebrown'\u001b[0m\u001b[0;34m)\u001b[0m\u001b[0;34m\u001b[0m\u001b[0;34m\u001b[0m\u001b[0m\n\u001b[1;32m      3\u001b[0m \u001b[0mplt\u001b[0m\u001b[0;34m.\u001b[0m\u001b[0mylabel\u001b[0m\u001b[0;34m(\u001b[0m\u001b[0;34m'Correlation Coefficient'\u001b[0m\u001b[0;34m,\u001b[0m\u001b[0mcolor\u001b[0m\u001b[0;34m=\u001b[0m\u001b[0;34m'saddlebrown'\u001b[0m\u001b[0;34m)\u001b[0m\u001b[0;34m\u001b[0m\u001b[0;34m\u001b[0m\u001b[0m\n\u001b[1;32m      4\u001b[0m \u001b[0mplt\u001b[0m\u001b[0;34m.\u001b[0m\u001b[0mxlabel\u001b[0m\u001b[0;34m(\u001b[0m\u001b[0;34m'Gene'\u001b[0m\u001b[0;34m,\u001b[0m\u001b[0mcolor\u001b[0m\u001b[0;34m=\u001b[0m\u001b[0;34m'saddlebrown'\u001b[0m\u001b[0;34m)\u001b[0m\u001b[0;34m\u001b[0m\u001b[0;34m\u001b[0m\u001b[0m\n",
      "\u001b[0;32m<ipython-input-126-73cfa10f42d0>\u001b[0m in \u001b[0;36mplot_errorbar_from_table\u001b[0;34m(est2_comm, labels)\u001b[0m\n\u001b[1;32m      9\u001b[0m     \u001b[0mplt\u001b[0m\u001b[0;34m.\u001b[0m\u001b[0mbar\u001b[0m\u001b[0;34m(\u001b[0m\u001b[0mxs_comm\u001b[0m\u001b[0;34m,\u001b[0m\u001b[0mcoef_comm\u001b[0m\u001b[0;34m,\u001b[0m\u001b[0mcolor\u001b[0m\u001b[0;34m=\u001b[0m\u001b[0;34m'tan'\u001b[0m\u001b[0;34m)\u001b[0m\u001b[0;34m\u001b[0m\u001b[0;34m\u001b[0m\u001b[0m\n\u001b[1;32m     10\u001b[0m     \u001b[0mplt\u001b[0m\u001b[0;34m.\u001b[0m\u001b[0merrorbar\u001b[0m\u001b[0;34m(\u001b[0m\u001b[0mxs_comm\u001b[0m\u001b[0;34m,\u001b[0m\u001b[0mcoef_comm\u001b[0m\u001b[0;34m,\u001b[0m\u001b[0mci_rel_comm\u001b[0m\u001b[0;34m,\u001b[0m\u001b[0mfmt\u001b[0m\u001b[0;34m=\u001b[0m\u001b[0;34m'r '\u001b[0m\u001b[0;34m,\u001b[0m\u001b[0mcapsize\u001b[0m\u001b[0;34m=\u001b[0m\u001b[0;36m10\u001b[0m\u001b[0;34m,\u001b[0m\u001b[0mecolor\u001b[0m\u001b[0;34m=\u001b[0m\u001b[0;34m'saddlebrown'\u001b[0m\u001b[0;34m)\u001b[0m\u001b[0;34m\u001b[0m\u001b[0;34m\u001b[0m\u001b[0m\n\u001b[0;32m---> 11\u001b[0;31m     \u001b[0mplt\u001b[0m\u001b[0;34m.\u001b[0m\u001b[0mxticks\u001b[0m\u001b[0;34m(\u001b[0m\u001b[0mxs_comm\u001b[0m\u001b[0;34m,\u001b[0m\u001b[0mlabels\u001b[0m\u001b[0;34m=\u001b[0m\u001b[0mlabels\u001b[0m\u001b[0;34m)\u001b[0m\u001b[0;34m;\u001b[0m\u001b[0;34m\u001b[0m\u001b[0;34m\u001b[0m\u001b[0m\n\u001b[0m",
      "\u001b[0;32m~/anaconda3/lib/python3.8/site-packages/matplotlib/pyplot.py\u001b[0m in \u001b[0;36mxticks\u001b[0;34m(ticks, labels, **kwargs)\u001b[0m\n\u001b[1;32m   1657\u001b[0m         \u001b[0mlabels\u001b[0m \u001b[0;34m=\u001b[0m \u001b[0max\u001b[0m\u001b[0;34m.\u001b[0m\u001b[0mget_xticklabels\u001b[0m\u001b[0;34m(\u001b[0m\u001b[0;34m)\u001b[0m\u001b[0;34m\u001b[0m\u001b[0;34m\u001b[0m\u001b[0m\n\u001b[1;32m   1658\u001b[0m     \u001b[0;32melse\u001b[0m\u001b[0;34m:\u001b[0m\u001b[0;34m\u001b[0m\u001b[0;34m\u001b[0m\u001b[0m\n\u001b[0;32m-> 1659\u001b[0;31m         \u001b[0mlabels\u001b[0m \u001b[0;34m=\u001b[0m \u001b[0max\u001b[0m\u001b[0;34m.\u001b[0m\u001b[0mset_xticklabels\u001b[0m\u001b[0;34m(\u001b[0m\u001b[0mlabels\u001b[0m\u001b[0;34m,\u001b[0m \u001b[0;34m**\u001b[0m\u001b[0mkwargs\u001b[0m\u001b[0;34m)\u001b[0m\u001b[0;34m\u001b[0m\u001b[0;34m\u001b[0m\u001b[0m\n\u001b[0m\u001b[1;32m   1660\u001b[0m     \u001b[0;32mfor\u001b[0m \u001b[0ml\u001b[0m \u001b[0;32min\u001b[0m \u001b[0mlabels\u001b[0m\u001b[0;34m:\u001b[0m\u001b[0;34m\u001b[0m\u001b[0;34m\u001b[0m\u001b[0m\n\u001b[1;32m   1661\u001b[0m         \u001b[0ml\u001b[0m\u001b[0;34m.\u001b[0m\u001b[0mupdate\u001b[0m\u001b[0;34m(\u001b[0m\u001b[0mkwargs\u001b[0m\u001b[0;34m)\u001b[0m\u001b[0;34m\u001b[0m\u001b[0;34m\u001b[0m\u001b[0m\n",
      "\u001b[0;32m~/anaconda3/lib/python3.8/site-packages/matplotlib/axes/_base.py\u001b[0m in \u001b[0;36mwrapper\u001b[0;34m(self, *args, **kwargs)\u001b[0m\n\u001b[1;32m     61\u001b[0m \u001b[0;34m\u001b[0m\u001b[0m\n\u001b[1;32m     62\u001b[0m         \u001b[0;32mdef\u001b[0m \u001b[0mwrapper\u001b[0m\u001b[0;34m(\u001b[0m\u001b[0mself\u001b[0m\u001b[0;34m,\u001b[0m \u001b[0;34m*\u001b[0m\u001b[0margs\u001b[0m\u001b[0;34m,\u001b[0m \u001b[0;34m**\u001b[0m\u001b[0mkwargs\u001b[0m\u001b[0;34m)\u001b[0m\u001b[0;34m:\u001b[0m\u001b[0;34m\u001b[0m\u001b[0;34m\u001b[0m\u001b[0m\n\u001b[0;32m---> 63\u001b[0;31m             \u001b[0;32mreturn\u001b[0m \u001b[0mget_method\u001b[0m\u001b[0;34m(\u001b[0m\u001b[0mself\u001b[0m\u001b[0;34m)\u001b[0m\u001b[0;34m(\u001b[0m\u001b[0;34m*\u001b[0m\u001b[0margs\u001b[0m\u001b[0;34m,\u001b[0m \u001b[0;34m**\u001b[0m\u001b[0mkwargs\u001b[0m\u001b[0;34m)\u001b[0m\u001b[0;34m\u001b[0m\u001b[0;34m\u001b[0m\u001b[0m\n\u001b[0m\u001b[1;32m     64\u001b[0m \u001b[0;34m\u001b[0m\u001b[0m\n\u001b[1;32m     65\u001b[0m         \u001b[0mwrapper\u001b[0m\u001b[0;34m.\u001b[0m\u001b[0m__module__\u001b[0m \u001b[0;34m=\u001b[0m \u001b[0mowner\u001b[0m\u001b[0;34m.\u001b[0m\u001b[0m__module__\u001b[0m\u001b[0;34m\u001b[0m\u001b[0;34m\u001b[0m\u001b[0m\n",
      "\u001b[0;32m~/anaconda3/lib/python3.8/site-packages/matplotlib/cbook/deprecation.py\u001b[0m in \u001b[0;36mwrapper\u001b[0;34m(*args, **kwargs)\u001b[0m\n\u001b[1;32m    449\u001b[0m                 \u001b[0;34m\"parameter will become keyword-only %(removal)s.\"\u001b[0m\u001b[0;34m,\u001b[0m\u001b[0;34m\u001b[0m\u001b[0;34m\u001b[0m\u001b[0m\n\u001b[1;32m    450\u001b[0m                 name=name, obj_type=f\"parameter of {func.__name__}()\")\n\u001b[0;32m--> 451\u001b[0;31m         \u001b[0;32mreturn\u001b[0m \u001b[0mfunc\u001b[0m\u001b[0;34m(\u001b[0m\u001b[0;34m*\u001b[0m\u001b[0margs\u001b[0m\u001b[0;34m,\u001b[0m \u001b[0;34m**\u001b[0m\u001b[0mkwargs\u001b[0m\u001b[0;34m)\u001b[0m\u001b[0;34m\u001b[0m\u001b[0;34m\u001b[0m\u001b[0m\n\u001b[0m\u001b[1;32m    452\u001b[0m \u001b[0;34m\u001b[0m\u001b[0m\n\u001b[1;32m    453\u001b[0m     \u001b[0;32mreturn\u001b[0m \u001b[0mwrapper\u001b[0m\u001b[0;34m\u001b[0m\u001b[0;34m\u001b[0m\u001b[0m\n",
      "\u001b[0;32m~/anaconda3/lib/python3.8/site-packages/matplotlib/axis.py\u001b[0m in \u001b[0;36m_set_ticklabels\u001b[0;34m(self, labels, fontdict, minor, **kwargs)\u001b[0m\n\u001b[1;32m   1794\u001b[0m         \u001b[0;32mif\u001b[0m \u001b[0mfontdict\u001b[0m \u001b[0;32mis\u001b[0m \u001b[0;32mnot\u001b[0m \u001b[0;32mNone\u001b[0m\u001b[0;34m:\u001b[0m\u001b[0;34m\u001b[0m\u001b[0;34m\u001b[0m\u001b[0m\n\u001b[1;32m   1795\u001b[0m             \u001b[0mkwargs\u001b[0m\u001b[0;34m.\u001b[0m\u001b[0mupdate\u001b[0m\u001b[0;34m(\u001b[0m\u001b[0mfontdict\u001b[0m\u001b[0;34m)\u001b[0m\u001b[0;34m\u001b[0m\u001b[0;34m\u001b[0m\u001b[0m\n\u001b[0;32m-> 1796\u001b[0;31m         \u001b[0;32mreturn\u001b[0m \u001b[0mself\u001b[0m\u001b[0;34m.\u001b[0m\u001b[0mset_ticklabels\u001b[0m\u001b[0;34m(\u001b[0m\u001b[0mlabels\u001b[0m\u001b[0;34m,\u001b[0m \u001b[0mminor\u001b[0m\u001b[0;34m=\u001b[0m\u001b[0mminor\u001b[0m\u001b[0;34m,\u001b[0m \u001b[0;34m**\u001b[0m\u001b[0mkwargs\u001b[0m\u001b[0;34m)\u001b[0m\u001b[0;34m\u001b[0m\u001b[0;34m\u001b[0m\u001b[0m\n\u001b[0m\u001b[1;32m   1797\u001b[0m \u001b[0;34m\u001b[0m\u001b[0m\n\u001b[1;32m   1798\u001b[0m     \u001b[0;34m@\u001b[0m\u001b[0mcbook\u001b[0m\u001b[0;34m.\u001b[0m\u001b[0m_make_keyword_only\u001b[0m\u001b[0;34m(\u001b[0m\u001b[0;34m\"3.2\"\u001b[0m\u001b[0;34m,\u001b[0m \u001b[0;34m\"minor\"\u001b[0m\u001b[0;34m)\u001b[0m\u001b[0;34m\u001b[0m\u001b[0;34m\u001b[0m\u001b[0m\n",
      "\u001b[0;32m~/anaconda3/lib/python3.8/site-packages/matplotlib/axis.py\u001b[0m in \u001b[0;36mset_ticklabels\u001b[0;34m(self, ticklabels, minor, **kwargs)\u001b[0m\n\u001b[1;32m   1715\u001b[0m             \u001b[0;31m# remove all tick labels, so only error for > 0 ticklabels\u001b[0m\u001b[0;34m\u001b[0m\u001b[0;34m\u001b[0m\u001b[0;34m\u001b[0m\u001b[0m\n\u001b[1;32m   1716\u001b[0m             \u001b[0;32mif\u001b[0m \u001b[0mlen\u001b[0m\u001b[0;34m(\u001b[0m\u001b[0mlocator\u001b[0m\u001b[0;34m.\u001b[0m\u001b[0mlocs\u001b[0m\u001b[0;34m)\u001b[0m \u001b[0;34m!=\u001b[0m \u001b[0mlen\u001b[0m\u001b[0;34m(\u001b[0m\u001b[0mticklabels\u001b[0m\u001b[0;34m)\u001b[0m \u001b[0;32mand\u001b[0m \u001b[0mlen\u001b[0m\u001b[0;34m(\u001b[0m\u001b[0mticklabels\u001b[0m\u001b[0;34m)\u001b[0m \u001b[0;34m!=\u001b[0m \u001b[0;36m0\u001b[0m\u001b[0;34m:\u001b[0m\u001b[0;34m\u001b[0m\u001b[0;34m\u001b[0m\u001b[0m\n\u001b[0;32m-> 1717\u001b[0;31m                 raise ValueError(\n\u001b[0m\u001b[1;32m   1718\u001b[0m                     \u001b[0;34m\"The number of FixedLocator locations\"\u001b[0m\u001b[0;34m\u001b[0m\u001b[0;34m\u001b[0m\u001b[0m\n\u001b[1;32m   1719\u001b[0m                     \u001b[0;34mf\" ({len(locator.locs)}), usually from a call to\"\u001b[0m\u001b[0;34m\u001b[0m\u001b[0;34m\u001b[0m\u001b[0m\n",
      "\u001b[0;31mValueError\u001b[0m: The number of FixedLocator locations (34), usually from a call to set_ticks, does not match the number of ticklabels (122)."
     ]
    },
    {
     "data": {
      "image/png": "[encoded data removed]",
      "text/plain": [
       "<Figure size 3600x1440 with 1 Axes>"
      ]
     },
     "metadata": {
      "needs_background": "light"
     },
     "output_type": "display_data"
    }
   ],
   "source": [
    "plot_errorbar_from_table(est2_comm,labels)\n",
    "plt.title('Coefficient with Errorbar For ADOS_COMM',color='saddlebrown')\n",
    "plt.ylabel('Correlation Coefficient',color='saddlebrown')\n",
    "plt.xlabel('Gene',color='saddlebrown')"
   ]
  },
  {
   "cell_type": "code",
   "execution_count": null,
   "id": "6a225520-ea03-46a0-a5bc-4fc01df6d2f3",
   "metadata": {},
   "outputs": [],
   "source": [
    "plot_errorbar_from_table(est2_module,labels)\n",
    "plt.title('Coefficient with Errorbar For ADOS_MODULE',color='saddlebrown')\n",
    "plt.ylabel('Correlation Coefficient',color='saddlebrown')\n",
    "plt.xlabel('Gene',color='saddlebrown')"
   ]
  },
  {
   "cell_type": "code",
   "execution_count": null,
   "id": "ca888fe0-2575-4f5f-a97a-fe3b0963d907",
   "metadata": {},
   "outputs": [],
   "source": [
    "#significance of coefficients for ados_module\n",
    "print('ADOS_MODULE')\n",
    "X_module = X_use_module.copy()\n",
    "Y_module = Y_use_module.copy()\n",
    "X_module = sm.add_constant(X_module)\n",
    "\n",
    "est_module = sm.OLS(Y_module, X_module)\n",
    "est2_module = est_module.fit()\n",
    "print(est2_module.summary())"
   ]
  },
  {
   "cell_type": "code",
   "execution_count": null,
   "id": "3289d4c5-edf3-44c2-b14f-ade02dc300af",
   "metadata": {},
   "outputs": [],
   "source": [
    "def plot_errorbar_from_table(est2_module,labels):\n",
    "    coef_module = est2_module.params[1::]\n",
    "    ci_module = est2_module.conf_int()[1::,:]\n",
    "    ci_rel_module = abs(np.vstack((coef_module,coef_module)).transpose() - ci_module)\n",
    "    ci_rel_module = ci_rel_module.transpose()\n",
    "    xs_module = np.arange(len(coef_module))\n",
    "\n",
    "    plt.figure(figsize=(50,20))\n",
    "    plt.bar(xs_module,coef_module,color='skyblue')\n",
    "    plt.errorbar(xs_module,coef_module,ci_rel_module,fmt='r ',capsize=10,ecolor='steelblue')\n",
    "    plt.xticks(xs_module,labels=labels);"
   ]
  },
  {
   "cell_type": "code",
   "execution_count": null,
   "id": "c1a5aed8-ee82-4944-b147-5a2dcc8711d1",
   "metadata": {},
   "outputs": [],
   "source": [
    "#significance of coefficients for ados_social\n",
    "print('ADOS_SOCIAL')\n",
    "X_social = X_use_social.copy()\n",
    "Y_social = Y_use_social.copy()\n",
    "X_social = sm.add_constant(X_social)\n",
    "\n",
    "est_social = sm.OLS(Y_social, X_social)\n",
    "est2_social = est_social.fit()\n",
    "print(est2_social.summary())"
   ]
  },
  {
   "cell_type": "code",
   "execution_count": null,
   "id": "806aef9b-4d3b-42ae-b75e-4550f573b279",
   "metadata": {},
   "outputs": [],
   "source": [
    "plot_errorbar_from_table(est2_social,labels)\n",
    "plt.title('Coefficient with Errorbar For ADOS_SOCIAL',color='steelblue')\n",
    "plt.ylabel('Correlation Coefficient',color='steelblue')\n",
    "plt.xlabel('Gene',color='steelblue')"
   ]
  },
  {
   "cell_type": "code",
   "execution_count": null,
   "id": "3abecc49-02ea-4c64-a891-2da786d226ef",
   "metadata": {},
   "outputs": [],
   "source": [
    "#significance of coefficients for ados_stbeh\n",
    "print('ADOS_STBEH')\n",
    "X_stbeh = X_use_stbeh.copy()\n",
    "Y_stbeh = Y_use_stbeh.copy()\n",
    "X_stbeh = sm.add_constant(X_stbeh)\n",
    "\n",
    "est_stbeh = sm.OLS(Y_stbeh, X_stbeh)\n",
    "est2_stbeh = est_stbeh.fit()\n",
    "print(est2_stbeh.summary())"
   ]
  },
  {
   "cell_type": "code",
   "execution_count": null,
   "id": "e6608514-ce50-4bf7-9b2b-7efecdabf90a",
   "metadata": {},
   "outputs": [],
   "source": [
    "def plot_errorbar_from_table(est2_stbeh,labels):\n",
    "    coef_stbeh = est2_stbeh.params[1::]\n",
    "    ci_stbeh = est2_stbeh.conf_int()[1::,:]\n",
    "    ci_rel_stbeh = abs(np.vstack((coef_stbeh,coef_stbeh)).transpose() - ci_stbeh)\n",
    "    ci_rel_stbeh = ci_rel_stbeh.transpose()\n",
    "    xs_stbeh = np.arange(len(coef_stbeh))\n",
    "\n",
    "    plt.figure(figsize=(50,20))\n",
    "    plt.bar(xs_stbeh,coef_stbeh,color='mediumaquamarine')\n",
    "    plt.errorbar(xs_stbeh,coef_stbeh,ci_rel_stbeh,fmt='r ',capsize=10,ecolor='darkgreen')\n",
    "    plt.xticks(xs_stbeh,labels=labels);"
   ]
  },
  {
   "cell_type": "code",
   "execution_count": null,
   "id": "9ac2ba0f-b09b-4202-a66d-7eaacca4042b",
   "metadata": {},
   "outputs": [],
   "source": [
    "plot_errorbar_from_table(est2_stbeh,labels)\n",
    "plt.title('Coefficient with Errorbar For ADOS_STBEH',color='darkgreen')\n",
    "plt.ylabel('Correlation Coefficient',color='darkgreen')\n",
    "plt.xlabel('Gene',color='darkgreen')"
   ]
  },
  {
   "cell_type": "code",
   "execution_count": null,
   "id": "61d44fb1-86fc-485e-bc34-088dbf71b468",
   "metadata": {},
   "outputs": [],
   "source": [
    "#significance of coefficients for ados_total\n",
    "print('ADOS_TOTAL')\n",
    "X_total = X_use_total.copy()\n",
    "Y_total = Y_use_total.copy()\n",
    "X_total = sm.add_constant(X_total)\n",
    "print(X_total.shape)\n",
    "print(Y_total.shape)\n",
    "\n",
    "est_total = sm.OLS(Y_total, X_total)\n",
    "est2_total = est_total.fit()\n",
    "print(est2_total.summary())"
   ]
  },
  {
   "cell_type": "code",
   "execution_count": null,
   "id": "9ee93754-d2f7-4c84-8485-37377663e5a6",
   "metadata": {},
   "outputs": [],
   "source": [
    "def plot_errorbar_from_table(est2_total,labels):\n",
    "    coef_total = est2_total.params[1::]\n",
    "    ci_total = est2_total.conf_int()[1::,:]\n",
    "    ci_rel_total = abs(np.vstack((coef_total,coef_total)).transpose() - ci_total)\n",
    "    ci_rel_total = ci_rel_total.transpose()\n",
    "    xs_total = np.arange(len(coef_total))\n",
    "\n",
    "    plt.figure(figsize=(50,20))\n",
    "    plt.bar(xs_total,coef_total,color='thistle')\n",
    "    plt.errorbar(xs_total,coef_total,ci_rel_total,fmt='r ',capsize=10,ecolor='indigo')\n",
    "    plt.xticks(xs_total,labels=labels);"
   ]
  },
  {
   "cell_type": "code",
   "execution_count": null,
   "id": "a490fab4-2a18-48c9-bbe6-e380eae93e66",
   "metadata": {},
   "outputs": [],
   "source": [
    "plot_errorbar_from_table(est2_total,labels)\n",
    "plt.title('Coefficient with Errorbar For ADOS_TOTAL',color='indigo')\n",
    "plt.ylabel('Correlation Coefficient',color='indigo')\n",
    "plt.xlabel('Gene',color='indigo')"
   ]
  },
  {
   "cell_type": "code",
   "execution_count": null,
   "id": "bc52ff2b-71c4-4953-9da9-384e28ad32b6",
   "metadata": {},
   "outputs": [],
   "source": []
  }
 ],
 "metadata": {
  "kernelspec": {
   "display_name": "Python 3",
   "language": "python",
   "name": "python3"
  },
  "language_info": {
   "codemirror_mode": {
    "name": "ipython",
    "version": 3
   },
   "file_extension": ".py",
   "mimetype": "text/x-python",
   "name": "python",
   "nbconvert_exporter": "python",
   "pygments_lexer": "ipython3",
   "version": "3.8.8"
  }
 },
 "nbformat": 4,
 "nbformat_minor": 5
}
