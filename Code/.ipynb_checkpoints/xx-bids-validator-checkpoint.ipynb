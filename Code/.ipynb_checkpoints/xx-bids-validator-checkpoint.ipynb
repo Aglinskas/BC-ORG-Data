{
 "cells": [
  {
   "cell_type": "code",
   "execution_count": 1,
   "id": "05352e5f",
   "metadata": {},
   "outputs": [],
   "source": [
    "# module load singularity\n",
    "#singularity build fmriprep.simg docker://poldracklab/fmriprep\n",
    "#singularity build mriqc.simg docker://poldracklab/mriqc\n",
    "#singularity build bids_validator.simg docker://bids/validator\n",
    "\n",
    "docker pull "
   ]
  },
  {
   "cell_type": "code",
   "execution_count": 7,
   "id": "b1b002da",
   "metadata": {},
   "outputs": [
    {
     "data": {
      "text/plain": [
       "'/mmfs1/data/aglinska/BC-ORG-Data/Code'"
      ]
     },
     "execution_count": 7,
     "metadata": {},
     "output_type": "execute_result"
    }
   ],
   "source": [
    "pwd"
   ]
  },
  {
   "cell_type": "code",
   "execution_count": 11,
   "id": "6e9e1e65",
   "metadata": {},
   "outputs": [],
   "source": [
    "from bids_validator import BIDSValidator\n",
    "import os"
   ]
  },
  {
   "cell_type": "code",
   "execution_count": 9,
   "id": "64153776",
   "metadata": {},
   "outputs": [],
   "source": [
    "val = BIDSValidator()"
   ]
  },
  {
   "cell_type": "code",
   "execution_count": null,
   "id": "7c0dae04",
   "metadata": {},
   "outputs": [],
   "source": [
    "data/ABIDE/RawDataBIDS/Caltech/"
   ]
  },
  {
   "cell_type": "code",
   "execution_count": 15,
   "id": "9fd1ac25",
   "metadata": {},
   "outputs": [
    {
     "data": {
      "text/plain": [
       "False"
      ]
     },
     "execution_count": 15,
     "metadata": {},
     "output_type": "execute_result"
    }
   ],
   "source": [
    "val.is_bids('../../data/ABIDE/RawDataBIDS/Caltech/sub-0051466/func/sub-0051466_task-rest_run-1_bold.nii.gz')"
   ]
  },
  {
   "cell_type": "code",
   "execution_count": null,
   "id": "6e057f05",
   "metadata": {},
   "outputs": [],
   "source": []
  }
 ],
 "metadata": {
  "kernelspec": {
   "display_name": "Python 3",
   "language": "python",
   "name": "python3"
  },
  "language_info": {
   "codemirror_mode": {
    "name": "ipython",
    "version": 3
   },
   "file_extension": ".py",
   "mimetype": "text/x-python",
   "name": "python",
   "nbconvert_exporter": "python",
   "pygments_lexer": "ipython3",
   "version": "3.8.8"
  }
 },
 "nbformat": 4,
 "nbformat_minor": 5
}
