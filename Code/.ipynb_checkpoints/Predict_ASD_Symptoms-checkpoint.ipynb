{
 "cells": [
  {
   "cell_type": "code",
   "execution_count": 2,
   "id": "ff7ac5c5-3cd7-4880-8ea7-931743f9855c",
   "metadata": {},
   "outputs": [],
   "source": [
    "#Use 13-long gene-diffmat corr to predict symptoms \n",
    "#Plot beta-weights (use 13 corr with cmat as control) \n",
    "#See symptoms prediction accuracy (diff > cmat)"
   ]
  },
  {
   "cell_type": "code",
   "execution_count": 229,
   "id": "0af0bfc2-0d6a-41a4-9f0f-57603f99f701",
   "metadata": {
    "tags": []
   },
   "outputs": [],
   "source": [
    "import pandas as pd\n",
    "from sklearn import linear_model\n",
    "import numpy as np\n",
    "from matplotlib import pyplot as plt\n",
    "import ants\n",
    "import os\n",
    "from tqdm import tqdm\n",
    "import statistics\n",
    "import statsmodels.api as sm"
   ]
  },
  {
   "cell_type": "code",
   "execution_count": 3,
   "id": "e4ffb40e-5f27-4163-9be7-ef26495e340f",
   "metadata": {},
   "outputs": [
    {
     "name": "stdout",
     "output_type": "stream",
     "text": [
      "/mmfs1/data/pijarj/BC-ORG-Data/Data/Genemaps\n"
     ]
    }
   ],
   "source": [
    "cd ../Data/Genemaps"
   ]
  },
  {
   "cell_type": "code",
   "execution_count": 4,
   "id": "1cc925ff-2458-44e9-a440-e78a5fe1520c",
   "metadata": {},
   "outputs": [
    {
     "data": {
      "text/html": [
       "<div>\n",
       "<style scoped>\n",
       "    .dataframe tbody tr th:only-of-type {\n",
       "        vertical-align: middle;\n",
       "    }\n",
       "\n",
       "    .dataframe tbody tr th {\n",
       "        vertical-align: top;\n",
       "    }\n",
       "\n",
       "    .dataframe thead th {\n",
       "        text-align: right;\n",
       "    }\n",
       "</style>\n",
       "<table border=\"1\" class=\"dataframe\">\n",
       "  <thead>\n",
       "    <tr style=\"text-align: right;\">\n",
       "      <th></th>\n",
       "      <th>ados_total</th>\n",
       "      <th>ados_comm</th>\n",
       "      <th>ados_social</th>\n",
       "      <th>ados_rrb</th>\n",
       "    </tr>\n",
       "  </thead>\n",
       "  <tbody>\n",
       "    <tr>\n",
       "      <th>0</th>\n",
       "      <td>18.0</td>\n",
       "      <td>6.0</td>\n",
       "      <td>12.0</td>\n",
       "      <td>2.0</td>\n",
       "    </tr>\n",
       "    <tr>\n",
       "      <th>1</th>\n",
       "      <td>NaN</td>\n",
       "      <td>NaN</td>\n",
       "      <td>NaN</td>\n",
       "      <td>NaN</td>\n",
       "    </tr>\n",
       "    <tr>\n",
       "      <th>2</th>\n",
       "      <td>13.0</td>\n",
       "      <td>4.0</td>\n",
       "      <td>9.0</td>\n",
       "      <td>NaN</td>\n",
       "    </tr>\n",
       "    <tr>\n",
       "      <th>3</th>\n",
       "      <td>12.0</td>\n",
       "      <td>4.0</td>\n",
       "      <td>8.0</td>\n",
       "      <td>2.0</td>\n",
       "    </tr>\n",
       "    <tr>\n",
       "      <th>4</th>\n",
       "      <td>16.0</td>\n",
       "      <td>5.0</td>\n",
       "      <td>11.0</td>\n",
       "      <td>3.0</td>\n",
       "    </tr>\n",
       "    <tr>\n",
       "      <th>...</th>\n",
       "      <td>...</td>\n",
       "      <td>...</td>\n",
       "      <td>...</td>\n",
       "      <td>...</td>\n",
       "    </tr>\n",
       "    <tr>\n",
       "      <th>694</th>\n",
       "      <td>NaN</td>\n",
       "      <td>NaN</td>\n",
       "      <td>NaN</td>\n",
       "      <td>NaN</td>\n",
       "    </tr>\n",
       "    <tr>\n",
       "      <th>695</th>\n",
       "      <td>NaN</td>\n",
       "      <td>NaN</td>\n",
       "      <td>NaN</td>\n",
       "      <td>NaN</td>\n",
       "    </tr>\n",
       "    <tr>\n",
       "      <th>696</th>\n",
       "      <td>13.0</td>\n",
       "      <td>4.0</td>\n",
       "      <td>9.0</td>\n",
       "      <td>2.0</td>\n",
       "    </tr>\n",
       "    <tr>\n",
       "      <th>697</th>\n",
       "      <td>8.0</td>\n",
       "      <td>2.0</td>\n",
       "      <td>6.0</td>\n",
       "      <td>2.0</td>\n",
       "    </tr>\n",
       "    <tr>\n",
       "      <th>698</th>\n",
       "      <td>NaN</td>\n",
       "      <td>NaN</td>\n",
       "      <td>NaN</td>\n",
       "      <td>NaN</td>\n",
       "    </tr>\n",
       "  </tbody>\n",
       "</table>\n",
       "<p>699 rows × 4 columns</p>\n",
       "</div>"
      ],
      "text/plain": [
       "     ados_total  ados_comm  ados_social  ados_rrb\n",
       "0          18.0        6.0         12.0       2.0\n",
       "1           NaN        NaN          NaN       NaN\n",
       "2          13.0        4.0          9.0       NaN\n",
       "3          12.0        4.0          8.0       2.0\n",
       "4          16.0        5.0         11.0       3.0\n",
       "..          ...        ...          ...       ...\n",
       "694         NaN        NaN          NaN       NaN\n",
       "695         NaN        NaN          NaN       NaN\n",
       "696        13.0        4.0          9.0       2.0\n",
       "697         8.0        2.0          6.0       2.0\n",
       "698         NaN        NaN          NaN       NaN\n",
       "\n",
       "[699 rows x 4 columns]"
      ]
     },
     "execution_count": 4,
     "metadata": {},
     "output_type": "execute_result"
    }
   ],
   "source": [
    "#read in symptom patient data and slice out important columns\n",
    "df = pd.read_csv('/mmfs1/data/pijarj/Data4Julianna/df_patients_S699.csv')\n",
    "df.columns\n",
    "df[['ados_total', 'ados_comm', 'ados_social', 'ados_rrb']]"
   ]
  },
  {
   "cell_type": "code",
   "execution_count": 5,
   "id": "7ce91731-742f-43c8-9949-bd8be8821b76",
   "metadata": {},
   "outputs": [
    {
     "data": {
      "text/plain": [
       "(699, 36)"
      ]
     },
     "execution_count": 5,
     "metadata": {},
     "output_type": "execute_result"
    }
   ],
   "source": [
    "df.shape"
   ]
  },
  {
   "cell_type": "code",
   "execution_count": 6,
   "id": "673d17aa-9ed0-4449-900f-ebbd2fa99860",
   "metadata": {},
   "outputs": [
    {
     "data": {
      "text/plain": [
       "(699, 51, 51)"
      ]
     },
     "execution_count": 6,
     "metadata": {},
     "output_type": "execute_result"
    }
   ],
   "source": [
    "#load in diffmat data\n",
    "diffmat = np.load('/mmfs1/data/pijarj/Data4Julianna/recon_asd_diffmats.npz')\n",
    "diffmat = diffmat['data']\n",
    "diffmat.shape"
   ]
  },
  {
   "cell_type": "code",
   "execution_count": 7,
   "id": "ac7102b1-d90a-4e06-91f5-dbd6b1032342",
   "metadata": {
    "tags": []
   },
   "outputs": [],
   "source": [
    "atlas = ants.image_read('../../YeoAtlas/Atlas_parc-7n_2mm.nii')"
   ]
  },
  {
   "cell_type": "code",
   "execution_count": 8,
   "id": "57a8549e-6350-4f69-970e-63042597aae3",
   "metadata": {},
   "outputs": [],
   "source": [
    "genemaps = [file for file in os.listdir() if file.endswith('.nii.gz')]\n",
    "genemaps.sort()"
   ]
  },
  {
   "cell_type": "code",
   "execution_count": 9,
   "id": "cfc86668-691a-4b86-8e5f-d2cd53b2bbfb",
   "metadata": {},
   "outputs": [
    {
     "name": "stdout",
     "output_type": "stream",
     "text": [
      "699\n",
      "13\n"
     ]
    },
    {
     "data": {
      "text/plain": [
       "array([[0., 0., 0., ..., 0., 0., 0.],\n",
       "       [0., 0., 0., ..., 0., 0., 0.],\n",
       "       [0., 0., 0., ..., 0., 0., 0.],\n",
       "       ...,\n",
       "       [0., 0., 0., ..., 0., 0., 0.],\n",
       "       [0., 0., 0., ..., 0., 0., 0.],\n",
       "       [0., 0., 0., ..., 0., 0., 0.]])"
      ]
     },
     "execution_count": 9,
     "metadata": {},
     "output_type": "execute_result"
    }
   ],
   "source": [
    "nsubjects = 699\n",
    "ngenes = len(genemaps)\n",
    "print(nsubjects)\n",
    "print(ngenes)\n",
    "\n",
    "gene_fmri_corr = np.zeros((ngenes,nsubjects))\n",
    "gene_fmri_corr"
   ]
  },
  {
   "cell_type": "code",
   "execution_count": 10,
   "id": "230d89cb-35d5-42b2-a988-d05d55b924b7",
   "metadata": {},
   "outputs": [
    {
     "name": "stderr",
     "output_type": "stream",
     "text": [
      "100%|██████████| 13/13 [00:01<00:00,  8.11it/s]\n"
     ]
    }
   ],
   "source": [
    "for g in tqdm(range(ngenes)):\n",
    "    gene_im = ants.image_read(genemaps[g])\n",
    "    gene_flat = gene_im.numpy().flatten()\n",
    "    atlas_flat = atlas.numpy().flatten()\n",
    "    roi_expression = np.array([gene_flat[atlas_flat==roi].mean() for roi in np.arange(1,52)])\n",
    "    gene_sim = np.zeros((51,51))\n",
    "    for i in range(51):\n",
    "        for j in range(51):\n",
    "            gene_sim[i,j] = abs(roi_expression[i]-roi_expression[j])\n",
    "\n",
    "    triu = np.triu_indices(51,k=1)\n",
    "    gene_vec = gene_sim[triu]\n",
    "\n",
    "    for s in range(nsubjects):\n",
    "        subject_diffmat = diffmat[s,:,:] # correlation matrices for one subject\n",
    "        fmri_vec = subject_diffmat[triu]\n",
    "        data = np.corrcoef(gene_vec,fmri_vec)[0,1]\n",
    "        gene_fmri_corr[g,s] = data"
   ]
  },
  {
   "cell_type": "code",
   "execution_count": 11,
   "id": "cae7ac24-faa5-45d5-bcc0-2b656d1de9a0",
   "metadata": {},
   "outputs": [
    {
     "data": {
      "text/plain": [
       "<matplotlib.image.AxesImage at 0x1554d4589880>"
      ]
     },
     "execution_count": 11,
     "metadata": {},
     "output_type": "execute_result"
    },
    {
     "data": {
      "image/png": "[encoded data removed]",
      "text/plain": [
       "<Figure size 1080x720 with 1 Axes>"
      ]
     },
     "metadata": {
      "needs_background": "light"
     },
     "output_type": "display_data"
    }
   ],
   "source": [
    "plt.figure(figsize=(15,10))\n",
    "plt.imshow(gene_fmri_corr)"
   ]
  },
  {
   "cell_type": "code",
   "execution_count": 253,
   "id": "8fe2dd97-5717-4727-beaa-bf23f8fbc7fa",
   "metadata": {},
   "outputs": [],
   "source": [
    "#change here for each column\n",
    "col_id = 0"
   ]
  },
  {
   "cell_type": "code",
   "execution_count": 254,
   "id": "b31625e4-a69e-4905-abfb-66a438b82f03",
   "metadata": {},
   "outputs": [
    {
     "name": "stdout",
     "output_type": "stream",
     "text": [
      "ados_total\n"
     ]
    }
   ],
   "source": [
    "#remove nans\n",
    "Y = df[['ados_total', 'ados_comm', 'ados_social', 'ados_rrb']].values\n",
    "column = (['ados_total', 'ados_comm', 'ados_social', 'ados_rrb'][col_id]) #column selected\n",
    "print(column)\n",
    "good_subjects = ~np.isnan(Y)[:,col_id]"
   ]
  },
  {
   "cell_type": "code",
   "execution_count": 255,
   "id": "a90e4f6e-2889-488a-b2a5-79a4f2d37e62",
   "metadata": {},
   "outputs": [
    {
     "data": {
      "text/plain": [
       "(429,)"
      ]
     },
     "execution_count": 255,
     "metadata": {},
     "output_type": "execute_result"
    }
   ],
   "source": [
    "#separate non-nan subjects in selected column\n",
    "Y_use = Y[good_subjects,col_id] \n",
    "Y_use.shape"
   ]
  },
  {
   "cell_type": "code",
   "execution_count": 256,
   "id": "d910b73e-42e3-4891-9111-5065012b2435",
   "metadata": {},
   "outputs": [
    {
     "data": {
      "text/plain": [
       "(13, 699)"
      ]
     },
     "execution_count": 256,
     "metadata": {},
     "output_type": "execute_result"
    }
   ],
   "source": [
    "gene_fmri_corr.shape"
   ]
  },
  {
   "cell_type": "code",
   "execution_count": 257,
   "id": "bc43607d-97bd-4172-8557-a9511fbaeb9d",
   "metadata": {
    "tags": []
   },
   "outputs": [
    {
     "data": {
      "text/plain": [
       "(429, 13)"
      ]
     },
     "execution_count": 257,
     "metadata": {},
     "output_type": "execute_result"
    }
   ],
   "source": [
    "#match non-nan subjects in gene_fmri_corr\n",
    "X_use = gene_fmri_corr[:,good_subjects]\n",
    "X_use = X_use.transpose() #match column row size with Y_use\n",
    "X_use.shape"
   ]
  },
  {
   "cell_type": "code",
   "execution_count": 258,
   "id": "6c48edf0-be7a-401a-a298-c2fce7e0a2a0",
   "metadata": {
    "tags": []
   },
   "outputs": [],
   "source": [
    "#perform multivariate linear regression\n",
    "regression =  linear_model.LinearRegression(normalize=True)\n",
    "linear_regression = regression.fit(X_use,Y_use) "
   ]
  },
  {
   "cell_type": "code",
   "execution_count": 259,
   "id": "e9b14c21-ace8-41d6-b19c-81cc90489e23",
   "metadata": {},
   "outputs": [
    {
     "data": {
      "text/plain": [
       "(429, 13)"
      ]
     },
     "execution_count": 259,
     "metadata": {},
     "output_type": "execute_result"
    }
   ],
   "source": [
    "X_use.shape # Stuff we use to predict"
   ]
  },
  {
   "cell_type": "code",
   "execution_count": 260,
   "id": "702e7125-b05e-4066-af63-4e44d6f813e4",
   "metadata": {},
   "outputs": [
    {
     "data": {
      "text/plain": [
       "(429,)"
      ]
     },
     "execution_count": 260,
     "metadata": {},
     "output_type": "execute_result"
    }
   ],
   "source": [
    "Y_use.shape # Stuff we want to predict"
   ]
  },
  {
   "cell_type": "code",
   "execution_count": 261,
   "id": "33353965-56de-48ff-aa34-a494eee1e063",
   "metadata": {},
   "outputs": [],
   "source": [
    "Y_use_hat = linear_regression.predict(X_use)"
   ]
  },
  {
   "cell_type": "code",
   "execution_count": 185,
   "id": "a7c0c196-8369-47be-ac50-dbd6f0758399",
   "metadata": {},
   "outputs": [
    {
     "data": {
      "image/png": "[encoded data removed]",
      "text/plain": [
       "<Figure size 432x288 with 1 Axes>"
      ]
     },
     "metadata": {
      "needs_background": "light"
     },
     "output_type": "display_data"
    }
   ],
   "source": [
    "#scatter plot for ados_total\n",
    "plt.scatter(Y_use,Y_use_hat,color='green')\n",
    "plt.title('ADOS TOTAL')\n",
    "plt.xlabel('Actual Score')\n",
    "plt.ylabel('Predicted Score')\n",
    "plt.show()"
   ]
  },
  {
   "cell_type": "code",
   "execution_count": 195,
   "id": "289858d2-e826-43b1-9894-cfb1bb435c2f",
   "metadata": {},
   "outputs": [
    {
     "data": {
      "image/png": "[encoded data removed]",
      "text/plain": [
       "<Figure size 432x288 with 1 Axes>"
      ]
     },
     "metadata": {
      "needs_background": "light"
     },
     "output_type": "display_data"
    }
   ],
   "source": [
    "#scatter plot for ados_comm\n",
    "plt.scatter(Y_use,Y_use_hat,color='navy')\n",
    "plt.title('ADOS COMM')\n",
    "plt.xlabel('Actual Score')\n",
    "plt.ylabel('Predicted Score')\n",
    "plt.show()"
   ]
  },
  {
   "cell_type": "code",
   "execution_count": 206,
   "id": "ac4d7199-7fa2-4133-9ce7-0662f8489a34",
   "metadata": {},
   "outputs": [
    {
     "data": {
      "image/png": "[encoded data removed]",
      "text/plain": [
       "<Figure size 432x288 with 1 Axes>"
      ]
     },
     "metadata": {
      "needs_background": "light"
     },
     "output_type": "display_data"
    }
   ],
   "source": [
    "#scatter plot for ados_social\n",
    "plt.scatter(Y_use,Y_use_hat,color='c')\n",
    "plt.title('ADOS SOCIAL')\n",
    "plt.xlabel('Actual Score')\n",
    "plt.ylabel('Predicted Score')\n",
    "plt.show()"
   ]
  },
  {
   "cell_type": "code",
   "execution_count": 217,
   "id": "ce733584-08e3-4017-a6df-dc89f47167e3",
   "metadata": {},
   "outputs": [
    {
     "data": {
      "image/png": "[encoded data removed]",
      "text/plain": [
       "<Figure size 432x288 with 1 Axes>"
      ]
     },
     "metadata": {
      "needs_background": "light"
     },
     "output_type": "display_data"
    }
   ],
   "source": [
    "#scatter plot for ados_rrb\n",
    "plt.scatter(Y_use,Y_use_hat,color='purple')\n",
    "plt.title('ADOS RRB')\n",
    "plt.xlabel('Actual Score')\n",
    "plt.ylabel('Predicted Score')\n",
    "plt.show()"
   ]
  },
  {
   "cell_type": "code",
   "execution_count": 166,
   "id": "1980d0a0-5808-41a6-9b84-83e653997f0e",
   "metadata": {},
   "outputs": [
    {
     "name": "stdout",
     "output_type": "stream",
     "text": [
      "2.651116934212927\n"
     ]
    }
   ],
   "source": [
    "#variance explained for ados_total\n",
    "from sklearn.metrics import explained_variance_score\n",
    "total = explained_variance_score(Y_use,Y_use_hat)*100\n",
    "print(total)"
   ]
  },
  {
   "cell_type": "code",
   "execution_count": 156,
   "id": "15634b13-b862-4007-948b-4e3fa27afe31",
   "metadata": {},
   "outputs": [
    {
     "name": "stdout",
     "output_type": "stream",
     "text": [
      "1.369006035359288\n"
     ]
    }
   ],
   "source": [
    "#variance explained for ados_comm\n",
    "from sklearn.metrics import explained_variance_score\n",
    "comm = explained_variance_score(Y_use,Y_use_hat)*100\n",
    "print(comm)"
   ]
  },
  {
   "cell_type": "code",
   "execution_count": 146,
   "id": "f2fdda78-1604-4c93-8b26-2f1a7ad729a4",
   "metadata": {},
   "outputs": [
    {
     "name": "stdout",
     "output_type": "stream",
     "text": [
      "4.331740939194462\n"
     ]
    }
   ],
   "source": [
    "#variance explained for ados_social\n",
    "from sklearn.metrics import explained_variance_score\n",
    "social = explained_variance_score(Y_use,Y_use_hat)*100\n",
    "print(social)"
   ]
  },
  {
   "cell_type": "code",
   "execution_count": 134,
   "id": "020ffb1a-4aef-424b-b622-4879a569d977",
   "metadata": {},
   "outputs": [
    {
     "name": "stdout",
     "output_type": "stream",
     "text": [
      "2.0557265540216085\n"
     ]
    }
   ],
   "source": [
    "#variance explained for ados_rrb\n",
    "from sklearn.metrics import explained_variance_score\n",
    "rrb = explained_variance_score(Y_use,Y_use_hat)*100\n",
    "print(rrb)"
   ]
  },
  {
   "cell_type": "code",
   "execution_count": 219,
   "id": "dcb8c8fb-8ec6-441b-ac31-a47f998306e6",
   "metadata": {},
   "outputs": [
    {
     "data": {
      "text/plain": [
       "Text(0.5, 0, 'Symptom')"
      ]
     },
     "execution_count": 219,
     "metadata": {},
     "output_type": "execute_result"
    },
    {
     "data": {
      "image/png": "[encoded data removed]",
      "text/plain": [
       "<Figure size 1080x360 with 1 Axes>"
      ]
     },
     "metadata": {
      "needs_background": "light"
     },
     "output_type": "display_data"
    }
   ],
   "source": [
    "fig = plt.figure(figsize=(15,5))\n",
    "ax = fig.add_axes([0,0,1,1])\n",
    "ados_label = ['ados_total','ados_social','ados_comm','ados_rrb']\n",
    "var_explained = total, comm, social, rrb\n",
    "plt.bar(ados_label,var_explained,color='lightcoral')\n",
    "plt.title('ADOS Variance Explained',color='firebrick')\n",
    "plt.ylabel('Percent Variance Explained',color='firebrick')\n",
    "plt.xlabel('Symptom',color='firebrick')"
   ]
  },
  {
   "cell_type": "code",
   "execution_count": 175,
   "id": "04f1fa9f-453f-42e7-8913-8e3d713df526",
   "metadata": {},
   "outputs": [
    {
     "name": "stdout",
     "output_type": "stream",
     "text": [
      "ados_total\n",
      "\n",
      "NLGN4Y,-12.162957127918375\n",
      "POGZ,-4.388783843158301\n",
      "FMR1,5.690059081352753\n",
      "CNTNAP2,4.4417833940699545\n",
      "NLGN3,-3.2014188909157144\n",
      "NLGN4X,-1.6916949878879142\n",
      "MECP2,4.002212381346231\n",
      "MET,0.7904133923030469\n",
      "OXTR,2.32897755697988\n",
      "RELN,4.409249520973453\n",
      "SHANK3,1.282086436105105\n",
      "SLC6A4,3.610673945733059\n",
      "NRXN1,-2.366335969493219\n"
     ]
    }
   ],
   "source": [
    "#correlation coefficents for ados_total\n",
    "coefficient = regression.coef_\n",
    "labels = ['NLGN4Y', 'POGZ', 'FMR1', 'CNTNAP2', 'NLGN3','NLGN4X', 'MECP2', 'MET', 'OXTR', 'RELN','SHANK3', 'SLC6A4', 'NRXN1']\n",
    "print(column)\n",
    "print()\n",
    "for i in range(0,13):\n",
    "    print(f'{labels[i]},{coefficient[i]}')"
   ]
  },
  {
   "cell_type": "code",
   "execution_count": 178,
   "id": "252c24d4-1bbc-4e49-8a60-34229e61df01",
   "metadata": {},
   "outputs": [
    {
     "data": {
      "image/png": "[encoded data removed]",
      "text/plain": [
       "<Figure size 1080x360 with 1 Axes>"
      ]
     },
     "metadata": {
      "needs_background": "light"
     },
     "output_type": "display_data"
    }
   ],
   "source": [
    "fig = plt.figure(figsize=(15,5))\n",
    "ax = fig.add_axes([0,0,1,1])\n",
    "plt.bar(labels,coefficient,color='green')\n",
    "plt.title('Gene Correlation Coefficients for ADOS TOTAL',color='teal')\n",
    "plt.ylabel('Correlation Coefficient',color='teal')\n",
    "plt.xlabel('Gene',color='teal')\n",
    "plt.show()"
   ]
  },
  {
   "cell_type": "code",
   "execution_count": 161,
   "id": "10081490-6c6f-4296-bac8-395d4cbbeff6",
   "metadata": {},
   "outputs": [
    {
     "name": "stdout",
     "output_type": "stream",
     "text": [
      "ados_comm\n",
      "\n",
      "NLGN4Y,-1.0459985398891152\n",
      "POGZ,0.4416499274701452\n",
      "FMR1,0.8676739276128245\n",
      "CNTNAP2,-0.03576914448953731\n",
      "NLGN3,-0.02514412607104068\n",
      "NLGN4X,1.9137141436651965\n",
      "MECP2,-0.21080521919493042\n",
      "MET,0.41651689879626635\n",
      "OXTR,0.8377970017771396\n",
      "RELN,0.7388025614186521\n",
      "SHANK3,-1.934773715552239\n",
      "SLC6A4,1.085506048225736\n",
      "NRXN1,-0.3489912999635063\n"
     ]
    }
   ],
   "source": [
    "#correlation coefficents for ados_comm\n",
    "coefficient = regression.coef_\n",
    "labels = ['NLGN4Y', 'POGZ', 'FMR1', 'CNTNAP2', 'NLGN3','NLGN4X', 'MECP2', 'MET', 'OXTR', 'RELN','SHANK3', 'SLC6A4', 'NRXN1']\n",
    "print(column)\n",
    "print()\n",
    "for i in range(0,13):\n",
    "    print(f'{labels[i]},{coefficient[i]}')"
   ]
  },
  {
   "cell_type": "code",
   "execution_count": 165,
   "id": "3c991cc5-96ab-4c71-a38c-997c6c5f3084",
   "metadata": {},
   "outputs": [
    {
     "data": {
      "image/png": "[encoded data removed]",
      "text/plain": [
       "<Figure size 1080x360 with 1 Axes>"
      ]
     },
     "metadata": {
      "needs_background": "light"
     },
     "output_type": "display_data"
    }
   ],
   "source": [
    "fig = plt.figure(figsize=(15,5))\n",
    "ax = fig.add_axes([0,0,1,1])\n",
    "plt.bar(labels,coefficient,color='navy')\n",
    "plt.title('Gene Correlation Coefficients for ADOS COMM',color='b')\n",
    "plt.ylabel('Correlation Coefficient',color='b')\n",
    "plt.xlabel('Gene',color='b')\n",
    "plt.show()"
   ]
  },
  {
   "cell_type": "code",
   "execution_count": 145,
   "id": "286a80f4-4f27-4652-93bf-67600c1ef7af",
   "metadata": {},
   "outputs": [
    {
     "name": "stdout",
     "output_type": "stream",
     "text": [
      "ados_social\n",
      "\n",
      "NLGN4Y,-10.19251810368778\n",
      "POGZ,-4.108129804137099\n",
      "FMR1,5.1762636158632365\n",
      "CNTNAP2,3.509348071857971\n",
      "NLGN3,-3.0533951817935483\n",
      "NLGN4X,-3.6540614773203832\n",
      "MECP2,3.63208463744494\n",
      "MET,0.46627934915220276\n",
      "OXTR,2.0933506053947615\n",
      "RELN,4.2237793382214806\n",
      "SHANK3,1.5632638471674585\n",
      "SLC6A4,3.6362813304514314\n",
      "NRXN1,-1.9123520034052086\n"
     ]
    }
   ],
   "source": [
    "#correlation coefficents for ados_social\n",
    "coefficient = regression.coef_\n",
    "labels = ['NLGN4Y', 'POGZ', 'FMR1', 'CNTNAP2', 'NLGN3','NLGN4X', 'MECP2', 'MET', 'OXTR', 'RELN','SHANK3', 'SLC6A4', 'NRXN1']\n",
    "print(column)\n",
    "print()\n",
    "for i in range(0,13):\n",
    "    print(f'{labels[i]},{coefficient[i]}')"
   ]
  },
  {
   "cell_type": "code",
   "execution_count": 151,
   "id": "adb3075c-a604-404d-a915-dce212712f9a",
   "metadata": {},
   "outputs": [
    {
     "data": {
      "image/png": "[encoded data removed]",
      "text/plain": [
       "<Figure size 1080x360 with 1 Axes>"
      ]
     },
     "metadata": {
      "needs_background": "light"
     },
     "output_type": "display_data"
    }
   ],
   "source": [
    "fig = plt.figure(figsize=(15,5))\n",
    "ax = fig.add_axes([0,0,1,1])\n",
    "plt.bar(labels,coefficient,color='m')\n",
    "plt.title('Gene Correlation Coefficients for ADOS SOCIAL',color='purple')\n",
    "plt.ylabel('Correlation Coefficient',color='purple')\n",
    "plt.xlabel('Gene',color='purple')\n",
    "plt.show()"
   ]
  },
  {
   "cell_type": "code",
   "execution_count": 221,
   "id": "d6d27786-1291-4260-afcb-a16fff3f11cf",
   "metadata": {},
   "outputs": [
    {
     "name": "stdout",
     "output_type": "stream",
     "text": [
      "ados_rrb\n",
      "\n",
      "NLGN4Y,-2.8869322783922113\n",
      "POGZ,-2.847030619933946\n",
      "FMR1,0.07752391434545994\n",
      "CNTNAP2,0.3074055365213848\n",
      "NLGN3,0.3232231403622317\n",
      "NLGN4X,1.9006615653931531\n",
      "MECP2,-1.163695193892065\n",
      "MET,-1.2176954053367899\n",
      "OXTR,0.7053037542222543\n",
      "RELN,-0.5651829277978802\n",
      "SHANK3,1.8234551122836002\n",
      "SLC6A4,-0.5520593823887985\n",
      "NRXN1,1.3601295030463723\n"
     ]
    }
   ],
   "source": [
    "#correlation coefficents for ados_rrb\n",
    "coefficient = regression.coef_\n",
    "labels = ['NLGN4Y', 'POGZ', 'FMR1', 'CNTNAP2', 'NLGN3','NLGN4X', 'MECP2', 'MET', 'OXTR', 'RELN','SHANK3', 'SLC6A4', 'NRXN1']\n",
    "print(column)\n",
    "print()\n",
    "for i in range(0,13):\n",
    "    print(f'{labels[i]},{coefficient[i]}')"
   ]
  },
  {
   "cell_type": "code",
   "execution_count": 227,
   "id": "003879d7-de7b-4b52-9d45-404850c8c706",
   "metadata": {},
   "outputs": [
    {
     "data": {
      "image/png": "[encoded data removed]",
      "text/plain": [
       "<Figure size 1080x360 with 1 Axes>"
      ]
     },
     "metadata": {
      "needs_background": "light"
     },
     "output_type": "display_data"
    }
   ],
   "source": [
    "fig = plt.figure(figsize=(15,5))\n",
    "ax = fig.add_axes([0,0,1,1])\n",
    "plt.bar(labels,coefficient,color='rosybrown')\n",
    "plt.title('Gene Correlation Coefficients for ADOS RRB',color='saddlebrown')\n",
    "plt.ylabel('Correlation Coefficient',color='saddlebrown')\n",
    "plt.xlabel('Gene',color='saddlebrown')\n",
    "plt.show()"
   ]
  },
  {
   "cell_type": "code",
   "execution_count": 262,
   "id": "ecfd4c4f-5a3c-42a1-a343-b2121aa1e3bd",
   "metadata": {},
   "outputs": [
    {
     "name": "stdout",
     "output_type": "stream",
     "text": [
      "ADOS_TOTAL\n",
      "                            OLS Regression Results                            \n",
      "==============================================================================\n",
      "Dep. Variable:                      y   R-squared:                       0.027\n",
      "Model:                            OLS   Adj. R-squared:                  0.024\n",
      "Method:                 Least Squares   F-statistic:                     11.63\n",
      "Date:                Sat, 15 Oct 2022   Prob (F-statistic):           0.000711\n",
      "Time:                        15:32:55   Log-Likelihood:                -405.35\n",
      "No. Observations:                 429   AIC:                             814.7\n",
      "Df Residuals:                     427   BIC:                             822.8\n",
      "Df Model:                           1                                         \n",
      "Covariance Type:            nonrobust                                         \n",
      "==============================================================================\n",
      "                 coef    std err          t      P>|t|      [0.025      0.975]\n",
      "------------------------------------------------------------------------------\n",
      "const         10.9103      0.092    118.345      0.000      10.729      11.092\n",
      "x1             0.0265      0.008      3.410      0.001       0.011       0.042\n",
      "==============================================================================\n",
      "Omnibus:                        9.335   Durbin-Watson:                   1.874\n",
      "Prob(Omnibus):                  0.009   Jarque-Bera (JB):                9.347\n",
      "Skew:                           0.329   Prob(JB):                      0.00934\n",
      "Kurtosis:                       3.299   Cond. No.                         36.5\n",
      "==============================================================================\n",
      "\n",
      "Notes:\n",
      "[1] Standard Errors assume that the covariance matrix of the errors is correctly specified.\n"
     ]
    }
   ],
   "source": [
    "#significance of coefficients for ados_total\n",
    "print('ADOS_TOTAL')\n",
    "X2 = sm.add_constant(Y_use)\n",
    "est = sm.OLS(Y_use_hat, X2)\n",
    "est2 = est.fit()\n",
    "print(est2.summary())"
   ]
  },
  {
   "cell_type": "code",
   "execution_count": 252,
   "id": "b838ef8e-9693-4536-9736-554e7158529d",
   "metadata": {},
   "outputs": [
    {
     "name": "stdout",
     "output_type": "stream",
     "text": [
      "ADOS_COMM\n",
      "                            OLS Regression Results                            \n",
      "==============================================================================\n",
      "Dep. Variable:                      y   R-squared:                       0.014\n",
      "Model:                            OLS   Adj. R-squared:                  0.011\n",
      "Method:                 Least Squares   F-statistic:                     5.677\n",
      "Date:                Sat, 15 Oct 2022   Prob (F-statistic):             0.0176\n",
      "Time:                        15:32:28   Log-Likelihood:                 110.04\n",
      "No. Observations:                 411   AIC:                            -216.1\n",
      "Df Residuals:                     409   BIC:                            -208.0\n",
      "Df Model:                           1                                         \n",
      "Covariance Type:            nonrobust                                         \n",
      "==============================================================================\n",
      "                 coef    std err          t      P>|t|      [0.025      0.975]\n",
      "------------------------------------------------------------------------------\n",
      "const          3.5109      0.022    156.680      0.000       3.467       3.555\n",
      "x1             0.0137      0.006      2.383      0.018       0.002       0.025\n",
      "==============================================================================\n",
      "Omnibus:                        3.133   Durbin-Watson:                   2.064\n",
      "Prob(Omnibus):                  0.209   Jarque-Bera (JB):                2.413\n",
      "Skew:                          -0.016   Prob(JB):                        0.299\n",
      "Kurtosis:                       2.626   Cond. No.                         10.1\n",
      "==============================================================================\n",
      "\n",
      "Notes:\n",
      "[1] Standard Errors assume that the covariance matrix of the errors is correctly specified.\n"
     ]
    }
   ],
   "source": [
    "#significance of coefficients for ados_comm\n",
    "print('ADOS_COMM')\n",
    "X2 = sm.add_constant(Y_use)\n",
    "est = sm.OLS(Y_use_hat, X2)\n",
    "est2 = est.fit()\n",
    "print(est2.summary())"
   ]
  },
  {
   "cell_type": "code",
   "execution_count": 242,
   "id": "2e725fab-e7c7-4631-9760-969d5fe0d352",
   "metadata": {},
   "outputs": [
    {
     "name": "stdout",
     "output_type": "stream",
     "text": [
      "ADOS_SOCIAL\n",
      "                            OLS Regression Results                            \n",
      "==============================================================================\n",
      "Dep. Variable:                      y   R-squared:                       0.043\n",
      "Model:                            OLS   Adj. R-squared:                  0.041\n",
      "Method:                 Least Squares   F-statistic:                     18.56\n",
      "Date:                Sat, 15 Oct 2022   Prob (F-statistic):           2.06e-05\n",
      "Time:                        15:31:54   Log-Likelihood:                -342.47\n",
      "No. Observations:                 412   AIC:                             688.9\n",
      "Df Residuals:                     410   BIC:                             697.0\n",
      "Df Model:                           1                                         \n",
      "Covariance Type:            nonrobust                                         \n",
      "==============================================================================\n",
      "                 coef    std err          t      P>|t|      [0.025      0.975]\n",
      "------------------------------------------------------------------------------\n",
      "const          7.2425      0.081     89.518      0.000       7.083       7.401\n",
      "x1             0.0433      0.010      4.309      0.000       0.024       0.063\n",
      "==============================================================================\n",
      "Omnibus:                        5.762   Durbin-Watson:                   1.872\n",
      "Prob(Omnibus):                  0.056   Jarque-Bera (JB):                5.681\n",
      "Skew:                           0.234   Prob(JB):                       0.0584\n",
      "Kurtosis:                       3.334   Cond. No.                         24.1\n",
      "==============================================================================\n",
      "\n",
      "Notes:\n",
      "[1] Standard Errors assume that the covariance matrix of the errors is correctly specified.\n"
     ]
    }
   ],
   "source": [
    "#significance of coefficients for ados_social\n",
    "print('ADOS_SOCIAL')\n",
    "X2 = sm.add_constant(Y_use)\n",
    "est = sm.OLS(Y_use_hat, X2)\n",
    "est2 = est.fit()\n",
    "print(est2.summary())"
   ]
  },
  {
   "cell_type": "code",
   "execution_count": 232,
   "id": "6769bc5b-7136-4791-a8e9-fd0494f03710",
   "metadata": {},
   "outputs": [
    {
     "name": "stdout",
     "output_type": "stream",
     "text": [
      "ADOS_RRB\n",
      "                            OLS Regression Results                            \n",
      "==============================================================================\n",
      "Dep. Variable:                      y   R-squared:                       0.021\n",
      "Model:                            OLS   Adj. R-squared:                  0.018\n",
      "Method:                 Least Squares   F-statistic:                     7.829\n",
      "Date:                Sat, 15 Oct 2022   Prob (F-statistic):            0.00541\n",
      "Time:                        15:30:59   Log-Likelihood:                 40.990\n",
      "No. Observations:                 375   AIC:                            -77.98\n",
      "Df Residuals:                     373   BIC:                            -70.13\n",
      "Df Model:                           1                                         \n",
      "Covariance Type:            nonrobust                                         \n",
      "==============================================================================\n",
      "                 coef    std err          t      P>|t|      [0.025      0.975]\n",
      "------------------------------------------------------------------------------\n",
      "const          1.8100      0.018    102.720      0.000       1.775       1.845\n",
      "x1             0.0206      0.007      2.798      0.005       0.006       0.035\n",
      "==============================================================================\n",
      "Omnibus:                        5.339   Durbin-Watson:                   2.080\n",
      "Prob(Omnibus):                  0.069   Jarque-Bera (JB):                5.376\n",
      "Skew:                           0.268   Prob(JB):                       0.0680\n",
      "Kurtosis:                       2.762   Cond. No.                         4.18\n",
      "==============================================================================\n",
      "\n",
      "Notes:\n",
      "[1] Standard Errors assume that the covariance matrix of the errors is correctly specified.\n"
     ]
    }
   ],
   "source": [
    "#significance of coefficients for ados_rrb\n",
    "print('ADOS_RRB')\n",
    "X2 = sm.add_constant(Y_use)\n",
    "est = sm.OLS(Y_use_hat, X2)\n",
    "est2 = est.fit()\n",
    "print(est2.summary())"
   ]
  },
  {
   "cell_type": "code",
   "execution_count": null,
   "id": "1c0385d4-4600-49ae-8604-54b319fc5330",
   "metadata": {},
   "outputs": [],
   "source": []
  },
  {
   "cell_type": "code",
   "execution_count": null,
   "id": "ffee9df6-ec7b-44f5-b1dc-634184adb5af",
   "metadata": {},
   "outputs": [],
   "source": []
  }
 ],
 "metadata": {
  "kernelspec": {
   "display_name": "Python 3",
   "language": "python",
   "name": "python3"
  },
  "language_info": {
   "codemirror_mode": {
    "name": "ipython",
    "version": 3
   },
   "file_extension": ".py",
   "mimetype": "text/x-python",
   "name": "python",
   "nbconvert_exporter": "python",
   "pygments_lexer": "ipython3",
   "version": "3.8.8"
  }
 },
 "nbformat": 4,
 "nbformat_minor": 5
}
