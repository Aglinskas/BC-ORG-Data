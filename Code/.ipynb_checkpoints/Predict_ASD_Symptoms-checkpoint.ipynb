{
 "cells": [
  {
   "cell_type": "code",
   "execution_count": null,
   "id": "ff7ac5c5-3cd7-4880-8ea7-931743f9855c",
   "metadata": {},
   "outputs": [],
   "source": [
    "#Idea 2: Use 13-long gene-diffmat corr to predict symptoms \n",
    "#Plot beta-weights (use 13 corr with cmat as control) \n",
    "#See symptoms prediction accuracy (diff > cmat)"
   ]
  },
  {
   "cell_type": "code",
   "execution_count": null,
   "id": "32a5b3d3-91de-489c-baec-a4b5a555269b",
   "metadata": {},
   "outputs": [],
   "source": [
    "#recon_asd_diffmats - 699x51x51. -diffmats for ASD subs\n",
    "#recon_asd_mu - 699x51x51 - connectivity matrices for ASD\n",
    "#recon_td_mu - 859x51x51 - connectivity matrices for TD\n",
    "#df_patients_S699.csv - behavioral data for ASDs\n",
    "#df_controls_S859.csv - behavioral data for TDs"
   ]
  },
  {
   "cell_type": "code",
   "execution_count": 1,
   "id": "0af0bfc2-0d6a-41a4-9f0f-57603f99f701",
   "metadata": {},
   "outputs": [],
   "source": [
    "import pandas as pd\n",
    "import numpy as np\n",
    "import matplotlib.pyplot as plt\n",
    "from sklearn import linear_model"
   ]
  },
  {
   "cell_type": "code",
   "execution_count": 12,
   "id": "1cc925ff-2458-44e9-a440-e78a5fe1520c",
   "metadata": {},
   "outputs": [],
   "source": [
    "df = pd.read_csv('/mmfs1/data/pijarj/Data4Julianna/df_patients_S699.csv')\n",
    "diffmat = np.load('/mmfs1/data/pijarj/Data4Julianna/recon_asd_diffmats.npz')"
   ]
  },
  {
   "cell_type": "code",
   "execution_count": 13,
   "id": "7ce91731-742f-43c8-9949-bd8be8821b76",
   "metadata": {},
   "outputs": [
    {
     "data": {
      "text/plain": [
       "(699, 36)"
      ]
     },
     "execution_count": 13,
     "metadata": {},
     "output_type": "execute_result"
    }
   ],
   "source": [
    "df.shape"
   ]
  },
  {
   "cell_type": "code",
   "execution_count": 27,
   "id": "673d17aa-9ed0-4449-900f-ebbd2fa99860",
   "metadata": {},
   "outputs": [
    {
     "name": "stdout",
     "output_type": "stream",
     "text": [
      "data\n",
      "[[[ 2.78735757e-02  1.66172266e-01 -2.51911283e-02 ...  5.88830113e-02\n",
      "    7.92211294e-02  2.11150885e-01]\n",
      "  [ 1.31022751e-01  1.07454658e-02 -5.76174855e-02 ...  1.64166451e-01\n",
      "   -1.02163255e-01  1.16797209e-01]\n",
      "  [ 4.05353308e-03 -3.13936472e-02  9.64838266e-03 ...  4.98070121e-02\n",
      "   -1.16656810e-01 -9.21940207e-02]\n",
      "  ...\n",
      "  [ 9.96450782e-02 -1.87993646e-02 -3.75220776e-02 ...  1.42851472e-02\n",
      "    3.02980274e-01  1.10957623e-01]\n",
      "  [ 1.08069777e-02 -1.02820396e-01 -2.36433089e-01 ...  8.05297494e-02\n",
      "    9.70071554e-03  3.03511620e-02]\n",
      "  [ 3.74618173e-02 -5.54964542e-02 -1.05417907e-01 ...  5.86465001e-02\n",
      "    6.75130486e-02  3.17770243e-03]]\n",
      "\n",
      " [[ 1.11330152e-02 -1.21544242e-01  1.41837597e-02 ... -1.53045654e-01\n",
      "   -1.39656931e-01 -4.12333012e-02]\n",
      "  [-2.03359008e-01  1.77644491e-02 -3.36191058e-02 ... -3.92953157e-02\n",
      "   -1.06126428e-01 -2.89333463e-02]\n",
      "  [-1.27978265e-01 -2.79082060e-02  2.13658810e-02 ... -1.64343625e-01\n",
      "   -2.62610674e-01 -2.02333570e-01]\n",
      "  ...\n",
      "  [-1.04409784e-01  7.42858648e-03 -1.50536388e-01 ... -8.26215744e-03\n",
      "   -1.58936799e-01 -1.40940070e-01]\n",
      "  [-1.11617446e-02 -1.60915852e-02 -1.54394567e-01 ... -2.68744946e-01\n",
      "    1.26641989e-03  4.35185432e-02]\n",
      "  [ 5.98287582e-03 -7.87667632e-02 -2.72537798e-01 ... -3.61151576e-01\n",
      "    4.94132638e-02  1.06964707e-02]]\n",
      "\n",
      " [[ 5.08356094e-03 -5.58901429e-02 -7.70473480e-03 ... -1.08948350e-02\n",
      "    8.16427469e-02  1.76253915e-02]\n",
      "  [-9.04166698e-03  3.41105461e-03 -1.03031397e-02 ... -8.23384523e-03\n",
      "    6.95841312e-02  2.55176723e-02]\n",
      "  [-4.58180904e-03 -2.41500735e-02  1.41810179e-02 ...  1.26361191e-01\n",
      "    1.85718626e-01  1.05151087e-01]\n",
      "  ...\n",
      "  [ 1.70529783e-01  7.45516419e-02  7.06713200e-02 ...  2.23114491e-02\n",
      "    6.15540743e-02  1.65283680e-02]\n",
      "  [ 4.69628572e-02  7.90705085e-02 -7.87836909e-02 ...  8.59917998e-02\n",
      "    1.58202052e-02  1.21900856e-01]\n",
      "  [-1.03303552e-01 -1.44001722e-01 -3.67420912e-02 ...  2.53012776e-02\n",
      "    1.34996057e-01  1.22701526e-02]]\n",
      "\n",
      " ...\n",
      "\n",
      " [[ 9.75728035e-05  6.58203661e-02  4.19234037e-02 ... -5.21377623e-02\n",
      "   -3.97481918e-02 -4.61106300e-02]\n",
      "  [ 4.66817617e-03  4.62645292e-03 -3.95807624e-03 ... -1.08794689e-01\n",
      "   -8.64355862e-02 -1.30856395e-01]\n",
      "  [-1.92707777e-03  4.36660051e-02  8.29517841e-04 ...  4.10023034e-02\n",
      "    2.30247378e-02  3.81225944e-02]\n",
      "  ...\n",
      "  [-9.31030512e-03 -5.04097939e-02  5.08089364e-02 ...  4.78637218e-03\n",
      "    2.94309855e-02  4.84320521e-02]\n",
      "  [-1.31330192e-02 -8.47816467e-02  1.56969100e-01 ...  1.00716770e-01\n",
      "    8.36670399e-04  3.01535130e-02]\n",
      "  [-6.76131845e-02 -7.36539364e-02  1.46971554e-01 ...  8.12966824e-02\n",
      "    1.27757192e-02  6.63995743e-04]]\n",
      "\n",
      " [[ 2.32781768e-02  8.72812271e-02  5.96040487e-03 ...  1.30921185e-01\n",
      "    9.06178355e-02  4.36324477e-02]\n",
      "  [ 1.05391979e-01  1.03736520e-02  8.50391388e-03 ...  1.65180564e-02\n",
      "   -4.72033620e-02 -6.64901733e-03]\n",
      "  [ 5.03880382e-02  8.62127542e-03  8.49378109e-03 ...  3.07272971e-02\n",
      "    1.37916803e-02 -8.06635618e-03]\n",
      "  ...\n",
      "  [ 1.06387794e-01 -2.23590136e-02  6.73110485e-02 ...  1.34093761e-02\n",
      "    1.20822847e-01  1.32108152e-01]\n",
      "  [ 7.26754069e-02 -5.15961647e-02  3.74668241e-02 ...  3.02588344e-02\n",
      "    1.69621706e-02  8.15396309e-02]\n",
      "  [ 5.93092442e-02 -2.53222585e-02  3.23055387e-02 ...  1.54162586e-01\n",
      "    1.37648940e-01  1.15551353e-02]]\n",
      "\n",
      " [[-2.60716677e-03 -3.84520292e-02  4.78923917e-02 ... -5.42607903e-03\n",
      "    1.68372542e-01 -7.31459260e-03]\n",
      "  [-6.75289035e-02  8.68141651e-04 -6.09591007e-02 ... -1.65122151e-02\n",
      "    1.37914509e-01 -6.56351149e-02]\n",
      "  [ 3.66948843e-02 -6.44099116e-02  1.28620863e-03 ...  2.96911299e-02\n",
      "    1.58209383e-01  4.44123447e-02]\n",
      "  ...\n",
      "  [ 1.08948886e-01  3.79737616e-02  1.90581083e-02 ...  5.21719456e-03\n",
      "   -6.35973811e-02 -1.57493621e-01]\n",
      "  [ 1.29881829e-01  1.21351600e-01  2.95041502e-02 ... -2.50592828e-02\n",
      "    1.01107359e-03 -1.25191569e-01]\n",
      "  [-3.37625742e-02  5.00144064e-02  1.97402537e-02 ... -1.51747227e-01\n",
      "   -1.20915830e-01 -6.31809235e-05]]]\n"
     ]
    }
   ],
   "source": [
    "diffmat = np.load('/mmfs1/data/pijarj/Data4Julianna/recon_asd_diffmats.npz')\n",
    "lst = diffmat.files\n",
    "for item in lst:\n",
    "    print(item)\n",
    "    print(diffmat[item])"
   ]
  },
  {
   "cell_type": "code",
   "execution_count": 110,
   "id": "d251d7d4-b9dc-4cb7-a15c-c5ea0230b830",
   "metadata": {},
   "outputs": [],
   "source": [
    "#delete columns with strings\n",
    "copy_df = pd.read_csv('/mmfs1/data/pijarj/BC-ORG-Data/Data/df_patients_S699_copy.csv')\n",
    "del copy_df['handedness_cat']\n",
    "del copy_df['fiq_test']\n",
    "del copy_df['viq_test']\n",
    "del copy_df['piq_test']\n",
    "del copy_df['comorbidity']\n",
    "del copy_df['dataset']\n",
    "del copy_df['sub']\n",
    "del copy_df['handedness_score']\n",
    "copy_df.to_csv('/mmfs1/data/pijarj/BC-ORG-Data/Data/df_patients_S699_copy.csv')\n",
    "#ValueError: Input contains NaN, infinity or a value too large for dtype('float64')"
   ]
  },
  {
   "cell_type": "code",
   "execution_count": 101,
   "id": "b4e0ee31-7cbb-4fe5-beab-3b7dba781d51",
   "metadata": {},
   "outputs": [],
   "source": [
    "#make age column int\n",
    "copy_df = pd.read_csv('/mmfs1/data/pijarj/BC-ORG-Data/Data/df_patients_S699_copy.csv')\n",
    "copy_df['age'] = df['age'].apply(np.int64)\n",
    "copy_df.to_csv('/mmfs1/data/pijarj/BC-ORG-Data/Data/df_patients_S699_copy.csv')"
   ]
  },
  {
   "cell_type": "code",
   "execution_count": 109,
   "id": "81e30364-e98d-434b-a3fd-e1c5666a2fcd",
   "metadata": {},
   "outputs": [],
   "source": [
    "#fill NaNs with 0\n",
    "copy_df = pd.read_csv('/mmfs1/data/pijarj/BC-ORG-Data/Data/df_patients_S699_copy.csv',na_values='-')\n",
    "copy_df.fillna(0,inplace=True)\n",
    "copy_df.to_csv('/mmfs1/data/pijarj/BC-ORG-Data/Data/df_patients_S699_copy.csv')\n",
    "#results in error: ValueError: Found input variables with inconsistent numbers of samples: [699, 1]"
   ]
  },
  {
   "cell_type": "code",
   "execution_count": null,
   "id": "a3ce1955-abfa-44a4-bfce-5db7c4940d98",
   "metadata": {},
   "outputs": [],
   "source": []
  },
  {
   "cell_type": "code",
   "execution_count": 112,
   "id": "6c48edf0-be7a-401a-a298-c2fce7e0a2a0",
   "metadata": {
    "tags": []
   },
   "outputs": [
    {
     "ename": "ValueError",
     "evalue": "Input contains NaN, infinity or a value too large for dtype('float64').",
     "output_type": "error",
     "traceback": [
      "\u001b[0;31m---------------------------------------------------------------------------\u001b[0m",
      "\u001b[0;31mValueError\u001b[0m                                Traceback (most recent call last)",
      "\u001b[0;32m<ipython-input-112-6d09a0c70d8b>\u001b[0m in \u001b[0;36m<module>\u001b[0;34m\u001b[0m\n\u001b[1;32m      1\u001b[0m \u001b[0mregression\u001b[0m \u001b[0;34m=\u001b[0m  \u001b[0mlinear_model\u001b[0m\u001b[0;34m.\u001b[0m\u001b[0mLinearRegression\u001b[0m\u001b[0;34m(\u001b[0m\u001b[0mnormalize\u001b[0m\u001b[0;34m=\u001b[0m\u001b[0;32mTrue\u001b[0m\u001b[0;34m)\u001b[0m\u001b[0;34m\u001b[0m\u001b[0;34m\u001b[0m\u001b[0m\n\u001b[0;32m----> 2\u001b[0;31m \u001b[0mregression\u001b[0m\u001b[0;34m.\u001b[0m\u001b[0mfit\u001b[0m\u001b[0;34m(\u001b[0m\u001b[0mcopy_df\u001b[0m\u001b[0;34m,\u001b[0m\u001b[0mdiffmat\u001b[0m\u001b[0;34m)\u001b[0m\u001b[0;34m\u001b[0m\u001b[0;34m\u001b[0m\u001b[0m\n\u001b[0m",
      "\u001b[0;32m~/anaconda3/lib/python3.8/site-packages/sklearn/linear_model/_base.py\u001b[0m in \u001b[0;36mfit\u001b[0;34m(self, X, y, sample_weight)\u001b[0m\n\u001b[1;32m    516\u001b[0m         \u001b[0maccept_sparse\u001b[0m \u001b[0;34m=\u001b[0m \u001b[0;32mFalse\u001b[0m \u001b[0;32mif\u001b[0m \u001b[0mself\u001b[0m\u001b[0;34m.\u001b[0m\u001b[0mpositive\u001b[0m \u001b[0;32melse\u001b[0m \u001b[0;34m[\u001b[0m\u001b[0;34m'csr'\u001b[0m\u001b[0;34m,\u001b[0m \u001b[0;34m'csc'\u001b[0m\u001b[0;34m,\u001b[0m \u001b[0;34m'coo'\u001b[0m\u001b[0;34m]\u001b[0m\u001b[0;34m\u001b[0m\u001b[0;34m\u001b[0m\u001b[0m\n\u001b[1;32m    517\u001b[0m \u001b[0;34m\u001b[0m\u001b[0m\n\u001b[0;32m--> 518\u001b[0;31m         X, y = self._validate_data(X, y, accept_sparse=accept_sparse,\n\u001b[0m\u001b[1;32m    519\u001b[0m                                    y_numeric=True, multi_output=True)\n\u001b[1;32m    520\u001b[0m \u001b[0;34m\u001b[0m\u001b[0m\n",
      "\u001b[0;32m~/anaconda3/lib/python3.8/site-packages/sklearn/base.py\u001b[0m in \u001b[0;36m_validate_data\u001b[0;34m(self, X, y, reset, validate_separately, **check_params)\u001b[0m\n\u001b[1;32m    431\u001b[0m                 \u001b[0my\u001b[0m \u001b[0;34m=\u001b[0m \u001b[0mcheck_array\u001b[0m\u001b[0;34m(\u001b[0m\u001b[0my\u001b[0m\u001b[0;34m,\u001b[0m \u001b[0;34m**\u001b[0m\u001b[0mcheck_y_params\u001b[0m\u001b[0;34m)\u001b[0m\u001b[0;34m\u001b[0m\u001b[0;34m\u001b[0m\u001b[0m\n\u001b[1;32m    432\u001b[0m             \u001b[0;32melse\u001b[0m\u001b[0;34m:\u001b[0m\u001b[0;34m\u001b[0m\u001b[0;34m\u001b[0m\u001b[0m\n\u001b[0;32m--> 433\u001b[0;31m                 \u001b[0mX\u001b[0m\u001b[0;34m,\u001b[0m \u001b[0my\u001b[0m \u001b[0;34m=\u001b[0m \u001b[0mcheck_X_y\u001b[0m\u001b[0;34m(\u001b[0m\u001b[0mX\u001b[0m\u001b[0;34m,\u001b[0m \u001b[0my\u001b[0m\u001b[0;34m,\u001b[0m \u001b[0;34m**\u001b[0m\u001b[0mcheck_params\u001b[0m\u001b[0;34m)\u001b[0m\u001b[0;34m\u001b[0m\u001b[0;34m\u001b[0m\u001b[0m\n\u001b[0m\u001b[1;32m    434\u001b[0m             \u001b[0mout\u001b[0m \u001b[0;34m=\u001b[0m \u001b[0mX\u001b[0m\u001b[0;34m,\u001b[0m \u001b[0my\u001b[0m\u001b[0;34m\u001b[0m\u001b[0;34m\u001b[0m\u001b[0m\n\u001b[1;32m    435\u001b[0m \u001b[0;34m\u001b[0m\u001b[0m\n",
      "\u001b[0;32m~/anaconda3/lib/python3.8/site-packages/sklearn/utils/validation.py\u001b[0m in \u001b[0;36minner_f\u001b[0;34m(*args, **kwargs)\u001b[0m\n\u001b[1;32m     61\u001b[0m             \u001b[0mextra_args\u001b[0m \u001b[0;34m=\u001b[0m \u001b[0mlen\u001b[0m\u001b[0;34m(\u001b[0m\u001b[0margs\u001b[0m\u001b[0;34m)\u001b[0m \u001b[0;34m-\u001b[0m \u001b[0mlen\u001b[0m\u001b[0;34m(\u001b[0m\u001b[0mall_args\u001b[0m\u001b[0;34m)\u001b[0m\u001b[0;34m\u001b[0m\u001b[0;34m\u001b[0m\u001b[0m\n\u001b[1;32m     62\u001b[0m             \u001b[0;32mif\u001b[0m \u001b[0mextra_args\u001b[0m \u001b[0;34m<=\u001b[0m \u001b[0;36m0\u001b[0m\u001b[0;34m:\u001b[0m\u001b[0;34m\u001b[0m\u001b[0;34m\u001b[0m\u001b[0m\n\u001b[0;32m---> 63\u001b[0;31m                 \u001b[0;32mreturn\u001b[0m \u001b[0mf\u001b[0m\u001b[0;34m(\u001b[0m\u001b[0;34m*\u001b[0m\u001b[0margs\u001b[0m\u001b[0;34m,\u001b[0m \u001b[0;34m**\u001b[0m\u001b[0mkwargs\u001b[0m\u001b[0;34m)\u001b[0m\u001b[0;34m\u001b[0m\u001b[0;34m\u001b[0m\u001b[0m\n\u001b[0m\u001b[1;32m     64\u001b[0m \u001b[0;34m\u001b[0m\u001b[0m\n\u001b[1;32m     65\u001b[0m             \u001b[0;31m# extra_args > 0\u001b[0m\u001b[0;34m\u001b[0m\u001b[0;34m\u001b[0m\u001b[0;34m\u001b[0m\u001b[0m\n",
      "\u001b[0;32m~/anaconda3/lib/python3.8/site-packages/sklearn/utils/validation.py\u001b[0m in \u001b[0;36mcheck_X_y\u001b[0;34m(X, y, accept_sparse, accept_large_sparse, dtype, order, copy, force_all_finite, ensure_2d, allow_nd, multi_output, ensure_min_samples, ensure_min_features, y_numeric, estimator)\u001b[0m\n\u001b[1;32m    812\u001b[0m         \u001b[0;32mraise\u001b[0m \u001b[0mValueError\u001b[0m\u001b[0;34m(\u001b[0m\u001b[0;34m\"y cannot be None\"\u001b[0m\u001b[0;34m)\u001b[0m\u001b[0;34m\u001b[0m\u001b[0;34m\u001b[0m\u001b[0m\n\u001b[1;32m    813\u001b[0m \u001b[0;34m\u001b[0m\u001b[0m\n\u001b[0;32m--> 814\u001b[0;31m     X = check_array(X, accept_sparse=accept_sparse,\n\u001b[0m\u001b[1;32m    815\u001b[0m                     \u001b[0maccept_large_sparse\u001b[0m\u001b[0;34m=\u001b[0m\u001b[0maccept_large_sparse\u001b[0m\u001b[0;34m,\u001b[0m\u001b[0;34m\u001b[0m\u001b[0;34m\u001b[0m\u001b[0m\n\u001b[1;32m    816\u001b[0m                     \u001b[0mdtype\u001b[0m\u001b[0;34m=\u001b[0m\u001b[0mdtype\u001b[0m\u001b[0;34m,\u001b[0m \u001b[0morder\u001b[0m\u001b[0;34m=\u001b[0m\u001b[0morder\u001b[0m\u001b[0;34m,\u001b[0m \u001b[0mcopy\u001b[0m\u001b[0;34m=\u001b[0m\u001b[0mcopy\u001b[0m\u001b[0;34m,\u001b[0m\u001b[0;34m\u001b[0m\u001b[0;34m\u001b[0m\u001b[0m\n",
      "\u001b[0;32m~/anaconda3/lib/python3.8/site-packages/sklearn/utils/validation.py\u001b[0m in \u001b[0;36minner_f\u001b[0;34m(*args, **kwargs)\u001b[0m\n\u001b[1;32m     61\u001b[0m             \u001b[0mextra_args\u001b[0m \u001b[0;34m=\u001b[0m \u001b[0mlen\u001b[0m\u001b[0;34m(\u001b[0m\u001b[0margs\u001b[0m\u001b[0;34m)\u001b[0m \u001b[0;34m-\u001b[0m \u001b[0mlen\u001b[0m\u001b[0;34m(\u001b[0m\u001b[0mall_args\u001b[0m\u001b[0;34m)\u001b[0m\u001b[0;34m\u001b[0m\u001b[0;34m\u001b[0m\u001b[0m\n\u001b[1;32m     62\u001b[0m             \u001b[0;32mif\u001b[0m \u001b[0mextra_args\u001b[0m \u001b[0;34m<=\u001b[0m \u001b[0;36m0\u001b[0m\u001b[0;34m:\u001b[0m\u001b[0;34m\u001b[0m\u001b[0;34m\u001b[0m\u001b[0m\n\u001b[0;32m---> 63\u001b[0;31m                 \u001b[0;32mreturn\u001b[0m \u001b[0mf\u001b[0m\u001b[0;34m(\u001b[0m\u001b[0;34m*\u001b[0m\u001b[0margs\u001b[0m\u001b[0;34m,\u001b[0m \u001b[0;34m**\u001b[0m\u001b[0mkwargs\u001b[0m\u001b[0;34m)\u001b[0m\u001b[0;34m\u001b[0m\u001b[0;34m\u001b[0m\u001b[0m\n\u001b[0m\u001b[1;32m     64\u001b[0m \u001b[0;34m\u001b[0m\u001b[0m\n\u001b[1;32m     65\u001b[0m             \u001b[0;31m# extra_args > 0\u001b[0m\u001b[0;34m\u001b[0m\u001b[0;34m\u001b[0m\u001b[0;34m\u001b[0m\u001b[0m\n",
      "\u001b[0;32m~/anaconda3/lib/python3.8/site-packages/sklearn/utils/validation.py\u001b[0m in \u001b[0;36mcheck_array\u001b[0;34m(array, accept_sparse, accept_large_sparse, dtype, order, copy, force_all_finite, ensure_2d, allow_nd, ensure_min_samples, ensure_min_features, estimator)\u001b[0m\n\u001b[1;32m    661\u001b[0m \u001b[0;34m\u001b[0m\u001b[0m\n\u001b[1;32m    662\u001b[0m         \u001b[0;32mif\u001b[0m \u001b[0mforce_all_finite\u001b[0m\u001b[0;34m:\u001b[0m\u001b[0;34m\u001b[0m\u001b[0;34m\u001b[0m\u001b[0m\n\u001b[0;32m--> 663\u001b[0;31m             _assert_all_finite(array,\n\u001b[0m\u001b[1;32m    664\u001b[0m                                allow_nan=force_all_finite == 'allow-nan')\n\u001b[1;32m    665\u001b[0m \u001b[0;34m\u001b[0m\u001b[0m\n",
      "\u001b[0;32m~/anaconda3/lib/python3.8/site-packages/sklearn/utils/validation.py\u001b[0m in \u001b[0;36m_assert_all_finite\u001b[0;34m(X, allow_nan, msg_dtype)\u001b[0m\n\u001b[1;32m    101\u001b[0m                 not allow_nan and not np.isfinite(X).all()):\n\u001b[1;32m    102\u001b[0m             \u001b[0mtype_err\u001b[0m \u001b[0;34m=\u001b[0m \u001b[0;34m'infinity'\u001b[0m \u001b[0;32mif\u001b[0m \u001b[0mallow_nan\u001b[0m \u001b[0;32melse\u001b[0m \u001b[0;34m'NaN, infinity'\u001b[0m\u001b[0;34m\u001b[0m\u001b[0;34m\u001b[0m\u001b[0m\n\u001b[0;32m--> 103\u001b[0;31m             raise ValueError(\n\u001b[0m\u001b[1;32m    104\u001b[0m                     \u001b[0mmsg_err\u001b[0m\u001b[0;34m.\u001b[0m\u001b[0mformat\u001b[0m\u001b[0;34m\u001b[0m\u001b[0;34m\u001b[0m\u001b[0m\n\u001b[1;32m    105\u001b[0m                     (type_err,\n",
      "\u001b[0;31mValueError\u001b[0m: Input contains NaN, infinity or a value too large for dtype('float64')."
     ]
    }
   ],
   "source": [
    "regression =  linear_model.LinearRegression(normalize=True)\n",
    "regression.fit(copy_df,diffmat) "
   ]
  },
  {
   "cell_type": "code",
   "execution_count": 113,
   "id": "10081490-6c6f-4296-bac8-395d4cbbeff6",
   "metadata": {},
   "outputs": [
    {
     "ename": "AttributeError",
     "evalue": "'LinearRegression' object has no attribute 'coef_'",
     "output_type": "error",
     "traceback": [
      "\u001b[0;31m---------------------------------------------------------------------------\u001b[0m",
      "\u001b[0;31mAttributeError\u001b[0m                            Traceback (most recent call last)",
      "\u001b[0;32m<ipython-input-113-6f43f1cf666d>\u001b[0m in \u001b[0;36m<module>\u001b[0;34m\u001b[0m\n\u001b[0;32m----> 1\u001b[0;31m \u001b[0mregression\u001b[0m\u001b[0;34m.\u001b[0m\u001b[0mcoef_\u001b[0m\u001b[0;34m\u001b[0m\u001b[0;34m\u001b[0m\u001b[0m\n\u001b[0m",
      "\u001b[0;31mAttributeError\u001b[0m: 'LinearRegression' object has no attribute 'coef_'"
     ]
    }
   ],
   "source": [
    "regression.coef_"
   ]
  },
  {
   "cell_type": "code",
   "execution_count": null,
   "id": "a7c0c196-8369-47be-ac50-dbd6f0758399",
   "metadata": {},
   "outputs": [],
   "source": []
  },
  {
   "cell_type": "code",
   "execution_count": null,
   "id": "6a2f4aaf-fdef-409c-933f-467fa72fb85b",
   "metadata": {},
   "outputs": [],
   "source": []
  },
  {
   "cell_type": "code",
   "execution_count": null,
   "id": "ff043507-a297-41d7-ac8e-dea1fcf45914",
   "metadata": {},
   "outputs": [],
   "source": []
  }
 ],
 "metadata": {
  "kernelspec": {
   "display_name": "Python 3",
   "language": "python",
   "name": "python3"
  },
  "language_info": {
   "codemirror_mode": {
    "name": "ipython",
    "version": 3
   },
   "file_extension": ".py",
   "mimetype": "text/x-python",
   "name": "python",
   "nbconvert_exporter": "python",
   "pygments_lexer": "ipython3",
   "version": "3.8.8"
  }
 },
 "nbformat": 4,
 "nbformat_minor": 5
}
