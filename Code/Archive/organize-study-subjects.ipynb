{
 "cells": [
  {
   "cell_type": "code",
   "execution_count": 1,
   "id": "34f27492",
   "metadata": {},
   "outputs": [
    {
     "data": {
      "text/plain": [
       "'/mmfs1/data/pijarj/BC-ORG-Data/Code'"
      ]
     },
     "execution_count": 1,
     "metadata": {},
     "output_type": "execute_result"
    }
   ],
   "source": [
    "pwd"
   ]
  },
  {
   "cell_type": "code",
   "execution_count": 2,
   "id": "bf248450",
   "metadata": {},
   "outputs": [
    {
     "name": "stdout",
     "output_type": "stream",
     "text": [
      "/mmfs1/data/pijarj/BC-ORG-Data\n"
     ]
    }
   ],
   "source": [
    "cd ../"
   ]
  },
  {
   "cell_type": "code",
   "execution_count": 3,
   "id": "c4cf40b6",
   "metadata": {},
   "outputs": [
    {
     "name": "stdout",
     "output_type": "stream",
     "text": [
      "/mmfs1/data/pijarj\n"
     ]
    }
   ],
   "source": [
    "cd ../"
   ]
  },
  {
   "cell_type": "code",
   "execution_count": 5,
   "id": "f5f943a0",
   "metadata": {},
   "outputs": [
    {
     "name": "stdout",
     "output_type": "stream",
     "text": [
      "/mmfs1/data/pijarj/ds-2155\n"
     ]
    }
   ],
   "source": [
    "cd ds-2155/"
   ]
  },
  {
   "cell_type": "code",
   "execution_count": 6,
   "id": "0aaaab3d",
   "metadata": {},
   "outputs": [
    {
     "name": "stdout",
     "output_type": "stream",
     "text": [
      "\u001b[0m\u001b[38;5;9mimage0.nii.gz\u001b[0m  \u001b[38;5;9mimage1.nii.gz\u001b[0m  \u001b[38;5;9mimage2.nii.gz\u001b[0m  \u001b[38;5;9mimage3.nii.gz\u001b[0m  \u001b[38;5;9mimage4.nii.gz\u001b[0m\n"
     ]
    }
   ],
   "source": [
    "ls"
   ]
  },
  {
   "cell_type": "code",
   "execution_count": 7,
   "id": "a908acef",
   "metadata": {},
   "outputs": [],
   "source": [
    "mkdir sub-01"
   ]
  },
  {
   "cell_type": "code",
   "execution_count": 8,
   "id": "9f1a08aa",
   "metadata": {},
   "outputs": [],
   "source": [
    "mkdir sub-02"
   ]
  },
  {
   "cell_type": "code",
   "execution_count": 9,
   "id": "912f4b89",
   "metadata": {},
   "outputs": [],
   "source": [
    "mkdir sub-03"
   ]
  },
  {
   "cell_type": "code",
   "execution_count": 10,
   "id": "6e77e071",
   "metadata": {},
   "outputs": [],
   "source": [
    "mkdir sub-04"
   ]
  },
  {
   "cell_type": "code",
   "execution_count": 11,
   "id": "49f549e9",
   "metadata": {},
   "outputs": [],
   "source": [
    "mkdir sub-05"
   ]
  },
  {
   "cell_type": "code",
   "execution_count": 19,
   "id": "3e9bc656",
   "metadata": {},
   "outputs": [
    {
     "name": "stdout",
     "output_type": "stream",
     "text": [
      "/mmfs1/data/pijarj/ds-2155/sub-01\n"
     ]
    }
   ],
   "source": [
    "cd sub-01"
   ]
  },
  {
   "cell_type": "code",
   "execution_count": 14,
   "id": "8609eb94",
   "metadata": {},
   "outputs": [],
   "source": [
    "mkdir func/"
   ]
  },
  {
   "cell_type": "code",
   "execution_count": 15,
   "id": "ea8ef332",
   "metadata": {},
   "outputs": [
    {
     "name": "stdout",
     "output_type": "stream",
     "text": [
      "/mmfs1/data/pijarj/ds-2155\n"
     ]
    }
   ],
   "source": [
    "cd ../"
   ]
  },
  {
   "cell_type": "code",
   "execution_count": 16,
   "id": "4e18662c",
   "metadata": {},
   "outputs": [
    {
     "name": "stdout",
     "output_type": "stream",
     "text": [
      "/mmfs1/data/pijarj/ds-2155/sub-02\n"
     ]
    }
   ],
   "source": [
    "cd sub-02"
   ]
  },
  {
   "cell_type": "code",
   "execution_count": 17,
   "id": "aea6fdf7",
   "metadata": {},
   "outputs": [],
   "source": [
    "mkdir func/"
   ]
  },
  {
   "cell_type": "code",
   "execution_count": 21,
   "id": "d41f9a32",
   "metadata": {},
   "outputs": [
    {
     "name": "stdout",
     "output_type": "stream",
     "text": [
      "/mmfs1/data/pijarj/ds-2155\n"
     ]
    }
   ],
   "source": [
    "cd ../"
   ]
  },
  {
   "cell_type": "code",
   "execution_count": 23,
   "id": "de4a9785",
   "metadata": {},
   "outputs": [
    {
     "name": "stdout",
     "output_type": "stream",
     "text": [
      "/mmfs1/data/pijarj/ds-2155/sub-03\n"
     ]
    }
   ],
   "source": [
    "cd sub-03"
   ]
  },
  {
   "cell_type": "code",
   "execution_count": 24,
   "id": "01fc45fe",
   "metadata": {},
   "outputs": [],
   "source": [
    "mkdir func/"
   ]
  },
  {
   "cell_type": "code",
   "execution_count": 25,
   "id": "c8c31545",
   "metadata": {},
   "outputs": [
    {
     "name": "stdout",
     "output_type": "stream",
     "text": [
      "/mmfs1/data/pijarj/ds-2155\n"
     ]
    }
   ],
   "source": [
    "cd ../"
   ]
  },
  {
   "cell_type": "code",
   "execution_count": 26,
   "id": "04027b31",
   "metadata": {},
   "outputs": [
    {
     "name": "stdout",
     "output_type": "stream",
     "text": [
      "/mmfs1/data/pijarj/ds-2155/sub-04\n"
     ]
    }
   ],
   "source": [
    "cd sub-04"
   ]
  },
  {
   "cell_type": "code",
   "execution_count": 27,
   "id": "d03aaf80",
   "metadata": {},
   "outputs": [],
   "source": [
    "mkdir func/"
   ]
  },
  {
   "cell_type": "code",
   "execution_count": 28,
   "id": "ef993031",
   "metadata": {},
   "outputs": [
    {
     "name": "stdout",
     "output_type": "stream",
     "text": [
      "/mmfs1/data/pijarj/ds-2155\n"
     ]
    }
   ],
   "source": [
    "cd ../"
   ]
  },
  {
   "cell_type": "code",
   "execution_count": 29,
   "id": "7a55c5a8",
   "metadata": {},
   "outputs": [
    {
     "name": "stdout",
     "output_type": "stream",
     "text": [
      "/mmfs1/data/pijarj/ds-2155/sub-05\n"
     ]
    }
   ],
   "source": [
    "cd sub-05"
   ]
  },
  {
   "cell_type": "code",
   "execution_count": 30,
   "id": "b46bec4b",
   "metadata": {},
   "outputs": [],
   "source": [
    "mkdir func/"
   ]
  },
  {
   "cell_type": "code",
   "execution_count": 66,
   "id": "3334c08c",
   "metadata": {},
   "outputs": [
    {
     "name": "stdout",
     "output_type": "stream",
     "text": [
      "/mmfs1/data/pijarj/ds-2155\n"
     ]
    }
   ],
   "source": [
    "cd ../"
   ]
  },
  {
   "cell_type": "code",
   "execution_count": null,
   "id": "972f38c7",
   "metadata": {},
   "outputs": [],
   "source": [
    "mv image0.nii.gz ./sub-01/"
   ]
  },
  {
   "cell_type": "code",
   "execution_count": null,
   "id": "9e3958ee",
   "metadata": {},
   "outputs": [],
   "source": [
    "cd sub-01"
   ]
  },
  {
   "cell_type": "code",
   "execution_count": null,
   "id": "e5acdb02",
   "metadata": {
    "tags": []
   },
   "outputs": [],
   "source": [
    "mv image0.nii.gz ./func/"
   ]
  },
  {
   "cell_type": "code",
   "execution_count": 71,
   "id": "0f8d23e6",
   "metadata": {},
   "outputs": [
    {
     "name": "stdout",
     "output_type": "stream",
     "text": [
      "/mmfs1/data/pijarj/ds-2155\n"
     ]
    }
   ],
   "source": [
    "cd ../"
   ]
  },
  {
   "cell_type": "code",
   "execution_count": 38,
   "id": "69c31166",
   "metadata": {},
   "outputs": [],
   "source": [
    "mv image1.nii.gz ./sub-02/"
   ]
  },
  {
   "cell_type": "code",
   "execution_count": 40,
   "id": "2059329d",
   "metadata": {},
   "outputs": [
    {
     "name": "stdout",
     "output_type": "stream",
     "text": [
      "/mmfs1/data/pijarj/ds-2155/sub-02\n"
     ]
    }
   ],
   "source": [
    "cd sub-02"
   ]
  },
  {
   "cell_type": "code",
   "execution_count": 47,
   "id": "52f4f8b1",
   "metadata": {},
   "outputs": [
    {
     "name": "stdout",
     "output_type": "stream",
     "text": [
      "mv: cannot stat 'image1.nii.gz': No such file or directory\n"
     ]
    }
   ],
   "source": [
    "mv image1.nii.gz ./func/"
   ]
  },
  {
   "cell_type": "code",
   "execution_count": 50,
   "id": "9fe14980",
   "metadata": {},
   "outputs": [
    {
     "data": {
      "text/plain": [
       "'/mmfs1/data/pijarj/ds-2155/sub-02/func'"
      ]
     },
     "execution_count": 50,
     "metadata": {},
     "output_type": "execute_result"
    }
   ],
   "source": [
    "pwd"
   ]
  },
  {
   "cell_type": "code",
   "execution_count": 51,
   "id": "ed9877f7",
   "metadata": {},
   "outputs": [
    {
     "name": "stdout",
     "output_type": "stream",
     "text": [
      "/mmfs1/data/pijarj/ds-2155/sub-02\n"
     ]
    }
   ],
   "source": [
    "cd ../"
   ]
  },
  {
   "cell_type": "code",
   "execution_count": 52,
   "id": "57940fb0",
   "metadata": {},
   "outputs": [
    {
     "name": "stdout",
     "output_type": "stream",
     "text": [
      "/mmfs1/data/pijarj/ds-2155\n"
     ]
    }
   ],
   "source": [
    "cd ../"
   ]
  },
  {
   "cell_type": "code",
   "execution_count": 53,
   "id": "2aeb1725",
   "metadata": {},
   "outputs": [],
   "source": [
    "mv image2.nii.gz ./sub-03/"
   ]
  },
  {
   "cell_type": "code",
   "execution_count": 54,
   "id": "98329c73",
   "metadata": {},
   "outputs": [
    {
     "name": "stdout",
     "output_type": "stream",
     "text": [
      "/mmfs1/data/pijarj/ds-2155/sub-03\n"
     ]
    }
   ],
   "source": [
    "cd sub-03"
   ]
  },
  {
   "cell_type": "code",
   "execution_count": 55,
   "id": "d233b85d",
   "metadata": {},
   "outputs": [],
   "source": [
    "mv image2.nii.gz ./func/"
   ]
  },
  {
   "cell_type": "code",
   "execution_count": 56,
   "id": "ebd6e86f",
   "metadata": {},
   "outputs": [
    {
     "name": "stdout",
     "output_type": "stream",
     "text": [
      "/mmfs1/data/pijarj/ds-2155\n"
     ]
    }
   ],
   "source": [
    "cd ../"
   ]
  },
  {
   "cell_type": "code",
   "execution_count": 57,
   "id": "44564ef4",
   "metadata": {},
   "outputs": [],
   "source": [
    "mv image3.nii.gz ./sub-04/"
   ]
  },
  {
   "cell_type": "code",
   "execution_count": 58,
   "id": "70f47455",
   "metadata": {},
   "outputs": [
    {
     "name": "stdout",
     "output_type": "stream",
     "text": [
      "/mmfs1/data/pijarj/ds-2155/sub-04\n"
     ]
    }
   ],
   "source": [
    "cd sub-04"
   ]
  },
  {
   "cell_type": "code",
   "execution_count": 59,
   "id": "ed01e228",
   "metadata": {},
   "outputs": [],
   "source": [
    "mv image3.nii.gz ./func/"
   ]
  },
  {
   "cell_type": "code",
   "execution_count": 60,
   "id": "c1a17278",
   "metadata": {},
   "outputs": [
    {
     "name": "stdout",
     "output_type": "stream",
     "text": [
      "/mmfs1/data/pijarj/ds-2155\n"
     ]
    }
   ],
   "source": [
    "cd ../"
   ]
  },
  {
   "cell_type": "code",
   "execution_count": 61,
   "id": "b92e4970",
   "metadata": {},
   "outputs": [],
   "source": [
    "mv image4.nii.gz ./sub-05/"
   ]
  },
  {
   "cell_type": "code",
   "execution_count": 62,
   "id": "197791ef",
   "metadata": {},
   "outputs": [
    {
     "name": "stdout",
     "output_type": "stream",
     "text": [
      "/mmfs1/data/pijarj/ds-2155/sub-05\n"
     ]
    }
   ],
   "source": [
    "cd sub-05"
   ]
  },
  {
   "cell_type": "code",
   "execution_count": 63,
   "id": "96e9fa59",
   "metadata": {},
   "outputs": [],
   "source": [
    "mv image4.nii.gz ./func/"
   ]
  },
  {
   "cell_type": "code",
   "execution_count": 72,
   "id": "b2f039ac",
   "metadata": {},
   "outputs": [
    {
     "data": {
      "text/plain": [
       "'/mmfs1/data/pijarj/ds-2155'"
      ]
     },
     "execution_count": 72,
     "metadata": {},
     "output_type": "execute_result"
    }
   ],
   "source": [
    "pwd"
   ]
  },
  {
   "cell_type": "code",
   "execution_count": 73,
   "id": "a144bd7a",
   "metadata": {},
   "outputs": [
    {
     "name": "stdout",
     "output_type": "stream",
     "text": [
      "/mmfs1/data/pijarj/ds-2155/sub-01\n"
     ]
    }
   ],
   "source": [
    "cd sub-01"
   ]
  },
  {
   "cell_type": "code",
   "execution_count": 74,
   "id": "b84d1660",
   "metadata": {},
   "outputs": [],
   "source": [
    "mv image0.nii.gz ./func/"
   ]
  },
  {
   "cell_type": "code",
   "execution_count": 21,
   "id": "4e0086be",
   "metadata": {},
   "outputs": [],
   "source": []
  },
  {
   "cell_type": "code",
   "execution_count": 1,
   "id": "9832c25b",
   "metadata": {},
   "outputs": [
    {
     "data": {
      "text/plain": [
       "'/mmfs1/data/pijarj/BC-ORG-Data/Code'"
      ]
     },
     "execution_count": 1,
     "metadata": {},
     "output_type": "execute_result"
    }
   ],
   "source": [
    "pwd"
   ]
  },
  {
   "cell_type": "code",
   "execution_count": 2,
   "id": "3fdc1689",
   "metadata": {},
   "outputs": [
    {
     "name": "stdout",
     "output_type": "stream",
     "text": [
      "/mmfs1/data/pijarj/BC-ORG-Data\n"
     ]
    }
   ],
   "source": [
    "cd ../"
   ]
  },
  {
   "cell_type": "code",
   "execution_count": 3,
   "id": "1ce3e394",
   "metadata": {},
   "outputs": [
    {
     "name": "stdout",
     "output_type": "stream",
     "text": [
      "/mmfs1/data/pijarj\n"
     ]
    }
   ],
   "source": [
    "cd ../"
   ]
  },
  {
   "cell_type": "code",
   "execution_count": 4,
   "id": "1323cf35",
   "metadata": {},
   "outputs": [],
   "source": [
    "mkdir ds-2155"
   ]
  },
  {
   "cell_type": "code",
   "execution_count": 6,
   "id": "402d8f25",
   "metadata": {},
   "outputs": [
    {
     "data": {
      "text/plain": [
       "'/mmfs1/data/pijarj'"
      ]
     },
     "execution_count": 6,
     "metadata": {},
     "output_type": "execute_result"
    }
   ],
   "source": [
    "pwd"
   ]
  },
  {
   "cell_type": "code",
   "execution_count": 7,
   "id": "ddc2cdd5",
   "metadata": {},
   "outputs": [
    {
     "name": "stdout",
     "output_type": "stream",
     "text": [
      "/mmfs1/data/pijarj/ds-2155\n"
     ]
    }
   ],
   "source": [
    "cd ds-2155"
   ]
  },
  {
   "cell_type": "code",
   "execution_count": 8,
   "id": "29ef7380",
   "metadata": {},
   "outputs": [],
   "source": [
    "import os \n",
    "import numpy as np\n",
    "numbers = np.arange(1,10)\n",
    "for number in numbers: \n",
    "    folder_name = f'sub-0{number}'\n",
    "    if not os.path.exists(folder_name):\n",
    "        os.mkdir(folder_name)\n",
    "        os.mkdir(os.path.join(folder_name,'func'))"
   ]
  },
  {
   "cell_type": "code",
   "execution_count": 9,
   "id": "b146baf1",
   "metadata": {},
   "outputs": [],
   "source": [
    "import os \n",
    "import numpy as np\n",
    "numbers = np.arange(10,5510)\n",
    "for number in numbers: \n",
    "    folder_name = f'sub-{number}' \n",
    "    if not os.path.exists(folder_name):\n",
    "        os.mkdir(folder_name)\n",
    "        os.mkdir(os.path.join(folder_name,'func'))"
   ]
  }
 ],
 "metadata": {
  "kernelspec": {
   "display_name": "Python 3",
   "language": "python",
   "name": "python3"
  },
  "language_info": {
   "codemirror_mode": {
    "name": "ipython",
    "version": 3
   },
   "file_extension": ".py",
   "mimetype": "text/x-python",
   "name": "python",
   "nbconvert_exporter": "python",
   "pygments_lexer": "ipython3",
   "version": "3.8.5"
  }
 },
 "nbformat": 4,
 "nbformat_minor": 5
}
