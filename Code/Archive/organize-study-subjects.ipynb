{
 "cells": [
  {
   "cell_type": "code",
   "execution_count": 1,
   "id": "34f27492",
   "metadata": {},
   "outputs": [
    {
     "data": {
      "text/plain": [
       "'/mmfs1/data/pijarj/BC-ORG-Data/Code'"
      ]
     },
     "execution_count": 1,
     "metadata": {},
     "output_type": "execute_result"
    }
   ],
   "source": [
    "pwd"
   ]
  },
  {
   "cell_type": "code",
   "execution_count": 2,
   "id": "bf248450",
   "metadata": {},
   "outputs": [
    {
     "name": "stdout",
     "output_type": "stream",
     "text": [
      "/mmfs1/data/pijarj/BC-ORG-Data\n"
     ]
    }
   ],
   "source": [
    "cd ../"
   ]
  },
  {
   "cell_type": "code",
   "execution_count": 3,
   "id": "c4cf40b6",
   "metadata": {},
   "outputs": [
    {
     "name": "stdout",
     "output_type": "stream",
     "text": [
      "/mmfs1/data/pijarj\n"
     ]
    }
   ],
   "source": [
    "cd ../"
   ]
  },
  {
   "cell_type": "code",
   "execution_count": 5,
   "id": "f5f943a0",
   "metadata": {},
   "outputs": [
    {
     "name": "stdout",
     "output_type": "stream",
     "text": [
      "/mmfs1/data/pijarj/ds-2155\n"
     ]
    }
   ],
   "source": [
    "cd ds-2155/"
   ]
  },
  {
   "cell_type": "code",
   "execution_count": 6,
   "id": "0aaaab3d",
   "metadata": {},
   "outputs": [
    {
     "name": "stdout",
     "output_type": "stream",
     "text": [
      "\u001b[0m\u001b[38;5;9mimage0.nii.gz\u001b[0m  \u001b[38;5;9mimage1.nii.gz\u001b[0m  \u001b[38;5;9mimage2.nii.gz\u001b[0m  \u001b[38;5;9mimage3.nii.gz\u001b[0m  \u001b[38;5;9mimage4.nii.gz\u001b[0m\n"
     ]
    }
   ],
   "source": [
    "ls"
   ]
  },
  {
   "cell_type": "code",
   "execution_count": 7,
   "id": "a908acef",
   "metadata": {},
   "outputs": [],
   "source": [
    "mkdir sub-01"
   ]
  },
  {
   "cell_type": "code",
   "execution_count": 8,
   "id": "9f1a08aa",
   "metadata": {},
   "outputs": [],
   "source": [
    "mkdir sub-02"
   ]
  },
  {
   "cell_type": "code",
   "execution_count": 9,
   "id": "912f4b89",
   "metadata": {},
   "outputs": [],
   "source": [
    "mkdir sub-03"
   ]
  },
  {
   "cell_type": "code",
   "execution_count": 10,
   "id": "6e77e071",
   "metadata": {},
   "outputs": [],
   "source": [
    "mkdir sub-04"
   ]
  },
  {
   "cell_type": "code",
   "execution_count": 11,
   "id": "49f549e9",
   "metadata": {},
   "outputs": [],
   "source": [
    "mkdir sub-05"
   ]
  },
  {
   "cell_type": "code",
   "execution_count": 19,
   "id": "3e9bc656",
   "metadata": {},
   "outputs": [
    {
     "name": "stdout",
     "output_type": "stream",
     "text": [
      "/mmfs1/data/pijarj/ds-2155/sub-01\n"
     ]
    }
   ],
   "source": [
    "cd sub-01"
   ]
  },
  {
   "cell_type": "code",
   "execution_count": 14,
   "id": "8609eb94",
   "metadata": {},
   "outputs": [],
   "source": [
    "mkdir func/"
   ]
  },
  {
   "cell_type": "code",
   "execution_count": 15,
   "id": "ea8ef332",
   "metadata": {},
   "outputs": [
    {
     "name": "stdout",
     "output_type": "stream",
     "text": [
      "/mmfs1/data/pijarj/ds-2155\n"
     ]
    }
   ],
   "source": [
    "cd ../"
   ]
  },
  {
   "cell_type": "code",
   "execution_count": 16,
   "id": "4e18662c",
   "metadata": {},
   "outputs": [
    {
     "name": "stdout",
     "output_type": "stream",
     "text": [
      "/mmfs1/data/pijarj/ds-2155/sub-02\n"
     ]
    }
   ],
   "source": [
    "cd sub-02"
   ]
  },
  {
   "cell_type": "code",
   "execution_count": 17,
   "id": "aea6fdf7",
   "metadata": {},
   "outputs": [],
   "source": [
    "mkdir func/"
   ]
  },
  {
   "cell_type": "code",
   "execution_count": 21,
   "id": "d41f9a32",
   "metadata": {},
   "outputs": [
    {
     "name": "stdout",
     "output_type": "stream",
     "text": [
      "/mmfs1/data/pijarj/ds-2155\n"
     ]
    }
   ],
   "source": [
    "cd ../"
   ]
  },
  {
   "cell_type": "code",
   "execution_count": 23,
   "id": "de4a9785",
   "metadata": {},
   "outputs": [
    {
     "name": "stdout",
     "output_type": "stream",
     "text": [
      "/mmfs1/data/pijarj/ds-2155/sub-03\n"
     ]
    }
   ],
   "source": [
    "cd sub-03"
   ]
  },
  {
   "cell_type": "code",
   "execution_count": 24,
   "id": "01fc45fe",
   "metadata": {},
   "outputs": [],
   "source": [
    "mkdir func/"
   ]
  },
  {
   "cell_type": "code",
   "execution_count": 25,
   "id": "c8c31545",
   "metadata": {},
   "outputs": [
    {
     "name": "stdout",
     "output_type": "stream",
     "text": [
      "/mmfs1/data/pijarj/ds-2155\n"
     ]
    }
   ],
   "source": [
    "cd ../"
   ]
  },
  {
   "cell_type": "code",
   "execution_count": 26,
   "id": "04027b31",
   "metadata": {},
   "outputs": [
    {
     "name": "stdout",
     "output_type": "stream",
     "text": [
      "/mmfs1/data/pijarj/ds-2155/sub-04\n"
     ]
    }
   ],
   "source": [
    "cd sub-04"
   ]
  },
  {
   "cell_type": "code",
   "execution_count": 27,
   "id": "d03aaf80",
   "metadata": {},
   "outputs": [],
   "source": [
    "mkdir func/"
   ]
  },
  {
   "cell_type": "code",
   "execution_count": 28,
   "id": "ef993031",
   "metadata": {},
   "outputs": [
    {
     "name": "stdout",
     "output_type": "stream",
     "text": [
      "/mmfs1/data/pijarj/ds-2155\n"
     ]
    }
   ],
   "source": [
    "cd ../"
   ]
  },
  {
   "cell_type": "code",
   "execution_count": 29,
   "id": "7a55c5a8",
   "metadata": {},
   "outputs": [
    {
     "name": "stdout",
     "output_type": "stream",
     "text": [
      "/mmfs1/data/pijarj/ds-2155/sub-05\n"
     ]
    }
   ],
   "source": [
    "cd sub-05"
   ]
  },
  {
   "cell_type": "code",
   "execution_count": 30,
   "id": "b46bec4b",
   "metadata": {},
   "outputs": [],
   "source": [
    "mkdir func/"
   ]
  },
  {
   "cell_type": "code",
   "execution_count": 66,
   "id": "3334c08c",
   "metadata": {},
   "outputs": [
    {
     "name": "stdout",
     "output_type": "stream",
     "text": [
      "/mmfs1/data/pijarj/ds-2155\n"
     ]
    }
   ],
   "source": [
    "cd ../"
   ]
  },
  {
   "cell_type": "code",
   "execution_count": null,
   "id": "972f38c7",
   "metadata": {},
   "outputs": [],
   "source": [
    "mv image0.nii.gz ./sub-01/"
   ]
  },
  {
   "cell_type": "code",
   "execution_count": null,
   "id": "9e3958ee",
   "metadata": {},
   "outputs": [],
   "source": [
    "cd sub-01"
   ]
  },
  {
   "cell_type": "code",
   "execution_count": null,
   "id": "e5acdb02",
   "metadata": {
    "tags": []
   },
   "outputs": [],
   "source": [
    "mv image0.nii.gz ./func/"
   ]
  },
  {
   "cell_type": "code",
   "execution_count": 71,
   "id": "0f8d23e6",
   "metadata": {},
   "outputs": [
    {
     "name": "stdout",
     "output_type": "stream",
     "text": [
      "/mmfs1/data/pijarj/ds-2155\n"
     ]
    }
   ],
   "source": [
    "cd ../"
   ]
  },
  {
   "cell_type": "code",
   "execution_count": 38,
   "id": "69c31166",
   "metadata": {},
   "outputs": [],
   "source": [
    "mv image1.nii.gz ./sub-02/"
   ]
  },
  {
   "cell_type": "code",
   "execution_count": 40,
   "id": "2059329d",
   "metadata": {},
   "outputs": [
    {
     "name": "stdout",
     "output_type": "stream",
     "text": [
      "/mmfs1/data/pijarj/ds-2155/sub-02\n"
     ]
    }
   ],
   "source": [
    "cd sub-02"
   ]
  },
  {
   "cell_type": "code",
   "execution_count": 47,
   "id": "52f4f8b1",
   "metadata": {},
   "outputs": [
    {
     "name": "stdout",
     "output_type": "stream",
     "text": [
      "mv: cannot stat 'image1.nii.gz': No such file or directory\n"
     ]
    }
   ],
   "source": [
    "mv image1.nii.gz ./func/"
   ]
  },
  {
   "cell_type": "code",
   "execution_count": 50,
   "id": "9fe14980",
   "metadata": {},
   "outputs": [
    {
     "data": {
      "text/plain": [
       "'/mmfs1/data/pijarj/ds-2155/sub-02/func'"
      ]
     },
     "execution_count": 50,
     "metadata": {},
     "output_type": "execute_result"
    }
   ],
   "source": [
    "pwd"
   ]
  },
  {
   "cell_type": "code",
   "execution_count": 51,
   "id": "ed9877f7",
   "metadata": {},
   "outputs": [
    {
     "name": "stdout",
     "output_type": "stream",
     "text": [
      "/mmfs1/data/pijarj/ds-2155/sub-02\n"
     ]
    }
   ],
   "source": [
    "cd ../"
   ]
  },
  {
   "cell_type": "code",
   "execution_count": 52,
   "id": "57940fb0",
   "metadata": {},
   "outputs": [
    {
     "name": "stdout",
     "output_type": "stream",
     "text": [
      "/mmfs1/data/pijarj/ds-2155\n"
     ]
    }
   ],
   "source": [
    "cd ../"
   ]
  },
  {
   "cell_type": "code",
   "execution_count": 53,
   "id": "2aeb1725",
   "metadata": {},
   "outputs": [],
   "source": [
    "mv image2.nii.gz ./sub-03/"
   ]
  },
  {
   "cell_type": "code",
   "execution_count": 54,
   "id": "98329c73",
   "metadata": {},
   "outputs": [
    {
     "name": "stdout",
     "output_type": "stream",
     "text": [
      "/mmfs1/data/pijarj/ds-2155/sub-03\n"
     ]
    }
   ],
   "source": [
    "cd sub-03"
   ]
  },
  {
   "cell_type": "code",
   "execution_count": 55,
   "id": "d233b85d",
   "metadata": {},
   "outputs": [],
   "source": [
    "mv image2.nii.gz ./func/"
   ]
  },
  {
   "cell_type": "code",
   "execution_count": 56,
   "id": "ebd6e86f",
   "metadata": {},
   "outputs": [
    {
     "name": "stdout",
     "output_type": "stream",
     "text": [
      "/mmfs1/data/pijarj/ds-2155\n"
     ]
    }
   ],
   "source": [
    "cd ../"
   ]
  },
  {
   "cell_type": "code",
   "execution_count": 57,
   "id": "44564ef4",
   "metadata": {},
   "outputs": [],
   "source": [
    "mv image3.nii.gz ./sub-04/"
   ]
  },
  {
   "cell_type": "code",
   "execution_count": 58,
   "id": "70f47455",
   "metadata": {},
   "outputs": [
    {
     "name": "stdout",
     "output_type": "stream",
     "text": [
      "/mmfs1/data/pijarj/ds-2155/sub-04\n"
     ]
    }
   ],
   "source": [
    "cd sub-04"
   ]
  },
  {
   "cell_type": "code",
   "execution_count": 59,
   "id": "ed01e228",
   "metadata": {},
   "outputs": [],
   "source": [
    "mv image3.nii.gz ./func/"
   ]
  },
  {
   "cell_type": "code",
   "execution_count": 60,
   "id": "c1a17278",
   "metadata": {},
   "outputs": [
    {
     "name": "stdout",
     "output_type": "stream",
     "text": [
      "/mmfs1/data/pijarj/ds-2155\n"
     ]
    }
   ],
   "source": [
    "cd ../"
   ]
  },
  {
   "cell_type": "code",
   "execution_count": 61,
   "id": "b92e4970",
   "metadata": {},
   "outputs": [],
   "source": [
    "mv image4.nii.gz ./sub-05/"
   ]
  },
  {
   "cell_type": "code",
   "execution_count": 62,
   "id": "197791ef",
   "metadata": {},
   "outputs": [
    {
     "name": "stdout",
     "output_type": "stream",
     "text": [
      "/mmfs1/data/pijarj/ds-2155/sub-05\n"
     ]
    }
   ],
   "source": [
    "cd sub-05"
   ]
  },
  {
   "cell_type": "code",
   "execution_count": 63,
   "id": "96e9fa59",
   "metadata": {},
   "outputs": [],
   "source": [
    "mv image4.nii.gz ./func/"
   ]
  },
  {
   "cell_type": "code",
   "execution_count": 72,
   "id": "b2f039ac",
   "metadata": {},
   "outputs": [
    {
     "data": {
      "text/plain": [
       "'/mmfs1/data/pijarj/ds-2155'"
      ]
     },
     "execution_count": 72,
     "metadata": {},
     "output_type": "execute_result"
    }
   ],
   "source": [
    "pwd"
   ]
  },
  {
   "cell_type": "code",
   "execution_count": 73,
   "id": "a144bd7a",
   "metadata": {},
   "outputs": [
    {
     "name": "stdout",
     "output_type": "stream",
     "text": [
      "/mmfs1/data/pijarj/ds-2155/sub-01\n"
     ]
    }
   ],
   "source": [
    "cd sub-01"
   ]
  },
  {
   "cell_type": "code",
   "execution_count": 74,
   "id": "b84d1660",
   "metadata": {},
   "outputs": [],
   "source": [
    "mv image0.nii.gz ./func/"
   ]
  },
  {
   "cell_type": "code",
   "execution_count": 1,
   "id": "9832c25b",
   "metadata": {},
   "outputs": [
    {
     "data": {
      "text/plain": [
       "'/mmfs1/data/pijarj/BC-ORG-Data/Code'"
      ]
     },
     "execution_count": 1,
     "metadata": {},
     "output_type": "execute_result"
    }
   ],
   "source": [
    "pwd"
   ]
  },
  {
   "cell_type": "code",
   "execution_count": 2,
   "id": "3fdc1689",
   "metadata": {},
   "outputs": [
    {
     "name": "stdout",
     "output_type": "stream",
     "text": [
      "/mmfs1/data/pijarj/BC-ORG-Data\n"
     ]
    }
   ],
   "source": [
    "cd ../"
   ]
  },
  {
   "cell_type": "code",
   "execution_count": 3,
   "id": "1ce3e394",
   "metadata": {},
   "outputs": [
    {
     "name": "stdout",
     "output_type": "stream",
     "text": [
      "/mmfs1/data/pijarj\n"
     ]
    }
   ],
   "source": [
    "cd ../"
   ]
  },
  {
   "cell_type": "code",
   "execution_count": 4,
   "id": "1323cf35",
   "metadata": {},
   "outputs": [],
   "source": [
    "mkdir ds-2155"
   ]
  },
  {
   "cell_type": "code",
   "execution_count": 6,
   "id": "402d8f25",
   "metadata": {},
   "outputs": [
    {
     "data": {
      "text/plain": [
       "'/mmfs1/data/pijarj'"
      ]
     },
     "execution_count": 6,
     "metadata": {},
     "output_type": "execute_result"
    }
   ],
   "source": [
    "pwd"
   ]
  },
  {
   "cell_type": "code",
   "execution_count": 7,
   "id": "ddc2cdd5",
   "metadata": {},
   "outputs": [
    {
     "name": "stdout",
     "output_type": "stream",
     "text": [
      "/mmfs1/data/pijarj/ds-2155\n"
     ]
    }
   ],
   "source": [
    "cd ds-2155"
   ]
  },
  {
   "cell_type": "code",
   "execution_count": 8,
   "id": "29ef7380",
   "metadata": {},
   "outputs": [],
   "source": [
    "import os \n",
    "import numpy as np\n",
    "numbers = np.arange(1,10)\n",
    "for number in numbers: \n",
    "    folder_name = f'sub-0{number}'\n",
    "    if not os.path.exists(folder_name):\n",
    "        os.mkdir(folder_name)\n",
    "        os.mkdir(os.path.join(folder_name,'func'))"
   ]
  },
  {
   "cell_type": "code",
   "execution_count": 9,
   "id": "b146baf1",
   "metadata": {},
   "outputs": [],
   "source": [
    "import os \n",
    "import numpy as np\n",
    "numbers = np.arange(10,5510)\n",
    "for number in numbers: \n",
    "    folder_name = f'sub-{number}' \n",
    "    if not os.path.exists(folder_name):\n",
    "        os.mkdir(folder_name)\n",
    "        os.mkdir(os.path.join(folder_name,'func'))"
   ]
  },
  {
   "cell_type": "code",
   "execution_count": 1,
   "id": "4e0086be",
   "metadata": {},
   "outputs": [
    {
     "data": {
      "text/plain": [
       "'/mmfs1/data/pijarj/BC-ORG-Data/Code/Archive'"
      ]
     },
     "execution_count": 1,
     "metadata": {},
     "output_type": "execute_result"
    }
   ],
   "source": [
    "pwd"
   ]
  },
  {
   "cell_type": "code",
   "execution_count": 3,
   "id": "d63ad667-1128-4a16-a14c-e1c0da922609",
   "metadata": {},
   "outputs": [
    {
     "name": "stdout",
     "output_type": "stream",
     "text": [
      "/mmfs1/data/pijarj/BC-ORG-Data/Code\n"
     ]
    }
   ],
   "source": [
    "cd ../ "
   ]
  },
  {
   "cell_type": "code",
   "execution_count": 4,
   "id": "b74c8c6c-dc4e-4a33-9197-1c82b65d7f6a",
   "metadata": {},
   "outputs": [
    {
     "name": "stdout",
     "output_type": "stream",
     "text": [
      "/mmfs1/data/pijarj/BC-ORG-Data\n"
     ]
    }
   ],
   "source": [
    "cd ../ "
   ]
  },
  {
   "cell_type": "code",
   "execution_count": 5,
   "id": "dc2a7946-8f77-4585-bf4a-11a671d86e9c",
   "metadata": {},
   "outputs": [
    {
     "name": "stdout",
     "output_type": "stream",
     "text": [
      "/mmfs1/data/pijarj\n"
     ]
    }
   ],
   "source": [
    "cd ../ "
   ]
  },
  {
   "cell_type": "code",
   "execution_count": 6,
   "id": "950dad89-c3f1-4a68-9e06-60f55fac1271",
   "metadata": {},
   "outputs": [
    {
     "name": "stdout",
     "output_type": "stream",
     "text": [
      "\u001b[0m\u001b[38;5;33mAglinskas\u001b[0m/                         \u001b[38;5;33mds-2155\u001b[0m/             \u001b[38;5;40mfmriprep.simg\u001b[0m*  \u001b[38;5;33mplay\u001b[0m/\n",
      "\u001b[38;5;33manaconda3\u001b[0m/                         \u001b[38;5;33mds-2155-v1\u001b[0m/          fs_licence.txt\n",
      "Anaconda3-2021.05-Linux-x86_64.sh  ExampleofCopy.ipynb  \u001b[38;5;33mndar_fmri\u001b[0m/\n",
      "\u001b[38;5;33mBC-ORG-Data\u001b[0m/                       fMRI_Prep.ipynb      \u001b[38;5;9mNIFTI4D.tar.gz\u001b[0m\n"
     ]
    }
   ],
   "source": [
    "ls"
   ]
  },
  {
   "cell_type": "code",
   "execution_count": 7,
   "id": "09a52d5d-3f71-427d-b001-9b1a64215c71",
   "metadata": {},
   "outputs": [],
   "source": [
    "mkdir ds-2026"
   ]
  },
  {
   "cell_type": "code",
   "execution_count": 8,
   "id": "d4906a20-c2fa-42f5-b7fc-ca66c31dc920",
   "metadata": {},
   "outputs": [],
   "source": []
  },
  {
   "cell_type": "code",
   "execution_count": 16,
   "id": "910c67e4-51ee-4827-b860-56edc280d488",
   "metadata": {},
   "outputs": [
    {
     "data": {
      "text/plain": [
       "'/mmfs1/data/pijarj'"
      ]
     },
     "execution_count": 16,
     "metadata": {},
     "output_type": "execute_result"
    }
   ],
   "source": [
    "pwd"
   ]
  },
  {
   "cell_type": "code",
   "execution_count": 17,
   "id": "aedd0594-10e7-4cbc-b069-d3317d8bc3bb",
   "metadata": {},
   "outputs": [
    {
     "name": "stdout",
     "output_type": "stream",
     "text": [
      "/mmfs1/data/pijarj/BC-ORG-Data/Code\n"
     ]
    }
   ],
   "source": [
    "cd BC-ORG-Data/Code"
   ]
  },
  {
   "cell_type": "code",
   "execution_count": 18,
   "id": "240b4300-d0bb-462e-a37f-69d10f54850d",
   "metadata": {},
   "outputs": [],
   "source": [
    "import pandas as pd\n",
    "import os\n",
    "import shutil\n",
    "import numpy as np\n",
    "from tqdm import tqdm"
   ]
  },
  {
   "cell_type": "code",
   "execution_count": 19,
   "id": "bfbdf68a-b105-471c-9d73-62d4ddb39421",
   "metadata": {},
   "outputs": [
    {
     "data": {
      "text/html": [
       "<div>\n",
       "<style scoped>\n",
       "    .dataframe tbody tr th:only-of-type {\n",
       "        vertical-align: middle;\n",
       "    }\n",
       "\n",
       "    .dataframe tbody tr th {\n",
       "        vertical-align: top;\n",
       "    }\n",
       "\n",
       "    .dataframe thead th {\n",
       "        text-align: right;\n",
       "    }\n",
       "</style>\n",
       "<table border=\"1\" class=\"dataframe\">\n",
       "  <thead>\n",
       "    <tr style=\"text-align: right;\">\n",
       "      <th></th>\n",
       "      <th>Unnamed: 0</th>\n",
       "      <th>collection_id</th>\n",
       "      <th>image03_id</th>\n",
       "      <th>dataset_id</th>\n",
       "      <th>subjectkey</th>\n",
       "      <th>src_subject_id</th>\n",
       "      <th>interview_age</th>\n",
       "      <th>sex</th>\n",
       "      <th>comments_misc</th>\n",
       "      <th>image_file</th>\n",
       "      <th>...</th>\n",
       "      <th>visit</th>\n",
       "      <th>slice_timing</th>\n",
       "      <th>bvek_bval_files</th>\n",
       "      <th>deviceserialnumber</th>\n",
       "      <th>procdate</th>\n",
       "      <th>visnum</th>\n",
       "      <th>manifest</th>\n",
       "      <th>collection_title</th>\n",
       "      <th>local_paths</th>\n",
       "      <th>is_nii_gz</th>\n",
       "    </tr>\n",
       "  </thead>\n",
       "  <tbody>\n",
       "    <tr>\n",
       "      <th>0</th>\n",
       "      <td>1</td>\n",
       "      <td>2075</td>\n",
       "      <td>367948</td>\n",
       "      <td>9786</td>\n",
       "      <td>NDARAV510ZB5</td>\n",
       "      <td>1108</td>\n",
       "      <td>107</td>\n",
       "      <td>M</td>\n",
       "      <td>NaN</td>\n",
       "      <td>s3://NDAR_Central_1/submission_10916/TNAD-x-21...</td>\n",
       "      <td>...</td>\n",
       "      <td>NaN</td>\n",
       "      <td>NaN</td>\n",
       "      <td>NaN</td>\n",
       "      <td>NaN</td>\n",
       "      <td>NaN</td>\n",
       "      <td>NaN</td>\n",
       "      <td>NaN</td>\n",
       "      <td>Mapping Thalamocortical Networks Across Develo...</td>\n",
       "      <td>./image03/TNAD-x-212988-x-212988-x-501-d0203.n...</td>\n",
       "      <td>True</td>\n",
       "    </tr>\n",
       "    <tr>\n",
       "      <th>1</th>\n",
       "      <td>2</td>\n",
       "      <td>2075</td>\n",
       "      <td>367949</td>\n",
       "      <td>9786</td>\n",
       "      <td>NDARCZ285AMD</td>\n",
       "      <td>1147</td>\n",
       "      <td>218</td>\n",
       "      <td>F</td>\n",
       "      <td>NaN</td>\n",
       "      <td>s3://NDAR_Central_1/submission_10916/TNAD-x-21...</td>\n",
       "      <td>...</td>\n",
       "      <td>NaN</td>\n",
       "      <td>NaN</td>\n",
       "      <td>NaN</td>\n",
       "      <td>NaN</td>\n",
       "      <td>NaN</td>\n",
       "      <td>NaN</td>\n",
       "      <td>NaN</td>\n",
       "      <td>Mapping Thalamocortical Networks Across Develo...</td>\n",
       "      <td>./image03/TNAD-x-214064-x-214064-x-501-d0203.n...</td>\n",
       "      <td>True</td>\n",
       "    </tr>\n",
       "    <tr>\n",
       "      <th>2</th>\n",
       "      <td>3</td>\n",
       "      <td>2075</td>\n",
       "      <td>367950</td>\n",
       "      <td>9786</td>\n",
       "      <td>NDARVM585CF7</td>\n",
       "      <td>1179</td>\n",
       "      <td>287</td>\n",
       "      <td>M</td>\n",
       "      <td>NaN</td>\n",
       "      <td>s3://NDAR_Central_1/submission_10916/TNAD-x-21...</td>\n",
       "      <td>...</td>\n",
       "      <td>NaN</td>\n",
       "      <td>NaN</td>\n",
       "      <td>NaN</td>\n",
       "      <td>NaN</td>\n",
       "      <td>NaN</td>\n",
       "      <td>NaN</td>\n",
       "      <td>NaN</td>\n",
       "      <td>Mapping Thalamocortical Networks Across Develo...</td>\n",
       "      <td>./image03/TNAD-x-212797-x-212797-x-501-d0203.n...</td>\n",
       "      <td>True</td>\n",
       "    </tr>\n",
       "    <tr>\n",
       "      <th>3</th>\n",
       "      <td>4</td>\n",
       "      <td>2075</td>\n",
       "      <td>367951</td>\n",
       "      <td>9786</td>\n",
       "      <td>NDARXK457KEY</td>\n",
       "      <td>1232</td>\n",
       "      <td>427</td>\n",
       "      <td>M</td>\n",
       "      <td>NaN</td>\n",
       "      <td>s3://NDAR_Central_1/submission_10916/TNAD-x-21...</td>\n",
       "      <td>...</td>\n",
       "      <td>NaN</td>\n",
       "      <td>NaN</td>\n",
       "      <td>NaN</td>\n",
       "      <td>NaN</td>\n",
       "      <td>NaN</td>\n",
       "      <td>NaN</td>\n",
       "      <td>NaN</td>\n",
       "      <td>Mapping Thalamocortical Networks Across Develo...</td>\n",
       "      <td>./image03/TNAD-x-215614-x-215614-x-501-d0203.n...</td>\n",
       "      <td>True</td>\n",
       "    </tr>\n",
       "    <tr>\n",
       "      <th>4</th>\n",
       "      <td>5</td>\n",
       "      <td>2075</td>\n",
       "      <td>367952</td>\n",
       "      <td>9786</td>\n",
       "      <td>NDARJG780VAV</td>\n",
       "      <td>1323</td>\n",
       "      <td>241</td>\n",
       "      <td>M</td>\n",
       "      <td>NaN</td>\n",
       "      <td>s3://NDAR_Central_1/submission_10916/TNAD-x-21...</td>\n",
       "      <td>...</td>\n",
       "      <td>NaN</td>\n",
       "      <td>NaN</td>\n",
       "      <td>NaN</td>\n",
       "      <td>NaN</td>\n",
       "      <td>NaN</td>\n",
       "      <td>NaN</td>\n",
       "      <td>NaN</td>\n",
       "      <td>Mapping Thalamocortical Networks Across Develo...</td>\n",
       "      <td>./image03/TNAD-x-212467-x-212467-x-501-d0203.n...</td>\n",
       "      <td>True</td>\n",
       "    </tr>\n",
       "    <tr>\n",
       "      <th>...</th>\n",
       "      <td>...</td>\n",
       "      <td>...</td>\n",
       "      <td>...</td>\n",
       "      <td>...</td>\n",
       "      <td>...</td>\n",
       "      <td>...</td>\n",
       "      <td>...</td>\n",
       "      <td>...</td>\n",
       "      <td>...</td>\n",
       "      <td>...</td>\n",
       "      <td>...</td>\n",
       "      <td>...</td>\n",
       "      <td>...</td>\n",
       "      <td>...</td>\n",
       "      <td>...</td>\n",
       "      <td>...</td>\n",
       "      <td>...</td>\n",
       "      <td>...</td>\n",
       "      <td>...</td>\n",
       "      <td>...</td>\n",
       "      <td>...</td>\n",
       "    </tr>\n",
       "    <tr>\n",
       "      <th>5449</th>\n",
       "      <td>5450</td>\n",
       "      <td>2908</td>\n",
       "      <td>2181341</td>\n",
       "      <td>25765</td>\n",
       "      <td>NDAR_INVLE834JFG</td>\n",
       "      <td>719313</td>\n",
       "      <td>37</td>\n",
       "      <td>M</td>\n",
       "      <td>NaN</td>\n",
       "      <td>s3://NDAR_Central_4/submission_24547/sub-71931...</td>\n",
       "      <td>...</td>\n",
       "      <td>01</td>\n",
       "      <td>[0.345, 0, 0.4325, 0.085, 0.52, 0.1725, 0.605,...</td>\n",
       "      <td>NaN</td>\n",
       "      <td>NaN</td>\n",
       "      <td>NaN</td>\n",
       "      <td>NaN</td>\n",
       "      <td>NaN</td>\n",
       "      <td>The contribution of aberrant anticipatory proc...</td>\n",
       "      <td>./image03/sub-719313/ses-01/func/sub-719313_se...</td>\n",
       "      <td>True</td>\n",
       "    </tr>\n",
       "    <tr>\n",
       "      <th>5450</th>\n",
       "      <td>5451</td>\n",
       "      <td>2908</td>\n",
       "      <td>2181342</td>\n",
       "      <td>25765</td>\n",
       "      <td>NDAR_INVLE834JFG</td>\n",
       "      <td>719313</td>\n",
       "      <td>37</td>\n",
       "      <td>M</td>\n",
       "      <td>NaN</td>\n",
       "      <td>s3://NDAR_Central_4/submission_24547/sub-71931...</td>\n",
       "      <td>...</td>\n",
       "      <td>01</td>\n",
       "      <td>[0.3475, 0, 0.435, 0.0875, 0.52, 0.175, 0.6075...</td>\n",
       "      <td>NaN</td>\n",
       "      <td>NaN</td>\n",
       "      <td>NaN</td>\n",
       "      <td>NaN</td>\n",
       "      <td>NaN</td>\n",
       "      <td>The contribution of aberrant anticipatory proc...</td>\n",
       "      <td>./image03/sub-719313/ses-01/func/sub-719313_se...</td>\n",
       "      <td>True</td>\n",
       "    </tr>\n",
       "    <tr>\n",
       "      <th>5451</th>\n",
       "      <td>5452</td>\n",
       "      <td>2908</td>\n",
       "      <td>2180584</td>\n",
       "      <td>25765</td>\n",
       "      <td>NDAR_INVAU072EHW</td>\n",
       "      <td>719331</td>\n",
       "      <td>15</td>\n",
       "      <td>F</td>\n",
       "      <td>NaN</td>\n",
       "      <td>s3://NDAR_Central_4/submission_24547/sub-71933...</td>\n",
       "      <td>...</td>\n",
       "      <td>02</td>\n",
       "      <td>[0.345, 0, 0.4325, 0.085, 0.5175, 0.1725, 0.60...</td>\n",
       "      <td>NaN</td>\n",
       "      <td>NaN</td>\n",
       "      <td>NaN</td>\n",
       "      <td>NaN</td>\n",
       "      <td>NaN</td>\n",
       "      <td>The contribution of aberrant anticipatory proc...</td>\n",
       "      <td>./image03/sub-719331/ses-02/func/sub-719331_se...</td>\n",
       "      <td>True</td>\n",
       "    </tr>\n",
       "    <tr>\n",
       "      <th>5452</th>\n",
       "      <td>5453</td>\n",
       "      <td>2908</td>\n",
       "      <td>2180686</td>\n",
       "      <td>25765</td>\n",
       "      <td>NDARAP899TJ5</td>\n",
       "      <td>718111</td>\n",
       "      <td>396</td>\n",
       "      <td>F</td>\n",
       "      <td>NaN</td>\n",
       "      <td>s3://NDAR_Central_4/submission_24547/sub-71811...</td>\n",
       "      <td>...</td>\n",
       "      <td>02</td>\n",
       "      <td>[0.3475, 0, 0.4325, 0.0875, 0.52, 0.1725, 0.60...</td>\n",
       "      <td>NaN</td>\n",
       "      <td>NaN</td>\n",
       "      <td>NaN</td>\n",
       "      <td>NaN</td>\n",
       "      <td>NaN</td>\n",
       "      <td>The contribution of aberrant anticipatory proc...</td>\n",
       "      <td>./image03/sub-718111/ses-02/func/sub-718111_se...</td>\n",
       "      <td>True</td>\n",
       "    </tr>\n",
       "    <tr>\n",
       "      <th>5453</th>\n",
       "      <td>5454</td>\n",
       "      <td>2908</td>\n",
       "      <td>2180788</td>\n",
       "      <td>25765</td>\n",
       "      <td>NDAR_INVFP073EHN</td>\n",
       "      <td>719329</td>\n",
       "      <td>3</td>\n",
       "      <td>F</td>\n",
       "      <td>NaN</td>\n",
       "      <td>s3://NDAR_Central_4/submission_24547/sub-71932...</td>\n",
       "      <td>...</td>\n",
       "      <td>01</td>\n",
       "      <td>[0.345, 0, 0.4325, 0.085, 0.52, 0.1725, 0.605,...</td>\n",
       "      <td>NaN</td>\n",
       "      <td>NaN</td>\n",
       "      <td>NaN</td>\n",
       "      <td>NaN</td>\n",
       "      <td>NaN</td>\n",
       "      <td>The contribution of aberrant anticipatory proc...</td>\n",
       "      <td>./image03/sub-719329/ses-01/func/sub-719329_se...</td>\n",
       "      <td>True</td>\n",
       "    </tr>\n",
       "  </tbody>\n",
       "</table>\n",
       "<p>3832 rows × 76 columns</p>\n",
       "</div>"
      ],
      "text/plain": [
       "      Unnamed: 0  collection_id  image03_id  dataset_id        subjectkey  \\\n",
       "0              1           2075      367948        9786      NDARAV510ZB5   \n",
       "1              2           2075      367949        9786      NDARCZ285AMD   \n",
       "2              3           2075      367950        9786      NDARVM585CF7   \n",
       "3              4           2075      367951        9786      NDARXK457KEY   \n",
       "4              5           2075      367952        9786      NDARJG780VAV   \n",
       "...          ...            ...         ...         ...               ...   \n",
       "5449        5450           2908     2181341       25765  NDAR_INVLE834JFG   \n",
       "5450        5451           2908     2181342       25765  NDAR_INVLE834JFG   \n",
       "5451        5452           2908     2180584       25765  NDAR_INVAU072EHW   \n",
       "5452        5453           2908     2180686       25765      NDARAP899TJ5   \n",
       "5453        5454           2908     2180788       25765  NDAR_INVFP073EHN   \n",
       "\n",
       "     src_subject_id  interview_age sex comments_misc  \\\n",
       "0              1108            107   M           NaN   \n",
       "1              1147            218   F           NaN   \n",
       "2              1179            287   M           NaN   \n",
       "3              1232            427   M           NaN   \n",
       "4              1323            241   M           NaN   \n",
       "...             ...            ...  ..           ...   \n",
       "5449         719313             37   M           NaN   \n",
       "5450         719313             37   M           NaN   \n",
       "5451         719331             15   F           NaN   \n",
       "5452         718111            396   F           NaN   \n",
       "5453         719329              3   F           NaN   \n",
       "\n",
       "                                             image_file  ... visit  \\\n",
       "0     s3://NDAR_Central_1/submission_10916/TNAD-x-21...  ...   NaN   \n",
       "1     s3://NDAR_Central_1/submission_10916/TNAD-x-21...  ...   NaN   \n",
       "2     s3://NDAR_Central_1/submission_10916/TNAD-x-21...  ...   NaN   \n",
       "3     s3://NDAR_Central_1/submission_10916/TNAD-x-21...  ...   NaN   \n",
       "4     s3://NDAR_Central_1/submission_10916/TNAD-x-21...  ...   NaN   \n",
       "...                                                 ...  ...   ...   \n",
       "5449  s3://NDAR_Central_4/submission_24547/sub-71931...  ...    01   \n",
       "5450  s3://NDAR_Central_4/submission_24547/sub-71931...  ...    01   \n",
       "5451  s3://NDAR_Central_4/submission_24547/sub-71933...  ...    02   \n",
       "5452  s3://NDAR_Central_4/submission_24547/sub-71811...  ...    02   \n",
       "5453  s3://NDAR_Central_4/submission_24547/sub-71932...  ...    01   \n",
       "\n",
       "                                           slice_timing  bvek_bval_files  \\\n",
       "0                                                   NaN              NaN   \n",
       "1                                                   NaN              NaN   \n",
       "2                                                   NaN              NaN   \n",
       "3                                                   NaN              NaN   \n",
       "4                                                   NaN              NaN   \n",
       "...                                                 ...              ...   \n",
       "5449  [0.345, 0, 0.4325, 0.085, 0.52, 0.1725, 0.605,...              NaN   \n",
       "5450  [0.3475, 0, 0.435, 0.0875, 0.52, 0.175, 0.6075...              NaN   \n",
       "5451  [0.345, 0, 0.4325, 0.085, 0.5175, 0.1725, 0.60...              NaN   \n",
       "5452  [0.3475, 0, 0.4325, 0.0875, 0.52, 0.1725, 0.60...              NaN   \n",
       "5453  [0.345, 0, 0.4325, 0.085, 0.52, 0.1725, 0.605,...              NaN   \n",
       "\n",
       "     deviceserialnumber procdate visnum manifest  \\\n",
       "0                   NaN      NaN    NaN      NaN   \n",
       "1                   NaN      NaN    NaN      NaN   \n",
       "2                   NaN      NaN    NaN      NaN   \n",
       "3                   NaN      NaN    NaN      NaN   \n",
       "4                   NaN      NaN    NaN      NaN   \n",
       "...                 ...      ...    ...      ...   \n",
       "5449                NaN      NaN    NaN      NaN   \n",
       "5450                NaN      NaN    NaN      NaN   \n",
       "5451                NaN      NaN    NaN      NaN   \n",
       "5452                NaN      NaN    NaN      NaN   \n",
       "5453                NaN      NaN    NaN      NaN   \n",
       "\n",
       "                                       collection_title  \\\n",
       "0     Mapping Thalamocortical Networks Across Develo...   \n",
       "1     Mapping Thalamocortical Networks Across Develo...   \n",
       "2     Mapping Thalamocortical Networks Across Develo...   \n",
       "3     Mapping Thalamocortical Networks Across Develo...   \n",
       "4     Mapping Thalamocortical Networks Across Develo...   \n",
       "...                                                 ...   \n",
       "5449  The contribution of aberrant anticipatory proc...   \n",
       "5450  The contribution of aberrant anticipatory proc...   \n",
       "5451  The contribution of aberrant anticipatory proc...   \n",
       "5452  The contribution of aberrant anticipatory proc...   \n",
       "5453  The contribution of aberrant anticipatory proc...   \n",
       "\n",
       "                                            local_paths is_nii_gz  \n",
       "0     ./image03/TNAD-x-212988-x-212988-x-501-d0203.n...      True  \n",
       "1     ./image03/TNAD-x-214064-x-214064-x-501-d0203.n...      True  \n",
       "2     ./image03/TNAD-x-212797-x-212797-x-501-d0203.n...      True  \n",
       "3     ./image03/TNAD-x-215614-x-215614-x-501-d0203.n...      True  \n",
       "4     ./image03/TNAD-x-212467-x-212467-x-501-d0203.n...      True  \n",
       "...                                                 ...       ...  \n",
       "5449  ./image03/sub-719313/ses-01/func/sub-719313_se...      True  \n",
       "5450  ./image03/sub-719313/ses-01/func/sub-719313_se...      True  \n",
       "5451  ./image03/sub-719331/ses-02/func/sub-719331_se...      True  \n",
       "5452  ./image03/sub-718111/ses-02/func/sub-718111_se...      True  \n",
       "5453  ./image03/sub-719329/ses-01/func/sub-719329_se...      True  \n",
       "\n",
       "[3832 rows x 76 columns]"
      ]
     },
     "execution_count": 19,
     "metadata": {},
     "output_type": "execute_result"
    }
   ],
   "source": [
    "df = pd.read_csv('../Data/general_csv.csv') #grab master list\n",
    "df['is_nii_gz'] = [file.endswith('.nii.gz') for file in df['local_paths'].values]\n",
    "df = df[df['is_nii_gz']]\n",
    "df"
   ]
  },
  {
   "cell_type": "code",
   "execution_count": 20,
   "id": "d094965b-54a1-403a-b2de-772b839e858c",
   "metadata": {},
   "outputs": [],
   "source": [
    "unique_studies = np.unique(df['collection_title'].values)"
   ]
  },
  {
   "cell_type": "code",
   "execution_count": 22,
   "id": "a6b3e2f2-381e-4a29-913e-a108f8455841",
   "metadata": {},
   "outputs": [],
   "source": [
    "for i in range(len(unique_studies)):\n",
    "    n = (df['collection_title']==unique_studies[i]).sum()"
   ]
  },
  {
   "cell_type": "code",
   "execution_count": 23,
   "id": "e2b0ee26-86d5-4595-a7a0-83173562258b",
   "metadata": {},
   "outputs": [],
   "source": [
    "study_name = 'Biomarkers of Developmental Trajectories and Treatment in ASD'"
   ]
  },
  {
   "cell_type": "code",
   "execution_count": 24,
   "id": "93171abf-2114-47e0-8226-3bf130955d7c",
   "metadata": {},
   "outputs": [
    {
     "data": {
      "text/html": [
       "<div>\n",
       "<style scoped>\n",
       "    .dataframe tbody tr th:only-of-type {\n",
       "        vertical-align: middle;\n",
       "    }\n",
       "\n",
       "    .dataframe tbody tr th {\n",
       "        vertical-align: top;\n",
       "    }\n",
       "\n",
       "    .dataframe thead th {\n",
       "        text-align: right;\n",
       "    }\n",
       "</style>\n",
       "<table border=\"1\" class=\"dataframe\">\n",
       "  <thead>\n",
       "    <tr style=\"text-align: right;\">\n",
       "      <th></th>\n",
       "      <th>Unnamed: 0</th>\n",
       "      <th>collection_id</th>\n",
       "      <th>image03_id</th>\n",
       "      <th>dataset_id</th>\n",
       "      <th>subjectkey</th>\n",
       "      <th>src_subject_id</th>\n",
       "      <th>interview_age</th>\n",
       "      <th>sex</th>\n",
       "      <th>comments_misc</th>\n",
       "      <th>image_file</th>\n",
       "      <th>...</th>\n",
       "      <th>visit</th>\n",
       "      <th>slice_timing</th>\n",
       "      <th>bvek_bval_files</th>\n",
       "      <th>deviceserialnumber</th>\n",
       "      <th>procdate</th>\n",
       "      <th>visnum</th>\n",
       "      <th>manifest</th>\n",
       "      <th>collection_title</th>\n",
       "      <th>local_paths</th>\n",
       "      <th>is_nii_gz</th>\n",
       "    </tr>\n",
       "  </thead>\n",
       "  <tbody>\n",
       "    <tr>\n",
       "      <th>1603</th>\n",
       "      <td>1604</td>\n",
       "      <td>2026</td>\n",
       "      <td>358729</td>\n",
       "      <td>9325</td>\n",
       "      <td>NDARUX676ZD7</td>\n",
       "      <td>IS199</td>\n",
       "      <td>148</td>\n",
       "      <td>M</td>\n",
       "      <td>NaN</td>\n",
       "      <td>s3://NDAR_Central_2/submission_10557/resting6m...</td>\n",
       "      <td>...</td>\n",
       "      <td>NaN</td>\n",
       "      <td>NaN</td>\n",
       "      <td>NaN</td>\n",
       "      <td>NaN</td>\n",
       "      <td>NaN</td>\n",
       "      <td>NaN</td>\n",
       "      <td>NaN</td>\n",
       "      <td>Biomarkers of Developmental Trajectories and T...</td>\n",
       "      <td>./image03/resting6min/IS199_resting6min_new_RP...</td>\n",
       "      <td>True</td>\n",
       "    </tr>\n",
       "    <tr>\n",
       "      <th>1604</th>\n",
       "      <td>1605</td>\n",
       "      <td>2026</td>\n",
       "      <td>358730</td>\n",
       "      <td>9325</td>\n",
       "      <td>NDARVP266GXE</td>\n",
       "      <td>ASD143B</td>\n",
       "      <td>175</td>\n",
       "      <td>M</td>\n",
       "      <td>NaN</td>\n",
       "      <td>s3://NDAR_Central_2/submission_10557/resting6m...</td>\n",
       "      <td>...</td>\n",
       "      <td>NaN</td>\n",
       "      <td>NaN</td>\n",
       "      <td>NaN</td>\n",
       "      <td>NaN</td>\n",
       "      <td>NaN</td>\n",
       "      <td>NaN</td>\n",
       "      <td>NaN</td>\n",
       "      <td>Biomarkers of Developmental Trajectories and T...</td>\n",
       "      <td>./image03/resting6min/ASD143B_resting6min_new_...</td>\n",
       "      <td>True</td>\n",
       "    </tr>\n",
       "    <tr>\n",
       "      <th>1605</th>\n",
       "      <td>1606</td>\n",
       "      <td>2026</td>\n",
       "      <td>358732</td>\n",
       "      <td>9325</td>\n",
       "      <td>NDARNC157NJ2</td>\n",
       "      <td>ASD126C_CCN</td>\n",
       "      <td>181</td>\n",
       "      <td>M</td>\n",
       "      <td>NaN</td>\n",
       "      <td>s3://NDAR_Central_2/submission_10557/resting6m...</td>\n",
       "      <td>...</td>\n",
       "      <td>NaN</td>\n",
       "      <td>NaN</td>\n",
       "      <td>NaN</td>\n",
       "      <td>NaN</td>\n",
       "      <td>NaN</td>\n",
       "      <td>NaN</td>\n",
       "      <td>NaN</td>\n",
       "      <td>Biomarkers of Developmental Trajectories and T...</td>\n",
       "      <td>./image03/resting6min/ASD126C_CCN_resting6min_...</td>\n",
       "      <td>True</td>\n",
       "    </tr>\n",
       "    <tr>\n",
       "      <th>1606</th>\n",
       "      <td>1607</td>\n",
       "      <td>2026</td>\n",
       "      <td>358733</td>\n",
       "      <td>9325</td>\n",
       "      <td>NDARRT690DVB</td>\n",
       "      <td>ASD137B_CCN</td>\n",
       "      <td>206</td>\n",
       "      <td>M</td>\n",
       "      <td>NaN</td>\n",
       "      <td>s3://NDAR_Central_2/submission_10557/resting6m...</td>\n",
       "      <td>...</td>\n",
       "      <td>NaN</td>\n",
       "      <td>NaN</td>\n",
       "      <td>NaN</td>\n",
       "      <td>NaN</td>\n",
       "      <td>NaN</td>\n",
       "      <td>NaN</td>\n",
       "      <td>NaN</td>\n",
       "      <td>Biomarkers of Developmental Trajectories and T...</td>\n",
       "      <td>./image03/resting6min/ASD137B_CCN_resting6min_...</td>\n",
       "      <td>True</td>\n",
       "    </tr>\n",
       "    <tr>\n",
       "      <th>1607</th>\n",
       "      <td>1608</td>\n",
       "      <td>2026</td>\n",
       "      <td>358734</td>\n",
       "      <td>9325</td>\n",
       "      <td>NDARKT210GEJ</td>\n",
       "      <td>ASD142B</td>\n",
       "      <td>188</td>\n",
       "      <td>M</td>\n",
       "      <td>NaN</td>\n",
       "      <td>s3://NDAR_Central_2/submission_10557/resting6m...</td>\n",
       "      <td>...</td>\n",
       "      <td>NaN</td>\n",
       "      <td>NaN</td>\n",
       "      <td>NaN</td>\n",
       "      <td>NaN</td>\n",
       "      <td>NaN</td>\n",
       "      <td>NaN</td>\n",
       "      <td>NaN</td>\n",
       "      <td>Biomarkers of Developmental Trajectories and T...</td>\n",
       "      <td>./image03/resting6min/ASD142B_resting6min_new_...</td>\n",
       "      <td>True</td>\n",
       "    </tr>\n",
       "    <tr>\n",
       "      <th>...</th>\n",
       "      <td>...</td>\n",
       "      <td>...</td>\n",
       "      <td>...</td>\n",
       "      <td>...</td>\n",
       "      <td>...</td>\n",
       "      <td>...</td>\n",
       "      <td>...</td>\n",
       "      <td>...</td>\n",
       "      <td>...</td>\n",
       "      <td>...</td>\n",
       "      <td>...</td>\n",
       "      <td>...</td>\n",
       "      <td>...</td>\n",
       "      <td>...</td>\n",
       "      <td>...</td>\n",
       "      <td>...</td>\n",
       "      <td>...</td>\n",
       "      <td>...</td>\n",
       "      <td>...</td>\n",
       "      <td>...</td>\n",
       "      <td>...</td>\n",
       "    </tr>\n",
       "    <tr>\n",
       "      <th>3687</th>\n",
       "      <td>3688</td>\n",
       "      <td>2026</td>\n",
       "      <td>448725</td>\n",
       "      <td>10880</td>\n",
       "      <td>NDARFW153HEP</td>\n",
       "      <td>TD125</td>\n",
       "      <td>201</td>\n",
       "      <td>M</td>\n",
       "      <td>NaN</td>\n",
       "      <td>s3://NDAR_Central_4/submission_11775/TD125D_CC...</td>\n",
       "      <td>...</td>\n",
       "      <td>NaN</td>\n",
       "      <td>1.5075,0,1.595,0.09,1.6825,0.1775,1.7725,0.267...</td>\n",
       "      <td>NaN</td>\n",
       "      <td>NaN</td>\n",
       "      <td>NaN</td>\n",
       "      <td>NaN</td>\n",
       "      <td>NaN</td>\n",
       "      <td>Biomarkers of Developmental Trajectories and T...</td>\n",
       "      <td>./image03/TD125D_CCN_resting8min_new_RPI.nii.gz</td>\n",
       "      <td>True</td>\n",
       "    </tr>\n",
       "    <tr>\n",
       "      <th>3688</th>\n",
       "      <td>3689</td>\n",
       "      <td>2026</td>\n",
       "      <td>448726</td>\n",
       "      <td>10880</td>\n",
       "      <td>NDARPH177CKJ</td>\n",
       "      <td>TD130</td>\n",
       "      <td>197</td>\n",
       "      <td>M</td>\n",
       "      <td>NaN</td>\n",
       "      <td>s3://NDAR_Central_4/submission_11775/TD130D_CC...</td>\n",
       "      <td>...</td>\n",
       "      <td>NaN</td>\n",
       "      <td>1.5075,0,1.595,0.09,1.6825,0.1775,1.7725,0.267...</td>\n",
       "      <td>NaN</td>\n",
       "      <td>NaN</td>\n",
       "      <td>NaN</td>\n",
       "      <td>NaN</td>\n",
       "      <td>NaN</td>\n",
       "      <td>Biomarkers of Developmental Trajectories and T...</td>\n",
       "      <td>./image03/TD130D_CCN_resting8min_new_RPI.nii.gz</td>\n",
       "      <td>True</td>\n",
       "    </tr>\n",
       "    <tr>\n",
       "      <th>3689</th>\n",
       "      <td>3690</td>\n",
       "      <td>2026</td>\n",
       "      <td>448728</td>\n",
       "      <td>10880</td>\n",
       "      <td>NDAR_INVXR271BVJ</td>\n",
       "      <td>TD154</td>\n",
       "      <td>210</td>\n",
       "      <td>M</td>\n",
       "      <td>NaN</td>\n",
       "      <td>s3://NDAR_Central_4/submission_11775/TD154B_CC...</td>\n",
       "      <td>...</td>\n",
       "      <td>NaN</td>\n",
       "      <td>1.505,0,1.5925,0.0875,1.6825,0.175,1.77,0.265,...</td>\n",
       "      <td>NaN</td>\n",
       "      <td>NaN</td>\n",
       "      <td>NaN</td>\n",
       "      <td>NaN</td>\n",
       "      <td>NaN</td>\n",
       "      <td>Biomarkers of Developmental Trajectories and T...</td>\n",
       "      <td>./image03/TD154B_CCN_resting8min_new_RPI.nii.gz</td>\n",
       "      <td>True</td>\n",
       "    </tr>\n",
       "    <tr>\n",
       "      <th>3690</th>\n",
       "      <td>3691</td>\n",
       "      <td>2026</td>\n",
       "      <td>448729</td>\n",
       "      <td>10880</td>\n",
       "      <td>NDAREM082UMN</td>\n",
       "      <td>TD155</td>\n",
       "      <td>204</td>\n",
       "      <td>M</td>\n",
       "      <td>NaN</td>\n",
       "      <td>s3://NDAR_Central_4/submission_11775/TD155B_CC...</td>\n",
       "      <td>...</td>\n",
       "      <td>NaN</td>\n",
       "      <td>1.505,0,1.595,0.0875,1.6825,0.1775,1.77,0.265,...</td>\n",
       "      <td>NaN</td>\n",
       "      <td>NaN</td>\n",
       "      <td>NaN</td>\n",
       "      <td>NaN</td>\n",
       "      <td>NaN</td>\n",
       "      <td>Biomarkers of Developmental Trajectories and T...</td>\n",
       "      <td>./image03/TD155B_CCN_resting8min_new_RPI.nii.gz</td>\n",
       "      <td>True</td>\n",
       "    </tr>\n",
       "    <tr>\n",
       "      <th>3691</th>\n",
       "      <td>3692</td>\n",
       "      <td>2026</td>\n",
       "      <td>448730</td>\n",
       "      <td>10880</td>\n",
       "      <td>NDARAT927UCZ</td>\n",
       "      <td>TD156</td>\n",
       "      <td>174</td>\n",
       "      <td>M</td>\n",
       "      <td>NaN</td>\n",
       "      <td>s3://NDAR_Central_4/submission_11775/TD156B_CC...</td>\n",
       "      <td>...</td>\n",
       "      <td>NaN</td>\n",
       "      <td>1.5075,0,1.595,0.09,1.6825,0.1775,1.7725,0.267...</td>\n",
       "      <td>NaN</td>\n",
       "      <td>NaN</td>\n",
       "      <td>NaN</td>\n",
       "      <td>NaN</td>\n",
       "      <td>NaN</td>\n",
       "      <td>Biomarkers of Developmental Trajectories and T...</td>\n",
       "      <td>./image03/TD156B_CCN_resting8min_new_RPI.nii.gz</td>\n",
       "      <td>True</td>\n",
       "    </tr>\n",
       "  </tbody>\n",
       "</table>\n",
       "<p>78 rows × 76 columns</p>\n",
       "</div>"
      ],
      "text/plain": [
       "      Unnamed: 0  collection_id  image03_id  dataset_id        subjectkey  \\\n",
       "1603        1604           2026      358729        9325      NDARUX676ZD7   \n",
       "1604        1605           2026      358730        9325      NDARVP266GXE   \n",
       "1605        1606           2026      358732        9325      NDARNC157NJ2   \n",
       "1606        1607           2026      358733        9325      NDARRT690DVB   \n",
       "1607        1608           2026      358734        9325      NDARKT210GEJ   \n",
       "...          ...            ...         ...         ...               ...   \n",
       "3687        3688           2026      448725       10880      NDARFW153HEP   \n",
       "3688        3689           2026      448726       10880      NDARPH177CKJ   \n",
       "3689        3690           2026      448728       10880  NDAR_INVXR271BVJ   \n",
       "3690        3691           2026      448729       10880      NDAREM082UMN   \n",
       "3691        3692           2026      448730       10880      NDARAT927UCZ   \n",
       "\n",
       "     src_subject_id  interview_age sex comments_misc  \\\n",
       "1603          IS199            148   M           NaN   \n",
       "1604        ASD143B            175   M           NaN   \n",
       "1605    ASD126C_CCN            181   M           NaN   \n",
       "1606    ASD137B_CCN            206   M           NaN   \n",
       "1607        ASD142B            188   M           NaN   \n",
       "...             ...            ...  ..           ...   \n",
       "3687          TD125            201   M           NaN   \n",
       "3688          TD130            197   M           NaN   \n",
       "3689          TD154            210   M           NaN   \n",
       "3690          TD155            204   M           NaN   \n",
       "3691          TD156            174   M           NaN   \n",
       "\n",
       "                                             image_file  ... visit  \\\n",
       "1603  s3://NDAR_Central_2/submission_10557/resting6m...  ...   NaN   \n",
       "1604  s3://NDAR_Central_2/submission_10557/resting6m...  ...   NaN   \n",
       "1605  s3://NDAR_Central_2/submission_10557/resting6m...  ...   NaN   \n",
       "1606  s3://NDAR_Central_2/submission_10557/resting6m...  ...   NaN   \n",
       "1607  s3://NDAR_Central_2/submission_10557/resting6m...  ...   NaN   \n",
       "...                                                 ...  ...   ...   \n",
       "3687  s3://NDAR_Central_4/submission_11775/TD125D_CC...  ...   NaN   \n",
       "3688  s3://NDAR_Central_4/submission_11775/TD130D_CC...  ...   NaN   \n",
       "3689  s3://NDAR_Central_4/submission_11775/TD154B_CC...  ...   NaN   \n",
       "3690  s3://NDAR_Central_4/submission_11775/TD155B_CC...  ...   NaN   \n",
       "3691  s3://NDAR_Central_4/submission_11775/TD156B_CC...  ...   NaN   \n",
       "\n",
       "                                           slice_timing  bvek_bval_files  \\\n",
       "1603                                                NaN              NaN   \n",
       "1604                                                NaN              NaN   \n",
       "1605                                                NaN              NaN   \n",
       "1606                                                NaN              NaN   \n",
       "1607                                                NaN              NaN   \n",
       "...                                                 ...              ...   \n",
       "3687  1.5075,0,1.595,0.09,1.6825,0.1775,1.7725,0.267...              NaN   \n",
       "3688  1.5075,0,1.595,0.09,1.6825,0.1775,1.7725,0.267...              NaN   \n",
       "3689  1.505,0,1.5925,0.0875,1.6825,0.175,1.77,0.265,...              NaN   \n",
       "3690  1.505,0,1.595,0.0875,1.6825,0.1775,1.77,0.265,...              NaN   \n",
       "3691  1.5075,0,1.595,0.09,1.6825,0.1775,1.7725,0.267...              NaN   \n",
       "\n",
       "     deviceserialnumber procdate visnum manifest  \\\n",
       "1603                NaN      NaN    NaN      NaN   \n",
       "1604                NaN      NaN    NaN      NaN   \n",
       "1605                NaN      NaN    NaN      NaN   \n",
       "1606                NaN      NaN    NaN      NaN   \n",
       "1607                NaN      NaN    NaN      NaN   \n",
       "...                 ...      ...    ...      ...   \n",
       "3687                NaN      NaN    NaN      NaN   \n",
       "3688                NaN      NaN    NaN      NaN   \n",
       "3689                NaN      NaN    NaN      NaN   \n",
       "3690                NaN      NaN    NaN      NaN   \n",
       "3691                NaN      NaN    NaN      NaN   \n",
       "\n",
       "                                       collection_title  \\\n",
       "1603  Biomarkers of Developmental Trajectories and T...   \n",
       "1604  Biomarkers of Developmental Trajectories and T...   \n",
       "1605  Biomarkers of Developmental Trajectories and T...   \n",
       "1606  Biomarkers of Developmental Trajectories and T...   \n",
       "1607  Biomarkers of Developmental Trajectories and T...   \n",
       "...                                                 ...   \n",
       "3687  Biomarkers of Developmental Trajectories and T...   \n",
       "3688  Biomarkers of Developmental Trajectories and T...   \n",
       "3689  Biomarkers of Developmental Trajectories and T...   \n",
       "3690  Biomarkers of Developmental Trajectories and T...   \n",
       "3691  Biomarkers of Developmental Trajectories and T...   \n",
       "\n",
       "                                            local_paths is_nii_gz  \n",
       "1603  ./image03/resting6min/IS199_resting6min_new_RP...      True  \n",
       "1604  ./image03/resting6min/ASD143B_resting6min_new_...      True  \n",
       "1605  ./image03/resting6min/ASD126C_CCN_resting6min_...      True  \n",
       "1606  ./image03/resting6min/ASD137B_CCN_resting6min_...      True  \n",
       "1607  ./image03/resting6min/ASD142B_resting6min_new_...      True  \n",
       "...                                                 ...       ...  \n",
       "3687    ./image03/TD125D_CCN_resting8min_new_RPI.nii.gz      True  \n",
       "3688    ./image03/TD130D_CCN_resting8min_new_RPI.nii.gz      True  \n",
       "3689    ./image03/TD154B_CCN_resting8min_new_RPI.nii.gz      True  \n",
       "3690    ./image03/TD155B_CCN_resting8min_new_RPI.nii.gz      True  \n",
       "3691    ./image03/TD156B_CCN_resting8min_new_RPI.nii.gz      True  \n",
       "\n",
       "[78 rows x 76 columns]"
      ]
     },
     "execution_count": 24,
     "metadata": {},
     "output_type": "execute_result"
    }
   ],
   "source": [
    "study_df = df[df['collection_title']==study_name] # Slice \n",
    "study_df"
   ]
  },
  {
   "cell_type": "code",
   "execution_count": 25,
   "id": "a7cf5ea2-b1b5-4b10-8269-358b62fa3b30",
   "metadata": {},
   "outputs": [
    {
     "data": {
      "text/plain": [
       "2026"
      ]
     },
     "execution_count": 25,
     "metadata": {},
     "output_type": "execute_result"
    }
   ],
   "source": [
    "nsubjects = len(study_df)\n",
    "collection_id = study_df['collection_id'].values[0]\n",
    "collection_id"
   ]
  },
  {
   "cell_type": "code",
   "execution_count": 26,
   "id": "31f4e383-b149-4865-bf8f-8d00569f3906",
   "metadata": {},
   "outputs": [],
   "source": [
    "ndar_root = '../../ndar_fmri/'  \n",
    "bids_root = '../../ds-2026'"
   ]
  },
  {
   "cell_type": "code",
   "execution_count": 27,
   "id": "5b6f4898-9be1-4d48-b641-bc7f2ebcd5d0",
   "metadata": {},
   "outputs": [],
   "source": [
    "def safe_mkdir(path):\n",
    "    if not os.path.exists(path):\n",
    "        os.mkdir(path)\n",
    "    else:\n",
    "        pass"
   ]
  },
  {
   "cell_type": "code",
   "execution_count": 28,
   "id": "1520c905-6270-4f3e-b42e-7a1c3b8c0155",
   "metadata": {},
   "outputs": [],
   "source": [
    "safe_mkdir(os.path.join(bids_root,f'ds-{collection_id}'))\n",
    "for s in range(nsubjects):\n",
    "    safe_mkdir(os.path.join(bids_root,f'ds-{collection_id}',f'sub-{s:03d}'))\n",
    "    safe_mkdir(os.path.join(bids_root,f'ds-{collection_id}',f'sub-{s:03d}','func'))"
   ]
  },
  {
   "cell_type": "code",
   "execution_count": 29,
   "id": "4bd275ed-c8f2-4561-9cb1-b700213d829b",
   "metadata": {},
   "outputs": [
    {
     "name": "stderr",
     "output_type": "stream",
     "text": [
      "100%|██████████| 78/78 [00:20<00:00,  3.86it/s]\n"
     ]
    }
   ],
   "source": [
    "for s in tqdm(range(nsubjects)):\n",
    "    inpath = os.path.join(ndar_root,study_df['local_paths'].values[s][2::])\n",
    "    outpath = os.path.join(bids_root,f'ds-{collection_id}',f'sub-{s:03d}','func',f'sub-{s:03d}_task-rest_bold.nii.gz')\n",
    "    shutil.copyfile(src=inpath,dst=outpath)"
   ]
  },
  {
   "cell_type": "code",
   "execution_count": null,
   "id": "6ea74d7e-bc93-4530-bfea-4be0493ac2c0",
   "metadata": {},
   "outputs": [],
   "source": []
  },
  {
   "cell_type": "code",
   "execution_count": null,
   "id": "bcf0c5e2-2e94-4ae9-9162-dbf1cca65426",
   "metadata": {},
   "outputs": [],
   "source": []
  },
  {
   "cell_type": "code",
   "execution_count": null,
   "id": "635214a4-80c5-40bb-85cb-36fe6368693c",
   "metadata": {},
   "outputs": [],
   "source": []
  },
  {
   "cell_type": "code",
   "execution_count": null,
   "id": "f695ea18-521f-4b96-bf50-035d2060ee9b",
   "metadata": {},
   "outputs": [],
   "source": []
  },
  {
   "cell_type": "code",
   "execution_count": null,
   "id": "5cb76a31-7144-402f-b7d3-bd97db9dead5",
   "metadata": {},
   "outputs": [],
   "source": []
  }
 ],
 "metadata": {
  "kernelspec": {
   "display_name": "Python 3",
   "language": "python",
   "name": "python3"
  },
  "language_info": {
   "codemirror_mode": {
    "name": "ipython",
    "version": 3
   },
   "file_extension": ".py",
   "mimetype": "text/x-python",
   "name": "python",
   "nbconvert_exporter": "python",
   "pygments_lexer": "ipython3",
   "version": "3.8.8"
  }
 },
 "nbformat": 4,
 "nbformat_minor": 5
}
