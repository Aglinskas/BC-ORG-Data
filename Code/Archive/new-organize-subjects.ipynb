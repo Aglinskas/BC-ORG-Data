{
 "cells": [
  {
   "cell_type": "code",
   "execution_count": 35,
   "id": "baa9b1aa",
   "metadata": {},
   "outputs": [
    {
     "data": {
      "text/plain": [
       "'/mmfs1/data/aglinska/BC-ORG-Data/Code'"
      ]
     },
     "execution_count": 35,
     "metadata": {},
     "output_type": "execute_result"
    }
   ],
   "source": [
    "pwd"
   ]
  },
  {
   "cell_type": "code",
   "execution_count": 36,
   "id": "559f6d1a",
   "metadata": {},
   "outputs": [
    {
     "name": "stdout",
     "output_type": "stream",
     "text": [
      "/mmfs1/data/aglinska/BC-ORG-Data/Code\n"
     ]
    }
   ],
   "source": [
    "cd ~/BC-ORG-Data/Code/"
   ]
  },
  {
   "cell_type": "code",
   "execution_count": 131,
   "id": "5c2a6dd0",
   "metadata": {},
   "outputs": [],
   "source": [
    "import pandas as pd\n",
    "import os\n",
    "import shutil\n",
    "import numpy as np\n",
    "from tqdm import tqdm # pretty pretty for loops"
   ]
  },
  {
   "cell_type": "code",
   "execution_count": 120,
   "id": "96a70740",
   "metadata": {},
   "outputs": [
    {
     "data": {
      "text/html": [
       "<div>\n",
       "<style scoped>\n",
       "    .dataframe tbody tr th:only-of-type {\n",
       "        vertical-align: middle;\n",
       "    }\n",
       "\n",
       "    .dataframe tbody tr th {\n",
       "        vertical-align: top;\n",
       "    }\n",
       "\n",
       "    .dataframe thead th {\n",
       "        text-align: right;\n",
       "    }\n",
       "</style>\n",
       "<table border=\"1\" class=\"dataframe\">\n",
       "  <thead>\n",
       "    <tr style=\"text-align: right;\">\n",
       "      <th></th>\n",
       "      <th>Unnamed: 0</th>\n",
       "      <th>collection_id</th>\n",
       "      <th>image03_id</th>\n",
       "      <th>dataset_id</th>\n",
       "      <th>subjectkey</th>\n",
       "      <th>src_subject_id</th>\n",
       "      <th>interview_age</th>\n",
       "      <th>sex</th>\n",
       "      <th>comments_misc</th>\n",
       "      <th>image_file</th>\n",
       "      <th>...</th>\n",
       "      <th>visit</th>\n",
       "      <th>slice_timing</th>\n",
       "      <th>bvek_bval_files</th>\n",
       "      <th>deviceserialnumber</th>\n",
       "      <th>procdate</th>\n",
       "      <th>visnum</th>\n",
       "      <th>manifest</th>\n",
       "      <th>collection_title</th>\n",
       "      <th>local_paths</th>\n",
       "      <th>is_nii_gz</th>\n",
       "    </tr>\n",
       "  </thead>\n",
       "  <tbody>\n",
       "    <tr>\n",
       "      <th>0</th>\n",
       "      <td>1</td>\n",
       "      <td>2075</td>\n",
       "      <td>367948</td>\n",
       "      <td>9786</td>\n",
       "      <td>NDARAV510ZB5</td>\n",
       "      <td>1108</td>\n",
       "      <td>107</td>\n",
       "      <td>M</td>\n",
       "      <td>NaN</td>\n",
       "      <td>s3://NDAR_Central_1/submission_10916/TNAD-x-21...</td>\n",
       "      <td>...</td>\n",
       "      <td>NaN</td>\n",
       "      <td>NaN</td>\n",
       "      <td>NaN</td>\n",
       "      <td>NaN</td>\n",
       "      <td>NaN</td>\n",
       "      <td>NaN</td>\n",
       "      <td>NaN</td>\n",
       "      <td>Mapping Thalamocortical Networks Across Develo...</td>\n",
       "      <td>./image03/TNAD-x-212988-x-212988-x-501-d0203.n...</td>\n",
       "      <td>True</td>\n",
       "    </tr>\n",
       "    <tr>\n",
       "      <th>1</th>\n",
       "      <td>2</td>\n",
       "      <td>2075</td>\n",
       "      <td>367949</td>\n",
       "      <td>9786</td>\n",
       "      <td>NDARCZ285AMD</td>\n",
       "      <td>1147</td>\n",
       "      <td>218</td>\n",
       "      <td>F</td>\n",
       "      <td>NaN</td>\n",
       "      <td>s3://NDAR_Central_1/submission_10916/TNAD-x-21...</td>\n",
       "      <td>...</td>\n",
       "      <td>NaN</td>\n",
       "      <td>NaN</td>\n",
       "      <td>NaN</td>\n",
       "      <td>NaN</td>\n",
       "      <td>NaN</td>\n",
       "      <td>NaN</td>\n",
       "      <td>NaN</td>\n",
       "      <td>Mapping Thalamocortical Networks Across Develo...</td>\n",
       "      <td>./image03/TNAD-x-214064-x-214064-x-501-d0203.n...</td>\n",
       "      <td>True</td>\n",
       "    </tr>\n",
       "    <tr>\n",
       "      <th>2</th>\n",
       "      <td>3</td>\n",
       "      <td>2075</td>\n",
       "      <td>367950</td>\n",
       "      <td>9786</td>\n",
       "      <td>NDARVM585CF7</td>\n",
       "      <td>1179</td>\n",
       "      <td>287</td>\n",
       "      <td>M</td>\n",
       "      <td>NaN</td>\n",
       "      <td>s3://NDAR_Central_1/submission_10916/TNAD-x-21...</td>\n",
       "      <td>...</td>\n",
       "      <td>NaN</td>\n",
       "      <td>NaN</td>\n",
       "      <td>NaN</td>\n",
       "      <td>NaN</td>\n",
       "      <td>NaN</td>\n",
       "      <td>NaN</td>\n",
       "      <td>NaN</td>\n",
       "      <td>Mapping Thalamocortical Networks Across Develo...</td>\n",
       "      <td>./image03/TNAD-x-212797-x-212797-x-501-d0203.n...</td>\n",
       "      <td>True</td>\n",
       "    </tr>\n",
       "    <tr>\n",
       "      <th>3</th>\n",
       "      <td>4</td>\n",
       "      <td>2075</td>\n",
       "      <td>367951</td>\n",
       "      <td>9786</td>\n",
       "      <td>NDARXK457KEY</td>\n",
       "      <td>1232</td>\n",
       "      <td>427</td>\n",
       "      <td>M</td>\n",
       "      <td>NaN</td>\n",
       "      <td>s3://NDAR_Central_1/submission_10916/TNAD-x-21...</td>\n",
       "      <td>...</td>\n",
       "      <td>NaN</td>\n",
       "      <td>NaN</td>\n",
       "      <td>NaN</td>\n",
       "      <td>NaN</td>\n",
       "      <td>NaN</td>\n",
       "      <td>NaN</td>\n",
       "      <td>NaN</td>\n",
       "      <td>Mapping Thalamocortical Networks Across Develo...</td>\n",
       "      <td>./image03/TNAD-x-215614-x-215614-x-501-d0203.n...</td>\n",
       "      <td>True</td>\n",
       "    </tr>\n",
       "    <tr>\n",
       "      <th>4</th>\n",
       "      <td>5</td>\n",
       "      <td>2075</td>\n",
       "      <td>367952</td>\n",
       "      <td>9786</td>\n",
       "      <td>NDARJG780VAV</td>\n",
       "      <td>1323</td>\n",
       "      <td>241</td>\n",
       "      <td>M</td>\n",
       "      <td>NaN</td>\n",
       "      <td>s3://NDAR_Central_1/submission_10916/TNAD-x-21...</td>\n",
       "      <td>...</td>\n",
       "      <td>NaN</td>\n",
       "      <td>NaN</td>\n",
       "      <td>NaN</td>\n",
       "      <td>NaN</td>\n",
       "      <td>NaN</td>\n",
       "      <td>NaN</td>\n",
       "      <td>NaN</td>\n",
       "      <td>Mapping Thalamocortical Networks Across Develo...</td>\n",
       "      <td>./image03/TNAD-x-212467-x-212467-x-501-d0203.n...</td>\n",
       "      <td>True</td>\n",
       "    </tr>\n",
       "    <tr>\n",
       "      <th>...</th>\n",
       "      <td>...</td>\n",
       "      <td>...</td>\n",
       "      <td>...</td>\n",
       "      <td>...</td>\n",
       "      <td>...</td>\n",
       "      <td>...</td>\n",
       "      <td>...</td>\n",
       "      <td>...</td>\n",
       "      <td>...</td>\n",
       "      <td>...</td>\n",
       "      <td>...</td>\n",
       "      <td>...</td>\n",
       "      <td>...</td>\n",
       "      <td>...</td>\n",
       "      <td>...</td>\n",
       "      <td>...</td>\n",
       "      <td>...</td>\n",
       "      <td>...</td>\n",
       "      <td>...</td>\n",
       "      <td>...</td>\n",
       "      <td>...</td>\n",
       "    </tr>\n",
       "    <tr>\n",
       "      <th>5449</th>\n",
       "      <td>5450</td>\n",
       "      <td>2908</td>\n",
       "      <td>2181341</td>\n",
       "      <td>25765</td>\n",
       "      <td>NDAR_INVLE834JFG</td>\n",
       "      <td>719313</td>\n",
       "      <td>37</td>\n",
       "      <td>M</td>\n",
       "      <td>NaN</td>\n",
       "      <td>s3://NDAR_Central_4/submission_24547/sub-71931...</td>\n",
       "      <td>...</td>\n",
       "      <td>01</td>\n",
       "      <td>[0.345, 0, 0.4325, 0.085, 0.52, 0.1725, 0.605,...</td>\n",
       "      <td>NaN</td>\n",
       "      <td>NaN</td>\n",
       "      <td>NaN</td>\n",
       "      <td>NaN</td>\n",
       "      <td>NaN</td>\n",
       "      <td>The contribution of aberrant anticipatory proc...</td>\n",
       "      <td>./image03/sub-719313/ses-01/func/sub-719313_se...</td>\n",
       "      <td>True</td>\n",
       "    </tr>\n",
       "    <tr>\n",
       "      <th>5450</th>\n",
       "      <td>5451</td>\n",
       "      <td>2908</td>\n",
       "      <td>2181342</td>\n",
       "      <td>25765</td>\n",
       "      <td>NDAR_INVLE834JFG</td>\n",
       "      <td>719313</td>\n",
       "      <td>37</td>\n",
       "      <td>M</td>\n",
       "      <td>NaN</td>\n",
       "      <td>s3://NDAR_Central_4/submission_24547/sub-71931...</td>\n",
       "      <td>...</td>\n",
       "      <td>01</td>\n",
       "      <td>[0.3475, 0, 0.435, 0.0875, 0.52, 0.175, 0.6075...</td>\n",
       "      <td>NaN</td>\n",
       "      <td>NaN</td>\n",
       "      <td>NaN</td>\n",
       "      <td>NaN</td>\n",
       "      <td>NaN</td>\n",
       "      <td>The contribution of aberrant anticipatory proc...</td>\n",
       "      <td>./image03/sub-719313/ses-01/func/sub-719313_se...</td>\n",
       "      <td>True</td>\n",
       "    </tr>\n",
       "    <tr>\n",
       "      <th>5451</th>\n",
       "      <td>5452</td>\n",
       "      <td>2908</td>\n",
       "      <td>2180584</td>\n",
       "      <td>25765</td>\n",
       "      <td>NDAR_INVAU072EHW</td>\n",
       "      <td>719331</td>\n",
       "      <td>15</td>\n",
       "      <td>F</td>\n",
       "      <td>NaN</td>\n",
       "      <td>s3://NDAR_Central_4/submission_24547/sub-71933...</td>\n",
       "      <td>...</td>\n",
       "      <td>02</td>\n",
       "      <td>[0.345, 0, 0.4325, 0.085, 0.5175, 0.1725, 0.60...</td>\n",
       "      <td>NaN</td>\n",
       "      <td>NaN</td>\n",
       "      <td>NaN</td>\n",
       "      <td>NaN</td>\n",
       "      <td>NaN</td>\n",
       "      <td>The contribution of aberrant anticipatory proc...</td>\n",
       "      <td>./image03/sub-719331/ses-02/func/sub-719331_se...</td>\n",
       "      <td>True</td>\n",
       "    </tr>\n",
       "    <tr>\n",
       "      <th>5452</th>\n",
       "      <td>5453</td>\n",
       "      <td>2908</td>\n",
       "      <td>2180686</td>\n",
       "      <td>25765</td>\n",
       "      <td>NDARAP899TJ5</td>\n",
       "      <td>718111</td>\n",
       "      <td>396</td>\n",
       "      <td>F</td>\n",
       "      <td>NaN</td>\n",
       "      <td>s3://NDAR_Central_4/submission_24547/sub-71811...</td>\n",
       "      <td>...</td>\n",
       "      <td>02</td>\n",
       "      <td>[0.3475, 0, 0.4325, 0.0875, 0.52, 0.1725, 0.60...</td>\n",
       "      <td>NaN</td>\n",
       "      <td>NaN</td>\n",
       "      <td>NaN</td>\n",
       "      <td>NaN</td>\n",
       "      <td>NaN</td>\n",
       "      <td>The contribution of aberrant anticipatory proc...</td>\n",
       "      <td>./image03/sub-718111/ses-02/func/sub-718111_se...</td>\n",
       "      <td>True</td>\n",
       "    </tr>\n",
       "    <tr>\n",
       "      <th>5453</th>\n",
       "      <td>5454</td>\n",
       "      <td>2908</td>\n",
       "      <td>2180788</td>\n",
       "      <td>25765</td>\n",
       "      <td>NDAR_INVFP073EHN</td>\n",
       "      <td>719329</td>\n",
       "      <td>3</td>\n",
       "      <td>F</td>\n",
       "      <td>NaN</td>\n",
       "      <td>s3://NDAR_Central_4/submission_24547/sub-71932...</td>\n",
       "      <td>...</td>\n",
       "      <td>01</td>\n",
       "      <td>[0.345, 0, 0.4325, 0.085, 0.52, 0.1725, 0.605,...</td>\n",
       "      <td>NaN</td>\n",
       "      <td>NaN</td>\n",
       "      <td>NaN</td>\n",
       "      <td>NaN</td>\n",
       "      <td>NaN</td>\n",
       "      <td>The contribution of aberrant anticipatory proc...</td>\n",
       "      <td>./image03/sub-719329/ses-01/func/sub-719329_se...</td>\n",
       "      <td>True</td>\n",
       "    </tr>\n",
       "  </tbody>\n",
       "</table>\n",
       "<p>3832 rows × 76 columns</p>\n",
       "</div>"
      ],
      "text/plain": [
       "      Unnamed: 0  collection_id  image03_id  dataset_id        subjectkey  \\\n",
       "0              1           2075      367948        9786      NDARAV510ZB5   \n",
       "1              2           2075      367949        9786      NDARCZ285AMD   \n",
       "2              3           2075      367950        9786      NDARVM585CF7   \n",
       "3              4           2075      367951        9786      NDARXK457KEY   \n",
       "4              5           2075      367952        9786      NDARJG780VAV   \n",
       "...          ...            ...         ...         ...               ...   \n",
       "5449        5450           2908     2181341       25765  NDAR_INVLE834JFG   \n",
       "5450        5451           2908     2181342       25765  NDAR_INVLE834JFG   \n",
       "5451        5452           2908     2180584       25765  NDAR_INVAU072EHW   \n",
       "5452        5453           2908     2180686       25765      NDARAP899TJ5   \n",
       "5453        5454           2908     2180788       25765  NDAR_INVFP073EHN   \n",
       "\n",
       "     src_subject_id  interview_age sex comments_misc  \\\n",
       "0              1108            107   M           NaN   \n",
       "1              1147            218   F           NaN   \n",
       "2              1179            287   M           NaN   \n",
       "3              1232            427   M           NaN   \n",
       "4              1323            241   M           NaN   \n",
       "...             ...            ...  ..           ...   \n",
       "5449         719313             37   M           NaN   \n",
       "5450         719313             37   M           NaN   \n",
       "5451         719331             15   F           NaN   \n",
       "5452         718111            396   F           NaN   \n",
       "5453         719329              3   F           NaN   \n",
       "\n",
       "                                             image_file  ... visit  \\\n",
       "0     s3://NDAR_Central_1/submission_10916/TNAD-x-21...  ...   NaN   \n",
       "1     s3://NDAR_Central_1/submission_10916/TNAD-x-21...  ...   NaN   \n",
       "2     s3://NDAR_Central_1/submission_10916/TNAD-x-21...  ...   NaN   \n",
       "3     s3://NDAR_Central_1/submission_10916/TNAD-x-21...  ...   NaN   \n",
       "4     s3://NDAR_Central_1/submission_10916/TNAD-x-21...  ...   NaN   \n",
       "...                                                 ...  ...   ...   \n",
       "5449  s3://NDAR_Central_4/submission_24547/sub-71931...  ...    01   \n",
       "5450  s3://NDAR_Central_4/submission_24547/sub-71931...  ...    01   \n",
       "5451  s3://NDAR_Central_4/submission_24547/sub-71933...  ...    02   \n",
       "5452  s3://NDAR_Central_4/submission_24547/sub-71811...  ...    02   \n",
       "5453  s3://NDAR_Central_4/submission_24547/sub-71932...  ...    01   \n",
       "\n",
       "                                           slice_timing  bvek_bval_files  \\\n",
       "0                                                   NaN              NaN   \n",
       "1                                                   NaN              NaN   \n",
       "2                                                   NaN              NaN   \n",
       "3                                                   NaN              NaN   \n",
       "4                                                   NaN              NaN   \n",
       "...                                                 ...              ...   \n",
       "5449  [0.345, 0, 0.4325, 0.085, 0.52, 0.1725, 0.605,...              NaN   \n",
       "5450  [0.3475, 0, 0.435, 0.0875, 0.52, 0.175, 0.6075...              NaN   \n",
       "5451  [0.345, 0, 0.4325, 0.085, 0.5175, 0.1725, 0.60...              NaN   \n",
       "5452  [0.3475, 0, 0.4325, 0.0875, 0.52, 0.1725, 0.60...              NaN   \n",
       "5453  [0.345, 0, 0.4325, 0.085, 0.52, 0.1725, 0.605,...              NaN   \n",
       "\n",
       "     deviceserialnumber procdate visnum manifest  \\\n",
       "0                   NaN      NaN    NaN      NaN   \n",
       "1                   NaN      NaN    NaN      NaN   \n",
       "2                   NaN      NaN    NaN      NaN   \n",
       "3                   NaN      NaN    NaN      NaN   \n",
       "4                   NaN      NaN    NaN      NaN   \n",
       "...                 ...      ...    ...      ...   \n",
       "5449                NaN      NaN    NaN      NaN   \n",
       "5450                NaN      NaN    NaN      NaN   \n",
       "5451                NaN      NaN    NaN      NaN   \n",
       "5452                NaN      NaN    NaN      NaN   \n",
       "5453                NaN      NaN    NaN      NaN   \n",
       "\n",
       "                                       collection_title  \\\n",
       "0     Mapping Thalamocortical Networks Across Develo...   \n",
       "1     Mapping Thalamocortical Networks Across Develo...   \n",
       "2     Mapping Thalamocortical Networks Across Develo...   \n",
       "3     Mapping Thalamocortical Networks Across Develo...   \n",
       "4     Mapping Thalamocortical Networks Across Develo...   \n",
       "...                                                 ...   \n",
       "5449  The contribution of aberrant anticipatory proc...   \n",
       "5450  The contribution of aberrant anticipatory proc...   \n",
       "5451  The contribution of aberrant anticipatory proc...   \n",
       "5452  The contribution of aberrant anticipatory proc...   \n",
       "5453  The contribution of aberrant anticipatory proc...   \n",
       "\n",
       "                                            local_paths is_nii_gz  \n",
       "0     ./image03/TNAD-x-212988-x-212988-x-501-d0203.n...      True  \n",
       "1     ./image03/TNAD-x-214064-x-214064-x-501-d0203.n...      True  \n",
       "2     ./image03/TNAD-x-212797-x-212797-x-501-d0203.n...      True  \n",
       "3     ./image03/TNAD-x-215614-x-215614-x-501-d0203.n...      True  \n",
       "4     ./image03/TNAD-x-212467-x-212467-x-501-d0203.n...      True  \n",
       "...                                                 ...       ...  \n",
       "5449  ./image03/sub-719313/ses-01/func/sub-719313_se...      True  \n",
       "5450  ./image03/sub-719313/ses-01/func/sub-719313_se...      True  \n",
       "5451  ./image03/sub-719331/ses-02/func/sub-719331_se...      True  \n",
       "5452  ./image03/sub-718111/ses-02/func/sub-718111_se...      True  \n",
       "5453  ./image03/sub-719329/ses-01/func/sub-719329_se...      True  \n",
       "\n",
       "[3832 rows x 76 columns]"
      ]
     },
     "execution_count": 120,
     "metadata": {},
     "output_type": "execute_result"
    }
   ],
   "source": [
    "df = pd.read_csv('../Data/general_csv.csv') #grab master list\n",
    "df['is_nii_gz'] = [file.endswith('.nii.gz') for file in df['local_paths'].values]\n",
    "df = df[df['is_nii_gz']]\n",
    "df"
   ]
  },
  {
   "cell_type": "code",
   "execution_count": 136,
   "id": "cc61f335",
   "metadata": {},
   "outputs": [],
   "source": [
    "unique_studies = np.unique(df['collection_title'].values)"
   ]
  },
  {
   "cell_type": "code",
   "execution_count": 141,
   "id": "6151436d",
   "metadata": {},
   "outputs": [
    {
     "name": "stdout",
     "output_type": "stream",
     "text": [
      "1172 | 1/3 Brain Function and Genetics in Pediatric Obsessive-Compulsive Behaviors\n",
      "729 | Atypical Late Neurodevelopment in Autism: A Longitudinal Clinical Phenotype and Multimodal Brain Imaging Study\n",
      "78 | Biomarkers of Developmental Trajectories and Treatment in ASD\n",
      "6 | Cognitive and Neural Flexibility in Autism\n",
      "120 | Intrinsic Brain Architecture of Young Children with Autism While Awake and Asleep\n",
      "783 | Mapping Thalamocortical Networks Across Development in ASD\n",
      "623 | The contribution of aberrant anticipatory processing to spectrum depression and mania, and cognitive and emotional dysfunction in major depressive and bipolar disorders\n",
      "321 | Using complex video stimuli to elucidate atypical brain functioning in ASD\n"
     ]
    }
   ],
   "source": [
    "for i in range(len(unique_studies)):\n",
    "    n = (df['collection_title']==unique_studies[i]).sum()\n",
    "    print(f'{n} | {unique_studies[i]}')"
   ]
  },
  {
   "cell_type": "code",
   "execution_count": 121,
   "id": "f1f16965",
   "metadata": {},
   "outputs": [],
   "source": [
    "#cd ~/ndar_fmri/"
   ]
  },
  {
   "cell_type": "code",
   "execution_count": 142,
   "id": "15f3dc4b",
   "metadata": {},
   "outputs": [],
   "source": [
    "study_name = 'Biomarkers of Developmental Trajectories and Treatment in ASD'"
   ]
  },
  {
   "cell_type": "code",
   "execution_count": 143,
   "id": "14c19b06",
   "metadata": {},
   "outputs": [
    {
     "data": {
      "text/html": [
       "<div>\n",
       "<style scoped>\n",
       "    .dataframe tbody tr th:only-of-type {\n",
       "        vertical-align: middle;\n",
       "    }\n",
       "\n",
       "    .dataframe tbody tr th {\n",
       "        vertical-align: top;\n",
       "    }\n",
       "\n",
       "    .dataframe thead th {\n",
       "        text-align: right;\n",
       "    }\n",
       "</style>\n",
       "<table border=\"1\" class=\"dataframe\">\n",
       "  <thead>\n",
       "    <tr style=\"text-align: right;\">\n",
       "      <th></th>\n",
       "      <th>Unnamed: 0</th>\n",
       "      <th>collection_id</th>\n",
       "      <th>image03_id</th>\n",
       "      <th>dataset_id</th>\n",
       "      <th>subjectkey</th>\n",
       "      <th>src_subject_id</th>\n",
       "      <th>interview_age</th>\n",
       "      <th>sex</th>\n",
       "      <th>comments_misc</th>\n",
       "      <th>image_file</th>\n",
       "      <th>...</th>\n",
       "      <th>visit</th>\n",
       "      <th>slice_timing</th>\n",
       "      <th>bvek_bval_files</th>\n",
       "      <th>deviceserialnumber</th>\n",
       "      <th>procdate</th>\n",
       "      <th>visnum</th>\n",
       "      <th>manifest</th>\n",
       "      <th>collection_title</th>\n",
       "      <th>local_paths</th>\n",
       "      <th>is_nii_gz</th>\n",
       "    </tr>\n",
       "  </thead>\n",
       "  <tbody>\n",
       "    <tr>\n",
       "      <th>1603</th>\n",
       "      <td>1604</td>\n",
       "      <td>2026</td>\n",
       "      <td>358729</td>\n",
       "      <td>9325</td>\n",
       "      <td>NDARUX676ZD7</td>\n",
       "      <td>IS199</td>\n",
       "      <td>148</td>\n",
       "      <td>M</td>\n",
       "      <td>NaN</td>\n",
       "      <td>s3://NDAR_Central_2/submission_10557/resting6m...</td>\n",
       "      <td>...</td>\n",
       "      <td>NaN</td>\n",
       "      <td>NaN</td>\n",
       "      <td>NaN</td>\n",
       "      <td>NaN</td>\n",
       "      <td>NaN</td>\n",
       "      <td>NaN</td>\n",
       "      <td>NaN</td>\n",
       "      <td>Biomarkers of Developmental Trajectories and T...</td>\n",
       "      <td>./image03/resting6min/IS199_resting6min_new_RP...</td>\n",
       "      <td>True</td>\n",
       "    </tr>\n",
       "    <tr>\n",
       "      <th>1604</th>\n",
       "      <td>1605</td>\n",
       "      <td>2026</td>\n",
       "      <td>358730</td>\n",
       "      <td>9325</td>\n",
       "      <td>NDARVP266GXE</td>\n",
       "      <td>ASD143B</td>\n",
       "      <td>175</td>\n",
       "      <td>M</td>\n",
       "      <td>NaN</td>\n",
       "      <td>s3://NDAR_Central_2/submission_10557/resting6m...</td>\n",
       "      <td>...</td>\n",
       "      <td>NaN</td>\n",
       "      <td>NaN</td>\n",
       "      <td>NaN</td>\n",
       "      <td>NaN</td>\n",
       "      <td>NaN</td>\n",
       "      <td>NaN</td>\n",
       "      <td>NaN</td>\n",
       "      <td>Biomarkers of Developmental Trajectories and T...</td>\n",
       "      <td>./image03/resting6min/ASD143B_resting6min_new_...</td>\n",
       "      <td>True</td>\n",
       "    </tr>\n",
       "    <tr>\n",
       "      <th>1605</th>\n",
       "      <td>1606</td>\n",
       "      <td>2026</td>\n",
       "      <td>358732</td>\n",
       "      <td>9325</td>\n",
       "      <td>NDARNC157NJ2</td>\n",
       "      <td>ASD126C_CCN</td>\n",
       "      <td>181</td>\n",
       "      <td>M</td>\n",
       "      <td>NaN</td>\n",
       "      <td>s3://NDAR_Central_2/submission_10557/resting6m...</td>\n",
       "      <td>...</td>\n",
       "      <td>NaN</td>\n",
       "      <td>NaN</td>\n",
       "      <td>NaN</td>\n",
       "      <td>NaN</td>\n",
       "      <td>NaN</td>\n",
       "      <td>NaN</td>\n",
       "      <td>NaN</td>\n",
       "      <td>Biomarkers of Developmental Trajectories and T...</td>\n",
       "      <td>./image03/resting6min/ASD126C_CCN_resting6min_...</td>\n",
       "      <td>True</td>\n",
       "    </tr>\n",
       "    <tr>\n",
       "      <th>1606</th>\n",
       "      <td>1607</td>\n",
       "      <td>2026</td>\n",
       "      <td>358733</td>\n",
       "      <td>9325</td>\n",
       "      <td>NDARRT690DVB</td>\n",
       "      <td>ASD137B_CCN</td>\n",
       "      <td>206</td>\n",
       "      <td>M</td>\n",
       "      <td>NaN</td>\n",
       "      <td>s3://NDAR_Central_2/submission_10557/resting6m...</td>\n",
       "      <td>...</td>\n",
       "      <td>NaN</td>\n",
       "      <td>NaN</td>\n",
       "      <td>NaN</td>\n",
       "      <td>NaN</td>\n",
       "      <td>NaN</td>\n",
       "      <td>NaN</td>\n",
       "      <td>NaN</td>\n",
       "      <td>Biomarkers of Developmental Trajectories and T...</td>\n",
       "      <td>./image03/resting6min/ASD137B_CCN_resting6min_...</td>\n",
       "      <td>True</td>\n",
       "    </tr>\n",
       "    <tr>\n",
       "      <th>1607</th>\n",
       "      <td>1608</td>\n",
       "      <td>2026</td>\n",
       "      <td>358734</td>\n",
       "      <td>9325</td>\n",
       "      <td>NDARKT210GEJ</td>\n",
       "      <td>ASD142B</td>\n",
       "      <td>188</td>\n",
       "      <td>M</td>\n",
       "      <td>NaN</td>\n",
       "      <td>s3://NDAR_Central_2/submission_10557/resting6m...</td>\n",
       "      <td>...</td>\n",
       "      <td>NaN</td>\n",
       "      <td>NaN</td>\n",
       "      <td>NaN</td>\n",
       "      <td>NaN</td>\n",
       "      <td>NaN</td>\n",
       "      <td>NaN</td>\n",
       "      <td>NaN</td>\n",
       "      <td>Biomarkers of Developmental Trajectories and T...</td>\n",
       "      <td>./image03/resting6min/ASD142B_resting6min_new_...</td>\n",
       "      <td>True</td>\n",
       "    </tr>\n",
       "    <tr>\n",
       "      <th>...</th>\n",
       "      <td>...</td>\n",
       "      <td>...</td>\n",
       "      <td>...</td>\n",
       "      <td>...</td>\n",
       "      <td>...</td>\n",
       "      <td>...</td>\n",
       "      <td>...</td>\n",
       "      <td>...</td>\n",
       "      <td>...</td>\n",
       "      <td>...</td>\n",
       "      <td>...</td>\n",
       "      <td>...</td>\n",
       "      <td>...</td>\n",
       "      <td>...</td>\n",
       "      <td>...</td>\n",
       "      <td>...</td>\n",
       "      <td>...</td>\n",
       "      <td>...</td>\n",
       "      <td>...</td>\n",
       "      <td>...</td>\n",
       "      <td>...</td>\n",
       "    </tr>\n",
       "    <tr>\n",
       "      <th>3687</th>\n",
       "      <td>3688</td>\n",
       "      <td>2026</td>\n",
       "      <td>448725</td>\n",
       "      <td>10880</td>\n",
       "      <td>NDARFW153HEP</td>\n",
       "      <td>TD125</td>\n",
       "      <td>201</td>\n",
       "      <td>M</td>\n",
       "      <td>NaN</td>\n",
       "      <td>s3://NDAR_Central_4/submission_11775/TD125D_CC...</td>\n",
       "      <td>...</td>\n",
       "      <td>NaN</td>\n",
       "      <td>1.5075,0,1.595,0.09,1.6825,0.1775,1.7725,0.267...</td>\n",
       "      <td>NaN</td>\n",
       "      <td>NaN</td>\n",
       "      <td>NaN</td>\n",
       "      <td>NaN</td>\n",
       "      <td>NaN</td>\n",
       "      <td>Biomarkers of Developmental Trajectories and T...</td>\n",
       "      <td>./image03/TD125D_CCN_resting8min_new_RPI.nii.gz</td>\n",
       "      <td>True</td>\n",
       "    </tr>\n",
       "    <tr>\n",
       "      <th>3688</th>\n",
       "      <td>3689</td>\n",
       "      <td>2026</td>\n",
       "      <td>448726</td>\n",
       "      <td>10880</td>\n",
       "      <td>NDARPH177CKJ</td>\n",
       "      <td>TD130</td>\n",
       "      <td>197</td>\n",
       "      <td>M</td>\n",
       "      <td>NaN</td>\n",
       "      <td>s3://NDAR_Central_4/submission_11775/TD130D_CC...</td>\n",
       "      <td>...</td>\n",
       "      <td>NaN</td>\n",
       "      <td>1.5075,0,1.595,0.09,1.6825,0.1775,1.7725,0.267...</td>\n",
       "      <td>NaN</td>\n",
       "      <td>NaN</td>\n",
       "      <td>NaN</td>\n",
       "      <td>NaN</td>\n",
       "      <td>NaN</td>\n",
       "      <td>Biomarkers of Developmental Trajectories and T...</td>\n",
       "      <td>./image03/TD130D_CCN_resting8min_new_RPI.nii.gz</td>\n",
       "      <td>True</td>\n",
       "    </tr>\n",
       "    <tr>\n",
       "      <th>3689</th>\n",
       "      <td>3690</td>\n",
       "      <td>2026</td>\n",
       "      <td>448728</td>\n",
       "      <td>10880</td>\n",
       "      <td>NDAR_INVXR271BVJ</td>\n",
       "      <td>TD154</td>\n",
       "      <td>210</td>\n",
       "      <td>M</td>\n",
       "      <td>NaN</td>\n",
       "      <td>s3://NDAR_Central_4/submission_11775/TD154B_CC...</td>\n",
       "      <td>...</td>\n",
       "      <td>NaN</td>\n",
       "      <td>1.505,0,1.5925,0.0875,1.6825,0.175,1.77,0.265,...</td>\n",
       "      <td>NaN</td>\n",
       "      <td>NaN</td>\n",
       "      <td>NaN</td>\n",
       "      <td>NaN</td>\n",
       "      <td>NaN</td>\n",
       "      <td>Biomarkers of Developmental Trajectories and T...</td>\n",
       "      <td>./image03/TD154B_CCN_resting8min_new_RPI.nii.gz</td>\n",
       "      <td>True</td>\n",
       "    </tr>\n",
       "    <tr>\n",
       "      <th>3690</th>\n",
       "      <td>3691</td>\n",
       "      <td>2026</td>\n",
       "      <td>448729</td>\n",
       "      <td>10880</td>\n",
       "      <td>NDAREM082UMN</td>\n",
       "      <td>TD155</td>\n",
       "      <td>204</td>\n",
       "      <td>M</td>\n",
       "      <td>NaN</td>\n",
       "      <td>s3://NDAR_Central_4/submission_11775/TD155B_CC...</td>\n",
       "      <td>...</td>\n",
       "      <td>NaN</td>\n",
       "      <td>1.505,0,1.595,0.0875,1.6825,0.1775,1.77,0.265,...</td>\n",
       "      <td>NaN</td>\n",
       "      <td>NaN</td>\n",
       "      <td>NaN</td>\n",
       "      <td>NaN</td>\n",
       "      <td>NaN</td>\n",
       "      <td>Biomarkers of Developmental Trajectories and T...</td>\n",
       "      <td>./image03/TD155B_CCN_resting8min_new_RPI.nii.gz</td>\n",
       "      <td>True</td>\n",
       "    </tr>\n",
       "    <tr>\n",
       "      <th>3691</th>\n",
       "      <td>3692</td>\n",
       "      <td>2026</td>\n",
       "      <td>448730</td>\n",
       "      <td>10880</td>\n",
       "      <td>NDARAT927UCZ</td>\n",
       "      <td>TD156</td>\n",
       "      <td>174</td>\n",
       "      <td>M</td>\n",
       "      <td>NaN</td>\n",
       "      <td>s3://NDAR_Central_4/submission_11775/TD156B_CC...</td>\n",
       "      <td>...</td>\n",
       "      <td>NaN</td>\n",
       "      <td>1.5075,0,1.595,0.09,1.6825,0.1775,1.7725,0.267...</td>\n",
       "      <td>NaN</td>\n",
       "      <td>NaN</td>\n",
       "      <td>NaN</td>\n",
       "      <td>NaN</td>\n",
       "      <td>NaN</td>\n",
       "      <td>Biomarkers of Developmental Trajectories and T...</td>\n",
       "      <td>./image03/TD156B_CCN_resting8min_new_RPI.nii.gz</td>\n",
       "      <td>True</td>\n",
       "    </tr>\n",
       "  </tbody>\n",
       "</table>\n",
       "<p>78 rows × 76 columns</p>\n",
       "</div>"
      ],
      "text/plain": [
       "      Unnamed: 0  collection_id  image03_id  dataset_id        subjectkey  \\\n",
       "1603        1604           2026      358729        9325      NDARUX676ZD7   \n",
       "1604        1605           2026      358730        9325      NDARVP266GXE   \n",
       "1605        1606           2026      358732        9325      NDARNC157NJ2   \n",
       "1606        1607           2026      358733        9325      NDARRT690DVB   \n",
       "1607        1608           2026      358734        9325      NDARKT210GEJ   \n",
       "...          ...            ...         ...         ...               ...   \n",
       "3687        3688           2026      448725       10880      NDARFW153HEP   \n",
       "3688        3689           2026      448726       10880      NDARPH177CKJ   \n",
       "3689        3690           2026      448728       10880  NDAR_INVXR271BVJ   \n",
       "3690        3691           2026      448729       10880      NDAREM082UMN   \n",
       "3691        3692           2026      448730       10880      NDARAT927UCZ   \n",
       "\n",
       "     src_subject_id  interview_age sex comments_misc  \\\n",
       "1603          IS199            148   M           NaN   \n",
       "1604        ASD143B            175   M           NaN   \n",
       "1605    ASD126C_CCN            181   M           NaN   \n",
       "1606    ASD137B_CCN            206   M           NaN   \n",
       "1607        ASD142B            188   M           NaN   \n",
       "...             ...            ...  ..           ...   \n",
       "3687          TD125            201   M           NaN   \n",
       "3688          TD130            197   M           NaN   \n",
       "3689          TD154            210   M           NaN   \n",
       "3690          TD155            204   M           NaN   \n",
       "3691          TD156            174   M           NaN   \n",
       "\n",
       "                                             image_file  ... visit  \\\n",
       "1603  s3://NDAR_Central_2/submission_10557/resting6m...  ...   NaN   \n",
       "1604  s3://NDAR_Central_2/submission_10557/resting6m...  ...   NaN   \n",
       "1605  s3://NDAR_Central_2/submission_10557/resting6m...  ...   NaN   \n",
       "1606  s3://NDAR_Central_2/submission_10557/resting6m...  ...   NaN   \n",
       "1607  s3://NDAR_Central_2/submission_10557/resting6m...  ...   NaN   \n",
       "...                                                 ...  ...   ...   \n",
       "3687  s3://NDAR_Central_4/submission_11775/TD125D_CC...  ...   NaN   \n",
       "3688  s3://NDAR_Central_4/submission_11775/TD130D_CC...  ...   NaN   \n",
       "3689  s3://NDAR_Central_4/submission_11775/TD154B_CC...  ...   NaN   \n",
       "3690  s3://NDAR_Central_4/submission_11775/TD155B_CC...  ...   NaN   \n",
       "3691  s3://NDAR_Central_4/submission_11775/TD156B_CC...  ...   NaN   \n",
       "\n",
       "                                           slice_timing  bvek_bval_files  \\\n",
       "1603                                                NaN              NaN   \n",
       "1604                                                NaN              NaN   \n",
       "1605                                                NaN              NaN   \n",
       "1606                                                NaN              NaN   \n",
       "1607                                                NaN              NaN   \n",
       "...                                                 ...              ...   \n",
       "3687  1.5075,0,1.595,0.09,1.6825,0.1775,1.7725,0.267...              NaN   \n",
       "3688  1.5075,0,1.595,0.09,1.6825,0.1775,1.7725,0.267...              NaN   \n",
       "3689  1.505,0,1.5925,0.0875,1.6825,0.175,1.77,0.265,...              NaN   \n",
       "3690  1.505,0,1.595,0.0875,1.6825,0.1775,1.77,0.265,...              NaN   \n",
       "3691  1.5075,0,1.595,0.09,1.6825,0.1775,1.7725,0.267...              NaN   \n",
       "\n",
       "     deviceserialnumber procdate visnum manifest  \\\n",
       "1603                NaN      NaN    NaN      NaN   \n",
       "1604                NaN      NaN    NaN      NaN   \n",
       "1605                NaN      NaN    NaN      NaN   \n",
       "1606                NaN      NaN    NaN      NaN   \n",
       "1607                NaN      NaN    NaN      NaN   \n",
       "...                 ...      ...    ...      ...   \n",
       "3687                NaN      NaN    NaN      NaN   \n",
       "3688                NaN      NaN    NaN      NaN   \n",
       "3689                NaN      NaN    NaN      NaN   \n",
       "3690                NaN      NaN    NaN      NaN   \n",
       "3691                NaN      NaN    NaN      NaN   \n",
       "\n",
       "                                       collection_title  \\\n",
       "1603  Biomarkers of Developmental Trajectories and T...   \n",
       "1604  Biomarkers of Developmental Trajectories and T...   \n",
       "1605  Biomarkers of Developmental Trajectories and T...   \n",
       "1606  Biomarkers of Developmental Trajectories and T...   \n",
       "1607  Biomarkers of Developmental Trajectories and T...   \n",
       "...                                                 ...   \n",
       "3687  Biomarkers of Developmental Trajectories and T...   \n",
       "3688  Biomarkers of Developmental Trajectories and T...   \n",
       "3689  Biomarkers of Developmental Trajectories and T...   \n",
       "3690  Biomarkers of Developmental Trajectories and T...   \n",
       "3691  Biomarkers of Developmental Trajectories and T...   \n",
       "\n",
       "                                            local_paths is_nii_gz  \n",
       "1603  ./image03/resting6min/IS199_resting6min_new_RP...      True  \n",
       "1604  ./image03/resting6min/ASD143B_resting6min_new_...      True  \n",
       "1605  ./image03/resting6min/ASD126C_CCN_resting6min_...      True  \n",
       "1606  ./image03/resting6min/ASD137B_CCN_resting6min_...      True  \n",
       "1607  ./image03/resting6min/ASD142B_resting6min_new_...      True  \n",
       "...                                                 ...       ...  \n",
       "3687    ./image03/TD125D_CCN_resting8min_new_RPI.nii.gz      True  \n",
       "3688    ./image03/TD130D_CCN_resting8min_new_RPI.nii.gz      True  \n",
       "3689    ./image03/TD154B_CCN_resting8min_new_RPI.nii.gz      True  \n",
       "3690    ./image03/TD155B_CCN_resting8min_new_RPI.nii.gz      True  \n",
       "3691    ./image03/TD156B_CCN_resting8min_new_RPI.nii.gz      True  \n",
       "\n",
       "[78 rows x 76 columns]"
      ]
     },
     "execution_count": 143,
     "metadata": {},
     "output_type": "execute_result"
    }
   ],
   "source": [
    "study_df = df[df['collection_title']==study_name] # Slice \n",
    "study_df"
   ]
  },
  {
   "cell_type": "code",
   "execution_count": 145,
   "id": "4aa9399a",
   "metadata": {},
   "outputs": [
    {
     "data": {
      "text/plain": [
       "2026"
      ]
     },
     "execution_count": 145,
     "metadata": {},
     "output_type": "execute_result"
    }
   ],
   "source": [
    "nsubjects = len(study_df)\n",
    "collection_id = study_df['collection_id'].values[0]\n",
    "collection_id"
   ]
  },
  {
   "cell_type": "code",
   "execution_count": 146,
   "id": "d63266a7",
   "metadata": {},
   "outputs": [],
   "source": [
    "ndar_root = '../../ndar_fmri/' # What to take scans \n",
    "bids_root = '../../' # Where to put scans"
   ]
  },
  {
   "cell_type": "code",
   "execution_count": 148,
   "id": "732ebf70",
   "metadata": {},
   "outputs": [],
   "source": [
    "def safe_mkdir(path):\n",
    "    if not os.path.exists(path):\n",
    "        os.mkdir(path)\n",
    "    else:\n",
    "        pass"
   ]
  },
  {
   "cell_type": "code",
   "execution_count": 149,
   "id": "be36b1d3",
   "metadata": {},
   "outputs": [],
   "source": [
    "# MAKE THE BIDS DIRECTORY\n",
    "safe_mkdir(os.path.join(bids_root,f'ds-{collection_id}'))\n",
    "for s in range(nsubjects):\n",
    "    safe_mkdir(os.path.join(bids_root,f'ds-{collection_id}',f'sub-{s:03d}'))\n",
    "    safe_mkdir(os.path.join(bids_root,f'ds-{collection_id}',f'sub-{s:03d}','func'))"
   ]
  },
  {
   "cell_type": "code",
   "execution_count": 150,
   "id": "e092ec7c",
   "metadata": {},
   "outputs": [],
   "source": [
    "# Copy over the files\n",
    "for s in tqdm(range(nsubjects)):\n",
    "    inpath = os.path.join(ndar_root,study_df['local_paths'].values[s][2::])\n",
    "    outpath = os.path.join(bids_root,f'ds-{collection_id}',f'sub-{s:03d}','func',f'sub-{s:03d}_task-rest_bold.nii.gz')\n",
    "    shutil.copyfile(src=inpath,dst=outpath)"
   ]
  },
  {
   "cell_type": "code",
   "execution_count": null,
   "id": "5e3f6214-b05d-4732-8ea9-cb6bff1d1f24",
   "metadata": {},
   "outputs": [],
   "source": []
  },
  {
   "cell_type": "code",
   "execution_count": 1,
   "id": "f5490742",
   "metadata": {},
   "outputs": [],
   "source": [
    "import pandas as pd\n",
    "import os\n",
    "import shutil\n",
    "import numpy as np\n",
    "from tqdm import tqdm"
   ]
  },
  {
   "cell_type": "code",
   "execution_count": 2,
   "id": "d505b1d8",
   "metadata": {},
   "outputs": [],
   "source": [
    "nsubjects = len('Mapping Thalamocortical Networks Across Development in ASD')\n",
    "ndar_root = '../../ndar_fmri'  \n",
    "bids_root = '/mmfs1/data/pijarj'"
   ]
  },
  {
   "cell_type": "code",
   "execution_count": 3,
   "id": "e3ee7dbc",
   "metadata": {},
   "outputs": [],
   "source": [
    "def safe_mkdir(path):\n",
    "    if not os.path.exists(path):\n",
    "        os.mkdir(path)\n",
    "    else:\n",
    "        pass"
   ]
  },
  {
   "cell_type": "code",
   "execution_count": 30,
   "id": "86d5fe45-dd76-4bab-9718-642431ce8677",
   "metadata": {},
   "outputs": [
    {
     "data": {
      "text/html": [
       "<div>\n",
       "<style scoped>\n",
       "    .dataframe tbody tr th:only-of-type {\n",
       "        vertical-align: middle;\n",
       "    }\n",
       "\n",
       "    .dataframe tbody tr th {\n",
       "        vertical-align: top;\n",
       "    }\n",
       "\n",
       "    .dataframe thead th {\n",
       "        text-align: right;\n",
       "    }\n",
       "</style>\n",
       "<table border=\"1\" class=\"dataframe\">\n",
       "  <thead>\n",
       "    <tr style=\"text-align: right;\">\n",
       "      <th></th>\n",
       "      <th>Unnamed: 0</th>\n",
       "      <th>collection_id</th>\n",
       "      <th>image03_id</th>\n",
       "      <th>dataset_id</th>\n",
       "      <th>subjectkey</th>\n",
       "      <th>src_subject_id</th>\n",
       "      <th>interview_age</th>\n",
       "      <th>sex</th>\n",
       "      <th>comments_misc</th>\n",
       "      <th>image_file</th>\n",
       "      <th>...</th>\n",
       "      <th>experiment_description</th>\n",
       "      <th>visit</th>\n",
       "      <th>slice_timing</th>\n",
       "      <th>bvek_bval_files</th>\n",
       "      <th>deviceserialnumber</th>\n",
       "      <th>procdate</th>\n",
       "      <th>visnum</th>\n",
       "      <th>manifest</th>\n",
       "      <th>collection_title</th>\n",
       "      <th>local_paths</th>\n",
       "    </tr>\n",
       "  </thead>\n",
       "  <tbody>\n",
       "    <tr>\n",
       "      <th>3701</th>\n",
       "      <td>3702</td>\n",
       "      <td>2075</td>\n",
       "      <td>449299</td>\n",
       "      <td>10949</td>\n",
       "      <td>NDARFL614AUJ</td>\n",
       "      <td>4257</td>\n",
       "      <td>264</td>\n",
       "      <td>F</td>\n",
       "      <td>NaN</td>\n",
       "      <td>s3://NDAR_Central_4/submission_11839/TNAD-x-22...</td>\n",
       "      <td>...</td>\n",
       "      <td>NaN</td>\n",
       "      <td>NaN</td>\n",
       "      <td>NaN</td>\n",
       "      <td>NaN</td>\n",
       "      <td>NaN</td>\n",
       "      <td>NaN</td>\n",
       "      <td>NaN</td>\n",
       "      <td>NaN</td>\n",
       "      <td>Mapping Thalamocortical Networks Across Develo...</td>\n",
       "      <td>./image03/TNAD-x-227052-x-227052-x-301.nii.gz</td>\n",
       "    </tr>\n",
       "    <tr>\n",
       "      <th>3704</th>\n",
       "      <td>3705</td>\n",
       "      <td>2075</td>\n",
       "      <td>449302</td>\n",
       "      <td>10949</td>\n",
       "      <td>NDARFL614AUJ</td>\n",
       "      <td>4257</td>\n",
       "      <td>264</td>\n",
       "      <td>F</td>\n",
       "      <td>NaN</td>\n",
       "      <td>s3://NDAR_Central_4/submission_11839/TNAD-x-22...</td>\n",
       "      <td>...</td>\n",
       "      <td>NaN</td>\n",
       "      <td>NaN</td>\n",
       "      <td>NaN</td>\n",
       "      <td>NaN</td>\n",
       "      <td>NaN</td>\n",
       "      <td>NaN</td>\n",
       "      <td>NaN</td>\n",
       "      <td>NaN</td>\n",
       "      <td>Mapping Thalamocortical Networks Across Develo...</td>\n",
       "      <td>./image03/TNAD-x-227052-x-227052-x-601.nii.gz</td>\n",
       "    </tr>\n",
       "    <tr>\n",
       "      <th>3709</th>\n",
       "      <td>3710</td>\n",
       "      <td>2075</td>\n",
       "      <td>449307</td>\n",
       "      <td>10949</td>\n",
       "      <td>NDARTG446GAK</td>\n",
       "      <td>5179</td>\n",
       "      <td>95</td>\n",
       "      <td>M</td>\n",
       "      <td>NaN</td>\n",
       "      <td>s3://NDAR_Central_4/submission_11839/TNAD-x-22...</td>\n",
       "      <td>...</td>\n",
       "      <td>NaN</td>\n",
       "      <td>NaN</td>\n",
       "      <td>NaN</td>\n",
       "      <td>NaN</td>\n",
       "      <td>NaN</td>\n",
       "      <td>NaN</td>\n",
       "      <td>NaN</td>\n",
       "      <td>NaN</td>\n",
       "      <td>Mapping Thalamocortical Networks Across Develo...</td>\n",
       "      <td>./image03/TNAD-x-227063-x-227063-x-401.nii.gz</td>\n",
       "    </tr>\n",
       "    <tr>\n",
       "      <th>3710</th>\n",
       "      <td>3711</td>\n",
       "      <td>2075</td>\n",
       "      <td>449308</td>\n",
       "      <td>10949</td>\n",
       "      <td>NDARGY541DL6</td>\n",
       "      <td>5187</td>\n",
       "      <td>102</td>\n",
       "      <td>F</td>\n",
       "      <td>NaN</td>\n",
       "      <td>s3://NDAR_Central_4/submission_11839/TNAD-x-22...</td>\n",
       "      <td>...</td>\n",
       "      <td>NaN</td>\n",
       "      <td>NaN</td>\n",
       "      <td>NaN</td>\n",
       "      <td>NaN</td>\n",
       "      <td>NaN</td>\n",
       "      <td>NaN</td>\n",
       "      <td>NaN</td>\n",
       "      <td>NaN</td>\n",
       "      <td>Mapping Thalamocortical Networks Across Develo...</td>\n",
       "      <td>./image03/TNAD-x-227064-x-227064-x-301.nii.gz</td>\n",
       "    </tr>\n",
       "    <tr>\n",
       "      <th>3713</th>\n",
       "      <td>3714</td>\n",
       "      <td>2075</td>\n",
       "      <td>449311</td>\n",
       "      <td>10949</td>\n",
       "      <td>NDARGY541DL6</td>\n",
       "      <td>5187</td>\n",
       "      <td>102</td>\n",
       "      <td>F</td>\n",
       "      <td>NaN</td>\n",
       "      <td>s3://NDAR_Central_4/submission_11839/TNAD-x-22...</td>\n",
       "      <td>...</td>\n",
       "      <td>NaN</td>\n",
       "      <td>NaN</td>\n",
       "      <td>NaN</td>\n",
       "      <td>NaN</td>\n",
       "      <td>NaN</td>\n",
       "      <td>NaN</td>\n",
       "      <td>NaN</td>\n",
       "      <td>NaN</td>\n",
       "      <td>Mapping Thalamocortical Networks Across Develo...</td>\n",
       "      <td>./image03/TNAD-x-227064-x-227064-x-601.nii.gz</td>\n",
       "    </tr>\n",
       "    <tr>\n",
       "      <th>...</th>\n",
       "      <td>...</td>\n",
       "      <td>...</td>\n",
       "      <td>...</td>\n",
       "      <td>...</td>\n",
       "      <td>...</td>\n",
       "      <td>...</td>\n",
       "      <td>...</td>\n",
       "      <td>...</td>\n",
       "      <td>...</td>\n",
       "      <td>...</td>\n",
       "      <td>...</td>\n",
       "      <td>...</td>\n",
       "      <td>...</td>\n",
       "      <td>...</td>\n",
       "      <td>...</td>\n",
       "      <td>...</td>\n",
       "      <td>...</td>\n",
       "      <td>...</td>\n",
       "      <td>...</td>\n",
       "      <td>...</td>\n",
       "      <td>...</td>\n",
       "    </tr>\n",
       "    <tr>\n",
       "      <th>4571</th>\n",
       "      <td>4572</td>\n",
       "      <td>2075</td>\n",
       "      <td>481650</td>\n",
       "      <td>11879</td>\n",
       "      <td>NDARUC043UX9</td>\n",
       "      <td>5188</td>\n",
       "      <td>103</td>\n",
       "      <td>M</td>\n",
       "      <td>NaN</td>\n",
       "      <td>s3://NDAR_Central_4/submission_12579/TNAD-x-22...</td>\n",
       "      <td>...</td>\n",
       "      <td>NaN</td>\n",
       "      <td>NaN</td>\n",
       "      <td>NaN</td>\n",
       "      <td>NaN</td>\n",
       "      <td>NaN</td>\n",
       "      <td>NaN</td>\n",
       "      <td>NaN</td>\n",
       "      <td>NaN</td>\n",
       "      <td>Mapping Thalamocortical Networks Across Develo...</td>\n",
       "      <td>./image03/TNAD-x-227374-x-227374-x-701.nii.gz</td>\n",
       "    </tr>\n",
       "    <tr>\n",
       "      <th>4576</th>\n",
       "      <td>4577</td>\n",
       "      <td>2075</td>\n",
       "      <td>481655</td>\n",
       "      <td>11879</td>\n",
       "      <td>NDARZJ913WBH</td>\n",
       "      <td>5186</td>\n",
       "      <td>108</td>\n",
       "      <td>M</td>\n",
       "      <td>NaN</td>\n",
       "      <td>s3://NDAR_Central_4/submission_12579/TNAD-x-22...</td>\n",
       "      <td>...</td>\n",
       "      <td>NaN</td>\n",
       "      <td>NaN</td>\n",
       "      <td>NaN</td>\n",
       "      <td>NaN</td>\n",
       "      <td>NaN</td>\n",
       "      <td>NaN</td>\n",
       "      <td>NaN</td>\n",
       "      <td>NaN</td>\n",
       "      <td>Mapping Thalamocortical Networks Across Develo...</td>\n",
       "      <td>./image03/TNAD-x-227374-x-227374-x-1201.nii.gz</td>\n",
       "    </tr>\n",
       "    <tr>\n",
       "      <th>4578</th>\n",
       "      <td>4579</td>\n",
       "      <td>2075</td>\n",
       "      <td>481657</td>\n",
       "      <td>11879</td>\n",
       "      <td>NDARZJ913WBH</td>\n",
       "      <td>5186</td>\n",
       "      <td>108</td>\n",
       "      <td>M</td>\n",
       "      <td>NaN</td>\n",
       "      <td>s3://NDAR_Central_4/submission_12579/TNAD-x-22...</td>\n",
       "      <td>...</td>\n",
       "      <td>NaN</td>\n",
       "      <td>NaN</td>\n",
       "      <td>NaN</td>\n",
       "      <td>NaN</td>\n",
       "      <td>NaN</td>\n",
       "      <td>NaN</td>\n",
       "      <td>NaN</td>\n",
       "      <td>NaN</td>\n",
       "      <td>Mapping Thalamocortical Networks Across Develo...</td>\n",
       "      <td>./image03/TNAD-x-227441-x-227441-x-601.nii.gz</td>\n",
       "    </tr>\n",
       "    <tr>\n",
       "      <th>4582</th>\n",
       "      <td>4583</td>\n",
       "      <td>2075</td>\n",
       "      <td>481661</td>\n",
       "      <td>11879</td>\n",
       "      <td>NDARGA464CPL</td>\n",
       "      <td>5200</td>\n",
       "      <td>85</td>\n",
       "      <td>M</td>\n",
       "      <td>NaN</td>\n",
       "      <td>s3://NDAR_Central_4/submission_12579/TNAD-x-22...</td>\n",
       "      <td>...</td>\n",
       "      <td>NaN</td>\n",
       "      <td>NaN</td>\n",
       "      <td>NaN</td>\n",
       "      <td>NaN</td>\n",
       "      <td>NaN</td>\n",
       "      <td>NaN</td>\n",
       "      <td>NaN</td>\n",
       "      <td>NaN</td>\n",
       "      <td>Mapping Thalamocortical Networks Across Develo...</td>\n",
       "      <td>./image03/TNAD-x-227442-x-227442-x-301.nii.gz</td>\n",
       "    </tr>\n",
       "    <tr>\n",
       "      <th>4584</th>\n",
       "      <td>4585</td>\n",
       "      <td>2075</td>\n",
       "      <td>481663</td>\n",
       "      <td>11879</td>\n",
       "      <td>NDARGA464CPL</td>\n",
       "      <td>5200</td>\n",
       "      <td>85</td>\n",
       "      <td>M</td>\n",
       "      <td>NaN</td>\n",
       "      <td>s3://NDAR_Central_4/submission_12579/TNAD-x-22...</td>\n",
       "      <td>...</td>\n",
       "      <td>NaN</td>\n",
       "      <td>NaN</td>\n",
       "      <td>NaN</td>\n",
       "      <td>NaN</td>\n",
       "      <td>NaN</td>\n",
       "      <td>NaN</td>\n",
       "      <td>NaN</td>\n",
       "      <td>NaN</td>\n",
       "      <td>Mapping Thalamocortical Networks Across Develo...</td>\n",
       "      <td>./image03/TNAD-x-227442-x-227442-x-801.nii.gz</td>\n",
       "    </tr>\n",
       "  </tbody>\n",
       "</table>\n",
       "<p>168 rows × 75 columns</p>\n",
       "</div>"
      ],
      "text/plain": [
       "      Unnamed: 0  collection_id  image03_id  dataset_id    subjectkey  \\\n",
       "3701        3702           2075      449299       10949  NDARFL614AUJ   \n",
       "3704        3705           2075      449302       10949  NDARFL614AUJ   \n",
       "3709        3710           2075      449307       10949  NDARTG446GAK   \n",
       "3710        3711           2075      449308       10949  NDARGY541DL6   \n",
       "3713        3714           2075      449311       10949  NDARGY541DL6   \n",
       "...          ...            ...         ...         ...           ...   \n",
       "4571        4572           2075      481650       11879  NDARUC043UX9   \n",
       "4576        4577           2075      481655       11879  NDARZJ913WBH   \n",
       "4578        4579           2075      481657       11879  NDARZJ913WBH   \n",
       "4582        4583           2075      481661       11879  NDARGA464CPL   \n",
       "4584        4585           2075      481663       11879  NDARGA464CPL   \n",
       "\n",
       "     src_subject_id  interview_age sex comments_misc  \\\n",
       "3701           4257            264   F           NaN   \n",
       "3704           4257            264   F           NaN   \n",
       "3709           5179             95   M           NaN   \n",
       "3710           5187            102   F           NaN   \n",
       "3713           5187            102   F           NaN   \n",
       "...             ...            ...  ..           ...   \n",
       "4571           5188            103   M           NaN   \n",
       "4576           5186            108   M           NaN   \n",
       "4578           5186            108   M           NaN   \n",
       "4582           5200             85   M           NaN   \n",
       "4584           5200             85   M           NaN   \n",
       "\n",
       "                                             image_file  ...  \\\n",
       "3701  s3://NDAR_Central_4/submission_11839/TNAD-x-22...  ...   \n",
       "3704  s3://NDAR_Central_4/submission_11839/TNAD-x-22...  ...   \n",
       "3709  s3://NDAR_Central_4/submission_11839/TNAD-x-22...  ...   \n",
       "3710  s3://NDAR_Central_4/submission_11839/TNAD-x-22...  ...   \n",
       "3713  s3://NDAR_Central_4/submission_11839/TNAD-x-22...  ...   \n",
       "...                                                 ...  ...   \n",
       "4571  s3://NDAR_Central_4/submission_12579/TNAD-x-22...  ...   \n",
       "4576  s3://NDAR_Central_4/submission_12579/TNAD-x-22...  ...   \n",
       "4578  s3://NDAR_Central_4/submission_12579/TNAD-x-22...  ...   \n",
       "4582  s3://NDAR_Central_4/submission_12579/TNAD-x-22...  ...   \n",
       "4584  s3://NDAR_Central_4/submission_12579/TNAD-x-22...  ...   \n",
       "\n",
       "     experiment_description visit  slice_timing bvek_bval_files  \\\n",
       "3701                    NaN   NaN           NaN             NaN   \n",
       "3704                    NaN   NaN           NaN             NaN   \n",
       "3709                    NaN   NaN           NaN             NaN   \n",
       "3710                    NaN   NaN           NaN             NaN   \n",
       "3713                    NaN   NaN           NaN             NaN   \n",
       "...                     ...   ...           ...             ...   \n",
       "4571                    NaN   NaN           NaN             NaN   \n",
       "4576                    NaN   NaN           NaN             NaN   \n",
       "4578                    NaN   NaN           NaN             NaN   \n",
       "4582                    NaN   NaN           NaN             NaN   \n",
       "4584                    NaN   NaN           NaN             NaN   \n",
       "\n",
       "     deviceserialnumber procdate visnum manifest  \\\n",
       "3701                NaN      NaN    NaN      NaN   \n",
       "3704                NaN      NaN    NaN      NaN   \n",
       "3709                NaN      NaN    NaN      NaN   \n",
       "3710                NaN      NaN    NaN      NaN   \n",
       "3713                NaN      NaN    NaN      NaN   \n",
       "...                 ...      ...    ...      ...   \n",
       "4571                NaN      NaN    NaN      NaN   \n",
       "4576                NaN      NaN    NaN      NaN   \n",
       "4578                NaN      NaN    NaN      NaN   \n",
       "4582                NaN      NaN    NaN      NaN   \n",
       "4584                NaN      NaN    NaN      NaN   \n",
       "\n",
       "                                       collection_title  \\\n",
       "3701  Mapping Thalamocortical Networks Across Develo...   \n",
       "3704  Mapping Thalamocortical Networks Across Develo...   \n",
       "3709  Mapping Thalamocortical Networks Across Develo...   \n",
       "3710  Mapping Thalamocortical Networks Across Develo...   \n",
       "3713  Mapping Thalamocortical Networks Across Develo...   \n",
       "...                                                 ...   \n",
       "4571  Mapping Thalamocortical Networks Across Develo...   \n",
       "4576  Mapping Thalamocortical Networks Across Develo...   \n",
       "4578  Mapping Thalamocortical Networks Across Develo...   \n",
       "4582  Mapping Thalamocortical Networks Across Develo...   \n",
       "4584  Mapping Thalamocortical Networks Across Develo...   \n",
       "\n",
       "                                         local_paths  \n",
       "3701   ./image03/TNAD-x-227052-x-227052-x-301.nii.gz  \n",
       "3704   ./image03/TNAD-x-227052-x-227052-x-601.nii.gz  \n",
       "3709   ./image03/TNAD-x-227063-x-227063-x-401.nii.gz  \n",
       "3710   ./image03/TNAD-x-227064-x-227064-x-301.nii.gz  \n",
       "3713   ./image03/TNAD-x-227064-x-227064-x-601.nii.gz  \n",
       "...                                              ...  \n",
       "4571   ./image03/TNAD-x-227374-x-227374-x-701.nii.gz  \n",
       "4576  ./image03/TNAD-x-227374-x-227374-x-1201.nii.gz  \n",
       "4578   ./image03/TNAD-x-227441-x-227441-x-601.nii.gz  \n",
       "4582   ./image03/TNAD-x-227442-x-227442-x-301.nii.gz  \n",
       "4584   ./image03/TNAD-x-227442-x-227442-x-801.nii.gz  \n",
       "\n",
       "[168 rows x 75 columns]"
      ]
     },
     "execution_count": 30,
     "metadata": {},
     "output_type": "execute_result"
    }
   ],
   "source": [
    "study_name = 'Mapping Thalamocortical Networks Across Development in ASD'\n",
    "df = pd.read_csv('../Data/general_csv.csv')\n",
    "T1w = 'T1'\n",
    "study_df = df[df['image_description']==T1w] \n",
    "study_df"
   ]
  },
  {
   "cell_type": "code",
   "execution_count": 27,
   "id": "646419d4",
   "metadata": {},
   "outputs": [],
   "source": [
    "safe_mkdir(os.path.join(bids_root,f'ds-2075'))\n",
    "for s in range(nsubjects):\n",
    "    safe_mkdir(os.path.join(bids_root,f'ds-2075',f'sub-{s:03d}'))\n",
    "    safe_mkdir(os.path.join(bids_root,f'ds-2075',f'sub-{s:03d}','func'))\n",
    "    safe_mkdir(os.path.join(bids_root,f'ds-2075',f'sub-{s:03d}','anat'))"
   ]
  },
  {
   "cell_type": "code",
   "execution_count": 22,
   "id": "a99d0f34-fd96-4a59-8c22-6ed5c60ab2c7",
   "metadata": {},
   "outputs": [
    {
     "name": "stderr",
     "output_type": "stream",
     "text": [
      "100%|██████████| 58/58 [01:30<00:00,  1.55s/it]\n"
     ]
    }
   ],
   "source": [
    "#func copy files\n",
    "nsubjects = len('Mapping Thalamocortical Networks Across Development in ASD')\n",
    "for s in tqdm(range(nsubjects)):\n",
    "    inpath = os.path.join(ndar_root,study_df['local_paths'].values[s][2::])\n",
    "    outpath = os.path.join(bids_root,f'ds-2075',f'sub-{s:03d}','func',f'sub-{s:03d}_task-rest_bold.nii.gz')\n",
    "    shutil.copyfile(src=inpath,dst=outpath)"
   ]
  },
  {
   "cell_type": "code",
   "execution_count": 6,
   "id": "b1c934de-4259-4f90-b6ce-94bec14a19e5",
   "metadata": {},
   "outputs": [
    {
     "name": "stderr",
     "output_type": "stream",
     "text": [
      "  0%|          | 0/58 [00:00<?, ?it/s]\n",
      "0it [00:00, ?it/s]\u001b[A\n",
      "\n",
      "  0%|          | 0/1 [00:00<?, ?it/s]\u001b[A"
     ]
    },
    {
     "name": "stdout",
     "output_type": "stream",
     "text": [
      "pass\n"
     ]
    },
    {
     "name": "stderr",
     "output_type": "stream",
     "text": [
      "\n",
      "100%|██████████| 1/1 [00:00<00:00,  4.03it/s]\u001b[A\n",
      "  3%|▎         | 2/58 [00:00<00:07,  7.98it/s]\n",
      "  0%|          | 0/2 [00:00<?, ?it/s]\u001b[A"
     ]
    },
    {
     "name": "stdout",
     "output_type": "stream",
     "text": [
      "pass\n"
     ]
    },
    {
     "name": "stderr",
     "output_type": "stream",
     "text": [
      "\n",
      "100%|██████████| 2/2 [00:00<00:00,  6.66it/s]\u001b[A\n",
      "  5%|▌         | 3/58 [00:00<00:10,  5.02it/s]\n",
      "  0%|          | 0/3 [00:00<?, ?it/s]\u001b[A"
     ]
    },
    {
     "name": "stdout",
     "output_type": "stream",
     "text": [
      "pass\n"
     ]
    },
    {
     "name": "stderr",
     "output_type": "stream",
     "text": [
      "\n",
      " 33%|███▎      | 1/3 [00:00<00:00,  4.51it/s]\u001b[A\n",
      "100%|██████████| 3/3 [00:00<00:00,  8.09it/s]\u001b[A\n",
      "  7%|▋         | 4/58 [00:00<00:14,  3.79it/s]\n",
      "  0%|          | 0/4 [00:00<?, ?it/s]\u001b[A"
     ]
    },
    {
     "name": "stdout",
     "output_type": "stream",
     "text": [
      "pass\n"
     ]
    },
    {
     "name": "stderr",
     "output_type": "stream",
     "text": [
      "\n",
      " 25%|██▌       | 1/4 [00:00<00:00,  4.47it/s]\u001b[A\n",
      "100%|██████████| 4/4 [00:00<00:00,  8.96it/s]\u001b[A\n",
      "  9%|▊         | 5/58 [00:01<00:17,  3.05it/s]\n",
      "  0%|          | 0/5 [00:00<?, ?it/s]\u001b[A"
     ]
    },
    {
     "name": "stdout",
     "output_type": "stream",
     "text": [
      "pass\n"
     ]
    },
    {
     "name": "stderr",
     "output_type": "stream",
     "text": [
      "\n",
      " 20%|██        | 1/5 [00:00<00:00,  4.64it/s]\u001b[A\n",
      " 60%|██████    | 3/5 [00:00<00:00,  9.06it/s]\u001b[A\n",
      "100%|██████████| 5/5 [00:00<00:00,  9.77it/s]\u001b[A\n",
      " 10%|█         | 6/58 [00:01<00:20,  2.57it/s]\n",
      "  0%|          | 0/6 [00:00<?, ?it/s]\u001b[A"
     ]
    },
    {
     "name": "stdout",
     "output_type": "stream",
     "text": [
      "pass\n"
     ]
    },
    {
     "name": "stderr",
     "output_type": "stream",
     "text": [
      "\n",
      " 17%|█▋        | 1/6 [00:00<00:01,  4.44it/s]\u001b[A\n",
      " 50%|█████     | 3/6 [00:00<00:00,  8.86it/s]\u001b[A\n",
      "100%|██████████| 6/6 [00:00<00:00, 10.12it/s]\u001b[A\n",
      " 12%|█▏        | 7/58 [00:02<00:23,  2.19it/s]\n",
      "  0%|          | 0/7 [00:00<?, ?it/s]\u001b[A\n",
      " 14%|█▍        | 1/7 [00:00<00:00,  7.66it/s]\u001b[A"
     ]
    },
    {
     "name": "stdout",
     "output_type": "stream",
     "text": [
      "pass\n"
     ]
    },
    {
     "name": "stderr",
     "output_type": "stream",
     "text": [
      "\n",
      "100%|██████████| 7/7 [00:00<00:00, 24.59it/s]\u001b[A\n",
      " 14%|█▍        | 8/58 [00:02<00:20,  2.48it/s]\n",
      "  0%|          | 0/8 [00:00<?, ?it/s]\u001b[A"
     ]
    },
    {
     "name": "stdout",
     "output_type": "stream",
     "text": [
      "pass\n"
     ]
    },
    {
     "name": "stderr",
     "output_type": "stream",
     "text": [
      "\n",
      " 12%|█▎        | 1/8 [00:00<00:01,  4.54it/s]\u001b[A\n",
      " 38%|███▊      | 3/8 [00:00<00:00,  9.00it/s]\u001b[A\n",
      " 62%|██████▎   | 5/8 [00:00<00:00, 10.93it/s]\u001b[A\n",
      "100%|██████████| 8/8 [00:00<00:00, 10.94it/s]\u001b[A\n",
      " 16%|█▌        | 9/58 [00:03<00:24,  1.98it/s]\n",
      "  0%|          | 0/9 [00:00<?, ?it/s]\u001b[A"
     ]
    },
    {
     "name": "stdout",
     "output_type": "stream",
     "text": [
      "pass\n"
     ]
    },
    {
     "name": "stderr",
     "output_type": "stream",
     "text": [
      "\n",
      " 11%|█         | 1/9 [00:00<00:01,  4.40it/s]\u001b[A\n",
      " 33%|███▎      | 3/9 [00:00<00:00,  8.86it/s]\u001b[A\n",
      " 56%|█████▌    | 5/9 [00:00<00:00, 10.82it/s]\u001b[A\n",
      " 78%|███████▊  | 7/9 [00:00<00:00, 11.87it/s]\u001b[A\n",
      "100%|██████████| 9/9 [00:00<00:00, 11.07it/s]\u001b[A\n",
      " 17%|█▋        | 10/58 [00:04<00:28,  1.67it/s]\n",
      "  0%|          | 0/10 [00:00<?, ?it/s]\u001b[A"
     ]
    },
    {
     "name": "stdout",
     "output_type": "stream",
     "text": [
      "pass\n"
     ]
    },
    {
     "name": "stderr",
     "output_type": "stream",
     "text": [
      "\n",
      " 10%|█         | 1/10 [00:00<00:01,  4.98it/s]\u001b[A\n",
      " 30%|███       | 3/10 [00:00<00:00,  9.75it/s]\u001b[A\n",
      " 50%|█████     | 5/10 [00:00<00:00, 11.80it/s]\u001b[A\n",
      " 70%|███████   | 7/10 [00:00<00:00, 12.87it/s]\u001b[A\n",
      "100%|██████████| 10/10 [00:00<00:00, 12.13it/s][A\n",
      " 19%|█▉        | 11/58 [00:05<00:31,  1.49it/s]\n",
      "  0%|          | 0/11 [00:00<?, ?it/s]\u001b[A"
     ]
    },
    {
     "name": "stdout",
     "output_type": "stream",
     "text": [
      "pass\n"
     ]
    },
    {
     "name": "stderr",
     "output_type": "stream",
     "text": [
      "\n",
      "  9%|▉         | 1/11 [00:00<00:02,  4.53it/s]\u001b[A\n",
      " 27%|██▋       | 3/11 [00:00<00:00,  9.02it/s]\u001b[A\n",
      " 45%|████▌     | 5/11 [00:00<00:00, 10.97it/s]\u001b[A\n",
      " 64%|██████▎   | 7/11 [00:00<00:00, 12.00it/s]\u001b[A\n",
      " 82%|████████▏ | 9/11 [00:00<00:00, 12.60it/s]\u001b[A\n",
      "100%|██████████| 11/11 [00:00<00:00, 11.58it/s]\u001b[A\n",
      " 21%|██        | 12/58 [00:06<00:34,  1.32it/s]\n",
      "  0%|          | 0/12 [00:00<?, ?it/s]\u001b[A"
     ]
    },
    {
     "name": "stdout",
     "output_type": "stream",
     "text": [
      "pass\n"
     ]
    },
    {
     "name": "stderr",
     "output_type": "stream",
     "text": [
      "\n",
      "  8%|▊         | 1/12 [00:00<00:02,  4.70it/s]\u001b[A\n",
      " 25%|██▌       | 3/12 [00:00<00:00,  9.13it/s]\u001b[A\n",
      " 42%|████▏     | 5/12 [00:00<00:00, 10.84it/s]\u001b[A\n",
      " 58%|█████▊    | 7/12 [00:00<00:00, 11.91it/s]\u001b[A\n",
      " 75%|███████▌  | 9/12 [00:00<00:00, 12.51it/s]\u001b[A\n",
      "100%|██████████| 12/12 [00:01<00:00, 11.73it/s]\u001b[A\n",
      " 22%|██▏       | 13/58 [00:07<00:37,  1.20it/s]\n",
      "  0%|          | 0/13 [00:00<?, ?it/s]\u001b[A\n",
      " 15%|█▌        | 2/13 [00:00<00:00, 16.39it/s]\u001b[A"
     ]
    },
    {
     "name": "stdout",
     "output_type": "stream",
     "text": [
      "pass\n"
     ]
    },
    {
     "name": "stderr",
     "output_type": "stream",
     "text": [
      "\n",
      " 54%|█████▍    | 7/13 [00:00<00:00, 31.69it/s]\u001b[A\n",
      "100%|██████████| 13/13 [00:00<00:00, 34.13it/s]\u001b[A\n",
      " 24%|██▍       | 14/58 [00:07<00:30,  1.43it/s]\n",
      "  0%|          | 0/14 [00:00<?, ?it/s]\u001b[A"
     ]
    },
    {
     "name": "stdout",
     "output_type": "stream",
     "text": [
      "pass\n"
     ]
    },
    {
     "name": "stderr",
     "output_type": "stream",
     "text": [
      "\n",
      "  7%|▋         | 1/14 [00:00<00:03,  4.27it/s]\u001b[A\n",
      " 21%|██▏       | 3/14 [00:00<00:01,  8.73it/s]\u001b[A\n",
      " 36%|███▌      | 5/14 [00:00<00:00, 10.76it/s]\u001b[A\n",
      " 50%|█████     | 7/14 [00:00<00:00, 11.86it/s]\u001b[A\n",
      " 64%|██████▍   | 9/14 [00:00<00:00, 12.51it/s]\u001b[A\n",
      " 79%|███████▊  | 11/14 [00:00<00:00, 12.90it/s]\u001b[A\n",
      "100%|██████████| 14/14 [00:01<00:00, 11.85it/s]\u001b[A\n",
      " 26%|██▌       | 15/58 [00:08<00:36,  1.18it/s]\n",
      "  0%|          | 0/15 [00:00<?, ?it/s]\u001b[A"
     ]
    },
    {
     "name": "stdout",
     "output_type": "stream",
     "text": [
      "pass\n"
     ]
    },
    {
     "name": "stderr",
     "output_type": "stream",
     "text": [
      "\n",
      "  7%|▋         | 1/15 [00:00<00:03,  4.51it/s]\u001b[A\n",
      " 20%|██        | 3/15 [00:00<00:01,  8.97it/s]\u001b[A\n",
      " 33%|███▎      | 5/15 [00:00<00:00, 10.92it/s]\u001b[A\n",
      " 47%|████▋     | 7/15 [00:00<00:00, 11.95it/s]\u001b[A\n",
      " 60%|██████    | 9/15 [00:00<00:00, 12.56it/s]\u001b[A\n",
      " 73%|███████▎  | 11/15 [00:00<00:00, 12.80it/s]\u001b[A\n",
      " 87%|████████▋ | 13/15 [00:01<00:00, 13.09it/s]\u001b[A\n",
      "100%|██████████| 15/15 [00:01<00:00, 12.02it/s]\u001b[A\n",
      " 28%|██▊       | 16/58 [00:09<00:40,  1.03it/s]\n",
      "  0%|          | 0/16 [00:00<?, ?it/s]\u001b[A\n",
      "  6%|▋         | 1/16 [00:00<00:01,  8.64it/s]\u001b[A"
     ]
    },
    {
     "name": "stdout",
     "output_type": "stream",
     "text": [
      "pass\n"
     ]
    },
    {
     "name": "stderr",
     "output_type": "stream",
     "text": [
      "\n",
      " 31%|███▏      | 5/16 [00:00<00:00, 24.10it/s]\u001b[A\n",
      " 56%|█████▋    | 9/16 [00:00<00:00, 29.11it/s]\u001b[A\n",
      "100%|██████████| 16/16 [00:00<00:00, 29.41it/s]\u001b[A\n",
      " 29%|██▉       | 17/58 [00:10<00:34,  1.19it/s]\n",
      "  0%|          | 0/17 [00:00<?, ?it/s]\u001b[A\n",
      " 29%|██▉       | 5/17 [00:00<00:00, 41.80it/s]\u001b[A"
     ]
    },
    {
     "name": "stdout",
     "output_type": "stream",
     "text": [
      "pass\n"
     ]
    },
    {
     "name": "stderr",
     "output_type": "stream",
     "text": [
      "\n",
      " 59%|█████▉    | 10/17 [00:00<00:00, 41.58it/s]\u001b[A\n",
      "100%|██████████| 17/17 [00:00<00:00, 42.98it/s]\u001b[A\n",
      " 31%|███       | 18/58 [00:10<00:28,  1.41it/s]\n",
      "  0%|          | 0/18 [00:00<?, ?it/s]\u001b[A\n",
      "  6%|▌         | 1/18 [00:00<00:01,  9.65it/s]\u001b[A"
     ]
    },
    {
     "name": "stdout",
     "output_type": "stream",
     "text": [
      "pass\n"
     ]
    },
    {
     "name": "stderr",
     "output_type": "stream",
     "text": [
      "\n",
      " 28%|██▊       | 5/18 [00:00<00:00, 26.33it/s]\u001b[A\n",
      " 50%|█████     | 9/18 [00:00<00:00, 31.56it/s]\u001b[A\n",
      " 72%|███████▏  | 13/18 [00:00<00:00, 33.92it/s]\u001b[A\n",
      "100%|██████████| 18/18 [00:00<00:00, 32.43it/s]\u001b[A\n",
      " 33%|███▎      | 19/58 [00:11<00:25,  1.51it/s]\n",
      "  0%|          | 0/19 [00:00<?, ?it/s]\u001b[A\n",
      "  5%|▌         | 1/19 [00:00<00:01,  9.44it/s]\u001b[A"
     ]
    },
    {
     "name": "stdout",
     "output_type": "stream",
     "text": [
      "pass\n"
     ]
    },
    {
     "name": "stderr",
     "output_type": "stream",
     "text": [
      "\n",
      " 26%|██▋       | 5/19 [00:00<00:00, 26.54it/s]\u001b[A\n",
      " 47%|████▋     | 9/19 [00:00<00:00, 32.08it/s]\u001b[A\n",
      " 68%|██████▊   | 13/19 [00:00<00:00, 34.74it/s]\u001b[A\n",
      "100%|██████████| 19/19 [00:00<00:00, 33.27it/s]\u001b[A\n",
      " 34%|███▍      | 20/58 [00:12<00:24,  1.57it/s]\n",
      "  0%|          | 0/20 [00:00<?, ?it/s]\u001b[A"
     ]
    },
    {
     "name": "stdout",
     "output_type": "stream",
     "text": [
      "pass\n"
     ]
    },
    {
     "name": "stderr",
     "output_type": "stream",
     "text": [
      "\n",
      "  5%|▌         | 1/20 [00:03<01:10,  3.73s/it]\u001b[A\n",
      " 25%|██▌       | 5/20 [00:03<00:08,  1.73it/s]\u001b[A\n",
      " 45%|████▌     | 9/20 [00:03<00:03,  3.62it/s]\u001b[A\n",
      " 65%|██████▌   | 13/20 [00:04<00:01,  6.00it/s]\u001b[A\n",
      "100%|██████████| 20/20 [00:04<00:00,  4.71it/s]\u001b[A\n",
      " 36%|███▌      | 21/58 [00:16<01:03,  1.72s/it]\n",
      "  0%|          | 0/21 [00:00<?, ?it/s]\u001b[A\n",
      "  5%|▍         | 1/21 [00:00<00:02,  9.02it/s]\u001b[A"
     ]
    },
    {
     "name": "stdout",
     "output_type": "stream",
     "text": [
      "pass\n"
     ]
    },
    {
     "name": "stderr",
     "output_type": "stream",
     "text": [
      "\n",
      " 24%|██▍       | 5/21 [00:00<00:00, 25.74it/s]\u001b[A\n",
      " 43%|████▎     | 9/21 [00:00<00:00, 31.39it/s]\u001b[A\n",
      " 62%|██████▏   | 13/21 [00:00<00:00, 33.86it/s]\u001b[A\n",
      " 81%|████████  | 17/21 [00:00<00:00, 35.48it/s]\u001b[A\n",
      "100%|██████████| 21/21 [00:00<00:00, 33.00it/s]\u001b[A\n",
      " 38%|███▊      | 22/58 [00:16<00:50,  1.39s/it]\n",
      "  0%|          | 0/22 [00:00<?, ?it/s]\u001b[A\n",
      "  5%|▍         | 1/22 [00:00<00:02,  7.89it/s]\u001b[A"
     ]
    },
    {
     "name": "stdout",
     "output_type": "stream",
     "text": [
      "pass\n"
     ]
    },
    {
     "name": "stderr",
     "output_type": "stream",
     "text": [
      "\n",
      " 23%|██▎       | 5/22 [00:00<00:00, 24.40it/s]\u001b[A\n",
      " 41%|████      | 9/22 [00:00<00:00, 30.52it/s]\u001b[A\n",
      " 59%|█████▉    | 13/22 [00:00<00:00, 33.36it/s]\u001b[A\n",
      " 77%|███████▋  | 17/22 [00:00<00:00, 35.10it/s]\u001b[A\n",
      "100%|██████████| 22/22 [00:00<00:00, 32.54it/s]\u001b[A\n",
      " 40%|███▉      | 23/58 [00:17<00:41,  1.18s/it]\n",
      "  0%|          | 0/23 [00:00<?, ?it/s]\u001b[A"
     ]
    },
    {
     "name": "stdout",
     "output_type": "stream",
     "text": [
      "pass\n"
     ]
    },
    {
     "name": "stderr",
     "output_type": "stream",
     "text": [
      "\n",
      "  4%|▍         | 1/23 [00:00<00:04,  4.64it/s]\u001b[A\n",
      " 13%|█▎        | 3/23 [00:00<00:02,  9.67it/s]\u001b[A\n",
      " 22%|██▏       | 5/23 [00:00<00:01, 12.04it/s]\u001b[A\n",
      " 30%|███       | 7/23 [00:00<00:01, 13.32it/s]\u001b[A\n",
      " 39%|███▉      | 9/23 [00:00<00:00, 14.08it/s]\u001b[A\n",
      " 48%|████▊     | 11/23 [00:00<00:00, 14.56it/s]\u001b[A\n",
      " 57%|█████▋    | 13/23 [00:00<00:00, 14.90it/s]\u001b[A\n",
      " 65%|██████▌   | 15/23 [00:01<00:00, 15.12it/s]\u001b[A\n",
      " 74%|███████▍  | 17/23 [00:01<00:00, 15.20it/s]\u001b[A\n",
      " 83%|████████▎ | 19/23 [00:01<00:00, 15.22it/s]\u001b[A\n",
      " 91%|█████████▏| 21/23 [00:01<00:00, 15.24it/s]\u001b[A\n",
      "100%|██████████| 23/23 [00:01<00:00, 14.04it/s]\u001b[A\n",
      " 41%|████▏     | 24/58 [00:19<00:44,  1.32s/it]\n",
      "  0%|          | 0/24 [00:00<?, ?it/s]\u001b[A"
     ]
    },
    {
     "name": "stdout",
     "output_type": "stream",
     "text": [
      "pass\n"
     ]
    },
    {
     "name": "stderr",
     "output_type": "stream",
     "text": [
      "\n",
      "  4%|▍         | 1/24 [00:00<00:13,  1.75it/s]\u001b[A\n",
      " 12%|█▎        | 3/24 [00:00<00:04,  5.09it/s]\u001b[A\n",
      " 21%|██        | 5/24 [00:00<00:02,  7.78it/s]\u001b[A\n",
      " 29%|██▉       | 7/24 [00:00<00:01,  9.88it/s]\u001b[A\n",
      " 38%|███▊      | 9/24 [00:01<00:01, 11.45it/s]\u001b[A\n",
      " 46%|████▌     | 11/24 [00:01<00:01, 12.62it/s]\u001b[A\n",
      " 54%|█████▍    | 13/24 [00:01<00:00, 13.46it/s]\u001b[A\n",
      " 62%|██████▎   | 15/24 [00:01<00:00, 14.08it/s]\u001b[A\n",
      " 71%|███████   | 17/24 [00:01<00:00, 14.47it/s]\u001b[A\n",
      " 79%|███████▉  | 19/24 [00:01<00:00, 14.69it/s]\u001b[A\n",
      " 88%|████████▊ | 21/24 [00:01<00:00, 14.93it/s]\u001b[A\n",
      "100%|██████████| 24/24 [00:02<00:00, 11.67it/s]\u001b[A\n",
      " 43%|████▎     | 25/58 [00:21<00:50,  1.54s/it]\n",
      "  0%|          | 0/25 [00:00<?, ?it/s]\u001b[A"
     ]
    },
    {
     "name": "stdout",
     "output_type": "stream",
     "text": [
      "pass\n"
     ]
    },
    {
     "name": "stderr",
     "output_type": "stream",
     "text": [
      "\n",
      "  4%|▍         | 1/25 [00:00<00:05,  4.36it/s]\u001b[A\n",
      " 12%|█▏        | 3/25 [00:00<00:02,  9.29it/s]\u001b[A\n",
      " 20%|██        | 5/25 [00:00<00:01, 11.69it/s]\u001b[A\n",
      " 28%|██▊       | 7/25 [00:00<00:01, 13.05it/s]\u001b[A\n",
      " 36%|███▌      | 9/25 [00:00<00:01, 13.89it/s]\u001b[A\n",
      " 44%|████▍     | 11/25 [00:00<00:00, 14.43it/s]\u001b[A\n",
      " 52%|█████▏    | 13/25 [00:01<00:00, 14.79it/s]\u001b[A\n",
      " 60%|██████    | 15/25 [00:01<00:00, 15.03it/s]\u001b[A\n",
      " 68%|██████▊   | 17/25 [00:01<00:00, 15.19it/s]\u001b[A\n",
      " 76%|███████▌  | 19/25 [00:01<00:00, 15.27it/s]\u001b[A\n",
      " 84%|████████▍ | 21/25 [00:01<00:00, 15.37it/s]\u001b[A\n",
      " 92%|█████████▏| 23/25 [00:01<00:00, 15.44it/s]\u001b[A\n",
      "100%|██████████| 25/25 [00:01<00:00, 14.07it/s]\u001b[A\n",
      " 45%|████▍     | 26/58 [00:23<00:51,  1.61s/it]\n",
      "  0%|          | 0/26 [00:00<?, ?it/s]\u001b[A\n",
      "  4%|▍         | 1/26 [00:00<00:02,  8.58it/s]\u001b[A"
     ]
    },
    {
     "name": "stdout",
     "output_type": "stream",
     "text": [
      "pass\n"
     ]
    },
    {
     "name": "stderr",
     "output_type": "stream",
     "text": [
      "\n",
      " 19%|█▉        | 5/26 [00:00<00:00, 24.80it/s]\u001b[A\n",
      " 35%|███▍      | 9/26 [00:00<00:00, 30.52it/s]\u001b[A\n",
      " 50%|█████     | 13/26 [00:00<00:00, 33.38it/s]\u001b[A\n",
      " 65%|██████▌   | 17/26 [00:00<00:00, 34.94it/s]\u001b[A\n",
      " 81%|████████  | 21/26 [00:00<00:00, 35.93it/s]\u001b[A\n",
      "100%|██████████| 26/26 [00:00<00:00, 33.25it/s]\u001b[A\n",
      " 47%|████▋     | 27/58 [00:23<00:42,  1.36s/it]\n",
      "  0%|          | 0/27 [00:00<?, ?it/s]\u001b[A\n",
      "  4%|▎         | 1/27 [00:00<00:02,  9.11it/s]\u001b[A"
     ]
    },
    {
     "name": "stdout",
     "output_type": "stream",
     "text": [
      "pass\n"
     ]
    },
    {
     "name": "stderr",
     "output_type": "stream",
     "text": [
      "\n",
      " 19%|█▊        | 5/27 [00:00<00:00, 25.88it/s]\u001b[A\n",
      " 33%|███▎      | 9/27 [00:00<00:00, 31.46it/s]\u001b[A\n",
      " 48%|████▊     | 13/27 [00:00<00:00, 34.04it/s]\u001b[A\n",
      " 63%|██████▎   | 17/27 [00:00<00:00, 35.47it/s]\u001b[A\n",
      " 78%|███████▊  | 21/27 [00:00<00:00, 36.38it/s]\u001b[A\n",
      "100%|██████████| 27/27 [00:00<00:00, 34.03it/s]\u001b[A\n",
      " 48%|████▊     | 28/58 [00:24<00:35,  1.19s/it]\n",
      "  0%|          | 0/28 [00:00<?, ?it/s]\u001b[A\n",
      "  4%|▎         | 1/28 [00:00<00:03,  8.78it/s]\u001b[A"
     ]
    },
    {
     "name": "stdout",
     "output_type": "stream",
     "text": [
      "pass\n"
     ]
    },
    {
     "name": "stderr",
     "output_type": "stream",
     "text": [
      "\n",
      " 18%|█▊        | 5/28 [00:00<00:00, 24.73it/s]\u001b[A\n",
      " 32%|███▏      | 9/28 [00:00<00:00, 27.91it/s]\u001b[A\n",
      " 46%|████▋     | 13/28 [00:00<00:00, 29.42it/s]\u001b[A\n",
      " 61%|██████    | 17/28 [00:00<00:00, 30.27it/s]\u001b[A\n",
      " 75%|███████▌  | 21/28 [00:00<00:00, 30.70it/s]\u001b[A\n",
      "100%|██████████| 28/28 [00:00<00:00, 29.33it/s]\u001b[A\n",
      " 50%|█████     | 29/58 [00:25<00:32,  1.12s/it]\n",
      "  0%|          | 0/29 [00:00<?, ?it/s]\u001b[A\n",
      "  3%|▎         | 1/29 [00:00<00:03,  8.56it/s]\u001b[A"
     ]
    },
    {
     "name": "stdout",
     "output_type": "stream",
     "text": [
      "pass\n"
     ]
    },
    {
     "name": "stderr",
     "output_type": "stream",
     "text": [
      "\n",
      " 17%|█▋        | 5/29 [00:00<00:01, 23.33it/s]\u001b[A\n",
      " 31%|███       | 9/29 [00:00<00:00, 27.91it/s]\u001b[A\n",
      " 45%|████▍     | 13/29 [00:00<00:00, 30.06it/s]\u001b[A\n",
      " 59%|█████▊    | 17/29 [00:00<00:00, 31.01it/s]\u001b[A\n",
      " 72%|███████▏  | 21/29 [00:00<00:00, 31.87it/s]\u001b[A\n",
      " 86%|████████▌ | 25/29 [00:00<00:00, 32.34it/s]\u001b[A\n",
      "100%|██████████| 29/29 [00:00<00:00, 30.25it/s]\u001b[A\n",
      " 52%|█████▏    | 30/58 [00:26<00:30,  1.07s/it]\n",
      "  0%|          | 0/30 [00:00<?, ?it/s]\u001b[A\n",
      "  3%|▎         | 1/30 [00:00<00:03,  8.21it/s]\u001b[A"
     ]
    },
    {
     "name": "stdout",
     "output_type": "stream",
     "text": [
      "pass\n"
     ]
    },
    {
     "name": "stderr",
     "output_type": "stream",
     "text": [
      "\n",
      " 17%|█▋        | 5/30 [00:00<00:01, 23.12it/s]\u001b[A\n",
      " 30%|███       | 9/30 [00:00<00:00, 27.36it/s]\u001b[A\n",
      " 43%|████▎     | 13/30 [00:00<00:00, 29.91it/s]\u001b[A\n",
      " 57%|█████▋    | 17/30 [00:00<00:00, 31.34it/s]\u001b[A\n",
      " 70%|███████   | 21/30 [00:00<00:00, 32.21it/s]\u001b[A\n",
      " 83%|████████▎ | 25/30 [00:00<00:00, 32.59it/s]\u001b[A\n",
      "100%|██████████| 30/30 [00:00<00:00, 30.37it/s]\u001b[A\n",
      " 53%|█████▎    | 31/58 [00:27<00:28,  1.05s/it]\n",
      "  0%|          | 0/31 [00:00<?, ?it/s]\u001b[A\n",
      "  3%|▎         | 1/31 [00:00<00:03,  8.11it/s]\u001b[A"
     ]
    },
    {
     "name": "stdout",
     "output_type": "stream",
     "text": [
      "pass\n"
     ]
    },
    {
     "name": "stderr",
     "output_type": "stream",
     "text": [
      "\n",
      " 16%|█▌        | 5/31 [00:00<00:01, 22.74it/s]\u001b[A\n",
      " 29%|██▉       | 9/31 [00:00<00:00, 27.51it/s]\u001b[A\n",
      " 42%|████▏     | 13/31 [00:00<00:00, 29.72it/s]\u001b[A\n",
      " 55%|█████▍    | 17/31 [00:00<00:00, 30.92it/s]\u001b[A\n",
      " 68%|██████▊   | 21/31 [00:00<00:00, 31.70it/s]\u001b[A\n",
      " 81%|████████  | 25/31 [00:00<00:00, 32.13it/s]\u001b[A\n",
      "100%|██████████| 31/31 [00:01<00:00, 30.13it/s]\u001b[A\n",
      " 55%|█████▌    | 32/58 [00:28<00:27,  1.04s/it]\n",
      "  0%|          | 0/32 [00:00<?, ?it/s]\u001b[A\n",
      "  3%|▎         | 1/32 [00:00<00:03,  8.90it/s]\u001b[A"
     ]
    },
    {
     "name": "stdout",
     "output_type": "stream",
     "text": [
      "pass\n"
     ]
    },
    {
     "name": "stderr",
     "output_type": "stream",
     "text": [
      "\n",
      " 16%|█▌        | 5/32 [00:00<00:01, 23.96it/s]\u001b[A\n",
      " 28%|██▊       | 9/32 [00:00<00:00, 28.55it/s]\u001b[A\n",
      " 41%|████      | 13/32 [00:00<00:00, 30.68it/s]\u001b[A\n",
      " 53%|█████▎    | 17/32 [00:00<00:00, 31.85it/s]\u001b[A\n",
      " 66%|██████▌   | 21/32 [00:00<00:00, 32.54it/s]\u001b[A\n",
      " 78%|███████▊  | 25/32 [00:00<00:00, 32.98it/s]\u001b[A\n",
      "100%|██████████| 32/32 [00:01<00:00, 31.15it/s]\u001b[A\n",
      " 57%|█████▋    | 33/58 [00:29<00:25,  1.04s/it]\n",
      "  0%|          | 0/33 [00:00<?, ?it/s]\u001b[A\n",
      "  3%|▎         | 1/33 [00:00<00:03,  8.84it/s]\u001b[A"
     ]
    },
    {
     "name": "stdout",
     "output_type": "stream",
     "text": [
      "pass\n"
     ]
    },
    {
     "name": "stderr",
     "output_type": "stream",
     "text": [
      "\n",
      " 15%|█▌        | 5/33 [00:00<00:01, 23.97it/s]\u001b[A\n",
      " 27%|██▋       | 9/33 [00:00<00:00, 28.61it/s]\u001b[A\n",
      " 39%|███▉      | 13/33 [00:00<00:00, 30.76it/s]\u001b[A\n",
      " 52%|█████▏    | 17/33 [00:00<00:00, 31.87it/s]\u001b[A\n",
      " 64%|██████▎   | 21/33 [00:00<00:00, 32.57it/s]\u001b[A\n",
      " 76%|███████▌  | 25/33 [00:00<00:00, 33.02it/s]\u001b[A\n",
      " 88%|████████▊ | 29/33 [00:00<00:00, 33.41it/s]\u001b[A\n",
      "100%|██████████| 33/33 [00:01<00:00, 31.27it/s]\u001b[A\n",
      " 59%|█████▊    | 34/58 [00:30<00:25,  1.04s/it]\n",
      "  0%|          | 0/34 [00:00<?, ?it/s]\u001b[A\n",
      "  3%|▎         | 1/34 [00:00<00:03,  9.14it/s]\u001b[A"
     ]
    },
    {
     "name": "stdout",
     "output_type": "stream",
     "text": [
      "pass\n"
     ]
    },
    {
     "name": "stderr",
     "output_type": "stream",
     "text": [
      "\n",
      " 15%|█▍        | 5/34 [00:00<00:01, 23.96it/s]\u001b[A\n",
      " 26%|██▋       | 9/34 [00:00<00:00, 28.46it/s]\u001b[A\n",
      " 38%|███▊      | 13/34 [00:00<00:00, 30.54it/s]\u001b[A\n",
      " 50%|█████     | 17/34 [00:00<00:00, 31.71it/s]\u001b[A\n",
      " 62%|██████▏   | 21/34 [00:00<00:00, 32.40it/s]\u001b[A\n",
      " 74%|███████▎  | 25/34 [00:00<00:00, 32.78it/s]\u001b[A\n",
      " 85%|████████▌ | 29/34 [00:00<00:00, 33.09it/s]\u001b[A\n",
      "100%|██████████| 34/34 [00:01<00:00, 31.20it/s]\u001b[A\n",
      " 60%|██████    | 35/58 [00:31<00:24,  1.06s/it]\n",
      "  0%|          | 0/35 [00:00<?, ?it/s]\u001b[A\n",
      "  6%|▌         | 2/35 [00:00<00:01, 16.95it/s]\u001b[A"
     ]
    },
    {
     "name": "stdout",
     "output_type": "stream",
     "text": [
      "pass\n"
     ]
    },
    {
     "name": "stderr",
     "output_type": "stream",
     "text": [
      "\n",
      " 20%|██        | 7/35 [00:00<00:00, 31.93it/s]\u001b[A\n",
      " 34%|███▍      | 12/35 [00:00<00:00, 36.85it/s]\u001b[A\n",
      " 49%|████▊     | 17/35 [00:00<00:00, 39.26it/s]\u001b[A\n",
      " 63%|██████▎   | 22/35 [00:00<00:00, 40.47it/s]\u001b[A\n",
      " 77%|███████▋  | 27/35 [00:00<00:00, 41.17it/s]\u001b[A\n",
      "100%|██████████| 35/35 [00:00<00:00, 39.17it/s]\u001b[A\n",
      " 62%|██████▏   | 36/58 [00:32<00:22,  1.01s/it]\n",
      "  0%|          | 0/36 [00:00<?, ?it/s]\u001b[A\n",
      "  3%|▎         | 1/36 [00:00<00:03,  9.03it/s]\u001b[A"
     ]
    },
    {
     "name": "stdout",
     "output_type": "stream",
     "text": [
      "pass\n"
     ]
    },
    {
     "name": "stderr",
     "output_type": "stream",
     "text": [
      "\n",
      " 14%|█▍        | 5/36 [00:00<00:01, 24.10it/s]\u001b[A\n",
      " 25%|██▌       | 9/36 [00:00<00:00, 28.64it/s]\u001b[A\n",
      " 36%|███▌      | 13/36 [00:00<00:00, 30.79it/s]\u001b[A\n",
      " 47%|████▋     | 17/36 [00:00<00:00, 31.98it/s]\u001b[A\n",
      " 58%|█████▊    | 21/36 [00:00<00:00, 32.69it/s]\u001b[A\n",
      " 69%|██████▉   | 25/36 [00:00<00:00, 33.01it/s]\u001b[A\n",
      " 81%|████████  | 29/36 [00:00<00:00, 33.29it/s]\u001b[A\n",
      "100%|██████████| 36/36 [00:01<00:00, 31.56it/s]\u001b[A\n",
      " 64%|██████▍   | 37/58 [00:33<00:22,  1.05s/it]\n",
      "  0%|          | 0/37 [00:00<?, ?it/s]\u001b[A\n",
      "  3%|▎         | 1/37 [00:00<00:04,  8.79it/s]\u001b[A"
     ]
    },
    {
     "name": "stdout",
     "output_type": "stream",
     "text": [
      "pass\n"
     ]
    },
    {
     "name": "stderr",
     "output_type": "stream",
     "text": [
      "\n",
      " 14%|█▎        | 5/37 [00:00<00:01, 23.98it/s]\u001b[A\n",
      " 24%|██▍       | 9/37 [00:00<00:00, 28.73it/s]\u001b[A\n",
      " 35%|███▌      | 13/37 [00:00<00:00, 30.90it/s]\u001b[A\n",
      " 46%|████▌     | 17/37 [00:00<00:00, 32.07it/s]\u001b[A\n",
      " 57%|█████▋    | 21/37 [00:00<00:00, 32.74it/s]\u001b[A\n",
      " 68%|██████▊   | 25/37 [00:00<00:00, 33.04it/s]\u001b[A\n",
      " 78%|███████▊  | 29/37 [00:00<00:00, 33.48it/s]\u001b[A\n",
      " 89%|████████▉ | 33/37 [00:01<00:00, 33.73it/s]\u001b[A\n",
      "100%|██████████| 37/37 [00:01<00:00, 31.59it/s]\u001b[A\n",
      " 66%|██████▌   | 38/58 [00:34<00:21,  1.09s/it]\n",
      "  0%|          | 0/38 [00:00<?, ?it/s]\u001b[A\n",
      "  3%|▎         | 1/38 [00:00<00:04,  8.50it/s]\u001b[A"
     ]
    },
    {
     "name": "stdout",
     "output_type": "stream",
     "text": [
      "pass\n"
     ]
    },
    {
     "name": "stderr",
     "output_type": "stream",
     "text": [
      "\n",
      " 13%|█▎        | 5/38 [00:00<00:01, 23.12it/s]\u001b[A\n",
      " 24%|██▎       | 9/38 [00:00<00:01, 27.73it/s]\u001b[A\n",
      " 34%|███▍      | 13/38 [00:00<00:00, 29.98it/s]\u001b[A\n",
      " 45%|████▍     | 17/38 [00:00<00:00, 31.41it/s]\u001b[A\n",
      " 55%|█████▌    | 21/38 [00:00<00:00, 32.22it/s]\u001b[A\n",
      " 66%|██████▌   | 25/38 [00:00<00:00, 32.82it/s]\u001b[A\n",
      " 76%|███████▋  | 29/38 [00:00<00:00, 33.18it/s]\u001b[A\n",
      " 87%|████████▋ | 33/38 [00:01<00:00, 33.56it/s]\u001b[A\n",
      "100%|██████████| 38/38 [00:01<00:00, 31.33it/s]\u001b[A\n",
      " 67%|██████▋   | 39/58 [00:36<00:21,  1.12s/it]\n",
      "  0%|          | 0/39 [00:00<?, ?it/s]\u001b[A"
     ]
    },
    {
     "name": "stdout",
     "output_type": "stream",
     "text": [
      "pass\n"
     ]
    },
    {
     "name": "stderr",
     "output_type": "stream",
     "text": [
      "\n",
      "  3%|▎         | 1/39 [00:00<00:08,  4.37it/s]\u001b[A\n",
      "  8%|▊         | 3/39 [00:00<00:04,  8.78it/s]\u001b[A\n",
      " 13%|█▎        | 5/39 [00:00<00:03, 10.76it/s]\u001b[A\n",
      " 18%|█▊        | 7/39 [00:00<00:02, 11.82it/s]\u001b[A\n",
      " 23%|██▎       | 9/39 [00:00<00:02, 12.45it/s]\u001b[A\n",
      " 28%|██▊       | 11/39 [00:00<00:02, 12.83it/s]\u001b[A\n",
      " 33%|███▎      | 13/39 [00:01<00:01, 13.10it/s]\u001b[A\n",
      " 38%|███▊      | 15/39 [00:01<00:01, 13.28it/s]\u001b[A\n",
      " 44%|████▎     | 17/39 [00:01<00:01, 13.38it/s]\u001b[A\n",
      " 49%|████▊     | 19/39 [00:01<00:01, 13.45it/s]\u001b[A\n",
      " 54%|█████▍    | 21/39 [00:01<00:01, 13.53it/s]\u001b[A\n",
      " 59%|█████▉    | 23/39 [00:01<00:01, 13.50it/s]\u001b[A\n",
      " 64%|██████▍   | 25/39 [00:01<00:01, 13.48it/s]\u001b[A\n",
      " 69%|██████▉   | 27/39 [00:02<00:00, 13.46it/s]\u001b[A\n",
      " 74%|███████▍  | 29/39 [00:02<00:00, 13.48it/s]\u001b[A\n",
      " 79%|███████▉  | 31/39 [00:02<00:00, 13.44it/s]\u001b[A\n",
      " 85%|████████▍ | 33/39 [00:02<00:00, 13.42it/s]\u001b[A\n",
      " 90%|████████▉ | 35/39 [00:02<00:00, 13.40it/s]\u001b[A\n",
      " 95%|█████████▍| 37/39 [00:02<00:00, 13.39it/s]\u001b[A\n",
      "100%|██████████| 39/39 [00:03<00:00, 12.83it/s]\u001b[A\n",
      " 69%|██████▉   | 40/58 [00:39<00:30,  1.70s/it]\n",
      "  0%|          | 0/40 [00:00<?, ?it/s]\u001b[A"
     ]
    },
    {
     "name": "stdout",
     "output_type": "stream",
     "text": [
      "pass\n"
     ]
    },
    {
     "name": "stderr",
     "output_type": "stream",
     "text": [
      "\n",
      "  2%|▎         | 1/40 [00:00<00:08,  4.67it/s]\u001b[A\n",
      "  8%|▊         | 3/40 [00:00<00:04,  9.10it/s]\u001b[A\n",
      " 12%|█▎        | 5/40 [00:00<00:03, 10.82it/s]\u001b[A\n",
      " 18%|█▊        | 7/40 [00:00<00:02, 11.85it/s]\u001b[A\n",
      " 22%|██▎       | 9/40 [00:00<00:02, 12.95it/s]\u001b[A\n",
      " 28%|██▊       | 11/40 [00:00<00:02, 13.71it/s]\u001b[A\n",
      " 32%|███▎      | 13/40 [00:01<00:01, 14.21it/s]\u001b[A\n",
      " 38%|███▊      | 15/40 [00:01<00:01, 14.58it/s]\u001b[A\n",
      " 42%|████▎     | 17/40 [00:01<00:01, 14.82it/s]\u001b[A\n",
      " 48%|████▊     | 19/40 [00:01<00:01, 14.98it/s]\u001b[A\n",
      " 52%|█████▎    | 21/40 [00:01<00:01, 15.09it/s]\u001b[A\n",
      " 57%|█████▊    | 23/40 [00:01<00:01, 15.11it/s]\u001b[A\n",
      " 62%|██████▎   | 25/40 [00:01<00:01, 14.40it/s]\u001b[A\n",
      " 68%|██████▊   | 27/40 [00:02<00:00, 14.07it/s]\u001b[A\n",
      " 72%|███████▎  | 29/40 [00:02<00:00, 13.87it/s]\u001b[A\n",
      " 78%|███████▊  | 31/40 [00:02<00:00, 13.71it/s]\u001b[A\n",
      " 82%|████████▎ | 33/40 [00:02<00:00, 13.57it/s]\u001b[A\n",
      " 88%|████████▊ | 35/40 [00:02<00:00, 13.51it/s]\u001b[A\n",
      " 92%|█████████▎| 37/40 [00:02<00:00, 13.50it/s]\u001b[A\n",
      "100%|██████████| 40/40 [00:02<00:00, 13.42it/s]\u001b[A\n",
      " 71%|███████   | 41/58 [00:42<00:35,  2.08s/it]\n",
      "  0%|          | 0/41 [00:00<?, ?it/s]\u001b[A"
     ]
    },
    {
     "name": "stdout",
     "output_type": "stream",
     "text": [
      "pass\n"
     ]
    },
    {
     "name": "stderr",
     "output_type": "stream",
     "text": [
      "\n",
      "  2%|▏         | 1/41 [00:00<00:08,  4.49it/s]\u001b[A\n",
      "  7%|▋         | 3/41 [00:00<00:04,  8.97it/s]\u001b[A\n",
      " 12%|█▏        | 5/41 [00:00<00:03, 10.92it/s]\u001b[A\n",
      " 17%|█▋        | 7/41 [00:00<00:02, 11.96it/s]\u001b[A\n",
      " 22%|██▏       | 9/41 [00:00<00:02, 12.58it/s]\u001b[A\n",
      " 27%|██▋       | 11/41 [00:00<00:02, 12.92it/s]\u001b[A\n",
      " 32%|███▏      | 13/41 [00:01<00:02, 13.12it/s]\u001b[A\n",
      " 37%|███▋      | 15/41 [00:01<00:01, 13.26it/s]\u001b[A\n",
      " 41%|████▏     | 17/41 [00:01<00:01, 13.38it/s]\u001b[A\n",
      " 46%|████▋     | 19/41 [00:01<00:01, 13.49it/s]\u001b[A\n",
      " 51%|█████     | 21/41 [00:01<00:01, 13.58it/s]\u001b[A\n",
      " 56%|█████▌    | 23/41 [00:01<00:01, 13.60it/s]\u001b[A\n",
      " 61%|██████    | 25/41 [00:01<00:01, 13.58it/s]\u001b[A\n",
      " 66%|██████▌   | 27/41 [00:02<00:01, 13.59it/s]\u001b[A\n",
      " 71%|███████   | 29/41 [00:02<00:00, 13.57it/s]\u001b[A\n",
      " 76%|███████▌  | 31/41 [00:02<00:00, 13.55it/s]\u001b[A\n",
      " 80%|████████  | 33/41 [00:02<00:00, 13.68it/s]\u001b[A\n",
      " 85%|████████▌ | 35/41 [00:02<00:00, 13.78it/s]\u001b[A\n",
      " 90%|█████████ | 37/41 [00:02<00:00, 13.78it/s]\u001b[A\n",
      " 95%|█████████▌| 39/41 [00:02<00:00, 13.75it/s]\u001b[A\n",
      "100%|██████████| 41/41 [00:03<00:00, 13.03it/s]\u001b[A\n",
      " 72%|███████▏  | 42/58 [00:45<00:38,  2.40s/it]\n",
      "  0%|          | 0/42 [00:00<?, ?it/s]\u001b[A\n",
      "  2%|▏         | 1/42 [00:00<00:04,  9.46it/s]\u001b[A"
     ]
    },
    {
     "name": "stdout",
     "output_type": "stream",
     "text": [
      "pass\n"
     ]
    },
    {
     "name": "stderr",
     "output_type": "stream",
     "text": [
      "\n",
      " 12%|█▏        | 5/42 [00:00<00:01, 26.57it/s]\u001b[A\n",
      " 21%|██▏       | 9/42 [00:00<00:01, 32.27it/s]\u001b[A\n",
      " 31%|███       | 13/42 [00:00<00:00, 34.98it/s]\u001b[A\n",
      " 40%|████      | 17/42 [00:00<00:00, 36.43it/s]\u001b[A\n",
      " 50%|█████     | 21/42 [00:00<00:00, 37.15it/s]\u001b[A\n",
      " 60%|█████▉    | 25/42 [00:00<00:00, 37.74it/s]\u001b[A\n",
      " 69%|██████▉   | 29/42 [00:00<00:00, 38.11it/s]\u001b[A\n",
      " 79%|███████▊  | 33/42 [00:00<00:00, 38.37it/s]\u001b[A\n",
      " 88%|████████▊ | 37/42 [00:01<00:00, 38.53it/s]\u001b[A\n",
      "100%|██████████| 42/42 [00:01<00:00, 36.22it/s]\u001b[A\n",
      " 74%|███████▍  | 43/58 [00:46<00:30,  2.03s/it]\n",
      "  0%|          | 0/43 [00:00<?, ?it/s]\u001b[A\n",
      "  2%|▏         | 1/43 [00:00<00:04,  9.74it/s]\u001b[A"
     ]
    },
    {
     "name": "stdout",
     "output_type": "stream",
     "text": [
      "pass\n"
     ]
    },
    {
     "name": "stderr",
     "output_type": "stream",
     "text": [
      "\n",
      " 12%|█▏        | 5/43 [00:00<00:01, 26.70it/s]\u001b[A\n",
      " 21%|██        | 9/43 [00:00<00:01, 32.13it/s]\u001b[A\n",
      " 30%|███       | 13/43 [00:00<00:00, 34.62it/s]\u001b[A\n",
      " 40%|███▉      | 17/43 [00:00<00:00, 35.76it/s]\u001b[A\n",
      " 49%|████▉     | 21/43 [00:00<00:00, 36.08it/s]\u001b[A\n",
      " 58%|█████▊    | 25/43 [00:00<00:00, 36.43it/s]\u001b[A\n",
      " 67%|██████▋   | 29/43 [00:00<00:00, 36.65it/s]\u001b[A\n",
      " 77%|███████▋  | 33/43 [00:00<00:00, 36.72it/s]\u001b[A\n",
      " 86%|████████▌ | 37/43 [00:01<00:00, 36.80it/s]\u001b[A\n",
      "100%|██████████| 43/43 [00:01<00:00, 35.08it/s]\u001b[A\n",
      " 76%|███████▌  | 44/58 [00:47<00:25,  1.79s/it]\n",
      "  0%|          | 0/44 [00:00<?, ?it/s]\u001b[A\n",
      "  2%|▏         | 1/44 [00:00<00:05,  8.46it/s]\u001b[A"
     ]
    },
    {
     "name": "stdout",
     "output_type": "stream",
     "text": [
      "pass\n"
     ]
    },
    {
     "name": "stderr",
     "output_type": "stream",
     "text": [
      "\n",
      " 11%|█▏        | 5/44 [00:00<00:01, 25.19it/s]\u001b[A\n",
      " 20%|██        | 9/44 [00:00<00:01, 30.78it/s]\u001b[A\n",
      " 30%|██▉       | 13/44 [00:00<00:00, 33.41it/s]\u001b[A\n",
      " 39%|███▊      | 17/44 [00:00<00:00, 34.79it/s]\u001b[A\n",
      " 48%|████▊     | 21/44 [00:00<00:00, 35.55it/s]\u001b[A\n",
      " 57%|█████▋    | 25/44 [00:00<00:00, 36.01it/s]\u001b[A\n",
      " 66%|██████▌   | 29/44 [00:00<00:00, 36.35it/s]\u001b[A\n",
      " 75%|███████▌  | 33/44 [00:00<00:00, 36.70it/s]\u001b[A\n",
      " 84%|████████▍ | 37/44 [00:01<00:00, 36.74it/s]\u001b[A\n",
      "100%|██████████| 44/44 [00:01<00:00, 34.31it/s]\u001b[A\n",
      " 78%|███████▊  | 45/58 [00:49<00:21,  1.64s/it]\n",
      "  0%|          | 0/45 [00:00<?, ?it/s]\u001b[A\n",
      "  2%|▏         | 1/45 [00:00<00:04,  9.56it/s]\u001b[A"
     ]
    },
    {
     "name": "stdout",
     "output_type": "stream",
     "text": [
      "pass\n"
     ]
    },
    {
     "name": "stderr",
     "output_type": "stream",
     "text": [
      "\n",
      " 11%|█         | 5/45 [00:00<00:01, 26.03it/s]\u001b[A\n",
      " 20%|██        | 9/45 [00:00<00:01, 31.25it/s]\u001b[A\n",
      " 29%|██▉       | 13/45 [00:00<00:00, 33.46it/s]\u001b[A\n",
      " 38%|███▊      | 17/45 [00:00<00:00, 34.99it/s]\u001b[A\n",
      " 47%|████▋     | 21/45 [00:00<00:00, 35.96it/s]\u001b[A\n",
      " 56%|█████▌    | 25/45 [00:00<00:00, 37.10it/s]\u001b[A\n",
      " 64%|██████▍   | 29/45 [00:00<00:00, 37.72it/s]\u001b[A\n",
      " 73%|███████▎  | 33/45 [00:00<00:00, 38.14it/s]\u001b[A\n",
      " 82%|████████▏ | 37/45 [00:01<00:00, 38.36it/s]\u001b[A\n",
      " 91%|█████████ | 41/45 [00:01<00:00, 38.62it/s]\u001b[A\n",
      "100%|██████████| 45/45 [00:01<00:00, 35.88it/s]\u001b[A\n",
      " 79%|███████▉  | 46/58 [00:50<00:18,  1.52s/it]\n",
      "  0%|          | 0/46 [00:00<?, ?it/s]\u001b[A\n",
      "  2%|▏         | 1/46 [00:00<00:04,  9.93it/s]\u001b[A"
     ]
    },
    {
     "name": "stdout",
     "output_type": "stream",
     "text": [
      "pass\n"
     ]
    },
    {
     "name": "stderr",
     "output_type": "stream",
     "text": [
      "\n",
      " 11%|█         | 5/46 [00:00<00:01, 27.35it/s]\u001b[A\n",
      " 20%|█▉        | 9/46 [00:00<00:01, 32.97it/s]\u001b[A\n",
      " 28%|██▊       | 13/46 [00:00<00:00, 35.50it/s]\u001b[A\n",
      " 37%|███▋      | 17/46 [00:00<00:00, 36.87it/s]\u001b[A\n",
      " 46%|████▌     | 21/46 [00:00<00:00, 37.74it/s]\u001b[A\n",
      " 54%|█████▍    | 25/46 [00:00<00:00, 38.20it/s]\u001b[A\n",
      " 63%|██████▎   | 29/46 [00:00<00:00, 38.54it/s]\u001b[A\n",
      " 72%|███████▏  | 33/46 [00:00<00:00, 38.71it/s]\u001b[A\n",
      " 80%|████████  | 37/46 [00:01<00:00, 38.84it/s]\u001b[A\n",
      " 89%|████████▉ | 41/46 [00:01<00:00, 38.99it/s]\u001b[A\n",
      "100%|██████████| 46/46 [00:01<00:00, 36.92it/s]\u001b[A\n",
      " 81%|████████  | 47/58 [00:51<00:15,  1.44s/it]\n",
      "  0%|          | 0/47 [00:00<?, ?it/s]\u001b[A\n",
      "  2%|▏         | 1/47 [00:00<00:05,  8.63it/s]\u001b[A"
     ]
    },
    {
     "name": "stdout",
     "output_type": "stream",
     "text": [
      "pass\n"
     ]
    },
    {
     "name": "stderr",
     "output_type": "stream",
     "text": [
      "\n",
      " 11%|█         | 5/47 [00:00<00:01, 23.82it/s]\u001b[A\n",
      " 19%|█▉        | 9/47 [00:00<00:01, 28.60it/s]\u001b[A\n",
      " 28%|██▊       | 13/47 [00:00<00:01, 30.83it/s]\u001b[A\n",
      " 36%|███▌      | 17/47 [00:00<00:00, 32.17it/s]\u001b[A\n",
      " 45%|████▍     | 21/47 [00:00<00:00, 32.87it/s]\u001b[A\n",
      " 53%|█████▎    | 25/47 [00:00<00:00, 33.32it/s]\u001b[A\n",
      " 62%|██████▏   | 29/47 [00:00<00:00, 33.60it/s]\u001b[A\n",
      " 70%|███████   | 33/47 [00:01<00:00, 33.79it/s]\u001b[A\n",
      " 79%|███████▊  | 37/47 [00:01<00:00, 34.00it/s]\u001b[A\n",
      " 87%|████████▋ | 41/47 [00:01<00:00, 34.10it/s]\u001b[A\n",
      "100%|██████████| 47/47 [00:01<00:00, 32.28it/s]\u001b[A\n",
      " 83%|████████▎ | 48/58 [00:52<00:14,  1.45s/it]\n",
      "  0%|          | 0/48 [00:00<?, ?it/s]\u001b[A\n",
      "  2%|▏         | 1/48 [00:00<00:04,  9.46it/s]\u001b[A"
     ]
    },
    {
     "name": "stdout",
     "output_type": "stream",
     "text": [
      "pass\n"
     ]
    },
    {
     "name": "stderr",
     "output_type": "stream",
     "text": [
      "\n",
      " 10%|█         | 5/48 [00:00<00:01, 26.75it/s]\u001b[A\n",
      " 19%|█▉        | 9/48 [00:00<00:01, 32.31it/s]\u001b[A\n",
      " 27%|██▋       | 13/48 [00:00<00:00, 35.24it/s]\u001b[A\n",
      " 35%|███▌      | 17/48 [00:00<00:00, 36.71it/s]\u001b[A\n",
      " 44%|████▍     | 21/48 [00:00<00:00, 37.71it/s]\u001b[A\n",
      " 52%|█████▏    | 25/48 [00:00<00:00, 38.19it/s]\u001b[A\n",
      " 60%|██████    | 29/48 [00:00<00:00, 38.64it/s]\u001b[A\n",
      " 69%|██████▉   | 33/48 [00:00<00:00, 38.83it/s]\u001b[A\n",
      " 77%|███████▋  | 37/48 [00:01<00:00, 39.04it/s]\u001b[A\n",
      " 85%|████████▌ | 41/48 [00:01<00:00, 38.68it/s]\u001b[A\n",
      "100%|██████████| 48/48 [00:01<00:00, 36.56it/s]\u001b[A\n",
      " 84%|████████▍ | 49/58 [00:54<00:12,  1.41s/it]\n",
      "  0%|          | 0/49 [00:00<?, ?it/s]\u001b[A\n",
      "  2%|▏         | 1/49 [00:00<00:05,  8.52it/s]\u001b[A"
     ]
    },
    {
     "name": "stdout",
     "output_type": "stream",
     "text": [
      "pass\n"
     ]
    },
    {
     "name": "stderr",
     "output_type": "stream",
     "text": [
      "\n",
      " 10%|█         | 5/49 [00:00<00:01, 24.03it/s]\u001b[A\n",
      " 18%|█▊        | 9/49 [00:00<00:01, 28.96it/s]\u001b[A\n",
      " 27%|██▋       | 13/49 [00:00<00:01, 31.25it/s]\u001b[A\n",
      " 35%|███▍      | 17/49 [00:00<00:00, 32.50it/s]\u001b[A\n",
      " 43%|████▎     | 21/49 [00:00<00:00, 33.19it/s]\u001b[A\n",
      " 51%|█████     | 25/49 [00:00<00:00, 33.37it/s]\u001b[A\n",
      " 59%|█████▉    | 29/49 [00:00<00:00, 33.69it/s]\u001b[A\n",
      " 67%|██████▋   | 33/49 [00:01<00:00, 33.87it/s]\u001b[A\n",
      " 76%|███████▌  | 37/49 [00:01<00:00, 33.93it/s]\u001b[A\n",
      " 84%|████████▎ | 41/49 [00:01<00:00, 33.93it/s]\u001b[A\n",
      " 92%|█████████▏| 45/49 [00:01<00:00, 34.00it/s]\u001b[A\n",
      "100%|██████████| 49/49 [00:01<00:00, 32.35it/s]\u001b[A\n",
      " 86%|████████▌ | 50/58 [00:55<00:11,  1.44s/it]\n",
      "  0%|          | 0/50 [00:00<?, ?it/s]\u001b[A\n",
      "  2%|▏         | 1/50 [00:00<00:06,  7.47it/s]\u001b[A"
     ]
    },
    {
     "name": "stdout",
     "output_type": "stream",
     "text": [
      "pass\n"
     ]
    },
    {
     "name": "stderr",
     "output_type": "stream",
     "text": [
      "\n",
      "  8%|▊         | 4/50 [00:00<00:02, 16.93it/s]\u001b[A\n",
      " 14%|█▍        | 7/50 [00:00<00:02, 20.25it/s]\u001b[A\n",
      " 20%|██        | 10/50 [00:00<00:01, 21.92it/s]\u001b[A\n",
      " 26%|██▌       | 13/50 [00:00<00:01, 22.79it/s]\u001b[A\n",
      " 32%|███▏      | 16/50 [00:00<00:01, 23.31it/s]\u001b[A\n",
      " 38%|███▊      | 19/50 [00:00<00:01, 23.69it/s]\u001b[A\n",
      " 44%|████▍     | 22/50 [00:00<00:01, 23.94it/s]\u001b[A\n",
      " 50%|█████     | 25/50 [00:01<00:01, 24.07it/s]\u001b[A\n",
      " 56%|█████▌    | 28/50 [00:01<00:00, 24.09it/s]\u001b[A\n",
      " 62%|██████▏   | 31/50 [00:01<00:00, 24.10it/s]\u001b[A\n",
      " 68%|██████▊   | 34/50 [00:01<00:00, 24.03it/s]\u001b[A\n",
      " 74%|███████▍  | 37/50 [00:01<00:00, 23.94it/s]\u001b[A\n",
      " 80%|████████  | 40/50 [00:01<00:00, 23.85it/s]\u001b[A\n",
      " 86%|████████▌ | 43/50 [00:01<00:00, 23.72it/s]\u001b[A\n",
      " 92%|█████████▏| 46/50 [00:02<00:00, 23.61it/s]\u001b[A\n",
      "100%|██████████| 50/50 [00:02<00:00, 23.00it/s]\u001b[A\n",
      " 88%|████████▊ | 51/58 [00:57<00:11,  1.66s/it]\n",
      "  0%|          | 0/51 [00:00<?, ?it/s]\u001b[A\n",
      "  2%|▏         | 1/51 [00:00<00:06,  7.34it/s]\u001b[A"
     ]
    },
    {
     "name": "stdout",
     "output_type": "stream",
     "text": [
      "pass\n"
     ]
    },
    {
     "name": "stderr",
     "output_type": "stream",
     "text": [
      "\n",
      "  8%|▊         | 4/51 [00:00<00:02, 16.47it/s]\u001b[A\n",
      " 14%|█▎        | 7/51 [00:00<00:02, 19.54it/s]\u001b[A\n",
      " 20%|█▉        | 10/51 [00:00<00:01, 21.01it/s]\u001b[A\n",
      " 25%|██▌       | 13/51 [00:00<00:01, 21.60it/s]\u001b[A\n",
      " 31%|███▏      | 16/51 [00:00<00:01, 22.20it/s]\u001b[A\n",
      " 37%|███▋      | 19/51 [00:00<00:01, 22.66it/s]\u001b[A\n",
      " 43%|████▎     | 22/51 [00:01<00:01, 22.76it/s]\u001b[A\n",
      " 49%|████▉     | 25/51 [00:01<00:01, 23.07it/s]\u001b[A\n",
      " 55%|█████▍    | 28/51 [00:01<00:00, 23.12it/s]\u001b[A\n",
      " 61%|██████    | 31/51 [00:01<00:00, 23.27it/s]\u001b[A\n",
      " 67%|██████▋   | 34/51 [00:01<00:00, 23.39it/s]\u001b[A\n",
      " 73%|███████▎  | 37/51 [00:01<00:00, 23.43it/s]\u001b[A\n",
      " 78%|███████▊  | 40/51 [00:01<00:00, 23.61it/s]\u001b[A\n",
      " 84%|████████▍ | 43/51 [00:01<00:00, 23.75it/s]\u001b[A\n",
      " 90%|█████████ | 46/51 [00:02<00:00, 23.77it/s]\u001b[A\n",
      "100%|██████████| 51/51 [00:02<00:00, 22.54it/s]\u001b[A\n",
      " 90%|████████▉ | 52/58 [01:00<00:11,  1.84s/it]\n",
      "  0%|          | 0/52 [00:00<?, ?it/s]\u001b[A\n",
      "  2%|▏         | 1/52 [00:00<00:06,  7.47it/s]\u001b[A"
     ]
    },
    {
     "name": "stdout",
     "output_type": "stream",
     "text": [
      "pass\n"
     ]
    },
    {
     "name": "stderr",
     "output_type": "stream",
     "text": [
      "\n",
      "  8%|▊         | 4/52 [00:00<00:02, 16.92it/s]\u001b[A\n",
      " 13%|█▎        | 7/52 [00:00<00:02, 20.17it/s]\u001b[A\n",
      " 19%|█▉        | 10/52 [00:00<00:01, 21.79it/s]\u001b[A\n",
      " 25%|██▌       | 13/52 [00:00<00:01, 22.71it/s]\u001b[A\n",
      " 31%|███       | 16/52 [00:00<00:01, 23.21it/s]\u001b[A\n",
      " 37%|███▋      | 19/52 [00:00<00:01, 23.53it/s]\u001b[A\n",
      " 42%|████▏     | 22/52 [00:01<00:01, 23.57it/s]\u001b[A\n",
      " 48%|████▊     | 25/52 [00:01<00:01, 23.69it/s]\u001b[A\n",
      " 54%|█████▍    | 28/52 [00:01<00:01, 23.66it/s]\u001b[A\n",
      " 60%|█████▉    | 31/52 [00:01<00:00, 23.59it/s]\u001b[A\n",
      " 65%|██████▌   | 34/52 [00:01<00:00, 23.60it/s]\u001b[A\n",
      " 71%|███████   | 37/52 [00:01<00:00, 23.61it/s]\u001b[A\n",
      " 77%|███████▋  | 40/52 [00:01<00:00, 23.60it/s]\u001b[A\n",
      " 83%|████████▎ | 43/52 [00:01<00:00, 23.66it/s]\u001b[A\n",
      " 88%|████████▊ | 46/52 [00:02<00:00, 23.62it/s]\u001b[A\n",
      " 94%|█████████▍| 49/52 [00:02<00:00, 23.57it/s]\u001b[A\n",
      "100%|██████████| 52/52 [00:02<00:00, 22.84it/s]\u001b[A\n",
      " 91%|█████████▏| 53/58 [01:02<00:09,  1.97s/it]\n",
      "  0%|          | 0/53 [00:00<?, ?it/s]\u001b[A\n",
      "  2%|▏         | 1/53 [00:00<00:06,  7.60it/s]\u001b[A"
     ]
    },
    {
     "name": "stdout",
     "output_type": "stream",
     "text": [
      "pass\n"
     ]
    },
    {
     "name": "stderr",
     "output_type": "stream",
     "text": [
      "\n",
      "  8%|▊         | 4/53 [00:00<00:02, 17.95it/s]\u001b[A\n",
      " 13%|█▎        | 7/53 [00:00<00:02, 21.62it/s]\u001b[A\n",
      " 19%|█▉        | 10/53 [00:00<00:01, 23.44it/s]\u001b[A\n",
      " 25%|██▍       | 13/53 [00:00<00:01, 24.47it/s]\u001b[A\n",
      " 30%|███       | 16/53 [00:00<00:01, 24.81it/s]\u001b[A\n",
      " 36%|███▌      | 19/53 [00:00<00:01, 25.02it/s]\u001b[A\n",
      " 42%|████▏     | 22/53 [00:00<00:01, 25.28it/s]\u001b[A\n",
      " 47%|████▋     | 25/53 [00:01<00:01, 25.31it/s]\u001b[A\n",
      " 53%|█████▎    | 28/53 [00:01<00:00, 25.39it/s]\u001b[A\n",
      " 58%|█████▊    | 31/53 [00:01<00:00, 25.46it/s]\u001b[A\n",
      " 64%|██████▍   | 34/53 [00:01<00:00, 25.52it/s]\u001b[A\n",
      " 70%|██████▉   | 37/53 [00:01<00:00, 25.53it/s]\u001b[A\n",
      " 75%|███████▌  | 40/53 [00:01<00:00, 25.41it/s]\u001b[A\n",
      " 81%|████████  | 43/53 [00:01<00:00, 25.41it/s]\u001b[A\n",
      " 87%|████████▋ | 46/53 [00:01<00:00, 25.44it/s]\u001b[A\n",
      " 92%|█████████▏| 49/53 [00:02<00:00, 25.36it/s]\u001b[A\n",
      "100%|██████████| 53/53 [00:02<00:00, 24.59it/s]\u001b[A\n",
      " 93%|█████████▎| 54/58 [01:04<00:08,  2.03s/it]\n",
      "  0%|          | 0/54 [00:00<?, ?it/s]\u001b[A\n",
      "  2%|▏         | 1/54 [00:00<00:07,  7.34it/s]\u001b[A"
     ]
    },
    {
     "name": "stdout",
     "output_type": "stream",
     "text": [
      "pass\n"
     ]
    },
    {
     "name": "stderr",
     "output_type": "stream",
     "text": [
      "\n",
      "  7%|▋         | 4/54 [00:00<00:02, 17.57it/s]\u001b[A\n",
      " 13%|█▎        | 7/54 [00:00<00:02, 21.45it/s]\u001b[A\n",
      " 19%|█▊        | 10/54 [00:00<00:01, 23.35it/s]\u001b[A\n",
      " 24%|██▍       | 13/54 [00:00<00:01, 24.42it/s]\u001b[A\n",
      " 30%|██▉       | 16/54 [00:00<00:01, 25.12it/s]\u001b[A\n",
      " 35%|███▌      | 19/54 [00:00<00:01, 25.47it/s]\u001b[A\n",
      " 41%|████      | 22/54 [00:00<00:01, 25.76it/s]\u001b[A\n",
      " 46%|████▋     | 25/54 [00:01<00:01, 26.01it/s]\u001b[A\n",
      " 52%|█████▏    | 28/54 [00:01<00:00, 26.17it/s]\u001b[A\n",
      " 57%|█████▋    | 31/54 [00:01<00:00, 26.20it/s]\u001b[A\n",
      " 63%|██████▎   | 34/54 [00:01<00:00, 26.25it/s]\u001b[A\n",
      " 69%|██████▊   | 37/54 [00:01<00:00, 26.07it/s]\u001b[A\n",
      " 74%|███████▍  | 40/54 [00:01<00:00, 25.92it/s]\u001b[A\n",
      " 80%|███████▉  | 43/54 [00:01<00:00, 25.78it/s]\u001b[A\n",
      " 85%|████████▌ | 46/54 [00:01<00:00, 25.61it/s]\u001b[A\n",
      " 91%|█████████ | 49/54 [00:01<00:00, 25.55it/s]\u001b[A\n",
      "100%|██████████| 54/54 [00:02<00:00, 24.84it/s]\u001b[A\n",
      " 95%|█████████▍| 55/58 [01:06<00:06,  2.07s/it]\n",
      "  0%|          | 0/55 [00:00<?, ?it/s]\u001b[A\n",
      "  2%|▏         | 1/55 [00:00<00:07,  6.97it/s]\u001b[A"
     ]
    },
    {
     "name": "stdout",
     "output_type": "stream",
     "text": [
      "pass\n"
     ]
    },
    {
     "name": "stderr",
     "output_type": "stream",
     "text": [
      "\n",
      "  7%|▋         | 4/55 [00:00<00:02, 17.23it/s]\u001b[A\n",
      " 13%|█▎        | 7/55 [00:00<00:02, 21.21it/s]\u001b[A\n",
      " 18%|█▊        | 10/55 [00:00<00:01, 23.17it/s]\u001b[A\n",
      " 24%|██▎       | 13/55 [00:00<00:01, 24.30it/s]\u001b[A\n",
      " 29%|██▉       | 16/55 [00:00<00:01, 24.99it/s]\u001b[A\n",
      " 35%|███▍      | 19/55 [00:00<00:01, 25.42it/s]\u001b[A\n",
      " 40%|████      | 22/55 [00:00<00:01, 25.65it/s]\u001b[A\n",
      " 45%|████▌     | 25/55 [00:01<00:01, 25.89it/s]\u001b[A\n",
      " 51%|█████     | 28/55 [00:01<00:01, 25.98it/s]\u001b[A\n",
      " 56%|█████▋    | 31/55 [00:01<00:00, 26.06it/s]\u001b[A\n",
      " 62%|██████▏   | 34/55 [00:01<00:00, 25.86it/s]\u001b[A\n",
      " 67%|██████▋   | 37/55 [00:01<00:00, 25.66it/s]\u001b[A\n",
      " 73%|███████▎  | 40/55 [00:01<00:00, 25.53it/s]\u001b[A\n",
      " 78%|███████▊  | 43/55 [00:01<00:00, 25.48it/s]\u001b[A\n",
      " 84%|████████▎ | 46/55 [00:01<00:00, 25.41it/s]\u001b[A\n",
      " 89%|████████▉ | 49/55 [00:01<00:00, 25.40it/s]\u001b[A\n",
      " 95%|█████████▍| 52/55 [00:02<00:00, 25.36it/s]\u001b[A\n",
      "100%|██████████| 55/55 [00:02<00:00, 24.59it/s]\u001b[A\n",
      " 97%|█████████▋| 56/58 [01:09<00:04,  2.12s/it]\n",
      "  0%|          | 0/56 [00:00<?, ?it/s]\u001b[A\n",
      "  2%|▏         | 1/56 [00:00<00:08,  6.73it/s]\u001b[A"
     ]
    },
    {
     "name": "stdout",
     "output_type": "stream",
     "text": [
      "pass\n"
     ]
    },
    {
     "name": "stderr",
     "output_type": "stream",
     "text": [
      "\n",
      "  7%|▋         | 4/56 [00:00<00:03, 16.34it/s]\u001b[A\n",
      " 12%|█▎        | 7/56 [00:00<00:02, 19.80it/s]\u001b[A\n",
      " 18%|█▊        | 10/56 [00:00<00:02, 21.49it/s]\u001b[A\n",
      " 23%|██▎       | 13/56 [00:00<00:01, 22.63it/s]\u001b[A\n",
      " 29%|██▊       | 16/56 [00:00<00:01, 23.31it/s]\u001b[A\n",
      " 34%|███▍      | 19/56 [00:00<00:01, 23.69it/s]\u001b[A\n",
      " 39%|███▉      | 22/56 [00:01<00:01, 23.92it/s]\u001b[A\n",
      " 45%|████▍     | 25/56 [00:01<00:01, 24.03it/s]\u001b[A\n",
      " 50%|█████     | 28/56 [00:01<00:01, 24.19it/s]\u001b[A\n",
      " 55%|█████▌    | 31/56 [00:01<00:01, 24.28it/s]\u001b[A\n",
      " 61%|██████    | 34/56 [00:01<00:00, 24.35it/s]\u001b[A\n",
      " 66%|██████▌   | 37/56 [00:01<00:00, 24.36it/s]\u001b[A\n",
      " 71%|███████▏  | 40/56 [00:01<00:00, 24.39it/s]\u001b[A\n",
      " 77%|███████▋  | 43/56 [00:01<00:00, 24.38it/s]\u001b[A\n",
      " 82%|████████▏ | 46/56 [00:01<00:00, 24.42it/s]\u001b[A\n",
      " 88%|████████▊ | 49/56 [00:02<00:00, 24.37it/s]\u001b[A\n",
      " 93%|█████████▎| 52/56 [00:02<00:00, 24.19it/s]\u001b[A\n",
      "100%|██████████| 56/56 [00:02<00:00, 23.26it/s]\u001b[A\n",
      " 98%|█████████▊| 57/58 [01:11<00:02,  2.21s/it]\n",
      "  0%|          | 0/57 [00:00<?, ?it/s]\u001b[A\n",
      "  2%|▏         | 1/57 [00:00<00:07,  7.04it/s]\u001b[A"
     ]
    },
    {
     "name": "stdout",
     "output_type": "stream",
     "text": [
      "pass\n"
     ]
    },
    {
     "name": "stderr",
     "output_type": "stream",
     "text": [
      "\n",
      "  7%|▋         | 4/57 [00:00<00:03, 16.65it/s]\u001b[A\n",
      " 12%|█▏        | 7/57 [00:00<00:02, 20.05it/s]\u001b[A\n",
      " 18%|█▊        | 10/57 [00:00<00:02, 21.68it/s]\u001b[A\n",
      " 23%|██▎       | 13/57 [00:00<00:01, 22.59it/s]\u001b[A\n",
      " 28%|██▊       | 16/57 [00:00<00:01, 23.20it/s]\u001b[A\n",
      " 33%|███▎      | 19/57 [00:00<00:01, 23.59it/s]\u001b[A\n",
      " 39%|███▊      | 22/57 [00:01<00:01, 24.16it/s]\u001b[A\n",
      " 44%|████▍     | 25/57 [00:01<00:01, 24.95it/s]\u001b[A\n",
      " 49%|████▉     | 28/57 [00:01<00:01, 25.54it/s]\u001b[A\n",
      " 54%|█████▍    | 31/57 [00:01<00:01, 25.99it/s]\u001b[A\n",
      " 60%|█████▉    | 34/57 [00:01<00:00, 26.27it/s]\u001b[A\n",
      " 65%|██████▍   | 37/57 [00:01<00:00, 26.50it/s]\u001b[A\n",
      " 70%|███████   | 40/57 [00:01<00:00, 26.69it/s]\u001b[A\n",
      " 75%|███████▌  | 43/57 [00:01<00:00, 26.47it/s]\u001b[A\n",
      " 81%|████████  | 46/57 [00:01<00:00, 26.33it/s]\u001b[A\n",
      " 86%|████████▌ | 49/57 [00:02<00:00, 26.21it/s]\u001b[A\n",
      " 91%|█████████ | 52/57 [00:02<00:00, 26.17it/s]\u001b[A\n",
      "100%|██████████| 57/57 [00:02<00:00, 24.56it/s]\u001b[A\n",
      "100%|██████████| 58/58 [01:13<00:00,  1.27s/it]"
     ]
    },
    {
     "name": "stdout",
     "output_type": "stream",
     "text": [
      "pass\n"
     ]
    },
    {
     "name": "stderr",
     "output_type": "stream",
     "text": [
      "\n"
     ]
    }
   ],
   "source": [
    "#anat copy files\n",
    "nsubjects = len('Mapping Thalamocortical Networks Across Development in ASD')\n",
    "df = pd.read_csv('../Data/general_csv.csv')\n",
    "T1w = 'T1'\n",
    "study_name = 'Mapping Thalamocortical Networks Across Development in ASD'\n",
    "study_df = df[df['collection_title']==study_name]\n",
    "image_study = df[df['image_description']==T1w]\n",
    "for s in tqdm(range(nsubjects)):\n",
    "    for image_study in tqdm(range(s)):\n",
    "        inpath = os.path.join(ndar_root,study_df['local_paths'].values[s][2::])\n",
    "        outpath = os.path.join(bids_root,f'ds-2075',f'sub-{s:03d}','anat',f'sub-{s:03d}_T1w.nii.gz')\n",
    "        shutil.copyfile(src=inpath,dst=outpath)\n",
    "    else:\n",
    "        print('pass')"
   ]
  },
  {
   "cell_type": "code",
   "execution_count": 16,
   "id": "93aa03e5-300c-4044-9c1c-4b1af0790209",
   "metadata": {},
   "outputs": [
    {
     "data": {
      "text/plain": [
       "'/mmfs1/data/pijarj/ds-2075/sub-002/anat/sub-002_T1w.nii.gz'"
      ]
     },
     "execution_count": 16,
     "metadata": {},
     "output_type": "execute_result"
    }
   ],
   "source": [
    "#anat copy files for sub-002\n",
    "import shutil\n",
    "src = '/mmfs1/data/pijarj/ndar_fmri/image03/TNAD-x-227064-x-227064-x-601.nii.gz'\n",
    "dst = '/mmfs1/data/pijarj/ds-2075/sub-002/anat/sub-002_T1w.nii.gz'\n",
    "shutil.copyfile(src=src,dst=dst)"
   ]
  },
  {
   "cell_type": "code",
   "execution_count": null,
   "id": "65b409ba-877d-4027-9b0c-d12d2f78d998",
   "metadata": {},
   "outputs": [],
   "source": []
  },
  {
   "cell_type": "code",
   "execution_count": null,
   "id": "28a5814a-34a4-4dcb-8f14-060ee5d3f2e1",
   "metadata": {},
   "outputs": [],
   "source": []
  }
 ],
 "metadata": {
  "kernelspec": {
   "display_name": "Python 3",
   "language": "python",
   "name": "python3"
  },
  "language_info": {
   "codemirror_mode": {
    "name": "ipython",
    "version": 3
   },
   "file_extension": ".py",
   "mimetype": "text/x-python",
   "name": "python",
   "nbconvert_exporter": "python",
   "pygments_lexer": "ipython3",
   "version": "3.8.8"
  }
 },
 "nbformat": 4,
 "nbformat_minor": 5
}
