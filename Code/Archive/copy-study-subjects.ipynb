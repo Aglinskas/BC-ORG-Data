{
 "cells": [
  {
   "cell_type": "code",
   "execution_count": 3,
   "id": "7975c042",
   "metadata": {},
   "outputs": [
    {
     "data": {
      "text/plain": [
       "'/mmfs1/data/pijarj/BC-ORG-Data/Code'"
      ]
     },
     "execution_count": 3,
     "metadata": {},
     "output_type": "execute_result"
    }
   ],
   "source": [
    "pwd"
   ]
  },
  {
   "cell_type": "code",
   "execution_count": 2,
   "id": "cdb71f35",
   "metadata": {},
   "outputs": [],
   "source": [
    "import pandas as pd\n",
    "import os"
   ]
  },
  {
   "cell_type": "code",
   "execution_count": 5,
   "id": "9f876181",
   "metadata": {},
   "outputs": [
    {
     "name": "stdout",
     "output_type": "stream",
     "text": [
      "copy-study-subjects.ipynb      ndar_fmri_to_subfolders.ipynb.save\n",
      "empty.md                       tut-neuroimaging-basic-IO.ipynb\n",
      "ndar_fmri_to_subfolders.ipynb  xx-bids-validator.ipynb\n"
     ]
    }
   ],
   "source": [
    "ls"
   ]
  },
  {
   "cell_type": "code",
   "execution_count": 7,
   "id": "db8281c8",
   "metadata": {},
   "outputs": [
    {
     "data": {
      "text/html": [
       "<div>\n",
       "<style scoped>\n",
       "    .dataframe tbody tr th:only-of-type {\n",
       "        vertical-align: middle;\n",
       "    }\n",
       "\n",
       "    .dataframe tbody tr th {\n",
       "        vertical-align: top;\n",
       "    }\n",
       "\n",
       "    .dataframe thead th {\n",
       "        text-align: right;\n",
       "    }\n",
       "</style>\n",
       "<table border=\"1\" class=\"dataframe\">\n",
       "  <thead>\n",
       "    <tr style=\"text-align: right;\">\n",
       "      <th></th>\n",
       "      <th>Unnamed: 0</th>\n",
       "      <th>collection_id</th>\n",
       "      <th>image03_id</th>\n",
       "      <th>dataset_id</th>\n",
       "      <th>subjectkey</th>\n",
       "      <th>src_subject_id</th>\n",
       "      <th>interview_age</th>\n",
       "      <th>sex</th>\n",
       "      <th>comments_misc</th>\n",
       "      <th>image_file</th>\n",
       "      <th>...</th>\n",
       "      <th>experiment_description</th>\n",
       "      <th>visit</th>\n",
       "      <th>slice_timing</th>\n",
       "      <th>bvek_bval_files</th>\n",
       "      <th>deviceserialnumber</th>\n",
       "      <th>procdate</th>\n",
       "      <th>visnum</th>\n",
       "      <th>manifest</th>\n",
       "      <th>collection_title</th>\n",
       "      <th>local_paths</th>\n",
       "    </tr>\n",
       "  </thead>\n",
       "  <tbody>\n",
       "    <tr>\n",
       "      <th>0</th>\n",
       "      <td>1</td>\n",
       "      <td>2075</td>\n",
       "      <td>367948</td>\n",
       "      <td>9786</td>\n",
       "      <td>NDARAV510ZB5</td>\n",
       "      <td>1108</td>\n",
       "      <td>107</td>\n",
       "      <td>M</td>\n",
       "      <td>NaN</td>\n",
       "      <td>s3://NDAR_Central_1/submission_10916/TNAD-x-21...</td>\n",
       "      <td>...</td>\n",
       "      <td>NaN</td>\n",
       "      <td>NaN</td>\n",
       "      <td>NaN</td>\n",
       "      <td>NaN</td>\n",
       "      <td>NaN</td>\n",
       "      <td>NaN</td>\n",
       "      <td>NaN</td>\n",
       "      <td>NaN</td>\n",
       "      <td>Mapping Thalamocortical Networks Across Develo...</td>\n",
       "      <td>./image03/TNAD-x-212988-x-212988-x-501-d0203.n...</td>\n",
       "    </tr>\n",
       "    <tr>\n",
       "      <th>1</th>\n",
       "      <td>2</td>\n",
       "      <td>2075</td>\n",
       "      <td>367949</td>\n",
       "      <td>9786</td>\n",
       "      <td>NDARCZ285AMD</td>\n",
       "      <td>1147</td>\n",
       "      <td>218</td>\n",
       "      <td>F</td>\n",
       "      <td>NaN</td>\n",
       "      <td>s3://NDAR_Central_1/submission_10916/TNAD-x-21...</td>\n",
       "      <td>...</td>\n",
       "      <td>NaN</td>\n",
       "      <td>NaN</td>\n",
       "      <td>NaN</td>\n",
       "      <td>NaN</td>\n",
       "      <td>NaN</td>\n",
       "      <td>NaN</td>\n",
       "      <td>NaN</td>\n",
       "      <td>NaN</td>\n",
       "      <td>Mapping Thalamocortical Networks Across Develo...</td>\n",
       "      <td>./image03/TNAD-x-214064-x-214064-x-501-d0203.n...</td>\n",
       "    </tr>\n",
       "    <tr>\n",
       "      <th>2</th>\n",
       "      <td>3</td>\n",
       "      <td>2075</td>\n",
       "      <td>367950</td>\n",
       "      <td>9786</td>\n",
       "      <td>NDARVM585CF7</td>\n",
       "      <td>1179</td>\n",
       "      <td>287</td>\n",
       "      <td>M</td>\n",
       "      <td>NaN</td>\n",
       "      <td>s3://NDAR_Central_1/submission_10916/TNAD-x-21...</td>\n",
       "      <td>...</td>\n",
       "      <td>NaN</td>\n",
       "      <td>NaN</td>\n",
       "      <td>NaN</td>\n",
       "      <td>NaN</td>\n",
       "      <td>NaN</td>\n",
       "      <td>NaN</td>\n",
       "      <td>NaN</td>\n",
       "      <td>NaN</td>\n",
       "      <td>Mapping Thalamocortical Networks Across Develo...</td>\n",
       "      <td>./image03/TNAD-x-212797-x-212797-x-501-d0203.n...</td>\n",
       "    </tr>\n",
       "    <tr>\n",
       "      <th>3</th>\n",
       "      <td>4</td>\n",
       "      <td>2075</td>\n",
       "      <td>367951</td>\n",
       "      <td>9786</td>\n",
       "      <td>NDARXK457KEY</td>\n",
       "      <td>1232</td>\n",
       "      <td>427</td>\n",
       "      <td>M</td>\n",
       "      <td>NaN</td>\n",
       "      <td>s3://NDAR_Central_1/submission_10916/TNAD-x-21...</td>\n",
       "      <td>...</td>\n",
       "      <td>NaN</td>\n",
       "      <td>NaN</td>\n",
       "      <td>NaN</td>\n",
       "      <td>NaN</td>\n",
       "      <td>NaN</td>\n",
       "      <td>NaN</td>\n",
       "      <td>NaN</td>\n",
       "      <td>NaN</td>\n",
       "      <td>Mapping Thalamocortical Networks Across Develo...</td>\n",
       "      <td>./image03/TNAD-x-215614-x-215614-x-501-d0203.n...</td>\n",
       "    </tr>\n",
       "    <tr>\n",
       "      <th>4</th>\n",
       "      <td>5</td>\n",
       "      <td>2075</td>\n",
       "      <td>367952</td>\n",
       "      <td>9786</td>\n",
       "      <td>NDARJG780VAV</td>\n",
       "      <td>1323</td>\n",
       "      <td>241</td>\n",
       "      <td>M</td>\n",
       "      <td>NaN</td>\n",
       "      <td>s3://NDAR_Central_1/submission_10916/TNAD-x-21...</td>\n",
       "      <td>...</td>\n",
       "      <td>NaN</td>\n",
       "      <td>NaN</td>\n",
       "      <td>NaN</td>\n",
       "      <td>NaN</td>\n",
       "      <td>NaN</td>\n",
       "      <td>NaN</td>\n",
       "      <td>NaN</td>\n",
       "      <td>NaN</td>\n",
       "      <td>Mapping Thalamocortical Networks Across Develo...</td>\n",
       "      <td>./image03/TNAD-x-212467-x-212467-x-501-d0203.n...</td>\n",
       "    </tr>\n",
       "  </tbody>\n",
       "</table>\n",
       "<p>5 rows × 75 columns</p>\n",
       "</div>"
      ],
      "text/plain": [
       "   Unnamed: 0  collection_id  image03_id  dataset_id    subjectkey  \\\n",
       "0           1           2075      367948        9786  NDARAV510ZB5   \n",
       "1           2           2075      367949        9786  NDARCZ285AMD   \n",
       "2           3           2075      367950        9786  NDARVM585CF7   \n",
       "3           4           2075      367951        9786  NDARXK457KEY   \n",
       "4           5           2075      367952        9786  NDARJG780VAV   \n",
       "\n",
       "  src_subject_id  interview_age sex comments_misc  \\\n",
       "0           1108            107   M           NaN   \n",
       "1           1147            218   F           NaN   \n",
       "2           1179            287   M           NaN   \n",
       "3           1232            427   M           NaN   \n",
       "4           1323            241   M           NaN   \n",
       "\n",
       "                                          image_file  ...  \\\n",
       "0  s3://NDAR_Central_1/submission_10916/TNAD-x-21...  ...   \n",
       "1  s3://NDAR_Central_1/submission_10916/TNAD-x-21...  ...   \n",
       "2  s3://NDAR_Central_1/submission_10916/TNAD-x-21...  ...   \n",
       "3  s3://NDAR_Central_1/submission_10916/TNAD-x-21...  ...   \n",
       "4  s3://NDAR_Central_1/submission_10916/TNAD-x-21...  ...   \n",
       "\n",
       "  experiment_description visit  slice_timing bvek_bval_files  \\\n",
       "0                    NaN   NaN           NaN             NaN   \n",
       "1                    NaN   NaN           NaN             NaN   \n",
       "2                    NaN   NaN           NaN             NaN   \n",
       "3                    NaN   NaN           NaN             NaN   \n",
       "4                    NaN   NaN           NaN             NaN   \n",
       "\n",
       "  deviceserialnumber procdate visnum manifest  \\\n",
       "0                NaN      NaN    NaN      NaN   \n",
       "1                NaN      NaN    NaN      NaN   \n",
       "2                NaN      NaN    NaN      NaN   \n",
       "3                NaN      NaN    NaN      NaN   \n",
       "4                NaN      NaN    NaN      NaN   \n",
       "\n",
       "                                    collection_title  \\\n",
       "0  Mapping Thalamocortical Networks Across Develo...   \n",
       "1  Mapping Thalamocortical Networks Across Develo...   \n",
       "2  Mapping Thalamocortical Networks Across Develo...   \n",
       "3  Mapping Thalamocortical Networks Across Develo...   \n",
       "4  Mapping Thalamocortical Networks Across Develo...   \n",
       "\n",
       "                                         local_paths  \n",
       "0  ./image03/TNAD-x-212988-x-212988-x-501-d0203.n...  \n",
       "1  ./image03/TNAD-x-214064-x-214064-x-501-d0203.n...  \n",
       "2  ./image03/TNAD-x-212797-x-212797-x-501-d0203.n...  \n",
       "3  ./image03/TNAD-x-215614-x-215614-x-501-d0203.n...  \n",
       "4  ./image03/TNAD-x-212467-x-212467-x-501-d0203.n...  \n",
       "\n",
       "[5 rows x 75 columns]"
      ]
     },
     "execution_count": 7,
     "metadata": {},
     "output_type": "execute_result"
    }
   ],
   "source": [
    "df = pd.read_csv('../Data/general_csv.csv') #grab master list\n",
    "df.head(5) #show first 5"
   ]
  },
  {
   "cell_type": "code",
   "execution_count": 14,
   "id": "6634229a",
   "metadata": {},
   "outputs": [],
   "source": [
    "df_trim = df.copy()\n",
    "df_trim = df_trim.iloc[df_trim['collection_title'].values=='Multimodal Treatment Study of Children With ADHD']"
   ]
  },
  {
   "cell_type": "code",
   "execution_count": null,
   "id": "5dc4b62a",
   "metadata": {},
   "outputs": [],
   "source": [
    "df_trim['local_paths'] ## the files that we'll need"
   ]
  },
  {
   "cell_type": "code",
   "execution_count": 10,
   "id": "3872017b",
   "metadata": {},
   "outputs": [
    {
     "data": {
      "text/plain": [
       "'/mmfs1/data/pijarj/ds-2155/image0.nii.gz'"
      ]
     },
     "execution_count": 10,
     "metadata": {},
     "output_type": "execute_result"
    }
   ],
   "source": [
    "# copy those files into ds-2155 folder\n",
    "import shutil\n",
    "src = '/mmfs1/data/pijarj/ndar_fmri/image03/TNAD-x-212988-x-212988-x-901-d0203.nii.gz'\n",
    "dst = '/mmfs1/data/pijarj/ds-2155/image0.nii.gz'\n",
    "shutil.copyfile(src=src,dst=dst)"
   ]
  },
  {
   "cell_type": "code",
   "execution_count": 11,
   "id": "c868a94c",
   "metadata": {},
   "outputs": [
    {
     "data": {
      "text/plain": [
       "'/mmfs1/data/pijarj/ds-2155/image1.nii.gz'"
      ]
     },
     "execution_count": 11,
     "metadata": {},
     "output_type": "execute_result"
    }
   ],
   "source": [
    "import shutil\n",
    "src = '/mmfs1/data/pijarj/ndar_fmri/image03/TNAD-x-214064-x-214064-x-501-d0203.nii.gz'\n",
    "dst = '/mmfs1/data/pijarj/ds-2155/image1.nii.gz'\n",
    "shutil.copyfile(src=src,dst=dst)"
   ]
  },
  {
   "cell_type": "code",
   "execution_count": 12,
   "id": "e6d1c7ba",
   "metadata": {},
   "outputs": [
    {
     "data": {
      "text/plain": [
       "'/mmfs1/data/pijarj/ds-2155/image2.nii.gz'"
      ]
     },
     "execution_count": 12,
     "metadata": {},
     "output_type": "execute_result"
    }
   ],
   "source": [
    "import shutil\n",
    "src = '/mmfs1/data/pijarj/ndar_fmri/image03/TNAD-x-212797-x-212797-x-501-d0203.nii.gz'\n",
    "dst = '/mmfs1/data/pijarj/ds-2155/image2.nii.gz'\n",
    "shutil.copyfile(src=src,dst=dst)"
   ]
  },
  {
   "cell_type": "code",
   "execution_count": 15,
   "id": "94f84525",
   "metadata": {},
   "outputs": [
    {
     "data": {
      "text/plain": [
       "'/mmfs1/data/pijarj/ds-2155/image3.nii.gz'"
      ]
     },
     "execution_count": 15,
     "metadata": {},
     "output_type": "execute_result"
    }
   ],
   "source": [
    "import shutil\n",
    "src = '/mmfs1/data/pijarj/ndar_fmri/image03/TNAD-x-215614-x-215614-x-501-d0203.nii.gz'\n",
    "dst = '/mmfs1/data/pijarj/ds-2155/image3.nii.gz'\n",
    "shutil.copyfile(src=src,dst=dst)"
   ]
  },
  {
   "cell_type": "code",
   "execution_count": 16,
   "id": "99a29db5",
   "metadata": {},
   "outputs": [
    {
     "data": {
      "text/plain": [
       "'/mmfs1/data/pijarj/ds-2155/image4.nii.gz'"
      ]
     },
     "execution_count": 16,
     "metadata": {},
     "output_type": "execute_result"
    }
   ],
   "source": [
    "import shutil\n",
    "src = '/mmfs1/data/pijarj/ndar_fmri/image03/TNAD-x-212467-x-212467-x-501-d0203.nii.gz'\n",
    "dst = '/mmfs1/data/pijarj/ds-2155/image4.nii.gz'\n",
    "shutil.copyfile(src=src,dst=dst)"
   ]
  },
  {
   "cell_type": "code",
   "execution_count": 2,
   "id": "2fcdb7cb",
   "metadata": {
    "tags": []
   },
   "outputs": [],
   "source": [
    "# Make sure https://bids.neuroimaging.io/"
   ]
  },
  {
   "cell_type": "code",
   "execution_count": 1,
   "id": "422c061d",
   "metadata": {},
   "outputs": [
    {
     "name": "stdout",
     "output_type": "stream",
     "text": [
      "5509\n"
     ]
    }
   ],
   "source": [
    "import pandas as pd\n",
    "import os\n",
    "df = pd.read_csv('../Data/general_csv.csv')\n",
    "subjects = len(df)\n",
    "print(subjects)"
   ]
  },
  {
   "cell_type": "code",
   "execution_count": 10,
   "id": "6fd53242",
   "metadata": {},
   "outputs": [
    {
     "name": "stdout",
     "output_type": "stream",
     "text": [
      "/mmfs1/data/pijarj/ndar_fmri/image03/TNAD-x-212988-x-212988-x-901-d0203.nii.gz\n",
      "/mmfs1/data/pijarj/ds-2155/sub-01/func/image1.nii.gz\n",
      "/mmfs1/data/pijarj/ndar_fmri/image03/TNAD-x-212988-x-212988-x-901-d0203.nii.gz\n",
      "/mmfs1/data/pijarj/ds-2155/sub-02/func/image2.nii.gz\n",
      "/mmfs1/data/pijarj/ndar_fmri/image03/TNAD-x-212988-x-212988-x-901-d0203.nii.gz\n",
      "/mmfs1/data/pijarj/ds-2155/sub-03/func/image3.nii.gz\n",
      "/mmfs1/data/pijarj/ndar_fmri/image03/TNAD-x-212988-x-212988-x-901-d0203.nii.gz\n",
      "/mmfs1/data/pijarj/ds-2155/sub-04/func/image4.nii.gz\n",
      "/mmfs1/data/pijarj/ndar_fmri/image03/TNAD-x-212988-x-212988-x-901-d0203.nii.gz\n",
      "/mmfs1/data/pijarj/ds-2155/sub-05/func/image5.nii.gz\n",
      "/mmfs1/data/pijarj/ndar_fmri/image03/TNAD-x-212988-x-212988-x-901-d0203.nii.gz\n",
      "/mmfs1/data/pijarj/ds-2155/sub-06/func/image6.nii.gz\n",
      "/mmfs1/data/pijarj/ndar_fmri/image03/TNAD-x-212988-x-212988-x-901-d0203.nii.gz\n",
      "/mmfs1/data/pijarj/ds-2155/sub-07/func/image7.nii.gz\n",
      "/mmfs1/data/pijarj/ndar_fmri/image03/TNAD-x-212988-x-212988-x-901-d0203.nii.gz\n",
      "/mmfs1/data/pijarj/ds-2155/sub-08/func/image8.nii.gz\n",
      "/mmfs1/data/pijarj/ndar_fmri/image03/TNAD-x-212988-x-212988-x-901-d0203.nii.gz\n",
      "/mmfs1/data/pijarj/ds-2155/sub-09/func/image9.nii.gz\n"
     ]
    }
   ],
   "source": [
    "import shutil\n",
    "for i in range (1,10):\n",
    "    src = f'/mmfs1/data/pijarj/ndar_fmri/image03/TNAD-x-212988-x-212988-x-901-d0203.nii.gz'\n",
    "    dst = f'/mmfs1/data/pijarj/ds-2155/sub-0{i}/func/image{i}.nii.gz'\n",
    "    shutil.copyfile(src=src,dst=dst) \n",
    "    print(src)\n",
    "    print(dst)"
   ]
  },
  {
   "cell_type": "code",
   "execution_count": 11,
   "id": "2a09a73f",
   "metadata": {},
   "outputs": [],
   "source": [
    "import shutil\n",
    "for i in range (10,5510):\n",
    "    src = f'/mmfs1/data/pijarj/ndar_fmri/image03/TNAD-x-212988-x-212988-x-901-d0203.nii.gz'\n",
    "    dst = f'/mmfs1/data/pijarj/ds-2155/sub-{i}/func/image{i}.nii.gz'\n",
    "    shutil.copyfile(src=src,dst=dst)"
   ]
  },
  {
   "cell_type": "code",
   "execution_count": null,
   "id": "9889142e",
   "metadata": {},
   "outputs": [],
   "source": []
  },
  {
   "cell_type": "code",
   "execution_count": 6,
   "id": "76f25902",
   "metadata": {},
   "outputs": [
    {
     "data": {
      "image/png": "[encoded data removed]",
      "text/plain": [
       "<Figure size 648x648 with 3 Axes>"
      ]
     },
     "metadata": {
      "needs_background": "light"
     },
     "output_type": "display_data"
    }
   ],
   "source": [
    "import ants\n",
    "im = ants.image_read('/mmfs1/data/pijarj/ndar_fmri/image03/TNAD-x-212988-x-212988-x-901-d0203.nii.gz')\n",
    "im = ants.slice_image(im,axis=3,idx=0)\n",
    "im.plot_ortho(flat=True)"
   ]
  },
  {
   "cell_type": "code",
   "execution_count": null,
   "id": "b1f36259",
   "metadata": {},
   "outputs": [],
   "source": []
  },
  {
   "cell_type": "code",
   "execution_count": null,
   "id": "5cdcc1e8",
   "metadata": {},
   "outputs": [],
   "source": []
  },
  {
   "cell_type": "code",
   "execution_count": null,
   "id": "a9687ae5",
   "metadata": {},
   "outputs": [],
   "source": []
  },
  {
   "cell_type": "code",
   "execution_count": null,
   "id": "66bcbe18",
   "metadata": {},
   "outputs": [],
   "source": []
  }
 ],
 "metadata": {
  "kernelspec": {
   "display_name": "Python 3",
   "language": "python",
   "name": "python3"
  },
  "language_info": {
   "codemirror_mode": {
    "name": "ipython",
    "version": 3
   },
   "file_extension": ".py",
   "mimetype": "text/x-python",
   "name": "python",
   "nbconvert_exporter": "python",
   "pygments_lexer": "ipython3",
   "version": "3.8.5"
  }
 },
 "nbformat": 4,
 "nbformat_minor": 5
}
