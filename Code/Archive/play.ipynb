{
 "cells": [
  {
   "cell_type": "code",
   "execution_count": 2,
   "id": "2f060c81-bee2-4d8d-a301-4ca2ae6b91bc",
   "metadata": {},
   "outputs": [
    {
     "name": "stdout",
     "output_type": "stream",
     "text": [
      "CPU times: user 2 µs, sys: 1 µs, total: 3 µs\n",
      "Wall time: 5.01 µs\n"
     ]
    }
   ],
   "source": [
    "%%time\n",
    "import ants"
   ]
  },
  {
   "cell_type": "code",
   "execution_count": 3,
   "id": "d6d7e70f-756f-4438-acff-4a774955f3e0",
   "metadata": {},
   "outputs": [
    {
     "data": {
      "text/plain": [
       "ANTsImage (AIL)\n",
       "\t Pixel Type : float (float32)\n",
       "\t Components : 1\n",
       "\t Dimensions : (256, 256, 170)\n",
       "\t Spacing    : (1.0, 1.0, 1.0)\n",
       "\t Origin     : (79.3477, -151.0314, -125.849)\n",
       "\t Direction  : [ 0.0437  0.     -0.999   0.999  -0.      0.0437  0.      1.      0.    ]"
      ]
     },
     "execution_count": 3,
     "metadata": {},
     "output_type": "execute_result"
    }
   ],
   "source": [
    "fn = '~/ds-2075/sub-001/anat/sub-001_T1w.nii.gz'\n",
    "ants.image_read(fn)"
   ]
  },
  {
   "cell_type": "code",
   "execution_count": 5,
   "id": "88d4cad3-c4f0-4681-b62b-bc1e9484711b",
   "metadata": {},
   "outputs": [],
   "source": [
    "fn = '~/ds-2075/sub-001/anat/sub-001_T1w.nii.gz'\n",
    "im = ants.image_read(fn)"
   ]
  },
  {
   "cell_type": "code",
   "execution_count": 7,
   "id": "6390d48f-ce13-4af2-9779-96cc4f115ba2",
   "metadata": {},
   "outputs": [],
   "source": [
    "im.to_filename('~/ds-2075/sub-001/anat/sub-001_T1w.nii.gz')"
   ]
  },
  {
   "cell_type": "code",
   "execution_count": null,
   "id": "8f552c5c-9eaa-4b0a-8b97-4c1feb6b0441",
   "metadata": {},
   "outputs": [],
   "source": []
  },
  {
   "cell_type": "code",
   "execution_count": null,
   "id": "60804855-0a3d-45e2-a5da-737e63bfedfc",
   "metadata": {},
   "outputs": [],
   "source": []
  },
  {
   "cell_type": "code",
   "execution_count": null,
   "id": "96bf8433-8408-4346-9a44-81c46e64ae33",
   "metadata": {},
   "outputs": [],
   "source": []
  },
  {
   "cell_type": "code",
   "execution_count": null,
   "id": "c8bc3a08-c109-4a02-afa1-6ab825ecba60",
   "metadata": {},
   "outputs": [],
   "source": []
  }
 ],
 "metadata": {
  "kernelspec": {
   "display_name": "Python 3",
   "language": "python",
   "name": "python3"
  },
  "language_info": {
   "codemirror_mode": {
    "name": "ipython",
    "version": 3
   },
   "file_extension": ".py",
   "mimetype": "text/x-python",
   "name": "python",
   "nbconvert_exporter": "python",
   "pygments_lexer": "ipython3",
   "version": "3.8.8"
  }
 },
 "nbformat": 4,
 "nbformat_minor": 5
}
