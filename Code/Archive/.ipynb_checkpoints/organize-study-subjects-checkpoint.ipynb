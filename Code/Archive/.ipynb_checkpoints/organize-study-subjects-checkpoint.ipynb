{
 "cells": [
  {
   "cell_type": "code",
   "execution_count": 1,
   "id": "d39bf9fa-aaa9-4b8b-83d8-69904b224b07",
   "metadata": {},
   "outputs": [
    {
     "data": {
      "text/plain": [
       "'/mmfs1/data/pijarj/BC-ORG-Data/Code'"
      ]
     },
     "execution_count": 1,
     "metadata": {},
     "output_type": "execute_result"
    }
   ],
   "source": [
    "pwd"
   ]
  },
  {
   "cell_type": "code",
   "execution_count": 2,
   "id": "6897ec70-ff95-4503-bdd8-f03c397e72ee",
   "metadata": {},
   "outputs": [
    {
     "name": "stdout",
     "output_type": "stream",
     "text": [
      "/mmfs1/data/pijarj/BC-ORG-Data\n"
     ]
    }
   ],
   "source": [
    "cd ../"
   ]
  },
  {
   "cell_type": "code",
   "execution_count": 3,
   "id": "7b953386-a2dc-4bd1-ab34-f8733b3f5095",
   "metadata": {},
   "outputs": [
    {
     "name": "stdout",
     "output_type": "stream",
     "text": [
      "/mmfs1/data/pijarj\n"
     ]
    }
   ],
   "source": [
    "cd ../"
   ]
  },
  {
   "cell_type": "code",
   "execution_count": 5,
   "id": "5cdb1ffb-5f1c-426e-99d0-89a5ecaeaac2",
   "metadata": {},
   "outputs": [
    {
     "name": "stdout",
     "output_type": "stream",
     "text": [
      "/mmfs1/data/pijarj/ds-2155\n"
     ]
    }
   ],
   "source": [
    "cd ds-2155/"
   ]
  },
  {
   "cell_type": "code",
   "execution_count": 6,
   "id": "9f886870-fc7c-4546-9531-80eafd9db3c9",
   "metadata": {},
   "outputs": [
    {
     "name": "stdout",
     "output_type": "stream",
     "text": [
      "\u001b[0m\u001b[38;5;9mimage0.nii.gz\u001b[0m  \u001b[38;5;9mimage1.nii.gz\u001b[0m  \u001b[38;5;9mimage2.nii.gz\u001b[0m  \u001b[38;5;9mimage3.nii.gz\u001b[0m  \u001b[38;5;9mimage4.nii.gz\u001b[0m\n"
     ]
    }
   ],
   "source": [
    "ls"
   ]
  },
  {
   "cell_type": "code",
   "execution_count": 7,
   "id": "8b12a1a2-6b1b-4a8a-abc0-98b97b8c0773",
   "metadata": {},
   "outputs": [],
   "source": [
    "mkdir sub-01"
   ]
  },
  {
   "cell_type": "code",
   "execution_count": 8,
   "id": "9fb5f12d-c8ea-4d06-8046-9e26add54e95",
   "metadata": {},
   "outputs": [],
   "source": [
    "mkdir sub-02"
   ]
  },
  {
   "cell_type": "code",
   "execution_count": 9,
   "id": "34ec0b23-2fa3-46da-b916-1827709d0de3",
   "metadata": {},
   "outputs": [],
   "source": [
    "mkdir sub-03"
   ]
  },
  {
   "cell_type": "code",
   "execution_count": 10,
   "id": "8cb0bd8c-bbf5-439b-810a-6c7ebcb2fccc",
   "metadata": {},
   "outputs": [],
   "source": [
    "mkdir sub-04"
   ]
  },
  {
   "cell_type": "code",
   "execution_count": 11,
   "id": "6a309c9a-dc94-4b6c-9b32-e8db43775e9b",
   "metadata": {},
   "outputs": [],
   "source": [
    "mkdir sub-05"
   ]
  },
  {
   "cell_type": "code",
   "execution_count": 19,
   "id": "b1935ad4-e4f1-44e3-8135-edf8ccfdd37a",
   "metadata": {},
   "outputs": [
    {
     "name": "stdout",
     "output_type": "stream",
     "text": [
      "/mmfs1/data/pijarj/ds-2155/sub-01\n"
     ]
    }
   ],
   "source": [
    "cd sub-01"
   ]
  },
  {
   "cell_type": "code",
   "execution_count": 14,
   "id": "1490c73d-4043-4511-a49d-b5464aac753a",
   "metadata": {},
   "outputs": [],
   "source": [
    "mkdir func/"
   ]
  },
  {
   "cell_type": "code",
   "execution_count": 15,
   "id": "2a4254ed-1c38-4dad-bbef-fa2a9432660b",
   "metadata": {},
   "outputs": [
    {
     "name": "stdout",
     "output_type": "stream",
     "text": [
      "/mmfs1/data/pijarj/ds-2155\n"
     ]
    }
   ],
   "source": [
    "cd ../"
   ]
  },
  {
   "cell_type": "code",
   "execution_count": 16,
   "id": "c59fa35f-3401-4954-b031-327988f67716",
   "metadata": {},
   "outputs": [
    {
     "name": "stdout",
     "output_type": "stream",
     "text": [
      "/mmfs1/data/pijarj/ds-2155/sub-02\n"
     ]
    }
   ],
   "source": [
    "cd sub-02"
   ]
  },
  {
   "cell_type": "code",
   "execution_count": 17,
   "id": "66c9eecd-d6e5-40d2-a514-e29781dc5b38",
   "metadata": {},
   "outputs": [],
   "source": [
    "mkdir func/"
   ]
  },
  {
   "cell_type": "code",
   "execution_count": 21,
   "id": "3b281de3-ab0a-44c3-81c7-0c1e9255da7a",
   "metadata": {},
   "outputs": [
    {
     "name": "stdout",
     "output_type": "stream",
     "text": [
      "/mmfs1/data/pijarj/ds-2155\n"
     ]
    }
   ],
   "source": [
    "cd ../"
   ]
  },
  {
   "cell_type": "code",
   "execution_count": 23,
   "id": "770f3b62-b0fd-4b6f-97ec-39d2984e9369",
   "metadata": {},
   "outputs": [
    {
     "name": "stdout",
     "output_type": "stream",
     "text": [
      "/mmfs1/data/pijarj/ds-2155/sub-03\n"
     ]
    }
   ],
   "source": [
    "cd sub-03"
   ]
  },
  {
   "cell_type": "code",
   "execution_count": 24,
   "id": "fafaa020-4dee-43df-bd71-451cc2640b88",
   "metadata": {},
   "outputs": [],
   "source": [
    "mkdir func/"
   ]
  },
  {
   "cell_type": "code",
   "execution_count": 25,
   "id": "0d6724c8-0c2e-42a5-bbb5-d668f7f1a6d7",
   "metadata": {},
   "outputs": [
    {
     "name": "stdout",
     "output_type": "stream",
     "text": [
      "/mmfs1/data/pijarj/ds-2155\n"
     ]
    }
   ],
   "source": [
    "cd ../"
   ]
  },
  {
   "cell_type": "code",
   "execution_count": 26,
   "id": "d9410c05-a901-4568-9dd1-99c196c1ee5b",
   "metadata": {},
   "outputs": [
    {
     "name": "stdout",
     "output_type": "stream",
     "text": [
      "/mmfs1/data/pijarj/ds-2155/sub-04\n"
     ]
    }
   ],
   "source": [
    "cd sub-04"
   ]
  },
  {
   "cell_type": "code",
   "execution_count": 27,
   "id": "b851576b-650c-4405-8ab8-f9efd51b78f9",
   "metadata": {},
   "outputs": [],
   "source": [
    "mkdir func/"
   ]
  },
  {
   "cell_type": "code",
   "execution_count": 28,
   "id": "5b10015f-d150-4116-a8d4-f635bce61f2d",
   "metadata": {},
   "outputs": [
    {
     "name": "stdout",
     "output_type": "stream",
     "text": [
      "/mmfs1/data/pijarj/ds-2155\n"
     ]
    }
   ],
   "source": [
    "cd ../"
   ]
  },
  {
   "cell_type": "code",
   "execution_count": 29,
   "id": "adf89b1a-2978-4dd9-ab38-008adccf3277",
   "metadata": {},
   "outputs": [
    {
     "name": "stdout",
     "output_type": "stream",
     "text": [
      "/mmfs1/data/pijarj/ds-2155/sub-05\n"
     ]
    }
   ],
   "source": [
    "cd sub-05"
   ]
  },
  {
   "cell_type": "code",
   "execution_count": 30,
   "id": "9302d5b8-2de4-4b0e-b2c4-44d333788651",
   "metadata": {},
   "outputs": [],
   "source": [
    "mkdir func/"
   ]
  },
  {
   "cell_type": "code",
   "execution_count": 66,
   "id": "adbf6622-9aa2-438f-a510-15dc42cc4fea",
   "metadata": {},
   "outputs": [
    {
     "name": "stdout",
     "output_type": "stream",
     "text": [
      "/mmfs1/data/pijarj/ds-2155\n"
     ]
    }
   ],
   "source": [
    "cd ../"
   ]
  },
  {
   "cell_type": "code",
   "execution_count": null,
   "id": "7c47cfa3-5ecc-493e-8444-c1401bccf95b",
   "metadata": {},
   "outputs": [],
   "source": [
    "mv image0.nii.gz ./sub-01/"
   ]
  },
  {
   "cell_type": "code",
   "execution_count": null,
   "id": "0a414efc-40ef-48a9-811a-161b8bff66b3",
   "metadata": {},
   "outputs": [],
   "source": [
    "cd sub-01"
   ]
  },
  {
   "cell_type": "code",
   "execution_count": null,
   "id": "08af58f2-aa2d-4d65-8da2-666e73cb64a9",
   "metadata": {
    "tags": []
   },
   "outputs": [],
   "source": [
    "mv image0.nii.gz ./func/"
   ]
  },
  {
   "cell_type": "code",
   "execution_count": 71,
   "id": "3d0d6baa-5f13-4be0-8bf4-98b9a3d85519",
   "metadata": {},
   "outputs": [
    {
     "name": "stdout",
     "output_type": "stream",
     "text": [
      "/mmfs1/data/pijarj/ds-2155\n"
     ]
    }
   ],
   "source": [
    "cd ../"
   ]
  },
  {
   "cell_type": "code",
   "execution_count": 38,
   "id": "507b069e-831f-4c6c-8f01-2c69eacae730",
   "metadata": {},
   "outputs": [],
   "source": [
    "mv image1.nii.gz ./sub-02/"
   ]
  },
  {
   "cell_type": "code",
   "execution_count": 40,
   "id": "e7d44de2-3489-403a-993c-49a015ba0832",
   "metadata": {},
   "outputs": [
    {
     "name": "stdout",
     "output_type": "stream",
     "text": [
      "/mmfs1/data/pijarj/ds-2155/sub-02\n"
     ]
    }
   ],
   "source": [
    "cd sub-02"
   ]
  },
  {
   "cell_type": "code",
   "execution_count": 47,
   "id": "2bfc2cc7-99a0-4da2-9dbb-61f7588ab896",
   "metadata": {},
   "outputs": [
    {
     "name": "stdout",
     "output_type": "stream",
     "text": [
      "mv: cannot stat 'image1.nii.gz': No such file or directory\n"
     ]
    }
   ],
   "source": [
    "mv image1.nii.gz ./func/"
   ]
  },
  {
   "cell_type": "code",
   "execution_count": 50,
   "id": "2102e6b7-5308-4331-af66-9ecade814336",
   "metadata": {},
   "outputs": [
    {
     "data": {
      "text/plain": [
       "'/mmfs1/data/pijarj/ds-2155/sub-02/func'"
      ]
     },
     "execution_count": 50,
     "metadata": {},
     "output_type": "execute_result"
    }
   ],
   "source": [
    "pwd"
   ]
  },
  {
   "cell_type": "code",
   "execution_count": 51,
   "id": "607c79c4-e5d6-4784-b65f-78f0a5c28cb5",
   "metadata": {},
   "outputs": [
    {
     "name": "stdout",
     "output_type": "stream",
     "text": [
      "/mmfs1/data/pijarj/ds-2155/sub-02\n"
     ]
    }
   ],
   "source": [
    "cd ../"
   ]
  },
  {
   "cell_type": "code",
   "execution_count": 52,
   "id": "bf9ad77f-b389-4798-a9cb-fb8e94e0d111",
   "metadata": {},
   "outputs": [
    {
     "name": "stdout",
     "output_type": "stream",
     "text": [
      "/mmfs1/data/pijarj/ds-2155\n"
     ]
    }
   ],
   "source": [
    "cd ../"
   ]
  },
  {
   "cell_type": "code",
   "execution_count": 53,
   "id": "d205bb8a-3b75-4ec7-a6b8-6f458e0303d2",
   "metadata": {},
   "outputs": [],
   "source": [
    "mv image2.nii.gz ./sub-03/"
   ]
  },
  {
   "cell_type": "code",
   "execution_count": 54,
   "id": "1fd3ccdf-28fe-4c1b-9a9d-495acff2bd95",
   "metadata": {},
   "outputs": [
    {
     "name": "stdout",
     "output_type": "stream",
     "text": [
      "/mmfs1/data/pijarj/ds-2155/sub-03\n"
     ]
    }
   ],
   "source": [
    "cd sub-03"
   ]
  },
  {
   "cell_type": "code",
   "execution_count": 55,
   "id": "25254a0d-3bcd-4433-9dfc-00c3c6e7f572",
   "metadata": {},
   "outputs": [],
   "source": [
    "mv image2.nii.gz ./func/"
   ]
  },
  {
   "cell_type": "code",
   "execution_count": null,
   "id": "dd97c0ad-ee5e-430d-a3ba-a2923b49b005",
   "metadata": {},
   "outputs": [],
   "source": []
  },
  {
   "cell_type": "code",
   "execution_count": 56,
   "id": "30327400-edb6-48e8-bdb7-db32be24505d",
   "metadata": {},
   "outputs": [
    {
     "name": "stdout",
     "output_type": "stream",
     "text": [
      "/mmfs1/data/pijarj/ds-2155\n"
     ]
    }
   ],
   "source": [
    "cd ../"
   ]
  },
  {
   "cell_type": "code",
   "execution_count": 57,
   "id": "cb641ca6-5cd7-4e05-be3a-345b001f9f66",
   "metadata": {},
   "outputs": [],
   "source": [
    "mv image3.nii.gz ./sub-04/"
   ]
  },
  {
   "cell_type": "code",
   "execution_count": 58,
   "id": "f1d2dde9-8e26-49c9-a93c-2343b63372ec",
   "metadata": {},
   "outputs": [
    {
     "name": "stdout",
     "output_type": "stream",
     "text": [
      "/mmfs1/data/pijarj/ds-2155/sub-04\n"
     ]
    }
   ],
   "source": [
    "cd sub-04"
   ]
  },
  {
   "cell_type": "code",
   "execution_count": 59,
   "id": "40c35917-0b1d-4d91-b25e-388feb868449",
   "metadata": {},
   "outputs": [],
   "source": [
    "mv image3.nii.gz ./func/"
   ]
  },
  {
   "cell_type": "code",
   "execution_count": 60,
   "id": "88b61954-f1f2-468f-ad11-5260315b50b4",
   "metadata": {},
   "outputs": [
    {
     "name": "stdout",
     "output_type": "stream",
     "text": [
      "/mmfs1/data/pijarj/ds-2155\n"
     ]
    }
   ],
   "source": [
    "cd ../"
   ]
  },
  {
   "cell_type": "code",
   "execution_count": 61,
   "id": "893a1fd4-099e-44cc-8f76-6dbd1970a4aa",
   "metadata": {},
   "outputs": [],
   "source": [
    "mv image4.nii.gz ./sub-05/"
   ]
  },
  {
   "cell_type": "code",
   "execution_count": 62,
   "id": "702607c5-8d98-4031-ad33-671b7158e125",
   "metadata": {},
   "outputs": [
    {
     "name": "stdout",
     "output_type": "stream",
     "text": [
      "/mmfs1/data/pijarj/ds-2155/sub-05\n"
     ]
    }
   ],
   "source": [
    "cd sub-05"
   ]
  },
  {
   "cell_type": "code",
   "execution_count": 63,
   "id": "d72546ce-8754-4910-b803-558bfb265e58",
   "metadata": {},
   "outputs": [],
   "source": [
    "mv image4.nii.gz ./func/"
   ]
  },
  {
   "cell_type": "code",
   "execution_count": 72,
   "id": "aec86788-9948-4648-9eba-49028d858f06",
   "metadata": {},
   "outputs": [
    {
     "data": {
      "text/plain": [
       "'/mmfs1/data/pijarj/ds-2155'"
      ]
     },
     "execution_count": 72,
     "metadata": {},
     "output_type": "execute_result"
    }
   ],
   "source": [
    "pwd"
   ]
  },
  {
   "cell_type": "code",
   "execution_count": 73,
   "id": "ced236e3-717f-4494-a716-5be7d4736612",
   "metadata": {},
   "outputs": [
    {
     "name": "stdout",
     "output_type": "stream",
     "text": [
      "/mmfs1/data/pijarj/ds-2155/sub-01\n"
     ]
    }
   ],
   "source": [
    "cd sub-01"
   ]
  },
  {
   "cell_type": "code",
   "execution_count": 74,
   "id": "e2c4f29d-08a5-4ce6-965c-080ad1575cad",
   "metadata": {},
   "outputs": [],
   "source": [
    "mv image0.nii.gz ./func/"
   ]
  },
  {
   "cell_type": "code",
   "execution_count": null,
   "id": "a57f1b22-228c-44ac-8414-399bc14a2b43",
   "metadata": {},
   "outputs": [],
   "source": []
  }
 ],
 "metadata": {
  "kernelspec": {
   "display_name": "Python 3",
   "language": "python",
   "name": "python3"
  },
  "language_info": {
   "codemirror_mode": {
    "name": "ipython",
    "version": 3
   },
   "file_extension": ".py",
   "mimetype": "text/x-python",
   "name": "python",
   "nbconvert_exporter": "python",
   "pygments_lexer": "ipython3",
   "version": "3.8.8"
  }
 },
 "nbformat": 4,
 "nbformat_minor": 5
}
