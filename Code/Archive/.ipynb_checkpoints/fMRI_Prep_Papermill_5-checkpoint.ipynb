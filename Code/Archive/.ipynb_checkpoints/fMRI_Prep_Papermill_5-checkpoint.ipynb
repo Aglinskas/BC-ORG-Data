{
 "cells": [
  {
   "cell_type": "code",
   "execution_count": 1,
   "id": "405e308f-bd88-4d9a-a9da-52afcaf08a67",
   "metadata": {
    "execution": {
     "iopub.execute_input": "2022-08-10T00:02:09.023631Z",
     "iopub.status.busy": "2022-08-10T00:02:09.023253Z",
     "iopub.status.idle": "2022-08-10T00:02:09.158626Z",
     "shell.execute_reply": "2022-08-10T00:02:09.158274Z"
    },
    "papermill": {
     "duration": 0.147622,
     "end_time": "2022-08-10T00:02:09.158737",
     "exception": false,
     "start_time": "2022-08-10T00:02:09.011115",
     "status": "completed"
    },
    "tags": []
   },
   "outputs": [
    {
     "name": "stdout",
     "output_type": "stream",
     "text": [
      "Tue Aug  9 20:02:09 EDT 2022\r\n"
     ]
    }
   ],
   "source": [
    "!date"
   ]
  },
  {
   "cell_type": "code",
   "execution_count": 2,
   "id": "81b8d8b0-e400-4313-866f-bc4456cc5901",
   "metadata": {
    "execution": {
     "iopub.execute_input": "2022-08-10T00:02:09.184935Z",
     "iopub.status.busy": "2022-08-10T00:02:09.184604Z",
     "iopub.status.idle": "2022-08-10T00:02:09.186612Z",
     "shell.execute_reply": "2022-08-10T00:02:09.186318Z"
    },
    "papermill": {
     "duration": 0.018132,
     "end_time": "2022-08-10T00:02:09.186684",
     "exception": false,
     "start_time": "2022-08-10T00:02:09.168552",
     "status": "completed"
    },
    "tags": []
   },
   "outputs": [
    {
     "data": {
      "text/plain": [
       "'/mmfs1/data/pijarj/BC-ORG-Data/Code'"
      ]
     },
     "execution_count": 2,
     "metadata": {},
     "output_type": "execute_result"
    }
   ],
   "source": [
    "pwd"
   ]
  },
  {
   "cell_type": "code",
   "execution_count": 3,
   "id": "d015a7b7-3a67-45a8-923b-b82322b37522",
   "metadata": {
    "execution": {
     "iopub.execute_input": "2022-08-10T00:02:09.207718Z",
     "iopub.status.busy": "2022-08-10T00:02:09.207382Z",
     "iopub.status.idle": "2022-08-10T00:02:09.211166Z",
     "shell.execute_reply": "2022-08-10T00:02:09.211434Z"
    },
    "papermill": {
     "duration": 0.015224,
     "end_time": "2022-08-10T00:02:09.211517",
     "exception": false,
     "start_time": "2022-08-10T00:02:09.196293",
     "status": "completed"
    },
    "tags": []
   },
   "outputs": [
    {
     "name": "stdout",
     "output_type": "stream",
     "text": [
      "/mmfs1/data/pijarj/BC-ORG-Data/Data\n"
     ]
    }
   ],
   "source": [
    "cd ../Data"
   ]
  },
  {
   "cell_type": "code",
   "execution_count": 4,
   "id": "d5a45cf0-6591-4ac8-ad7a-10ccc30e4b2b",
   "metadata": {
    "execution": {
     "iopub.execute_input": "2022-08-10T00:02:09.233982Z",
     "iopub.status.busy": "2022-08-10T00:02:09.233655Z",
     "iopub.status.idle": "2022-08-10T00:02:42.502333Z",
     "shell.execute_reply": "2022-08-10T00:02:42.502624Z"
    },
    "papermill": {
     "duration": 33.281412,
     "end_time": "2022-08-10T00:02:42.502722",
     "exception": false,
     "start_time": "2022-08-10T00:02:09.221310",
     "status": "completed"
    },
    "tags": []
   },
   "outputs": [
    {
     "name": "stdout",
     "output_type": "stream",
     "text": [
      "CPU times: user 1.82 s, sys: 1.05 s, total: 2.88 s\n",
      "Wall time: 33 s\n"
     ]
    }
   ],
   "source": [
    "%%time\n",
    "import pandas as pd\n",
    "import os\n",
    "import shutil\n",
    "import numpy as np\n",
    "from tqdm import tqdm\n",
    "import ants\n",
    "import nibabel as nib"
   ]
  },
  {
   "cell_type": "code",
   "execution_count": 5,
   "id": "426f3691-550a-4fef-8c3b-b3e3ec5d7188",
   "metadata": {
    "execution": {
     "iopub.execute_input": "2022-08-10T00:02:42.526888Z",
     "iopub.status.busy": "2022-08-10T00:02:42.526553Z",
     "iopub.status.idle": "2022-08-10T00:02:44.567683Z",
     "shell.execute_reply": "2022-08-10T00:02:44.567357Z"
    },
    "papermill": {
     "duration": 2.053764,
     "end_time": "2022-08-10T00:02:44.567775",
     "exception": false,
     "start_time": "2022-08-10T00:02:42.514011",
     "status": "completed"
    },
    "tags": []
   },
   "outputs": [],
   "source": [
    "#make txt file into csv\n",
    "read_file = pd.read_csv ('/mmfs1/data/pijarj/NDAR_BoldAnat10/image03.txt',delimiter='\\t',low_memory=False)\n",
    "read_file.to_csv ('/mmfs1/data/pijarj/BC-ORG-Data/Data/image03.csv', index=0)"
   ]
  },
  {
   "cell_type": "code",
   "execution_count": null,
   "id": "fc43eaa4-2e70-4c3a-8fea-ad6af88da935",
   "metadata": {
    "papermill": {
     "duration": 0.009965,
     "end_time": "2022-08-10T00:02:44.588950",
     "exception": false,
     "start_time": "2022-08-10T00:02:44.578985",
     "status": "completed"
    },
    "tags": []
   },
   "outputs": [],
   "source": []
  },
  {
   "cell_type": "code",
   "execution_count": 6,
   "id": "0469c9e0-ddf5-4a1d-b3e2-4cfa9c439717",
   "metadata": {
    "execution": {
     "iopub.execute_input": "2022-08-10T00:02:44.613235Z",
     "iopub.status.busy": "2022-08-10T00:02:44.612894Z",
     "iopub.status.idle": "2022-08-10T00:02:45.627018Z",
     "shell.execute_reply": "2022-08-10T00:02:45.627292Z"
    },
    "papermill": {
     "duration": 1.028807,
     "end_time": "2022-08-10T00:02:45.627397",
     "exception": false,
     "start_time": "2022-08-10T00:02:44.598590",
     "status": "completed"
    },
    "tags": []
   },
   "outputs": [
    {
     "name": "stdout",
     "output_type": "stream",
     "text": [
      "2342\n",
      "../Data/DS2342.csv\n",
      "192\n",
      "91\n"
     ]
    }
   ],
   "source": [
    "#slice general csv into dataset\n",
    "\n",
    "# Drops non nii or nii.gz types\n",
    "df = pd.read_csv('image03.csv',low_memory=False)\n",
    "df = df.iloc[1::] # First row is just another index, let's drop it\n",
    "df['image_file'] = df['image_file'].astype(str) # convert entries to strings (so nan become 'nan')\n",
    "\n",
    "df['is_nii_gz'] = [str(file).endswith('.nii.gz') for file in df['image_file'].values]\n",
    "df['is_nii'] = [str(file).endswith('.nii') for file in df['image_file'].values]\n",
    "\n",
    "# only keep the niftis \n",
    "df = df.iloc[df['is_nii_gz'].values + df['is_nii'].values] #\n",
    "\n",
    "#study_name = 'Biomarkers of Developmental Trajectories and Treatment in ASD'\n",
    "study_name = 'Cognitive and Neural Flexibility in Autism'\n",
    "#study_name = 'Multimodal Imaging of Early Neural Signature in Autism Spectrum Disorder'\n",
    "#study_name = 'Functional Anatomic Studies of Self-Affect:  A Multimodal Approach'\n",
    "#study_name = 'A Longitudinal MRI Study of Infants at Risk for Autism (ACE 2)'\n",
    "#study_name = 'Intrinsic Brain Architecture of Young Children with Autism While Awake and Asleep'\n",
    "#study_name = 'Using complex video stimuli to elucidate atypical brain functioning in ASD'\n",
    "#study_name = 'Minimally Verbal ASD: From Basic Mechanisms to Innovative Interventions'\n",
    "study_df = df[df['collection_title']==study_name]\n",
    "\n",
    "if len(study_df)==0:\n",
    "    print('no usable scans')\n",
    "else:\n",
    "    col_id = study_df['collection_id'].values[0]\n",
    "    print(col_id)\n",
    "    study_df.to_csv(f'../Data/DS{col_id}.csv')\n",
    "    print(f'../Data/DS{col_id}.csv')\n",
    "    print(len(study_df))\n",
    "    print(len(study_df['subjectkey'].unique()))"
   ]
  },
  {
   "cell_type": "code",
   "execution_count": 7,
   "id": "e1092b5a-fa16-4b51-ab56-78d8093b7261",
   "metadata": {
    "execution": {
     "iopub.execute_input": "2022-08-10T00:02:45.652931Z",
     "iopub.status.busy": "2022-08-10T00:02:45.652600Z",
     "iopub.status.idle": "2022-08-10T00:02:45.654981Z",
     "shell.execute_reply": "2022-08-10T00:02:45.654694Z"
    },
    "papermill": {
     "duration": 0.016702,
     "end_time": "2022-08-10T00:02:45.655052",
     "exception": false,
     "start_time": "2022-08-10T00:02:45.638350",
     "status": "completed"
    },
    "tags": []
   },
   "outputs": [
    {
     "name": "stdout",
     "output_type": "stream",
     "text": [
      "/mmfs1/data/pijarj\n"
     ]
    }
   ],
   "source": [
    "cd ../../"
   ]
  },
  {
   "cell_type": "code",
   "execution_count": 8,
   "id": "6a48fce4-27e2-4111-9343-1e51764ee384",
   "metadata": {
    "execution": {
     "iopub.execute_input": "2022-08-10T00:02:45.693637Z",
     "iopub.status.busy": "2022-08-10T00:02:45.678308Z",
     "iopub.status.idle": "2022-08-10T00:02:45.839572Z",
     "shell.execute_reply": "2022-08-10T00:02:45.839270Z"
    },
    "papermill": {
     "duration": 0.174001,
     "end_time": "2022-08-10T00:02:45.839656",
     "exception": false,
     "start_time": "2022-08-10T00:02:45.665655",
     "status": "completed"
    },
    "tags": []
   },
   "outputs": [
    {
     "name": "stdout",
     "output_type": "stream",
     "text": [
      "mkdir: cannot create directory ‘ds-2342’: File exists\r\n"
     ]
    }
   ],
   "source": [
    "mkdir 'ds-{col_id}'"
   ]
  },
  {
   "cell_type": "code",
   "execution_count": 9,
   "id": "1a446499-f84c-4ab6-b911-e273878a7e99",
   "metadata": {
    "execution": {
     "iopub.execute_input": "2022-08-10T00:02:45.864720Z",
     "iopub.status.busy": "2022-08-10T00:02:45.864387Z",
     "iopub.status.idle": "2022-08-10T00:02:45.866692Z",
     "shell.execute_reply": "2022-08-10T00:02:45.866398Z"
    },
    "papermill": {
     "duration": 0.01583,
     "end_time": "2022-08-10T00:02:45.866766",
     "exception": false,
     "start_time": "2022-08-10T00:02:45.850936",
     "status": "completed"
    },
    "tags": []
   },
   "outputs": [
    {
     "name": "stdout",
     "output_type": "stream",
     "text": [
      "/mmfs1/data/pijarj/BC-ORG-Data/Data\n"
     ]
    }
   ],
   "source": [
    "cd ~/BC-ORG-Data/Data"
   ]
  },
  {
   "cell_type": "code",
   "execution_count": 10,
   "id": "5447613b-25b6-4def-ade6-0e181f36ee22",
   "metadata": {
    "execution": {
     "iopub.execute_input": "2022-08-10T00:02:45.890403Z",
     "iopub.status.busy": "2022-08-10T00:02:45.890077Z",
     "iopub.status.idle": "2022-08-10T00:02:45.891496Z",
     "shell.execute_reply": "2022-08-10T00:02:45.891761Z"
    },
    "papermill": {
     "duration": 0.014199,
     "end_time": "2022-08-10T00:02:45.891845",
     "exception": false,
     "start_time": "2022-08-10T00:02:45.877646",
     "status": "completed"
    },
    "tags": []
   },
   "outputs": [],
   "source": [
    "# df = pd.read_csv(f'../Data/DS{col_id}.csv')\n",
    "# df['is_nii_gz'] = [file.endswith('.nii.gz') for file in df['image_file'].values]\n",
    "# df = df[df['is_nii_gz']]"
   ]
  },
  {
   "cell_type": "code",
   "execution_count": 11,
   "id": "61a988b0-1e30-4608-89d7-4dd961495785",
   "metadata": {
    "execution": {
     "iopub.execute_input": "2022-08-10T00:02:45.916292Z",
     "iopub.status.busy": "2022-08-10T00:02:45.915963Z",
     "iopub.status.idle": "2022-08-10T00:02:45.917266Z",
     "shell.execute_reply": "2022-08-10T00:02:45.917543Z"
    },
    "papermill": {
     "duration": 0.014839,
     "end_time": "2022-08-10T00:02:45.917629",
     "exception": false,
     "start_time": "2022-08-10T00:02:45.902790",
     "status": "completed"
    },
    "tags": []
   },
   "outputs": [],
   "source": [
    "def safe_mkdir(path):\n",
    "    if not os.path.exists(path):\n",
    "        os.mkdir(path)\n",
    "    else:\n",
    "        pass"
   ]
  },
  {
   "cell_type": "code",
   "execution_count": 12,
   "id": "eea4b3e3-2269-4f81-bb82-dde328f30cbd",
   "metadata": {
    "execution": {
     "iopub.execute_input": "2022-08-10T00:02:45.942061Z",
     "iopub.status.busy": "2022-08-10T00:02:45.941732Z",
     "iopub.status.idle": "2022-08-10T00:02:45.943225Z",
     "shell.execute_reply": "2022-08-10T00:02:45.942945Z"
    },
    "papermill": {
     "duration": 0.014611,
     "end_time": "2022-08-10T00:02:45.943294",
     "exception": false,
     "start_time": "2022-08-10T00:02:45.928683",
     "status": "completed"
    },
    "tags": []
   },
   "outputs": [],
   "source": [
    "def write_json(data,filepath):\n",
    "    import json\n",
    "    with open(filepath, 'w') as outfile:\n",
    "        json.dump(data, outfile)"
   ]
  },
  {
   "cell_type": "code",
   "execution_count": 13,
   "id": "7f4796b3-d375-41cd-bfc1-6391d5e48dcb",
   "metadata": {
    "execution": {
     "iopub.execute_input": "2022-08-10T00:02:45.968707Z",
     "iopub.status.busy": "2022-08-10T00:02:45.968363Z",
     "iopub.status.idle": "2022-08-10T00:02:45.970116Z",
     "shell.execute_reply": "2022-08-10T00:02:45.970382Z"
    },
    "papermill": {
     "duration": 0.015812,
     "end_time": "2022-08-10T00:02:45.970471",
     "exception": false,
     "start_time": "2022-08-10T00:02:45.954659",
     "status": "completed"
    },
    "tags": []
   },
   "outputs": [
    {
     "name": "stdout",
     "output_type": "stream",
     "text": [
      "91 unique subjects\n"
     ]
    }
   ],
   "source": [
    "#check for unique subjects with both func and anat\n",
    "#study_df = pd.read_csv(f'../Data/DS{col_id}.csv')\n",
    "study_subjects = np.unique(study_df['subjectkey'].values)\n",
    "nsubjects = len(study_subjects)\n",
    "print(f'{nsubjects} unique subjects')\n",
    "def check_has_anat_and_epi(sub):\n",
    "    sub_df = study_df.iloc[study_df['subjectkey'].values==sub]\n",
    "    fmri_idx = sub_df['scan_type'].values=='fMRI'\n",
    "    #anat_idx = sub_df['scan_type'].values in ['MR structural (T1)','MR structural (MPRAGE)']\n",
    "    anat_idx = sub_df['scan_type'].isin(['MR structural (T1)','MR structural (MPRAGE)']).values\n",
    "    return fmri_idx.sum()>0 and anat_idx.sum()>0"
   ]
  },
  {
   "cell_type": "code",
   "execution_count": 14,
   "id": "2035f839-2694-49e7-a475-a8c30721435f",
   "metadata": {
    "execution": {
     "iopub.execute_input": "2022-08-10T00:02:46.005868Z",
     "iopub.status.busy": "2022-08-10T00:02:46.005274Z",
     "iopub.status.idle": "2022-08-10T00:02:46.007483Z",
     "shell.execute_reply": "2022-08-10T00:02:46.006956Z"
    },
    "papermill": {
     "duration": 0.024035,
     "end_time": "2022-08-10T00:02:46.007640",
     "exception": false,
     "start_time": "2022-08-10T00:02:45.983605",
     "status": "completed"
    },
    "tags": []
   },
   "outputs": [],
   "source": [
    "ndar_root = '/mmfs1/data/pijarj/NDAR_BoldAnat10/' \n",
    "bids_root = '/mmfs1/data/pijarj/'"
   ]
  },
  {
   "cell_type": "code",
   "execution_count": 15,
   "id": "48b98356-f752-40ff-8f51-d17ab31022fb",
   "metadata": {
    "execution": {
     "iopub.execute_input": "2022-08-10T00:02:46.057014Z",
     "iopub.status.busy": "2022-08-10T00:02:46.046985Z",
     "iopub.status.idle": "2022-08-10T00:02:46.070937Z",
     "shell.execute_reply": "2022-08-10T00:02:46.070633Z"
    },
    "papermill": {
     "duration": 0.048743,
     "end_time": "2022-08-10T00:02:46.071013",
     "exception": false,
     "start_time": "2022-08-10T00:02:46.022270",
     "status": "completed"
    },
    "tags": []
   },
   "outputs": [],
   "source": [
    "has_anat_and_epi = np.array([check_has_anat_and_epi(s) for s in study_subjects])"
   ]
  },
  {
   "cell_type": "code",
   "execution_count": 16,
   "id": "71c8f2e6-e1c8-44ed-a64c-e11997bc3f87",
   "metadata": {
    "execution": {
     "iopub.execute_input": "2022-08-10T00:02:46.096395Z",
     "iopub.status.busy": "2022-08-10T00:02:46.096064Z",
     "iopub.status.idle": "2022-08-10T00:02:46.097630Z",
     "shell.execute_reply": "2022-08-10T00:02:46.097903Z"
    },
    "papermill": {
     "duration": 0.01519,
     "end_time": "2022-08-10T00:02:46.097985",
     "exception": false,
     "start_time": "2022-08-10T00:02:46.082795",
     "status": "completed"
    },
    "tags": []
   },
   "outputs": [
    {
     "name": "stdout",
     "output_type": "stream",
     "text": [
      "85 subjects with anat + fmri\n"
     ]
    }
   ],
   "source": [
    "#find subjects with anat and func\n",
    "use_subjects = study_subjects[has_anat_and_epi]\n",
    "nsubjects = len(use_subjects)\n",
    "print(f'{nsubjects} subjects with anat + fmri')"
   ]
  },
  {
   "cell_type": "code",
   "execution_count": 17,
   "id": "8eb2a4bc-46e6-4393-9c5b-6ff1624738cb",
   "metadata": {
    "execution": {
     "iopub.execute_input": "2022-08-10T00:02:46.125783Z",
     "iopub.status.busy": "2022-08-10T00:02:46.124494Z",
     "iopub.status.idle": "2022-08-10T00:02:46.169797Z",
     "shell.execute_reply": "2022-08-10T00:02:46.170081Z"
    },
    "papermill": {
     "duration": 0.060198,
     "end_time": "2022-08-10T00:02:46.170163",
     "exception": false,
     "start_time": "2022-08-10T00:02:46.109965",
     "status": "completed"
    },
    "tags": []
   },
   "outputs": [
    {
     "name": "stderr",
     "output_type": "stream",
     "text": [
      "\r",
      "  0%|                                                                                                                                | 0/85 [00:00<?, ?it/s]"
     ]
    },
    {
     "name": "stderr",
     "output_type": "stream",
     "text": [
      "\r",
      "100%|█████████████████████████████████████████████████████████████████████████████████████████████████████████████████████| 85/85 [00:00<00:00, 2060.56it/s]"
     ]
    },
    {
     "name": "stderr",
     "output_type": "stream",
     "text": [
      "\n"
     ]
    }
   ],
   "source": [
    "# MAKE THE BIDS DIRECTORY\n",
    "safe_mkdir(os.path.join(bids_root,f'DS{col_id}.csv'))\n",
    "for s in tqdm(range(1,nsubjects+1)):\n",
    "    safe_mkdir(os.path.join(bids_root,f'ds-{col_id}',f'sub-{s:03d}'))\n",
    "    safe_mkdir(os.path.join(bids_root,f'ds-{col_id}',f'sub-{s:03d}','func'))\n",
    "    safe_mkdir(os.path.join(bids_root,f'ds-{col_id}',f'sub-{s:03d}','anat'))"
   ]
  },
  {
   "cell_type": "code",
   "execution_count": 18,
   "id": "302de894-5238-4f49-88b8-51c7f4a92bbd",
   "metadata": {
    "execution": {
     "iopub.execute_input": "2022-08-10T00:02:46.198029Z",
     "iopub.status.busy": "2022-08-10T00:02:46.197683Z",
     "iopub.status.idle": "2022-08-10T00:02:46.346040Z",
     "shell.execute_reply": "2022-08-10T00:02:46.346309Z"
    },
    "papermill": {
     "duration": 0.164027,
     "end_time": "2022-08-10T00:02:46.346422",
     "exception": false,
     "start_time": "2022-08-10T00:02:46.182395",
     "status": "completed"
    },
    "tags": []
   },
   "outputs": [
    {
     "name": "stderr",
     "output_type": "stream",
     "text": [
      "\r",
      "  0%|                                                                                                                               | 0/192 [00:00<?, ?it/s]"
     ]
    },
    {
     "name": "stderr",
     "output_type": "stream",
     "text": [
      "\r",
      " 64%|█████████████████████████████████████████████████████████████████████████▋                                         | 123/192 [00:00<00:00, 1224.35it/s]"
     ]
    },
    {
     "name": "stderr",
     "output_type": "stream",
     "text": [
      "\r",
      "100%|███████████████████████████████████████████████████████████████████████████████████████████████████████████████████| 192/192 [00:00<00:00, 1323.32it/s]"
     ]
    },
    {
     "name": "stderr",
     "output_type": "stream",
     "text": [
      "\n"
     ]
    }
   ],
   "source": [
    "#making local paths column\n",
    "#df = pd.read_csv(f'DS{col_id}.csv')\n",
    "n = len(study_df)\n",
    "#root = './image03/'\n",
    "root = os.path.expanduser('~/NDAR_BoldAnat10/image03/')\n",
    "local_paths = list()\n",
    "for i in tqdm(range(n)):\n",
    "    s3_path = study_df['image_file'].values[i]\n",
    "    splits = s3_path.split('/')[4::]\n",
    "    relative = '/'.join(splits)\n",
    "    local_path = os.path.join(root,relative)\n",
    "    assert os.path.exists(os.path.join(root,relative))\n",
    "    local_paths.append(local_path)\n",
    "study_df['local_paths'] = local_paths"
   ]
  },
  {
   "cell_type": "code",
   "execution_count": null,
   "id": "01238176-b218-4188-a4c5-ca98b57e4be1",
   "metadata": {
    "papermill": {
     "duration": 0.013065,
     "end_time": "2022-08-10T00:02:46.372971",
     "exception": false,
     "start_time": "2022-08-10T00:02:46.359906",
     "status": "completed"
    },
    "tags": []
   },
   "outputs": [],
   "source": []
  },
  {
   "cell_type": "code",
   "execution_count": null,
   "id": "248eaae7-0115-4ba1-b44d-fd0ba9600c69",
   "metadata": {
    "papermill": {
     "duration": 0.012723,
     "end_time": "2022-08-10T00:02:46.398365",
     "exception": false,
     "start_time": "2022-08-10T00:02:46.385642",
     "status": "completed"
    },
    "tags": []
   },
   "outputs": [],
   "source": []
  },
  {
   "cell_type": "code",
   "execution_count": 19,
   "id": "df7f6da3-ef3a-40b5-badc-17ccda8368eb",
   "metadata": {
    "execution": {
     "iopub.execute_input": "2022-08-10T00:02:46.437265Z",
     "iopub.status.busy": "2022-08-10T00:02:46.436840Z"
    },
    "papermill": {
     "duration": 3.022113,
     "end_time": "2022-08-10T00:02:49.434543",
     "exception": false,
     "start_time": "2022-08-10T00:02:46.412430",
     "status": "completed"
    },
    "tags": []
   },
   "outputs": [
    {
     "name": "stderr",
     "output_type": "stream",
     "text": [
      "\r",
      "  0%|                                                                                                                                | 0/44 [00:00<?, ?it/s]"
     ]
    }
   ],
   "source": [
    "for s in tqdm(range(41,nsubjects)):\n",
    "    sub = use_subjects[s]\n",
    "    sub_df = study_df.iloc[study_df['subjectkey'].values==sub]\n",
    "    fmri_idx = sub_df['scan_type'].values=='fMRI'\n",
    "#    anat_idx = sub_df['scan_type'].values=='MR structural (T1)'\n",
    "    anat_idx = sub_df['scan_type'].isin(['MR structural (T1)','MR structural (MPRAGE)']).values\n",
    "\n",
    "    epi_fn = sub_df.iloc[fmri_idx]['local_paths'].values[0]\n",
    "    anat_fn = sub_df.iloc[anat_idx]['local_paths'].values[0]\n",
    "\n",
    "#     #epi_path = os.path.join(ndar_root,epi_fn[1::])\n",
    "#     #anat_path = os.path.join(ndar_root,anat_fn[1::])\n",
    "    \n",
    "    epi_path = os.path.join(ndar_root,epi_fn)\n",
    "    anat_path = os.path.join(ndar_root,anat_fn)\n",
    "\n",
    "    \n",
    "#     # AA: Is this a problem? we're reading in .nii or .nii.gz but saving as .nii.gz always\n",
    "    epi_dest = os.path.join(bids_root,f'ds-{col_id}',f'sub-{s+1:03d}','func',f'sub-{s+1:03d}_task-rest_bold.nii.gz')\n",
    "    anat_dest = os.path.join(bids_root,f'ds-{col_id}',f'sub-{s+1:03d}','anat',f'sub-{s+1:03d}_T1w.nii.gz')\n",
    "\n",
    "    t1 = ants.image_read(anat_path) \n",
    "    bold = ants.image_read(epi_path)\n",
    "\n",
    "    t1.to_filename(anat_dest)\n",
    "    bold.to_filename(epi_dest)\n",
    "\n",
    "#     bold_json = {\"RepetitionTime\" : bold.spacing[-1],\n",
    "#                 \"TaskName\" : 'rest'}\n",
    "#     write_json(bold_json,epi_dest.replace('.nii.gz','.json')) \n",
    "#     im = nib.load(epi_dest)\n",
    "#     header = im.header.copy()\n",
    "#     header.set_xyzt_units(xyz='mm', t='sec')\n",
    "#     nib.nifti1.Nifti1Image(im.get_fdata(), None, header=header).to_filename(epi_dest)\n",
    "#     assert nib.load(epi_dest).header.get_xyzt_units()==('mm', 'sec'),'timing missing from header'"
   ]
  },
  {
   "cell_type": "code",
   "execution_count": null,
   "id": "5ba92b96-8e5d-4759-9513-081ba1d509c0",
   "metadata": {
    "papermill": {
     "duration": null,
     "end_time": null,
     "exception": null,
     "start_time": null,
     "status": "completed"
    },
    "tags": []
   },
   "outputs": [],
   "source": [
    "import json\n",
    "data = {\n",
    "    \"Name\" : study_df[\"collection_title\"].values[0] ,\n",
    "    \"RepetitionTime\": 2.0,\n",
    "    \"SliceTiming\" : 2.0 ,\n",
    "    \"TaskName\" : \"taskrest\" ,\n",
    "    \"BIDSVersion\" : \"20.2.0\"}\n",
    "json_string = json.dumps(data)\n",
    "print(json_string)\n",
    "with open(os.path.join(bids_root,f'ds-{col_id}','dataset_description.json'), 'w') as outfile:\n",
    "    json.dump(json_string, outfile)"
   ]
  },
  {
   "cell_type": "code",
   "execution_count": null,
   "id": "6d76d336-1609-4ca5-a0ed-1470b07245be",
   "metadata": {
    "papermill": {
     "duration": null,
     "end_time": null,
     "exception": null,
     "start_time": null,
     "status": "completed"
    },
    "tags": []
   },
   "outputs": [],
   "source": [
    "pwd"
   ]
  },
  {
   "cell_type": "code",
   "execution_count": null,
   "id": "d7b92eb0-9900-4b05-893e-9ad9c4b1c560",
   "metadata": {
    "papermill": {
     "duration": null,
     "end_time": null,
     "exception": null,
     "start_time": null,
     "status": "completed"
    },
    "tags": []
   },
   "outputs": [],
   "source": []
  },
  {
   "cell_type": "code",
   "execution_count": null,
   "id": "83de9449-777c-4a48-a543-d19e84e83ce5",
   "metadata": {
    "papermill": {
     "duration": null,
     "end_time": null,
     "exception": null,
     "start_time": null,
     "status": "completed"
    },
    "tags": []
   },
   "outputs": [],
   "source": []
  }
 ],
 "metadata": {
  "kernelspec": {
   "display_name": "Python 3",
   "language": "python",
   "name": "python3"
  },
  "language_info": {
   "codemirror_mode": {
    "name": "ipython",
    "version": 3
   },
   "file_extension": ".py",
   "mimetype": "text/x-python",
   "name": "python",
   "nbconvert_exporter": "python",
   "pygments_lexer": "ipython3",
   "version": "3.8.8"
  },
  "papermill": {
   "default_parameters": {},
   "duration": 47.561127,
   "end_time": "2022-08-10T00:02:50.064389",
   "environment_variables": {},
   "exception": null,
   "input_path": "fMRI_Prep_Tutorial.ipynb",
   "output_path": "fMRI_Prep_Papermill_5.ipynb",
   "parameters": {},
   "start_time": "2022-08-10T00:02:02.503262",
   "version": "2.3.4"
  }
 },
 "nbformat": 4,
 "nbformat_minor": 5
}