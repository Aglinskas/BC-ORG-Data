{
 "cells": [
  {
   "cell_type": "code",
   "execution_count": 2,
   "id": "62cd72bc-750c-41af-84af-bc3861afd3a8",
   "metadata": {},
   "outputs": [],
   "source": [
    "import csv\n",
    "import pandas as pd\n",
    "import numpy as np\n",
    "import shutil\n",
    "import ants\n",
    "from tqdm import tqdm\n",
    "import os"
   ]
  },
  {
   "cell_type": "code",
   "execution_count": 4,
   "id": "21fe8420-729f-40b2-a5a1-bd14250c0f75",
   "metadata": {},
   "outputs": [],
   "source": [
    "read_file = pd.read_csv ('/mmfs1/data/pijarj/NDAR_BoldAnat10/dataset_collection.txt',delimiter='\\t')\n",
    "read_file.to_csv ('/mmfs1/data/pijarj/BC-ORG-Data/Data/dataset_collection.csv', index=0)"
   ]
  },
  {
   "cell_type": "code",
   "execution_count": 10,
   "id": "462bd34a-226a-45c3-83f0-4b4f576e277e",
   "metadata": {},
   "outputs": [],
   "source": [
    "read_file = pd.read_csv ('/mmfs1/data/pijarj/NDAR_BoldAnat10/datastructure_manifest.txt',delimiter='\\t')\n",
    "read_file.to_csv ('/mmfs1/data/pijarj/BC-ORG-Data/Data/datastructure_manifest.csv', index=0)"
   ]
  },
  {
   "cell_type": "code",
   "execution_count": 11,
   "id": "e21acf09-a23d-490a-8285-fec657134ff7",
   "metadata": {},
   "outputs": [
    {
     "name": "stderr",
     "output_type": "stream",
     "text": [
      "/data/pijarj/anaconda3/lib/python3.8/site-packages/IPython/core/interactiveshell.py:3165: DtypeWarning: Columns (0,1,2,4,6,8,10,11,12,13,14,15,21,22,23,24,25,26,27,28,29,30,31,32,33,34,35,36,37,38,39,40,41,42,43,44,45,46,47,48,49,50,51,52,53,54,55,56,57,58,59,60,61,62,63,64,65,66,67,68,69,70,71,72,73,74,75,76,77) have mixed types.Specify dtype option on import or set low_memory=False.\n",
      "  has_raised = await self.run_ast_nodes(code_ast.body, cell_name,\n"
     ]
    }
   ],
   "source": [
    "read_file = pd.read_csv ('/mmfs1/data/pijarj/NDAR_BoldAnat10/dfr01.txt',delimiter='\\t')\n",
    "read_file.to_csv ('/mmfs1/data/pijarj/BC-ORG-Data/Data/dfr01.csv', index=0)"
   ]
  },
  {
   "cell_type": "code",
   "execution_count": 12,
   "id": "043c676e-a17c-44fd-b07c-0cd379c7593e",
   "metadata": {},
   "outputs": [],
   "source": [
    "read_file = pd.read_csv ('/mmfs1/data/pijarj/NDAR_BoldAnat10/emgsf01.txt',delimiter='\\t')\n",
    "read_file.to_csv ('/mmfs1/data/pijarj/BC-ORG-Data/Data/emgsf01.csv', index=0)"
   ]
  },
  {
   "cell_type": "code",
   "execution_count": 13,
   "id": "adfc02fa-3b23-4aff-8c9a-9f4c9ac25452",
   "metadata": {},
   "outputs": [
    {
     "name": "stderr",
     "output_type": "stream",
     "text": [
      "/data/pijarj/anaconda3/lib/python3.8/site-packages/IPython/core/interactiveshell.py:3165: DtypeWarning: Columns (0,1,2,6,10,12,23,24,25,34,35,36,37,38,39,41,42,47,48,49,50,51,52,53,56,57,58,59,60,61,62,63,64,65,66,68,71,76,77,78,79,80,81,82,83,84,85,86,87,88,89,90,91,92,93,94,95,96,97,98,99,100,101,102,103,104,105,106,107,108,109,110) have mixed types.Specify dtype option on import or set low_memory=False.\n",
      "  has_raised = await self.run_ast_nodes(code_ast.body, cell_name,\n"
     ]
    }
   ],
   "source": [
    "read_file = pd.read_csv ('/mmfs1/data/pijarj/NDAR_BoldAnat10/image03.txt',delimiter='\\t')\n",
    "read_file.to_csv ('/mmfs1/data/pijarj/BC-ORG-Data/Data/image03.csv', index=0)"
   ]
  },
  {
   "cell_type": "code",
   "execution_count": 14,
   "id": "040a2d9c-844c-4e9a-934a-e6310fdac1bb",
   "metadata": {},
   "outputs": [],
   "source": [
    "read_file = pd.read_csv ('/mmfs1/data/pijarj/NDAR_BoldAnat10/imaging_qa01.txt',delimiter='\\t')\n",
    "read_file.to_csv ('/mmfs1/data/pijarj/BC-ORG-Data/Data/imaging_qa01.csv', index=0)"
   ]
  },
  {
   "cell_type": "code",
   "execution_count": 15,
   "id": "9d928151-9755-4982-b343-c2e754cbd4da",
   "metadata": {},
   "outputs": [],
   "source": [
    "read_file = pd.read_csv ('/mmfs1/data/pijarj/NDAR_BoldAnat10/mri_scalar01.txt',delimiter='\\t')\n",
    "read_file.to_csv ('/mmfs1/data/pijarj/BC-ORG-Data/Data/mri_scalar01.csv', index=0)"
   ]
  },
  {
   "cell_type": "code",
   "execution_count": 25,
   "id": "3fe45860-a850-4d06-aff3-01c3c6c99732",
   "metadata": {},
   "outputs": [
    {
     "data": {
      "text/plain": [
       "array(['collection_id', '2105'], dtype=object)"
      ]
     },
     "execution_count": 25,
     "metadata": {},
     "output_type": "execute_result"
    }
   ],
   "source": [
    "df = pd.read_csv('emgsf01.csv')\n",
    "df['collection_id'].unique()"
   ]
  },
  {
   "cell_type": "code",
   "execution_count": 32,
   "id": "d455bf02-0932-4f0d-b057-64b9aa0ce7a1",
   "metadata": {},
   "outputs": [
    {
     "name": "stdout",
     "output_type": "stream",
     "text": [
      "86\n",
      "114\n"
     ]
    }
   ],
   "source": [
    "df = pd.read_csv('image03.csv')\n",
    "print(len(df['collection_title'].unique()))\n",
    "print(len(df['collection_id'].unique()))"
   ]
  },
  {
   "cell_type": "code",
   "execution_count": 34,
   "id": "b0550551-7152-48d6-8a96-96e3e8cb9d98",
   "metadata": {},
   "outputs": [
    {
     "name": "stdout",
     "output_type": "stream",
     "text": [
      "8031\n"
     ]
    }
   ],
   "source": [
    "study_subjects = np.unique(df['subjectkey'].values)\n",
    "nsubjects = len(study_subjects)\n",
    "print(nsubjects)"
   ]
  },
  {
   "cell_type": "code",
   "execution_count": 43,
   "id": "b10d2a35-7bb7-4f51-bea6-f3b337368bfb",
   "metadata": {},
   "outputs": [
    {
     "name": "stdout",
     "output_type": "stream",
     "text": [
      "['Type of Scan' 'MR structural (T1)' 'MR structural (MPRAGE)' 'fMRI'\n",
      " 'MR diffusion' 'Field Map' 'multi-shell DTI' 'single-shell DTI'\n",
      " 'Localizer scan' 'pCASL: ASL' 'MR structural (T2)' '2D gradient echo'\n",
      " 'MR structural (B0 map)' 'MR structural (FSPGR)']\n"
     ]
    }
   ],
   "source": [
    "print(df['scan_type'].unique())"
   ]
  },
  {
   "cell_type": "code",
   "execution_count": 37,
   "id": "482dc8cb-ffb4-4414-90ad-a37e27e43180",
   "metadata": {},
   "outputs": [
    {
     "name": "stdout",
     "output_type": "stream",
     "text": [
      "135\n"
     ]
    }
   ],
   "source": [
    "df = pd.read_csv('image03.csv')\n",
    "study_name = 'Biomarkers of Developmental Trajectories and Treatment in ASD'\n",
    "study_df = df[df['collection_title']==study_name]\n",
    "study_df.to_csv('../Data/DS2026.csv')\n",
    "print(len(study_df))"
   ]
  },
  {
   "cell_type": "code",
   "execution_count": 22,
   "id": "e8e8d8d2-f8ad-4c68-87b9-1da7055279e5",
   "metadata": {},
   "outputs": [
    {
     "name": "stdout",
     "output_type": "stream",
     "text": [
      "['MR structural (T1)' 'fMRI']\n",
      "['MRI']\n",
      "['NIFTI']\n"
     ]
    }
   ],
   "source": [
    "print(study_df['scan_type'].unique())\n",
    "print(study_df['image_description'].unique())\n",
    "print(study_df['image_file_format'].unique())"
   ]
  },
  {
   "cell_type": "code",
   "execution_count": 16,
   "id": "8724dbcb-6d9b-429d-b5b4-b1437133594f",
   "metadata": {},
   "outputs": [],
   "source": [
    "def safe_mkdir(path):\n",
    "    if not os.path.exists(path):\n",
    "        os.mkdir(path)\n",
    "    else:\n",
    "        pass"
   ]
  },
  {
   "cell_type": "code",
   "execution_count": 30,
   "id": "b3f7407d-d2c8-4612-b1dd-b39e17dfce6b",
   "metadata": {},
   "outputs": [],
   "source": [
    "def write_json(data,filepath):\n",
    "    import json\n",
    "    with open(filepath, 'w') as outfile:\n",
    "        json.dump(data, outfile)"
   ]
  },
  {
   "cell_type": "code",
   "execution_count": 3,
   "id": "878f160c-e0d0-44ad-98da-7886fa6a586a",
   "metadata": {},
   "outputs": [
    {
     "ename": "FileNotFoundError",
     "evalue": "[Errno 2] No such file or directory: 'DS2026.csv'",
     "output_type": "error",
     "traceback": [
      "\u001b[0;31m---------------------------------------------------------------------------\u001b[0m",
      "\u001b[0;31mFileNotFoundError\u001b[0m                         Traceback (most recent call last)",
      "\u001b[0;32m<ipython-input-3-c445407563b9>\u001b[0m in \u001b[0;36m<module>\u001b[0;34m\u001b[0m\n\u001b[0;32m----> 1\u001b[0;31m \u001b[0mdf\u001b[0m \u001b[0;34m=\u001b[0m \u001b[0mpd\u001b[0m\u001b[0;34m.\u001b[0m\u001b[0mread_csv\u001b[0m\u001b[0;34m(\u001b[0m\u001b[0;34m'DS2026.csv'\u001b[0m\u001b[0;34m)\u001b[0m\u001b[0;34m\u001b[0m\u001b[0;34m\u001b[0m\u001b[0m\n\u001b[0m\u001b[1;32m      2\u001b[0m \u001b[0mstudy_subjects\u001b[0m \u001b[0;34m=\u001b[0m \u001b[0mnp\u001b[0m\u001b[0;34m.\u001b[0m\u001b[0munique\u001b[0m\u001b[0;34m(\u001b[0m\u001b[0mstudy_df\u001b[0m\u001b[0;34m[\u001b[0m\u001b[0;34m'subjectkey'\u001b[0m\u001b[0;34m]\u001b[0m\u001b[0;34m.\u001b[0m\u001b[0mvalues\u001b[0m\u001b[0;34m)\u001b[0m\u001b[0;34m\u001b[0m\u001b[0;34m\u001b[0m\u001b[0m\n\u001b[1;32m      3\u001b[0m \u001b[0mnsubjects\u001b[0m \u001b[0;34m=\u001b[0m \u001b[0mlen\u001b[0m\u001b[0;34m(\u001b[0m\u001b[0mstudy_subjects\u001b[0m\u001b[0;34m)\u001b[0m\u001b[0;34m\u001b[0m\u001b[0;34m\u001b[0m\u001b[0m\n\u001b[1;32m      4\u001b[0m \u001b[0mprint\u001b[0m\u001b[0;34m(\u001b[0m\u001b[0mnsubjects\u001b[0m\u001b[0;34m)\u001b[0m\u001b[0;34m\u001b[0m\u001b[0;34m\u001b[0m\u001b[0m\n\u001b[1;32m      5\u001b[0m \u001b[0;32mdef\u001b[0m \u001b[0mcheck_has_anat_and_epi\u001b[0m\u001b[0;34m(\u001b[0m\u001b[0msub\u001b[0m\u001b[0;34m)\u001b[0m\u001b[0;34m:\u001b[0m\u001b[0;34m\u001b[0m\u001b[0;34m\u001b[0m\u001b[0m\n",
      "\u001b[0;32m~/anaconda3/lib/python3.8/site-packages/pandas/io/parsers.py\u001b[0m in \u001b[0;36mread_csv\u001b[0;34m(filepath_or_buffer, sep, delimiter, header, names, index_col, usecols, squeeze, prefix, mangle_dupe_cols, dtype, engine, converters, true_values, false_values, skipinitialspace, skiprows, skipfooter, nrows, na_values, keep_default_na, na_filter, verbose, skip_blank_lines, parse_dates, infer_datetime_format, keep_date_col, date_parser, dayfirst, cache_dates, iterator, chunksize, compression, thousands, decimal, lineterminator, quotechar, quoting, doublequote, escapechar, comment, encoding, dialect, error_bad_lines, warn_bad_lines, delim_whitespace, low_memory, memory_map, float_precision, storage_options)\u001b[0m\n\u001b[1;32m    608\u001b[0m     \u001b[0mkwds\u001b[0m\u001b[0;34m.\u001b[0m\u001b[0mupdate\u001b[0m\u001b[0;34m(\u001b[0m\u001b[0mkwds_defaults\u001b[0m\u001b[0;34m)\u001b[0m\u001b[0;34m\u001b[0m\u001b[0;34m\u001b[0m\u001b[0m\n\u001b[1;32m    609\u001b[0m \u001b[0;34m\u001b[0m\u001b[0m\n\u001b[0;32m--> 610\u001b[0;31m     \u001b[0;32mreturn\u001b[0m \u001b[0m_read\u001b[0m\u001b[0;34m(\u001b[0m\u001b[0mfilepath_or_buffer\u001b[0m\u001b[0;34m,\u001b[0m \u001b[0mkwds\u001b[0m\u001b[0;34m)\u001b[0m\u001b[0;34m\u001b[0m\u001b[0;34m\u001b[0m\u001b[0m\n\u001b[0m\u001b[1;32m    611\u001b[0m \u001b[0;34m\u001b[0m\u001b[0m\n\u001b[1;32m    612\u001b[0m \u001b[0;34m\u001b[0m\u001b[0m\n",
      "\u001b[0;32m~/anaconda3/lib/python3.8/site-packages/pandas/io/parsers.py\u001b[0m in \u001b[0;36m_read\u001b[0;34m(filepath_or_buffer, kwds)\u001b[0m\n\u001b[1;32m    460\u001b[0m \u001b[0;34m\u001b[0m\u001b[0m\n\u001b[1;32m    461\u001b[0m     \u001b[0;31m# Create the parser.\u001b[0m\u001b[0;34m\u001b[0m\u001b[0;34m\u001b[0m\u001b[0;34m\u001b[0m\u001b[0m\n\u001b[0;32m--> 462\u001b[0;31m     \u001b[0mparser\u001b[0m \u001b[0;34m=\u001b[0m \u001b[0mTextFileReader\u001b[0m\u001b[0;34m(\u001b[0m\u001b[0mfilepath_or_buffer\u001b[0m\u001b[0;34m,\u001b[0m \u001b[0;34m**\u001b[0m\u001b[0mkwds\u001b[0m\u001b[0;34m)\u001b[0m\u001b[0;34m\u001b[0m\u001b[0;34m\u001b[0m\u001b[0m\n\u001b[0m\u001b[1;32m    463\u001b[0m \u001b[0;34m\u001b[0m\u001b[0m\n\u001b[1;32m    464\u001b[0m     \u001b[0;32mif\u001b[0m \u001b[0mchunksize\u001b[0m \u001b[0;32mor\u001b[0m \u001b[0miterator\u001b[0m\u001b[0;34m:\u001b[0m\u001b[0;34m\u001b[0m\u001b[0;34m\u001b[0m\u001b[0m\n",
      "\u001b[0;32m~/anaconda3/lib/python3.8/site-packages/pandas/io/parsers.py\u001b[0m in \u001b[0;36m__init__\u001b[0;34m(self, f, engine, **kwds)\u001b[0m\n\u001b[1;32m    817\u001b[0m             \u001b[0mself\u001b[0m\u001b[0;34m.\u001b[0m\u001b[0moptions\u001b[0m\u001b[0;34m[\u001b[0m\u001b[0;34m\"has_index_names\"\u001b[0m\u001b[0;34m]\u001b[0m \u001b[0;34m=\u001b[0m \u001b[0mkwds\u001b[0m\u001b[0;34m[\u001b[0m\u001b[0;34m\"has_index_names\"\u001b[0m\u001b[0;34m]\u001b[0m\u001b[0;34m\u001b[0m\u001b[0;34m\u001b[0m\u001b[0m\n\u001b[1;32m    818\u001b[0m \u001b[0;34m\u001b[0m\u001b[0m\n\u001b[0;32m--> 819\u001b[0;31m         \u001b[0mself\u001b[0m\u001b[0;34m.\u001b[0m\u001b[0m_engine\u001b[0m \u001b[0;34m=\u001b[0m \u001b[0mself\u001b[0m\u001b[0;34m.\u001b[0m\u001b[0m_make_engine\u001b[0m\u001b[0;34m(\u001b[0m\u001b[0mself\u001b[0m\u001b[0;34m.\u001b[0m\u001b[0mengine\u001b[0m\u001b[0;34m)\u001b[0m\u001b[0;34m\u001b[0m\u001b[0;34m\u001b[0m\u001b[0m\n\u001b[0m\u001b[1;32m    820\u001b[0m \u001b[0;34m\u001b[0m\u001b[0m\n\u001b[1;32m    821\u001b[0m     \u001b[0;32mdef\u001b[0m \u001b[0mclose\u001b[0m\u001b[0;34m(\u001b[0m\u001b[0mself\u001b[0m\u001b[0;34m)\u001b[0m\u001b[0;34m:\u001b[0m\u001b[0;34m\u001b[0m\u001b[0;34m\u001b[0m\u001b[0m\n",
      "\u001b[0;32m~/anaconda3/lib/python3.8/site-packages/pandas/io/parsers.py\u001b[0m in \u001b[0;36m_make_engine\u001b[0;34m(self, engine)\u001b[0m\n\u001b[1;32m   1048\u001b[0m             )\n\u001b[1;32m   1049\u001b[0m         \u001b[0;31m# error: Too many arguments for \"ParserBase\"\u001b[0m\u001b[0;34m\u001b[0m\u001b[0;34m\u001b[0m\u001b[0;34m\u001b[0m\u001b[0m\n\u001b[0;32m-> 1050\u001b[0;31m         \u001b[0;32mreturn\u001b[0m \u001b[0mmapping\u001b[0m\u001b[0;34m[\u001b[0m\u001b[0mengine\u001b[0m\u001b[0;34m]\u001b[0m\u001b[0;34m(\u001b[0m\u001b[0mself\u001b[0m\u001b[0;34m.\u001b[0m\u001b[0mf\u001b[0m\u001b[0;34m,\u001b[0m \u001b[0;34m**\u001b[0m\u001b[0mself\u001b[0m\u001b[0;34m.\u001b[0m\u001b[0moptions\u001b[0m\u001b[0;34m)\u001b[0m  \u001b[0;31m# type: ignore[call-arg]\u001b[0m\u001b[0;34m\u001b[0m\u001b[0;34m\u001b[0m\u001b[0m\n\u001b[0m\u001b[1;32m   1051\u001b[0m \u001b[0;34m\u001b[0m\u001b[0m\n\u001b[1;32m   1052\u001b[0m     \u001b[0;32mdef\u001b[0m \u001b[0m_failover_to_python\u001b[0m\u001b[0;34m(\u001b[0m\u001b[0mself\u001b[0m\u001b[0;34m)\u001b[0m\u001b[0;34m:\u001b[0m\u001b[0;34m\u001b[0m\u001b[0;34m\u001b[0m\u001b[0m\n",
      "\u001b[0;32m~/anaconda3/lib/python3.8/site-packages/pandas/io/parsers.py\u001b[0m in \u001b[0;36m__init__\u001b[0;34m(self, src, **kwds)\u001b[0m\n\u001b[1;32m   1865\u001b[0m \u001b[0;34m\u001b[0m\u001b[0m\n\u001b[1;32m   1866\u001b[0m         \u001b[0;31m# open handles\u001b[0m\u001b[0;34m\u001b[0m\u001b[0;34m\u001b[0m\u001b[0;34m\u001b[0m\u001b[0m\n\u001b[0;32m-> 1867\u001b[0;31m         \u001b[0mself\u001b[0m\u001b[0;34m.\u001b[0m\u001b[0m_open_handles\u001b[0m\u001b[0;34m(\u001b[0m\u001b[0msrc\u001b[0m\u001b[0;34m,\u001b[0m \u001b[0mkwds\u001b[0m\u001b[0;34m)\u001b[0m\u001b[0;34m\u001b[0m\u001b[0;34m\u001b[0m\u001b[0m\n\u001b[0m\u001b[1;32m   1868\u001b[0m         \u001b[0;32massert\u001b[0m \u001b[0mself\u001b[0m\u001b[0;34m.\u001b[0m\u001b[0mhandles\u001b[0m \u001b[0;32mis\u001b[0m \u001b[0;32mnot\u001b[0m \u001b[0;32mNone\u001b[0m\u001b[0;34m\u001b[0m\u001b[0;34m\u001b[0m\u001b[0m\n\u001b[1;32m   1869\u001b[0m         \u001b[0;32mfor\u001b[0m \u001b[0mkey\u001b[0m \u001b[0;32min\u001b[0m \u001b[0;34m(\u001b[0m\u001b[0;34m\"storage_options\"\u001b[0m\u001b[0;34m,\u001b[0m \u001b[0;34m\"encoding\"\u001b[0m\u001b[0;34m,\u001b[0m \u001b[0;34m\"memory_map\"\u001b[0m\u001b[0;34m,\u001b[0m \u001b[0;34m\"compression\"\u001b[0m\u001b[0;34m)\u001b[0m\u001b[0;34m:\u001b[0m\u001b[0;34m\u001b[0m\u001b[0;34m\u001b[0m\u001b[0m\n",
      "\u001b[0;32m~/anaconda3/lib/python3.8/site-packages/pandas/io/parsers.py\u001b[0m in \u001b[0;36m_open_handles\u001b[0;34m(self, src, kwds)\u001b[0m\n\u001b[1;32m   1360\u001b[0m         \u001b[0mLet\u001b[0m \u001b[0mthe\u001b[0m \u001b[0mreaders\u001b[0m \u001b[0mopen\u001b[0m \u001b[0mIOHanldes\u001b[0m \u001b[0mafter\u001b[0m \u001b[0mthey\u001b[0m \u001b[0mare\u001b[0m \u001b[0mdone\u001b[0m \u001b[0;32mwith\u001b[0m \u001b[0mtheir\u001b[0m \u001b[0mpotential\u001b[0m \u001b[0mraises\u001b[0m\u001b[0;34m.\u001b[0m\u001b[0;34m\u001b[0m\u001b[0;34m\u001b[0m\u001b[0m\n\u001b[1;32m   1361\u001b[0m         \"\"\"\n\u001b[0;32m-> 1362\u001b[0;31m         self.handles = get_handle(\n\u001b[0m\u001b[1;32m   1363\u001b[0m             \u001b[0msrc\u001b[0m\u001b[0;34m,\u001b[0m\u001b[0;34m\u001b[0m\u001b[0;34m\u001b[0m\u001b[0m\n\u001b[1;32m   1364\u001b[0m             \u001b[0;34m\"r\"\u001b[0m\u001b[0;34m,\u001b[0m\u001b[0;34m\u001b[0m\u001b[0;34m\u001b[0m\u001b[0m\n",
      "\u001b[0;32m~/anaconda3/lib/python3.8/site-packages/pandas/io/common.py\u001b[0m in \u001b[0;36mget_handle\u001b[0;34m(path_or_buf, mode, encoding, compression, memory_map, is_text, errors, storage_options)\u001b[0m\n\u001b[1;32m    640\u001b[0m                 \u001b[0merrors\u001b[0m \u001b[0;34m=\u001b[0m \u001b[0;34m\"replace\"\u001b[0m\u001b[0;34m\u001b[0m\u001b[0;34m\u001b[0m\u001b[0m\n\u001b[1;32m    641\u001b[0m             \u001b[0;31m# Encoding\u001b[0m\u001b[0;34m\u001b[0m\u001b[0;34m\u001b[0m\u001b[0;34m\u001b[0m\u001b[0m\n\u001b[0;32m--> 642\u001b[0;31m             handle = open(\n\u001b[0m\u001b[1;32m    643\u001b[0m                 \u001b[0mhandle\u001b[0m\u001b[0;34m,\u001b[0m\u001b[0;34m\u001b[0m\u001b[0;34m\u001b[0m\u001b[0m\n\u001b[1;32m    644\u001b[0m                 \u001b[0mioargs\u001b[0m\u001b[0;34m.\u001b[0m\u001b[0mmode\u001b[0m\u001b[0;34m,\u001b[0m\u001b[0;34m\u001b[0m\u001b[0;34m\u001b[0m\u001b[0m\n",
      "\u001b[0;31mFileNotFoundError\u001b[0m: [Errno 2] No such file or directory: 'DS2026.csv'"
     ]
    }
   ],
   "source": [
    "df = pd.read_csv('DS2026.csv')\n",
    "study_subjects = np.unique(study_df['subjectkey'].values)\n",
    "nsubjects = len(study_subjects)\n",
    "print(nsubjects)\n",
    "def check_has_anat_and_epi(sub):\n",
    "    sub_df = study_df.iloc[study_df['subjectkey'].values==sub]\n",
    "    fmri_idx = sub_df['scan_type'].values=='fMRI'\n",
    "    anat_idx = sub_df['scan_type'].values=='MR structural (T1)'\n",
    "    return fmri_idx.sum()>0 and anat_idx.sum()>0"
   ]
  },
  {
   "cell_type": "code",
   "execution_count": 31,
   "id": "28578a7b-7dd7-4b5f-bdc4-953e8101deaf",
   "metadata": {},
   "outputs": [],
   "source": [
    "ndar_root = '/mmfs1/data/pijarj/NDAR_BoldAnat10/' \n",
    "bids_root = '/mmfs1/data/pijarj/'"
   ]
  },
  {
   "cell_type": "code",
   "execution_count": 24,
   "id": "f01ad0c7-38aa-4934-a54b-06d8e7757a12",
   "metadata": {},
   "outputs": [],
   "source": [
    "has_anat_and_epi = np.array([check_has_anat_and_epi(s) for s in study_subjects])"
   ]
  },
  {
   "cell_type": "code",
   "execution_count": 25,
   "id": "ab2e1c18-23c3-4eee-84e6-2295181f1c12",
   "metadata": {},
   "outputs": [
    {
     "name": "stdout",
     "output_type": "stream",
     "text": [
      "43\n"
     ]
    }
   ],
   "source": [
    "use_subjects = study_subjects[has_anat_and_epi]\n",
    "nsubjects = len(use_subjects)\n",
    "print(nsubjects)"
   ]
  },
  {
   "cell_type": "code",
   "execution_count": 29,
   "id": "fbea912d-721c-4977-99bb-f8dfc21ff722",
   "metadata": {},
   "outputs": [],
   "source": [
    "# MAKE THE BIDS DIRECTORY\n",
    "safe_mkdir(os.path.join(bids_root,f'ds-2026'))\n",
    "for s in range(1,nsubjects+1):\n",
    "    safe_mkdir(os.path.join(bids_root,f'ds-2026',f'sub-{s:03d}'))\n",
    "    safe_mkdir(os.path.join(bids_root,f'ds-2026',f'sub-{s:03d}','func'))\n",
    "    safe_mkdir(os.path.join(bids_root,f'ds-2026',f'sub-{s:03d}','anat'))"
   ]
  },
  {
   "cell_type": "code",
   "execution_count": 4,
   "id": "f5390512-9753-4d49-9eb7-3365fffac2aa",
   "metadata": {},
   "outputs": [
    {
     "name": "stdout",
     "output_type": "stream",
     "text": [
      "Variable   Type      Data/Info\n",
      "------------------------------\n",
      "ants       module    <module 'ants' from '/dat<...>ckages/ants/__init__.py'>\n",
      "csv        module    <module 'csv' from '/data<...>a3/lib/python3.8/csv.py'>\n",
      "np         module    <module 'numpy' from '/da<...>kages/numpy/__init__.py'>\n",
      "os         module    <module 'os' from '/data/<...>da3/lib/python3.8/os.py'>\n",
      "pd         module    <module 'pandas' from '/d<...>ages/pandas/__init__.py'>\n",
      "shutil     module    <module 'shutil' from '/d<...>lib/python3.8/shutil.py'>\n",
      "tqdm       type      <class 'tqdm.std.tqdm'>\n"
     ]
    }
   ],
   "source": [
    "whos"
   ]
  },
  {
   "cell_type": "code",
   "execution_count": 10,
   "id": "ad650cac-143b-42cb-a206-6d067d211339",
   "metadata": {},
   "outputs": [
    {
     "data": {
      "text/plain": [
       "[]"
      ]
     },
     "execution_count": 10,
     "metadata": {},
     "output_type": "execute_result"
    }
   ],
   "source": [
    "local_paths"
   ]
  },
  {
   "cell_type": "code",
   "execution_count": 12,
   "id": "a03aefe2-35c5-482d-a7a1-80bcded69ba5",
   "metadata": {
    "tags": []
   },
   "outputs": [
    {
     "name": "stderr",
     "output_type": "stream",
     "text": [
      "100%|██████████| 135/135 [00:00<00:00, 129070.22it/s]\n"
     ]
    }
   ],
   "source": [
    "df = pd.read_csv('DS2026.csv')\n",
    "n = len(df)\n",
    "root = './image03/'\n",
    "local_paths = list()\n",
    "for i in tqdm(range(n)):\n",
    "    s3_path = df['image_file'].values[i]\n",
    "    splits = s3_path.split('/')[4::]\n",
    "    relative = '/'.join(splits)\n",
    "    local_path = os.path.join(root,relative)\n",
    "    #assert os.path.exists(os.path.join(root,relative))\n",
    "    local_paths.append(local_path)\n",
    "df['local_paths'] = local_paths"
   ]
  },
  {
   "cell_type": "code",
   "execution_count": 14,
   "id": "4a33a036-0c93-4482-ac6f-ecffcca38576",
   "metadata": {},
   "outputs": [
    {
     "data": {
      "text/plain": [
       "'TD156B_CCN_resting8min_new_RPI.nii.gz'"
      ]
     },
     "execution_count": 14,
     "metadata": {},
     "output_type": "execute_result"
    }
   ],
   "source": [
    "relative"
   ]
  },
  {
   "cell_type": "code",
   "execution_count": 15,
   "id": "949a1f93-963c-4543-b080-2170e1f565ee",
   "metadata": {},
   "outputs": [
    {
     "data": {
      "text/plain": [
       "'/data/pijarj/NDAR_BoldAnat10/image03'"
      ]
     },
     "execution_count": 15,
     "metadata": {},
     "output_type": "execute_result"
    }
   ],
   "source": [
    "os.path.expanduser('~/NDAR_BoldAnat10/image03')"
   ]
  },
  {
   "cell_type": "code",
   "execution_count": null,
   "id": "6a8d673c-185e-44ea-80fc-b16917817347",
   "metadata": {},
   "outputs": [],
   "source": []
  },
  {
   "cell_type": "code",
   "execution_count": null,
   "id": "12504faa-732a-42a4-a65c-82d6c5df9632",
   "metadata": {},
   "outputs": [],
   "source": []
  },
  {
   "cell_type": "code",
   "execution_count": 40,
   "id": "031d5d0c-7f1d-4c87-b9ab-63bf76c17a3a",
   "metadata": {
    "tags": []
   },
   "outputs": [],
   "source": [
    "#no local paths column, what to use\n",
    "s = 0\n",
    "sub = use_subjects[s]\n",
    "sub_df = study_df.iloc[study_df['subjectkey'].values==sub]\n",
    "fmri_idx = sub_df['scan_type'].values=='fMRI'\n",
    "anat_idx = sub_df['scan_type'].values=='MR structural (T1)'\n",
    "\n",
    "epi_fn = sub_df.iloc[fmri_idx]['image_file'].values[0]\n",
    "anat_fn = sub_df.iloc[anat_idx]['image_file'].values[0]\n",
    "\n",
    "epi_path = os.path.join(ndar_root,epi_fn[2::])\n",
    "anat_path = os.path.join(ndar_root,anat_fn[2::])\n",
    "\n",
    "epi_dest = os.path.join(bids_root,f'ds-2026',f'sub-{s+1:03d}','func',f'sub-{s+1:03d}_task-rest_bold.nii.gz')\n",
    "anat_dest = os.path.join(bids_root,f'ds-2026',f'sub-{s+1:03d}','anat',f'sub-{s+1:03d}_T1w.nii.gz')"
   ]
  },
  {
   "cell_type": "code",
   "execution_count": 41,
   "id": "e1648676-ea37-4810-a864-00f773d07b96",
   "metadata": {},
   "outputs": [
    {
     "name": "stderr",
     "output_type": "stream",
     "text": [
      "  0%|          | 0/44 [00:00<?, ?it/s]\n"
     ]
    },
    {
     "ename": "ValueError",
     "evalue": "File /mmfs1/data/pijarj/NDAR_BoldAnat10/://NDAR_Central_2/submission_11249/anat_mprage/IS345B_CCN_anat_mprage_new_RPI.nii.gz does not exist!",
     "output_type": "error",
     "traceback": [
      "\u001b[0;31m---------------------------------------------------------------------------\u001b[0m",
      "\u001b[0;31mValueError\u001b[0m                                Traceback (most recent call last)",
      "\u001b[0;32m<ipython-input-41-39fa2a8cd25d>\u001b[0m in \u001b[0;36m<module>\u001b[0;34m\u001b[0m\n\u001b[1;32m     14\u001b[0m     \u001b[0manat_dest\u001b[0m \u001b[0;34m=\u001b[0m \u001b[0mos\u001b[0m\u001b[0;34m.\u001b[0m\u001b[0mpath\u001b[0m\u001b[0;34m.\u001b[0m\u001b[0mjoin\u001b[0m\u001b[0;34m(\u001b[0m\u001b[0mbids_root\u001b[0m\u001b[0;34m,\u001b[0m\u001b[0;34mf'ds-2026'\u001b[0m\u001b[0;34m,\u001b[0m\u001b[0;34mf'sub-{s+1:03d}'\u001b[0m\u001b[0;34m,\u001b[0m\u001b[0;34m'anat'\u001b[0m\u001b[0;34m,\u001b[0m\u001b[0;34mf'sub-{s+1:03d}_T1w.nii.gz'\u001b[0m\u001b[0;34m)\u001b[0m\u001b[0;34m\u001b[0m\u001b[0;34m\u001b[0m\u001b[0m\n\u001b[1;32m     15\u001b[0m \u001b[0;34m\u001b[0m\u001b[0m\n\u001b[0;32m---> 16\u001b[0;31m     \u001b[0mt1\u001b[0m \u001b[0;34m=\u001b[0m \u001b[0mants\u001b[0m\u001b[0;34m.\u001b[0m\u001b[0mimage_read\u001b[0m\u001b[0;34m(\u001b[0m\u001b[0manat_path\u001b[0m\u001b[0;34m)\u001b[0m\u001b[0;34m\u001b[0m\u001b[0;34m\u001b[0m\u001b[0m\n\u001b[0m\u001b[1;32m     17\u001b[0m     \u001b[0mbold\u001b[0m \u001b[0;34m=\u001b[0m \u001b[0mants\u001b[0m\u001b[0;34m.\u001b[0m\u001b[0mimage_read\u001b[0m\u001b[0;34m(\u001b[0m\u001b[0mepi_path\u001b[0m\u001b[0;34m)\u001b[0m\u001b[0;34m\u001b[0m\u001b[0;34m\u001b[0m\u001b[0m\n\u001b[1;32m     18\u001b[0m \u001b[0;34m\u001b[0m\u001b[0m\n",
      "\u001b[0;32m~/anaconda3/lib/python3.8/site-packages/ants/core/ants_image_io.py\u001b[0m in \u001b[0;36mimage_read\u001b[0;34m(filename, dimension, pixeltype, reorient)\u001b[0m\n\u001b[1;32m    513\u001b[0m         \u001b[0mfilename\u001b[0m \u001b[0;34m=\u001b[0m \u001b[0mos\u001b[0m\u001b[0;34m.\u001b[0m\u001b[0mpath\u001b[0m\u001b[0;34m.\u001b[0m\u001b[0mexpanduser\u001b[0m\u001b[0;34m(\u001b[0m\u001b[0mfilename\u001b[0m\u001b[0;34m)\u001b[0m\u001b[0;34m\u001b[0m\u001b[0;34m\u001b[0m\u001b[0m\n\u001b[1;32m    514\u001b[0m         \u001b[0;32mif\u001b[0m \u001b[0;32mnot\u001b[0m \u001b[0mos\u001b[0m\u001b[0;34m.\u001b[0m\u001b[0mpath\u001b[0m\u001b[0;34m.\u001b[0m\u001b[0mexists\u001b[0m\u001b[0;34m(\u001b[0m\u001b[0mfilename\u001b[0m\u001b[0;34m)\u001b[0m\u001b[0;34m:\u001b[0m\u001b[0;34m\u001b[0m\u001b[0;34m\u001b[0m\u001b[0m\n\u001b[0;32m--> 515\u001b[0;31m             \u001b[0;32mraise\u001b[0m \u001b[0mValueError\u001b[0m\u001b[0;34m(\u001b[0m\u001b[0;34m\"File %s does not exist!\"\u001b[0m \u001b[0;34m%\u001b[0m \u001b[0mfilename\u001b[0m\u001b[0;34m)\u001b[0m\u001b[0;34m\u001b[0m\u001b[0;34m\u001b[0m\u001b[0m\n\u001b[0m\u001b[1;32m    516\u001b[0m \u001b[0;34m\u001b[0m\u001b[0m\n\u001b[1;32m    517\u001b[0m         \u001b[0mhinfo\u001b[0m \u001b[0;34m=\u001b[0m \u001b[0mimage_header_info\u001b[0m\u001b[0;34m(\u001b[0m\u001b[0mfilename\u001b[0m\u001b[0;34m)\u001b[0m\u001b[0;34m\u001b[0m\u001b[0;34m\u001b[0m\u001b[0m\n",
      "\u001b[0;31mValueError\u001b[0m: File /mmfs1/data/pijarj/NDAR_BoldAnat10/://NDAR_Central_2/submission_11249/anat_mprage/IS345B_CCN_anat_mprage_new_RPI.nii.gz does not exist!"
     ]
    }
   ],
   "source": [
    "for s in tqdm(range(0,nsubjects)):\n",
    "    sub = use_subjects[s]\n",
    "    sub_df = study_df.iloc[study_df['subjectkey'].values==sub]\n",
    "    fmri_idx = sub_df['scan_type'].values=='fMRI'\n",
    "    anat_idx = sub_df['scan_type'].values=='MR structural (T1)'\n",
    "\n",
    "    epi_fn = sub_df.iloc[fmri_idx]['image_file'].values[0]\n",
    "    anat_fn = sub_df.iloc[anat_idx]['image_file'].values[0]\n",
    "\n",
    "    epi_path = os.path.join(ndar_root,epi_fn[2::])\n",
    "    anat_path = os.path.join(ndar_root,anat_fn[2::])\n",
    "\n",
    "    epi_dest = os.path.join(bids_root,f'ds-2026',f'sub-{s+1:03d}','func',f'sub-{s+1:03d}_task-rest_bold.nii.gz')\n",
    "    anat_dest = os.path.join(bids_root,f'ds-2026',f'sub-{s+1:03d}','anat',f'sub-{s+1:03d}_T1w.nii.gz')\n",
    "\n",
    "    t1 = ants.image_read(anat_path) \n",
    "    bold = ants.image_read(epi_path)\n",
    "\n",
    "    t1.to_filename(anat_dest)\n",
    "    bold.to_filename(epi_dest)\n",
    "\n",
    "    bold_json = {\"RepetitionTime\" : bold.spacing[-1],\n",
    "                \"TaskName\" : 'rest'}\n",
    "    write_json(bold_json,epi_dest.replace('.nii.gz','.json')) \n",
    "    im = nib.load(epi_dest)\n",
    "    header = im.header.copy()\n",
    "    header.set_xyzt_units(xyz='mm', t='sec')\n",
    "    nib.nifti1.Nifti1Image(im.get_fdata(), None, header=header).to_filename(epi_dest)\n",
    "    assert nib.load(epi_dest).header.get_xyzt_units()==('mm', 'sec'),'timing missing from header'"
   ]
  },
  {
   "cell_type": "code",
   "execution_count": 6,
   "id": "fcd1296c-a5b3-4dba-81b1-1b8c7578e221",
   "metadata": {},
   "outputs": [
    {
     "data": {
      "text/plain": [
       "'/mmfs1/data/pijarj/BC-ORG-Data/Code'"
      ]
     },
     "execution_count": 6,
     "metadata": {},
     "output_type": "execute_result"
    }
   ],
   "source": [
    "pwd"
   ]
  },
  {
   "cell_type": "code",
   "execution_count": 7,
   "id": "f1db55ac-b608-4d29-ab81-5b161d18f90f",
   "metadata": {},
   "outputs": [
    {
     "name": "stdout",
     "output_type": "stream",
     "text": [
      "/mmfs1/data/pijarj/BC-ORG-Data/Data\n"
     ]
    }
   ],
   "source": [
    "cd ../Data"
   ]
  },
  {
   "cell_type": "code",
   "execution_count": 9,
   "id": "1ee8de70-69d7-4179-95f2-aa5b151fbf8e",
   "metadata": {},
   "outputs": [
    {
     "data": {
      "text/html": [
       "<div>\n",
       "<style scoped>\n",
       "    .dataframe tbody tr th:only-of-type {\n",
       "        vertical-align: middle;\n",
       "    }\n",
       "\n",
       "    .dataframe tbody tr th {\n",
       "        vertical-align: top;\n",
       "    }\n",
       "\n",
       "    .dataframe thead th {\n",
       "        text-align: right;\n",
       "    }\n",
       "</style>\n",
       "<table border=\"1\" class=\"dataframe\">\n",
       "  <thead>\n",
       "    <tr style=\"text-align: right;\">\n",
       "      <th></th>\n",
       "      <th>Unnamed: 0</th>\n",
       "      <th>collection_id</th>\n",
       "      <th>image03_id</th>\n",
       "      <th>dataset_id</th>\n",
       "      <th>subjectkey</th>\n",
       "      <th>src_subject_id</th>\n",
       "      <th>interview_date</th>\n",
       "      <th>interview_age</th>\n",
       "      <th>sex</th>\n",
       "      <th>comments_misc</th>\n",
       "      <th>...</th>\n",
       "      <th>in_stack</th>\n",
       "      <th>decon_template_name</th>\n",
       "      <th>stack</th>\n",
       "      <th>slices</th>\n",
       "      <th>slice_number</th>\n",
       "      <th>slice_thickness</th>\n",
       "      <th>type_of_microscopy</th>\n",
       "      <th>excitation_wavelength</th>\n",
       "      <th>year_mta</th>\n",
       "      <th>collection_title</th>\n",
       "    </tr>\n",
       "  </thead>\n",
       "  <tbody>\n",
       "    <tr>\n",
       "      <th>0</th>\n",
       "      <td>155</td>\n",
       "      <td>2026</td>\n",
       "      <td>207135</td>\n",
       "      <td>8720</td>\n",
       "      <td>NDARJW686PWM</td>\n",
       "      <td>ASD80C_CCN</td>\n",
       "      <td>07/11/2013</td>\n",
       "      <td>160</td>\n",
       "      <td>M</td>\n",
       "      <td>NaN</td>\n",
       "      <td>...</td>\n",
       "      <td>NaN</td>\n",
       "      <td>NaN</td>\n",
       "      <td>NaN</td>\n",
       "      <td>NaN</td>\n",
       "      <td>NaN</td>\n",
       "      <td>NaN</td>\n",
       "      <td>NaN</td>\n",
       "      <td>NaN</td>\n",
       "      <td>NaN</td>\n",
       "      <td>Biomarkers of Developmental Trajectories and T...</td>\n",
       "    </tr>\n",
       "    <tr>\n",
       "      <th>1</th>\n",
       "      <td>156</td>\n",
       "      <td>2026</td>\n",
       "      <td>207136</td>\n",
       "      <td>8720</td>\n",
       "      <td>NDARMU914RMX</td>\n",
       "      <td>ASD117C_CCN</td>\n",
       "      <td>07/22/2013</td>\n",
       "      <td>161</td>\n",
       "      <td>M</td>\n",
       "      <td>NaN</td>\n",
       "      <td>...</td>\n",
       "      <td>NaN</td>\n",
       "      <td>NaN</td>\n",
       "      <td>NaN</td>\n",
       "      <td>NaN</td>\n",
       "      <td>NaN</td>\n",
       "      <td>NaN</td>\n",
       "      <td>NaN</td>\n",
       "      <td>NaN</td>\n",
       "      <td>NaN</td>\n",
       "      <td>Biomarkers of Developmental Trajectories and T...</td>\n",
       "    </tr>\n",
       "    <tr>\n",
       "      <th>2</th>\n",
       "      <td>157</td>\n",
       "      <td>2026</td>\n",
       "      <td>207150</td>\n",
       "      <td>8720</td>\n",
       "      <td>NDARJW686PWM</td>\n",
       "      <td>ASD80C_CCN</td>\n",
       "      <td>07/11/2013</td>\n",
       "      <td>160</td>\n",
       "      <td>M</td>\n",
       "      <td>NaN</td>\n",
       "      <td>...</td>\n",
       "      <td>NaN</td>\n",
       "      <td>NaN</td>\n",
       "      <td>NaN</td>\n",
       "      <td>NaN</td>\n",
       "      <td>NaN</td>\n",
       "      <td>NaN</td>\n",
       "      <td>NaN</td>\n",
       "      <td>NaN</td>\n",
       "      <td>NaN</td>\n",
       "      <td>Biomarkers of Developmental Trajectories and T...</td>\n",
       "    </tr>\n",
       "    <tr>\n",
       "      <th>3</th>\n",
       "      <td>158</td>\n",
       "      <td>2026</td>\n",
       "      <td>207151</td>\n",
       "      <td>8720</td>\n",
       "      <td>NDARMU914RMX</td>\n",
       "      <td>ASD117C_CCN</td>\n",
       "      <td>07/22/2013</td>\n",
       "      <td>161</td>\n",
       "      <td>M</td>\n",
       "      <td>NaN</td>\n",
       "      <td>...</td>\n",
       "      <td>NaN</td>\n",
       "      <td>NaN</td>\n",
       "      <td>NaN</td>\n",
       "      <td>NaN</td>\n",
       "      <td>NaN</td>\n",
       "      <td>NaN</td>\n",
       "      <td>NaN</td>\n",
       "      <td>NaN</td>\n",
       "      <td>NaN</td>\n",
       "      <td>Biomarkers of Developmental Trajectories and T...</td>\n",
       "    </tr>\n",
       "    <tr>\n",
       "      <th>4</th>\n",
       "      <td>299</td>\n",
       "      <td>2026</td>\n",
       "      <td>351066</td>\n",
       "      <td>9074</td>\n",
       "      <td>NDARFW153HEP</td>\n",
       "      <td>TD125C</td>\n",
       "      <td>07/19/2013</td>\n",
       "      <td>169</td>\n",
       "      <td>M</td>\n",
       "      <td>NaN</td>\n",
       "      <td>...</td>\n",
       "      <td>NaN</td>\n",
       "      <td>NaN</td>\n",
       "      <td>NaN</td>\n",
       "      <td>NaN</td>\n",
       "      <td>NaN</td>\n",
       "      <td>NaN</td>\n",
       "      <td>NaN</td>\n",
       "      <td>NaN</td>\n",
       "      <td>NaN</td>\n",
       "      <td>Biomarkers of Developmental Trajectories and T...</td>\n",
       "    </tr>\n",
       "    <tr>\n",
       "      <th>...</th>\n",
       "      <td>...</td>\n",
       "      <td>...</td>\n",
       "      <td>...</td>\n",
       "      <td>...</td>\n",
       "      <td>...</td>\n",
       "      <td>...</td>\n",
       "      <td>...</td>\n",
       "      <td>...</td>\n",
       "      <td>...</td>\n",
       "      <td>...</td>\n",
       "      <td>...</td>\n",
       "      <td>...</td>\n",
       "      <td>...</td>\n",
       "      <td>...</td>\n",
       "      <td>...</td>\n",
       "      <td>...</td>\n",
       "      <td>...</td>\n",
       "      <td>...</td>\n",
       "      <td>...</td>\n",
       "      <td>...</td>\n",
       "      <td>...</td>\n",
       "    </tr>\n",
       "    <tr>\n",
       "      <th>130</th>\n",
       "      <td>45420</td>\n",
       "      <td>2026</td>\n",
       "      <td>448726</td>\n",
       "      <td>10880</td>\n",
       "      <td>NDARPH177CKJ</td>\n",
       "      <td>TD130</td>\n",
       "      <td>04/02/2016</td>\n",
       "      <td>197</td>\n",
       "      <td>M</td>\n",
       "      <td>NaN</td>\n",
       "      <td>...</td>\n",
       "      <td>NaN</td>\n",
       "      <td>NaN</td>\n",
       "      <td>NaN</td>\n",
       "      <td>NaN</td>\n",
       "      <td>NaN</td>\n",
       "      <td>NaN</td>\n",
       "      <td>NaN</td>\n",
       "      <td>NaN</td>\n",
       "      <td>NaN</td>\n",
       "      <td>Biomarkers of Developmental Trajectories and T...</td>\n",
       "    </tr>\n",
       "    <tr>\n",
       "      <th>131</th>\n",
       "      <td>45421</td>\n",
       "      <td>2026</td>\n",
       "      <td>448727</td>\n",
       "      <td>10880</td>\n",
       "      <td>NDAR_INVVH261PTZ</td>\n",
       "      <td>TD153</td>\n",
       "      <td>02/06/2016</td>\n",
       "      <td>196</td>\n",
       "      <td>M</td>\n",
       "      <td>NaN</td>\n",
       "      <td>...</td>\n",
       "      <td>NaN</td>\n",
       "      <td>NaN</td>\n",
       "      <td>NaN</td>\n",
       "      <td>NaN</td>\n",
       "      <td>NaN</td>\n",
       "      <td>NaN</td>\n",
       "      <td>NaN</td>\n",
       "      <td>NaN</td>\n",
       "      <td>NaN</td>\n",
       "      <td>Biomarkers of Developmental Trajectories and T...</td>\n",
       "    </tr>\n",
       "    <tr>\n",
       "      <th>132</th>\n",
       "      <td>45422</td>\n",
       "      <td>2026</td>\n",
       "      <td>448728</td>\n",
       "      <td>10880</td>\n",
       "      <td>NDAR_INVXR271BVJ</td>\n",
       "      <td>TD154</td>\n",
       "      <td>03/24/2016</td>\n",
       "      <td>210</td>\n",
       "      <td>M</td>\n",
       "      <td>NaN</td>\n",
       "      <td>...</td>\n",
       "      <td>NaN</td>\n",
       "      <td>NaN</td>\n",
       "      <td>NaN</td>\n",
       "      <td>NaN</td>\n",
       "      <td>NaN</td>\n",
       "      <td>NaN</td>\n",
       "      <td>NaN</td>\n",
       "      <td>NaN</td>\n",
       "      <td>NaN</td>\n",
       "      <td>Biomarkers of Developmental Trajectories and T...</td>\n",
       "    </tr>\n",
       "    <tr>\n",
       "      <th>133</th>\n",
       "      <td>45423</td>\n",
       "      <td>2026</td>\n",
       "      <td>448729</td>\n",
       "      <td>10880</td>\n",
       "      <td>NDAREM082UMN</td>\n",
       "      <td>TD155</td>\n",
       "      <td>04/17/2016</td>\n",
       "      <td>204</td>\n",
       "      <td>M</td>\n",
       "      <td>NaN</td>\n",
       "      <td>...</td>\n",
       "      <td>NaN</td>\n",
       "      <td>NaN</td>\n",
       "      <td>NaN</td>\n",
       "      <td>NaN</td>\n",
       "      <td>NaN</td>\n",
       "      <td>NaN</td>\n",
       "      <td>NaN</td>\n",
       "      <td>NaN</td>\n",
       "      <td>NaN</td>\n",
       "      <td>Biomarkers of Developmental Trajectories and T...</td>\n",
       "    </tr>\n",
       "    <tr>\n",
       "      <th>134</th>\n",
       "      <td>45424</td>\n",
       "      <td>2026</td>\n",
       "      <td>448730</td>\n",
       "      <td>10880</td>\n",
       "      <td>NDARAT927UCZ</td>\n",
       "      <td>TD156</td>\n",
       "      <td>03/21/2016</td>\n",
       "      <td>174</td>\n",
       "      <td>M</td>\n",
       "      <td>NaN</td>\n",
       "      <td>...</td>\n",
       "      <td>NaN</td>\n",
       "      <td>NaN</td>\n",
       "      <td>NaN</td>\n",
       "      <td>NaN</td>\n",
       "      <td>NaN</td>\n",
       "      <td>NaN</td>\n",
       "      <td>NaN</td>\n",
       "      <td>NaN</td>\n",
       "      <td>NaN</td>\n",
       "      <td>Biomarkers of Developmental Trajectories and T...</td>\n",
       "    </tr>\n",
       "  </tbody>\n",
       "</table>\n",
       "<p>135 rows × 113 columns</p>\n",
       "</div>"
      ],
      "text/plain": [
       "     Unnamed: 0  collection_id  image03_id  dataset_id        subjectkey  \\\n",
       "0           155           2026      207135        8720      NDARJW686PWM   \n",
       "1           156           2026      207136        8720      NDARMU914RMX   \n",
       "2           157           2026      207150        8720      NDARJW686PWM   \n",
       "3           158           2026      207151        8720      NDARMU914RMX   \n",
       "4           299           2026      351066        9074      NDARFW153HEP   \n",
       "..          ...            ...         ...         ...               ...   \n",
       "130       45420           2026      448726       10880      NDARPH177CKJ   \n",
       "131       45421           2026      448727       10880  NDAR_INVVH261PTZ   \n",
       "132       45422           2026      448728       10880  NDAR_INVXR271BVJ   \n",
       "133       45423           2026      448729       10880      NDAREM082UMN   \n",
       "134       45424           2026      448730       10880      NDARAT927UCZ   \n",
       "\n",
       "    src_subject_id interview_date  interview_age sex  comments_misc  ...  \\\n",
       "0       ASD80C_CCN     07/11/2013            160   M            NaN  ...   \n",
       "1      ASD117C_CCN     07/22/2013            161   M            NaN  ...   \n",
       "2       ASD80C_CCN     07/11/2013            160   M            NaN  ...   \n",
       "3      ASD117C_CCN     07/22/2013            161   M            NaN  ...   \n",
       "4           TD125C     07/19/2013            169   M            NaN  ...   \n",
       "..             ...            ...            ...  ..            ...  ...   \n",
       "130          TD130     04/02/2016            197   M            NaN  ...   \n",
       "131          TD153     02/06/2016            196   M            NaN  ...   \n",
       "132          TD154     03/24/2016            210   M            NaN  ...   \n",
       "133          TD155     04/17/2016            204   M            NaN  ...   \n",
       "134          TD156     03/21/2016            174   M            NaN  ...   \n",
       "\n",
       "    in_stack decon_template_name stack  slices slice_number slice_thickness  \\\n",
       "0        NaN                 NaN   NaN     NaN          NaN             NaN   \n",
       "1        NaN                 NaN   NaN     NaN          NaN             NaN   \n",
       "2        NaN                 NaN   NaN     NaN          NaN             NaN   \n",
       "3        NaN                 NaN   NaN     NaN          NaN             NaN   \n",
       "4        NaN                 NaN   NaN     NaN          NaN             NaN   \n",
       "..       ...                 ...   ...     ...          ...             ...   \n",
       "130      NaN                 NaN   NaN     NaN          NaN             NaN   \n",
       "131      NaN                 NaN   NaN     NaN          NaN             NaN   \n",
       "132      NaN                 NaN   NaN     NaN          NaN             NaN   \n",
       "133      NaN                 NaN   NaN     NaN          NaN             NaN   \n",
       "134      NaN                 NaN   NaN     NaN          NaN             NaN   \n",
       "\n",
       "    type_of_microscopy  excitation_wavelength  year_mta  \\\n",
       "0                  NaN                    NaN       NaN   \n",
       "1                  NaN                    NaN       NaN   \n",
       "2                  NaN                    NaN       NaN   \n",
       "3                  NaN                    NaN       NaN   \n",
       "4                  NaN                    NaN       NaN   \n",
       "..                 ...                    ...       ...   \n",
       "130                NaN                    NaN       NaN   \n",
       "131                NaN                    NaN       NaN   \n",
       "132                NaN                    NaN       NaN   \n",
       "133                NaN                    NaN       NaN   \n",
       "134                NaN                    NaN       NaN   \n",
       "\n",
       "                                      collection_title  \n",
       "0    Biomarkers of Developmental Trajectories and T...  \n",
       "1    Biomarkers of Developmental Trajectories and T...  \n",
       "2    Biomarkers of Developmental Trajectories and T...  \n",
       "3    Biomarkers of Developmental Trajectories and T...  \n",
       "4    Biomarkers of Developmental Trajectories and T...  \n",
       "..                                                 ...  \n",
       "130  Biomarkers of Developmental Trajectories and T...  \n",
       "131  Biomarkers of Developmental Trajectories and T...  \n",
       "132  Biomarkers of Developmental Trajectories and T...  \n",
       "133  Biomarkers of Developmental Trajectories and T...  \n",
       "134  Biomarkers of Developmental Trajectories and T...  \n",
       "\n",
       "[135 rows x 113 columns]"
      ]
     },
     "execution_count": 9,
     "metadata": {},
     "output_type": "execute_result"
    }
   ],
   "source": [
    "df"
   ]
  },
  {
   "cell_type": "code",
   "execution_count": null,
   "id": "8de161a5-ddb7-456f-95aa-f9b9c147218e",
   "metadata": {},
   "outputs": [],
   "source": []
  },
  {
   "cell_type": "code",
   "execution_count": null,
   "id": "0af8445a-af10-4e3c-8fd6-a8c196868a47",
   "metadata": {},
   "outputs": [],
   "source": []
  }
 ],
 "metadata": {
  "kernelspec": {
   "display_name": "Python 3",
   "language": "python",
   "name": "python3"
  },
  "language_info": {
   "codemirror_mode": {
    "name": "ipython",
    "version": 3
   },
   "file_extension": ".py",
   "mimetype": "text/x-python",
   "name": "python",
   "nbconvert_exporter": "python",
   "pygments_lexer": "ipython3",
   "version": "3.8.8"
  }
 },
 "nbformat": 4,
 "nbformat_minor": 5
}
