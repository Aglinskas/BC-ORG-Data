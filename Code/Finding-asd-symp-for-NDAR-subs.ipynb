{
 "cells": [
  {
   "cell_type": "code",
   "execution_count": 2,
   "id": "8b11df44-96c8-4735-8db3-e973e2177113",
   "metadata": {},
   "outputs": [],
   "source": [
    "import pandas as pd"
   ]
  },
  {
   "cell_type": "code",
   "execution_count": 3,
   "id": "c5326228-68db-406c-a620-28ed1722721f",
   "metadata": {},
   "outputs": [
    {
     "data": {
      "text/plain": [
       "'/mmfs1/data/pijarj/BC-ORG-Data/Code'"
      ]
     },
     "execution_count": 3,
     "metadata": {},
     "output_type": "execute_result"
    }
   ],
   "source": [
    "pwd"
   ]
  },
  {
   "cell_type": "code",
   "execution_count": 4,
   "id": "c6654561-6a15-437d-a391-e0b2f4d462e1",
   "metadata": {},
   "outputs": [
    {
     "name": "stdout",
     "output_type": "stream",
     "text": [
      "/mmfs1/data/pijarj/BC-ORG-Data/Data\n"
     ]
    }
   ],
   "source": [
    "cd ../Data"
   ]
  },
  {
   "cell_type": "code",
   "execution_count": 5,
   "id": "e2387f72-f784-4a98-8a62-efca78c20371",
   "metadata": {},
   "outputs": [
    {
     "name": "stdout",
     "output_type": "stream",
     "text": [
      "0      False\n",
      "1      False\n",
      "2      False\n",
      "3      False\n",
      "4      False\n",
      "       ...  \n",
      "778    False\n",
      "779    False\n",
      "780    False\n",
      "781    False\n",
      "782    False\n",
      "Name: subjectkey, Length: 783, dtype: bool\n"
     ]
    },
    {
     "data": {
      "text/plain": [
       "False    783\n",
       "Name: subjectkey, dtype: int64"
      ]
     },
     "execution_count": 5,
     "metadata": {},
     "output_type": "execute_result"
    }
   ],
   "source": [
    "#checking to see if subjects in Mapping Thalamocortical Networks Across Development in ASD match those in casi01\n",
    "cf = pd.read_csv('DS2075.csv')\n",
    "df = pd.read_csv('casi01.csv')\n",
    "same_subjects = cf['subjectkey'].isin(df['subjectkey'])\n",
    "print(same_subjects)\n",
    "same_subjects.value_counts()"
   ]
  },
  {
   "cell_type": "code",
   "execution_count": 35,
   "id": "4b916edb-c9d0-48d8-942d-161036a9f197",
   "metadata": {},
   "outputs": [],
   "source": [
    "ef = pd.read_csv('general_csv.csv')\n",
    "ff = ef[ef['collection_title']=='Intrinsic Brain Architecture of Young Children with Autism While Awake and Asleep']\n",
    "ff.to_csv('DS2072.csv')"
   ]
  },
  {
   "cell_type": "code",
   "execution_count": 41,
   "id": "50a9cf38-8d60-4de2-8416-5361d2abff5a",
   "metadata": {},
   "outputs": [
    {
     "name": "stdout",
     "output_type": "stream",
     "text": [
      "0      False\n",
      "1      False\n",
      "2      False\n",
      "3      False\n",
      "4      False\n",
      "       ...  \n",
      "115    False\n",
      "116    False\n",
      "117    False\n",
      "118    False\n",
      "119    False\n",
      "Name: subjectkey, Length: 120, dtype: bool\n"
     ]
    },
    {
     "data": {
      "text/plain": [
       "False    120\n",
       "Name: subjectkey, dtype: int64"
      ]
     },
     "execution_count": 41,
     "metadata": {},
     "output_type": "execute_result"
    }
   ],
   "source": [
    "#checking to see if subjects in Intrinsic Brain Architecture of Young Children with Autism While Awake and Asleep match those in casi01\n",
    "ff = pd.read_csv('DS2072.csv')\n",
    "df = pd.read_csv('casi01.csv')\n",
    "same_subject = ff['subjectkey'].isin(df['subjectkey'])\n",
    "print(same_subject)\n",
    "same_subject.value_counts()"
   ]
  },
  {
   "cell_type": "code",
   "execution_count": 37,
   "id": "0c38fbf0-be83-4321-860c-ce07e6c565ef",
   "metadata": {},
   "outputs": [],
   "source": [
    "ef = pd.read_csv('general_csv.csv')\n",
    "gf = ef[ef['collection_title']=='Multimodal Developmental Neurogenetics of Females with ASD']\n",
    "gf.to_csv('DS2021.csv')"
   ]
  },
  {
   "cell_type": "code",
   "execution_count": 40,
   "id": "89e4433c-8e7a-4f5b-8895-1ac944cbac0e",
   "metadata": {},
   "outputs": [
    {
     "name": "stdout",
     "output_type": "stream",
     "text": [
      "0       True\n",
      "1      False\n",
      "2      False\n",
      "3      False\n",
      "4       True\n",
      "       ...  \n",
      "418    False\n",
      "419    False\n",
      "420    False\n",
      "421     True\n",
      "422    False\n",
      "Name: subjectkey, Length: 423, dtype: bool\n"
     ]
    },
    {
     "data": {
      "text/plain": [
       "False    304\n",
       "True     119\n",
       "Name: subjectkey, dtype: int64"
      ]
     },
     "execution_count": 40,
     "metadata": {},
     "output_type": "execute_result"
    }
   ],
   "source": [
    "#checking to see if subjects in Multimodal Developmental Neurogenetics of Females with ASD match those in casi01\n",
    "gf = pd.read_csv('DS2021.csv')\n",
    "df = pd.read_csv('casi01.csv')\n",
    "sames_subject = gf['subjectkey'].isin(df['subjectkey'])\n",
    "print(sames_subject)\n",
    "sames_subject.value_counts()"
   ]
  },
  {
   "cell_type": "code",
   "execution_count": null,
   "id": "93e97a4c-ab76-48c7-bf60-92f95c18565a",
   "metadata": {},
   "outputs": [],
   "source": []
  },
  {
   "cell_type": "code",
   "execution_count": null,
   "id": "96d1acc7-fb11-4500-8e37-77ed186601b7",
   "metadata": {},
   "outputs": [],
   "source": []
  },
  {
   "cell_type": "code",
   "execution_count": null,
   "id": "7460685a-df46-4551-bf5d-4bf552ab6ce7",
   "metadata": {},
   "outputs": [],
   "source": []
  }
 ],
 "metadata": {
  "kernelspec": {
   "display_name": "Python 3",
   "language": "python",
   "name": "python3"
  },
  "language_info": {
   "codemirror_mode": {
    "name": "ipython",
    "version": 3
   },
   "file_extension": ".py",
   "mimetype": "text/x-python",
   "name": "python",
   "nbconvert_exporter": "python",
   "pygments_lexer": "ipython3",
   "version": "3.8.8"
  }
 },
 "nbformat": 4,
 "nbformat_minor": 5
}
