{
 "cells": [
  {
   "cell_type": "code",
   "execution_count": 1,
   "id": "405e308f-bd88-4d9a-a9da-52afcaf08a67",
   "metadata": {
    "execution": {
     "iopub.execute_input": "2022-07-20T16:24:00.044578Z",
     "iopub.status.busy": "2022-07-20T16:24:00.043953Z",
     "iopub.status.idle": "2022-07-20T16:24:00.211224Z",
     "shell.execute_reply": "2022-07-20T16:24:00.211673Z"
    },
    "papermill": {
     "duration": 0.185336,
     "end_time": "2022-07-20T16:24:00.211967",
     "exception": false,
     "start_time": "2022-07-20T16:24:00.026631",
     "status": "completed"
    },
    "tags": []
   },
   "outputs": [
    {
     "name": "stdout",
     "output_type": "stream",
     "text": [
      "Wed Jul 20 12:24:00 EDT 2022\r\n"
     ]
    }
   ],
   "source": [
    "!date"
   ]
  },
  {
   "cell_type": "code",
   "execution_count": 2,
   "id": "81b8d8b0-e400-4313-866f-bc4456cc5901",
   "metadata": {
    "execution": {
     "iopub.execute_input": "2022-07-20T16:24:00.253247Z",
     "iopub.status.busy": "2022-07-20T16:24:00.252705Z",
     "iopub.status.idle": "2022-07-20T16:24:00.255716Z",
     "shell.execute_reply": "2022-07-20T16:24:00.256112Z"
    },
    "papermill": {
     "duration": 0.025384,
     "end_time": "2022-07-20T16:24:00.256271",
     "exception": false,
     "start_time": "2022-07-20T16:24:00.230887",
     "status": "completed"
    },
    "tags": []
   },
   "outputs": [
    {
     "data": {
      "text/plain": [
       "'/mmfs1/data/pijarj/BC-ORG-Data/Code'"
      ]
     },
     "execution_count": 2,
     "metadata": {},
     "output_type": "execute_result"
    }
   ],
   "source": [
    "pwd"
   ]
  },
  {
   "cell_type": "code",
   "execution_count": 3,
   "id": "d015a7b7-3a67-45a8-923b-b82322b37522",
   "metadata": {
    "execution": {
     "iopub.execute_input": "2022-07-20T16:24:00.288099Z",
     "iopub.status.busy": "2022-07-20T16:24:00.287572Z",
     "iopub.status.idle": "2022-07-20T16:24:00.295670Z",
     "shell.execute_reply": "2022-07-20T16:24:00.296111Z"
    },
    "papermill": {
     "duration": 0.028298,
     "end_time": "2022-07-20T16:24:00.296348",
     "exception": false,
     "start_time": "2022-07-20T16:24:00.268050",
     "status": "completed"
    },
    "tags": []
   },
   "outputs": [
    {
     "name": "stdout",
     "output_type": "stream",
     "text": [
      "/mmfs1/data/pijarj/BC-ORG-Data/Data\n"
     ]
    }
   ],
   "source": [
    "cd ../Data"
   ]
  },
  {
   "cell_type": "code",
   "execution_count": 4,
   "id": "d5a45cf0-6591-4ac8-ad7a-10ccc30e4b2b",
   "metadata": {
    "execution": {
     "iopub.execute_input": "2022-07-20T16:24:00.325621Z",
     "iopub.status.busy": "2022-07-20T16:24:00.325141Z",
     "iopub.status.idle": "2022-07-20T16:24:08.356508Z",
     "shell.execute_reply": "2022-07-20T16:24:08.356885Z"
    },
    "papermill": {
     "duration": 8.048321,
     "end_time": "2022-07-20T16:24:08.357040",
     "exception": false,
     "start_time": "2022-07-20T16:24:00.308719",
     "status": "completed"
    },
    "tags": []
   },
   "outputs": [
    {
     "name": "stdout",
     "output_type": "stream",
     "text": [
      "CPU times: user 2.45 s, sys: 981 ms, total: 3.43 s\n",
      "Wall time: 8.01 s\n"
     ]
    }
   ],
   "source": [
    "%%time\n",
    "import pandas as pd\n",
    "import os\n",
    "import shutil\n",
    "import numpy as np\n",
    "from tqdm import tqdm\n",
    "import ants\n",
    "import nibabel as nib"
   ]
  },
  {
   "cell_type": "code",
   "execution_count": 5,
   "id": "426f3691-550a-4fef-8c3b-b3e3ec5d7188",
   "metadata": {
    "execution": {
     "iopub.execute_input": "2022-07-20T16:24:08.388528Z",
     "iopub.status.busy": "2022-07-20T16:24:08.387929Z",
     "iopub.status.idle": "2022-07-20T16:24:11.385113Z",
     "shell.execute_reply": "2022-07-20T16:24:11.385487Z"
    },
    "papermill": {
     "duration": 3.01445,
     "end_time": "2022-07-20T16:24:11.385644",
     "exception": false,
     "start_time": "2022-07-20T16:24:08.371194",
     "status": "completed"
    },
    "tags": []
   },
   "outputs": [],
   "source": [
    "#make txt file into csv\n",
    "read_file = pd.read_csv ('/mmfs1/data/pijarj/NDAR_BoldAnat10/image03.txt',delimiter='\\t',low_memory=False)\n",
    "read_file.to_csv ('/mmfs1/data/pijarj/BC-ORG-Data/Data/image03.csv', index=0)"
   ]
  },
  {
   "cell_type": "code",
   "execution_count": null,
   "id": "fc43eaa4-2e70-4c3a-8fea-ad6af88da935",
   "metadata": {
    "papermill": {
     "duration": 0.012341,
     "end_time": "2022-07-20T16:24:11.414022",
     "exception": false,
     "start_time": "2022-07-20T16:24:11.401681",
     "status": "completed"
    },
    "tags": []
   },
   "outputs": [],
   "source": []
  },
  {
   "cell_type": "code",
   "execution_count": 6,
   "id": "0469c9e0-ddf5-4a1d-b3e2-4cfa9c439717",
   "metadata": {
    "execution": {
     "iopub.execute_input": "2022-07-20T16:24:11.445554Z",
     "iopub.status.busy": "2022-07-20T16:24:11.445034Z",
     "iopub.status.idle": "2022-07-20T16:24:13.054212Z",
     "shell.execute_reply": "2022-07-20T16:24:13.054595Z"
    },
    "papermill": {
     "duration": 1.628487,
     "end_time": "2022-07-20T16:24:13.054748",
     "exception": false,
     "start_time": "2022-07-20T16:24:11.426261",
     "status": "completed"
    },
    "tags": []
   },
   "outputs": [
    {
     "name": "stdout",
     "output_type": "stream",
     "text": [
      "2338\n",
      "../Data/DS2338.csv\n",
      "303\n",
      "52\n"
     ]
    }
   ],
   "source": [
    "#slice general csv into dataset\n",
    "\n",
    "# Drops non nii or nii.gz types\n",
    "df = pd.read_csv('image03.csv',low_memory=False)\n",
    "df = df.iloc[1::] # First row is just another index, let's drop it\n",
    "df['image_file'] = df['image_file'].astype(str) # convert entries to strings (so nan become 'nan')\n",
    "\n",
    "df['is_nii_gz'] = [str(file).endswith('.nii.gz') for file in df['image_file'].values]\n",
    "df['is_nii'] = [str(file).endswith('.nii') for file in df['image_file'].values]\n",
    "\n",
    "# only keep the niftis \n",
    "df = df.iloc[df['is_nii_gz'].values + df['is_nii'].values] #\n",
    "\n",
    "#study_name = 'Biomarkers of Developmental Trajectories and Treatment in ASD'\n",
    "#study_name = 'Predictors and Mechanisms of Conversion to Psychosis (NAPLS3)'\n",
    "#study_name = 'Cognitive and Neural Flexibility in Autism'\n",
    "study_name = 'Multimodal Imaging of Early Neural Signature in Autism Spectrum Disorder'\n",
    "study_df = df[df['collection_title']==study_name]\n",
    "\n",
    "if len(study_df)==0:\n",
    "    print('no usable scans')\n",
    "else:\n",
    "    col_id = study_df['collection_id'].values[0]\n",
    "    print(col_id)\n",
    "    study_df.to_csv(f'../Data/DS{col_id}.csv')\n",
    "    print(f'../Data/DS{col_id}.csv')\n",
    "    print(len(study_df))\n",
    "    print(len(study_df['subjectkey'].unique()))"
   ]
  },
  {
   "cell_type": "code",
   "execution_count": 7,
   "id": "e1092b5a-fa16-4b51-ab56-78d8093b7261",
   "metadata": {
    "execution": {
     "iopub.execute_input": "2022-07-20T16:24:13.084534Z",
     "iopub.status.busy": "2022-07-20T16:24:13.084044Z",
     "iopub.status.idle": "2022-07-20T16:24:13.088576Z",
     "shell.execute_reply": "2022-07-20T16:24:13.088962Z"
    },
    "papermill": {
     "duration": 0.021467,
     "end_time": "2022-07-20T16:24:13.089137",
     "exception": false,
     "start_time": "2022-07-20T16:24:13.067670",
     "status": "completed"
    },
    "tags": []
   },
   "outputs": [
    {
     "name": "stdout",
     "output_type": "stream",
     "text": [
      "/mmfs1/data/pijarj\n"
     ]
    }
   ],
   "source": [
    "cd ../../"
   ]
  },
  {
   "cell_type": "code",
   "execution_count": 8,
   "id": "6a48fce4-27e2-4111-9343-1e51764ee384",
   "metadata": {
    "execution": {
     "iopub.execute_input": "2022-07-20T16:24:13.119858Z",
     "iopub.status.busy": "2022-07-20T16:24:13.119396Z",
     "iopub.status.idle": "2022-07-20T16:24:13.319462Z",
     "shell.execute_reply": "2022-07-20T16:24:13.319835Z"
    },
    "papermill": {
     "duration": 0.218209,
     "end_time": "2022-07-20T16:24:13.320003",
     "exception": false,
     "start_time": "2022-07-20T16:24:13.101794",
     "status": "completed"
    },
    "tags": []
   },
   "outputs": [
    {
     "name": "stdout",
     "output_type": "stream",
     "text": [
      "mkdir: cannot create directory ‘ds-2338’: File exists\r\n"
     ]
    }
   ],
   "source": [
    "mkdir 'ds-{col_id}'"
   ]
  },
  {
   "cell_type": "code",
   "execution_count": 9,
   "id": "1a446499-f84c-4ab6-b911-e273878a7e99",
   "metadata": {
    "execution": {
     "iopub.execute_input": "2022-07-20T16:24:13.352630Z",
     "iopub.status.busy": "2022-07-20T16:24:13.352223Z",
     "iopub.status.idle": "2022-07-20T16:24:13.355660Z",
     "shell.execute_reply": "2022-07-20T16:24:13.355159Z"
    },
    "papermill": {
     "duration": 0.020319,
     "end_time": "2022-07-20T16:24:13.355778",
     "exception": false,
     "start_time": "2022-07-20T16:24:13.335459",
     "status": "completed"
    },
    "tags": []
   },
   "outputs": [
    {
     "name": "stdout",
     "output_type": "stream",
     "text": [
      "/mmfs1/data/pijarj/BC-ORG-Data/Data\n"
     ]
    }
   ],
   "source": [
    "cd ~/BC-ORG-Data/Data"
   ]
  },
  {
   "cell_type": "code",
   "execution_count": 10,
   "id": "5447613b-25b6-4def-ade6-0e181f36ee22",
   "metadata": {
    "execution": {
     "iopub.execute_input": "2022-07-20T16:24:13.386273Z",
     "iopub.status.busy": "2022-07-20T16:24:13.385830Z",
     "iopub.status.idle": "2022-07-20T16:24:13.387436Z",
     "shell.execute_reply": "2022-07-20T16:24:13.387769Z"
    },
    "papermill": {
     "duration": 0.018608,
     "end_time": "2022-07-20T16:24:13.387899",
     "exception": false,
     "start_time": "2022-07-20T16:24:13.369291",
     "status": "completed"
    },
    "tags": []
   },
   "outputs": [],
   "source": [
    "# df = pd.read_csv(f'../Data/DS{col_id}.csv')\n",
    "# df['is_nii_gz'] = [file.endswith('.nii.gz') for file in df['image_file'].values]\n",
    "# df = df[df['is_nii_gz']]"
   ]
  },
  {
   "cell_type": "code",
   "execution_count": 11,
   "id": "61a988b0-1e30-4608-89d7-4dd961495785",
   "metadata": {
    "execution": {
     "iopub.execute_input": "2022-07-20T16:24:13.420424Z",
     "iopub.status.busy": "2022-07-20T16:24:13.419926Z",
     "iopub.status.idle": "2022-07-20T16:24:13.422274Z",
     "shell.execute_reply": "2022-07-20T16:24:13.421860Z"
    },
    "papermill": {
     "duration": 0.021266,
     "end_time": "2022-07-20T16:24:13.422395",
     "exception": false,
     "start_time": "2022-07-20T16:24:13.401129",
     "status": "completed"
    },
    "tags": []
   },
   "outputs": [],
   "source": [
    "def safe_mkdir(path):\n",
    "    if not os.path.exists(path):\n",
    "        os.mkdir(path)\n",
    "    else:\n",
    "        pass"
   ]
  },
  {
   "cell_type": "code",
   "execution_count": 12,
   "id": "eea4b3e3-2269-4f81-bb82-dde328f30cbd",
   "metadata": {
    "execution": {
     "iopub.execute_input": "2022-07-20T16:24:13.456194Z",
     "iopub.status.busy": "2022-07-20T16:24:13.455702Z",
     "iopub.status.idle": "2022-07-20T16:24:13.457587Z",
     "shell.execute_reply": "2022-07-20T16:24:13.457934Z"
    },
    "papermill": {
     "duration": 0.02087,
     "end_time": "2022-07-20T16:24:13.458114",
     "exception": false,
     "start_time": "2022-07-20T16:24:13.437244",
     "status": "completed"
    },
    "tags": []
   },
   "outputs": [],
   "source": [
    "def write_json(data,filepath):\n",
    "    import json\n",
    "    with open(filepath, 'w') as outfile:\n",
    "        json.dump(data, outfile)"
   ]
  },
  {
   "cell_type": "code",
   "execution_count": 13,
   "id": "7f4796b3-d375-41cd-bfc1-6391d5e48dcb",
   "metadata": {
    "execution": {
     "iopub.execute_input": "2022-07-20T16:24:13.493775Z",
     "iopub.status.busy": "2022-07-20T16:24:13.493282Z",
     "iopub.status.idle": "2022-07-20T16:24:13.495727Z",
     "shell.execute_reply": "2022-07-20T16:24:13.496093Z"
    },
    "papermill": {
     "duration": 0.02344,
     "end_time": "2022-07-20T16:24:13.496263",
     "exception": false,
     "start_time": "2022-07-20T16:24:13.472823",
     "status": "completed"
    },
    "tags": []
   },
   "outputs": [
    {
     "name": "stdout",
     "output_type": "stream",
     "text": [
      "52 unique subjects\n"
     ]
    }
   ],
   "source": [
    "#check for unique subjects with both func and anat\n",
    "#study_df = pd.read_csv(f'../Data/DS{col_id}.csv')\n",
    "study_subjects = np.unique(study_df['subjectkey'].values)\n",
    "nsubjects = len(study_subjects)\n",
    "print(f'{nsubjects} unique subjects')\n",
    "def check_has_anat_and_epi(sub):\n",
    "    sub_df = study_df.iloc[study_df['subjectkey'].values==sub]\n",
    "    fmri_idx = sub_df['scan_type'].values=='fMRI'\n",
    "    #anat_idx = sub_df['scan_type'].values in ['MR structural (T1)','MR structural (MPRAGE)']\n",
    "    anat_idx = sub_df['scan_type'].isin(['MR structural (T1)','MR structural (MPRAGE)']).values\n",
    "    return fmri_idx.sum()>0 and anat_idx.sum()>0"
   ]
  },
  {
   "cell_type": "code",
   "execution_count": 14,
   "id": "2035f839-2694-49e7-a475-a8c30721435f",
   "metadata": {
    "execution": {
     "iopub.execute_input": "2022-07-20T16:24:13.529986Z",
     "iopub.status.busy": "2022-07-20T16:24:13.529498Z",
     "iopub.status.idle": "2022-07-20T16:24:13.531769Z",
     "shell.execute_reply": "2022-07-20T16:24:13.531368Z"
    },
    "papermill": {
     "duration": 0.020771,
     "end_time": "2022-07-20T16:24:13.531883",
     "exception": false,
     "start_time": "2022-07-20T16:24:13.511112",
     "status": "completed"
    },
    "tags": []
   },
   "outputs": [],
   "source": [
    "ndar_root = '/mmfs1/data/pijarj/NDAR_BoldAnat10/' \n",
    "bids_root = '/mmfs1/data/pijarj/'"
   ]
  },
  {
   "cell_type": "code",
   "execution_count": 15,
   "id": "48b98356-f752-40ff-8f51-d17ab31022fb",
   "metadata": {
    "execution": {
     "iopub.execute_input": "2022-07-20T16:24:13.571069Z",
     "iopub.status.busy": "2022-07-20T16:24:13.568982Z",
     "iopub.status.idle": "2022-07-20T16:24:13.600719Z",
     "shell.execute_reply": "2022-07-20T16:24:13.601096Z"
    },
    "papermill": {
     "duration": 0.054077,
     "end_time": "2022-07-20T16:24:13.601264",
     "exception": false,
     "start_time": "2022-07-20T16:24:13.547187",
     "status": "completed"
    },
    "tags": []
   },
   "outputs": [],
   "source": [
    "has_anat_and_epi = np.array([check_has_anat_and_epi(s) for s in study_subjects])"
   ]
  },
  {
   "cell_type": "code",
   "execution_count": 16,
   "id": "71c8f2e6-e1c8-44ed-a64c-e11997bc3f87",
   "metadata": {
    "execution": {
     "iopub.execute_input": "2022-07-20T16:24:13.636555Z",
     "iopub.status.busy": "2022-07-20T16:24:13.636086Z",
     "iopub.status.idle": "2022-07-20T16:24:13.638457Z",
     "shell.execute_reply": "2022-07-20T16:24:13.638814Z"
    },
    "papermill": {
     "duration": 0.022673,
     "end_time": "2022-07-20T16:24:13.638983",
     "exception": false,
     "start_time": "2022-07-20T16:24:13.616310",
     "status": "completed"
    },
    "tags": []
   },
   "outputs": [
    {
     "name": "stdout",
     "output_type": "stream",
     "text": [
      "52 subjects with anat + fmri\n"
     ]
    }
   ],
   "source": [
    "#find subjects with anat and func\n",
    "use_subjects = study_subjects[has_anat_and_epi]\n",
    "nsubjects = len(use_subjects)\n",
    "print(f'{nsubjects} subjects with anat + fmri')"
   ]
  },
  {
   "cell_type": "code",
   "execution_count": 17,
   "id": "8eb2a4bc-46e6-4393-9c5b-6ff1624738cb",
   "metadata": {
    "execution": {
     "iopub.execute_input": "2022-07-20T16:24:13.675097Z",
     "iopub.status.busy": "2022-07-20T16:24:13.674627Z",
     "iopub.status.idle": "2022-07-20T16:24:13.803832Z",
     "shell.execute_reply": "2022-07-20T16:24:13.804195Z"
    },
    "papermill": {
     "duration": 0.149763,
     "end_time": "2022-07-20T16:24:13.804360",
     "exception": false,
     "start_time": "2022-07-20T16:24:13.654597",
     "status": "completed"
    },
    "tags": []
   },
   "outputs": [
    {
     "name": "stderr",
     "output_type": "stream",
     "text": [
      "\r",
      "  0%|                                                                                                                                 | 0/52 [00:00<?, ?it/s]"
     ]
    },
    {
     "name": "stderr",
     "output_type": "stream",
     "text": [
      "\r",
      " 87%|██████████████████████████████████████████████████████████████████████████████████████████████████████▉                | 45/52 [00:00<00:00, 446.46it/s]"
     ]
    },
    {
     "name": "stderr",
     "output_type": "stream",
     "text": [
      "\r",
      "100%|███████████████████████████████████████████████████████████████████████████████████████████████████████████████████████| 52/52 [00:00<00:00, 426.51it/s]"
     ]
    },
    {
     "name": "stderr",
     "output_type": "stream",
     "text": [
      "\n"
     ]
    }
   ],
   "source": [
    "# MAKE THE BIDS DIRECTORY\n",
    "safe_mkdir(os.path.join(bids_root,f'DS{col_id}.csv'))\n",
    "for s in tqdm(range(1,nsubjects+1)):\n",
    "    safe_mkdir(os.path.join(bids_root,f'ds-{col_id}',f'sub-{s:03d}'))\n",
    "    safe_mkdir(os.path.join(bids_root,f'ds-{col_id}',f'sub-{s:03d}','func'))\n",
    "    safe_mkdir(os.path.join(bids_root,f'ds-{col_id}',f'sub-{s:03d}','anat'))"
   ]
  },
  {
   "cell_type": "code",
   "execution_count": 18,
   "id": "302de894-5238-4f49-88b8-51c7f4a92bbd",
   "metadata": {
    "execution": {
     "iopub.execute_input": "2022-07-20T16:24:13.842887Z",
     "iopub.status.busy": "2022-07-20T16:24:13.842411Z",
     "iopub.status.idle": "2022-07-20T16:24:14.158183Z",
     "shell.execute_reply": "2022-07-20T16:24:14.158527Z"
    },
    "papermill": {
     "duration": 0.338112,
     "end_time": "2022-07-20T16:24:14.158697",
     "exception": false,
     "start_time": "2022-07-20T16:24:13.820585",
     "status": "completed"
    },
    "tags": []
   },
   "outputs": [
    {
     "name": "stderr",
     "output_type": "stream",
     "text": [
      "\r",
      "  0%|                                                                                                                                | 0/303 [00:00<?, ?it/s]"
     ]
    },
    {
     "name": "stderr",
     "output_type": "stream",
     "text": [
      "\r",
      " 27%|███████████████████████████████▌                                                                                      | 81/303 [00:00<00:00, 807.45it/s]"
     ]
    },
    {
     "name": "stderr",
     "output_type": "stream",
     "text": [
      "\r",
      " 67%|█████████████████████████████████████████████████████████████████████████████▎                                      | 202/303 [00:00<00:00, 1036.81it/s]"
     ]
    },
    {
     "name": "stderr",
     "output_type": "stream",
     "text": [
      "\r",
      "100%|█████████████████████████████████████████████████████████████████████████████████████████████████████████████████████| 303/303 [00:00<00:00, 975.85it/s]"
     ]
    },
    {
     "name": "stderr",
     "output_type": "stream",
     "text": [
      "\n"
     ]
    }
   ],
   "source": [
    "#making local paths column\n",
    "#df = pd.read_csv(f'DS{col_id}.csv')\n",
    "n = len(study_df)\n",
    "#root = './image03/'\n",
    "root = os.path.expanduser('~/NDAR_BoldAnat10/image03/')\n",
    "local_paths = list()\n",
    "for i in tqdm(range(n)):\n",
    "    s3_path = study_df['image_file'].values[i]\n",
    "    splits = s3_path.split('/')[4::]\n",
    "    relative = '/'.join(splits)\n",
    "    local_path = os.path.join(root,relative)\n",
    "    assert os.path.exists(os.path.join(root,relative))\n",
    "    local_paths.append(local_path)\n",
    "study_df['local_paths'] = local_paths"
   ]
  },
  {
   "cell_type": "code",
   "execution_count": null,
   "id": "01238176-b218-4188-a4c5-ca98b57e4be1",
   "metadata": {
    "papermill": {
     "duration": 0.017657,
     "end_time": "2022-07-20T16:24:14.194624",
     "exception": false,
     "start_time": "2022-07-20T16:24:14.176967",
     "status": "completed"
    },
    "tags": []
   },
   "outputs": [],
   "source": []
  },
  {
   "cell_type": "code",
   "execution_count": null,
   "id": "248eaae7-0115-4ba1-b44d-fd0ba9600c69",
   "metadata": {
    "papermill": {
     "duration": 0.017453,
     "end_time": "2022-07-20T16:24:14.229577",
     "exception": false,
     "start_time": "2022-07-20T16:24:14.212124",
     "status": "completed"
    },
    "tags": []
   },
   "outputs": [],
   "source": []
  },
  {
   "cell_type": "code",
   "execution_count": 19,
   "id": "df7f6da3-ef3a-40b5-badc-17ccda8368eb",
   "metadata": {
    "execution": {
     "iopub.execute_input": "2022-07-20T16:24:14.271536Z",
     "iopub.status.busy": "2022-07-20T16:24:14.270984Z"
    },
    "papermill": {
     "duration": null,
     "end_time": null,
     "exception": false,
     "start_time": "2022-07-20T16:24:14.247117",
     "status": "running"
    },
    "tags": []
   },
   "outputs": [
    {
     "name": "stderr",
     "output_type": "stream",
     "text": [
      "\r",
      "  0%|                                                                                                                                 | 0/52 [00:00<?, ?it/s]"
     ]
    },
    {
     "name": "stderr",
     "output_type": "stream",
     "text": [
      "\r",
      "  2%|██▎                                                                                                                   | 1/52 [03:20<2:50:34, 200.67s/it]"
     ]
    },
    {
     "name": "stderr",
     "output_type": "stream",
     "text": [
      "\r",
      "  4%|████▌                                                                                                                 | 2/52 [06:38<2:46:01, 199.22s/it]"
     ]
    },
    {
     "name": "stderr",
     "output_type": "stream",
     "text": [
      "\r",
      "  6%|██████▊                                                                                                               | 3/52 [09:49<2:39:40, 195.52s/it]"
     ]
    },
    {
     "name": "stderr",
     "output_type": "stream",
     "text": [
      "\r",
      "  8%|█████████                                                                                                             | 4/52 [12:49<2:31:16, 189.09s/it]"
     ]
    },
    {
     "name": "stderr",
     "output_type": "stream",
     "text": [
      "\r",
      " 10%|███████████▎                                                                                                          | 5/52 [15:50<2:25:50, 186.19s/it]"
     ]
    },
    {
     "name": "stderr",
     "output_type": "stream",
     "text": [
      "\r",
      " 12%|█████████████▌                                                                                                        | 6/52 [19:09<2:26:07, 190.59s/it]"
     ]
    },
    {
     "name": "stderr",
     "output_type": "stream",
     "text": [
      "\r",
      " 13%|███████████████▉                                                                                                      | 7/52 [22:16<2:21:59, 189.33s/it]"
     ]
    },
    {
     "name": "stderr",
     "output_type": "stream",
     "text": [
      "\r",
      " 15%|██████████████████▏                                                                                                   | 8/52 [25:19<2:17:24, 187.37s/it]"
     ]
    },
    {
     "name": "stderr",
     "output_type": "stream",
     "text": [
      "\r",
      " 17%|████████████████████▍                                                                                                 | 9/52 [28:33<2:15:51, 189.58s/it]"
     ]
    },
    {
     "name": "stderr",
     "output_type": "stream",
     "text": [
      "\r",
      " 19%|██████████████████████▌                                                                                              | 10/52 [31:38<2:11:34, 187.97s/it]"
     ]
    },
    {
     "name": "stderr",
     "output_type": "stream",
     "text": [
      "\r",
      " 21%|████████████████████████▊                                                                                            | 11/52 [34:49<2:09:09, 189.01s/it]"
     ]
    },
    {
     "name": "stderr",
     "output_type": "stream",
     "text": [
      "\r",
      " 23%|███████████████████████████                                                                                          | 12/52 [37:57<2:05:48, 188.71s/it]"
     ]
    },
    {
     "name": "stderr",
     "output_type": "stream",
     "text": [
      "\r",
      " 25%|█████████████████████████████▎                                                                                       | 13/52 [41:06<2:02:47, 188.90s/it]"
     ]
    }
   ],
   "source": [
    "for s in tqdm(range(0,nsubjects)):\n",
    "    sub = use_subjects[s]\n",
    "    sub_df = study_df.iloc[study_df['subjectkey'].values==sub]\n",
    "    fmri_idx = sub_df['scan_type'].values=='fMRI'\n",
    "#    anat_idx = sub_df['scan_type'].values=='MR structural (T1)'\n",
    "    anat_idx = sub_df['scan_type'].isin(['MR structural (T1)','MR structural (MPRAGE)']).values\n",
    "\n",
    "    epi_fn = sub_df.iloc[fmri_idx]['local_paths'].values[0]\n",
    "    anat_fn = sub_df.iloc[anat_idx]['local_paths'].values[0]\n",
    "\n",
    "#     #epi_path = os.path.join(ndar_root,epi_fn[1::])\n",
    "#     #anat_path = os.path.join(ndar_root,anat_fn[1::])\n",
    "    \n",
    "    epi_path = os.path.join(ndar_root,epi_fn)\n",
    "    anat_path = os.path.join(ndar_root,anat_fn)\n",
    "\n",
    "    \n",
    "#     # AA: Is this a problem? we're reading in .nii or .nii.gz but saving as .nii.gz always\n",
    "    epi_dest = os.path.join(bids_root,f'ds-{col_id}',f'sub-{s+1:03d}','func',f'sub-{s+1:03d}_task-rest_bold.nii.gz')\n",
    "    anat_dest = os.path.join(bids_root,f'ds-{col_id}',f'sub-{s+1:03d}','anat',f'sub-{s+1:03d}_T1w.nii.gz')\n",
    "\n",
    "    t1 = ants.image_read(anat_path) \n",
    "    bold = ants.image_read(epi_path)\n",
    "\n",
    "    t1.to_filename(anat_dest)\n",
    "    bold.to_filename(epi_dest)\n",
    "\n",
    "#     bold_json = {\"RepetitionTime\" : bold.spacing[-1],\n",
    "#                 \"TaskName\" : 'rest'}\n",
    "#     write_json(bold_json,epi_dest.replace('.nii.gz','.json')) \n",
    "#     im = nib.load(epi_dest)\n",
    "#     header = im.header.copy()\n",
    "#     header.set_xyzt_units(xyz='mm', t='sec')\n",
    "#     nib.nifti1.Nifti1Image(im.get_fdata(), None, header=header).to_filename(epi_dest)\n",
    "#     assert nib.load(epi_dest).header.get_xyzt_units()==('mm', 'sec'),'timing missing from header'"
   ]
  },
  {
   "cell_type": "code",
   "execution_count": null,
   "id": "5ba92b96-8e5d-4759-9513-081ba1d509c0",
   "metadata": {
    "papermill": {
     "duration": null,
     "end_time": null,
     "exception": null,
     "start_time": null,
     "status": "pending"
    },
    "tags": []
   },
   "outputs": [],
   "source": [
    "import json\n",
    "data = {\n",
    "    \"Name\" : study_df[\"collection_title\"].values[0] ,\n",
    "    \"RepetitionTime\": 2.0,\n",
    "    \"SliceTiming\" : 2.0 ,\n",
    "    \"TaskName\" : \"taskrest\" ,\n",
    "    \"BIDSVersion\" : \"20.2.0\"}\n",
    "json_string = json.dumps(data)\n",
    "print(json_string)\n",
    "with open(os.path.join(bids_root,f'ds-2026','dataset_description.json'), 'w') as outfile:\n",
    "    json.dump(json_string, outfile)"
   ]
  },
  {
   "cell_type": "code",
   "execution_count": null,
   "id": "6d76d336-1609-4ca5-a0ed-1470b07245be",
   "metadata": {
    "papermill": {
     "duration": null,
     "end_time": null,
     "exception": null,
     "start_time": null,
     "status": "pending"
    },
    "tags": []
   },
   "outputs": [],
   "source": []
  },
  {
   "cell_type": "code",
   "execution_count": null,
   "id": "ec60a7da-8e02-48de-8002-58cebfb0840f",
   "metadata": {
    "papermill": {
     "duration": null,
     "end_time": null,
     "exception": null,
     "start_time": null,
     "status": "pending"
    },
    "tags": []
   },
   "outputs": [],
   "source": [
    "# #copy the subjects into folders\n",
    "#s = 0\n",
    "#sub = use_subjects[s]\n",
    "#sub_df = study_df.iloc[study_df['subjectkey'].values==sub]\n",
    "#fmri_idx = sub_df['scan_type'].values=='fMRI'\n",
    "#anat_idx = sub_df['scan_type'].values=='MR structural (T1)'\n",
    "\n",
    "#epi_fn = sub_df.iloc[fmri_idx]['local_paths'].values[0]\n",
    "#anat_fn = sub_df.iloc[anat_idx]['local_paths'].values[0]\n",
    "\n",
    "#epi_path = os.path.join(ndar_root,epi_fn[2::])\n",
    "#anat_path = os.path.join(ndar_root,anat_fn[2::])\n",
    "\n",
    "#epi_dest = os.path.join(bids_root,f'ds-{col_id}',f'sub-{s+1:03d}','func',f'sub-{s+1:03d}_task-rest_bold.nii.gz')\n",
    "#anat_dest = os.path.join(bids_root,f'ds-{col_id}',f'sub-{s+1:03d}','anat',f'sub-{s+1:03d}_T1w.nii.gz')"
   ]
  }
 ],
 "metadata": {
  "kernelspec": {
   "display_name": "Python 3",
   "language": "python",
   "name": "python3"
  },
  "language_info": {
   "codemirror_mode": {
    "name": "ipython",
    "version": 3
   },
   "file_extension": ".py",
   "mimetype": "text/x-python",
   "name": "python",
   "nbconvert_exporter": "python",
   "pygments_lexer": "ipython3",
   "version": "3.8.8"
  },
  "papermill": {
   "default_parameters": {},
   "duration": null,
   "end_time": null,
   "environment_variables": {},
   "exception": null,
   "input_path": "fMRI_Prep_Tutorial.ipynb",
   "output_path": "fMRI_Prep_Papermill_2.ipynb",
   "parameters": {},
   "start_time": "2022-07-20T16:23:57.558111",
   "version": "2.3.4"
  }
 },
 "nbformat": 4,
 "nbformat_minor": 5
}