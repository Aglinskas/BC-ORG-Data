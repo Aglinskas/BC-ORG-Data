{
 "cells": [
  {
   "cell_type": "code",
   "execution_count": 1,
   "id": "405e308f-bd88-4d9a-a9da-52afcaf08a67",
   "metadata": {
    "execution": {
     "iopub.execute_input": "2022-07-26T22:04:58.236911Z",
     "iopub.status.busy": "2022-07-26T22:04:58.236240Z",
     "iopub.status.idle": "2022-07-26T22:04:58.415154Z",
     "shell.execute_reply": "2022-07-26T22:04:58.414651Z"
    },
    "papermill": {
     "duration": 0.213007,
     "end_time": "2022-07-26T22:04:58.415333",
     "exception": false,
     "start_time": "2022-07-26T22:04:58.202326",
     "status": "completed"
    },
    "tags": []
   },
   "outputs": [
    {
     "name": "stdout",
     "output_type": "stream",
     "text": [
      "Tue Jul 26 18:04:58 EDT 2022\r\n"
     ]
    }
   ],
   "source": [
    "!date"
   ]
  },
  {
   "cell_type": "code",
   "execution_count": 2,
   "id": "81b8d8b0-e400-4313-866f-bc4456cc5901",
   "metadata": {
    "execution": {
     "iopub.execute_input": "2022-07-26T22:04:58.449128Z",
     "iopub.status.busy": "2022-07-26T22:04:58.448771Z",
     "iopub.status.idle": "2022-07-26T22:04:58.459854Z",
     "shell.execute_reply": "2022-07-26T22:04:58.459505Z"
    },
    "papermill": {
     "duration": 0.02743,
     "end_time": "2022-07-26T22:04:58.459976",
     "exception": false,
     "start_time": "2022-07-26T22:04:58.432546",
     "status": "completed"
    },
    "tags": []
   },
   "outputs": [
    {
     "data": {
      "text/plain": [
       "'/mmfs1/data/pijarj/BC-ORG-Data/Code'"
      ]
     },
     "execution_count": 2,
     "metadata": {},
     "output_type": "execute_result"
    }
   ],
   "source": [
    "pwd"
   ]
  },
  {
   "cell_type": "code",
   "execution_count": 3,
   "id": "d015a7b7-3a67-45a8-923b-b82322b37522",
   "metadata": {
    "execution": {
     "iopub.execute_input": "2022-07-26T22:04:58.488560Z",
     "iopub.status.busy": "2022-07-26T22:04:58.488195Z",
     "iopub.status.idle": "2022-07-26T22:04:58.502123Z",
     "shell.execute_reply": "2022-07-26T22:04:58.501773Z"
    },
    "papermill": {
     "duration": 0.029638,
     "end_time": "2022-07-26T22:04:58.502221",
     "exception": false,
     "start_time": "2022-07-26T22:04:58.472583",
     "status": "completed"
    },
    "tags": []
   },
   "outputs": [
    {
     "name": "stdout",
     "output_type": "stream",
     "text": [
      "/mmfs1/data/pijarj/BC-ORG-Data/Data\n"
     ]
    }
   ],
   "source": [
    "cd ../Data"
   ]
  },
  {
   "cell_type": "code",
   "execution_count": 4,
   "id": "d5a45cf0-6591-4ac8-ad7a-10ccc30e4b2b",
   "metadata": {
    "execution": {
     "iopub.execute_input": "2022-07-26T22:04:58.530543Z",
     "iopub.status.busy": "2022-07-26T22:04:58.530193Z",
     "iopub.status.idle": "2022-07-26T22:05:52.436785Z",
     "shell.execute_reply": "2022-07-26T22:05:52.437139Z"
    },
    "papermill": {
     "duration": 53.922942,
     "end_time": "2022-07-26T22:05:52.437296",
     "exception": false,
     "start_time": "2022-07-26T22:04:58.514354",
     "status": "completed"
    },
    "tags": []
   },
   "outputs": [
    {
     "name": "stdout",
     "output_type": "stream",
     "text": [
      "CPU times: user 3.03 s, sys: 1.55 s, total: 4.58 s\n",
      "Wall time: 53.9 s\n"
     ]
    }
   ],
   "source": [
    "%%time\n",
    "import pandas as pd\n",
    "import os\n",
    "import shutil\n",
    "import numpy as np\n",
    "from tqdm import tqdm\n",
    "import ants\n",
    "import nibabel as nib"
   ]
  },
  {
   "cell_type": "code",
   "execution_count": 5,
   "id": "426f3691-550a-4fef-8c3b-b3e3ec5d7188",
   "metadata": {
    "execution": {
     "iopub.execute_input": "2022-07-26T22:05:52.472318Z",
     "iopub.status.busy": "2022-07-26T22:05:52.471730Z",
     "iopub.status.idle": "2022-07-26T22:05:55.131632Z",
     "shell.execute_reply": "2022-07-26T22:05:55.131173Z"
    },
    "papermill": {
     "duration": 2.6781,
     "end_time": "2022-07-26T22:05:55.131742",
     "exception": false,
     "start_time": "2022-07-26T22:05:52.453642",
     "status": "completed"
    },
    "tags": []
   },
   "outputs": [],
   "source": [
    "#make txt file into csv\n",
    "read_file = pd.read_csv ('/mmfs1/data/pijarj/NDAR_BoldAnat10/image03.txt',delimiter='\\t',low_memory=False)\n",
    "read_file.to_csv ('/mmfs1/data/pijarj/BC-ORG-Data/Data/image03.csv', index=0)"
   ]
  },
  {
   "cell_type": "code",
   "execution_count": null,
   "id": "fc43eaa4-2e70-4c3a-8fea-ad6af88da935",
   "metadata": {
    "papermill": {
     "duration": 0.011308,
     "end_time": "2022-07-26T22:05:55.165181",
     "exception": false,
     "start_time": "2022-07-26T22:05:55.153873",
     "status": "completed"
    },
    "tags": []
   },
   "outputs": [],
   "source": []
  },
  {
   "cell_type": "code",
   "execution_count": 6,
   "id": "0469c9e0-ddf5-4a1d-b3e2-4cfa9c439717",
   "metadata": {
    "execution": {
     "iopub.execute_input": "2022-07-26T22:05:55.196377Z",
     "iopub.status.busy": "2022-07-26T22:05:55.195806Z",
     "iopub.status.idle": "2022-07-26T22:05:56.383423Z",
     "shell.execute_reply": "2022-07-26T22:05:56.383091Z"
    },
    "papermill": {
     "duration": 1.207101,
     "end_time": "2022-07-26T22:05:56.383527",
     "exception": false,
     "start_time": "2022-07-26T22:05:55.176426",
     "status": "completed"
    },
    "tags": []
   },
   "outputs": [
    {
     "name": "stdout",
     "output_type": "stream",
     "text": [
      "2338\n",
      "../Data/DS2338.csv\n",
      "303\n",
      "52\n"
     ]
    }
   ],
   "source": [
    "#slice general csv into dataset\n",
    "\n",
    "# Drops non nii or nii.gz types\n",
    "df = pd.read_csv('image03.csv',low_memory=False)\n",
    "df = df.iloc[1::] # First row is just another index, let's drop it\n",
    "df['image_file'] = df['image_file'].astype(str) # convert entries to strings (so nan become 'nan')\n",
    "\n",
    "df['is_nii_gz'] = [str(file).endswith('.nii.gz') for file in df['image_file'].values]\n",
    "df['is_nii'] = [str(file).endswith('.nii') for file in df['image_file'].values]\n",
    "\n",
    "# only keep the niftis \n",
    "df = df.iloc[df['is_nii_gz'].values + df['is_nii'].values] #\n",
    "\n",
    "#study_name = 'Biomarkers of Developmental Trajectories and Treatment in ASD'\n",
    "#study_name = 'Predictors and Mechanisms of Conversion to Psychosis (NAPLS3)'\n",
    "#study_name = 'Cognitive and Neural Flexibility in Autism'\n",
    "study_name = 'Multimodal Imaging of Early Neural Signature in Autism Spectrum Disorder'\n",
    "study_df = df[df['collection_title']==study_name]\n",
    "\n",
    "if len(study_df)==0:\n",
    "    print('no usable scans')\n",
    "else:\n",
    "    col_id = study_df['collection_id'].values[0]\n",
    "    print(col_id)\n",
    "    study_df.to_csv(f'../Data/DS{col_id}.csv')\n",
    "    print(f'../Data/DS{col_id}.csv')\n",
    "    print(len(study_df))\n",
    "    print(len(study_df['subjectkey'].unique()))"
   ]
  },
  {
   "cell_type": "code",
   "execution_count": 7,
   "id": "e1092b5a-fa16-4b51-ab56-78d8093b7261",
   "metadata": {
    "execution": {
     "iopub.execute_input": "2022-07-26T22:05:56.437331Z",
     "iopub.status.busy": "2022-07-26T22:05:56.435687Z",
     "iopub.status.idle": "2022-07-26T22:05:56.451697Z",
     "shell.execute_reply": "2022-07-26T22:05:56.449744Z"
    },
    "papermill": {
     "duration": 0.049547,
     "end_time": "2022-07-26T22:05:56.451879",
     "exception": false,
     "start_time": "2022-07-26T22:05:56.402332",
     "status": "completed"
    },
    "tags": []
   },
   "outputs": [
    {
     "name": "stdout",
     "output_type": "stream",
     "text": [
      "/mmfs1/data/pijarj\n"
     ]
    }
   ],
   "source": [
    "cd ../../"
   ]
  },
  {
   "cell_type": "code",
   "execution_count": 8,
   "id": "6a48fce4-27e2-4111-9343-1e51764ee384",
   "metadata": {
    "execution": {
     "iopub.execute_input": "2022-07-26T22:05:56.546938Z",
     "iopub.status.busy": "2022-07-26T22:05:56.546441Z",
     "iopub.status.idle": "2022-07-26T22:05:56.737576Z",
     "shell.execute_reply": "2022-07-26T22:05:56.737234Z"
    },
    "papermill": {
     "duration": 0.272856,
     "end_time": "2022-07-26T22:05:56.737693",
     "exception": false,
     "start_time": "2022-07-26T22:05:56.464837",
     "status": "completed"
    },
    "tags": []
   },
   "outputs": [],
   "source": [
    "mkdir 'ds-{col_id}'"
   ]
  },
  {
   "cell_type": "code",
   "execution_count": 9,
   "id": "1a446499-f84c-4ab6-b911-e273878a7e99",
   "metadata": {
    "execution": {
     "iopub.execute_input": "2022-07-26T22:05:56.773725Z",
     "iopub.status.busy": "2022-07-26T22:05:56.772482Z",
     "iopub.status.idle": "2022-07-26T22:05:56.779842Z",
     "shell.execute_reply": "2022-07-26T22:05:56.779479Z"
    },
    "papermill": {
     "duration": 0.028723,
     "end_time": "2022-07-26T22:05:56.779960",
     "exception": false,
     "start_time": "2022-07-26T22:05:56.751237",
     "status": "completed"
    },
    "tags": []
   },
   "outputs": [
    {
     "name": "stdout",
     "output_type": "stream",
     "text": [
      "/mmfs1/data/pijarj/BC-ORG-Data/Data\n"
     ]
    }
   ],
   "source": [
    "cd ~/BC-ORG-Data/Data"
   ]
  },
  {
   "cell_type": "code",
   "execution_count": 10,
   "id": "5447613b-25b6-4def-ade6-0e181f36ee22",
   "metadata": {
    "execution": {
     "iopub.execute_input": "2022-07-26T22:05:56.813916Z",
     "iopub.status.busy": "2022-07-26T22:05:56.813507Z",
     "iopub.status.idle": "2022-07-26T22:05:56.816299Z",
     "shell.execute_reply": "2022-07-26T22:05:56.815657Z"
    },
    "papermill": {
     "duration": 0.023097,
     "end_time": "2022-07-26T22:05:56.816400",
     "exception": false,
     "start_time": "2022-07-26T22:05:56.793303",
     "status": "completed"
    },
    "tags": []
   },
   "outputs": [],
   "source": [
    "# df = pd.read_csv(f'../Data/DS{col_id}.csv')\n",
    "# df['is_nii_gz'] = [file.endswith('.nii.gz') for file in df['image_file'].values]\n",
    "# df = df[df['is_nii_gz']]"
   ]
  },
  {
   "cell_type": "code",
   "execution_count": 11,
   "id": "61a988b0-1e30-4608-89d7-4dd961495785",
   "metadata": {
    "execution": {
     "iopub.execute_input": "2022-07-26T22:05:56.853006Z",
     "iopub.status.busy": "2022-07-26T22:05:56.852581Z",
     "iopub.status.idle": "2022-07-26T22:05:56.855677Z",
     "shell.execute_reply": "2022-07-26T22:05:56.856048Z"
    },
    "papermill": {
     "duration": 0.023984,
     "end_time": "2022-07-26T22:05:56.856219",
     "exception": false,
     "start_time": "2022-07-26T22:05:56.832235",
     "status": "completed"
    },
    "tags": []
   },
   "outputs": [],
   "source": [
    "def safe_mkdir(path):\n",
    "    if not os.path.exists(path):\n",
    "        os.mkdir(path)\n",
    "    else:\n",
    "        pass"
   ]
  },
  {
   "cell_type": "code",
   "execution_count": 12,
   "id": "eea4b3e3-2269-4f81-bb82-dde328f30cbd",
   "metadata": {
    "execution": {
     "iopub.execute_input": "2022-07-26T22:05:56.891020Z",
     "iopub.status.busy": "2022-07-26T22:05:56.890499Z",
     "iopub.status.idle": "2022-07-26T22:05:56.894312Z",
     "shell.execute_reply": "2022-07-26T22:05:56.893885Z"
    },
    "papermill": {
     "duration": 0.02299,
     "end_time": "2022-07-26T22:05:56.894456",
     "exception": false,
     "start_time": "2022-07-26T22:05:56.871466",
     "status": "completed"
    },
    "tags": []
   },
   "outputs": [],
   "source": [
    "def write_json(data,filepath):\n",
    "    import json\n",
    "    with open(filepath, 'w') as outfile:\n",
    "        json.dump(data, outfile)"
   ]
  },
  {
   "cell_type": "code",
   "execution_count": 13,
   "id": "7f4796b3-d375-41cd-bfc1-6391d5e48dcb",
   "metadata": {
    "execution": {
     "iopub.execute_input": "2022-07-26T22:05:56.940585Z",
     "iopub.status.busy": "2022-07-26T22:05:56.939924Z",
     "iopub.status.idle": "2022-07-26T22:05:56.944217Z",
     "shell.execute_reply": "2022-07-26T22:05:56.943766Z"
    },
    "papermill": {
     "duration": 0.034636,
     "end_time": "2022-07-26T22:05:56.944343",
     "exception": false,
     "start_time": "2022-07-26T22:05:56.909707",
     "status": "completed"
    },
    "tags": []
   },
   "outputs": [
    {
     "name": "stdout",
     "output_type": "stream",
     "text": [
      "52 unique subjects\n"
     ]
    }
   ],
   "source": [
    "#check for unique subjects with both func and anat\n",
    "#study_df = pd.read_csv(f'../Data/DS{col_id}.csv')\n",
    "study_subjects = np.unique(study_df['subjectkey'].values)\n",
    "nsubjects = len(study_subjects)\n",
    "print(f'{nsubjects} unique subjects')\n",
    "def check_has_anat_and_epi(sub):\n",
    "    sub_df = study_df.iloc[study_df['subjectkey'].values==sub]\n",
    "    fmri_idx = sub_df['scan_type'].values=='fMRI'\n",
    "    #anat_idx = sub_df['scan_type'].values in ['MR structural (T1)','MR structural (MPRAGE)']\n",
    "    anat_idx = sub_df['scan_type'].isin(['MR structural (T1)','MR structural (MPRAGE)']).values\n",
    "    return fmri_idx.sum()>0 and anat_idx.sum()>0"
   ]
  },
  {
   "cell_type": "code",
   "execution_count": 14,
   "id": "2035f839-2694-49e7-a475-a8c30721435f",
   "metadata": {
    "execution": {
     "iopub.execute_input": "2022-07-26T22:05:56.981680Z",
     "iopub.status.busy": "2022-07-26T22:05:56.981158Z",
     "iopub.status.idle": "2022-07-26T22:05:56.984294Z",
     "shell.execute_reply": "2022-07-26T22:05:56.983876Z"
    },
    "papermill": {
     "duration": 0.024078,
     "end_time": "2022-07-26T22:05:56.984407",
     "exception": false,
     "start_time": "2022-07-26T22:05:56.960329",
     "status": "completed"
    },
    "tags": []
   },
   "outputs": [],
   "source": [
    "ndar_root = '/mmfs1/data/pijarj/NDAR_BoldAnat10/' \n",
    "bids_root = '/mmfs1/data/pijarj/'"
   ]
  },
  {
   "cell_type": "code",
   "execution_count": 15,
   "id": "48b98356-f752-40ff-8f51-d17ab31022fb",
   "metadata": {
    "execution": {
     "iopub.execute_input": "2022-07-26T22:05:57.027943Z",
     "iopub.status.busy": "2022-07-26T22:05:57.027541Z",
     "iopub.status.idle": "2022-07-26T22:05:57.042498Z",
     "shell.execute_reply": "2022-07-26T22:05:57.042127Z"
    },
    "papermill": {
     "duration": 0.042905,
     "end_time": "2022-07-26T22:05:57.042627",
     "exception": false,
     "start_time": "2022-07-26T22:05:56.999722",
     "status": "completed"
    },
    "tags": []
   },
   "outputs": [],
   "source": [
    "has_anat_and_epi = np.array([check_has_anat_and_epi(s) for s in study_subjects])"
   ]
  },
  {
   "cell_type": "code",
   "execution_count": 16,
   "id": "71c8f2e6-e1c8-44ed-a64c-e11997bc3f87",
   "metadata": {
    "execution": {
     "iopub.execute_input": "2022-07-26T22:05:57.079627Z",
     "iopub.status.busy": "2022-07-26T22:05:57.079116Z",
     "iopub.status.idle": "2022-07-26T22:05:57.082345Z",
     "shell.execute_reply": "2022-07-26T22:05:57.081897Z"
    },
    "papermill": {
     "duration": 0.024836,
     "end_time": "2022-07-26T22:05:57.082474",
     "exception": false,
     "start_time": "2022-07-26T22:05:57.057638",
     "status": "completed"
    },
    "tags": []
   },
   "outputs": [
    {
     "name": "stdout",
     "output_type": "stream",
     "text": [
      "52 subjects with anat + fmri\n"
     ]
    }
   ],
   "source": [
    "#find subjects with anat and func\n",
    "use_subjects = study_subjects[has_anat_and_epi]\n",
    "nsubjects = len(use_subjects)\n",
    "print(f'{nsubjects} subjects with anat + fmri')"
   ]
  },
  {
   "cell_type": "code",
   "execution_count": 17,
   "id": "8eb2a4bc-46e6-4393-9c5b-6ff1624738cb",
   "metadata": {
    "execution": {
     "iopub.execute_input": "2022-07-26T22:05:57.121219Z",
     "iopub.status.busy": "2022-07-26T22:05:57.120816Z",
     "iopub.status.idle": "2022-07-26T22:05:57.519547Z",
     "shell.execute_reply": "2022-07-26T22:05:57.519186Z"
    },
    "papermill": {
     "duration": 0.422322,
     "end_time": "2022-07-26T22:05:57.519659",
     "exception": false,
     "start_time": "2022-07-26T22:05:57.097337",
     "status": "completed"
    },
    "tags": []
   },
   "outputs": [
    {
     "name": "stderr",
     "output_type": "stream",
     "text": [
      "\r",
      "  0%|          | 0/52 [00:00<?, ?it/s]"
     ]
    },
    {
     "name": "stderr",
     "output_type": "stream",
     "text": [
      "\r",
      " 29%|██▉       | 15/52 [00:00<00:00, 140.62it/s]"
     ]
    },
    {
     "name": "stderr",
     "output_type": "stream",
     "text": [
      "\r",
      " 58%|█████▊    | 30/52 [00:00<00:00, 133.85it/s]"
     ]
    },
    {
     "name": "stderr",
     "output_type": "stream",
     "text": [
      "\r",
      " 88%|████████▊ | 46/52 [00:00<00:00, 142.74it/s]"
     ]
    },
    {
     "name": "stderr",
     "output_type": "stream",
     "text": [
      "\r",
      "100%|██████████| 52/52 [00:00<00:00, 141.68it/s]"
     ]
    },
    {
     "name": "stderr",
     "output_type": "stream",
     "text": [
      "\n"
     ]
    }
   ],
   "source": [
    "# MAKE THE BIDS DIRECTORY\n",
    "safe_mkdir(os.path.join(bids_root,f'DS{col_id}.csv'))\n",
    "for s in tqdm(range(1,nsubjects+1)):\n",
    "    safe_mkdir(os.path.join(bids_root,f'ds-{col_id}',f'sub-{s:03d}'))\n",
    "    safe_mkdir(os.path.join(bids_root,f'ds-{col_id}',f'sub-{s:03d}','func'))\n",
    "    safe_mkdir(os.path.join(bids_root,f'ds-{col_id}',f'sub-{s:03d}','anat'))"
   ]
  },
  {
   "cell_type": "code",
   "execution_count": 18,
   "id": "302de894-5238-4f49-88b8-51c7f4a92bbd",
   "metadata": {
    "execution": {
     "iopub.execute_input": "2022-07-26T22:05:57.560192Z",
     "iopub.status.busy": "2022-07-26T22:05:57.559806Z",
     "iopub.status.idle": "2022-07-26T22:05:58.392739Z",
     "shell.execute_reply": "2022-07-26T22:05:58.392308Z"
    },
    "papermill": {
     "duration": 0.853867,
     "end_time": "2022-07-26T22:05:58.392866",
     "exception": false,
     "start_time": "2022-07-26T22:05:57.538999",
     "status": "completed"
    },
    "tags": []
   },
   "outputs": [
    {
     "name": "stderr",
     "output_type": "stream",
     "text": [
      "\r",
      "  0%|          | 0/303 [00:00<?, ?it/s]"
     ]
    },
    {
     "name": "stderr",
     "output_type": "stream",
     "text": [
      "\r",
      "  9%|▊         | 26/303 [00:00<00:01, 258.96it/s]"
     ]
    },
    {
     "name": "stderr",
     "output_type": "stream",
     "text": [
      "\r",
      " 17%|█▋        | 52/303 [00:00<00:01, 211.01it/s]"
     ]
    },
    {
     "name": "stderr",
     "output_type": "stream",
     "text": [
      "\r",
      " 26%|██▌       | 79/303 [00:00<00:00, 230.01it/s]"
     ]
    },
    {
     "name": "stderr",
     "output_type": "stream",
     "text": [
      "\r",
      " 34%|███▍      | 103/303 [00:00<00:00, 230.42it/s]"
     ]
    },
    {
     "name": "stderr",
     "output_type": "stream",
     "text": [
      "\r",
      " 60%|█████▉    | 181/303 [00:00<00:00, 415.03it/s]"
     ]
    },
    {
     "name": "stderr",
     "output_type": "stream",
     "text": [
      "\r",
      " 74%|███████▍  | 224/303 [00:00<00:00, 378.84it/s]"
     ]
    },
    {
     "name": "stderr",
     "output_type": "stream",
     "text": [
      "\r",
      " 92%|█████████▏| 280/303 [00:00<00:00, 432.03it/s]"
     ]
    },
    {
     "name": "stderr",
     "output_type": "stream",
     "text": [
      "\r",
      "100%|██████████| 303/303 [00:00<00:00, 368.67it/s]"
     ]
    },
    {
     "name": "stderr",
     "output_type": "stream",
     "text": [
      "\n"
     ]
    }
   ],
   "source": [
    "#making local paths column\n",
    "#df = pd.read_csv(f'DS{col_id}.csv')\n",
    "n = len(study_df)\n",
    "#root = './image03/'\n",
    "root = os.path.expanduser('~/NDAR_BoldAnat10/image03/')\n",
    "local_paths = list()\n",
    "for i in tqdm(range(n)):\n",
    "    s3_path = study_df['image_file'].values[i]\n",
    "    splits = s3_path.split('/')[4::]\n",
    "    relative = '/'.join(splits)\n",
    "    local_path = os.path.join(root,relative)\n",
    "    assert os.path.exists(os.path.join(root,relative))\n",
    "    local_paths.append(local_path)\n",
    "study_df['local_paths'] = local_paths"
   ]
  },
  {
   "cell_type": "code",
   "execution_count": null,
   "id": "01238176-b218-4188-a4c5-ca98b57e4be1",
   "metadata": {
    "papermill": {
     "duration": 0.023186,
     "end_time": "2022-07-26T22:05:58.437569",
     "exception": false,
     "start_time": "2022-07-26T22:05:58.414383",
     "status": "completed"
    },
    "tags": []
   },
   "outputs": [],
   "source": []
  },
  {
   "cell_type": "code",
   "execution_count": null,
   "id": "248eaae7-0115-4ba1-b44d-fd0ba9600c69",
   "metadata": {
    "papermill": {
     "duration": 0.016559,
     "end_time": "2022-07-26T22:05:58.472635",
     "exception": false,
     "start_time": "2022-07-26T22:05:58.456076",
     "status": "completed"
    },
    "tags": []
   },
   "outputs": [],
   "source": []
  },
  {
   "cell_type": "code",
   "execution_count": 19,
   "id": "df7f6da3-ef3a-40b5-badc-17ccda8368eb",
   "metadata": {
    "execution": {
     "iopub.execute_input": "2022-07-26T22:05:58.514401Z",
     "iopub.status.busy": "2022-07-26T22:05:58.513999Z",
     "iopub.status.idle": "2022-07-27T00:29:36.452940Z",
     "shell.execute_reply": "2022-07-27T00:29:36.452167Z"
    },
    "papermill": {
     "duration": 8617.962712,
     "end_time": "2022-07-27T00:29:36.453119",
     "exception": false,
     "start_time": "2022-07-26T22:05:58.490407",
     "status": "completed"
    },
    "tags": []
   },
   "outputs": [
    {
     "name": "stderr",
     "output_type": "stream",
     "text": [
      "\r",
      "  0%|          | 0/52 [00:00<?, ?it/s]"
     ]
    },
    {
     "name": "stderr",
     "output_type": "stream",
     "text": [
      "\r",
      "  2%|▏         | 1/52 [03:05<2:37:43, 185.55s/it]"
     ]
    },
    {
     "name": "stderr",
     "output_type": "stream",
     "text": [
      "\r",
      "  4%|▍         | 2/52 [06:04<2:31:37, 181.95s/it]"
     ]
    },
    {
     "name": "stderr",
     "output_type": "stream",
     "text": [
      "\r",
      "  6%|▌         | 3/52 [08:57<2:25:02, 177.60s/it]"
     ]
    },
    {
     "name": "stderr",
     "output_type": "stream",
     "text": [
      "\r",
      "  8%|▊         | 4/52 [11:33<2:15:10, 168.96s/it]"
     ]
    },
    {
     "name": "stderr",
     "output_type": "stream",
     "text": [
      "\r",
      " 10%|▉         | 5/52 [14:09<2:08:45, 164.36s/it]"
     ]
    },
    {
     "name": "stderr",
     "output_type": "stream",
     "text": [
      "\r",
      " 12%|█▏        | 6/52 [16:59<2:07:23, 166.17s/it]"
     ]
    },
    {
     "name": "stderr",
     "output_type": "stream",
     "text": [
      "\r",
      " 13%|█▎        | 7/52 [19:40<2:03:22, 164.51s/it]"
     ]
    },
    {
     "name": "stderr",
     "output_type": "stream",
     "text": [
      "\r",
      " 15%|█▌        | 8/52 [22:19<1:59:25, 162.85s/it]"
     ]
    },
    {
     "name": "stderr",
     "output_type": "stream",
     "text": [
      "\r",
      " 17%|█▋        | 9/52 [25:06<1:57:46, 164.33s/it]"
     ]
    },
    {
     "name": "stderr",
     "output_type": "stream",
     "text": [
      "\r",
      " 19%|█▉        | 10/52 [27:48<1:54:27, 163.51s/it]"
     ]
    },
    {
     "name": "stderr",
     "output_type": "stream",
     "text": [
      "\r",
      " 21%|██        | 11/52 [30:36<1:52:34, 164.74s/it]"
     ]
    },
    {
     "name": "stderr",
     "output_type": "stream",
     "text": [
      "\r",
      " 23%|██▎       | 12/52 [33:21<1:49:55, 164.90s/it]"
     ]
    },
    {
     "name": "stderr",
     "output_type": "stream",
     "text": [
      "\r",
      " 25%|██▌       | 13/52 [36:08<1:47:40, 165.67s/it]"
     ]
    },
    {
     "name": "stderr",
     "output_type": "stream",
     "text": [
      "\r",
      " 27%|██▋       | 14/52 [39:01<1:46:15, 167.77s/it]"
     ]
    },
    {
     "name": "stderr",
     "output_type": "stream",
     "text": [
      "\r",
      " 29%|██▉       | 15/52 [42:04<1:46:12, 172.24s/it]"
     ]
    },
    {
     "name": "stderr",
     "output_type": "stream",
     "text": [
      "\r",
      " 31%|███       | 16/52 [45:05<1:44:55, 174.88s/it]"
     ]
    },
    {
     "name": "stderr",
     "output_type": "stream",
     "text": [
      "\r",
      " 33%|███▎      | 17/52 [47:54<1:40:58, 173.11s/it]"
     ]
    },
    {
     "name": "stderr",
     "output_type": "stream",
     "text": [
      "\r",
      " 35%|███▍      | 18/52 [50:47<1:38:13, 173.34s/it]"
     ]
    },
    {
     "name": "stderr",
     "output_type": "stream",
     "text": [
      "\r",
      " 37%|███▋      | 19/52 [53:42<1:35:35, 173.79s/it]"
     ]
    },
    {
     "name": "stderr",
     "output_type": "stream",
     "text": [
      "\r",
      " 38%|███▊      | 20/52 [56:22<1:30:25, 169.56s/it]"
     ]
    },
    {
     "name": "stderr",
     "output_type": "stream",
     "text": [
      "\r",
      " 40%|████      | 21/52 [58:59<1:25:41, 165.84s/it]"
     ]
    },
    {
     "name": "stderr",
     "output_type": "stream",
     "text": [
      "\r",
      " 42%|████▏     | 22/52 [1:01:37<1:21:39, 163.32s/it]"
     ]
    },
    {
     "name": "stderr",
     "output_type": "stream",
     "text": [
      "\r",
      " 44%|████▍     | 23/52 [1:04:24<1:19:28, 164.42s/it]"
     ]
    },
    {
     "name": "stderr",
     "output_type": "stream",
     "text": [
      "\r",
      " 46%|████▌     | 24/52 [1:07:03<1:16:02, 162.94s/it]"
     ]
    },
    {
     "name": "stderr",
     "output_type": "stream",
     "text": [
      "\r",
      " 48%|████▊     | 25/52 [1:09:44<1:13:02, 162.32s/it]"
     ]
    },
    {
     "name": "stderr",
     "output_type": "stream",
     "text": [
      "\r",
      " 50%|█████     | 26/52 [1:12:32<1:11:04, 164.01s/it]"
     ]
    },
    {
     "name": "stderr",
     "output_type": "stream",
     "text": [
      "\r",
      " 52%|█████▏    | 27/52 [1:15:12<1:07:47, 162.71s/it]"
     ]
    },
    {
     "name": "stderr",
     "output_type": "stream",
     "text": [
      "\r",
      " 54%|█████▍    | 28/52 [1:17:53<1:04:56, 162.34s/it]"
     ]
    },
    {
     "name": "stderr",
     "output_type": "stream",
     "text": [
      "\r",
      " 56%|█████▌    | 29/52 [1:20:42<1:03:00, 164.37s/it]"
     ]
    },
    {
     "name": "stderr",
     "output_type": "stream",
     "text": [
      "\r",
      " 58%|█████▊    | 30/52 [1:23:51<1:02:54, 171.59s/it]"
     ]
    },
    {
     "name": "stderr",
     "output_type": "stream",
     "text": [
      "\r",
      " 60%|█████▉    | 31/52 [1:26:41<59:56, 171.28s/it]  "
     ]
    },
    {
     "name": "stderr",
     "output_type": "stream",
     "text": [
      "\r",
      " 62%|██████▏   | 32/52 [1:29:28<56:41, 170.06s/it]"
     ]
    },
    {
     "name": "stderr",
     "output_type": "stream",
     "text": [
      "\r",
      " 63%|██████▎   | 33/52 [1:32:22<54:11, 171.14s/it]"
     ]
    },
    {
     "name": "stderr",
     "output_type": "stream",
     "text": [
      "\r",
      " 65%|██████▌   | 34/52 [1:35:13<51:17, 170.98s/it]"
     ]
    },
    {
     "name": "stderr",
     "output_type": "stream",
     "text": [
      "\r",
      " 67%|██████▋   | 35/52 [1:37:59<48:03, 169.60s/it]"
     ]
    },
    {
     "name": "stderr",
     "output_type": "stream",
     "text": [
      "\r",
      " 69%|██████▉   | 36/52 [1:40:37<44:17, 166.07s/it]"
     ]
    },
    {
     "name": "stderr",
     "output_type": "stream",
     "text": [
      "\r",
      " 71%|███████   | 37/52 [1:43:19<41:11, 164.76s/it]"
     ]
    },
    {
     "name": "stderr",
     "output_type": "stream",
     "text": [
      "\r",
      " 73%|███████▎  | 38/52 [1:45:58<38:03, 163.13s/it]"
     ]
    },
    {
     "name": "stderr",
     "output_type": "stream",
     "text": [
      "\r",
      " 75%|███████▌  | 39/52 [1:48:40<35:18, 162.94s/it]"
     ]
    },
    {
     "name": "stderr",
     "output_type": "stream",
     "text": [
      "\r",
      " 77%|███████▋  | 40/52 [1:51:23<32:33, 162.77s/it]"
     ]
    },
    {
     "name": "stderr",
     "output_type": "stream",
     "text": [
      "\r",
      " 79%|███████▉  | 41/52 [1:54:04<29:45, 162.30s/it]"
     ]
    },
    {
     "name": "stderr",
     "output_type": "stream",
     "text": [
      "\r",
      " 81%|████████  | 42/52 [1:56:45<26:58, 161.84s/it]"
     ]
    },
    {
     "name": "stderr",
     "output_type": "stream",
     "text": [
      "\r",
      " 83%|████████▎ | 43/52 [1:59:32<24:30, 163.39s/it]"
     ]
    },
    {
     "name": "stderr",
     "output_type": "stream",
     "text": [
      "\r",
      " 85%|████████▍ | 44/52 [2:02:07<21:28, 161.09s/it]"
     ]
    },
    {
     "name": "stderr",
     "output_type": "stream",
     "text": [
      "\r",
      " 87%|████████▋ | 45/52 [2:04:48<18:46, 160.92s/it]"
     ]
    },
    {
     "name": "stderr",
     "output_type": "stream",
     "text": [
      "\r",
      " 88%|████████▊ | 46/52 [2:07:34<16:15, 162.55s/it]"
     ]
    },
    {
     "name": "stderr",
     "output_type": "stream",
     "text": [
      "\r",
      " 90%|█████████ | 47/52 [2:10:14<13:28, 161.77s/it]"
     ]
    },
    {
     "name": "stderr",
     "output_type": "stream",
     "text": [
      "\r",
      " 92%|█████████▏| 48/52 [2:12:57<10:47, 161.93s/it]"
     ]
    },
    {
     "name": "stderr",
     "output_type": "stream",
     "text": [
      "\r",
      " 94%|█████████▍| 49/52 [2:15:38<08:05, 161.89s/it]"
     ]
    },
    {
     "name": "stderr",
     "output_type": "stream",
     "text": [
      "\r",
      " 96%|█████████▌| 50/52 [2:18:15<05:20, 160.20s/it]"
     ]
    },
    {
     "name": "stderr",
     "output_type": "stream",
     "text": [
      "\r",
      " 98%|█████████▊| 51/52 [2:20:52<02:39, 159.20s/it]"
     ]
    },
    {
     "name": "stderr",
     "output_type": "stream",
     "text": [
      "\r",
      "100%|██████████| 52/52 [2:23:37<00:00, 161.20s/it]"
     ]
    },
    {
     "name": "stderr",
     "output_type": "stream",
     "text": [
      "\r",
      "100%|██████████| 52/52 [2:23:37<00:00, 165.73s/it]"
     ]
    },
    {
     "name": "stderr",
     "output_type": "stream",
     "text": [
      "\n"
     ]
    }
   ],
   "source": [
    "for s in tqdm(range(0,nsubjects)):\n",
    "    sub = use_subjects[s]\n",
    "    sub_df = study_df.iloc[study_df['subjectkey'].values==sub]\n",
    "    fmri_idx = sub_df['scan_type'].values=='fMRI'\n",
    "#    anat_idx = sub_df['scan_type'].values=='MR structural (T1)'\n",
    "    anat_idx = sub_df['scan_type'].isin(['MR structural (T1)','MR structural (MPRAGE)']).values\n",
    "\n",
    "    epi_fn = sub_df.iloc[fmri_idx]['local_paths'].values[0]\n",
    "    anat_fn = sub_df.iloc[anat_idx]['local_paths'].values[0]\n",
    "\n",
    "#     #epi_path = os.path.join(ndar_root,epi_fn[1::])\n",
    "#     #anat_path = os.path.join(ndar_root,anat_fn[1::])\n",
    "    \n",
    "    epi_path = os.path.join(ndar_root,epi_fn)\n",
    "    anat_path = os.path.join(ndar_root,anat_fn)\n",
    "\n",
    "    \n",
    "#     # AA: Is this a problem? we're reading in .nii or .nii.gz but saving as .nii.gz always\n",
    "    epi_dest = os.path.join(bids_root,f'ds-{col_id}',f'sub-{s+1:03d}','func',f'sub-{s+1:03d}_task-rest_bold.nii.gz')\n",
    "    anat_dest = os.path.join(bids_root,f'ds-{col_id}',f'sub-{s+1:03d}','anat',f'sub-{s+1:03d}_T1w.nii.gz')\n",
    "\n",
    "    t1 = ants.image_read(anat_path) \n",
    "    bold = ants.image_read(epi_path)\n",
    "\n",
    "    t1.to_filename(anat_dest)\n",
    "    bold.to_filename(epi_dest)\n",
    "\n",
    "#     bold_json = {\"RepetitionTime\" : bold.spacing[-1],\n",
    "#                 \"TaskName\" : 'rest'}\n",
    "#     write_json(bold_json,epi_dest.replace('.nii.gz','.json')) \n",
    "#     im = nib.load(epi_dest)\n",
    "#     header = im.header.copy()\n",
    "#     header.set_xyzt_units(xyz='mm', t='sec')\n",
    "#     nib.nifti1.Nifti1Image(im.get_fdata(), None, header=header).to_filename(epi_dest)\n",
    "#     assert nib.load(epi_dest).header.get_xyzt_units()==('mm', 'sec'),'timing missing from header'"
   ]
  },
  {
   "cell_type": "code",
   "execution_count": 20,
   "id": "5ba92b96-8e5d-4759-9513-081ba1d509c0",
   "metadata": {
    "execution": {
     "iopub.execute_input": "2022-07-27T00:29:36.517543Z",
     "iopub.status.busy": "2022-07-27T00:29:36.517191Z",
     "iopub.status.idle": "2022-07-27T00:29:36.559460Z",
     "shell.execute_reply": "2022-07-27T00:29:36.559133Z"
    },
    "papermill": {
     "duration": 0.07093,
     "end_time": "2022-07-27T00:29:36.559545",
     "exception": false,
     "start_time": "2022-07-27T00:29:36.488615",
     "status": "completed"
    },
    "tags": []
   },
   "outputs": [
    {
     "name": "stdout",
     "output_type": "stream",
     "text": [
      "{\"Name\": \"Multimodal Imaging of Early Neural Signature in Autism Spectrum Disorder\", \"RepetitionTime\": 2.0, \"SliceTiming\": 2.0, \"TaskName\": \"taskrest\", \"BIDSVersion\": \"20.2.0\"}\n"
     ]
    }
   ],
   "source": [
    "import json\n",
    "data = {\n",
    "    \"Name\" : study_df[\"collection_title\"].values[0] ,\n",
    "    \"RepetitionTime\": 2.0,\n",
    "    \"SliceTiming\" : 2.0 ,\n",
    "    \"TaskName\" : \"taskrest\" ,\n",
    "    \"BIDSVersion\" : \"20.2.0\"}\n",
    "json_string = json.dumps(data)\n",
    "print(json_string)\n",
    "with open(os.path.join(bids_root,f'ds-2026','dataset_description.json'), 'w') as outfile:\n",
    "    json.dump(json_string, outfile)"
   ]
  },
  {
   "cell_type": "code",
   "execution_count": null,
   "id": "6d76d336-1609-4ca5-a0ed-1470b07245be",
   "metadata": {
    "papermill": {
     "duration": 0.024078,
     "end_time": "2022-07-27T00:29:36.624404",
     "exception": false,
     "start_time": "2022-07-27T00:29:36.600326",
     "status": "completed"
    },
    "tags": []
   },
   "outputs": [],
   "source": []
  },
  {
   "cell_type": "code",
   "execution_count": 21,
   "id": "ec60a7da-8e02-48de-8002-58cebfb0840f",
   "metadata": {
    "execution": {
     "iopub.execute_input": "2022-07-27T00:29:36.674907Z",
     "iopub.status.busy": "2022-07-27T00:29:36.674591Z",
     "iopub.status.idle": "2022-07-27T00:29:36.676967Z",
     "shell.execute_reply": "2022-07-27T00:29:36.676653Z"
    },
    "papermill": {
     "duration": 0.029124,
     "end_time": "2022-07-27T00:29:36.677048",
     "exception": false,
     "start_time": "2022-07-27T00:29:36.647924",
     "status": "completed"
    },
    "tags": []
   },
   "outputs": [],
   "source": [
    "# #copy the subjects into folders\n",
    "#s = 0\n",
    "#sub = use_subjects[s]\n",
    "#sub_df = study_df.iloc[study_df['subjectkey'].values==sub]\n",
    "#fmri_idx = sub_df['scan_type'].values=='fMRI'\n",
    "#anat_idx = sub_df['scan_type'].values=='MR structural (T1)'\n",
    "\n",
    "#epi_fn = sub_df.iloc[fmri_idx]['local_paths'].values[0]\n",
    "#anat_fn = sub_df.iloc[anat_idx]['local_paths'].values[0]\n",
    "\n",
    "#epi_path = os.path.join(ndar_root,epi_fn[2::])\n",
    "#anat_path = os.path.join(ndar_root,anat_fn[2::])\n",
    "\n",
    "#epi_dest = os.path.join(bids_root,f'ds-{col_id}',f'sub-{s+1:03d}','func',f'sub-{s+1:03d}_task-rest_bold.nii.gz')\n",
    "#anat_dest = os.path.join(bids_root,f'ds-{col_id}',f'sub-{s+1:03d}','anat',f'sub-{s+1:03d}_T1w.nii.gz')"
   ]
  }
 ],
 "metadata": {
  "kernelspec": {
   "display_name": "Python 3",
   "language": "python",
   "name": "python3"
  },
  "language_info": {
   "codemirror_mode": {
    "name": "ipython",
    "version": 3
   },
   "file_extension": ".py",
   "mimetype": "text/x-python",
   "name": "python",
   "nbconvert_exporter": "python",
   "pygments_lexer": "ipython3",
   "version": "3.8.8"
  },
  "papermill": {
   "default_parameters": {},
   "duration": 8683.032,
   "end_time": "2022-07-27T00:29:37.844154",
   "environment_variables": {},
   "exception": null,
   "input_path": "fMRI_Prep_Tutorial.ipynb",
   "output_path": "fMRI_Prep_Papermill_2.ipynb",
   "parameters": {},
   "start_time": "2022-07-26T22:04:54.812154",
   "version": "2.3.4"
  }
 },
 "nbformat": 4,
 "nbformat_minor": 5
}