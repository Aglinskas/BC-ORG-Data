{
 "cells": [
  {
   "cell_type": "code",
   "execution_count": 1,
   "id": "405e308f-bd88-4d9a-a9da-52afcaf08a67",
   "metadata": {
    "execution": {
     "iopub.execute_input": "2022-07-18T21:19:00.791546Z",
     "iopub.status.busy": "2022-07-18T21:19:00.791196Z",
     "iopub.status.idle": "2022-07-18T21:19:00.924559Z",
     "shell.execute_reply": "2022-07-18T21:19:00.924224Z"
    },
    "papermill": {
     "duration": 0.148004,
     "end_time": "2022-07-18T21:19:00.924644",
     "exception": false,
     "start_time": "2022-07-18T21:19:00.776640",
     "status": "completed"
    },
    "tags": []
   },
   "outputs": [
    {
     "name": "stdout",
     "output_type": "stream",
     "text": [
      "Mon Jul 18 17:19:00 EDT 2022\n"
     ]
    }
   ],
   "source": [
    "!date"
   ]
  },
  {
   "cell_type": "code",
   "execution_count": 2,
   "id": "81b8d8b0-e400-4313-866f-bc4456cc5901",
   "metadata": {
    "execution": {
     "iopub.execute_input": "2022-07-18T21:19:00.949050Z",
     "iopub.status.busy": "2022-07-18T21:19:00.948726Z",
     "iopub.status.idle": "2022-07-18T21:19:00.950403Z",
     "shell.execute_reply": "2022-07-18T21:19:00.950663Z"
    },
    "papermill": {
     "duration": 0.016904,
     "end_time": "2022-07-18T21:19:00.950743",
     "exception": false,
     "start_time": "2022-07-18T21:19:00.933839",
     "status": "completed"
    },
    "tags": []
   },
   "outputs": [
    {
     "data": {
      "text/plain": [
       "'/mmfs1/data/pijarj/BC-ORG-Data/Code'"
      ]
     },
     "execution_count": 2,
     "metadata": {},
     "output_type": "execute_result"
    }
   ],
   "source": [
    "pwd"
   ]
  },
  {
   "cell_type": "code",
   "execution_count": 3,
   "id": "d015a7b7-3a67-45a8-923b-b82322b37522",
   "metadata": {
    "execution": {
     "iopub.execute_input": "2022-07-18T21:19:00.970800Z",
     "iopub.status.busy": "2022-07-18T21:19:00.970481Z",
     "iopub.status.idle": "2022-07-18T21:19:00.976353Z",
     "shell.execute_reply": "2022-07-18T21:19:00.976071Z"
    },
    "papermill": {
     "duration": 0.016719,
     "end_time": "2022-07-18T21:19:00.976419",
     "exception": false,
     "start_time": "2022-07-18T21:19:00.959700",
     "status": "completed"
    },
    "tags": []
   },
   "outputs": [
    {
     "name": "stdout",
     "output_type": "stream",
     "text": [
      "/mmfs1/data/pijarj/BC-ORG-Data/Data\n"
     ]
    }
   ],
   "source": [
    "cd ../Data"
   ]
  },
  {
   "cell_type": "code",
   "execution_count": 4,
   "id": "d5a45cf0-6591-4ac8-ad7a-10ccc30e4b2b",
   "metadata": {
    "execution": {
     "iopub.execute_input": "2022-07-18T21:19:00.997448Z",
     "iopub.status.busy": "2022-07-18T21:19:00.997126Z",
     "iopub.status.idle": "2022-07-18T21:19:15.412523Z",
     "shell.execute_reply": "2022-07-18T21:19:15.412793Z"
    },
    "papermill": {
     "duration": 14.427105,
     "end_time": "2022-07-18T21:19:15.412897",
     "exception": false,
     "start_time": "2022-07-18T21:19:00.985792",
     "status": "completed"
    },
    "tags": []
   },
   "outputs": [
    {
     "name": "stdout",
     "output_type": "stream",
     "text": [
      "CPU times: user 1.73 s, sys: 796 ms, total: 2.53 s\n",
      "Wall time: 14.4 s\n"
     ]
    }
   ],
   "source": [
    "%%time\n",
    "import pandas as pd\n",
    "import os\n",
    "import shutil\n",
    "import numpy as np\n",
    "from tqdm import tqdm\n",
    "import ants\n",
    "import nibabel as nib"
   ]
  },
  {
   "cell_type": "code",
   "execution_count": 5,
   "id": "426f3691-550a-4fef-8c3b-b3e3ec5d7188",
   "metadata": {
    "execution": {
     "iopub.execute_input": "2022-07-18T21:19:15.439531Z",
     "iopub.status.busy": "2022-07-18T21:19:15.439207Z",
     "iopub.status.idle": "2022-07-18T21:19:17.358834Z",
     "shell.execute_reply": "2022-07-18T21:19:17.358507Z"
    },
    "papermill": {
     "duration": 1.931726,
     "end_time": "2022-07-18T21:19:17.358924",
     "exception": false,
     "start_time": "2022-07-18T21:19:15.427198",
     "status": "completed"
    },
    "tags": []
   },
   "outputs": [],
   "source": [
    "#make txt file into csv\n",
    "read_file = pd.read_csv ('/mmfs1/data/pijarj/NDAR_BoldAnat10/image03.txt',delimiter='\\t',low_memory=False)\n",
    "read_file.to_csv ('/mmfs1/data/pijarj/BC-ORG-Data/Data/image03.csv', index=0)"
   ]
  },
  {
   "cell_type": "code",
   "execution_count": null,
   "id": "fc43eaa4-2e70-4c3a-8fea-ad6af88da935",
   "metadata": {
    "papermill": {
     "duration": 0.009387,
     "end_time": "2022-07-18T21:19:17.378118",
     "exception": false,
     "start_time": "2022-07-18T21:19:17.368731",
     "status": "completed"
    },
    "tags": []
   },
   "outputs": [],
   "source": []
  },
  {
   "cell_type": "code",
   "execution_count": 6,
   "id": "0469c9e0-ddf5-4a1d-b3e2-4cfa9c439717",
   "metadata": {
    "execution": {
     "iopub.execute_input": "2022-07-18T21:19:17.401333Z",
     "iopub.status.busy": "2022-07-18T21:19:17.400993Z",
     "iopub.status.idle": "2022-07-18T21:19:18.303576Z",
     "shell.execute_reply": "2022-07-18T21:19:18.303847Z"
    },
    "papermill": {
     "duration": 0.916628,
     "end_time": "2022-07-18T21:19:18.303954",
     "exception": false,
     "start_time": "2022-07-18T21:19:17.387326",
     "status": "completed"
    },
    "tags": []
   },
   "outputs": [
    {
     "name": "stdout",
     "output_type": "stream",
     "text": [
      "2338\n",
      "../Data/DS2338.csv\n",
      "303\n",
      "52\n"
     ]
    }
   ],
   "source": [
    "#slice general csv into dataset\n",
    "\n",
    "# Drops non nii or nii.gz types\n",
    "df = pd.read_csv('image03.csv',low_memory=False)\n",
    "df = df.iloc[1::] # First row is just another index, let's drop it\n",
    "df['image_file'] = df['image_file'].astype(str) # convert entries to strings (so nan become 'nan')\n",
    "\n",
    "df['is_nii_gz'] = [str(file).endswith('.nii.gz') for file in df['image_file'].values]\n",
    "df['is_nii'] = [str(file).endswith('.nii') for file in df['image_file'].values]\n",
    "\n",
    "# only keep the niftis \n",
    "df = df.iloc[df['is_nii_gz'].values + df['is_nii'].values] #\n",
    "\n",
    "#study_name = 'Biomarkers of Developmental Trajectories and Treatment in ASD'\n",
    "study_name = 'Cognitive and Neural Flexibility in Autism'\n",
    "#study_name = 'Multimodal Imaging of Early Neural Signature in Autism Spectrum Disorder'\n",
    "study_df = df[df['collection_title']==study_name]\n",
    "\n",
    "if len(study_df)==0:\n",
    "    print('no usable scans')\n",
    "else:\n",
    "    col_id = study_df['collection_id'].values[0]\n",
    "    print(col_id)\n",
    "    study_df.to_csv(f'../Data/DS{col_id}.csv')\n",
    "    print(f'../Data/DS{col_id}.csv')\n",
    "    print(len(study_df))\n",
    "    print(len(study_df['subjectkey'].unique()))"
   ]
  },
  {
   "cell_type": "code",
   "execution_count": 7,
   "id": "e1092b5a-fa16-4b51-ab56-78d8093b7261",
   "metadata": {
    "execution": {
     "iopub.execute_input": "2022-07-18T21:19:18.326404Z",
     "iopub.status.busy": "2022-07-18T21:19:18.326082Z",
     "iopub.status.idle": "2022-07-18T21:19:18.330238Z",
     "shell.execute_reply": "2022-07-18T21:19:18.329950Z"
    },
    "papermill": {
     "duration": 0.016114,
     "end_time": "2022-07-18T21:19:18.330306",
     "exception": false,
     "start_time": "2022-07-18T21:19:18.314192",
     "status": "completed"
    },
    "tags": []
   },
   "outputs": [
    {
     "name": "stdout",
     "output_type": "stream",
     "text": [
      "/mmfs1/data/pijarj\n"
     ]
    }
   ],
   "source": [
    "cd ../../"
   ]
  },
  {
   "cell_type": "code",
   "execution_count": 8,
   "id": "6a48fce4-27e2-4111-9343-1e51764ee384",
   "metadata": {
    "execution": {
     "iopub.execute_input": "2022-07-18T21:19:18.352568Z",
     "iopub.status.busy": "2022-07-18T21:19:18.352247Z",
     "iopub.status.idle": "2022-07-18T21:19:18.531194Z",
     "shell.execute_reply": "2022-07-18T21:19:18.530903Z"
    },
    "papermill": {
     "duration": 0.190838,
     "end_time": "2022-07-18T21:19:18.531273",
     "exception": false,
     "start_time": "2022-07-18T21:19:18.340435",
     "status": "completed"
    },
    "tags": []
   },
   "outputs": [
    {
     "name": "stdout",
     "output_type": "stream",
     "text": [
      "mkdir: cannot create directory ‘ds-2338’: File exists\n"
     ]
    }
   ],
   "source": [
    "mkdir 'ds-{col_id}'"
   ]
  },
  {
   "cell_type": "code",
   "execution_count": 9,
   "id": "1a446499-f84c-4ab6-b911-e273878a7e99",
   "metadata": {
    "execution": {
     "iopub.execute_input": "2022-07-18T21:19:18.555343Z",
     "iopub.status.busy": "2022-07-18T21:19:18.555014Z",
     "iopub.status.idle": "2022-07-18T21:19:18.557051Z",
     "shell.execute_reply": "2022-07-18T21:19:18.557313Z"
    },
    "papermill": {
     "duration": 0.014937,
     "end_time": "2022-07-18T21:19:18.557395",
     "exception": false,
     "start_time": "2022-07-18T21:19:18.542458",
     "status": "completed"
    },
    "tags": []
   },
   "outputs": [
    {
     "name": "stdout",
     "output_type": "stream",
     "text": [
      "/mmfs1/data/pijarj/BC-ORG-Data/Data\n"
     ]
    }
   ],
   "source": [
    "cd ~/BC-ORG-Data/Data"
   ]
  },
  {
   "cell_type": "code",
   "execution_count": 10,
   "id": "5447613b-25b6-4def-ade6-0e181f36ee22",
   "metadata": {
    "execution": {
     "iopub.execute_input": "2022-07-18T21:19:18.579900Z",
     "iopub.status.busy": "2022-07-18T21:19:18.579580Z",
     "iopub.status.idle": "2022-07-18T21:19:18.580873Z",
     "shell.execute_reply": "2022-07-18T21:19:18.581136Z"
    },
    "papermill": {
     "duration": 0.013517,
     "end_time": "2022-07-18T21:19:18.581214",
     "exception": false,
     "start_time": "2022-07-18T21:19:18.567697",
     "status": "completed"
    },
    "tags": []
   },
   "outputs": [],
   "source": [
    "# df = pd.read_csv(f'../Data/DS{col_id}.csv')\n",
    "# df['is_nii_gz'] = [file.endswith('.nii.gz') for file in df['image_file'].values]\n",
    "# df = df[df['is_nii_gz']]"
   ]
  },
  {
   "cell_type": "code",
   "execution_count": 11,
   "id": "61a988b0-1e30-4608-89d7-4dd961495785",
   "metadata": {
    "execution": {
     "iopub.execute_input": "2022-07-18T21:19:18.604626Z",
     "iopub.status.busy": "2022-07-18T21:19:18.604304Z",
     "iopub.status.idle": "2022-07-18T21:19:18.605864Z",
     "shell.execute_reply": "2022-07-18T21:19:18.605589Z"
    },
    "papermill": {
     "duration": 0.014263,
     "end_time": "2022-07-18T21:19:18.605929",
     "exception": false,
     "start_time": "2022-07-18T21:19:18.591666",
     "status": "completed"
    },
    "tags": []
   },
   "outputs": [],
   "source": [
    "def safe_mkdir(path):\n",
    "    if not os.path.exists(path):\n",
    "        os.mkdir(path)\n",
    "    else:\n",
    "        pass"
   ]
  },
  {
   "cell_type": "code",
   "execution_count": 12,
   "id": "eea4b3e3-2269-4f81-bb82-dde328f30cbd",
   "metadata": {
    "execution": {
     "iopub.execute_input": "2022-07-18T21:19:18.629160Z",
     "iopub.status.busy": "2022-07-18T21:19:18.628834Z",
     "iopub.status.idle": "2022-07-18T21:19:18.630137Z",
     "shell.execute_reply": "2022-07-18T21:19:18.630398Z"
    },
    "papermill": {
     "duration": 0.014076,
     "end_time": "2022-07-18T21:19:18.630475",
     "exception": false,
     "start_time": "2022-07-18T21:19:18.616399",
     "status": "completed"
    },
    "tags": []
   },
   "outputs": [],
   "source": [
    "def write_json(data,filepath):\n",
    "    import json\n",
    "    with open(filepath, 'w') as outfile:\n",
    "        json.dump(data, outfile)"
   ]
  },
  {
   "cell_type": "code",
   "execution_count": 13,
   "id": "7f4796b3-d375-41cd-bfc1-6391d5e48dcb",
   "metadata": {
    "execution": {
     "iopub.execute_input": "2022-07-18T21:19:18.654961Z",
     "iopub.status.busy": "2022-07-18T21:19:18.654635Z",
     "iopub.status.idle": "2022-07-18T21:19:18.656180Z",
     "shell.execute_reply": "2022-07-18T21:19:18.656439Z"
    },
    "papermill": {
     "duration": 0.015402,
     "end_time": "2022-07-18T21:19:18.656517",
     "exception": false,
     "start_time": "2022-07-18T21:19:18.641115",
     "status": "completed"
    },
    "tags": []
   },
   "outputs": [
    {
     "name": "stdout",
     "output_type": "stream",
     "text": [
      "52 unique subjects\n"
     ]
    }
   ],
   "source": [
    "#check for unique subjects with both func and anat\n",
    "#study_df = pd.read_csv(f'../Data/DS{col_id}.csv')\n",
    "study_subjects = np.unique(study_df['subjectkey'].values)\n",
    "nsubjects = len(study_subjects)\n",
    "print(f'{nsubjects} unique subjects')\n",
    "def check_has_anat_and_epi(sub):\n",
    "    sub_df = study_df.iloc[study_df['subjectkey'].values==sub]\n",
    "    fmri_idx = sub_df['scan_type'].values=='fMRI'\n",
    "    #anat_idx = sub_df['scan_type'].values in ['MR structural (T1)','MR structural (MPRAGE)']\n",
    "    anat_idx = sub_df['scan_type'].isin(['MR structural (T1)','MR structural (MPRAGE)']).values\n",
    "    return fmri_idx.sum()>0 and anat_idx.sum()>0"
   ]
  },
  {
   "cell_type": "code",
   "execution_count": 14,
   "id": "2035f839-2694-49e7-a475-a8c30721435f",
   "metadata": {
    "execution": {
     "iopub.execute_input": "2022-07-18T21:19:18.680226Z",
     "iopub.status.busy": "2022-07-18T21:19:18.679899Z",
     "iopub.status.idle": "2022-07-18T21:19:18.681447Z",
     "shell.execute_reply": "2022-07-18T21:19:18.681172Z"
    },
    "papermill": {
     "duration": 0.0142,
     "end_time": "2022-07-18T21:19:18.681512",
     "exception": false,
     "start_time": "2022-07-18T21:19:18.667312",
     "status": "completed"
    },
    "tags": []
   },
   "outputs": [],
   "source": [
    "ndar_root = '/mmfs1/data/pijarj/NDAR_BoldAnat10/' \n",
    "bids_root = '/mmfs1/data/pijarj/'"
   ]
  },
  {
   "cell_type": "code",
   "execution_count": 15,
   "id": "48b98356-f752-40ff-8f51-d17ab31022fb",
   "metadata": {
    "execution": {
     "iopub.execute_input": "2022-07-18T21:19:18.724000Z",
     "iopub.status.busy": "2022-07-18T21:19:18.709810Z",
     "iopub.status.idle": "2022-07-18T21:19:18.725505Z",
     "shell.execute_reply": "2022-07-18T21:19:18.725228Z"
    },
    "papermill": {
     "duration": 0.033397,
     "end_time": "2022-07-18T21:19:18.725571",
     "exception": false,
     "start_time": "2022-07-18T21:19:18.692174",
     "status": "completed"
    },
    "tags": []
   },
   "outputs": [],
   "source": [
    "has_anat_and_epi = np.array([check_has_anat_and_epi(s) for s in study_subjects])"
   ]
  },
  {
   "cell_type": "code",
   "execution_count": 16,
   "id": "71c8f2e6-e1c8-44ed-a64c-e11997bc3f87",
   "metadata": {
    "execution": {
     "iopub.execute_input": "2022-07-18T21:19:18.749541Z",
     "iopub.status.busy": "2022-07-18T21:19:18.749218Z",
     "iopub.status.idle": "2022-07-18T21:19:18.750719Z",
     "shell.execute_reply": "2022-07-18T21:19:18.750978Z"
    },
    "papermill": {
     "duration": 0.014667,
     "end_time": "2022-07-18T21:19:18.751060",
     "exception": false,
     "start_time": "2022-07-18T21:19:18.736393",
     "status": "completed"
    },
    "tags": []
   },
   "outputs": [
    {
     "name": "stdout",
     "output_type": "stream",
     "text": [
      "52 subjects with anat + fmri\n"
     ]
    }
   ],
   "source": [
    "#find subjects with anat and func\n",
    "use_subjects = study_subjects[has_anat_and_epi]\n",
    "nsubjects = len(use_subjects)\n",
    "print(f'{nsubjects} subjects with anat + fmri')"
   ]
  },
  {
   "cell_type": "code",
   "execution_count": 17,
   "id": "8eb2a4bc-46e6-4393-9c5b-6ff1624738cb",
   "metadata": {
    "execution": {
     "iopub.execute_input": "2022-07-18T21:19:18.776451Z",
     "iopub.status.busy": "2022-07-18T21:19:18.776127Z",
     "iopub.status.idle": "2022-07-18T21:19:18.895290Z",
     "shell.execute_reply": "2022-07-18T21:19:18.895567Z"
    },
    "papermill": {
     "duration": 0.132994,
     "end_time": "2022-07-18T21:19:18.895646",
     "exception": false,
     "start_time": "2022-07-18T21:19:18.762652",
     "status": "completed"
    },
    "tags": []
   },
   "outputs": [
    {
     "name": "stderr",
     "output_type": "stream",
     "text": [
      "100%|██████████| 52/52 [00:00<00:00, 450.34it/s]\n"
     ]
    }
   ],
   "source": [
    "# MAKE THE BIDS DIRECTORY\n",
    "safe_mkdir(os.path.join(bids_root,f'DS{col_id}.csv'))\n",
    "for s in tqdm(range(1,nsubjects+1)):\n",
    "    safe_mkdir(os.path.join(bids_root,f'ds-{col_id}',f'sub-{s:03d}'))\n",
    "    safe_mkdir(os.path.join(bids_root,f'ds-{col_id}',f'sub-{s:03d}','func'))\n",
    "    safe_mkdir(os.path.join(bids_root,f'ds-{col_id}',f'sub-{s:03d}','anat'))"
   ]
  },
  {
   "cell_type": "code",
   "execution_count": 18,
   "id": "302de894-5238-4f49-88b8-51c7f4a92bbd",
   "metadata": {
    "execution": {
     "iopub.execute_input": "2022-07-18T21:19:18.924818Z",
     "iopub.status.busy": "2022-07-18T21:19:18.924487Z",
     "iopub.status.idle": "2022-07-18T21:19:19.222329Z",
     "shell.execute_reply": "2022-07-18T21:19:19.222642Z"
    },
    "papermill": {
     "duration": 0.313637,
     "end_time": "2022-07-18T21:19:19.222743",
     "exception": false,
     "start_time": "2022-07-18T21:19:18.909106",
     "status": "completed"
    },
    "tags": []
   },
   "outputs": [
    {
     "name": "stderr",
     "output_type": "stream",
     "text": [
      "100%|██████████| 303/303 [00:00<00:00, 1026.30it/s]\n"
     ]
    }
   ],
   "source": [
    "#making local paths column\n",
    "#df = pd.read_csv(f'DS{col_id}.csv')\n",
    "n = len(study_df)\n",
    "#root = './image03/'\n",
    "root = os.path.expanduser('~/NDAR_BoldAnat10/image03/')\n",
    "local_paths = list()\n",
    "for i in tqdm(range(n)):\n",
    "    s3_path = study_df['image_file'].values[i]\n",
    "    splits = s3_path.split('/')[4::]\n",
    "    relative = '/'.join(splits)\n",
    "    local_path = os.path.join(root,relative)\n",
    "    assert os.path.exists(os.path.join(root,relative))\n",
    "    local_paths.append(local_path)\n",
    "study_df['local_paths'] = local_paths"
   ]
  },
  {
   "cell_type": "code",
   "execution_count": null,
   "id": "01238176-b218-4188-a4c5-ca98b57e4be1",
   "metadata": {
    "papermill": {
     "duration": 0.01258,
     "end_time": "2022-07-18T21:19:19.248124",
     "exception": false,
     "start_time": "2022-07-18T21:19:19.235544",
     "status": "completed"
    },
    "tags": []
   },
   "outputs": [],
   "source": []
  },
  {
   "cell_type": "code",
   "execution_count": null,
   "id": "248eaae7-0115-4ba1-b44d-fd0ba9600c69",
   "metadata": {
    "papermill": {
     "duration": 0.012634,
     "end_time": "2022-07-18T21:19:19.273569",
     "exception": false,
     "start_time": "2022-07-18T21:19:19.260935",
     "status": "completed"
    },
    "tags": []
   },
   "outputs": [],
   "source": []
  },
  {
   "cell_type": "code",
   "execution_count": 19,
   "id": "df7f6da3-ef3a-40b5-badc-17ccda8368eb",
   "metadata": {
    "execution": {
     "iopub.execute_input": "2022-07-18T21:19:19.303629Z",
     "iopub.status.busy": "2022-07-18T21:19:19.303289Z"
    },
    "papermill": {
     "duration": null,
     "end_time": null,
     "exception": false,
     "start_time": "2022-07-18T21:19:19.285967",
     "status": "running"
    },
    "tags": []
   },
   "outputs": [
    {
     "name": "stderr",
     "output_type": "stream",
     "text": [
      " 58%|█████▊    | 30/52 [1:19:13<1:00:13, 164.24s/it]"
     ]
    }
   ],
   "source": [
    "for s in tqdm(range(0,nsubjects)):\n",
    "    sub = use_subjects[s]\n",
    "    sub_df = study_df.iloc[study_df['subjectkey'].values==sub]\n",
    "    fmri_idx = sub_df['scan_type'].values=='fMRI'\n",
    "#    anat_idx = sub_df['scan_type'].values=='MR structural (T1)'\n",
    "    anat_idx = sub_df['scan_type'].isin(['MR structural (T1)','MR structural (MPRAGE)']).values\n",
    "\n",
    "    epi_fn = sub_df.iloc[fmri_idx]['local_paths'].values[0]\n",
    "    anat_fn = sub_df.iloc[anat_idx]['local_paths'].values[0]\n",
    "\n",
    "#     #epi_path = os.path.join(ndar_root,epi_fn[1::])\n",
    "#     #anat_path = os.path.join(ndar_root,anat_fn[1::])\n",
    "    \n",
    "    epi_path = os.path.join(ndar_root,epi_fn)\n",
    "    anat_path = os.path.join(ndar_root,anat_fn)\n",
    "\n",
    "    \n",
    "#     # AA: Is this a problem? we're reading in .nii or .nii.gz but saving as .nii.gz always\n",
    "    epi_dest = os.path.join(bids_root,f'ds-{col_id}',f'sub-{s+1:03d}','func',f'sub-{s+1:03d}_task-rest_bold.nii.gz')\n",
    "    anat_dest = os.path.join(bids_root,f'ds-{col_id}',f'sub-{s+1:03d}','anat',f'sub-{s+1:03d}_T1w.nii.gz')\n",
    "\n",
    "    t1 = ants.image_read(anat_path) \n",
    "    bold = ants.image_read(epi_path)\n",
    "\n",
    "    t1.to_filename(anat_dest)\n",
    "    bold.to_filename(epi_dest)\n",
    "\n",
    "#     bold_json = {\"RepetitionTime\" : bold.spacing[-1],\n",
    "#                 \"TaskName\" : 'rest'}\n",
    "#     write_json(bold_json,epi_dest.replace('.nii.gz','.json')) \n",
    "#     im = nib.load(epi_dest)\n",
    "#     header = im.header.copy()\n",
    "#     header.set_xyzt_units(xyz='mm', t='sec')\n",
    "#     nib.nifti1.Nifti1Image(im.get_fdata(), None, header=header).to_filename(epi_dest)\n",
    "#     assert nib.load(epi_dest).header.get_xyzt_units()==('mm', 'sec'),'timing missing from header'"
   ]
  },
  {
   "cell_type": "code",
   "execution_count": null,
   "id": "5ba92b96-8e5d-4759-9513-081ba1d509c0",
   "metadata": {
    "papermill": {
     "duration": null,
     "end_time": null,
     "exception": null,
     "start_time": null,
     "status": "pending"
    },
    "tags": []
   },
   "outputs": [],
   "source": [
    "import json\n",
    "data = {\n",
    "    \"Name\" : study_df[\"collection_title\"].values[0] ,\n",
    "    \"RepetitionTime\": 2.0,\n",
    "    \"SliceTiming\" : 2.0 ,\n",
    "    \"TaskName\" : \"taskrest\" ,\n",
    "    \"BIDSVersion\" : \"20.2.0\"}\n",
    "json_string = json.dumps(data)\n",
    "print(json_string)\n",
    "with open(os.path.join(bids_root,f'ds-2026','dataset_description.json'), 'w') as outfile:\n",
    "    json.dump(json_string, outfile)"
   ]
  },
  {
   "cell_type": "code",
   "execution_count": null,
   "id": "6d76d336-1609-4ca5-a0ed-1470b07245be",
   "metadata": {
    "papermill": {
     "duration": null,
     "end_time": null,
     "exception": null,
     "start_time": null,
     "status": "pending"
    },
    "tags": []
   },
   "outputs": [],
   "source": []
  },
  {
   "cell_type": "code",
   "execution_count": null,
   "id": "ec60a7da-8e02-48de-8002-58cebfb0840f",
   "metadata": {
    "papermill": {
     "duration": null,
     "end_time": null,
     "exception": null,
     "start_time": null,
     "status": "pending"
    },
    "tags": []
   },
   "outputs": [],
   "source": [
    "# #copy the subjects into folders\n",
    "#s = 0\n",
    "#sub = use_subjects[s]\n",
    "#sub_df = study_df.iloc[study_df['subjectkey'].values==sub]\n",
    "#fmri_idx = sub_df['scan_type'].values=='fMRI'\n",
    "#anat_idx = sub_df['scan_type'].values=='MR structural (T1)'\n",
    "\n",
    "#epi_fn = sub_df.iloc[fmri_idx]['local_paths'].values[0]\n",
    "#anat_fn = sub_df.iloc[anat_idx]['local_paths'].values[0]\n",
    "\n",
    "#epi_path = os.path.join(ndar_root,epi_fn[2::])\n",
    "#anat_path = os.path.join(ndar_root,anat_fn[2::])\n",
    "\n",
    "#epi_dest = os.path.join(bids_root,f'ds-{col_id}',f'sub-{s+1:03d}','func',f'sub-{s+1:03d}_task-rest_bold.nii.gz')\n",
    "#anat_dest = os.path.join(bids_root,f'ds-{col_id}',f'sub-{s+1:03d}','anat',f'sub-{s+1:03d}_T1w.nii.gz')"
   ]
  }
 ],
 "metadata": {
  "kernelspec": {
   "display_name": "Python 3",
   "language": "python",
   "name": "python3"
  },
  "language_info": {
   "codemirror_mode": {
    "name": "ipython",
    "version": 3
   },
   "file_extension": ".py",
   "mimetype": "text/x-python",
   "name": "python",
   "nbconvert_exporter": "python",
   "pygments_lexer": "ipython3",
   "version": "3.8.8"
  },
  "papermill": {
   "default_parameters": {},
   "duration": null,
   "end_time": null,
   "environment_variables": {},
   "exception": null,
   "input_path": "fMRI_Prep_Tutorial.ipynb",
   "output_path": "fMRI_Prep_Papermill.ipynb",
   "parameters": {},
   "start_time": "2022-07-18T21:18:56.819138",
   "version": "2.3.4"
  }
 },
 "nbformat": 4,
 "nbformat_minor": 5
}
