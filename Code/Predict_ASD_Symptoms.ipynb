{
 "cells": [
  {
   "cell_type": "code",
   "execution_count": 58,
   "id": "ff7ac5c5-3cd7-4880-8ea7-931743f9855c",
   "metadata": {},
   "outputs": [],
   "source": [
    "#Use 13-long gene-diffmat corr to predict symptoms \n",
    "#Plot beta-weights (use 13 corr with cmat as control) \n",
    "#See symptoms prediction accuracy (diff > cmat)"
   ]
  },
  {
   "cell_type": "code",
   "execution_count": 59,
   "id": "0af0bfc2-0d6a-41a4-9f0f-57603f99f701",
   "metadata": {
    "tags": []
   },
   "outputs": [],
   "source": [
    "import pandas as pd\n",
    "from sklearn import linear_model\n",
    "import numpy as np\n",
    "from matplotlib import pyplot as plt\n",
    "import ants\n",
    "import os\n",
    "from tqdm import tqdm\n",
    "import statistics"
   ]
  },
  {
   "cell_type": "code",
   "execution_count": 60,
   "id": "e4ffb40e-5f27-4163-9be7-ef26495e340f",
   "metadata": {},
   "outputs": [
    {
     "name": "stdout",
     "output_type": "stream",
     "text": [
      "[Errno 2] No such file or directory: '../Data/Genemaps'\n",
      "/mmfs1/data/pijarj/BC-ORG-Data/Data/Genemaps\n"
     ]
    }
   ],
   "source": [
    "cd ../Data/Genemaps"
   ]
  },
  {
   "cell_type": "code",
   "execution_count": 61,
   "id": "1cc925ff-2458-44e9-a440-e78a5fe1520c",
   "metadata": {},
   "outputs": [
    {
     "data": {
      "text/html": [
       "<div>\n",
       "<style scoped>\n",
       "    .dataframe tbody tr th:only-of-type {\n",
       "        vertical-align: middle;\n",
       "    }\n",
       "\n",
       "    .dataframe tbody tr th {\n",
       "        vertical-align: top;\n",
       "    }\n",
       "\n",
       "    .dataframe thead th {\n",
       "        text-align: right;\n",
       "    }\n",
       "</style>\n",
       "<table border=\"1\" class=\"dataframe\">\n",
       "  <thead>\n",
       "    <tr style=\"text-align: right;\">\n",
       "      <th></th>\n",
       "      <th>ados_total</th>\n",
       "      <th>ados_comm</th>\n",
       "      <th>ados_social</th>\n",
       "      <th>ados_rrb</th>\n",
       "    </tr>\n",
       "  </thead>\n",
       "  <tbody>\n",
       "    <tr>\n",
       "      <th>0</th>\n",
       "      <td>18.0</td>\n",
       "      <td>6.0</td>\n",
       "      <td>12.0</td>\n",
       "      <td>2.0</td>\n",
       "    </tr>\n",
       "    <tr>\n",
       "      <th>1</th>\n",
       "      <td>NaN</td>\n",
       "      <td>NaN</td>\n",
       "      <td>NaN</td>\n",
       "      <td>NaN</td>\n",
       "    </tr>\n",
       "    <tr>\n",
       "      <th>2</th>\n",
       "      <td>13.0</td>\n",
       "      <td>4.0</td>\n",
       "      <td>9.0</td>\n",
       "      <td>NaN</td>\n",
       "    </tr>\n",
       "    <tr>\n",
       "      <th>3</th>\n",
       "      <td>12.0</td>\n",
       "      <td>4.0</td>\n",
       "      <td>8.0</td>\n",
       "      <td>2.0</td>\n",
       "    </tr>\n",
       "    <tr>\n",
       "      <th>4</th>\n",
       "      <td>16.0</td>\n",
       "      <td>5.0</td>\n",
       "      <td>11.0</td>\n",
       "      <td>3.0</td>\n",
       "    </tr>\n",
       "    <tr>\n",
       "      <th>...</th>\n",
       "      <td>...</td>\n",
       "      <td>...</td>\n",
       "      <td>...</td>\n",
       "      <td>...</td>\n",
       "    </tr>\n",
       "    <tr>\n",
       "      <th>694</th>\n",
       "      <td>NaN</td>\n",
       "      <td>NaN</td>\n",
       "      <td>NaN</td>\n",
       "      <td>NaN</td>\n",
       "    </tr>\n",
       "    <tr>\n",
       "      <th>695</th>\n",
       "      <td>NaN</td>\n",
       "      <td>NaN</td>\n",
       "      <td>NaN</td>\n",
       "      <td>NaN</td>\n",
       "    </tr>\n",
       "    <tr>\n",
       "      <th>696</th>\n",
       "      <td>13.0</td>\n",
       "      <td>4.0</td>\n",
       "      <td>9.0</td>\n",
       "      <td>2.0</td>\n",
       "    </tr>\n",
       "    <tr>\n",
       "      <th>697</th>\n",
       "      <td>8.0</td>\n",
       "      <td>2.0</td>\n",
       "      <td>6.0</td>\n",
       "      <td>2.0</td>\n",
       "    </tr>\n",
       "    <tr>\n",
       "      <th>698</th>\n",
       "      <td>NaN</td>\n",
       "      <td>NaN</td>\n",
       "      <td>NaN</td>\n",
       "      <td>NaN</td>\n",
       "    </tr>\n",
       "  </tbody>\n",
       "</table>\n",
       "<p>699 rows × 4 columns</p>\n",
       "</div>"
      ],
      "text/plain": [
       "     ados_total  ados_comm  ados_social  ados_rrb\n",
       "0          18.0        6.0         12.0       2.0\n",
       "1           NaN        NaN          NaN       NaN\n",
       "2          13.0        4.0          9.0       NaN\n",
       "3          12.0        4.0          8.0       2.0\n",
       "4          16.0        5.0         11.0       3.0\n",
       "..          ...        ...          ...       ...\n",
       "694         NaN        NaN          NaN       NaN\n",
       "695         NaN        NaN          NaN       NaN\n",
       "696        13.0        4.0          9.0       2.0\n",
       "697         8.0        2.0          6.0       2.0\n",
       "698         NaN        NaN          NaN       NaN\n",
       "\n",
       "[699 rows x 4 columns]"
      ]
     },
     "execution_count": 61,
     "metadata": {},
     "output_type": "execute_result"
    }
   ],
   "source": [
    "#read in symptom patient data and slice out important columns\n",
    "df = pd.read_csv('/mmfs1/data/pijarj/Data4Julianna/df_patients_S699.csv')\n",
    "df.columns\n",
    "df[['ados_total', 'ados_comm', 'ados_social', 'ados_rrb']]"
   ]
  },
  {
   "cell_type": "code",
   "execution_count": 62,
   "id": "7ce91731-742f-43c8-9949-bd8be8821b76",
   "metadata": {},
   "outputs": [
    {
     "data": {
      "text/plain": [
       "(699, 36)"
      ]
     },
     "execution_count": 62,
     "metadata": {},
     "output_type": "execute_result"
    }
   ],
   "source": [
    "df.shape"
   ]
  },
  {
   "cell_type": "code",
   "execution_count": 63,
   "id": "673d17aa-9ed0-4449-900f-ebbd2fa99860",
   "metadata": {},
   "outputs": [
    {
     "data": {
      "text/plain": [
       "(699, 51, 51)"
      ]
     },
     "execution_count": 63,
     "metadata": {},
     "output_type": "execute_result"
    }
   ],
   "source": [
    "#load in diffmat data\n",
    "diffmat = np.load('/mmfs1/data/pijarj/Data4Julianna/recon_asd_diffmats.npz')\n",
    "diffmat = diffmat['data']\n",
    "diffmat.shape"
   ]
  },
  {
   "cell_type": "code",
   "execution_count": 64,
   "id": "ac7102b1-d90a-4e06-91f5-dbd6b1032342",
   "metadata": {
    "tags": []
   },
   "outputs": [],
   "source": [
    "atlas = ants.image_read('../../YeoAtlas/Atlas_parc-7n_2mm.nii')"
   ]
  },
  {
   "cell_type": "code",
   "execution_count": 65,
   "id": "57a8549e-6350-4f69-970e-63042597aae3",
   "metadata": {},
   "outputs": [],
   "source": [
    "genemaps = [file for file in os.listdir() if file.endswith('.nii.gz')]\n",
    "genemaps.sort()"
   ]
  },
  {
   "cell_type": "code",
   "execution_count": 66,
   "id": "cfc86668-691a-4b86-8e5f-d2cd53b2bbfb",
   "metadata": {},
   "outputs": [
    {
     "name": "stdout",
     "output_type": "stream",
     "text": [
      "699\n",
      "13\n"
     ]
    },
    {
     "data": {
      "text/plain": [
       "array([[0., 0., 0., ..., 0., 0., 0.],\n",
       "       [0., 0., 0., ..., 0., 0., 0.],\n",
       "       [0., 0., 0., ..., 0., 0., 0.],\n",
       "       ...,\n",
       "       [0., 0., 0., ..., 0., 0., 0.],\n",
       "       [0., 0., 0., ..., 0., 0., 0.],\n",
       "       [0., 0., 0., ..., 0., 0., 0.]])"
      ]
     },
     "execution_count": 66,
     "metadata": {},
     "output_type": "execute_result"
    }
   ],
   "source": [
    "nsubjects = 699\n",
    "ngenes = len(genemaps)\n",
    "print(nsubjects)\n",
    "print(ngenes)\n",
    "\n",
    "gene_fmri_corr = np.zeros((ngenes,nsubjects))\n",
    "gene_fmri_corr"
   ]
  },
  {
   "cell_type": "code",
   "execution_count": 67,
   "id": "230d89cb-35d5-42b2-a988-d05d55b924b7",
   "metadata": {},
   "outputs": [
    {
     "name": "stderr",
     "output_type": "stream",
     "text": [
      "100%|██████████| 13/13 [00:01<00:00,  6.86it/s]\n"
     ]
    }
   ],
   "source": [
    "for g in tqdm(range(ngenes)):\n",
    "    gene_im = ants.image_read(genemaps[g])\n",
    "    gene_flat = gene_im.numpy().flatten()\n",
    "    atlas_flat = atlas.numpy().flatten()\n",
    "    roi_expression = np.array([gene_flat[atlas_flat==roi].mean() for roi in np.arange(1,52)])\n",
    "    gene_sim = np.zeros((51,51))\n",
    "    for i in range(51):\n",
    "        for j in range(51):\n",
    "            gene_sim[i,j] = abs(roi_expression[i]-roi_expression[j])\n",
    "\n",
    "    triu = np.triu_indices(51,k=1)\n",
    "    gene_vec = gene_sim[triu]\n",
    "\n",
    "    for s in range(nsubjects):\n",
    "        subject_diffmat = diffmat[s,:,:] # correlation matrices for one subject\n",
    "        fmri_vec = subject_diffmat[triu]\n",
    "        data = np.corrcoef(gene_vec,fmri_vec)[0,1]\n",
    "        gene_fmri_corr[g,s] = data"
   ]
  },
  {
   "cell_type": "code",
   "execution_count": 68,
   "id": "cae7ac24-faa5-45d5-bcc0-2b656d1de9a0",
   "metadata": {},
   "outputs": [
    {
     "data": {
      "text/plain": [
       "<matplotlib.image.AxesImage at 0x1554d4087d60>"
      ]
     },
     "execution_count": 68,
     "metadata": {},
     "output_type": "execute_result"
    },
    {
     "data": {
      "image/png": "[encoded data removed]",
      "text/plain": [
       "<Figure size 1080x720 with 1 Axes>"
      ]
     },
     "metadata": {
      "needs_background": "light"
     },
     "output_type": "display_data"
    }
   ],
   "source": [
    "plt.figure(figsize=(15,10))\n",
    "plt.imshow(gene_fmri_corr)"
   ]
  },
  {
   "cell_type": "code",
   "execution_count": 69,
   "id": "8fe2dd97-5717-4727-beaa-bf23f8fbc7fa",
   "metadata": {},
   "outputs": [],
   "source": [
    "#change here for each column\n",
    "col_id = 1"
   ]
  },
  {
   "cell_type": "code",
   "execution_count": 70,
   "id": "b31625e4-a69e-4905-abfb-66a438b82f03",
   "metadata": {},
   "outputs": [
    {
     "name": "stdout",
     "output_type": "stream",
     "text": [
      "ados_comm\n"
     ]
    }
   ],
   "source": [
    "#remove nans\n",
    "Y = df[['ados_total', 'ados_comm', 'ados_social', 'ados_rrb']].values\n",
    "print(['ados_total', 'ados_comm', 'ados_social', 'ados_rrb'][col_id]) #column selected\n",
    "good_subjects = ~np.isnan(Y)[:,col_id]"
   ]
  },
  {
   "cell_type": "code",
   "execution_count": 71,
   "id": "a90e4f6e-2889-488a-b2a5-79a4f2d37e62",
   "metadata": {},
   "outputs": [
    {
     "data": {
      "text/plain": [
       "(411,)"
      ]
     },
     "execution_count": 71,
     "metadata": {},
     "output_type": "execute_result"
    }
   ],
   "source": [
    "#separate non-nan subjects in selected column\n",
    "Y_use = Y[good_subjects,col_id] \n",
    "Y_use.shape"
   ]
  },
  {
   "cell_type": "code",
   "execution_count": 72,
   "id": "d910b73e-42e3-4891-9111-5065012b2435",
   "metadata": {},
   "outputs": [
    {
     "data": {
      "text/plain": [
       "(13, 699)"
      ]
     },
     "execution_count": 72,
     "metadata": {},
     "output_type": "execute_result"
    }
   ],
   "source": [
    "gene_fmri_corr.shape"
   ]
  },
  {
   "cell_type": "code",
   "execution_count": 73,
   "id": "bc43607d-97bd-4172-8557-a9511fbaeb9d",
   "metadata": {
    "tags": []
   },
   "outputs": [
    {
     "data": {
      "text/plain": [
       "(411, 13)"
      ]
     },
     "execution_count": 73,
     "metadata": {},
     "output_type": "execute_result"
    }
   ],
   "source": [
    "#match non-nan subjects in gene_fmri_corr\n",
    "X_use = gene_fmri_corr[:,good_subjects]\n",
    "X_use = X_use.transpose() #match column row size with Y_use\n",
    "X_use.shape"
   ]
  },
  {
   "cell_type": "code",
   "execution_count": 74,
   "id": "6c48edf0-be7a-401a-a298-c2fce7e0a2a0",
   "metadata": {
    "tags": []
   },
   "outputs": [
    {
     "data": {
      "text/plain": [
       "LinearRegression(normalize=True)"
      ]
     },
     "execution_count": 74,
     "metadata": {},
     "output_type": "execute_result"
    }
   ],
   "source": [
    "#perform multivariate linear aggression\n",
    "regression =  linear_model.LinearRegression(normalize=True)\n",
    "regression.fit(X_use,Y_use) "
   ]
  },
  {
   "cell_type": "code",
   "execution_count": 75,
   "id": "10081490-6c6f-4296-bac8-395d4cbbeff6",
   "metadata": {},
   "outputs": [
    {
     "data": {
      "text/plain": [
       "array([-1.04599854,  0.44164993,  0.86767393, -0.03576914, -0.02514413,\n",
       "        1.91371414, -0.21080522,  0.4165169 ,  0.837797  ,  0.73880256,\n",
       "       -1.93477372,  1.08550605, -0.3489913 ])"
      ]
     },
     "execution_count": 75,
     "metadata": {},
     "output_type": "execute_result"
    }
   ],
   "source": [
    "regression.coef_"
   ]
  },
  {
   "cell_type": "code",
   "execution_count": null,
   "id": "a7c0c196-8369-47be-ac50-dbd6f0758399",
   "metadata": {},
   "outputs": [],
   "source": []
  },
  {
   "cell_type": "code",
   "execution_count": null,
   "id": "6a2f4aaf-fdef-409c-933f-467fa72fb85b",
   "metadata": {},
   "outputs": [],
   "source": []
  },
  {
   "cell_type": "code",
   "execution_count": null,
   "id": "ff043507-a297-41d7-ac8e-dea1fcf45914",
   "metadata": {},
   "outputs": [],
   "source": []
  }
 ],
 "metadata": {
  "kernelspec": {
   "display_name": "Python 3",
   "language": "python",
   "name": "python3"
  },
  "language_info": {
   "codemirror_mode": {
    "name": "ipython",
    "version": 3
   },
   "file_extension": ".py",
   "mimetype": "text/x-python",
   "name": "python",
   "nbconvert_exporter": "python",
   "pygments_lexer": "ipython3",
   "version": "3.8.8"
  }
 },
 "nbformat": 4,
 "nbformat_minor": 5
}
