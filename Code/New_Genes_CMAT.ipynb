{
 "cells": [
  {
   "cell_type": "code",
   "execution_count": null,
   "id": "0a2f91f2-70a6-46d0-8437-637f9533eb2d",
   "metadata": {},
   "outputs": [],
   "source": [
    "#adding in new genes to analysis"
   ]
  },
  {
   "cell_type": "code",
   "execution_count": 1,
   "id": "d8fc3287-b2cb-4d02-a719-9374e1d34e0d",
   "metadata": {},
   "outputs": [],
   "source": [
    "import pandas as pd\n",
    "from sklearn import linear_model\n",
    "import numpy as np\n",
    "from matplotlib import pyplot as plt\n",
    "import ants\n",
    "import os\n",
    "from tqdm import tqdm\n",
    "import statistics\n",
    "import statsmodels.api as sm"
   ]
  },
  {
   "cell_type": "code",
   "execution_count": 2,
   "id": "3d24f406-889d-450d-8ded-1726ae325c4d",
   "metadata": {},
   "outputs": [
    {
     "name": "stdout",
     "output_type": "stream",
     "text": [
      "/mmfs1/data/pijarj/BC-ORG-Data/Data/Genemaps\n"
     ]
    }
   ],
   "source": [
    "cd ../Data/Genemaps"
   ]
  },
  {
   "cell_type": "code",
   "execution_count": 3,
   "id": "1b28f75c-6d30-4c9c-b79c-82fef64188eb",
   "metadata": {},
   "outputs": [
    {
     "data": {
      "text/html": [
       "<div>\n",
       "<style scoped>\n",
       "    .dataframe tbody tr th:only-of-type {\n",
       "        vertical-align: middle;\n",
       "    }\n",
       "\n",
       "    .dataframe tbody tr th {\n",
       "        vertical-align: top;\n",
       "    }\n",
       "\n",
       "    .dataframe thead th {\n",
       "        text-align: right;\n",
       "    }\n",
       "</style>\n",
       "<table border=\"1\" class=\"dataframe\">\n",
       "  <thead>\n",
       "    <tr style=\"text-align: right;\">\n",
       "      <th></th>\n",
       "      <th>ados_total</th>\n",
       "      <th>ados_comm</th>\n",
       "      <th>ados_social</th>\n",
       "      <th>ados_rrb</th>\n",
       "    </tr>\n",
       "  </thead>\n",
       "  <tbody>\n",
       "    <tr>\n",
       "      <th>0</th>\n",
       "      <td>18.0</td>\n",
       "      <td>6.0</td>\n",
       "      <td>12.0</td>\n",
       "      <td>2.0</td>\n",
       "    </tr>\n",
       "    <tr>\n",
       "      <th>1</th>\n",
       "      <td>NaN</td>\n",
       "      <td>NaN</td>\n",
       "      <td>NaN</td>\n",
       "      <td>NaN</td>\n",
       "    </tr>\n",
       "    <tr>\n",
       "      <th>2</th>\n",
       "      <td>13.0</td>\n",
       "      <td>4.0</td>\n",
       "      <td>9.0</td>\n",
       "      <td>NaN</td>\n",
       "    </tr>\n",
       "    <tr>\n",
       "      <th>3</th>\n",
       "      <td>12.0</td>\n",
       "      <td>4.0</td>\n",
       "      <td>8.0</td>\n",
       "      <td>2.0</td>\n",
       "    </tr>\n",
       "    <tr>\n",
       "      <th>4</th>\n",
       "      <td>16.0</td>\n",
       "      <td>5.0</td>\n",
       "      <td>11.0</td>\n",
       "      <td>3.0</td>\n",
       "    </tr>\n",
       "    <tr>\n",
       "      <th>...</th>\n",
       "      <td>...</td>\n",
       "      <td>...</td>\n",
       "      <td>...</td>\n",
       "      <td>...</td>\n",
       "    </tr>\n",
       "    <tr>\n",
       "      <th>694</th>\n",
       "      <td>NaN</td>\n",
       "      <td>NaN</td>\n",
       "      <td>NaN</td>\n",
       "      <td>NaN</td>\n",
       "    </tr>\n",
       "    <tr>\n",
       "      <th>695</th>\n",
       "      <td>NaN</td>\n",
       "      <td>NaN</td>\n",
       "      <td>NaN</td>\n",
       "      <td>NaN</td>\n",
       "    </tr>\n",
       "    <tr>\n",
       "      <th>696</th>\n",
       "      <td>13.0</td>\n",
       "      <td>4.0</td>\n",
       "      <td>9.0</td>\n",
       "      <td>2.0</td>\n",
       "    </tr>\n",
       "    <tr>\n",
       "      <th>697</th>\n",
       "      <td>8.0</td>\n",
       "      <td>2.0</td>\n",
       "      <td>6.0</td>\n",
       "      <td>2.0</td>\n",
       "    </tr>\n",
       "    <tr>\n",
       "      <th>698</th>\n",
       "      <td>NaN</td>\n",
       "      <td>NaN</td>\n",
       "      <td>NaN</td>\n",
       "      <td>NaN</td>\n",
       "    </tr>\n",
       "  </tbody>\n",
       "</table>\n",
       "<p>699 rows × 4 columns</p>\n",
       "</div>"
      ],
      "text/plain": [
       "     ados_total  ados_comm  ados_social  ados_rrb\n",
       "0          18.0        6.0         12.0       2.0\n",
       "1           NaN        NaN          NaN       NaN\n",
       "2          13.0        4.0          9.0       NaN\n",
       "3          12.0        4.0          8.0       2.0\n",
       "4          16.0        5.0         11.0       3.0\n",
       "..          ...        ...          ...       ...\n",
       "694         NaN        NaN          NaN       NaN\n",
       "695         NaN        NaN          NaN       NaN\n",
       "696        13.0        4.0          9.0       2.0\n",
       "697         8.0        2.0          6.0       2.0\n",
       "698         NaN        NaN          NaN       NaN\n",
       "\n",
       "[699 rows x 4 columns]"
      ]
     },
     "execution_count": 3,
     "metadata": {},
     "output_type": "execute_result"
    }
   ],
   "source": [
    "#read in symptom patient data and slice out important columns\n",
    "df = pd.read_csv('/mmfs1/data/pijarj/Data4Julianna/df_patients_S699.csv')\n",
    "df.columns\n",
    "df[['ados_total', 'ados_comm', 'ados_social', 'ados_rrb']]"
   ]
  },
  {
   "cell_type": "code",
   "execution_count": 4,
   "id": "df42d15f-3154-4556-ac3d-ca1bb94a4628",
   "metadata": {},
   "outputs": [
    {
     "data": {
      "text/plain": [
       "(699, 51, 51)"
      ]
     },
     "execution_count": 4,
     "metadata": {},
     "output_type": "execute_result"
    }
   ],
   "source": [
    "#load in cmat data\n",
    "atlas = ants.image_read('../../YeoAtlas/Atlas_parc-7n_2mm.nii')\n",
    "diffmat = np.load('/mmfs1/data/pijarj/Data4Julianna/recon_asd_mu.npz')\n",
    "diffmat = diffmat['data']\n",
    "diffmat.shape"
   ]
  },
  {
   "cell_type": "code",
   "execution_count": 5,
   "id": "9a9f618b-36c4-4124-a1af-46fecc43fd6e",
   "metadata": {},
   "outputs": [],
   "source": [
    "genemaps = [file for file in os.listdir() if file.endswith('.nii.gz')]\n",
    "genemaps.sort()"
   ]
  },
  {
   "cell_type": "code",
   "execution_count": 6,
   "id": "5ba84bb6-67d6-432e-8fcd-c2f4950fd5ea",
   "metadata": {},
   "outputs": [
    {
     "name": "stdout",
     "output_type": "stream",
     "text": [
      "699\n",
      "8\n"
     ]
    },
    {
     "data": {
      "text/plain": [
       "array([[0., 0., 0., ..., 0., 0., 0.],\n",
       "       [0., 0., 0., ..., 0., 0., 0.],\n",
       "       [0., 0., 0., ..., 0., 0., 0.],\n",
       "       ...,\n",
       "       [0., 0., 0., ..., 0., 0., 0.],\n",
       "       [0., 0., 0., ..., 0., 0., 0.],\n",
       "       [0., 0., 0., ..., 0., 0., 0.]])"
      ]
     },
     "execution_count": 6,
     "metadata": {},
     "output_type": "execute_result"
    }
   ],
   "source": [
    "nsubjects = 699\n",
    "ngenes = len(genemaps)\n",
    "print(nsubjects)\n",
    "print(ngenes)\n",
    "\n",
    "gene_fmri_corr = np.zeros((ngenes,nsubjects))\n",
    "gene_fmri_corr"
   ]
  },
  {
   "cell_type": "code",
   "execution_count": 7,
   "id": "165b5f8a-87ab-42a0-a1d6-804a5880e14d",
   "metadata": {},
   "outputs": [
    {
     "name": "stderr",
     "output_type": "stream",
     "text": [
      "100%|██████████| 8/8 [00:01<00:00,  6.63it/s]\n"
     ]
    }
   ],
   "source": [
    "for g in tqdm(range(ngenes)):\n",
    "    gene_im = ants.image_read(genemaps[g])\n",
    "    gene_flat = gene_im.numpy().flatten()\n",
    "    atlas_flat = atlas.numpy().flatten()\n",
    "    roi_expression = np.array([gene_flat[atlas_flat==roi].mean() for roi in np.arange(1,52)])\n",
    "    gene_sim = np.zeros((51,51))\n",
    "    for i in range(51):\n",
    "        for j in range(51):\n",
    "            gene_sim[i,j] = abs(roi_expression[i]-roi_expression[j])\n",
    "\n",
    "    triu = np.triu_indices(51,k=1)\n",
    "    gene_vec = gene_sim[triu]\n",
    "\n",
    "    for s in range(nsubjects):\n",
    "        subject_diffmat = diffmat[s,:,:] # correlation matrices for one subject\n",
    "        fmri_vec = subject_diffmat[triu]\n",
    "        data = np.corrcoef(gene_vec,fmri_vec)[0,1]\n",
    "        gene_fmri_corr[g,s] = data"
   ]
  },
  {
   "cell_type": "code",
   "execution_count": 8,
   "id": "514e5699-4667-4ad5-8b26-830c61acea30",
   "metadata": {},
   "outputs": [
    {
     "data": {
      "text/plain": [
       "<matplotlib.image.AxesImage at 0x1554d4603850>"
      ]
     },
     "execution_count": 8,
     "metadata": {},
     "output_type": "execute_result"
    },
    {
     "data": {
      "image/png": "[encoded data removed]",
      "text/plain": [
       "<Figure size 1080x720 with 1 Axes>"
      ]
     },
     "metadata": {
      "needs_background": "light"
     },
     "output_type": "display_data"
    }
   ],
   "source": [
    "plt.figure(figsize=(15,10))\n",
    "plt.imshow(gene_fmri_corr)"
   ]
  },
  {
   "cell_type": "code",
   "execution_count": 9,
   "id": "d661a981-bcab-49e1-81f2-1092cd55708f",
   "metadata": {},
   "outputs": [
    {
     "data": {
      "text/plain": [
       "(8, 699)"
      ]
     },
     "execution_count": 9,
     "metadata": {},
     "output_type": "execute_result"
    }
   ],
   "source": [
    "gene_fmri_corr.shape"
   ]
  },
  {
   "cell_type": "code",
   "execution_count": 10,
   "id": "78a50503-b6de-4042-9a11-8de4684f82b4",
   "metadata": {},
   "outputs": [],
   "source": [
    "col_id = 0\n",
    "Y_total = df[['ados_total', 'ados_comm', 'ados_social', 'ados_rrb']].values\n",
    "column_total = (['ados_total', 'ados_comm', 'ados_social', 'ados_rrb'][col_id])\n",
    "good_subjects_total = ~np.isnan(Y_total)[:,col_id]\n",
    "Y_use_total = Y_total[good_subjects_total,col_id] \n",
    "X_use_total = gene_fmri_corr[:,good_subjects_total]\n",
    "X_use_total = X_use_total.transpose()\n",
    "regression_total =  linear_model.LinearRegression(normalize=True)\n",
    "linear_regression_total = regression_total.fit(X_use_total,Y_use_total) \n",
    "Y_use_hat_total = linear_regression_total.predict(X_use_total)"
   ]
  },
  {
   "cell_type": "code",
   "execution_count": 12,
   "id": "a21ec09d-4e94-4ab3-9447-c9fdbe9db3e4",
   "metadata": {},
   "outputs": [
    {
     "data": {
      "image/png": "[encoded data removed]",
      "text/plain": [
       "<Figure size 432x288 with 1 Axes>"
      ]
     },
     "metadata": {
      "needs_background": "light"
     },
     "output_type": "display_data"
    }
   ],
   "source": [
    "#scatter plot for ados_total\n",
    "plt.scatter(Y_use_total,Y_use_hat_total,color='yellowgreen')\n",
    "plt.title('ADOS TOTAL')\n",
    "plt.xlabel('Actual Score')\n",
    "plt.ylabel('Predicted Score')\n",
    "plt.show()"
   ]
  },
  {
   "cell_type": "code",
   "execution_count": 13,
   "id": "e4c5e1a3-a4f8-4648-a74d-777aab7ad619",
   "metadata": {},
   "outputs": [],
   "source": [
    "col_id = 1\n",
    "Y_comm = df[['ados_total', 'ados_comm', 'ados_social', 'ados_rrb']].values\n",
    "column_comm = (['ados_total', 'ados_comm', 'ados_social', 'ados_rrb'][col_id])\n",
    "good_subjects_comm = ~np.isnan(Y_comm)[:,col_id]\n",
    "Y_use_comm = Y_comm[good_subjects_comm,col_id] \n",
    "X_use_comm = gene_fmri_corr[:,good_subjects_comm]\n",
    "X_use_comm = X_use_comm.transpose()\n",
    "regression_comm =  linear_model.LinearRegression(normalize=True)\n",
    "linear_regression_comm = regression_comm.fit(X_use_comm,Y_use_comm) \n",
    "Y_use_hat_comm = linear_regression_comm.predict(X_use_comm)"
   ]
  },
  {
   "cell_type": "code",
   "execution_count": 17,
   "id": "1b9e4ed9-2b05-45d8-be3a-a73d63da6f2c",
   "metadata": {},
   "outputs": [
    {
     "data": {
      "image/png": "[encoded data removed]",
      "text/plain": [
       "<Figure size 432x288 with 1 Axes>"
      ]
     },
     "metadata": {
      "needs_background": "light"
     },
     "output_type": "display_data"
    }
   ],
   "source": [
    "#scatter plot for ados_comm\n",
    "plt.scatter(Y_use_comm,Y_use_hat_comm,color='seagreen')\n",
    "plt.title('ADOS COMM')\n",
    "plt.xlabel('Actual Score')\n",
    "plt.ylabel('Predicted Score')\n",
    "plt.show()"
   ]
  },
  {
   "cell_type": "code",
   "execution_count": 18,
   "id": "1e45215b-3afd-4b08-8161-ce475f453320",
   "metadata": {},
   "outputs": [],
   "source": [
    "col_id = 2\n",
    "Y_social = df[['ados_total', 'ados_comm', 'ados_social', 'ados_rrb']].values\n",
    "column_social = (['ados_total', 'ados_comm', 'ados_social', 'ados_rrb'][col_id])\n",
    "good_subjects_social = ~np.isnan(Y_social)[:,col_id]\n",
    "Y_use_social = Y_social[good_subjects_social,col_id] \n",
    "X_use_social = gene_fmri_corr[:,good_subjects_social]\n",
    "X_use_social = X_use_social.transpose()\n",
    "regression_social =  linear_model.LinearRegression(normalize=True)\n",
    "linear_regression_social = regression_social.fit(X_use_social,Y_use_social) \n",
    "Y_use_hat_social = linear_regression_social.predict(X_use_social)"
   ]
  },
  {
   "cell_type": "code",
   "execution_count": 20,
   "id": "e1d4ccac-2327-49d2-a700-547837a0217f",
   "metadata": {},
   "outputs": [
    {
     "data": {
      "image/png": "[encoded data removed]",
      "text/plain": [
       "<Figure size 432x288 with 1 Axes>"
      ]
     },
     "metadata": {
      "needs_background": "light"
     },
     "output_type": "display_data"
    }
   ],
   "source": [
    "#scatter plot for ados_social\n",
    "plt.scatter(Y_use_social,Y_use_hat_social,color='lightseagreen')\n",
    "plt.title('ADOS SOCIAL')\n",
    "plt.xlabel('Actual Score')\n",
    "plt.ylabel('Predicted Score')\n",
    "plt.show()"
   ]
  },
  {
   "cell_type": "code",
   "execution_count": 21,
   "id": "0daf357c-1c77-42c8-9b8f-8587e890606e",
   "metadata": {},
   "outputs": [],
   "source": [
    "col_id = 3\n",
    "Y_rrb = df[['ados_total', 'ados_comm', 'ados_social', 'ados_rrb']].values\n",
    "column_rrb = (['ados_total', 'ados_comm', 'ados_social', 'ados_rrb'][col_id])\n",
    "good_subjects_rrb = ~np.isnan(Y_rrb)[:,col_id]\n",
    "Y_use_rrb = Y_rrb[good_subjects_rrb,col_id] \n",
    "X_use_rrb = gene_fmri_corr[:,good_subjects_rrb]\n",
    "X_use_rrb = X_use_rrb.transpose()\n",
    "regression_rrb =  linear_model.LinearRegression(normalize=True)\n",
    "linear_regression_rrb = regression_rrb.fit(X_use_rrb,Y_use_rrb) \n",
    "Y_use_hat_rrb = linear_regression_rrb.predict(X_use_rrb)"
   ]
  },
  {
   "cell_type": "code",
   "execution_count": 23,
   "id": "4002b0a2-92c7-4d5d-a32c-0c7cd0710f13",
   "metadata": {},
   "outputs": [
    {
     "data": {
      "image/png": "[encoded data removed]",
      "text/plain": [
       "<Figure size 432x288 with 1 Axes>"
      ]
     },
     "metadata": {
      "needs_background": "light"
     },
     "output_type": "display_data"
    }
   ],
   "source": [
    "#scatter plot for ados_rrb\n",
    "plt.scatter(Y_use_rrb,Y_use_hat_rrb,color='limegreen')\n",
    "plt.title('ADOS RRB')\n",
    "plt.xlabel('Actual Score')\n",
    "plt.ylabel('Predicted Score')\n",
    "plt.show()"
   ]
  },
  {
   "cell_type": "code",
   "execution_count": 24,
   "id": "dde09556-c14a-4cf2-afe8-4253d8115f48",
   "metadata": {},
   "outputs": [
    {
     "name": "stdout",
     "output_type": "stream",
     "text": [
      "0.8728959265440261\n"
     ]
    }
   ],
   "source": [
    "#variance explained for ados_total\n",
    "from sklearn.metrics import explained_variance_score\n",
    "total = explained_variance_score(Y_use_total,Y_use_hat_total)*100\n",
    "print(total)"
   ]
  },
  {
   "cell_type": "code",
   "execution_count": 25,
   "id": "f520cac6-74c6-456f-8b9d-f54e764cc651",
   "metadata": {},
   "outputs": [
    {
     "name": "stdout",
     "output_type": "stream",
     "text": [
      "1.4120197271464519\n"
     ]
    }
   ],
   "source": [
    "#variance explained for ados_comm\n",
    "from sklearn.metrics import explained_variance_score\n",
    "comm = explained_variance_score(Y_use_comm,Y_use_hat_comm)*100\n",
    "print(comm)"
   ]
  },
  {
   "cell_type": "code",
   "execution_count": 26,
   "id": "1fbd6279-66b5-4462-869f-fc4198b5cf5a",
   "metadata": {},
   "outputs": [
    {
     "name": "stdout",
     "output_type": "stream",
     "text": [
      "1.3473769505679911\n"
     ]
    }
   ],
   "source": [
    "#variance explained for ados_social\n",
    "from sklearn.metrics import explained_variance_score\n",
    "social = explained_variance_score(Y_use_social,Y_use_hat_social)*100\n",
    "print(social)"
   ]
  },
  {
   "cell_type": "code",
   "execution_count": 27,
   "id": "a2376341-59e4-46bf-8940-ed0ffc6dcfd1",
   "metadata": {},
   "outputs": [
    {
     "name": "stdout",
     "output_type": "stream",
     "text": [
      "4.088864256905767\n"
     ]
    }
   ],
   "source": [
    "#variance explained for ados_rrb\n",
    "from sklearn.metrics import explained_variance_score\n",
    "rrb = explained_variance_score(Y_use_rrb,Y_use_hat_rrb)*100\n",
    "print(rrb)"
   ]
  },
  {
   "cell_type": "code",
   "execution_count": 29,
   "id": "5c4a5c9a-fc4b-46b8-b753-e85ccaf93537",
   "metadata": {},
   "outputs": [
    {
     "data": {
      "text/plain": [
       "Text(0.5, 0, 'Symptom')"
      ]
     },
     "execution_count": 29,
     "metadata": {},
     "output_type": "execute_result"
    },
    {
     "data": {
      "image/png": "[encoded data removed]",
      "text/plain": [
       "<Figure size 1080x360 with 1 Axes>"
      ]
     },
     "metadata": {
      "needs_background": "light"
     },
     "output_type": "display_data"
    }
   ],
   "source": [
    "fig = plt.figure(figsize=(15,5))\n",
    "ax = fig.add_axes([0,0,1,1])\n",
    "ados_label = ['ados_total','ados_social','ados_comm','ados_rrb']\n",
    "var_explained = total, comm, social, rrb\n",
    "plt.bar(ados_label,var_explained,color='darkmagenta')\n",
    "plt.title('ADOS Variance Explained',color='magenta')\n",
    "plt.ylabel('Percent Variance Explained',color='magenta')\n",
    "plt.xlabel('Symptom',color='magenta')"
   ]
  },
  {
   "cell_type": "code",
   "execution_count": null,
   "id": "c6920c6f-f635-4b3a-9286-9a8fcde0cc37",
   "metadata": {},
   "outputs": [],
   "source": [
    "#variance explained of denoised vs not denoised\n",
    "fig = plt.figure(figsize=(15,5))\n",
    "ax = fig.add_axes([0,0,1,1])\n",
    "ados_label = ['ados_total','ados_social','ados_comm','ados_rrb']\n",
    "x_axis = np.arange(len(ados_label))\n",
    "\n",
    "#not denoised is asd_mu\n",
    "not_denoised = var_explained\n",
    "\n",
    "#denoised is diffmat\n",
    "denoised = [2.3310175037707492,3.539974425653303,4.331740939194462,2.0557265540216085]\n",
    "\n",
    "#plot bar graph\n",
    "plt.bar(x_axis-0.2,not_denoised,0.4,label='Not Denoised (asd_mu)',color='palegreen')\n",
    "plt.bar(x_axis+0.2,denoised,0.4,label='Denoised (diffmat)',color='forestgreen')\n",
    "plt.title('ADOS Variance Explained In Not Denoised vs Denoised',color='darkgreen')\n",
    "plt.xticks(x_axis, ados_label,color='darkgreen')\n",
    "plt.xlabel('Symptom',color='darkgreen')\n",
    "plt.ylabel('Percent Variance Explained',color='darkgreen')\n",
    "plt.legend()\n",
    "plt.show()"
   ]
  },
  {
   "cell_type": "code",
   "execution_count": 30,
   "id": "e2c3d1f0-a697-47c6-8058-5f4d1143c2cd",
   "metadata": {},
   "outputs": [
    {
     "name": "stdout",
     "output_type": "stream",
     "text": [
      "ados_total\n",
      "\n",
      "EN2,-0.9601075836465282\n",
      "TREM2,-2.295032013733191\n",
      "IL6,-2.9567893562514134\n",
      "CHD8,2.7310705973817506\n",
      "MECP2,2.043674555137801\n",
      "SGSH,-2.313572005663297\n",
      "CDKL5,-2.8587230757568936\n",
      "SYN2,2.8399751155273147\n"
     ]
    }
   ],
   "source": [
    "#correlation coefficents for ados_total\n",
    "coefficient_total = regression_total.coef_\n",
    "labels = ['EN2','TREM2','IL6','CHD8','MECP2','SGSH','CDKL5','SYN2']\n",
    "print(column_total)\n",
    "print()\n",
    "for i in range(0,8):\n",
    "    print(f'{labels[i]},{coefficient_total[i]}')"
   ]
  },
  {
   "cell_type": "code",
   "execution_count": 33,
   "id": "de29e127-3870-4415-8cf7-b64822bb5710",
   "metadata": {},
   "outputs": [
    {
     "data": {
      "image/png": "[encoded data removed]",
      "text/plain": [
       "<Figure size 1080x360 with 1 Axes>"
      ]
     },
     "metadata": {
      "needs_background": "light"
     },
     "output_type": "display_data"
    }
   ],
   "source": [
    "fig = plt.figure(figsize=(15,5))\n",
    "ax = fig.add_axes([0,0,1,1])\n",
    "plt.bar(labels,coefficient_total,color='slateblue')\n",
    "plt.title('Gene Correlation Coefficients for ADOS TOTAL',color='darkblue')\n",
    "plt.ylabel('Correlation Coefficient',color='darkblue')\n",
    "plt.xlabel('Gene',color='darkblue')\n",
    "plt.show()"
   ]
  },
  {
   "cell_type": "code",
   "execution_count": 34,
   "id": "9497c0fe-3e68-49fd-8ed7-32b080a50db4",
   "metadata": {},
   "outputs": [
    {
     "name": "stdout",
     "output_type": "stream",
     "text": [
      "ados_comm\n",
      "\n",
      "EN2,1.0890542315425906\n",
      "TREM2,-1.4078671643341352\n",
      "IL6,-2.6568926483780904\n",
      "CHD8,1.949060822515126\n",
      "MECP2,1.6789615356105176\n",
      "SGSH,-2.3016013165038407\n",
      "CDKL5,-1.237115716339588\n",
      "SYN2,0.9306385350295958\n"
     ]
    }
   ],
   "source": [
    "#correlation coefficents for ados_comm\n",
    "coefficient_comm = regression_comm.coef_\n",
    "print(column_comm)\n",
    "print()\n",
    "for i in range(0,8):\n",
    "    print(f'{labels[i]},{coefficient_comm[i]}')"
   ]
  },
  {
   "cell_type": "code",
   "execution_count": 38,
   "id": "cd541ce7-2811-4846-b95b-a8d754df0b27",
   "metadata": {},
   "outputs": [
    {
     "data": {
      "image/png": "[encoded data removed]",
      "text/plain": [
       "<Figure size 1080x360 with 1 Axes>"
      ]
     },
     "metadata": {
      "needs_background": "light"
     },
     "output_type": "display_data"
    }
   ],
   "source": [
    "fig = plt.figure(figsize=(15,5))\n",
    "ax = fig.add_axes([0,0,1,1])\n",
    "plt.bar(labels,coefficient_comm,color='darkseagreen')\n",
    "plt.title('Gene Correlation Coefficients for ADOS COMM',color='forestgreen')\n",
    "plt.ylabel('Correlation Coefficient',color='forestgreen')\n",
    "plt.xlabel('Gene',color='forestgreen')\n",
    "plt.show()"
   ]
  },
  {
   "cell_type": "code",
   "execution_count": 39,
   "id": "e0d6ac4e-92b8-4e3c-97c7-5f5f986354b6",
   "metadata": {},
   "outputs": [
    {
     "name": "stdout",
     "output_type": "stream",
     "text": [
      "ados_social\n",
      "\n",
      "EN2,-0.5528144736759767\n",
      "TREM2,-1.9037211462270192\n",
      "IL6,-1.4331155123374615\n",
      "CHD8,0.7794068367191302\n",
      "MECP2,1.3520463073584041\n",
      "SGSH,0.014574958689487365\n",
      "CDKL5,-2.8538025789784602\n",
      "SYN2,3.6562433338739777\n"
     ]
    }
   ],
   "source": [
    "#correlation coefficents for ados_social\n",
    "coefficient_social = regression_social.coef_\n",
    "print(column_social)\n",
    "print()\n",
    "for i in range(0,8):\n",
    "    print(f'{labels[i]},{coefficient_social[i]}')"
   ]
  },
  {
   "cell_type": "code",
   "execution_count": 42,
   "id": "d68152a7-b119-49e0-a75d-54da4fd00af0",
   "metadata": {},
   "outputs": [
    {
     "data": {
      "image/png": "[encoded data removed]",
      "text/plain": [
       "<Figure size 1080x360 with 1 Axes>"
      ]
     },
     "metadata": {
      "needs_background": "light"
     },
     "output_type": "display_data"
    }
   ],
   "source": [
    "fig = plt.figure(figsize=(15,5))\n",
    "ax = fig.add_axes([0,0,1,1])\n",
    "plt.bar(labels,coefficient_social,color='deeppink')\n",
    "plt.title('Gene Correlation Coefficients for ADOS SOCIAL',color='hotpink')\n",
    "plt.ylabel('Correlation Coefficient',color='hotpink')\n",
    "plt.xlabel('Gene',color='hotpink')\n",
    "plt.show()"
   ]
  },
  {
   "cell_type": "code",
   "execution_count": 43,
   "id": "ded50b16-51e9-4676-9007-afb3bf9801f0",
   "metadata": {},
   "outputs": [
    {
     "name": "stdout",
     "output_type": "stream",
     "text": [
      "ados_rrb\n",
      "\n",
      "EN2,-3.402210432811151\n",
      "TREM2,0.8073658360122954\n",
      "IL6,-4.099435570019373\n",
      "CHD8,1.5400546660605317\n",
      "MECP2,-1.9930248037882299\n",
      "SGSH,0.950063966530519\n",
      "CDKL5,1.3243374443226545\n",
      "SYN2,1.3929153065569726\n"
     ]
    }
   ],
   "source": [
    "#correlation coefficents for ados_rrb\n",
    "coefficient_rrb = regression_rrb.coef_\n",
    "print(column_rrb)\n",
    "print()\n",
    "for i in range(0,8):\n",
    "    print(f'{labels[i]},{coefficient_rrb[i]}')"
   ]
  },
  {
   "cell_type": "code",
   "execution_count": 45,
   "id": "28b86b5d-f16c-49bb-bcd7-eace7322fc0e",
   "metadata": {},
   "outputs": [
    {
     "data": {
      "image/png": "[encoded data removed]",
      "text/plain": [
       "<Figure size 1080x360 with 1 Axes>"
      ]
     },
     "metadata": {
      "needs_background": "light"
     },
     "output_type": "display_data"
    }
   ],
   "source": [
    "fig = plt.figure(figsize=(15,5))\n",
    "ax = fig.add_axes([0,0,1,1])\n",
    "plt.bar(labels,coefficient_rrb,color='darksalmon')\n",
    "plt.title('Gene Correlation Coefficients for ADOS RRB',color='salmon')\n",
    "plt.ylabel('Correlation Coefficient',color='salmon')\n",
    "plt.xlabel('Gene',color='salmon')\n",
    "plt.show()"
   ]
  },
  {
   "cell_type": "code",
   "execution_count": 46,
   "id": "9ac492ff-20d7-49c5-9d47-6139c73548c7",
   "metadata": {},
   "outputs": [
    {
     "name": "stdout",
     "output_type": "stream",
     "text": [
      "ADOS_TOTAL\n",
      "(429, 9)\n",
      "(429,)\n",
      "                            OLS Regression Results                            \n",
      "==============================================================================\n",
      "Dep. Variable:                      y   R-squared:                       0.009\n",
      "Model:                            OLS   Adj. R-squared:                 -0.010\n",
      "Method:                 Least Squares   F-statistic:                    0.4623\n",
      "Date:                Sun, 30 Oct 2022   Prob (F-statistic):              0.882\n",
      "Time:                        22:09:33   Log-Likelihood:                -1187.9\n",
      "No. Observations:                 429   AIC:                             2394.\n",
      "Df Residuals:                     420   BIC:                             2430.\n",
      "Df Model:                           8                                         \n",
      "Covariance Type:            nonrobust                                         \n",
      "==============================================================================\n",
      "                 coef    std err          t      P>|t|      [0.025      0.975]\n",
      "------------------------------------------------------------------------------\n",
      "const         10.6314      0.520     20.459      0.000       9.610      11.653\n",
      "x1            -0.9601      4.542     -0.211      0.833      -9.887       7.967\n",
      "x2            -2.2950      3.840     -0.598      0.550      -9.843       5.253\n",
      "x3            -2.9568      5.795     -0.510      0.610     -14.348       8.434\n",
      "x4             2.7311      3.654      0.747      0.455      -4.452       9.914\n",
      "x5             2.0437      5.057      0.404      0.686      -7.897      11.984\n",
      "x6            -2.3136      3.891     -0.595      0.552      -9.962       5.335\n",
      "x7            -2.8587      5.183     -0.552      0.582     -13.046       7.329\n",
      "x8             2.8400      3.658      0.776      0.438      -4.350      10.030\n",
      "==============================================================================\n",
      "Omnibus:                       10.208   Durbin-Watson:                   1.552\n",
      "Prob(Omnibus):                  0.006   Jarque-Bera (JB):               10.549\n",
      "Skew:                           0.369   Prob(JB):                      0.00512\n",
      "Kurtosis:                       2.787   Cond. No.                         39.3\n",
      "==============================================================================\n",
      "\n",
      "Notes:\n",
      "[1] Standard Errors assume that the covariance matrix of the errors is correctly specified.\n"
     ]
    }
   ],
   "source": [
    "#significance of coefficients for ados_total\n",
    "print('ADOS_TOTAL')\n",
    "X_total = X_use_total.copy()\n",
    "Y_total = Y_use_total.copy()\n",
    "X_total = sm.add_constant(X_total)\n",
    "print(X_total.shape)\n",
    "print(Y_total.shape)\n",
    "\n",
    "est_total = sm.OLS(Y_total, X_total)\n",
    "est2_total = est_total.fit()\n",
    "print(est2_total.summary())"
   ]
  },
  {
   "cell_type": "code",
   "execution_count": 95,
   "id": "a1a05d72-bed8-4fa4-a018-41101ca4eb36",
   "metadata": {},
   "outputs": [],
   "source": [
    "def plot_errorbar_from_table(est2_total,labels):\n",
    "    coef_total = est2_total.params[1::]\n",
    "    ci_total = est2_total.conf_int()[1::,:]\n",
    "    ci_rel_total = abs(np.vstack((coef_total,coef_total)).transpose() - ci_total)\n",
    "    ci_rel_total = ci_rel_total.transpose()\n",
    "    xs_total = np.arange(len(coef_total))\n",
    "\n",
    "    plt.figure(figsize=(15,5))\n",
    "    plt.bar(xs_total,coef_total,color='tan')\n",
    "    plt.errorbar(xs_total,coef_total,ci_rel_total,fmt='r ',capsize=10,ecolor='saddlebrown')\n",
    "    plt.xticks(xs_total,labels=labels);"
   ]
  },
  {
   "cell_type": "code",
   "execution_count": 96,
   "id": "07d063c2-fa51-419a-86ab-19dc7d491d17",
   "metadata": {},
   "outputs": [
    {
     "data": {
      "text/plain": [
       "Text(0.5, 0, 'Gene')"
      ]
     },
     "execution_count": 96,
     "metadata": {},
     "output_type": "execute_result"
    },
    {
     "data": {
      "image/png": "[encoded data removed]",
      "text/plain": [
       "<Figure size 1080x360 with 1 Axes>"
      ]
     },
     "metadata": {
      "needs_background": "light"
     },
     "output_type": "display_data"
    }
   ],
   "source": [
    "plot_errorbar_from_table(est2_total,labels)\n",
    "plt.title('Coefficient with Errorbar For ADOS_TOTAL',color='saddlebrown')\n",
    "plt.ylabel('Correlation Coefficient',color='saddlebrown')\n",
    "plt.xlabel('Gene',color='saddlebrown')"
   ]
  },
  {
   "cell_type": "code",
   "execution_count": 66,
   "id": "c7c6a604-1da9-41cc-9bd5-ea2b1620941e",
   "metadata": {},
   "outputs": [
    {
     "name": "stdout",
     "output_type": "stream",
     "text": [
      "ADOS_COMM\n",
      "                            OLS Regression Results                            \n",
      "==============================================================================\n",
      "Dep. Variable:                      y   R-squared:                       0.014\n",
      "Model:                            OLS   Adj. R-squared:                 -0.005\n",
      "Method:                 Least Squares   F-statistic:                    0.7197\n",
      "Date:                Sun, 30 Oct 2022   Prob (F-statistic):              0.674\n",
      "Time:                        22:11:12   Log-Likelihood:                -771.69\n",
      "No. Observations:                 411   AIC:                             1561.\n",
      "Df Residuals:                     402   BIC:                             1598.\n",
      "Df Model:                           8                                         \n",
      "Covariance Type:            nonrobust                                         \n",
      "==============================================================================\n",
      "                 coef    std err          t      P>|t|      [0.025      0.975]\n",
      "------------------------------------------------------------------------------\n",
      "const          3.4302      0.217     15.808      0.000       3.004       3.857\n",
      "x1             1.0891      1.929      0.565      0.573      -2.702       4.880\n",
      "x2            -1.4079      1.598     -0.881      0.379      -4.548       1.733\n",
      "x3            -2.6569      2.416     -1.100      0.272      -7.406       2.092\n",
      "x4             1.9491      1.533      1.271      0.204      -1.066       4.964\n",
      "x5             1.6790      2.134      0.787      0.432      -2.517       5.875\n",
      "x6            -2.3016      1.634     -1.408      0.160      -5.514       0.911\n",
      "x7            -1.2371      2.212     -0.559      0.576      -5.585       3.111\n",
      "x8             0.9306      1.541      0.604      0.546      -2.100       3.961\n",
      "==============================================================================\n",
      "Omnibus:                       16.742   Durbin-Watson:                   1.620\n",
      "Prob(Omnibus):                  0.000   Jarque-Bera (JB):               17.637\n",
      "Skew:                           0.483   Prob(JB):                     0.000148\n",
      "Kurtosis:                       3.308   Cond. No.                         39.7\n",
      "==============================================================================\n",
      "\n",
      "Notes:\n",
      "[1] Standard Errors assume that the covariance matrix of the errors is correctly specified.\n"
     ]
    }
   ],
   "source": [
    "#significance of coefficients for ados_comm\n",
    "print('ADOS_COMM')\n",
    "X_comm = X_use_comm.copy()\n",
    "Y_comm = Y_use_comm.copy()\n",
    "X_comm = sm.add_constant(X_comm)\n",
    "\n",
    "est_comm = sm.OLS(Y_comm, X_comm)\n",
    "est2_comm = est_comm.fit()\n",
    "print(est2_comm.summary())"
   ]
  },
  {
   "cell_type": "code",
   "execution_count": 77,
   "id": "a5050279-fe1a-47a0-ae05-62567b6e9055",
   "metadata": {},
   "outputs": [],
   "source": [
    "def plot_errorbar_from_table(est2_comm,labels):\n",
    "    coef_comm = est2_comm.params[1::]\n",
    "    ci_comm = est2_comm.conf_int()[1::,:]\n",
    "    ci_rel_comm = abs(np.vstack((coef_comm,coef_comm)).transpose() - ci_comm)\n",
    "    ci_rel_comm = ci_rel_comm.transpose()\n",
    "    xs_comm = np.arange(len(coef_comm))\n",
    "\n",
    "    plt.figure(figsize=(15,5))\n",
    "    plt.bar(xs_comm,coef_comm,color='silver')\n",
    "    plt.errorbar(xs_comm,coef_comm,ci_rel_comm,fmt='r ',capsize=10,ecolor='dimgrey')\n",
    "    plt.xticks(xs_comm,labels=labels);"
   ]
  },
  {
   "cell_type": "code",
   "execution_count": 78,
   "id": "8893fb04-d6e3-420f-8f8f-0840dce696fc",
   "metadata": {},
   "outputs": [
    {
     "data": {
      "text/plain": [
       "Text(0.5, 0, 'Gene')"
      ]
     },
     "execution_count": 78,
     "metadata": {},
     "output_type": "execute_result"
    },
    {
     "data": {
      "image/png": "[encoded data removed]",
      "text/plain": [
       "<Figure size 1080x360 with 1 Axes>"
      ]
     },
     "metadata": {
      "needs_background": "light"
     },
     "output_type": "display_data"
    }
   ],
   "source": [
    "plot_errorbar_from_table(est2_comm,labels)\n",
    "plt.title('Coefficient with Errorbar For ADOS_COMM',color='dimgrey')\n",
    "plt.ylabel('Correlation Coefficient',color='dimgrey')\n",
    "plt.xlabel('Gene',color='dimgrey')"
   ]
  },
  {
   "cell_type": "code",
   "execution_count": 79,
   "id": "5b53af8b-b2ae-4051-8f7c-96f73698ed6e",
   "metadata": {},
   "outputs": [
    {
     "name": "stdout",
     "output_type": "stream",
     "text": [
      "ADOS_SOCIAL\n",
      "                            OLS Regression Results                            \n",
      "==============================================================================\n",
      "Dep. Variable:                      y   R-squared:                       0.013\n",
      "Model:                            OLS   Adj. R-squared:                 -0.006\n",
      "Method:                 Least Squares   F-statistic:                    0.6880\n",
      "Date:                Sun, 30 Oct 2022   Prob (F-statistic):              0.702\n",
      "Time:                        22:12:31   Log-Likelihood:                -995.47\n",
      "No. Observations:                 412   AIC:                             2009.\n",
      "Df Residuals:                     403   BIC:                             2045.\n",
      "Df Model:                           8                                         \n",
      "Covariance Type:            nonrobust                                         \n",
      "==============================================================================\n",
      "                 coef    std err          t      P>|t|      [0.025      0.975]\n",
      "------------------------------------------------------------------------------\n",
      "const          7.1627      0.371     19.305      0.000       6.433       7.892\n",
      "x1            -0.5528      3.304     -0.167      0.867      -7.049       5.943\n",
      "x2            -1.9037      2.735     -0.696      0.487      -7.281       3.474\n",
      "x3            -1.4331      4.139     -0.346      0.729      -9.570       6.704\n",
      "x4             0.7794      2.628      0.297      0.767      -4.386       5.945\n",
      "x5             1.3520      3.643      0.371      0.711      -5.809       8.514\n",
      "x6             0.0146      2.799      0.005      0.996      -5.489       5.518\n",
      "x7            -2.8538      3.786     -0.754      0.451     -10.296       4.588\n",
      "x8             3.6562      2.639      1.385      0.167      -1.532       8.845\n",
      "==============================================================================\n",
      "Omnibus:                        4.110   Durbin-Watson:                   1.675\n",
      "Prob(Omnibus):                  0.128   Jarque-Bera (JB):                3.871\n",
      "Skew:                           0.183   Prob(JB):                        0.144\n",
      "Kurtosis:                       2.698   Cond. No.                         39.7\n",
      "==============================================================================\n",
      "\n",
      "Notes:\n",
      "[1] Standard Errors assume that the covariance matrix of the errors is correctly specified.\n"
     ]
    }
   ],
   "source": [
    "#significance of coefficients for ados_social\n",
    "print('ADOS_SOCIAL')\n",
    "X_social = X_use_social.copy()\n",
    "Y_social = Y_use_social.copy()\n",
    "X_social = sm.add_constant(X_social)\n",
    "\n",
    "est_social = sm.OLS(Y_social, X_social)\n",
    "est2_social = est_social.fit()\n",
    "print(est2_social.summary())"
   ]
  },
  {
   "cell_type": "code",
   "execution_count": 84,
   "id": "380eb128-1c6f-46ef-82b9-e590a2a3e46b",
   "metadata": {},
   "outputs": [],
   "source": [
    "def plot_errorbar_from_table(est2_social,labels):\n",
    "    coef_social = est2_social.params[1::]\n",
    "    ci_social = est2_social.conf_int()[1::,:]\n",
    "    ci_rel_social = abs(np.vstack((coef_social,coef_social)).transpose() - ci_social)\n",
    "    ci_rel_social = ci_rel_social.transpose()\n",
    "    xs_social = np.arange(len(coef_social))\n",
    "\n",
    "    plt.figure(figsize=(15,5))\n",
    "    plt.bar(xs_social,coef_social,color='powderblue')\n",
    "    plt.errorbar(xs_social,coef_social,ci_rel_social,fmt='r ',capsize=10,ecolor='midnightblue')\n",
    "    plt.xticks(xs_social,labels=labels);"
   ]
  },
  {
   "cell_type": "code",
   "execution_count": 86,
   "id": "beaeffa2-c724-430f-a7d1-b84f35916037",
   "metadata": {},
   "outputs": [
    {
     "data": {
      "text/plain": [
       "Text(0.5, 0, 'Gene')"
      ]
     },
     "execution_count": 86,
     "metadata": {},
     "output_type": "execute_result"
    },
    {
     "data": {
      "image/png": "[encoded data removed]",
      "text/plain": [
       "<Figure size 1080x360 with 1 Axes>"
      ]
     },
     "metadata": {
      "needs_background": "light"
     },
     "output_type": "display_data"
    }
   ],
   "source": [
    "plot_errorbar_from_table(est2_social,labels)\n",
    "plt.title('Coefficient with Errorbar For ADOS_SOCIAL',color='midnightblue')\n",
    "plt.ylabel('Correlation Coefficient',color='midnightblue')\n",
    "plt.xlabel('Gene',color='midnightblue')"
   ]
  },
  {
   "cell_type": "code",
   "execution_count": 87,
   "id": "567f5b1b-abf8-40af-b2d3-a30a310be18d",
   "metadata": {},
   "outputs": [
    {
     "name": "stdout",
     "output_type": "stream",
     "text": [
      "ADOS_RRB\n",
      "                            OLS Regression Results                            \n",
      "==============================================================================\n",
      "Dep. Variable:                      y   R-squared:                       0.041\n",
      "Model:                            OLS   Adj. R-squared:                  0.020\n",
      "Method:                 Least Squares   F-statistic:                     1.950\n",
      "Date:                Sun, 30 Oct 2022   Prob (F-statistic):             0.0517\n",
      "Time:                        22:13:16   Log-Likelihood:                -683.43\n",
      "No. Observations:                 375   AIC:                             1385.\n",
      "Df Residuals:                     366   BIC:                             1420.\n",
      "Df Model:                           8                                         \n",
      "Covariance Type:            nonrobust                                         \n",
      "==============================================================================\n",
      "                 coef    std err          t      P>|t|      [0.025      0.975]\n",
      "------------------------------------------------------------------------------\n",
      "const          1.6346      0.215      7.616      0.000       1.213       2.057\n",
      "x1            -3.4022      2.014     -1.689      0.092      -7.363       0.559\n",
      "x2             0.8074      1.582      0.510      0.610      -2.303       3.918\n",
      "x3            -4.0994      2.487     -1.649      0.100      -8.989       0.791\n",
      "x4             1.5401      1.576      0.977      0.329      -1.559       4.640\n",
      "x5            -1.9930      2.086     -0.956      0.340      -6.094       2.108\n",
      "x6             0.9501      1.654      0.574      0.566      -2.303       4.203\n",
      "x7             1.3243      2.233      0.593      0.553      -3.067       5.715\n",
      "x8             1.3929      1.570      0.887      0.376      -1.695       4.481\n",
      "==============================================================================\n",
      "Omnibus:                       56.508   Durbin-Watson:                   1.883\n",
      "Prob(Omnibus):                  0.000   Jarque-Bera (JB):               85.050\n",
      "Skew:                           0.953   Prob(JB):                     3.40e-19\n",
      "Kurtosis:                       4.346   Cond. No.                         41.8\n",
      "==============================================================================\n",
      "\n",
      "Notes:\n",
      "[1] Standard Errors assume that the covariance matrix of the errors is correctly specified.\n"
     ]
    }
   ],
   "source": [
    "#significance of coefficients for ados_rrb\n",
    "print('ADOS_RRB')\n",
    "X_rrb = X_use_rrb.copy()\n",
    "Y_rrb = Y_use_rrb.copy()\n",
    "X_rrb = sm.add_constant(X_rrb)\n",
    "\n",
    "est_rrb = sm.OLS(Y_rrb, X_rrb)\n",
    "est2_rrb = est_rrb.fit()\n",
    "print(est2_rrb.summary())"
   ]
  },
  {
   "cell_type": "code",
   "execution_count": 92,
   "id": "c65bab88-2c52-4964-b00f-0723b48a9ef3",
   "metadata": {},
   "outputs": [],
   "source": [
    "def plot_errorbar_from_table(est2_rrb,labels):\n",
    "    coef_rrb = est2_rrb.params[1::]\n",
    "    ci_rrb = est2_rrb.conf_int()[1::,:]\n",
    "    ci_rel_rrb = abs(np.vstack((coef_rrb,coef_rrb)).transpose() - ci_rrb)\n",
    "    ci_rel_rrb = ci_rel_rrb.transpose()\n",
    "    xs_rrb = np.arange(len(coef_rrb))\n",
    "\n",
    "    plt.figure(figsize=(15,5))\n",
    "    plt.bar(xs_rrb,coef_rrb,color='darkseagreen')\n",
    "    plt.errorbar(xs_rrb,coef_rrb,ci_rel_rrb,fmt='r ',capsize=10,ecolor='darkgreen')\n",
    "    plt.xticks(xs_rrb,labels=labels);"
   ]
  },
  {
   "cell_type": "code",
   "execution_count": 94,
   "id": "01d4fb52-962f-4c7d-88a0-d3b9dacd8553",
   "metadata": {},
   "outputs": [
    {
     "data": {
      "text/plain": [
       "Text(0.5, 0, 'Gene')"
      ]
     },
     "execution_count": 94,
     "metadata": {},
     "output_type": "execute_result"
    },
    {
     "data": {
      "image/png": "[encoded data removed]",
      "text/plain": [
       "<Figure size 1080x360 with 1 Axes>"
      ]
     },
     "metadata": {
      "needs_background": "light"
     },
     "output_type": "display_data"
    }
   ],
   "source": [
    "plot_errorbar_from_table(est2_rrb,labels)\n",
    "plt.title('Coefficient with Errorbar For ADOS_RRB',color='darkgreen')\n",
    "plt.ylabel('Correlation Coefficient',color='darkgreen')\n",
    "plt.xlabel('Gene',color='darkgreen')"
   ]
  },
  {
   "cell_type": "code",
   "execution_count": null,
   "id": "94e6ba55-0734-4a3a-b6ac-5f7d7d273b8d",
   "metadata": {},
   "outputs": [],
   "source": []
  }
 ],
 "metadata": {
  "kernelspec": {
   "display_name": "Python 3",
   "language": "python",
   "name": "python3"
  },
  "language_info": {
   "codemirror_mode": {
    "name": "ipython",
    "version": 3
   },
   "file_extension": ".py",
   "mimetype": "text/x-python",
   "name": "python",
   "nbconvert_exporter": "python",
   "pygments_lexer": "ipython3",
   "version": "3.8.8"
  }
 },
 "nbformat": 4,
 "nbformat_minor": 5
}
