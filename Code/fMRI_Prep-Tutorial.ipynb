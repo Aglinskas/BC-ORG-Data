{
 "cells": [
  {
   "cell_type": "code",
   "execution_count": null,
   "id": "d5a45cf0-6591-4ac8-ad7a-10ccc30e4b2b",
   "metadata": {},
   "outputs": [],
   "source": [
    "import pandas as pd\n",
    "import os\n",
    "import shutil\n",
    "import numpy as np\n",
    "from tqdm import tqdm\n",
    "import ants\n",
    "import nibabel as nib"
   ]
  },
  {
   "cell_type": "code",
   "execution_count": null,
   "id": "426f3691-550a-4fef-8c3b-b3e3ec5d7188",
   "metadata": {},
   "outputs": [],
   "source": [
    "#make txt file into csv\n",
    "read_file = pd.read_csv ('/mmfs1/data/pijarj/NDAR_BoldAnat10/image03.txt',delimiter='\\t')\n",
    "read_file.to_csv ('/mmfs1/data/pijarj/BC-ORG-Data/Data/image03.csv', index=0)"
   ]
  },
  {
   "cell_type": "code",
   "execution_count": null,
   "id": "0469c9e0-ddf5-4a1d-b3e2-4cfa9c439717",
   "metadata": {},
   "outputs": [],
   "source": [
    "#slice general csv into dataset\n",
    "df = pd.read_csv('image03.csv')\n",
    "study_name = 'Biomarkers of Developmental Trajectories and Treatment in ASD'\n",
    "study_df = df[df['collection_title']==study_name]\n",
    "study_df.to_csv('../Data/DS2026.csv')\n",
    "print(len(study_df))"
   ]
  },
  {
   "cell_type": "code",
   "execution_count": null,
   "id": "7f7a7155-0e13-4cc7-ad49-96b259c16cd5",
   "metadata": {},
   "outputs": [],
   "source": [
    "df = pd.read_csv('../Data/DS-2026.csv')\n",
    "df['is_nii_gz'] = [file.endswith('.nii.gz') for file in df['local_paths'].values]\n",
    "df = df[df['is_nii_gz']]"
   ]
  },
  {
   "cell_type": "code",
   "execution_count": null,
   "id": "61a988b0-1e30-4608-89d7-4dd961495785",
   "metadata": {},
   "outputs": [],
   "source": [
    "def safe_mkdir(path):\n",
    "    if not os.path.exists(path):\n",
    "        os.mkdir(path)\n",
    "    else:\n",
    "        pass"
   ]
  },
  {
   "cell_type": "code",
   "execution_count": null,
   "id": "eea4b3e3-2269-4f81-bb82-dde328f30cbd",
   "metadata": {},
   "outputs": [],
   "source": [
    "def write_json(data,filepath):\n",
    "    import json\n",
    "    with open(filepath, 'w') as outfile:\n",
    "        json.dump(data, outfile)"
   ]
  },
  {
   "cell_type": "code",
   "execution_count": null,
   "id": "7f4796b3-d375-41cd-bfc1-6391d5e48dcb",
   "metadata": {},
   "outputs": [],
   "source": [
    "#check for unique subjects with both func and anat\n",
    "study_df = pd.read_csv('DS-2026.csv')\n",
    "study_subjects = np.unique(study_df['subjectkey'].values)\n",
    "nsubjects = len(study_subjects)\n",
    "print(nsubjects)\n",
    "def check_has_anat_and_epi(sub):\n",
    "    sub_df = study_df.iloc[study_df['subjectkey'].values==sub]\n",
    "    fmri_idx = sub_df['scan_type'].values=='fMRI'\n",
    "    anat_idx = sub_df['scan_type'].values=='MR structural (T1)'\n",
    "    return fmri_idx.sum()>0 and anat_idx.sum()>0"
   ]
  },
  {
   "cell_type": "code",
   "execution_count": null,
   "id": "2035f839-2694-49e7-a475-a8c30721435f",
   "metadata": {},
   "outputs": [],
   "source": [
    "ndar_root = '/mmfs1/data/pijarj/NDAR_BoldAnat10/' \n",
    "bids_root = '/mmfs1/data/pijarj/'"
   ]
  },
  {
   "cell_type": "code",
   "execution_count": null,
   "id": "48b98356-f752-40ff-8f51-d17ab31022fb",
   "metadata": {},
   "outputs": [],
   "source": [
    "has_anat_and_epi = np.array([check_has_anat_and_epi(s) for s in study_subjects])"
   ]
  },
  {
   "cell_type": "code",
   "execution_count": null,
   "id": "71c8f2e6-e1c8-44ed-a64c-e11997bc3f87",
   "metadata": {},
   "outputs": [],
   "source": [
    "#find subjects with anat and func\n",
    "use_subjects = study_subjects[has_anat_and_epi]\n",
    "nsubjects = len(use_subjects)\n",
    "print(nsubjects)"
   ]
  },
  {
   "cell_type": "code",
   "execution_count": null,
   "id": "8eb2a4bc-46e6-4393-9c5b-6ff1624738cb",
   "metadata": {},
   "outputs": [],
   "source": [
    "# MAKE THE BIDS DIRECTORY\n",
    "safe_mkdir(os.path.join(bids_root,f'ds-2026'))\n",
    "for s in range(1,nsubjects+1):\n",
    "    safe_mkdir(os.path.join(bids_root,f'ds-2026',f'sub-{s:03d}'))\n",
    "    safe_mkdir(os.path.join(bids_root,f'ds-2026',f'sub-{s:03d}','func'))\n",
    "    safe_mkdir(os.path.join(bids_root,f'ds-2026',f'sub-{s:03d}','anat'))"
   ]
  },
  {
   "cell_type": "code",
   "execution_count": null,
   "id": "302de894-5238-4f49-88b8-51c7f4a92bbd",
   "metadata": {},
   "outputs": [],
   "source": [
    "#making local paths column\n",
    "df = pd.read_csv('DS2026.csv')\n",
    "n = len(df)\n",
    "#root = './image03/'\n",
    "root = os.path.expanduser('~/NDAR_BoldAnat10/image03/')\n",
    "local_paths = list()\n",
    "for i in tqdm(range(n)):\n",
    "    s3_path = df['image_file'].values[i]\n",
    "    splits = s3_path.split('/')[4::]\n",
    "    relative = '/'.join(splits)\n",
    "    local_path = os.path.join(root,relative)\n",
    "    assert os.path.exists(os.path.join(root,relative))\n",
    "    local_paths.append(local_path)\n",
    "df['local_paths'] = local_paths\n",
    "df.to_csv('DS-2026.csv',index=0)"
   ]
  },
  {
   "cell_type": "code",
   "execution_count": null,
   "id": "59f30a56-9724-40f1-a63d-c0c42c18f933",
   "metadata": {},
   "outputs": [],
   "source": [
    "#copy the subjects into folders\n",
    "s = 0\n",
    "sub = use_subjects[s]\n",
    "sub_df = study_df.iloc[study_df['subjectkey'].values==sub]\n",
    "fmri_idx = sub_df['scan_type'].values=='fMRI'\n",
    "anat_idx = sub_df['scan_type'].values=='MR structural (T1)'\n",
    "\n",
    "epi_fn = sub_df.iloc[fmri_idx]['local_paths'].values[0]\n",
    "anat_fn = sub_df.iloc[anat_idx]['local_paths'].values[0]\n",
    "\n",
    "epi_path = os.path.join(ndar_root,epi_fn[2::])\n",
    "anat_path = os.path.join(ndar_root,anat_fn[2::])\n",
    "\n",
    "epi_dest = os.path.join(bids_root,f'ds-2026',f'sub-{s+1:03d}','func',f'sub-{s+1:03d}_task-rest_bold.nii.gz')\n",
    "anat_dest = os.path.join(bids_root,f'ds-2026',f'sub-{s+1:03d}','anat',f'sub-{s+1:03d}_T1w.nii.gz')"
   ]
  },
  {
   "cell_type": "code",
   "execution_count": null,
   "id": "df7f6da3-ef3a-40b5-badc-17ccda8368eb",
   "metadata": {},
   "outputs": [],
   "source": [
    "for s in tqdm(range(0,nsubjects)):\n",
    "    sub = use_subjects[s]\n",
    "    sub_df = study_df.iloc[study_df['subjectkey'].values==sub]\n",
    "    fmri_idx = sub_df['scan_type'].values=='fMRI'\n",
    "    anat_idx = sub_df['scan_type'].values=='MR structural (T1)'\n",
    "\n",
    "    epi_fn = sub_df.iloc[fmri_idx]['local_paths'].values[0]\n",
    "    anat_fn = sub_df.iloc[anat_idx]['local_paths'].values[0]\n",
    "\n",
    "    #epi_path = os.path.join(ndar_root,epi_fn[1::])\n",
    "    #anat_path = os.path.join(ndar_root,anat_fn[1::])\n",
    "    \n",
    "    epi_path = os.path.join(ndar_root,epi_fn)\n",
    "    anat_path = os.path.join(ndar_root,anat_fn)\n",
    "\n",
    "    epi_dest = os.path.join(bids_root,f'ds-2026',f'sub-{s+1:03d}','func',f'sub-{s+1:03d}_task-rest_bold.nii.gz')\n",
    "    anat_dest = os.path.join(bids_root,f'ds-2026',f'sub-{s+1:03d}','anat',f'sub-{s+1:03d}_T1w.nii.gz')\n",
    "\n",
    "    t1 = ants.image_read(anat_path) \n",
    "    bold = ants.image_read(epi_path)\n",
    "\n",
    "    t1.to_filename(anat_dest)\n",
    "    bold.to_filename(epi_dest)\n",
    "\n",
    "    bold_json = {\"RepetitionTime\" : bold.spacing[-1],\n",
    "                \"TaskName\" : 'rest'}\n",
    "    write_json(bold_json,epi_dest.replace('.nii.gz','.json')) \n",
    "    im = nib.load(epi_dest)\n",
    "    header = im.header.copy()\n",
    "    header.set_xyzt_units(xyz='mm', t='sec')\n",
    "    nib.nifti1.Nifti1Image(im.get_fdata(), None, header=header).to_filename(epi_dest)\n",
    "    assert nib.load(epi_dest).header.get_xyzt_units()==('mm', 'sec'),'timing missing from header'"
   ]
  },
  {
   "cell_type": "code",
   "execution_count": null,
   "id": "5ba92b96-8e5d-4759-9513-081ba1d509c0",
   "metadata": {},
   "outputs": [],
   "source": [
    "import json\n",
    "data = {\n",
    "    \"Name\" : study_df[\"collection_title\"].values[0] ,\n",
    "    \"RepetitionTime\": 2.0,\n",
    "    \"SliceTiming\" : 2.0 ,\n",
    "    \"TaskName\" : \"taskrest\" ,\n",
    "    \"BIDSVersion\" : \"20.2.0\"}\n",
    "json_string = json.dumps(data)\n",
    "print(json_string)\n",
    "with open(os.path.join(bids_root,f'ds-2026','dataset_description.json'), 'w') as outfile:\n",
    "    json.dump(json_string, outfile)"
   ]
  }
 ],
 "metadata": {
  "kernelspec": {
   "display_name": "Python 3",
   "language": "python",
   "name": "python3"
  },
  "language_info": {
   "codemirror_mode": {
    "name": "ipython",
    "version": 3
   },
   "file_extension": ".py",
   "mimetype": "text/x-python",
   "name": "python",
   "nbconvert_exporter": "python",
   "pygments_lexer": "ipython3",
   "version": "3.8.8"
  }
 },
 "nbformat": 4,
 "nbformat_minor": 5
}
