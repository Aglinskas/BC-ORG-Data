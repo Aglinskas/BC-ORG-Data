{
 "cells": [
  {
   "cell_type": "code",
   "execution_count": 1,
   "id": "104576eb",
   "metadata": {},
   "outputs": [],
   "source": [
    "import numpy as np\n",
    "import pandas as pd"
   ]
  },
  {
   "cell_type": "code",
   "execution_count": 2,
   "id": "d2ccb035",
   "metadata": {},
   "outputs": [],
   "source": [
    "df = pd.read_csv('../Data/general_csv.csv') #grab master list"
   ]
  },
  {
   "cell_type": "code",
   "execution_count": 50,
   "id": "04f6b128",
   "metadata": {},
   "outputs": [
    {
     "data": {
      "text/html": [
       "<div>\n",
       "<style scoped>\n",
       "    .dataframe tbody tr th:only-of-type {\n",
       "        vertical-align: middle;\n",
       "    }\n",
       "\n",
       "    .dataframe tbody tr th {\n",
       "        vertical-align: top;\n",
       "    }\n",
       "\n",
       "    .dataframe thead th {\n",
       "        text-align: right;\n",
       "    }\n",
       "</style>\n",
       "<table border=\"1\" class=\"dataframe\">\n",
       "  <thead>\n",
       "    <tr style=\"text-align: right;\">\n",
       "      <th></th>\n",
       "      <th>Unnamed: 0</th>\n",
       "      <th>collection_id</th>\n",
       "      <th>image03_id</th>\n",
       "      <th>dataset_id</th>\n",
       "      <th>subjectkey</th>\n",
       "      <th>src_subject_id</th>\n",
       "      <th>interview_age</th>\n",
       "      <th>sex</th>\n",
       "      <th>comments_misc</th>\n",
       "      <th>image_file</th>\n",
       "      <th>...</th>\n",
       "      <th>experiment_description</th>\n",
       "      <th>visit</th>\n",
       "      <th>slice_timing</th>\n",
       "      <th>bvek_bval_files</th>\n",
       "      <th>deviceserialnumber</th>\n",
       "      <th>procdate</th>\n",
       "      <th>visnum</th>\n",
       "      <th>manifest</th>\n",
       "      <th>collection_title</th>\n",
       "      <th>local_paths</th>\n",
       "    </tr>\n",
       "  </thead>\n",
       "  <tbody>\n",
       "    <tr>\n",
       "      <th>0</th>\n",
       "      <td>1</td>\n",
       "      <td>2075</td>\n",
       "      <td>367948</td>\n",
       "      <td>9786</td>\n",
       "      <td>NDARAV510ZB5</td>\n",
       "      <td>1108</td>\n",
       "      <td>107</td>\n",
       "      <td>M</td>\n",
       "      <td>NaN</td>\n",
       "      <td>s3://NDAR_Central_1/submission_10916/TNAD-x-21...</td>\n",
       "      <td>...</td>\n",
       "      <td>NaN</td>\n",
       "      <td>NaN</td>\n",
       "      <td>NaN</td>\n",
       "      <td>NaN</td>\n",
       "      <td>NaN</td>\n",
       "      <td>NaN</td>\n",
       "      <td>NaN</td>\n",
       "      <td>NaN</td>\n",
       "      <td>Mapping Thalamocortical Networks Across Develo...</td>\n",
       "      <td>./image03/TNAD-x-212988-x-212988-x-501-d0203.n...</td>\n",
       "    </tr>\n",
       "    <tr>\n",
       "      <th>1</th>\n",
       "      <td>2</td>\n",
       "      <td>2075</td>\n",
       "      <td>367949</td>\n",
       "      <td>9786</td>\n",
       "      <td>NDARCZ285AMD</td>\n",
       "      <td>1147</td>\n",
       "      <td>218</td>\n",
       "      <td>F</td>\n",
       "      <td>NaN</td>\n",
       "      <td>s3://NDAR_Central_1/submission_10916/TNAD-x-21...</td>\n",
       "      <td>...</td>\n",
       "      <td>NaN</td>\n",
       "      <td>NaN</td>\n",
       "      <td>NaN</td>\n",
       "      <td>NaN</td>\n",
       "      <td>NaN</td>\n",
       "      <td>NaN</td>\n",
       "      <td>NaN</td>\n",
       "      <td>NaN</td>\n",
       "      <td>Mapping Thalamocortical Networks Across Develo...</td>\n",
       "      <td>./image03/TNAD-x-214064-x-214064-x-501-d0203.n...</td>\n",
       "    </tr>\n",
       "    <tr>\n",
       "      <th>2</th>\n",
       "      <td>3</td>\n",
       "      <td>2075</td>\n",
       "      <td>367950</td>\n",
       "      <td>9786</td>\n",
       "      <td>NDARVM585CF7</td>\n",
       "      <td>1179</td>\n",
       "      <td>287</td>\n",
       "      <td>M</td>\n",
       "      <td>NaN</td>\n",
       "      <td>s3://NDAR_Central_1/submission_10916/TNAD-x-21...</td>\n",
       "      <td>...</td>\n",
       "      <td>NaN</td>\n",
       "      <td>NaN</td>\n",
       "      <td>NaN</td>\n",
       "      <td>NaN</td>\n",
       "      <td>NaN</td>\n",
       "      <td>NaN</td>\n",
       "      <td>NaN</td>\n",
       "      <td>NaN</td>\n",
       "      <td>Mapping Thalamocortical Networks Across Develo...</td>\n",
       "      <td>./image03/TNAD-x-212797-x-212797-x-501-d0203.n...</td>\n",
       "    </tr>\n",
       "    <tr>\n",
       "      <th>3</th>\n",
       "      <td>4</td>\n",
       "      <td>2075</td>\n",
       "      <td>367951</td>\n",
       "      <td>9786</td>\n",
       "      <td>NDARXK457KEY</td>\n",
       "      <td>1232</td>\n",
       "      <td>427</td>\n",
       "      <td>M</td>\n",
       "      <td>NaN</td>\n",
       "      <td>s3://NDAR_Central_1/submission_10916/TNAD-x-21...</td>\n",
       "      <td>...</td>\n",
       "      <td>NaN</td>\n",
       "      <td>NaN</td>\n",
       "      <td>NaN</td>\n",
       "      <td>NaN</td>\n",
       "      <td>NaN</td>\n",
       "      <td>NaN</td>\n",
       "      <td>NaN</td>\n",
       "      <td>NaN</td>\n",
       "      <td>Mapping Thalamocortical Networks Across Develo...</td>\n",
       "      <td>./image03/TNAD-x-215614-x-215614-x-501-d0203.n...</td>\n",
       "    </tr>\n",
       "    <tr>\n",
       "      <th>4</th>\n",
       "      <td>5</td>\n",
       "      <td>2075</td>\n",
       "      <td>367952</td>\n",
       "      <td>9786</td>\n",
       "      <td>NDARJG780VAV</td>\n",
       "      <td>1323</td>\n",
       "      <td>241</td>\n",
       "      <td>M</td>\n",
       "      <td>NaN</td>\n",
       "      <td>s3://NDAR_Central_1/submission_10916/TNAD-x-21...</td>\n",
       "      <td>...</td>\n",
       "      <td>NaN</td>\n",
       "      <td>NaN</td>\n",
       "      <td>NaN</td>\n",
       "      <td>NaN</td>\n",
       "      <td>NaN</td>\n",
       "      <td>NaN</td>\n",
       "      <td>NaN</td>\n",
       "      <td>NaN</td>\n",
       "      <td>Mapping Thalamocortical Networks Across Develo...</td>\n",
       "      <td>./image03/TNAD-x-212467-x-212467-x-501-d0203.n...</td>\n",
       "    </tr>\n",
       "  </tbody>\n",
       "</table>\n",
       "<p>5 rows × 75 columns</p>\n",
       "</div>"
      ],
      "text/plain": [
       "   Unnamed: 0  collection_id  image03_id  dataset_id    subjectkey  \\\n",
       "0           1           2075      367948        9786  NDARAV510ZB5   \n",
       "1           2           2075      367949        9786  NDARCZ285AMD   \n",
       "2           3           2075      367950        9786  NDARVM585CF7   \n",
       "3           4           2075      367951        9786  NDARXK457KEY   \n",
       "4           5           2075      367952        9786  NDARJG780VAV   \n",
       "\n",
       "  src_subject_id  interview_age sex comments_misc  \\\n",
       "0           1108            107   M           NaN   \n",
       "1           1147            218   F           NaN   \n",
       "2           1179            287   M           NaN   \n",
       "3           1232            427   M           NaN   \n",
       "4           1323            241   M           NaN   \n",
       "\n",
       "                                          image_file  ...  \\\n",
       "0  s3://NDAR_Central_1/submission_10916/TNAD-x-21...  ...   \n",
       "1  s3://NDAR_Central_1/submission_10916/TNAD-x-21...  ...   \n",
       "2  s3://NDAR_Central_1/submission_10916/TNAD-x-21...  ...   \n",
       "3  s3://NDAR_Central_1/submission_10916/TNAD-x-21...  ...   \n",
       "4  s3://NDAR_Central_1/submission_10916/TNAD-x-21...  ...   \n",
       "\n",
       "  experiment_description visit  slice_timing bvek_bval_files  \\\n",
       "0                    NaN   NaN           NaN             NaN   \n",
       "1                    NaN   NaN           NaN             NaN   \n",
       "2                    NaN   NaN           NaN             NaN   \n",
       "3                    NaN   NaN           NaN             NaN   \n",
       "4                    NaN   NaN           NaN             NaN   \n",
       "\n",
       "  deviceserialnumber procdate visnum manifest  \\\n",
       "0                NaN      NaN    NaN      NaN   \n",
       "1                NaN      NaN    NaN      NaN   \n",
       "2                NaN      NaN    NaN      NaN   \n",
       "3                NaN      NaN    NaN      NaN   \n",
       "4                NaN      NaN    NaN      NaN   \n",
       "\n",
       "                                    collection_title  \\\n",
       "0  Mapping Thalamocortical Networks Across Develo...   \n",
       "1  Mapping Thalamocortical Networks Across Develo...   \n",
       "2  Mapping Thalamocortical Networks Across Develo...   \n",
       "3  Mapping Thalamocortical Networks Across Develo...   \n",
       "4  Mapping Thalamocortical Networks Across Develo...   \n",
       "\n",
       "                                         local_paths  \n",
       "0  ./image03/TNAD-x-212988-x-212988-x-501-d0203.n...  \n",
       "1  ./image03/TNAD-x-214064-x-214064-x-501-d0203.n...  \n",
       "2  ./image03/TNAD-x-212797-x-212797-x-501-d0203.n...  \n",
       "3  ./image03/TNAD-x-215614-x-215614-x-501-d0203.n...  \n",
       "4  ./image03/TNAD-x-212467-x-212467-x-501-d0203.n...  \n",
       "\n",
       "[5 rows x 75 columns]"
      ]
     },
     "execution_count": 50,
     "metadata": {},
     "output_type": "execute_result"
    }
   ],
   "source": [
    "df.head(5)"
   ]
  },
  {
   "cell_type": "code",
   "execution_count": 4,
   "id": "4141024d",
   "metadata": {},
   "outputs": [],
   "source": [
    "unique_studies = np.unique(df['collection_title'].values,return_counts=False)\n",
    "nu = len(unique_studies)\n",
    "counts = [len(np.unique(df['subjectkey'].values[df['collection_title'].values==unique_studies[i]])) for i in range(nu)]\n",
    "collection_ids = [df[df['collection_title']==unique_studies[i]]['collection_id'].values[0] for i in range(nu)]\n",
    "I = np.argsort(counts)[::-1]"
   ]
  },
  {
   "cell_type": "code",
   "execution_count": 5,
   "id": "0a0b577e",
   "metadata": {},
   "outputs": [
    {
     "name": "stdout",
     "output_type": "stream",
     "text": [
      "N=355 | ID=2955 | 1/3 Brain Function and Genetics in Pediatric Obsessive-Compulsive Behaviors\n",
      "N=123 | ID=2400 | Atypical Late Neurodevelopment in Autism: A Longitudinal Clinical Phenotype and Multimodal Brain Imaging Study\n",
      "N=109 | ID=2021 | Multimodal Developmental Neurogenetics of Females with ASD\n",
      "N=97 | ID=2908 | The contribution of aberrant anticipatory processing to spectrum depression and mania, and cognitive and emotional dysfunction in major depressive and bipolar disorders\n",
      "N=90 | ID=2342 | Cognitive and Neural Flexibility in Autism\n",
      "N=69 | ID=2155 | Multimodal Treatment Study of Children With ADHD\n",
      "N=66 | ID=2590 | Using complex video stimuli to elucidate atypical brain functioning in ASD\n",
      "N=66 | ID=2075 | Mapping Thalamocortical Networks Across Development in ASD\n",
      "N=56 | ID=2417 | The Neurobiology of Social Decision-Making\n",
      "N=48 | ID=2923 | Social Processes Initiative in Neurobiology of Autism-spectrum and Schizophrenia-spectrum Disorders(SPIN-ASD)\n",
      "N=40 | ID=2026 | Biomarkers of Developmental Trajectories and Treatment in ASD\n",
      "N=38 | ID=2025 | Minimally Verbal ASD: From Basic Mechanisms to Innovative Interventions\n",
      "N=28 | ID=2072 | Intrinsic Brain Architecture of Young Children with Autism While Awake and Asleep\n",
      "N=25 | ID=2358 | Neural networks for attention to internal and external sensory cues in ASD\n",
      "N=13 | ID=1904 | Functional Neuroimaging of Attention in Autism\n",
      "N=8 | ID=2916 | Trajectories of treatment response as window into the heterogeneity of psychosis: a longitudinal multimodal imaging study in medication-naieve first episode psychosis patients\n",
      "N=7 | ID=2286 | FMRI and EEG approaches to the resting state in ASD\n",
      "N=3 | ID=2393 | Fear extinction and sleep across the spectrum of severity in post-traumatic hyperarousal\n",
      "N=2 | ID=2432 | Modulation of ventrolateral prefrontal cortical activity during reward processing by transcranial direct current stimulation\n",
      "N=2 | ID=2979 | Interaction of sleep disturbance and anxiety symptoms in the neural and psychophysiological responses to fear conditioning and extinction in Generalized Anxiety Disorder\n",
      "N=2 | ID=2402 | Whole Brain Functional Connectivity Measures of Attention\n",
      "N=1 | ID=2895 | Neural Circuitry of Valence Flexibility across Development\n",
      "N=1 | ID=2737 | Imaging-guided tDCS therapy in major depression\n",
      "N=1 | ID=2862 | FAST-PS Biomarker assessment of pomaglumetad on glutamate targets: proof of clinical mechanism of action (POCM)\n"
     ]
    }
   ],
   "source": [
    "for i in range(nu):\n",
    "    print(f'N={counts[I[i]]} | ID={collection_ids[I[i]]} | {unique_studies[I[i]]}')"
   ]
  },
  {
   "cell_type": "code",
   "execution_count": null,
   "id": "43bdf11e",
   "metadata": {},
   "outputs": [],
   "source": []
  },
  {
   "cell_type": "code",
   "execution_count": null,
   "id": "915bae02",
   "metadata": {},
   "outputs": [],
   "source": []
  },
  {
   "cell_type": "code",
   "execution_count": 6,
   "id": "c4d5d4da",
   "metadata": {},
   "outputs": [],
   "source": [
    "local_paths = df['local_paths'].values\n",
    "#sum([local_path.endswith('.nii.gz') for local_path in local_paths])\n",
    "has_nii = np.array([local_path.endswith('.nii.gz') for local_path in local_paths])\n",
    "df = df.loc[has_nii]"
   ]
  },
  {
   "cell_type": "code",
   "execution_count": 7,
   "id": "448fc629",
   "metadata": {},
   "outputs": [
    {
     "name": "stdout",
     "output_type": "stream",
     "text": [
      "['MR structural (MPRAGE)' 'MR structural (T1)' 'MR structural (T2)' 'fMRI'\n",
      " 'single-shell DTI']\n"
     ]
    }
   ],
   "source": [
    "print(np.unique(df['scan_type'].values))\n",
    "struct_names = ['MR structural (MPRAGE)','MR structural (T1)']\n",
    "func_names = ['fMRI']"
   ]
  },
  {
   "cell_type": "code",
   "execution_count": 8,
   "id": "f4a59e44",
   "metadata": {},
   "outputs": [],
   "source": [
    "has_struct = df['scan_type'].isin(struct_names).values\n",
    "has_func = df['scan_type'].isin(func_names).values"
   ]
  },
  {
   "cell_type": "code",
   "execution_count": 9,
   "id": "c3433315",
   "metadata": {},
   "outputs": [
    {
     "data": {
      "text/plain": [
       "(85,)"
      ]
     },
     "execution_count": 9,
     "metadata": {},
     "output_type": "execute_result"
    }
   ],
   "source": [
    "subs_w_anat = np.unique(df['subjectkey'].iloc[has_struct].values)\n",
    "subs_w_anat.shape"
   ]
  },
  {
   "cell_type": "code",
   "execution_count": 10,
   "id": "6b0ac8d1",
   "metadata": {},
   "outputs": [
    {
     "data": {
      "text/plain": [
       "(770,)"
      ]
     },
     "execution_count": 10,
     "metadata": {},
     "output_type": "execute_result"
    }
   ],
   "source": [
    "subs_w_func = np.unique(df['subjectkey'].iloc[has_func].values)\n",
    "subs_w_func.shape"
   ]
  },
  {
   "cell_type": "code",
   "execution_count": 11,
   "id": "6b65a2b9",
   "metadata": {},
   "outputs": [],
   "source": [
    "u,c = np.unique(np.hstack((subs_w_anat,subs_w_func)),return_counts=True)"
   ]
  },
  {
   "cell_type": "code",
   "execution_count": 12,
   "id": "20cfd6fb",
   "metadata": {},
   "outputs": [],
   "source": [
    "subs_w_both = u[(c==2)]"
   ]
  },
  {
   "cell_type": "code",
   "execution_count": 32,
   "id": "44e32301",
   "metadata": {},
   "outputs": [
    {
     "data": {
      "text/html": [
       "<div>\n",
       "<style scoped>\n",
       "    .dataframe tbody tr th:only-of-type {\n",
       "        vertical-align: middle;\n",
       "    }\n",
       "\n",
       "    .dataframe tbody tr th {\n",
       "        vertical-align: top;\n",
       "    }\n",
       "\n",
       "    .dataframe thead th {\n",
       "        text-align: right;\n",
       "    }\n",
       "</style>\n",
       "<table border=\"1\" class=\"dataframe\">\n",
       "  <thead>\n",
       "    <tr style=\"text-align: right;\">\n",
       "      <th></th>\n",
       "      <th>Unnamed: 0</th>\n",
       "      <th>collection_id</th>\n",
       "      <th>image03_id</th>\n",
       "      <th>dataset_id</th>\n",
       "      <th>subjectkey</th>\n",
       "      <th>src_subject_id</th>\n",
       "      <th>interview_age</th>\n",
       "      <th>sex</th>\n",
       "      <th>comments_misc</th>\n",
       "      <th>image_file</th>\n",
       "      <th>...</th>\n",
       "      <th>experiment_description</th>\n",
       "      <th>visit</th>\n",
       "      <th>slice_timing</th>\n",
       "      <th>bvek_bval_files</th>\n",
       "      <th>deviceserialnumber</th>\n",
       "      <th>procdate</th>\n",
       "      <th>visnum</th>\n",
       "      <th>manifest</th>\n",
       "      <th>collection_title</th>\n",
       "      <th>local_paths</th>\n",
       "    </tr>\n",
       "  </thead>\n",
       "  <tbody>\n",
       "    <tr>\n",
       "      <th>13</th>\n",
       "      <td>14</td>\n",
       "      <td>2075</td>\n",
       "      <td>367961</td>\n",
       "      <td>9786</td>\n",
       "      <td>NDARXC788GNZ</td>\n",
       "      <td>1441</td>\n",
       "      <td>251</td>\n",
       "      <td>F</td>\n",
       "      <td>NaN</td>\n",
       "      <td>s3://NDAR_Central_1/submission_10916/TNAD-x-21...</td>\n",
       "      <td>...</td>\n",
       "      <td>NaN</td>\n",
       "      <td>NaN</td>\n",
       "      <td>NaN</td>\n",
       "      <td>NaN</td>\n",
       "      <td>NaN</td>\n",
       "      <td>NaN</td>\n",
       "      <td>NaN</td>\n",
       "      <td>NaN</td>\n",
       "      <td>Mapping Thalamocortical Networks Across Develo...</td>\n",
       "      <td>./image03/TNAD-x-214882-x-214882-x-501-d0203.n...</td>\n",
       "    </tr>\n",
       "    <tr>\n",
       "      <th>1771</th>\n",
       "      <td>1772</td>\n",
       "      <td>2072</td>\n",
       "      <td>440421</td>\n",
       "      <td>10609</td>\n",
       "      <td>NDARUJ264GM0</td>\n",
       "      <td>642</td>\n",
       "      <td>93</td>\n",
       "      <td>M</td>\n",
       "      <td>scanned when subject was awake</td>\n",
       "      <td>s3://NDAR_Central_2/submission_11529/image_dat...</td>\n",
       "      <td>...</td>\n",
       "      <td>NaN</td>\n",
       "      <td>NaN</td>\n",
       "      <td>NaN</td>\n",
       "      <td>NaN</td>\n",
       "      <td>NaN</td>\n",
       "      <td>NaN</td>\n",
       "      <td>NaN</td>\n",
       "      <td>NaN</td>\n",
       "      <td>Intrinsic Brain Architecture of Young Children...</td>\n",
       "      <td>./image03/image_data_2016/NDARUJ264GM0_mprage_...</td>\n",
       "    </tr>\n",
       "  </tbody>\n",
       "</table>\n",
       "<p>2 rows × 75 columns</p>\n",
       "</div>"
      ],
      "text/plain": [
       "      Unnamed: 0  collection_id  image03_id  dataset_id    subjectkey  \\\n",
       "13            14           2075      367961        9786  NDARXC788GNZ   \n",
       "1771        1772           2072      440421       10609  NDARUJ264GM0   \n",
       "\n",
       "     src_subject_id  interview_age sex                   comments_misc  \\\n",
       "13             1441            251   F                             NaN   \n",
       "1771            642             93   M  scanned when subject was awake   \n",
       "\n",
       "                                             image_file  ...  \\\n",
       "13    s3://NDAR_Central_1/submission_10916/TNAD-x-21...  ...   \n",
       "1771  s3://NDAR_Central_2/submission_11529/image_dat...  ...   \n",
       "\n",
       "     experiment_description visit  slice_timing bvek_bval_files  \\\n",
       "13                      NaN   NaN           NaN             NaN   \n",
       "1771                    NaN   NaN           NaN             NaN   \n",
       "\n",
       "     deviceserialnumber procdate visnum manifest  \\\n",
       "13                  NaN      NaN    NaN      NaN   \n",
       "1771                NaN      NaN    NaN      NaN   \n",
       "\n",
       "                                       collection_title  \\\n",
       "13    Mapping Thalamocortical Networks Across Develo...   \n",
       "1771  Intrinsic Brain Architecture of Young Children...   \n",
       "\n",
       "                                            local_paths  \n",
       "13    ./image03/TNAD-x-214882-x-214882-x-501-d0203.n...  \n",
       "1771  ./image03/image_data_2016/NDARUJ264GM0_mprage_...  \n",
       "\n",
       "[2 rows x 75 columns]"
      ]
     },
     "execution_count": 32,
     "metadata": {},
     "output_type": "execute_result"
    }
   ],
   "source": [
    "df_both = df.iloc[df['subjectkey'].isin(subs_w_both).values]\n",
    "df_both.head(2)"
   ]
  },
  {
   "cell_type": "code",
   "execution_count": 42,
   "id": "bfbb1de5",
   "metadata": {},
   "outputs": [],
   "source": [
    "unique_studies = np.unique(df_both['collection_title'].values,return_counts=False)"
   ]
  },
  {
   "cell_type": "code",
   "execution_count": 48,
   "id": "89e16264",
   "metadata": {},
   "outputs": [
    {
     "data": {
      "text/plain": [
       "26"
      ]
     },
     "execution_count": 48,
     "metadata": {},
     "output_type": "execute_result"
    }
   ],
   "source": [
    "len(np.unique(df_both.iloc[df_both['collection_title'].values==unique_studies[0]]['subjectkey'].values))"
   ]
  },
  {
   "cell_type": "code",
   "execution_count": 49,
   "id": "60fa9816",
   "metadata": {},
   "outputs": [
    {
     "data": {
      "text/plain": [
       "50"
      ]
     },
     "execution_count": 49,
     "metadata": {},
     "output_type": "execute_result"
    }
   ],
   "source": [
    "len(np.unique(df_both.iloc[df_both['collection_title'].values==unique_studies[1]]['subjectkey'].values))"
   ]
  },
  {
   "cell_type": "code",
   "execution_count": null,
   "id": "606e7dd4",
   "metadata": {},
   "outputs": [],
   "source": []
  },
  {
   "cell_type": "code",
   "execution_count": null,
   "id": "ce22119d",
   "metadata": {},
   "outputs": [],
   "source": []
  },
  {
   "cell_type": "code",
   "execution_count": null,
   "id": "22388aab",
   "metadata": {},
   "outputs": [],
   "source": []
  },
  {
   "cell_type": "code",
   "execution_count": null,
   "id": "93859b98",
   "metadata": {},
   "outputs": [],
   "source": []
  },
  {
   "cell_type": "code",
   "execution_count": null,
   "id": "066c006c",
   "metadata": {},
   "outputs": [],
   "source": []
  },
  {
   "cell_type": "code",
   "execution_count": null,
   "id": "2ae11ca6",
   "metadata": {},
   "outputs": [],
   "source": []
  },
  {
   "cell_type": "code",
   "execution_count": null,
   "id": "278ad6b1",
   "metadata": {},
   "outputs": [],
   "source": []
  },
  {
   "cell_type": "code",
   "execution_count": null,
   "id": "fbbd3e55",
   "metadata": {},
   "outputs": [],
   "source": []
  },
  {
   "cell_type": "code",
   "execution_count": null,
   "id": "a1e4fb95",
   "metadata": {},
   "outputs": [],
   "source": []
  },
  {
   "cell_type": "code",
   "execution_count": null,
   "id": "87b52d2c",
   "metadata": {},
   "outputs": [],
   "source": []
  },
  {
   "cell_type": "code",
   "execution_count": null,
   "id": "3c3db86b",
   "metadata": {},
   "outputs": [],
   "source": []
  },
  {
   "cell_type": "code",
   "execution_count": null,
   "id": "dfbdb7da",
   "metadata": {},
   "outputs": [],
   "source": []
  },
  {
   "cell_type": "code",
   "execution_count": 20,
   "id": "ab236758",
   "metadata": {},
   "outputs": [
    {
     "name": "stdout",
     "output_type": "stream",
     "text": [
      "Wed Mar  2 15:06:52 EST 2022\n"
     ]
    }
   ],
   "source": [
    "!date"
   ]
  },
  {
   "cell_type": "code",
   "execution_count": null,
   "id": "a3b1170e",
   "metadata": {},
   "outputs": [],
   "source": []
  },
  {
   "cell_type": "code",
   "execution_count": null,
   "id": "7e70d35b",
   "metadata": {},
   "outputs": [],
   "source": []
  }
 ],
 "metadata": {
  "kernelspec": {
   "display_name": "Python 3",
   "language": "python",
   "name": "python3"
  },
  "language_info": {
   "codemirror_mode": {
    "name": "ipython",
    "version": 3
   },
   "file_extension": ".py",
   "mimetype": "text/x-python",
   "name": "python",
   "nbconvert_exporter": "python",
   "pygments_lexer": "ipython3",
   "version": "3.8.5"
  }
 },
 "nbformat": 4,
 "nbformat_minor": 5
}
