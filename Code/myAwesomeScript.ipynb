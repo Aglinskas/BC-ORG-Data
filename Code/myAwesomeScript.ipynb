{
 "cells": [
  {
   "cell_type": "code",
   "execution_count": null,
   "id": "1a0294d6-2405-431b-a59f-76213062b17d",
   "metadata": {},
   "outputs": [],
   "source": [
    "import sys"
   ]
  },
  {
   "cell_type": "code",
   "execution_count": null,
   "id": "dbcfdcfe-1c4d-42b4-acae-4e23c7964902",
   "metadata": {},
   "outputs": [],
   "source": [
    "args = sys.argv"
   ]
  },
  {
   "cell_type": "code",
   "execution_count": null,
   "id": "01174c50-17a8-4918-b674-95b5ecf20429",
   "metadata": {},
   "outputs": [],
   "source": [
    "scrip_name = sys.argv[0]\n",
    "study_name = sys.argv[1]\n",
    "subject_id = sys.argv[2]"
   ]
  },
  {
   "cell_type": "code",
   "execution_count": null,
   "id": "8c086067-3d9f-45bd-9794-6da0add1b576",
   "metadata": {},
   "outputs": [],
   "source": [
    "print(f'nane of this script is: {scrip_name}')\n",
    "print(f'study name is: {study_name}')\n",
    "print(f'subject number is: {subject_id}'"
   ]
  }
 ],
 "metadata": {
  "kernelspec": {
   "display_name": "Python 3",
   "language": "python",
   "name": "python3"
  },
  "language_info": {
   "codemirror_mode": {
    "name": "ipython",
    "version": 3
   },
   "file_extension": ".py",
   "mimetype": "text/x-python",
   "name": "python",
   "nbconvert_exporter": "python",
   "pygments_lexer": "ipython3",
   "version": "3.8.8"
  }
 },
 "nbformat": 4,
 "nbformat_minor": 5
}
