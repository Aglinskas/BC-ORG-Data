{
 "cells": [
  {
   "cell_type": "code",
   "execution_count": 58,
   "id": "62cd72bc-750c-41af-84af-bc3861afd3a8",
   "metadata": {},
   "outputs": [],
   "source": [
    "import pandas as pd\n",
    "import os\n",
    "import shutil\n",
    "import numpy as np\n",
    "from tqdm import tqdm\n",
    "import ants\n",
    "import nibabel as nib"
   ]
  },
  {
   "cell_type": "code",
   "execution_count": 2,
   "id": "21fe8420-729f-40b2-a5a1-bd14250c0f75",
   "metadata": {},
   "outputs": [],
   "source": [
    "read_file = pd.read_csv ('/mmfs1/data/pijarj/NDAR_BoldAnat10/dataset_collection.txt',delimiter='\\t')\n",
    "read_file.to_csv ('/mmfs1/data/pijarj/BC-ORG-Data/Data/dataset_collection.csv', index=0)"
   ]
  },
  {
   "cell_type": "code",
   "execution_count": 3,
   "id": "462bd34a-226a-45c3-83f0-4b4f576e277e",
   "metadata": {},
   "outputs": [],
   "source": [
    "read_file = pd.read_csv ('/mmfs1/data/pijarj/NDAR_BoldAnat10/datastructure_manifest.txt',delimiter='\\t')\n",
    "read_file.to_csv ('/mmfs1/data/pijarj/BC-ORG-Data/Data/datastructure_manifest.csv', index=0)"
   ]
  },
  {
   "cell_type": "code",
   "execution_count": 4,
   "id": "e21acf09-a23d-490a-8285-fec657134ff7",
   "metadata": {},
   "outputs": [
    {
     "name": "stderr",
     "output_type": "stream",
     "text": [
      "/data/pijarj/anaconda3/lib/python3.8/site-packages/IPython/core/interactiveshell.py:3165: DtypeWarning:\n",
      "\n",
      "Columns (0,1,2,4,6,8,10,11,12,13,14,15,21,22,23,24,25,26,27,28,29,30,31,32,33,34,35,36,37,38,39,40,41,42,43,44,45,46,47,48,49,50,51,52,53,54,55,56,57,58,59,60,61,62,63,64,65,66,67,68,69,70,71,72,73,74,75,76,77) have mixed types.Specify dtype option on import or set low_memory=False.\n",
      "\n"
     ]
    }
   ],
   "source": [
    "read_file = pd.read_csv ('/mmfs1/data/pijarj/NDAR_BoldAnat10/dfr01.txt',delimiter='\\t')\n",
    "read_file.to_csv ('/mmfs1/data/pijarj/BC-ORG-Data/Data/dfr01.csv', index=0)"
   ]
  },
  {
   "cell_type": "code",
   "execution_count": 5,
   "id": "043c676e-a17c-44fd-b07c-0cd379c7593e",
   "metadata": {},
   "outputs": [],
   "source": [
    "read_file = pd.read_csv ('/mmfs1/data/pijarj/NDAR_BoldAnat10/emgsf01.txt',delimiter='\\t')\n",
    "read_file.to_csv ('/mmfs1/data/pijarj/BC-ORG-Data/Data/emgsf01.csv', index=0)"
   ]
  },
  {
   "cell_type": "code",
   "execution_count": 6,
   "id": "adfc02fa-3b23-4aff-8c9a-9f4c9ac25452",
   "metadata": {},
   "outputs": [
    {
     "name": "stderr",
     "output_type": "stream",
     "text": [
      "/data/pijarj/anaconda3/lib/python3.8/site-packages/IPython/core/interactiveshell.py:3165: DtypeWarning:\n",
      "\n",
      "Columns (0,1,2,6,10,12,23,24,25,34,35,36,37,38,39,41,42,47,48,49,50,51,52,53,56,57,58,59,60,61,62,63,64,65,66,68,71,76,77,78,79,80,81,82,83,84,85,86,87,88,89,90,91,92,93,94,95,96,97,98,99,100,101,102,103,104,105,106,107,108,109,110) have mixed types.Specify dtype option on import or set low_memory=False.\n",
      "\n"
     ]
    }
   ],
   "source": [
    "read_file = pd.read_csv ('/mmfs1/data/pijarj/NDAR_BoldAnat10/image03.txt',delimiter='\\t')\n",
    "read_file.to_csv ('/mmfs1/data/pijarj/BC-ORG-Data/Data/image03.csv', index=0)"
   ]
  },
  {
   "cell_type": "code",
   "execution_count": 7,
   "id": "040a2d9c-844c-4e9a-934a-e6310fdac1bb",
   "metadata": {},
   "outputs": [],
   "source": [
    "read_file = pd.read_csv ('/mmfs1/data/pijarj/NDAR_BoldAnat10/imaging_qa01.txt',delimiter='\\t')\n",
    "read_file.to_csv ('/mmfs1/data/pijarj/BC-ORG-Data/Data/imaging_qa01.csv', index=0)"
   ]
  },
  {
   "cell_type": "code",
   "execution_count": 8,
   "id": "9d928151-9755-4982-b343-c2e754cbd4da",
   "metadata": {},
   "outputs": [],
   "source": [
    "read_file = pd.read_csv ('/mmfs1/data/pijarj/NDAR_BoldAnat10/mri_scalar01.txt',delimiter='\\t')\n",
    "read_file.to_csv ('/mmfs1/data/pijarj/BC-ORG-Data/Data/mri_scalar01.csv', index=0)"
   ]
  },
  {
   "cell_type": "code",
   "execution_count": 12,
   "id": "3fe45860-a850-4d06-aff3-01c3c6c99732",
   "metadata": {},
   "outputs": [
    {
     "data": {
      "text/plain": [
       "array(['collection_id', '2105'], dtype=object)"
      ]
     },
     "execution_count": 12,
     "metadata": {},
     "output_type": "execute_result"
    }
   ],
   "source": [
    "df = pd.read_csv('emgsf01.csv')\n",
    "df['collection_id'].unique()"
   ]
  },
  {
   "cell_type": "code",
   "execution_count": 16,
   "id": "d455bf02-0932-4f0d-b057-64b9aa0ce7a1",
   "metadata": {},
   "outputs": [
    {
     "name": "stdout",
     "output_type": "stream",
     "text": [
      "86\n",
      "114\n"
     ]
    }
   ],
   "source": [
    "df = pd.read_csv('image03.csv')\n",
    "print(len(df['collection_title'].unique()))\n",
    "print(len(df['collection_id'].unique()))"
   ]
  },
  {
   "cell_type": "code",
   "execution_count": 17,
   "id": "b0550551-7152-48d6-8a96-96e3e8cb9d98",
   "metadata": {},
   "outputs": [
    {
     "name": "stdout",
     "output_type": "stream",
     "text": [
      "8031\n"
     ]
    }
   ],
   "source": [
    "study_subjects = np.unique(df['subjectkey'].values)\n",
    "nsubjects = len(study_subjects)\n",
    "print(nsubjects)"
   ]
  },
  {
   "cell_type": "code",
   "execution_count": 18,
   "id": "b10d2a35-7bb7-4f51-bea6-f3b337368bfb",
   "metadata": {},
   "outputs": [
    {
     "name": "stdout",
     "output_type": "stream",
     "text": [
      "['Type of Scan' 'MR structural (T1)' 'MR structural (MPRAGE)' 'fMRI'\n",
      " 'MR diffusion' 'Field Map' 'multi-shell DTI' 'single-shell DTI'\n",
      " 'Localizer scan' 'pCASL: ASL' 'MR structural (T2)' '2D gradient echo'\n",
      " 'MR structural (B0 map)' 'MR structural (FSPGR)']\n"
     ]
    }
   ],
   "source": [
    "print(df['scan_type'].unique())"
   ]
  },
  {
   "cell_type": "code",
   "execution_count": 7,
   "id": "482dc8cb-ffb4-4414-90ad-a37e27e43180",
   "metadata": {},
   "outputs": [
    {
     "name": "stderr",
     "output_type": "stream",
     "text": [
      "/data/pijarj/anaconda3/lib/python3.8/site-packages/IPython/core/interactiveshell.py:3165: DtypeWarning:\n",
      "\n",
      "Columns (0,1,2,6,10,12,23,24,25,34,35,36,37,38,39,41,42,47,48,49,50,51,52,53,56,57,58,59,60,61,62,63,64,65,66,68,71,76,77,78,79,80,81,82,83,84,85,86,87,88,89,90,91,92,93,94,95,96,97,98,99,100,101,102,103,104,105,106,107,108,109,110) have mixed types.Specify dtype option on import or set low_memory=False.\n",
      "\n"
     ]
    },
    {
     "name": "stdout",
     "output_type": "stream",
     "text": [
      "135\n"
     ]
    }
   ],
   "source": [
    "df = pd.read_csv('image03.csv')\n",
    "study_name = 'Biomarkers of Developmental Trajectories and Treatment in ASD'\n",
    "study_df = df[df['collection_title']==study_name]\n",
    "study_df.to_csv('../Data/DS2026.csv')\n",
    "print(len(study_df))"
   ]
  },
  {
   "cell_type": "code",
   "execution_count": 20,
   "id": "e8e8d8d2-f8ad-4c68-87b9-1da7055279e5",
   "metadata": {},
   "outputs": [
    {
     "name": "stdout",
     "output_type": "stream",
     "text": [
      "['MR structural (T1)' 'fMRI']\n",
      "['MRI']\n",
      "['NIFTI']\n"
     ]
    }
   ],
   "source": [
    "print(study_df['scan_type'].unique())\n",
    "print(study_df['image_description'].unique())\n",
    "print(study_df['image_file_format'].unique())"
   ]
  },
  {
   "cell_type": "code",
   "execution_count": null,
   "id": "f2b687f4-e89f-4039-971f-dc2eddc017fc",
   "metadata": {},
   "outputs": [],
   "source": [
    "df = pd.read_csv('../Data/DS-2026.csv')\n",
    "df['is_nii_gz'] = [file.endswith('.nii.gz') for file in df['local_paths'].values]\n",
    "df = df[df['is_nii_gz']]"
   ]
  },
  {
   "cell_type": "code",
   "execution_count": 4,
   "id": "8724dbcb-6d9b-429d-b5b4-b1437133594f",
   "metadata": {
    "tags": []
   },
   "outputs": [],
   "source": [
    "def safe_mkdir(path):\n",
    "    if not os.path.exists(path):\n",
    "        os.mkdir(path)\n",
    "    else:\n",
    "        pass"
   ]
  },
  {
   "cell_type": "code",
   "execution_count": 5,
   "id": "b3f7407d-d2c8-4612-b1dd-b39e17dfce6b",
   "metadata": {},
   "outputs": [],
   "source": [
    "def write_json(data,filepath):\n",
    "    import json\n",
    "    with open(filepath, 'w') as outfile:\n",
    "        json.dump(data, outfile)"
   ]
  },
  {
   "cell_type": "code",
   "execution_count": 31,
   "id": "878f160c-e0d0-44ad-98da-7886fa6a586a",
   "metadata": {},
   "outputs": [
    {
     "name": "stdout",
     "output_type": "stream",
     "text": [
      "44\n"
     ]
    }
   ],
   "source": [
    "study_df = pd.read_csv('DS-2026.csv')\n",
    "study_subjects = np.unique(study_df['subjectkey'].values)\n",
    "nsubjects = len(study_subjects)\n",
    "print(nsubjects)\n",
    "def check_has_anat_and_epi(sub):\n",
    "    sub_df = study_df.iloc[study_df['subjectkey'].values==sub]\n",
    "    fmri_idx = sub_df['scan_type'].values=='fMRI'\n",
    "    anat_idx = sub_df['scan_type'].values=='MR structural (T1)'\n",
    "    return fmri_idx.sum()>0 and anat_idx.sum()>0"
   ]
  },
  {
   "cell_type": "code",
   "execution_count": 37,
   "id": "28578a7b-7dd7-4b5f-bdc4-953e8101deaf",
   "metadata": {
    "tags": []
   },
   "outputs": [],
   "source": [
    "ndar_root = '/mmfs1/data/pijarj/NDAR_BoldAnat10/' \n",
    "bids_root = '/mmfs1/data/pijarj/'"
   ]
  },
  {
   "cell_type": "code",
   "execution_count": 10,
   "id": "f01ad0c7-38aa-4934-a54b-06d8e7757a12",
   "metadata": {},
   "outputs": [],
   "source": [
    "has_anat_and_epi = np.array([check_has_anat_and_epi(s) for s in study_subjects])"
   ]
  },
  {
   "cell_type": "code",
   "execution_count": 28,
   "id": "ab2e1c18-23c3-4eee-84e6-2295181f1c12",
   "metadata": {},
   "outputs": [
    {
     "name": "stdout",
     "output_type": "stream",
     "text": [
      "43\n"
     ]
    }
   ],
   "source": [
    "use_subjects = study_subjects[has_anat_and_epi]\n",
    "nsubjects = len(use_subjects)\n",
    "print(nsubjects)"
   ]
  },
  {
   "cell_type": "code",
   "execution_count": 28,
   "id": "fbea912d-721c-4977-99bb-f8dfc21ff722",
   "metadata": {},
   "outputs": [],
   "source": [
    "# MAKE THE BIDS DIRECTORY\n",
    "safe_mkdir(os.path.join(bids_root,f'ds-2026'))\n",
    "for s in range(1,nsubjects+1):\n",
    "    safe_mkdir(os.path.join(bids_root,f'ds-2026',f'sub-{s:03d}'))\n",
    "    safe_mkdir(os.path.join(bids_root,f'ds-2026',f'sub-{s:03d}','func'))\n",
    "    safe_mkdir(os.path.join(bids_root,f'ds-2026',f'sub-{s:03d}','anat'))"
   ]
  },
  {
   "cell_type": "code",
   "execution_count": 29,
   "id": "a03aefe2-35c5-482d-a7a1-80bcded69ba5",
   "metadata": {
    "tags": []
   },
   "outputs": [
    {
     "name": "stderr",
     "output_type": "stream",
     "text": [
      "100%|██████████| 135/135 [00:00<00:00, 58003.59it/s]\n"
     ]
    }
   ],
   "source": [
    "#making local paths column\n",
    "df = pd.read_csv('DS2026.csv')\n",
    "n = len(df)\n",
    "#root = './image03/'\n",
    "root = os.path.expanduser('~/NDAR_BoldAnat10/image03/')\n",
    "local_paths = list()\n",
    "for i in tqdm(range(n)):\n",
    "    s3_path = df['image_file'].values[i]\n",
    "    splits = s3_path.split('/')[4::]\n",
    "    relative = '/'.join(splits)\n",
    "    local_path = os.path.join(root,relative)\n",
    "    assert os.path.exists(os.path.join(root,relative))\n",
    "    local_paths.append(local_path)\n",
    "df['local_paths'] = local_paths\n",
    "df.to_csv('DS-2026.csv',index=0)"
   ]
  },
  {
   "cell_type": "code",
   "execution_count": 19,
   "id": "d6a729cc-e603-4d34-a9d4-fb404a3aa7be",
   "metadata": {},
   "outputs": [
    {
     "data": {
      "text/plain": [
       "'/data/pijarj/NDAR_BoldAnat10/image03/Project4/Hires/ASD80C_CCN_Hires_new_RPI.nii.gz'"
      ]
     },
     "execution_count": 19,
     "metadata": {},
     "output_type": "execute_result"
    }
   ],
   "source": [
    "df['local_paths'].values[0]"
   ]
  },
  {
   "cell_type": "code",
   "execution_count": 20,
   "id": "12504faa-732a-42a4-a65c-82d6c5df9632",
   "metadata": {},
   "outputs": [
    {
     "data": {
      "text/plain": [
       "'s3://NDAR_Central_1/submission_9980/Project4/Hires/ASD80C_CCN_Hires_new_RPI.nii.gz'"
      ]
     },
     "execution_count": 20,
     "metadata": {},
     "output_type": "execute_result"
    }
   ],
   "source": [
    "df['image_file'].values[0]"
   ]
  },
  {
   "cell_type": "code",
   "execution_count": 32,
   "id": "031d5d0c-7f1d-4c87-b9ab-63bf76c17a3a",
   "metadata": {
    "tags": []
   },
   "outputs": [],
   "source": [
    "s = 0\n",
    "sub = use_subjects[s]\n",
    "sub_df = study_df.iloc[study_df['subjectkey'].values==sub]\n",
    "fmri_idx = sub_df['scan_type'].values=='fMRI'\n",
    "anat_idx = sub_df['scan_type'].values=='MR structural (T1)'\n",
    "\n",
    "epi_fn = sub_df.iloc[fmri_idx]['local_paths'].values[0]\n",
    "anat_fn = sub_df.iloc[anat_idx]['local_paths'].values[0]\n",
    "\n",
    "epi_path = os.path.join(ndar_root,epi_fn[2::])\n",
    "anat_path = os.path.join(ndar_root,anat_fn[2::])\n",
    "\n",
    "epi_dest = os.path.join(bids_root,f'ds-2026',f'sub-{s+1:03d}','func',f'sub-{s+1:03d}_task-rest_bold.nii.gz')\n",
    "anat_dest = os.path.join(bids_root,f'ds-2026',f'sub-{s+1:03d}','anat',f'sub-{s+1:03d}_T1w.nii.gz')"
   ]
  },
  {
   "cell_type": "code",
   "execution_count": 59,
   "id": "e1648676-ea37-4810-a864-00f773d07b96",
   "metadata": {},
   "outputs": [
    {
     "name": "stderr",
     "output_type": "stream",
     "text": [
      " 98%|█████████▊| 43/44 [09:56<00:13, 13.86s/it]\n"
     ]
    },
    {
     "ename": "IndexError",
     "evalue": "index 43 is out of bounds for axis 0 with size 43",
     "output_type": "error",
     "traceback": [
      "\u001b[0;31m---------------------------------------------------------------------------\u001b[0m",
      "\u001b[0;31mIndexError\u001b[0m                                Traceback (most recent call last)",
      "\u001b[0;32m<ipython-input-59-99b7379255f0>\u001b[0m in \u001b[0;36m<module>\u001b[0;34m\u001b[0m\n\u001b[1;32m      1\u001b[0m \u001b[0;32mfor\u001b[0m \u001b[0ms\u001b[0m \u001b[0;32min\u001b[0m \u001b[0mtqdm\u001b[0m\u001b[0;34m(\u001b[0m\u001b[0mrange\u001b[0m\u001b[0;34m(\u001b[0m\u001b[0;36m0\u001b[0m\u001b[0;34m,\u001b[0m\u001b[0mnsubjects\u001b[0m\u001b[0;34m)\u001b[0m\u001b[0;34m)\u001b[0m\u001b[0;34m:\u001b[0m\u001b[0;34m\u001b[0m\u001b[0;34m\u001b[0m\u001b[0m\n\u001b[0;32m----> 2\u001b[0;31m     \u001b[0msub\u001b[0m \u001b[0;34m=\u001b[0m \u001b[0muse_subjects\u001b[0m\u001b[0;34m[\u001b[0m\u001b[0ms\u001b[0m\u001b[0;34m]\u001b[0m\u001b[0;34m\u001b[0m\u001b[0;34m\u001b[0m\u001b[0m\n\u001b[0m\u001b[1;32m      3\u001b[0m     \u001b[0msub_df\u001b[0m \u001b[0;34m=\u001b[0m \u001b[0mstudy_df\u001b[0m\u001b[0;34m.\u001b[0m\u001b[0miloc\u001b[0m\u001b[0;34m[\u001b[0m\u001b[0mstudy_df\u001b[0m\u001b[0;34m[\u001b[0m\u001b[0;34m'subjectkey'\u001b[0m\u001b[0;34m]\u001b[0m\u001b[0;34m.\u001b[0m\u001b[0mvalues\u001b[0m\u001b[0;34m==\u001b[0m\u001b[0msub\u001b[0m\u001b[0;34m]\u001b[0m\u001b[0;34m\u001b[0m\u001b[0;34m\u001b[0m\u001b[0m\n\u001b[1;32m      4\u001b[0m     \u001b[0mfmri_idx\u001b[0m \u001b[0;34m=\u001b[0m \u001b[0msub_df\u001b[0m\u001b[0;34m[\u001b[0m\u001b[0;34m'scan_type'\u001b[0m\u001b[0;34m]\u001b[0m\u001b[0;34m.\u001b[0m\u001b[0mvalues\u001b[0m\u001b[0;34m==\u001b[0m\u001b[0;34m'fMRI'\u001b[0m\u001b[0;34m\u001b[0m\u001b[0;34m\u001b[0m\u001b[0m\n\u001b[1;32m      5\u001b[0m     \u001b[0manat_idx\u001b[0m \u001b[0;34m=\u001b[0m \u001b[0msub_df\u001b[0m\u001b[0;34m[\u001b[0m\u001b[0;34m'scan_type'\u001b[0m\u001b[0;34m]\u001b[0m\u001b[0;34m.\u001b[0m\u001b[0mvalues\u001b[0m\u001b[0;34m==\u001b[0m\u001b[0;34m'MR structural (T1)'\u001b[0m\u001b[0;34m\u001b[0m\u001b[0;34m\u001b[0m\u001b[0m\n",
      "\u001b[0;31mIndexError\u001b[0m: index 43 is out of bounds for axis 0 with size 43"
     ]
    }
   ],
   "source": [
    "for s in tqdm(range(0,nsubjects)):\n",
    "    sub = use_subjects[s]\n",
    "    sub_df = study_df.iloc[study_df['subjectkey'].values==sub]\n",
    "    fmri_idx = sub_df['scan_type'].values=='fMRI'\n",
    "    anat_idx = sub_df['scan_type'].values=='MR structural (T1)'\n",
    "\n",
    "    epi_fn = sub_df.iloc[fmri_idx]['local_paths'].values[0]\n",
    "    anat_fn = sub_df.iloc[anat_idx]['local_paths'].values[0]\n",
    "\n",
    "    #epi_path = os.path.join(ndar_root,epi_fn[1::])\n",
    "    #anat_path = os.path.join(ndar_root,anat_fn[1::])\n",
    "    \n",
    "    epi_path = os.path.join(ndar_root,epi_fn)\n",
    "    anat_path = os.path.join(ndar_root,anat_fn)\n",
    "\n",
    "    epi_dest = os.path.join(bids_root,f'ds-2026',f'sub-{s+1:03d}','func',f'sub-{s+1:03d}_task-rest_bold.nii.gz')\n",
    "    anat_dest = os.path.join(bids_root,f'ds-2026',f'sub-{s+1:03d}','anat',f'sub-{s+1:03d}_T1w.nii.gz')\n",
    "\n",
    "    t1 = ants.image_read(anat_path) \n",
    "    bold = ants.image_read(epi_path)\n",
    "\n",
    "    t1.to_filename(anat_dest)\n",
    "    bold.to_filename(epi_dest)\n",
    "\n",
    "    bold_json = {\"RepetitionTime\" : bold.spacing[-1],\n",
    "                \"TaskName\" : 'rest'}\n",
    "    write_json(bold_json,epi_dest.replace('.nii.gz','.json')) \n",
    "    im = nib.load(epi_dest)\n",
    "    header = im.header.copy()\n",
    "    header.set_xyzt_units(xyz='mm', t='sec')\n",
    "    nib.nifti1.Nifti1Image(im.get_fdata(), None, header=header).to_filename(epi_dest)\n",
    "    assert nib.load(epi_dest).header.get_xyzt_units()==('mm', 'sec'),'timing missing from header'"
   ]
  },
  {
   "cell_type": "code",
   "execution_count": 18,
   "id": "1ee8de70-69d7-4179-95f2-aa5b151fbf8e",
   "metadata": {},
   "outputs": [
    {
     "name": "stdout",
     "output_type": "stream",
     "text": [
      "{\"Name\": \"Biomarkers of Developmental Trajectories and Treatment in ASD\", \"RepetitionTime\": 2.0, \"SliceTiming\": 2.0, \"TaskName\": \"taskrest\", \"BIDSVersion\": \"20.2.0\"}\n"
     ]
    }
   ],
   "source": [
    "import json\n",
    "data = {\n",
    "    \"Name\" : study_df[\"collection_title\"].values[0] ,\n",
    "    \"RepetitionTime\": 2.0,\n",
    "    \"SliceTiming\" : 2.0 ,\n",
    "    \"TaskName\" : \"taskrest\" ,\n",
    "    \"BIDSVersion\" : \"20.2.0\"}\n",
    "json_string = json.dumps(data)\n",
    "print(json_string)\n",
    "with open(os.path.join(bids_root,f'ds-2026','dataset_description.json'), 'w') as outfile:\n",
    "    json.dump(json_string, outfile)"
   ]
  },
  {
   "cell_type": "code",
   "execution_count": 44,
   "id": "920a2c92-d28d-472d-b0fd-65f578ebd7e7",
   "metadata": {},
   "outputs": [
    {
     "data": {
      "text/plain": [
       "'/mmfs1/data/pijarj/NDAR_BoldAnat10/ata/pijarj/NDAR_BoldAnat10/image03/resting6min/IS345B_CCN_resting6min_new_RPI.nii.gz'"
      ]
     },
     "execution_count": 44,
     "metadata": {},
     "output_type": "execute_result"
    }
   ],
   "source": [
    "epi_path"
   ]
  },
  {
   "cell_type": "code",
   "execution_count": 50,
   "id": "4f7b6ecd-0004-4da7-b264-78cc5e181ccf",
   "metadata": {},
   "outputs": [
    {
     "data": {
      "text/plain": [
       "'data/pijarj/NDAR_BoldAnat10/image03/resting6min/IS345B_CCN_resting6min_new_RPI.nii.gz'"
      ]
     },
     "execution_count": 50,
     "metadata": {},
     "output_type": "execute_result"
    }
   ],
   "source": [
    "epi_fn[1::]"
   ]
  },
  {
   "cell_type": "code",
   "execution_count": 51,
   "id": "b514e904-e101-43fd-8e19-05f013336d16",
   "metadata": {},
   "outputs": [
    {
     "data": {
      "text/plain": [
       "'ata/pijarj/NDAR_BoldAnat10/image03/resting6min/IS345B_CCN_resting6min_new_RPI.nii.gz'"
      ]
     },
     "execution_count": 51,
     "metadata": {},
     "output_type": "execute_result"
    }
   ],
   "source": [
    "epi_fn[2::]"
   ]
  },
  {
   "cell_type": "code",
   "execution_count": 53,
   "id": "31389029-073b-4c47-9ece-79c32fb29bf3",
   "metadata": {},
   "outputs": [
    {
     "data": {
      "text/plain": [
       "'/data/pijarj/NDAR_BoldAnat10/image03/resting6min/IS345B_CCN_resting6min_new_RPI.nii.gz'"
      ]
     },
     "execution_count": 53,
     "metadata": {},
     "output_type": "execute_result"
    }
   ],
   "source": [
    "epi_fn"
   ]
  },
  {
   "cell_type": "code",
   "execution_count": 55,
   "id": "acd2e6e9-f37d-4915-b9d0-022c50cbc5b4",
   "metadata": {},
   "outputs": [
    {
     "data": {
      "text/plain": [
       "'/mmfs1/data/pijarj/ds-2026/sub-001/func/sub-001_task-rest_bold.nii.gz'"
      ]
     },
     "execution_count": 55,
     "metadata": {},
     "output_type": "execute_result"
    }
   ],
   "source": [
    "epi_dest"
   ]
  },
  {
   "cell_type": "code",
   "execution_count": null,
   "id": "9975b008-756d-4426-9de1-00a511fa2d9d",
   "metadata": {},
   "outputs": [],
   "source": []
  }
 ],
 "metadata": {
  "kernelspec": {
   "display_name": "Python 3",
   "language": "python",
   "name": "python3"
  },
  "language_info": {
   "codemirror_mode": {
    "name": "ipython",
    "version": 3
   },
   "file_extension": ".py",
   "mimetype": "text/x-python",
   "name": "python",
   "nbconvert_exporter": "python",
   "pygments_lexer": "ipython3",
   "version": "3.8.8"
  }
 },
 "nbformat": 4,
 "nbformat_minor": 5
}
