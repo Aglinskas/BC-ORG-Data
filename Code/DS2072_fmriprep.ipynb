{
 "cells": [
  {
   "cell_type": "code",
   "execution_count": 1,
   "id": "7af63aae-1c25-4afe-af57-fe290a30642e",
   "metadata": {},
   "outputs": [],
   "source": [
    "import pandas as pd\n",
    "import os\n",
    "import shutil\n",
    "import numpy as np\n",
    "from tqdm import tqdm\n",
    "import ants\n",
    "import nibabel as nib"
   ]
  },
  {
   "cell_type": "code",
   "execution_count": 14,
   "id": "ec6c0bf1-fd64-493e-9f36-de9564c6aa32",
   "metadata": {},
   "outputs": [],
   "source": [
    "df = pd.read_csv('../Data/DS2072.csv')\n",
    "df['is_nii_gz'] = [file.endswith('.nii.gz') for file in df['local_paths'].values]\n",
    "df = df[df['is_nii_gz']]"
   ]
  },
  {
   "cell_type": "code",
   "execution_count": 4,
   "id": "85822741-3755-47f5-8056-75bc67106935",
   "metadata": {},
   "outputs": [],
   "source": [
    "def safe_mkdir(path):\n",
    "    if not os.path.exists(path):\n",
    "        os.mkdir(path)\n",
    "    else:\n",
    "        pass"
   ]
  },
  {
   "cell_type": "code",
   "execution_count": 5,
   "id": "7c26cf0e-f89e-409a-91b2-37f05bb030aa",
   "metadata": {},
   "outputs": [],
   "source": [
    "def write_json(data,filepath):\n",
    "    import json\n",
    "    with open(filepath, 'w') as outfile:\n",
    "        json.dump(data, outfile)"
   ]
  },
  {
   "cell_type": "code",
   "execution_count": 15,
   "id": "f4aeb6f5-dd78-4f36-8119-98ffffa007fc",
   "metadata": {},
   "outputs": [],
   "source": [
    "study_name = 'Intrinsic Brain Architecture of Young Children with Autism While Awake and Asleep'\n",
    "study_df = df[df['collection_title']==study_name]"
   ]
  },
  {
   "cell_type": "code",
   "execution_count": 16,
   "id": "70c6f842-30f0-4f3a-a93e-ca962044f362",
   "metadata": {},
   "outputs": [],
   "source": [
    "study_subjects = np.unique(study_df['subjectkey'].values)\n",
    "nsubjects = len(study_subjects)"
   ]
  },
  {
   "cell_type": "code",
   "execution_count": 30,
   "id": "affe9941-c55e-45ac-9b93-909f32c92eaa",
   "metadata": {},
   "outputs": [],
   "source": [
    "ndar_root = '/mmfs1/data/pijarj/ndar_fmri/' \n",
    "bids_root = '/mmfs1/data/pijarj/'"
   ]
  },
  {
   "cell_type": "code",
   "execution_count": 24,
   "id": "b5b19753-3ca4-4f5d-bf7b-b324e3fc61a4",
   "metadata": {},
   "outputs": [],
   "source": [
    "def check_has_anat_and_epi(sub):\n",
    "    sub_df = study_df.iloc[study_df['subjectkey'].values==sub]\n",
    "    fmri_idx = sub_df['scan_type'].values=='fMRI'\n",
    "    anat_idx = sub_df['scan_type'].values=='MR structural (MPRAGE)'\n",
    "    return fmri_idx.sum()>0 and anat_idx.sum()>0"
   ]
  },
  {
   "cell_type": "code",
   "execution_count": 25,
   "id": "8569770e-262d-4acf-80a0-af145d15d88e",
   "metadata": {},
   "outputs": [],
   "source": [
    "has_anat_and_epi = np.array([check_has_anat_and_epi(s) for s in study_subjects])"
   ]
  },
  {
   "cell_type": "code",
   "execution_count": 26,
   "id": "4fb55969-38b8-4994-9425-3c8cfdacdb40",
   "metadata": {},
   "outputs": [
    {
     "name": "stdout",
     "output_type": "stream",
     "text": [
      "26\n"
     ]
    }
   ],
   "source": [
    "use_subjects = study_subjects[has_anat_and_epi]\n",
    "nsubjects = len(use_subjects)\n",
    "print(nsubjects)"
   ]
  },
  {
   "cell_type": "code",
   "execution_count": 28,
   "id": "3c0cc90e-e0be-4d8e-8583-3347446c9ef0",
   "metadata": {},
   "outputs": [],
   "source": [
    "s = 0\n",
    "sub = use_subjects[s]\n",
    "sub_df = study_df.iloc[study_df['subjectkey'].values==sub]\n",
    "fmri_idx = sub_df['scan_type'].values=='fMRI'\n",
    "anat_idx = sub_df['scan_type'].values=='MR structural (MPRAGE)'\n",
    "\n",
    "epi_fn = sub_df.iloc[fmri_idx]['local_paths'].values[0]\n",
    "anat_fn = sub_df.iloc[anat_idx]['local_paths'].values[0]\n",
    "\n",
    "epi_path = os.path.join(ndar_root,epi_fn[2::])\n",
    "anat_path = os.path.join(ndar_root,anat_fn[2::])\n",
    "\n",
    "epi_dest = os.path.join(bids_root,f'ds-{collection_id}',f'sub-{s+1:03d}','func',f'sub-{s+1:03d}_task-rest_bold.nii.gz')\n",
    "anat_dest = os.path.join(bids_root,f'ds-{collection_id}',f'sub-{s+1:03d}','anat',f'sub-{s+1:03d}_T1w.nii.gz')"
   ]
  },
  {
   "cell_type": "code",
   "execution_count": 31,
   "id": "539cc874-e8bd-4ecf-968a-cdb62421a2b4",
   "metadata": {},
   "outputs": [],
   "source": [
    "safe_mkdir(os.path.join(bids_root,f'ds-2072'))\n",
    "for s in range(1,nsubjects+1):\n",
    "    safe_mkdir(os.path.join(bids_root,f'ds-{collection_id}',f'sub-{s:03d}'))\n",
    "    safe_mkdir(os.path.join(bids_root,f'ds-{collection_id}',f'sub-{s:03d}','func'))\n",
    "    safe_mkdir(os.path.join(bids_root,f'ds-{collection_id}',f'sub-{s:03d}','anat'))"
   ]
  },
  {
   "cell_type": "code",
   "execution_count": 32,
   "id": "44f8c73a-0cc5-4217-9425-1d4ae763bcdc",
   "metadata": {},
   "outputs": [
    {
     "name": "stderr",
     "output_type": "stream",
     "text": [
      "100%|██████████| 26/26 [06:49<00:00, 15.74s/it]\n"
     ]
    }
   ],
   "source": [
    "for s in tqdm(range(0,nsubjects)):\n",
    "    sub = use_subjects[s]\n",
    "    sub_df = study_df.iloc[study_df['subjectkey'].values==sub]\n",
    "    fmri_idx = sub_df['scan_type'].values=='fMRI'\n",
    "    anat_idx = sub_df['scan_type'].values=='MR structural (MPRAGE)'\n",
    "\n",
    "    epi_fn = sub_df.iloc[fmri_idx]['local_paths'].values[0]\n",
    "    anat_fn = sub_df.iloc[anat_idx]['local_paths'].values[0]\n",
    "\n",
    "    epi_path = os.path.join(ndar_root,epi_fn[2::])\n",
    "    anat_path = os.path.join(ndar_root,anat_fn[2::])\n",
    "\n",
    "    epi_dest = os.path.join(bids_root,f'ds-2072',f'sub-{s+1:03d}','func',f'sub-{s+1:03d}_task-rest_bold.nii.gz')\n",
    "    anat_dest = os.path.join(bids_root,f'ds-2072',f'sub-{s+1:03d}','anat',f'sub-{s+1:03d}_T1w.nii.gz')\n",
    "\n",
    "    t1 = ants.image_read(anat_path) \n",
    "    bold = ants.image_read(epi_path)\n",
    "\n",
    "    t1.to_filename(anat_dest)\n",
    "    bold.to_filename(epi_dest)\n",
    "\n",
    "    bold_json = {\"RepetitionTime\" : bold.spacing[-1],\n",
    "                \"TaskName\" : 'rest'}\n",
    "    write_json(bold_json,epi_dest.replace('.nii.gz','.json')) \n",
    "    im = nib.load(epi_dest)\n",
    "    header = im.header.copy()\n",
    "    header.set_xyzt_units(xyz='mm', t='sec')\n",
    "    nib.nifti1.Nifti1Image(im.get_fdata(), None, header=header).to_filename(epi_dest)\n",
    "    assert nib.load(epi_dest).header.get_xyzt_units()==('mm', 'sec'),'timing missing from header'"
   ]
  },
  {
   "cell_type": "code",
   "execution_count": 1,
   "id": "533f307f-4af9-46f3-a0e7-bddcf7295ddc",
   "metadata": {},
   "outputs": [
    {
     "ename": "NameError",
     "evalue": "name 'study_df' is not defined",
     "output_type": "error",
     "traceback": [
      "\u001b[0;31m---------------------------------------------------------------------------\u001b[0m",
      "\u001b[0;31mNameError\u001b[0m                                 Traceback (most recent call last)",
      "\u001b[0;32m<ipython-input-1-3bc067678c99>\u001b[0m in \u001b[0;36m<module>\u001b[0;34m\u001b[0m\n\u001b[1;32m      1\u001b[0m \u001b[0;32mimport\u001b[0m \u001b[0mjson\u001b[0m\u001b[0;34m\u001b[0m\u001b[0;34m\u001b[0m\u001b[0m\n\u001b[1;32m      2\u001b[0m data = {\n\u001b[0;32m----> 3\u001b[0;31m     \u001b[0;34m\"Name\"\u001b[0m \u001b[0;34m:\u001b[0m \u001b[0mstudy_df\u001b[0m\u001b[0;34m[\u001b[0m\u001b[0;34m\"collection_title\"\u001b[0m\u001b[0;34m]\u001b[0m\u001b[0;34m.\u001b[0m\u001b[0mvalues\u001b[0m\u001b[0;34m[\u001b[0m\u001b[0;36m0\u001b[0m\u001b[0;34m]\u001b[0m \u001b[0;34m,\u001b[0m\u001b[0;34m\u001b[0m\u001b[0;34m\u001b[0m\u001b[0m\n\u001b[0m\u001b[1;32m      4\u001b[0m     \u001b[0;34m\"RepetitionTime\"\u001b[0m\u001b[0;34m:\u001b[0m \u001b[0;36m2.0\u001b[0m\u001b[0;34m,\u001b[0m\u001b[0;34m\u001b[0m\u001b[0;34m\u001b[0m\u001b[0m\n\u001b[1;32m      5\u001b[0m     \u001b[0;34m\"SliceTiming\"\u001b[0m \u001b[0;34m:\u001b[0m \u001b[0;36m2.0\u001b[0m \u001b[0;34m,\u001b[0m\u001b[0;34m\u001b[0m\u001b[0;34m\u001b[0m\u001b[0m\n",
      "\u001b[0;31mNameError\u001b[0m: name 'study_df' is not defined"
     ]
    }
   ],
   "source": [
    "import json\n",
    "data = {\n",
    "    \"Name\" : study_df[\"collection_title\"].values[0] ,\n",
    "    \"RepetitionTime\": 2.0,\n",
    "    \"SliceTiming\" : 2.0 ,\n",
    "    \"TaskName\" : \"taskrest\" ,\n",
    "    \"BIDSVersion\" : \"20.2.0\"}\n",
    "json_string = json.dumps(data)\n",
    "print(json_string)\n",
    "with open(os.path.join(bids_root,f'ds-2072','dataset_description.json'), 'w') as outfile:\n",
    "    json.dump(json_string, outfile)"
   ]
  },
  {
   "cell_type": "code",
   "execution_count": null,
   "id": "80482010-d847-4639-9d20-8ab4548021f6",
   "metadata": {},
   "outputs": [],
   "source": []
  },
  {
   "cell_type": "code",
   "execution_count": null,
   "id": "83e2bd78-5d23-4c03-b5b8-8b3aeb9a7198",
   "metadata": {},
   "outputs": [],
   "source": []
  },
  {
   "cell_type": "code",
   "execution_count": null,
   "id": "9de8870a-02d3-4125-9fe6-78defd04b472",
   "metadata": {},
   "outputs": [],
   "source": []
  }
 ],
 "metadata": {
  "kernelspec": {
   "display_name": "Python 3",
   "language": "python",
   "name": "python3"
  },
  "language_info": {
   "codemirror_mode": {
    "name": "ipython",
    "version": 3
   },
   "file_extension": ".py",
   "mimetype": "text/x-python",
   "name": "python",
   "nbconvert_exporter": "python",
   "pygments_lexer": "ipython3",
   "version": "3.8.8"
  }
 },
 "nbformat": 4,
 "nbformat_minor": 5
}
